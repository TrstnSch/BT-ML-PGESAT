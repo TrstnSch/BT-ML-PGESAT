{
 "cells": [
  {
   "cell_type": "code",
   "execution_count": null,
   "metadata": {},
   "outputs": [],
   "source": []
  },
  {
   "cell_type": "markdown",
   "metadata": {},
   "source": [
    "### Parameters Explainer"
   ]
  },
  {
   "cell_type": "code",
   "execution_count": null,
   "metadata": {},
   "outputs": [],
   "source": [
    "learning_rate_mlp = 0.003        #0.003 on ADAM\n",
    "coefficientSizeReg = 0.05\n",
    "entropyReg = 1\n",
    "epochs_mlp = 30\n",
    "\n",
    "temperature =  0        #???"
   ]
  },
  {
   "cell_type": "markdown",
   "metadata": {},
   "source": [
    "### Training Loop Explainer"
   ]
  },
  {
   "cell_type": "code",
   "execution_count": null,
   "metadata": {},
   "outputs": [],
   "source": [
    "# move training loop Explainer\n",
    "#mlp_optimizer = torch.optim.Adam(lr = learning_rate_mlp)\n",
    "\n",
    "\n",
    "\"\"\"for i in enumerate(adjs):\n",
    "    #out = gnn.forward(feas[i], adjs[i].nonzero().t().contiguous())\n",
    "\n",
    "for epoch in epochs_graphgnn:\n",
    "    for graph in adjs:\n",
    "        # calculate latent variables? MLP?\n",
    "        for k in # k in monte carlo sampling?!\n",
    "            # sammple graph\n",
    "            # pred label on sampled graph\n",
    "\n",
    "    # compute loss\n",
    "    # update params with backprop\"\"\""
   ]
  }
 ],
 "metadata": {
  "language_info": {
   "name": "python"
  }
 },
 "nbformat": 4,
 "nbformat_minor": 2
}
