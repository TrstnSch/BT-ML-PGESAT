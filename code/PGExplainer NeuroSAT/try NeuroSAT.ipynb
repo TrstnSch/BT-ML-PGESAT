{
 "cells": [
  {
   "cell_type": "code",
   "execution_count": 1,
   "metadata": {},
   "outputs": [],
   "source": [
    "import NeuroSAT\n",
    "import torch\n",
    "import pickle\n",
    "import explainer_NeuroSAT"
   ]
  },
  {
   "cell_type": "code",
   "execution_count": 2,
   "metadata": {},
   "outputs": [],
   "source": [
    "opts = {\n",
    "        'out_dir': '/Users/trist/Documents/Bachelor-Thesis/NeuroSAT/test/files/data/dataset_train_10',\n",
    "        'logging': '/Users/trist/Documents/Bachelor-Thesis/NeuroSAT/test/files/log/dataset_train_10.log',\n",
    "        'reals_dir': '/Users/trist/Documents/Bachelor-Thesis/NeuroSAT/test/files/data/dataset_train_8_size500_reals',\n",
    "        'gt_edges_per_problem': '/Users/trist/Documents/Bachelor-Thesis/NeuroSAT/test/files/data/dataset_train_8_size500_gt_edges_per_problem',\n",
    "        'n_pairs': 100,  # Anzahl der zu generierenden Paare\n",
    "        'min_n': 8,\n",
    "        'max_n': 8,\n",
    "        'p_k_2': 0.3,\n",
    "        'p_geo': 0.4,\n",
    "        'max_nodes_per_batch': 4000,\n",
    "        'one_pair': False,\n",
    "        'emb_dim': 128,\n",
    "        'iterations': 26,\n",
    "    }\n",
    "\n",
    "device = torch.device('cuda' if torch.cuda.is_available() else 'cpu')"
   ]
  },
  {
   "cell_type": "code",
   "execution_count": 2,
   "metadata": {},
   "outputs": [],
   "source": [
    "opts = {\n",
    "        'out_dir': '/Users/trist/Documents/Bachelor-Thesis/NeuroSAT/test/files/data/dataset_train_8_size500',\n",
    "        'logging': '/Users/trist/Documents/Bachelor-Thesis/NeuroSAT/test/files/log/dataset_train_8_size500.log',\n",
    "        'n_pairs': 20,  # Anzahl der zu generierenden Paare\n",
    "        'min_n': 8,\n",
    "        'max_n': 8,\n",
    "        'p_k_2': 0.3,\n",
    "        'p_geo': 0.4,\n",
    "        'max_nodes_per_batch': 500,\n",
    "        'one_pair': False,\n",
    "        'emb_dim': 128,\n",
    "        'iterations': 26,\n",
    "    }\n",
    "\n",
    "device = torch.device('cuda' if torch.cuda.is_available() else 'cpu')"
   ]
  },
  {
   "cell_type": "code",
   "execution_count": 3,
   "metadata": {},
   "outputs": [],
   "source": [
    "from torch_geometric import seed\n",
    "import utils\n",
    "import wandb\n",
    "import torch.nn.functional as fn\n",
    "from torcheval.metrics.functional import binary_auroc\n",
    "from collections import defaultdict\n",
    "\n",
    "\n",
    "def trainExplainer (datasetName, opts, save_model=False, wandb_project=\"Explainer-NeuroSAT\", runSeed=None) :\n",
    "    if runSeed is not None: seed.seed_everything(runSeed)\n",
    "    \n",
    "    device = torch.device('cuda' if torch.cuda.is_available() else 'cpu')\n",
    "    \n",
    "    # Check valid dataset name\n",
    "    configOG = utils.loadConfig(datasetName)\n",
    "    if configOG == -1:\n",
    "        return\n",
    "    \n",
    "    params = configOG['params']\n",
    "    graph_task = params['graph_task']\n",
    "    epochs = params['epochs']\n",
    "    t0 = params['t0']\n",
    "    tT = params['tT']\n",
    "    sampled_graphs = params['sampled_graphs']\n",
    "    coefficient_size_reg = params['coefficient_size_reg']\n",
    "    coefficient_entropy_reg = params['coefficient_entropy_reg']\n",
    "    coefficient_L2_reg = params['coefficient_L2_reg']\n",
    "    coefficient_consistency = params['coefficient_consistency']\n",
    "    num_explanation_edges = params['num_explanation_edges']\n",
    "    lr_mlp = params['lr_mlp']\n",
    "\n",
    "    wandb.init(project=wandb_project, config=params)\n",
    "\n",
    "    hidden_dim = 64 # Make loading possible\n",
    "    clip_grad_norm = 2 # Make loading possible\n",
    "    min_clip_value = -2\n",
    "    \n",
    "    with open(opts['out_dir'], 'rb') as file:\n",
    "        data = pickle.load(file)\n",
    "    \n",
    "    # TODO: Split data into train and test\n",
    "    # TODO: !!! each data consist of multiple problems !!! -> Extract singular problems for calculating the loss!\n",
    "    dataset = data\n",
    "    \n",
    "    eval_problem = data[-1]\n",
    "    \n",
    "    with open(opts['reals_dir'], 'rb') as file:\n",
    "        reals = pickle.load(file)\n",
    "        \n",
    "    with open(opts['gt_edges_per_problem'], 'rb') as file:\n",
    "        gt_edges_per_problem = pickle.load(file)\n",
    "    \n",
    "\n",
    "    downstreamTask = NeuroSAT.NeuroSAT(opts=opts,device=device)\n",
    "    checkpoint = torch.load(f\"models/neurosat_sr10to40_ep1024_nr26_d128_last.pth.tar\", weights_only=True, map_location=device)\n",
    "    downstreamTask.load_state_dict(checkpoint['state_dict'])\n",
    "\n",
    "    mlp = explainer_NeuroSAT.MLP_SAT(GraphTask=graph_task).to(device)\n",
    "    wandb.watch(mlp, log= \"all\", log_freq=2, log_graph=False)\n",
    "\n",
    "    mlp_optimizer = torch.optim.Adam(params = mlp.parameters(), lr = lr_mlp)\n",
    "\n",
    "    downstreamTask.eval()\n",
    "    for param in downstreamTask.parameters():\n",
    "        param.requires_grad = False\n",
    "\n",
    "\n",
    "    training_iterator = dataset\n",
    "    \n",
    "    for epoch in range(0, epochs) :\n",
    "        mlp.train()\n",
    "        mlp_optimizer.zero_grad()\n",
    "\n",
    "        temperature = t0*((tT/t0) ** ((epoch+1)/epochs))\n",
    "        \n",
    "        #sampledEdges = 0.0\n",
    "        #sumSampledEdges = 0.0\n",
    "        \n",
    "        #samplePredSum = 0\n",
    "\n",
    "        for index, content in enumerate(training_iterator):\n",
    "            # stop training before last batch, used for evaluation\n",
    "            if index == len(training_iterator)-2: break\n",
    "            # stop training after first batch\n",
    "            #if index > 0: break\n",
    "            node_to_predict = None\n",
    "            if graph_task: \n",
    "                # !! current_problem is really a batch of problems !!\n",
    "                current_problem = content\n",
    "\n",
    "            # MLP forward\n",
    "            # TODO: Implement embeddingCalculation for SAT\n",
    "            w_ij = mlp.forward(downstreamTask, current_problem, nodeToPred=node_to_predict)\n",
    "\n",
    "            sampleLoss = torch.FloatTensor([0]).to(device)\n",
    "            loss = torch.FloatTensor([0]).to(device)\n",
    "            \n",
    "            pOriginal, _, _, _ = downstreamTask.forward(current_problem)\n",
    "            pOriginal = fn.softmax(pOriginal, dim=0)\n",
    "            \n",
    "            #pOriginal = torch.tensor([1 - pOriginal, pOriginal])\n",
    "            \n",
    "            for k in range(0, sampled_graphs):\n",
    "                edge_ij = mlp.sampleGraph(w_ij, temperature)\n",
    "            \n",
    "                # TODO: softmax needed for loss, beacuse negative values do not work with log! Need for normalization?\n",
    "                pSample, _, _, _ = downstreamTask.forward(current_problem, edge_weights=edge_ij)\n",
    "                pSample = fn.softmax(pSample, dim=0)\n",
    "                #pSample = torch.tensor([1 - pSample, pSample])\n",
    "                \n",
    "                if graph_task:\n",
    "                    \"\"\"for sub_problem_idx in range(len(current_problem.is_sat)):\n",
    "                        # batch_mask needed to differentiate sub_problems in batch of problems for loss\n",
    "                        # batch_edges cannot simply be divided since sub_problems have different number of edges/clauses\n",
    "                        # IMPORTANT: batch_size and n variables dependant on data!!\n",
    "                        batch_mask = utils.get_batch_mask(torch.tensor(current_problem.batch_edges), sub_problem_idx, opts['min_n'], current_problem.n_variables)\n",
    "                        #(pOriginal[sub_problem_idx] >= 0.5).int()\n",
    "                        currLoss = mlp.loss(pOriginal[sub_problem_idx], pSample[sub_problem_idx], edge_ij[batch_mask], current_problem.batch_edges[batch_mask], coefficient_size_reg, coefficient_entropy_reg, coefficientConsistency=coefficient_consistency)\n",
    "                        sampleLoss.add_(currLoss)\"\"\"\n",
    "                    currLoss = mlp.loss(pOriginal, pSample, edge_ij, current_problem.batch_edges, coefficient_size_reg, coefficient_entropy_reg, coefficientConsistency=coefficient_consistency, bce=True)\n",
    "                    sampleLoss.add_(currLoss)\n",
    "                    \n",
    "\n",
    "            loss += sampleLoss / sampled_graphs\n",
    "            \n",
    "            #sumSampledEdges += sampledEdges / sampled_graphs\n",
    "\n",
    "        #print(samplePredSum)\n",
    "        \n",
    "        loss = loss / len(training_iterator)\n",
    "        loss.backward()\n",
    "        \n",
    "        mlp_optimizer.step()\n",
    "\n",
    "        print(f\"Epoch {epoch+1}, Loss: {loss.item()}\")\n",
    "\n",
    "        torch.nn.utils.clip_grad_norm_(mlp.parameters(), max_norm=clip_grad_norm)\n",
    "        \n",
    "        \"\"\"for param in mlp.parameters():\n",
    "            if param.grad is not None:\n",
    "                param.grad.data = torch.max(param.grad.data, min_clip_value * torch.ones_like(param.grad.data))\"\"\"\n",
    "\n",
    "        mlp.eval()\n",
    "        \n",
    "        \"\"\"if graph_task:\n",
    "            #TODO: Evaluation for SAT! Needs gt\n",
    "            meanAuc = evaluation.evaluateNeuroSATAUC(mlp, downstreamTask, data)\"\"\"\n",
    "        \n",
    "        # Calculate weights and prediction for all sub_problems in eval_problem\n",
    "        w_ij_eval = mlp.forward(downstreamTask, eval_problem, nodeToPred=node_to_predict)\n",
    "        edge_ij_eval = mlp.sampleGraph(w_ij_eval, temperature).detach()\n",
    "        #pSample_eval, _, _, _ = downstreamTask.forward(eval_problem, edge_weights=edge_ij_eval)\n",
    "        #pOriginal_eval, _, _, _ = downstreamTask.forward(eval_problem)\n",
    "        \n",
    "        auroc_list = []\n",
    "        \n",
    "        for current_batch_num in range(len(eval_problem.is_sat)):\n",
    "            # This can be repeated for each sub_problem\n",
    "            clauses_current_problem = eval_problem.get_clauses_for_problem(current_batch_num)\n",
    "\n",
    "            #print(f\"Length of sub_problem 0: {len(clauses_current_problem)}\")\n",
    "            # Sub problem 1 Contains literals 11-20, ...\n",
    "            #print(f\"Sub_problem 0 clauses: {clauses_current_problem}\")\n",
    "            \n",
    "            # Calculate mask for current sub_problem in eval_problem\n",
    "            eval_batch_mask = utils.get_batch_mask(torch.tensor(eval_problem.batch_edges), batch_idx=current_batch_num, batch_size=opts['min_n'], n_variables=eval_problem.n_variables)\n",
    "            \n",
    "            # Edge probabilites for current sub problem in eval_problems\n",
    "            edge_ij_eval_masked = edge_ij_eval[eval_batch_mask]\n",
    "            \n",
    "            sub_problem_edges = eval_problem.batch_edges[eval_batch_mask]\n",
    "            \n",
    "            #motif_size = len(gt_mask)\n",
    "            \n",
    "            curr_auroc = binary_auroc(edge_ij_eval_masked, reals[current_batch_num])\n",
    "            auroc_list.append(curr_auroc.item())\n",
    "            \n",
    "        \n",
    "        auroc_tensor = torch.tensor(auroc_list)\n",
    "        mean_auroc = auroc_tensor.mean()\n",
    "        if epoch == epochs-1:\n",
    "            highest_auroc_index = torch.argmax(auroc_tensor)\n",
    "            highest_mask = utils.get_batch_mask(torch.tensor(eval_problem.batch_edges), batch_idx=highest_auroc_index, batch_size=opts['min_n'], n_variables=eval_problem.n_variables)\n",
    "            highest_auroc = auroc_tensor[highest_auroc_index]\n",
    "            highest_edge_ij = edge_ij_eval[highest_mask]\n",
    "            highest_gt = reals[highest_auroc_index]\n",
    "            sub_problem_edges_highest = eval_problem.batch_edges[highest_mask]\n",
    "            \n",
    "            lowest_auroc_index = torch.argmin(auroc_tensor)\n",
    "            lowest_mask = utils.get_batch_mask(torch.tensor(eval_problem.batch_edges), batch_idx=lowest_auroc_index, batch_size=opts['min_n'], n_variables=eval_problem.n_variables)\n",
    "            lowest_auroc = auroc_tensor[lowest_auroc_index]\n",
    "            lowest_edge_ij = edge_ij_eval[lowest_mask]\n",
    "            lowest_gt = reals[lowest_auroc_index]\n",
    "            sub_problem_edges_lowest = eval_problem.batch_edges[lowest_mask]\n",
    "                \n",
    "        weights_eval_masked = w_ij_eval[eval_batch_mask]\n",
    "        print(f\"Edge weights for last sub_problem in last problem batch: {weights_eval_masked}\")\n",
    "        \n",
    "        print(f\"Edge probabilites for last sub_problem in last problem batch: {edge_ij_eval_masked}\")\n",
    "        \n",
    "        #print(f\"Prediction for sub_problem: {pOriginal_eval[0]}\")\n",
    "        #print(f\"Prediction for sampled sub_problem: {pSample_eval[0]}\")\n",
    "        \n",
    "        print(f\"mean auroc score: {mean_auroc}\")\n",
    "    \n",
    "\n",
    "        # TODO: VISUALIZE TOPK!\n",
    "        # print sub_problem 0 with calculated edge weights\n",
    "        if (epoch+1) % 5 == 0:\n",
    "            pos = utils.visualize_edge_index_interactive(sub_problem_edges, edge_ij_eval_masked, f\"results/replication/seed{runSeed}_vis_edge_ij_{epoch+1}\", topK=len(gt_edges_per_problem[-1]))\n",
    "        \n",
    "        \n",
    "        #sumSampledEdges = sumSampledEdges / len(training_iterator)\n",
    "        #, \"val/mean_AUC\": meanAuc\n",
    "        wandb.log({\"train/Loss\": loss, \"val/temperature\": temperature, \"val/auroc\": mean_auroc})\n",
    "\n",
    "        \"\"\"for name, param in mlp.named_parameters():\n",
    "            if param.requires_grad:\n",
    "                print(f\"{name}: {param.grad}\")\"\"\"\n",
    "        \n",
    "    # print sub_problem 0 with calculated edge weights\n",
    "    pos = utils.visualize_edge_index_interactive(sub_problem_edges, edge_ij_eval_masked, f\"results/replication/seed{runSeed}_vis_edge_ij_{epoch+1}\", topK=len(gt_edges_per_problem[-1]))\n",
    "    # print sub_problem 0 with gt\n",
    "    pos = utils.visualize_edge_index_interactive(sub_problem_edges, reals[-1], f\"results/replication/seed{runSeed}_vis_gt\", pos)\n",
    "    \n",
    "    # TODO: Show difference between topK edges and gt edges -> logical and on topK and gt, visualize\n",
    "    \n",
    "    sorted_weights, topk_indices_highest = torch.topk(highest_edge_ij, len(gt_edges_per_problem[highest_auroc_index]))\n",
    "    mask_topK_highest = torch.zeros_like(highest_edge_ij, dtype=torch.float32)\n",
    "    mask_topK_highest[topk_indices_highest] = 1\n",
    "    \n",
    "    common_edges_highest = torch.logical_and(highest_gt, mask_topK_highest.flatten())\n",
    "    print(f\"Highest individual auroc: {highest_auroc}\")\n",
    "    pos = utils.visualize_edge_index_interactive(sub_problem_edges_highest, highest_edge_ij, f\"results/replication/seed{runSeed}_highestAUC\", topK=len(gt_edges_per_problem[highest_auroc_index]))\n",
    "    pos = utils.visualize_edge_index_interactive(sub_problem_edges_highest, highest_gt, f\"results/replication/seed{runSeed}_highestAUC_gt\")\n",
    "    pos = utils.visualize_edge_index_interactive(sub_problem_edges_highest, common_edges_highest, f\"results/replication/seed{runSeed}_highestAUC_commonEdges\")\n",
    "    \n",
    "    # TO EVALUATE SATISFIABILITY OF EXPLANATION:\n",
    "    print(f\"Highest AUC example masked edges: {sub_problem_edges_highest[mask_topK_highest.bool()]}\")\n",
    "    \n",
    "    # Group literals by clause number\n",
    "    clause_dict = defaultdict(list)\n",
    "\n",
    "    for literal, clause in sub_problem_edges_highest[mask_topK_highest.bool()]:\n",
    "        literal = int(literal)\n",
    "        clause = int(clause)\n",
    "        if literal >= eval_problem.n_variables:\n",
    "            literal = -(literal - eval_problem.n_variables)\n",
    "        clause_dict[clause].append(literal)\n",
    "\n",
    "    # Convert to list of clauses (optional: sort by clause number)\n",
    "    clauses = list(clause_dict.values())\n",
    "    \n",
    "    print(clauses)\n",
    "    \n",
    "    \n",
    "    sorted_weights, topk_indices_lowest = torch.topk(lowest_edge_ij, len(gt_edges_per_problem[lowest_auroc_index]))\n",
    "    mask_topK_lowest = torch.zeros_like(lowest_edge_ij, dtype=torch.float32)\n",
    "    mask_topK_lowest[topk_indices_lowest] = 1\n",
    "    \n",
    "    common_edges_lowest = torch.logical_and(lowest_gt, mask_topK_lowest.flatten())\n",
    "    print(f\"Lowest individual auroc: {lowest_auroc}\")\n",
    "    pos = utils.visualize_edge_index_interactive(sub_problem_edges_lowest, lowest_edge_ij, f\"results/replication/seed{runSeed}_lowestAUC\", topK=len(gt_edges_per_problem[lowest_auroc_index]))\n",
    "    pos = utils.visualize_edge_index_interactive(sub_problem_edges_lowest, lowest_gt, f\"results/replication/seed{runSeed}_lowestAUC_gt\")\n",
    "    pos = utils.visualize_edge_index_interactive(sub_problem_edges_lowest, common_edges_lowest, f\"results/replication/seed{runSeed}_lowestAUC_commonEdges\")\n",
    "    \n",
    "        \n",
    "    #if save_model == \"True\":\n",
    "    #    torch.save(mlp.state_dict(), f\"models/explainer_{dataset}_{meanAuc}_{wandb.run.name}\")\n",
    "\n",
    "    wandb.finish()\n",
    "    \n",
    "    return mlp, downstreamTask"
   ]
  },
  {
   "cell_type": "code",
   "execution_count": 4,
   "metadata": {},
   "outputs": [],
   "source": [
    "datasetName=\"NeuroSAT\""
   ]
  },
  {
   "cell_type": "code",
   "execution_count": 5,
   "metadata": {},
   "outputs": [
    {
     "name": "stderr",
     "output_type": "stream",
     "text": [
      "\u001b[34m\u001b[1mwandb\u001b[0m: Using wandb-core as the SDK backend.  Please refer to https://wandb.me/wandb-core for more information.\n",
      "\u001b[34m\u001b[1mwandb\u001b[0m: Currently logged in as: \u001b[33mtristan-schulz2001\u001b[0m (\u001b[33mtristan-schulz2001-tu-dortmund\u001b[0m) to \u001b[32mhttps://api.wandb.ai\u001b[0m. Use \u001b[1m`wandb login --relogin`\u001b[0m to force relogin\n"
     ]
    },
    {
     "data": {
      "text/html": [
       "Tracking run with wandb version 0.19.8"
      ],
      "text/plain": [
       "<IPython.core.display.HTML object>"
      ]
     },
     "metadata": {},
     "output_type": "display_data"
    },
    {
     "data": {
      "text/html": [
       "Run data is saved locally in <code>c:\\Users\\trist\\Git_repos\\BT-ML-PGESAT\\code\\PGExplainer NeuroSAT\\wandb\\run-20250411_102646-dzolsuif</code>"
      ],
      "text/plain": [
       "<IPython.core.display.HTML object>"
      ]
     },
     "metadata": {},
     "output_type": "display_data"
    },
    {
     "data": {
      "text/html": [
       "Syncing run <strong><a href='https://wandb.ai/tristan-schulz2001-tu-dortmund/NeuroSAT-HARD-CONSTRAINT-HARD-SAMPLING/runs/dzolsuif' target=\"_blank\">lucky-star-5</a></strong> to <a href='https://wandb.ai/tristan-schulz2001-tu-dortmund/NeuroSAT-HARD-CONSTRAINT-HARD-SAMPLING' target=\"_blank\">Weights & Biases</a> (<a href='https://wandb.me/developer-guide' target=\"_blank\">docs</a>)<br>"
      ],
      "text/plain": [
       "<IPython.core.display.HTML object>"
      ]
     },
     "metadata": {},
     "output_type": "display_data"
    },
    {
     "data": {
      "text/html": [
       " View project at <a href='https://wandb.ai/tristan-schulz2001-tu-dortmund/NeuroSAT-HARD-CONSTRAINT-HARD-SAMPLING' target=\"_blank\">https://wandb.ai/tristan-schulz2001-tu-dortmund/NeuroSAT-HARD-CONSTRAINT-HARD-SAMPLING</a>"
      ],
      "text/plain": [
       "<IPython.core.display.HTML object>"
      ]
     },
     "metadata": {},
     "output_type": "display_data"
    },
    {
     "data": {
      "text/html": [
       " View run at <a href='https://wandb.ai/tristan-schulz2001-tu-dortmund/NeuroSAT-HARD-CONSTRAINT-HARD-SAMPLING/runs/dzolsuif' target=\"_blank\">https://wandb.ai/tristan-schulz2001-tu-dortmund/NeuroSAT-HARD-CONSTRAINT-HARD-SAMPLING/runs/dzolsuif</a>"
      ],
      "text/plain": [
       "<IPython.core.display.HTML object>"
      ]
     },
     "metadata": {},
     "output_type": "display_data"
    },
    {
     "ename": "RuntimeError",
     "evalue": "mat1 and mat2 shapes cannot be multiplied (6323x256 and 768x64)",
     "output_type": "error",
     "traceback": [
      "\u001b[1;31m---------------------------------------------------------------------------\u001b[0m",
      "\u001b[1;31mRuntimeError\u001b[0m                              Traceback (most recent call last)",
      "Cell \u001b[1;32mIn[5], line 2\u001b[0m\n\u001b[0;32m      1\u001b[0m \u001b[38;5;28;01mfor\u001b[39;00m i \u001b[38;5;129;01min\u001b[39;00m \u001b[38;5;28mrange\u001b[39m(\u001b[38;5;241m1\u001b[39m):\n\u001b[1;32m----> 2\u001b[0m     mlp, downstreamTask \u001b[38;5;241m=\u001b[39m trainExplainer(datasetName,opts, wandb_project\u001b[38;5;241m=\u001b[39m\u001b[38;5;124m\"\u001b[39m\u001b[38;5;124mNeuroSAT-HARD-CONSTRAINT-HARD-SAMPLING\u001b[39m\u001b[38;5;124m\"\u001b[39m, runSeed\u001b[38;5;241m=\u001b[39mi)\n",
      "Cell \u001b[1;32mIn[3], line 93\u001b[0m, in \u001b[0;36mtrainExplainer\u001b[1;34m(datasetName, opts, save_model, wandb_project, runSeed)\u001b[0m\n\u001b[0;32m     89\u001b[0m     current_problem \u001b[38;5;241m=\u001b[39m content\n\u001b[0;32m     91\u001b[0m \u001b[38;5;66;03m# MLP forward\u001b[39;00m\n\u001b[0;32m     92\u001b[0m \u001b[38;5;66;03m# TODO: Implement embeddingCalculation for SAT\u001b[39;00m\n\u001b[1;32m---> 93\u001b[0m w_ij \u001b[38;5;241m=\u001b[39m mlp\u001b[38;5;241m.\u001b[39mforward(downstreamTask, current_problem, nodeToPred\u001b[38;5;241m=\u001b[39mnode_to_predict)\n\u001b[0;32m     95\u001b[0m sampleLoss \u001b[38;5;241m=\u001b[39m torch\u001b[38;5;241m.\u001b[39mFloatTensor([\u001b[38;5;241m0\u001b[39m])\u001b[38;5;241m.\u001b[39mto(device)\n\u001b[0;32m     96\u001b[0m loss \u001b[38;5;241m=\u001b[39m torch\u001b[38;5;241m.\u001b[39mFloatTensor([\u001b[38;5;241m0\u001b[39m])\u001b[38;5;241m.\u001b[39mto(device)\n",
      "File \u001b[1;32mc:\\Users\\trist\\Git_repos\\BT-ML-PGESAT\\code\\PGExplainer NeuroSAT\\explainer_NeuroSAT.py:283\u001b[0m, in \u001b[0;36mMLP_SAT.forward\u001b[1;34m(self, downstreamTask, problem, nodeToPred)\u001b[0m\n\u001b[0;32m    276\u001b[0m embeddings \u001b[38;5;241m=\u001b[39m \u001b[38;5;28mself\u001b[39m\u001b[38;5;241m.\u001b[39mgetGraphEdgeEmbeddings(downstreamTask, problem, nodeToPred)\n\u001b[0;32m    278\u001b[0m \u001b[38;5;66;03m#print(f\"Input embeddings for MLP: {embeddings}\")\u001b[39;00m\n\u001b[0;32m    279\u001b[0m \u001b[38;5;66;03m#print(f\"Max input embedding for MLP: {torch.max(embeddings)}\")\u001b[39;00m\n\u001b[0;32m    280\u001b[0m \u001b[38;5;66;03m#print(f\"Min input embedding for MLP: {torch.min(embeddings)}\")\u001b[39;00m\n\u001b[0;32m    281\u001b[0m \u001b[38;5;66;03m#print(\"------------------------------------------\")\u001b[39;00m\n\u001b[1;32m--> 283\u001b[0m w_ij \u001b[38;5;241m=\u001b[39m \u001b[38;5;28mself\u001b[39m\u001b[38;5;241m.\u001b[39mmodel(embeddings)\u001b[38;5;241m.\u001b[39msqueeze(\u001b[38;5;241m1\u001b[39m)\n\u001b[0;32m    285\u001b[0m \u001b[38;5;66;03m# TODO: ADD hard constraint for network to learn to include all edges of each clause\u001b[39;00m\n\u001b[0;32m    286\u001b[0m batch_clauses \u001b[38;5;241m=\u001b[39m torch\u001b[38;5;241m.\u001b[39mtensor(problem\u001b[38;5;241m.\u001b[39mbatch_edges[:, \u001b[38;5;241m1\u001b[39m])\n",
      "File \u001b[1;32mc:\\Users\\trist\\anaconda3\\envs\\NeuroSAT\\Lib\\site-packages\\torch\\nn\\modules\\module.py:1736\u001b[0m, in \u001b[0;36mModule._wrapped_call_impl\u001b[1;34m(self, *args, **kwargs)\u001b[0m\n\u001b[0;32m   1734\u001b[0m     \u001b[38;5;28;01mreturn\u001b[39;00m \u001b[38;5;28mself\u001b[39m\u001b[38;5;241m.\u001b[39m_compiled_call_impl(\u001b[38;5;241m*\u001b[39margs, \u001b[38;5;241m*\u001b[39m\u001b[38;5;241m*\u001b[39mkwargs)  \u001b[38;5;66;03m# type: ignore[misc]\u001b[39;00m\n\u001b[0;32m   1735\u001b[0m \u001b[38;5;28;01melse\u001b[39;00m:\n\u001b[1;32m-> 1736\u001b[0m     \u001b[38;5;28;01mreturn\u001b[39;00m \u001b[38;5;28mself\u001b[39m\u001b[38;5;241m.\u001b[39m_call_impl(\u001b[38;5;241m*\u001b[39margs, \u001b[38;5;241m*\u001b[39m\u001b[38;5;241m*\u001b[39mkwargs)\n",
      "File \u001b[1;32mc:\\Users\\trist\\anaconda3\\envs\\NeuroSAT\\Lib\\site-packages\\torch\\nn\\modules\\module.py:1747\u001b[0m, in \u001b[0;36mModule._call_impl\u001b[1;34m(self, *args, **kwargs)\u001b[0m\n\u001b[0;32m   1742\u001b[0m \u001b[38;5;66;03m# If we don't have any hooks, we want to skip the rest of the logic in\u001b[39;00m\n\u001b[0;32m   1743\u001b[0m \u001b[38;5;66;03m# this function, and just call forward.\u001b[39;00m\n\u001b[0;32m   1744\u001b[0m \u001b[38;5;28;01mif\u001b[39;00m \u001b[38;5;129;01mnot\u001b[39;00m (\u001b[38;5;28mself\u001b[39m\u001b[38;5;241m.\u001b[39m_backward_hooks \u001b[38;5;129;01mor\u001b[39;00m \u001b[38;5;28mself\u001b[39m\u001b[38;5;241m.\u001b[39m_backward_pre_hooks \u001b[38;5;129;01mor\u001b[39;00m \u001b[38;5;28mself\u001b[39m\u001b[38;5;241m.\u001b[39m_forward_hooks \u001b[38;5;129;01mor\u001b[39;00m \u001b[38;5;28mself\u001b[39m\u001b[38;5;241m.\u001b[39m_forward_pre_hooks\n\u001b[0;32m   1745\u001b[0m         \u001b[38;5;129;01mor\u001b[39;00m _global_backward_pre_hooks \u001b[38;5;129;01mor\u001b[39;00m _global_backward_hooks\n\u001b[0;32m   1746\u001b[0m         \u001b[38;5;129;01mor\u001b[39;00m _global_forward_hooks \u001b[38;5;129;01mor\u001b[39;00m _global_forward_pre_hooks):\n\u001b[1;32m-> 1747\u001b[0m     \u001b[38;5;28;01mreturn\u001b[39;00m forward_call(\u001b[38;5;241m*\u001b[39margs, \u001b[38;5;241m*\u001b[39m\u001b[38;5;241m*\u001b[39mkwargs)\n\u001b[0;32m   1749\u001b[0m result \u001b[38;5;241m=\u001b[39m \u001b[38;5;28;01mNone\u001b[39;00m\n\u001b[0;32m   1750\u001b[0m called_always_called_hooks \u001b[38;5;241m=\u001b[39m \u001b[38;5;28mset\u001b[39m()\n",
      "File \u001b[1;32mc:\\Users\\trist\\anaconda3\\envs\\NeuroSAT\\Lib\\site-packages\\torch\\nn\\modules\\container.py:250\u001b[0m, in \u001b[0;36mSequential.forward\u001b[1;34m(self, input)\u001b[0m\n\u001b[0;32m    248\u001b[0m \u001b[38;5;28;01mdef\u001b[39;00m \u001b[38;5;21mforward\u001b[39m(\u001b[38;5;28mself\u001b[39m, \u001b[38;5;28minput\u001b[39m):\n\u001b[0;32m    249\u001b[0m     \u001b[38;5;28;01mfor\u001b[39;00m module \u001b[38;5;129;01min\u001b[39;00m \u001b[38;5;28mself\u001b[39m:\n\u001b[1;32m--> 250\u001b[0m         \u001b[38;5;28minput\u001b[39m \u001b[38;5;241m=\u001b[39m module(\u001b[38;5;28minput\u001b[39m)\n\u001b[0;32m    251\u001b[0m     \u001b[38;5;28;01mreturn\u001b[39;00m \u001b[38;5;28minput\u001b[39m\n",
      "File \u001b[1;32mc:\\Users\\trist\\anaconda3\\envs\\NeuroSAT\\Lib\\site-packages\\torch\\nn\\modules\\module.py:1736\u001b[0m, in \u001b[0;36mModule._wrapped_call_impl\u001b[1;34m(self, *args, **kwargs)\u001b[0m\n\u001b[0;32m   1734\u001b[0m     \u001b[38;5;28;01mreturn\u001b[39;00m \u001b[38;5;28mself\u001b[39m\u001b[38;5;241m.\u001b[39m_compiled_call_impl(\u001b[38;5;241m*\u001b[39margs, \u001b[38;5;241m*\u001b[39m\u001b[38;5;241m*\u001b[39mkwargs)  \u001b[38;5;66;03m# type: ignore[misc]\u001b[39;00m\n\u001b[0;32m   1735\u001b[0m \u001b[38;5;28;01melse\u001b[39;00m:\n\u001b[1;32m-> 1736\u001b[0m     \u001b[38;5;28;01mreturn\u001b[39;00m \u001b[38;5;28mself\u001b[39m\u001b[38;5;241m.\u001b[39m_call_impl(\u001b[38;5;241m*\u001b[39margs, \u001b[38;5;241m*\u001b[39m\u001b[38;5;241m*\u001b[39mkwargs)\n",
      "File \u001b[1;32mc:\\Users\\trist\\anaconda3\\envs\\NeuroSAT\\Lib\\site-packages\\torch\\nn\\modules\\module.py:1747\u001b[0m, in \u001b[0;36mModule._call_impl\u001b[1;34m(self, *args, **kwargs)\u001b[0m\n\u001b[0;32m   1742\u001b[0m \u001b[38;5;66;03m# If we don't have any hooks, we want to skip the rest of the logic in\u001b[39;00m\n\u001b[0;32m   1743\u001b[0m \u001b[38;5;66;03m# this function, and just call forward.\u001b[39;00m\n\u001b[0;32m   1744\u001b[0m \u001b[38;5;28;01mif\u001b[39;00m \u001b[38;5;129;01mnot\u001b[39;00m (\u001b[38;5;28mself\u001b[39m\u001b[38;5;241m.\u001b[39m_backward_hooks \u001b[38;5;129;01mor\u001b[39;00m \u001b[38;5;28mself\u001b[39m\u001b[38;5;241m.\u001b[39m_backward_pre_hooks \u001b[38;5;129;01mor\u001b[39;00m \u001b[38;5;28mself\u001b[39m\u001b[38;5;241m.\u001b[39m_forward_hooks \u001b[38;5;129;01mor\u001b[39;00m \u001b[38;5;28mself\u001b[39m\u001b[38;5;241m.\u001b[39m_forward_pre_hooks\n\u001b[0;32m   1745\u001b[0m         \u001b[38;5;129;01mor\u001b[39;00m _global_backward_pre_hooks \u001b[38;5;129;01mor\u001b[39;00m _global_backward_hooks\n\u001b[0;32m   1746\u001b[0m         \u001b[38;5;129;01mor\u001b[39;00m _global_forward_hooks \u001b[38;5;129;01mor\u001b[39;00m _global_forward_pre_hooks):\n\u001b[1;32m-> 1747\u001b[0m     \u001b[38;5;28;01mreturn\u001b[39;00m forward_call(\u001b[38;5;241m*\u001b[39margs, \u001b[38;5;241m*\u001b[39m\u001b[38;5;241m*\u001b[39mkwargs)\n\u001b[0;32m   1749\u001b[0m result \u001b[38;5;241m=\u001b[39m \u001b[38;5;28;01mNone\u001b[39;00m\n\u001b[0;32m   1750\u001b[0m called_always_called_hooks \u001b[38;5;241m=\u001b[39m \u001b[38;5;28mset\u001b[39m()\n",
      "File \u001b[1;32mc:\\Users\\trist\\anaconda3\\envs\\NeuroSAT\\Lib\\site-packages\\torch\\nn\\modules\\linear.py:125\u001b[0m, in \u001b[0;36mLinear.forward\u001b[1;34m(self, input)\u001b[0m\n\u001b[0;32m    124\u001b[0m \u001b[38;5;28;01mdef\u001b[39;00m \u001b[38;5;21mforward\u001b[39m(\u001b[38;5;28mself\u001b[39m, \u001b[38;5;28minput\u001b[39m: Tensor) \u001b[38;5;241m-\u001b[39m\u001b[38;5;241m>\u001b[39m Tensor:\n\u001b[1;32m--> 125\u001b[0m     \u001b[38;5;28;01mreturn\u001b[39;00m F\u001b[38;5;241m.\u001b[39mlinear(\u001b[38;5;28minput\u001b[39m, \u001b[38;5;28mself\u001b[39m\u001b[38;5;241m.\u001b[39mweight, \u001b[38;5;28mself\u001b[39m\u001b[38;5;241m.\u001b[39mbias)\n",
      "\u001b[1;31mRuntimeError\u001b[0m: mat1 and mat2 shapes cannot be multiplied (6323x256 and 768x64)"
     ]
    }
   ],
   "source": [
    "for i in range(1):\n",
    "    mlp, downstreamTask = trainExplainer(datasetName,opts, wandb_project=\"NeuroSAT-HARD-CONSTRAINT-HARD-SAMPLING\", runSeed=i)"
   ]
  },
  {
   "cell_type": "markdown",
   "metadata": {},
   "source": [
    "## Sweeping config"
   ]
  },
  {
   "cell_type": "code",
   "execution_count": null,
   "metadata": {},
   "outputs": [],
   "source": [
    "sweep_config = {\n",
    "    \"method\": 'grid',                    # random, grid or Bayesian search\n",
    "    \"metric\": {\"goal\": \"maximize\", \"name\": \"val/auroc\"},\n",
    "    \"parameters\": {\n",
    "        'bce_loss': {\n",
    "            'values': [1, 0]\n",
    "        },\n",
    "        'epochs': {\n",
    "            'values': [20]\n",
    "            },\n",
    "        'tT': {\n",
    "            'values': [1.0, 2.0]\n",
    "            },\n",
    "        'size_reg': {\n",
    "            'values': [0.01]\n",
    "            },\n",
    "        'entropy_reg': {\n",
    "            'values': [0.5]\n",
    "            },\n",
    "        'consistency_reg': {\n",
    "            'values': [0.0]\n",
    "            },\n",
    "        'lr_mlp':{\n",
    "            'values': [0.0001, 0.00003]\n",
    "            },\n",
    "        'seed':{\n",
    "            'values': [74, 75]\n",
    "            },\n",
    "    },\n",
    "}   "
   ]
  },
  {
   "cell_type": "code",
   "execution_count": 3,
   "metadata": {},
   "outputs": [
    {
     "name": "stderr",
     "output_type": "stream",
     "text": [
      "\u001b[34m\u001b[1mwandb\u001b[0m: Using wandb-core as the SDK backend.  Please refer to https://wandb.me/wandb-core for more information.\n"
     ]
    },
    {
     "name": "stdout",
     "output_type": "stream",
     "text": [
      "Create sweep with ID: 1kd67zlb\n",
      "Sweep URL: https://wandb.ai/tristan-schulz2001-tu-dortmund/Sweep-NeuroSAT-HARD-CONSTRAINT-AUROC/sweeps/1kd67zlb\n"
     ]
    }
   ],
   "source": [
    "sweep_id = wandb.sweep(sweep_config, project=\"Sweep-NeuroSAT-HARD-CONSTRAINT-AUROC\")"
   ]
  },
  {
   "cell_type": "code",
   "execution_count": 4,
   "metadata": {},
   "outputs": [
    {
     "name": "stderr",
     "output_type": "stream",
     "text": [
      "\u001b[34m\u001b[1mwandb\u001b[0m: Agent Starting Run: bvdp5q2l with config:\n",
      "\u001b[34m\u001b[1mwandb\u001b[0m: \tbce_loss: 1\n",
      "\u001b[34m\u001b[1mwandb\u001b[0m: \tconsistency_reg: 0\n",
      "\u001b[34m\u001b[1mwandb\u001b[0m: \tentropy_reg: 0\n",
      "\u001b[34m\u001b[1mwandb\u001b[0m: \tepochs: 20\n",
      "\u001b[34m\u001b[1mwandb\u001b[0m: \tlr_mlp: 0.0001\n",
      "\u001b[34m\u001b[1mwandb\u001b[0m: \tseed: 74\n",
      "\u001b[34m\u001b[1mwandb\u001b[0m: \tsize_reg: 0.01\n",
      "\u001b[34m\u001b[1mwandb\u001b[0m: \ttT: 1\n",
      "\u001b[34m\u001b[1mwandb\u001b[0m: Currently logged in as: \u001b[33mtristan-schulz2001\u001b[0m (\u001b[33mtristan-schulz2001-tu-dortmund\u001b[0m) to \u001b[32mhttps://api.wandb.ai\u001b[0m. Use \u001b[1m`wandb login --relogin`\u001b[0m to force relogin\n"
     ]
    },
    {
     "data": {
      "text/html": [
       "Ignoring project 'Explainer-NeuroSAT-Sweep' when running a sweep."
      ],
      "text/plain": [
       "<IPython.core.display.HTML object>"
      ]
     },
     "metadata": {},
     "output_type": "display_data"
    },
    {
     "data": {
      "text/html": [
       "Tracking run with wandb version 0.19.8"
      ],
      "text/plain": [
       "<IPython.core.display.HTML object>"
      ]
     },
     "metadata": {},
     "output_type": "display_data"
    },
    {
     "data": {
      "text/html": [
       "Run data is saved locally in <code>c:\\Users\\trist\\Git_repos\\BT-ML-PGESAT\\code\\PGExplainer NeuroSAT\\wandb\\run-20250410_100123-bvdp5q2l</code>"
      ],
      "text/plain": [
       "<IPython.core.display.HTML object>"
      ]
     },
     "metadata": {},
     "output_type": "display_data"
    },
    {
     "data": {
      "text/html": [
       "Syncing run <strong><a href='https://wandb.ai/tristan-schulz2001-tu-dortmund/Sweep-NeuroSAT-HARD-CONSTRAINT-AUROC/runs/bvdp5q2l' target=\"_blank\">glad-sweep-1</a></strong> to <a href='https://wandb.ai/tristan-schulz2001-tu-dortmund/Sweep-NeuroSAT-HARD-CONSTRAINT-AUROC' target=\"_blank\">Weights & Biases</a> (<a href='https://wandb.me/developer-guide' target=\"_blank\">docs</a>)<br>Sweep page: <a href='https://wandb.ai/tristan-schulz2001-tu-dortmund/Sweep-NeuroSAT-HARD-CONSTRAINT-AUROC/sweeps/1kd67zlb' target=\"_blank\">https://wandb.ai/tristan-schulz2001-tu-dortmund/Sweep-NeuroSAT-HARD-CONSTRAINT-AUROC/sweeps/1kd67zlb</a>"
      ],
      "text/plain": [
       "<IPython.core.display.HTML object>"
      ]
     },
     "metadata": {},
     "output_type": "display_data"
    },
    {
     "data": {
      "text/html": [
       " View project at <a href='https://wandb.ai/tristan-schulz2001-tu-dortmund/Sweep-NeuroSAT-HARD-CONSTRAINT-AUROC' target=\"_blank\">https://wandb.ai/tristan-schulz2001-tu-dortmund/Sweep-NeuroSAT-HARD-CONSTRAINT-AUROC</a>"
      ],
      "text/plain": [
       "<IPython.core.display.HTML object>"
      ]
     },
     "metadata": {},
     "output_type": "display_data"
    },
    {
     "data": {
      "text/html": [
       " View sweep at <a href='https://wandb.ai/tristan-schulz2001-tu-dortmund/Sweep-NeuroSAT-HARD-CONSTRAINT-AUROC/sweeps/1kd67zlb' target=\"_blank\">https://wandb.ai/tristan-schulz2001-tu-dortmund/Sweep-NeuroSAT-HARD-CONSTRAINT-AUROC/sweeps/1kd67zlb</a>"
      ],
      "text/plain": [
       "<IPython.core.display.HTML object>"
      ]
     },
     "metadata": {},
     "output_type": "display_data"
    },
    {
     "data": {
      "text/html": [
       " View run at <a href='https://wandb.ai/tristan-schulz2001-tu-dortmund/Sweep-NeuroSAT-HARD-CONSTRAINT-AUROC/runs/bvdp5q2l' target=\"_blank\">https://wandb.ai/tristan-schulz2001-tu-dortmund/Sweep-NeuroSAT-HARD-CONSTRAINT-AUROC/runs/bvdp5q2l</a>"
      ],
      "text/plain": [
       "<IPython.core.display.HTML object>"
      ]
     },
     "metadata": {},
     "output_type": "display_data"
    },
    {
     "name": "stdout",
     "output_type": "stream",
     "text": [
      "Epoch 1, Loss: 9.160676956176758\n",
      "mean auroc score: 0.4891628623008728\n",
      "Epoch 2, Loss: 9.113851547241211\n",
      "mean auroc score: 0.490462064743042\n",
      "Epoch 3, Loss: 9.038740158081055\n",
      "mean auroc score: 0.5019503235816956\n",
      "Epoch 4, Loss: 8.95941162109375\n",
      "mean auroc score: 0.5136950016021729\n",
      "Epoch 5, Loss: 8.895312309265137\n",
      "mean auroc score: 0.5189204812049866\n",
      "Epoch 6, Loss: 8.812456130981445\n",
      "mean auroc score: 0.5238277912139893\n",
      "Epoch 7, Loss: 8.747904777526855\n",
      "mean auroc score: 0.5249457359313965\n",
      "Epoch 8, Loss: 8.69434642791748\n",
      "mean auroc score: 0.527639627456665\n",
      "Epoch 9, Loss: 8.59929370880127\n",
      "mean auroc score: 0.5281552672386169\n",
      "Epoch 10, Loss: 8.554255485534668\n",
      "mean auroc score: 0.5251675248146057\n",
      "Epoch 11, Loss: 8.43028736114502\n",
      "mean auroc score: 0.5260509252548218\n",
      "Epoch 12, Loss: 8.369158744812012\n",
      "mean auroc score: 0.532546877861023\n",
      "Epoch 13, Loss: 8.229881286621094\n",
      "mean auroc score: 0.5343207716941833\n",
      "Epoch 14, Loss: 8.135065078735352\n",
      "mean auroc score: 0.5352094769477844\n",
      "Epoch 15, Loss: 8.003716468811035\n",
      "mean auroc score: 0.539808988571167\n",
      "Epoch 16, Loss: 7.88012170791626\n",
      "mean auroc score: 0.5383660793304443\n",
      "Epoch 17, Loss: 7.747378349304199\n",
      "mean auroc score: 0.5373419523239136\n",
      "Epoch 18, Loss: 7.529934883117676\n",
      "mean auroc score: 0.5345070362091064\n",
      "Epoch 19, Loss: 7.346707820892334\n",
      "mean auroc score: 0.534561038017273\n",
      "Epoch 20, Loss: 7.2501349449157715\n",
      "mean auroc score: 0.534883975982666\n"
     ]
    },
    {
     "data": {
      "text/html": [],
      "text/plain": [
       "<IPython.core.display.HTML object>"
      ]
     },
     "metadata": {},
     "output_type": "display_data"
    },
    {
     "data": {
      "text/html": [
       "<br>    <style><br>        .wandb-row {<br>            display: flex;<br>            flex-direction: row;<br>            flex-wrap: wrap;<br>            justify-content: flex-start;<br>            width: 100%;<br>        }<br>        .wandb-col {<br>            display: flex;<br>            flex-direction: column;<br>            flex-basis: 100%;<br>            flex: 1;<br>            padding: 10px;<br>        }<br>    </style><br><div class=\"wandb-row\"><div class=\"wandb-col\"><h3>Run history:</h3><br/><table class=\"wandb\"><tr><td>train/Loss</td><td>███▇▇▇▆▆▆▆▅▅▅▄▄▃▃▂▁▁</td></tr><tr><td>val/auroc</td><td>▁▁▃▄▅▆▆▆▆▆▆▇▇▇███▇▇▇</td></tr><tr><td>val/highest_individual_auroc</td><td>▁</td></tr><tr><td>val/temperature</td><td>█▇▇▆▆▅▅▄▄▃▃▃▂▂▂▂▂▁▁▁</td></tr></table><br/></div><div class=\"wandb-col\"><h3>Run summary:</h3><br/><table class=\"wandb\"><tr><td>train/Loss</td><td>7.25013</td></tr><tr><td>val/auroc</td><td>0.53488</td></tr><tr><td>val/highest_individual_auroc</td><td>0.74816</td></tr><tr><td>val/temperature</td><td>1</td></tr></table><br/></div></div>"
      ],
      "text/plain": [
       "<IPython.core.display.HTML object>"
      ]
     },
     "metadata": {},
     "output_type": "display_data"
    },
    {
     "data": {
      "text/html": [
       " View run <strong style=\"color:#cdcd00\">glad-sweep-1</strong> at: <a href='https://wandb.ai/tristan-schulz2001-tu-dortmund/Sweep-NeuroSAT-HARD-CONSTRAINT-AUROC/runs/bvdp5q2l' target=\"_blank\">https://wandb.ai/tristan-schulz2001-tu-dortmund/Sweep-NeuroSAT-HARD-CONSTRAINT-AUROC/runs/bvdp5q2l</a><br> View project at: <a href='https://wandb.ai/tristan-schulz2001-tu-dortmund/Sweep-NeuroSAT-HARD-CONSTRAINT-AUROC' target=\"_blank\">https://wandb.ai/tristan-schulz2001-tu-dortmund/Sweep-NeuroSAT-HARD-CONSTRAINT-AUROC</a><br>Synced 5 W&B file(s), 0 media file(s), 0 artifact file(s) and 0 other file(s)"
      ],
      "text/plain": [
       "<IPython.core.display.HTML object>"
      ]
     },
     "metadata": {},
     "output_type": "display_data"
    },
    {
     "data": {
      "text/html": [
       "Find logs at: <code>.\\wandb\\run-20250410_100123-bvdp5q2l\\logs</code>"
      ],
      "text/plain": [
       "<IPython.core.display.HTML object>"
      ]
     },
     "metadata": {},
     "output_type": "display_data"
    },
    {
     "name": "stderr",
     "output_type": "stream",
     "text": [
      "\u001b[34m\u001b[1mwandb\u001b[0m: Agent Starting Run: v2gvd476 with config:\n",
      "\u001b[34m\u001b[1mwandb\u001b[0m: \tbce_loss: 1\n",
      "\u001b[34m\u001b[1mwandb\u001b[0m: \tconsistency_reg: 0\n",
      "\u001b[34m\u001b[1mwandb\u001b[0m: \tentropy_reg: 0\n",
      "\u001b[34m\u001b[1mwandb\u001b[0m: \tepochs: 20\n",
      "\u001b[34m\u001b[1mwandb\u001b[0m: \tlr_mlp: 0.0001\n",
      "\u001b[34m\u001b[1mwandb\u001b[0m: \tseed: 74\n",
      "\u001b[34m\u001b[1mwandb\u001b[0m: \tsize_reg: 0.01\n",
      "\u001b[34m\u001b[1mwandb\u001b[0m: \ttT: 2\n"
     ]
    },
    {
     "data": {
      "text/html": [
       "Ignoring project 'Explainer-NeuroSAT-Sweep' when running a sweep."
      ],
      "text/plain": [
       "<IPython.core.display.HTML object>"
      ]
     },
     "metadata": {},
     "output_type": "display_data"
    },
    {
     "data": {
      "text/html": [
       "Tracking run with wandb version 0.19.8"
      ],
      "text/plain": [
       "<IPython.core.display.HTML object>"
      ]
     },
     "metadata": {},
     "output_type": "display_data"
    },
    {
     "data": {
      "text/html": [
       "Run data is saved locally in <code>c:\\Users\\trist\\Git_repos\\BT-ML-PGESAT\\code\\PGExplainer NeuroSAT\\wandb\\run-20250410_101648-v2gvd476</code>"
      ],
      "text/plain": [
       "<IPython.core.display.HTML object>"
      ]
     },
     "metadata": {},
     "output_type": "display_data"
    },
    {
     "data": {
      "text/html": [
       "Syncing run <strong><a href='https://wandb.ai/tristan-schulz2001-tu-dortmund/Sweep-NeuroSAT-HARD-CONSTRAINT-AUROC/runs/v2gvd476' target=\"_blank\">summer-sweep-2</a></strong> to <a href='https://wandb.ai/tristan-schulz2001-tu-dortmund/Sweep-NeuroSAT-HARD-CONSTRAINT-AUROC' target=\"_blank\">Weights & Biases</a> (<a href='https://wandb.me/developer-guide' target=\"_blank\">docs</a>)<br>Sweep page: <a href='https://wandb.ai/tristan-schulz2001-tu-dortmund/Sweep-NeuroSAT-HARD-CONSTRAINT-AUROC/sweeps/1kd67zlb' target=\"_blank\">https://wandb.ai/tristan-schulz2001-tu-dortmund/Sweep-NeuroSAT-HARD-CONSTRAINT-AUROC/sweeps/1kd67zlb</a>"
      ],
      "text/plain": [
       "<IPython.core.display.HTML object>"
      ]
     },
     "metadata": {},
     "output_type": "display_data"
    },
    {
     "data": {
      "text/html": [
       " View project at <a href='https://wandb.ai/tristan-schulz2001-tu-dortmund/Sweep-NeuroSAT-HARD-CONSTRAINT-AUROC' target=\"_blank\">https://wandb.ai/tristan-schulz2001-tu-dortmund/Sweep-NeuroSAT-HARD-CONSTRAINT-AUROC</a>"
      ],
      "text/plain": [
       "<IPython.core.display.HTML object>"
      ]
     },
     "metadata": {},
     "output_type": "display_data"
    },
    {
     "data": {
      "text/html": [
       " View sweep at <a href='https://wandb.ai/tristan-schulz2001-tu-dortmund/Sweep-NeuroSAT-HARD-CONSTRAINT-AUROC/sweeps/1kd67zlb' target=\"_blank\">https://wandb.ai/tristan-schulz2001-tu-dortmund/Sweep-NeuroSAT-HARD-CONSTRAINT-AUROC/sweeps/1kd67zlb</a>"
      ],
      "text/plain": [
       "<IPython.core.display.HTML object>"
      ]
     },
     "metadata": {},
     "output_type": "display_data"
    },
    {
     "data": {
      "text/html": [
       " View run at <a href='https://wandb.ai/tristan-schulz2001-tu-dortmund/Sweep-NeuroSAT-HARD-CONSTRAINT-AUROC/runs/v2gvd476' target=\"_blank\">https://wandb.ai/tristan-schulz2001-tu-dortmund/Sweep-NeuroSAT-HARD-CONSTRAINT-AUROC/runs/v2gvd476</a>"
      ],
      "text/plain": [
       "<IPython.core.display.HTML object>"
      ]
     },
     "metadata": {},
     "output_type": "display_data"
    },
    {
     "name": "stdout",
     "output_type": "stream",
     "text": [
      "Epoch 1, Loss: 9.153109550476074\n",
      "mean auroc score: 0.4891628623008728\n",
      "Epoch 2, Loss: 9.101724624633789\n",
      "mean auroc score: 0.490462064743042\n",
      "Epoch 3, Loss: 9.028517723083496\n",
      "mean auroc score: 0.5018190741539001\n",
      "Epoch 4, Loss: 8.955745697021484\n",
      "mean auroc score: 0.5133092403411865\n",
      "Epoch 5, Loss: 8.899576187133789\n",
      "mean auroc score: 0.5193172693252563\n",
      "Epoch 6, Loss: 8.831525802612305\n",
      "mean auroc score: 0.5240538120269775\n",
      "Epoch 7, Loss: 8.782008171081543\n",
      "mean auroc score: 0.5254025459289551\n",
      "Epoch 8, Loss: 8.74250602722168\n",
      "mean auroc score: 0.5278806686401367\n",
      "Epoch 9, Loss: 8.678144454956055\n",
      "mean auroc score: 0.5286290645599365\n",
      "Epoch 10, Loss: 8.64754867553711\n",
      "mean auroc score: 0.5262126922607422\n",
      "Epoch 11, Loss: 8.565909385681152\n",
      "mean auroc score: 0.5249691009521484\n",
      "Epoch 12, Loss: 8.525544166564941\n",
      "mean auroc score: 0.5329347252845764\n",
      "Epoch 13, Loss: 8.443901062011719\n",
      "mean auroc score: 0.5357378125190735\n",
      "Epoch 14, Loss: 8.382349967956543\n",
      "mean auroc score: 0.5350569486618042\n",
      "Epoch 15, Loss: 8.303873062133789\n",
      "mean auroc score: 0.5385130047798157\n",
      "Epoch 16, Loss: 8.232802391052246\n",
      "mean auroc score: 0.5405057668685913\n",
      "Epoch 17, Loss: 8.15050983428955\n",
      "mean auroc score: 0.5377430319786072\n",
      "Epoch 18, Loss: 8.02143669128418\n",
      "mean auroc score: 0.5351017713546753\n",
      "Epoch 19, Loss: 7.926294803619385\n",
      "mean auroc score: 0.5346413254737854\n",
      "Epoch 20, Loss: 7.820835113525391\n",
      "mean auroc score: 0.535656213760376\n"
     ]
    },
    {
     "data": {
      "text/html": [],
      "text/plain": [
       "<IPython.core.display.HTML object>"
      ]
     },
     "metadata": {},
     "output_type": "display_data"
    },
    {
     "data": {
      "text/html": [
       "<br>    <style><br>        .wandb-row {<br>            display: flex;<br>            flex-direction: row;<br>            flex-wrap: wrap;<br>            justify-content: flex-start;<br>            width: 100%;<br>        }<br>        .wandb-col {<br>            display: flex;<br>            flex-direction: column;<br>            flex-basis: 100%;<br>            flex: 1;<br>            padding: 10px;<br>        }<br>    </style><br><div class=\"wandb-row\"><div class=\"wandb-col\"><h3>Run history:</h3><br/><table class=\"wandb\"><tr><td>train/Loss</td><td>██▇▇▇▆▆▆▆▅▅▅▄▄▄▃▃▂▂▁</td></tr><tr><td>val/auroc</td><td>▁▁▃▄▅▆▆▆▆▆▆▇▇▇███▇▇▇</td></tr><tr><td>val/highest_individual_auroc</td><td>▁</td></tr><tr><td>val/temperature</td><td>█▇▇▆▆▆▅▅▄▄▄▃▃▃▂▂▂▁▁▁</td></tr></table><br/></div><div class=\"wandb-col\"><h3>Run summary:</h3><br/><table class=\"wandb\"><tr><td>train/Loss</td><td>7.82084</td></tr><tr><td>val/auroc</td><td>0.53566</td></tr><tr><td>val/highest_individual_auroc</td><td>0.74391</td></tr><tr><td>val/temperature</td><td>2</td></tr></table><br/></div></div>"
      ],
      "text/plain": [
       "<IPython.core.display.HTML object>"
      ]
     },
     "metadata": {},
     "output_type": "display_data"
    },
    {
     "data": {
      "text/html": [
       " View run <strong style=\"color:#cdcd00\">summer-sweep-2</strong> at: <a href='https://wandb.ai/tristan-schulz2001-tu-dortmund/Sweep-NeuroSAT-HARD-CONSTRAINT-AUROC/runs/v2gvd476' target=\"_blank\">https://wandb.ai/tristan-schulz2001-tu-dortmund/Sweep-NeuroSAT-HARD-CONSTRAINT-AUROC/runs/v2gvd476</a><br> View project at: <a href='https://wandb.ai/tristan-schulz2001-tu-dortmund/Sweep-NeuroSAT-HARD-CONSTRAINT-AUROC' target=\"_blank\">https://wandb.ai/tristan-schulz2001-tu-dortmund/Sweep-NeuroSAT-HARD-CONSTRAINT-AUROC</a><br>Synced 5 W&B file(s), 0 media file(s), 0 artifact file(s) and 0 other file(s)"
      ],
      "text/plain": [
       "<IPython.core.display.HTML object>"
      ]
     },
     "metadata": {},
     "output_type": "display_data"
    },
    {
     "data": {
      "text/html": [
       "Find logs at: <code>.\\wandb\\run-20250410_101648-v2gvd476\\logs</code>"
      ],
      "text/plain": [
       "<IPython.core.display.HTML object>"
      ]
     },
     "metadata": {},
     "output_type": "display_data"
    },
    {
     "name": "stderr",
     "output_type": "stream",
     "text": [
      "\u001b[34m\u001b[1mwandb\u001b[0m: Agent Starting Run: 971bgbo5 with config:\n",
      "\u001b[34m\u001b[1mwandb\u001b[0m: \tbce_loss: 1\n",
      "\u001b[34m\u001b[1mwandb\u001b[0m: \tconsistency_reg: 0\n",
      "\u001b[34m\u001b[1mwandb\u001b[0m: \tentropy_reg: 0\n",
      "\u001b[34m\u001b[1mwandb\u001b[0m: \tepochs: 20\n",
      "\u001b[34m\u001b[1mwandb\u001b[0m: \tlr_mlp: 0.0001\n",
      "\u001b[34m\u001b[1mwandb\u001b[0m: \tseed: 75\n",
      "\u001b[34m\u001b[1mwandb\u001b[0m: \tsize_reg: 0.01\n",
      "\u001b[34m\u001b[1mwandb\u001b[0m: \ttT: 1\n"
     ]
    },
    {
     "data": {
      "text/html": [
       "Ignoring project 'Explainer-NeuroSAT-Sweep' when running a sweep."
      ],
      "text/plain": [
       "<IPython.core.display.HTML object>"
      ]
     },
     "metadata": {},
     "output_type": "display_data"
    },
    {
     "data": {
      "text/html": [
       "Tracking run with wandb version 0.19.8"
      ],
      "text/plain": [
       "<IPython.core.display.HTML object>"
      ]
     },
     "metadata": {},
     "output_type": "display_data"
    },
    {
     "data": {
      "text/html": [
       "Run data is saved locally in <code>c:\\Users\\trist\\Git_repos\\BT-ML-PGESAT\\code\\PGExplainer NeuroSAT\\wandb\\run-20250410_103326-971bgbo5</code>"
      ],
      "text/plain": [
       "<IPython.core.display.HTML object>"
      ]
     },
     "metadata": {},
     "output_type": "display_data"
    },
    {
     "data": {
      "text/html": [
       "Syncing run <strong><a href='https://wandb.ai/tristan-schulz2001-tu-dortmund/Sweep-NeuroSAT-HARD-CONSTRAINT-AUROC/runs/971bgbo5' target=\"_blank\">faithful-sweep-3</a></strong> to <a href='https://wandb.ai/tristan-schulz2001-tu-dortmund/Sweep-NeuroSAT-HARD-CONSTRAINT-AUROC' target=\"_blank\">Weights & Biases</a> (<a href='https://wandb.me/developer-guide' target=\"_blank\">docs</a>)<br>Sweep page: <a href='https://wandb.ai/tristan-schulz2001-tu-dortmund/Sweep-NeuroSAT-HARD-CONSTRAINT-AUROC/sweeps/1kd67zlb' target=\"_blank\">https://wandb.ai/tristan-schulz2001-tu-dortmund/Sweep-NeuroSAT-HARD-CONSTRAINT-AUROC/sweeps/1kd67zlb</a>"
      ],
      "text/plain": [
       "<IPython.core.display.HTML object>"
      ]
     },
     "metadata": {},
     "output_type": "display_data"
    },
    {
     "data": {
      "text/html": [
       " View project at <a href='https://wandb.ai/tristan-schulz2001-tu-dortmund/Sweep-NeuroSAT-HARD-CONSTRAINT-AUROC' target=\"_blank\">https://wandb.ai/tristan-schulz2001-tu-dortmund/Sweep-NeuroSAT-HARD-CONSTRAINT-AUROC</a>"
      ],
      "text/plain": [
       "<IPython.core.display.HTML object>"
      ]
     },
     "metadata": {},
     "output_type": "display_data"
    },
    {
     "data": {
      "text/html": [
       " View sweep at <a href='https://wandb.ai/tristan-schulz2001-tu-dortmund/Sweep-NeuroSAT-HARD-CONSTRAINT-AUROC/sweeps/1kd67zlb' target=\"_blank\">https://wandb.ai/tristan-schulz2001-tu-dortmund/Sweep-NeuroSAT-HARD-CONSTRAINT-AUROC/sweeps/1kd67zlb</a>"
      ],
      "text/plain": [
       "<IPython.core.display.HTML object>"
      ]
     },
     "metadata": {},
     "output_type": "display_data"
    },
    {
     "data": {
      "text/html": [
       " View run at <a href='https://wandb.ai/tristan-schulz2001-tu-dortmund/Sweep-NeuroSAT-HARD-CONSTRAINT-AUROC/runs/971bgbo5' target=\"_blank\">https://wandb.ai/tristan-schulz2001-tu-dortmund/Sweep-NeuroSAT-HARD-CONSTRAINT-AUROC/runs/971bgbo5</a>"
      ],
      "text/plain": [
       "<IPython.core.display.HTML object>"
      ]
     },
     "metadata": {},
     "output_type": "display_data"
    },
    {
     "name": "stdout",
     "output_type": "stream",
     "text": [
      "Epoch 1, Loss: 8.941617012023926\n",
      "mean auroc score: 0.495727002620697\n",
      "Epoch 2, Loss: 8.894510269165039\n",
      "mean auroc score: 0.4900554120540619\n",
      "Epoch 3, Loss: 8.851141929626465\n",
      "mean auroc score: 0.48915863037109375\n",
      "Epoch 4, Loss: 8.79102897644043\n",
      "mean auroc score: 0.49092042446136475\n",
      "Epoch 5, Loss: 8.717363357543945\n",
      "mean auroc score: 0.4878805875778198\n",
      "Epoch 6, Loss: 8.636028289794922\n",
      "mean auroc score: 0.4910328686237335\n",
      "Epoch 7, Loss: 8.544309616088867\n",
      "mean auroc score: 0.4900112748146057\n",
      "Epoch 8, Loss: 8.448225021362305\n",
      "mean auroc score: 0.49130961298942566\n",
      "Epoch 9, Loss: 8.347848892211914\n",
      "mean auroc score: 0.4951332211494446\n",
      "Epoch 10, Loss: 8.234102249145508\n",
      "mean auroc score: 0.4965493679046631\n",
      "Epoch 11, Loss: 8.068413734436035\n",
      "mean auroc score: 0.5001172423362732\n",
      "Epoch 12, Loss: 7.939772129058838\n",
      "mean auroc score: 0.5025296211242676\n",
      "Epoch 13, Loss: 7.791433811187744\n",
      "mean auroc score: 0.5035594701766968\n",
      "Epoch 14, Loss: 7.626187801361084\n",
      "mean auroc score: 0.5066511034965515\n",
      "Epoch 15, Loss: 7.445485591888428\n",
      "mean auroc score: 0.5066708326339722\n",
      "Epoch 16, Loss: 7.2029852867126465\n",
      "mean auroc score: 0.5076544284820557\n",
      "Epoch 17, Loss: 7.000482082366943\n",
      "mean auroc score: 0.5102337002754211\n",
      "Epoch 18, Loss: 6.7832136154174805\n",
      "mean auroc score: 0.5099376440048218\n",
      "Epoch 19, Loss: 6.499891757965088\n",
      "mean auroc score: 0.5101417899131775\n",
      "Epoch 20, Loss: 6.2608137130737305\n",
      "mean auroc score: 0.5116848349571228\n"
     ]
    },
    {
     "data": {
      "text/html": [],
      "text/plain": [
       "<IPython.core.display.HTML object>"
      ]
     },
     "metadata": {},
     "output_type": "display_data"
    },
    {
     "data": {
      "text/html": [
       "<br>    <style><br>        .wandb-row {<br>            display: flex;<br>            flex-direction: row;<br>            flex-wrap: wrap;<br>            justify-content: flex-start;<br>            width: 100%;<br>        }<br>        .wandb-col {<br>            display: flex;<br>            flex-direction: column;<br>            flex-basis: 100%;<br>            flex: 1;<br>            padding: 10px;<br>        }<br>    </style><br><div class=\"wandb-row\"><div class=\"wandb-col\"><h3>Run history:</h3><br/><table class=\"wandb\"><tr><td>train/Loss</td><td>████▇▇▇▇▆▆▆▅▅▅▄▃▃▂▂▁</td></tr><tr><td>val/auroc</td><td>▃▂▁▂▁▂▂▂▃▄▅▅▆▇▇▇█▇██</td></tr><tr><td>val/highest_individual_auroc</td><td>▁</td></tr><tr><td>val/temperature</td><td>█▇▇▆▆▅▅▄▄▃▃▃▂▂▂▂▂▁▁▁</td></tr></table><br/></div><div class=\"wandb-col\"><h3>Run summary:</h3><br/><table class=\"wandb\"><tr><td>train/Loss</td><td>6.26081</td></tr><tr><td>val/auroc</td><td>0.51168</td></tr><tr><td>val/highest_individual_auroc</td><td>0.65505</td></tr><tr><td>val/temperature</td><td>1</td></tr></table><br/></div></div>"
      ],
      "text/plain": [
       "<IPython.core.display.HTML object>"
      ]
     },
     "metadata": {},
     "output_type": "display_data"
    },
    {
     "data": {
      "text/html": [
       " View run <strong style=\"color:#cdcd00\">faithful-sweep-3</strong> at: <a href='https://wandb.ai/tristan-schulz2001-tu-dortmund/Sweep-NeuroSAT-HARD-CONSTRAINT-AUROC/runs/971bgbo5' target=\"_blank\">https://wandb.ai/tristan-schulz2001-tu-dortmund/Sweep-NeuroSAT-HARD-CONSTRAINT-AUROC/runs/971bgbo5</a><br> View project at: <a href='https://wandb.ai/tristan-schulz2001-tu-dortmund/Sweep-NeuroSAT-HARD-CONSTRAINT-AUROC' target=\"_blank\">https://wandb.ai/tristan-schulz2001-tu-dortmund/Sweep-NeuroSAT-HARD-CONSTRAINT-AUROC</a><br>Synced 5 W&B file(s), 0 media file(s), 0 artifact file(s) and 0 other file(s)"
      ],
      "text/plain": [
       "<IPython.core.display.HTML object>"
      ]
     },
     "metadata": {},
     "output_type": "display_data"
    },
    {
     "data": {
      "text/html": [
       "Find logs at: <code>.\\wandb\\run-20250410_103326-971bgbo5\\logs</code>"
      ],
      "text/plain": [
       "<IPython.core.display.HTML object>"
      ]
     },
     "metadata": {},
     "output_type": "display_data"
    },
    {
     "name": "stderr",
     "output_type": "stream",
     "text": [
      "\u001b[34m\u001b[1mwandb\u001b[0m: Agent Starting Run: 3tv939go with config:\n",
      "\u001b[34m\u001b[1mwandb\u001b[0m: \tbce_loss: 1\n",
      "\u001b[34m\u001b[1mwandb\u001b[0m: \tconsistency_reg: 0\n",
      "\u001b[34m\u001b[1mwandb\u001b[0m: \tentropy_reg: 0\n",
      "\u001b[34m\u001b[1mwandb\u001b[0m: \tepochs: 20\n",
      "\u001b[34m\u001b[1mwandb\u001b[0m: \tlr_mlp: 0.0001\n",
      "\u001b[34m\u001b[1mwandb\u001b[0m: \tseed: 75\n",
      "\u001b[34m\u001b[1mwandb\u001b[0m: \tsize_reg: 0.01\n",
      "\u001b[34m\u001b[1mwandb\u001b[0m: \ttT: 2\n"
     ]
    },
    {
     "data": {
      "text/html": [
       "Ignoring project 'Explainer-NeuroSAT-Sweep' when running a sweep."
      ],
      "text/plain": [
       "<IPython.core.display.HTML object>"
      ]
     },
     "metadata": {},
     "output_type": "display_data"
    },
    {
     "data": {
      "text/html": [
       "Tracking run with wandb version 0.19.8"
      ],
      "text/plain": [
       "<IPython.core.display.HTML object>"
      ]
     },
     "metadata": {},
     "output_type": "display_data"
    },
    {
     "data": {
      "text/html": [
       "Run data is saved locally in <code>c:\\Users\\trist\\Git_repos\\BT-ML-PGESAT\\code\\PGExplainer NeuroSAT\\wandb\\run-20250410_104845-3tv939go</code>"
      ],
      "text/plain": [
       "<IPython.core.display.HTML object>"
      ]
     },
     "metadata": {},
     "output_type": "display_data"
    },
    {
     "data": {
      "text/html": [
       "Syncing run <strong><a href='https://wandb.ai/tristan-schulz2001-tu-dortmund/Sweep-NeuroSAT-HARD-CONSTRAINT-AUROC/runs/3tv939go' target=\"_blank\">gentle-sweep-4</a></strong> to <a href='https://wandb.ai/tristan-schulz2001-tu-dortmund/Sweep-NeuroSAT-HARD-CONSTRAINT-AUROC' target=\"_blank\">Weights & Biases</a> (<a href='https://wandb.me/developer-guide' target=\"_blank\">docs</a>)<br>Sweep page: <a href='https://wandb.ai/tristan-schulz2001-tu-dortmund/Sweep-NeuroSAT-HARD-CONSTRAINT-AUROC/sweeps/1kd67zlb' target=\"_blank\">https://wandb.ai/tristan-schulz2001-tu-dortmund/Sweep-NeuroSAT-HARD-CONSTRAINT-AUROC/sweeps/1kd67zlb</a>"
      ],
      "text/plain": [
       "<IPython.core.display.HTML object>"
      ]
     },
     "metadata": {},
     "output_type": "display_data"
    },
    {
     "data": {
      "text/html": [
       " View project at <a href='https://wandb.ai/tristan-schulz2001-tu-dortmund/Sweep-NeuroSAT-HARD-CONSTRAINT-AUROC' target=\"_blank\">https://wandb.ai/tristan-schulz2001-tu-dortmund/Sweep-NeuroSAT-HARD-CONSTRAINT-AUROC</a>"
      ],
      "text/plain": [
       "<IPython.core.display.HTML object>"
      ]
     },
     "metadata": {},
     "output_type": "display_data"
    },
    {
     "data": {
      "text/html": [
       " View sweep at <a href='https://wandb.ai/tristan-schulz2001-tu-dortmund/Sweep-NeuroSAT-HARD-CONSTRAINT-AUROC/sweeps/1kd67zlb' target=\"_blank\">https://wandb.ai/tristan-schulz2001-tu-dortmund/Sweep-NeuroSAT-HARD-CONSTRAINT-AUROC/sweeps/1kd67zlb</a>"
      ],
      "text/plain": [
       "<IPython.core.display.HTML object>"
      ]
     },
     "metadata": {},
     "output_type": "display_data"
    },
    {
     "data": {
      "text/html": [
       " View run at <a href='https://wandb.ai/tristan-schulz2001-tu-dortmund/Sweep-NeuroSAT-HARD-CONSTRAINT-AUROC/runs/3tv939go' target=\"_blank\">https://wandb.ai/tristan-schulz2001-tu-dortmund/Sweep-NeuroSAT-HARD-CONSTRAINT-AUROC/runs/3tv939go</a>"
      ],
      "text/plain": [
       "<IPython.core.display.HTML object>"
      ]
     },
     "metadata": {},
     "output_type": "display_data"
    },
    {
     "name": "stdout",
     "output_type": "stream",
     "text": [
      "Epoch 1, Loss: 8.94115924835205\n",
      "mean auroc score: 0.495727002620697\n",
      "Epoch 2, Loss: 8.896312713623047\n",
      "mean auroc score: 0.4900554120540619\n",
      "Epoch 3, Loss: 8.85793399810791\n",
      "mean auroc score: 0.489479124546051\n",
      "Epoch 4, Loss: 8.806896209716797\n",
      "mean auroc score: 0.4906832277774811\n",
      "Epoch 5, Loss: 8.745784759521484\n",
      "mean auroc score: 0.48798346519470215\n",
      "Epoch 6, Loss: 8.684977531433105\n",
      "mean auroc score: 0.49123236536979675\n",
      "Epoch 7, Loss: 8.616217613220215\n",
      "mean auroc score: 0.4899299144744873\n",
      "Epoch 8, Loss: 8.544012069702148\n",
      "mean auroc score: 0.49179401993751526\n",
      "Epoch 9, Loss: 8.478650093078613\n",
      "mean auroc score: 0.49510303139686584\n",
      "Epoch 10, Loss: 8.400385856628418\n",
      "mean auroc score: 0.4966265559196472\n",
      "Epoch 11, Loss: 8.295723915100098\n",
      "mean auroc score: 0.4996052384376526\n",
      "Epoch 12, Loss: 8.217142105102539\n",
      "mean auroc score: 0.5027527213096619\n",
      "Epoch 13, Loss: 8.12111759185791\n",
      "mean auroc score: 0.5040326118469238\n",
      "Epoch 14, Loss: 8.030763626098633\n",
      "mean auroc score: 0.5063643455505371\n",
      "Epoch 15, Loss: 7.8988447189331055\n",
      "mean auroc score: 0.5068769454956055\n",
      "Epoch 16, Loss: 7.759275913238525\n",
      "mean auroc score: 0.5075960755348206\n",
      "Epoch 17, Loss: 7.641514778137207\n",
      "mean auroc score: 0.5090064406394958\n",
      "Epoch 18, Loss: 7.486632347106934\n",
      "mean auroc score: 0.5093822479248047\n",
      "Epoch 19, Loss: 7.320207118988037\n",
      "mean auroc score: 0.5098578333854675\n",
      "Epoch 20, Loss: 7.1616668701171875\n",
      "mean auroc score: 0.5118328928947449\n"
     ]
    },
    {
     "data": {
      "text/html": [],
      "text/plain": [
       "<IPython.core.display.HTML object>"
      ]
     },
     "metadata": {},
     "output_type": "display_data"
    },
    {
     "data": {
      "text/html": [
       "<br>    <style><br>        .wandb-row {<br>            display: flex;<br>            flex-direction: row;<br>            flex-wrap: wrap;<br>            justify-content: flex-start;<br>            width: 100%;<br>        }<br>        .wandb-col {<br>            display: flex;<br>            flex-direction: column;<br>            flex-basis: 100%;<br>            flex: 1;<br>            padding: 10px;<br>        }<br>    </style><br><div class=\"wandb-row\"><div class=\"wandb-col\"><h3>Run history:</h3><br/><table class=\"wandb\"><tr><td>train/Loss</td><td>███▇▇▇▇▆▆▆▅▅▅▄▄▃▃▂▂▁</td></tr><tr><td>val/auroc</td><td>▃▂▁▂▁▂▂▂▃▄▄▅▆▆▇▇▇▇▇█</td></tr><tr><td>val/highest_individual_auroc</td><td>▁</td></tr><tr><td>val/temperature</td><td>█▇▇▆▆▆▅▅▄▄▄▃▃▃▂▂▂▁▁▁</td></tr></table><br/></div><div class=\"wandb-col\"><h3>Run summary:</h3><br/><table class=\"wandb\"><tr><td>train/Loss</td><td>7.16167</td></tr><tr><td>val/auroc</td><td>0.51183</td></tr><tr><td>val/highest_individual_auroc</td><td>0.65249</td></tr><tr><td>val/temperature</td><td>2</td></tr></table><br/></div></div>"
      ],
      "text/plain": [
       "<IPython.core.display.HTML object>"
      ]
     },
     "metadata": {},
     "output_type": "display_data"
    },
    {
     "data": {
      "text/html": [
       " View run <strong style=\"color:#cdcd00\">gentle-sweep-4</strong> at: <a href='https://wandb.ai/tristan-schulz2001-tu-dortmund/Sweep-NeuroSAT-HARD-CONSTRAINT-AUROC/runs/3tv939go' target=\"_blank\">https://wandb.ai/tristan-schulz2001-tu-dortmund/Sweep-NeuroSAT-HARD-CONSTRAINT-AUROC/runs/3tv939go</a><br> View project at: <a href='https://wandb.ai/tristan-schulz2001-tu-dortmund/Sweep-NeuroSAT-HARD-CONSTRAINT-AUROC' target=\"_blank\">https://wandb.ai/tristan-schulz2001-tu-dortmund/Sweep-NeuroSAT-HARD-CONSTRAINT-AUROC</a><br>Synced 5 W&B file(s), 0 media file(s), 0 artifact file(s) and 0 other file(s)"
      ],
      "text/plain": [
       "<IPython.core.display.HTML object>"
      ]
     },
     "metadata": {},
     "output_type": "display_data"
    },
    {
     "data": {
      "text/html": [
       "Find logs at: <code>.\\wandb\\run-20250410_104845-3tv939go\\logs</code>"
      ],
      "text/plain": [
       "<IPython.core.display.HTML object>"
      ]
     },
     "metadata": {},
     "output_type": "display_data"
    },
    {
     "name": "stderr",
     "output_type": "stream",
     "text": [
      "\u001b[34m\u001b[1mwandb\u001b[0m: Agent Starting Run: hou28uoh with config:\n",
      "\u001b[34m\u001b[1mwandb\u001b[0m: \tbce_loss: 1\n",
      "\u001b[34m\u001b[1mwandb\u001b[0m: \tconsistency_reg: 0\n",
      "\u001b[34m\u001b[1mwandb\u001b[0m: \tentropy_reg: 0\n",
      "\u001b[34m\u001b[1mwandb\u001b[0m: \tepochs: 20\n",
      "\u001b[34m\u001b[1mwandb\u001b[0m: \tlr_mlp: 3e-05\n",
      "\u001b[34m\u001b[1mwandb\u001b[0m: \tseed: 74\n",
      "\u001b[34m\u001b[1mwandb\u001b[0m: \tsize_reg: 0.01\n",
      "\u001b[34m\u001b[1mwandb\u001b[0m: \ttT: 1\n"
     ]
    },
    {
     "data": {
      "text/html": [
       "Ignoring project 'Explainer-NeuroSAT-Sweep' when running a sweep."
      ],
      "text/plain": [
       "<IPython.core.display.HTML object>"
      ]
     },
     "metadata": {},
     "output_type": "display_data"
    },
    {
     "data": {
      "text/html": [
       "Tracking run with wandb version 0.19.8"
      ],
      "text/plain": [
       "<IPython.core.display.HTML object>"
      ]
     },
     "metadata": {},
     "output_type": "display_data"
    },
    {
     "data": {
      "text/html": [
       "Run data is saved locally in <code>c:\\Users\\trist\\Git_repos\\BT-ML-PGESAT\\code\\PGExplainer NeuroSAT\\wandb\\run-20250410_110432-hou28uoh</code>"
      ],
      "text/plain": [
       "<IPython.core.display.HTML object>"
      ]
     },
     "metadata": {},
     "output_type": "display_data"
    },
    {
     "data": {
      "text/html": [
       "Syncing run <strong><a href='https://wandb.ai/tristan-schulz2001-tu-dortmund/Sweep-NeuroSAT-HARD-CONSTRAINT-AUROC/runs/hou28uoh' target=\"_blank\">ancient-sweep-5</a></strong> to <a href='https://wandb.ai/tristan-schulz2001-tu-dortmund/Sweep-NeuroSAT-HARD-CONSTRAINT-AUROC' target=\"_blank\">Weights & Biases</a> (<a href='https://wandb.me/developer-guide' target=\"_blank\">docs</a>)<br>Sweep page: <a href='https://wandb.ai/tristan-schulz2001-tu-dortmund/Sweep-NeuroSAT-HARD-CONSTRAINT-AUROC/sweeps/1kd67zlb' target=\"_blank\">https://wandb.ai/tristan-schulz2001-tu-dortmund/Sweep-NeuroSAT-HARD-CONSTRAINT-AUROC/sweeps/1kd67zlb</a>"
      ],
      "text/plain": [
       "<IPython.core.display.HTML object>"
      ]
     },
     "metadata": {},
     "output_type": "display_data"
    },
    {
     "data": {
      "text/html": [
       " View project at <a href='https://wandb.ai/tristan-schulz2001-tu-dortmund/Sweep-NeuroSAT-HARD-CONSTRAINT-AUROC' target=\"_blank\">https://wandb.ai/tristan-schulz2001-tu-dortmund/Sweep-NeuroSAT-HARD-CONSTRAINT-AUROC</a>"
      ],
      "text/plain": [
       "<IPython.core.display.HTML object>"
      ]
     },
     "metadata": {},
     "output_type": "display_data"
    },
    {
     "data": {
      "text/html": [
       " View sweep at <a href='https://wandb.ai/tristan-schulz2001-tu-dortmund/Sweep-NeuroSAT-HARD-CONSTRAINT-AUROC/sweeps/1kd67zlb' target=\"_blank\">https://wandb.ai/tristan-schulz2001-tu-dortmund/Sweep-NeuroSAT-HARD-CONSTRAINT-AUROC/sweeps/1kd67zlb</a>"
      ],
      "text/plain": [
       "<IPython.core.display.HTML object>"
      ]
     },
     "metadata": {},
     "output_type": "display_data"
    },
    {
     "data": {
      "text/html": [
       " View run at <a href='https://wandb.ai/tristan-schulz2001-tu-dortmund/Sweep-NeuroSAT-HARD-CONSTRAINT-AUROC/runs/hou28uoh' target=\"_blank\">https://wandb.ai/tristan-schulz2001-tu-dortmund/Sweep-NeuroSAT-HARD-CONSTRAINT-AUROC/runs/hou28uoh</a>"
      ],
      "text/plain": [
       "<IPython.core.display.HTML object>"
      ]
     },
     "metadata": {},
     "output_type": "display_data"
    },
    {
     "name": "stdout",
     "output_type": "stream",
     "text": [
      "Epoch 1, Loss: 9.160676956176758\n",
      "mean auroc score: 0.487520694732666\n",
      "Epoch 2, Loss: 9.168009757995605\n",
      "mean auroc score: 0.4898471236228943\n",
      "Epoch 3, Loss: 9.154230117797852\n",
      "mean auroc score: 0.488873690366745\n",
      "Epoch 4, Loss: 9.14024829864502\n",
      "mean auroc score: 0.49097833037376404\n",
      "Epoch 5, Loss: 9.138577461242676\n",
      "mean auroc score: 0.4923509657382965\n",
      "Epoch 6, Loss: 9.11225414276123\n",
      "mean auroc score: 0.4902441203594208\n",
      "Epoch 7, Loss: 9.095291137695312\n",
      "mean auroc score: 0.49233192205429077\n",
      "Epoch 8, Loss: 9.083415031433105\n",
      "mean auroc score: 0.49322834610939026\n",
      "Epoch 9, Loss: 9.035799980163574\n",
      "mean auroc score: 0.4962656497955322\n",
      "Epoch 10, Loss: 9.03386116027832\n",
      "mean auroc score: 0.5027512311935425\n",
      "Epoch 11, Loss: 8.967782974243164\n",
      "mean auroc score: 0.5035571455955505\n",
      "Epoch 12, Loss: 8.958871841430664\n",
      "mean auroc score: 0.5051636099815369\n",
      "Epoch 13, Loss: 8.889864921569824\n",
      "mean auroc score: 0.5115706920623779\n",
      "Epoch 14, Loss: 8.868815422058105\n",
      "mean auroc score: 0.5151985883712769\n",
      "Epoch 15, Loss: 8.815688133239746\n",
      "mean auroc score: 0.5140022039413452\n",
      "Epoch 16, Loss: 8.790741920471191\n",
      "mean auroc score: 0.5198402404785156\n",
      "Epoch 17, Loss: 8.75723648071289\n",
      "mean auroc score: 0.5220726728439331\n",
      "Epoch 18, Loss: 8.655056953430176\n",
      "mean auroc score: 0.5241902470588684\n",
      "Epoch 19, Loss: 8.592105865478516\n",
      "mean auroc score: 0.5232473015785217\n",
      "Epoch 20, Loss: 8.64106273651123\n",
      "mean auroc score: 0.5258065462112427\n"
     ]
    },
    {
     "data": {
      "text/html": [],
      "text/plain": [
       "<IPython.core.display.HTML object>"
      ]
     },
     "metadata": {},
     "output_type": "display_data"
    },
    {
     "data": {
      "text/html": [
       "<br>    <style><br>        .wandb-row {<br>            display: flex;<br>            flex-direction: row;<br>            flex-wrap: wrap;<br>            justify-content: flex-start;<br>            width: 100%;<br>        }<br>        .wandb-col {<br>            display: flex;<br>            flex-direction: column;<br>            flex-basis: 100%;<br>            flex: 1;<br>            padding: 10px;<br>        }<br>    </style><br><div class=\"wandb-row\"><div class=\"wandb-col\"><h3>Run history:</h3><br/><table class=\"wandb\"><tr><td>train/Loss</td><td>█████▇▇▇▆▆▆▅▅▄▄▃▃▂▁▂</td></tr><tr><td>val/auroc</td><td>▁▁▁▂▂▁▂▂▃▄▄▄▅▆▆▇▇███</td></tr><tr><td>val/highest_individual_auroc</td><td>▁</td></tr><tr><td>val/temperature</td><td>█▇▇▆▆▅▅▄▄▃▃▃▂▂▂▂▂▁▁▁</td></tr></table><br/></div><div class=\"wandb-col\"><h3>Run summary:</h3><br/><table class=\"wandb\"><tr><td>train/Loss</td><td>8.64106</td></tr><tr><td>val/auroc</td><td>0.52581</td></tr><tr><td>val/highest_individual_auroc</td><td>0.77338</td></tr><tr><td>val/temperature</td><td>1</td></tr></table><br/></div></div>"
      ],
      "text/plain": [
       "<IPython.core.display.HTML object>"
      ]
     },
     "metadata": {},
     "output_type": "display_data"
    },
    {
     "data": {
      "text/html": [
       " View run <strong style=\"color:#cdcd00\">ancient-sweep-5</strong> at: <a href='https://wandb.ai/tristan-schulz2001-tu-dortmund/Sweep-NeuroSAT-HARD-CONSTRAINT-AUROC/runs/hou28uoh' target=\"_blank\">https://wandb.ai/tristan-schulz2001-tu-dortmund/Sweep-NeuroSAT-HARD-CONSTRAINT-AUROC/runs/hou28uoh</a><br> View project at: <a href='https://wandb.ai/tristan-schulz2001-tu-dortmund/Sweep-NeuroSAT-HARD-CONSTRAINT-AUROC' target=\"_blank\">https://wandb.ai/tristan-schulz2001-tu-dortmund/Sweep-NeuroSAT-HARD-CONSTRAINT-AUROC</a><br>Synced 5 W&B file(s), 0 media file(s), 0 artifact file(s) and 0 other file(s)"
      ],
      "text/plain": [
       "<IPython.core.display.HTML object>"
      ]
     },
     "metadata": {},
     "output_type": "display_data"
    },
    {
     "data": {
      "text/html": [
       "Find logs at: <code>.\\wandb\\run-20250410_110432-hou28uoh\\logs</code>"
      ],
      "text/plain": [
       "<IPython.core.display.HTML object>"
      ]
     },
     "metadata": {},
     "output_type": "display_data"
    },
    {
     "name": "stderr",
     "output_type": "stream",
     "text": [
      "\u001b[34m\u001b[1mwandb\u001b[0m: Sweep Agent: Waiting for job.\n",
      "\u001b[34m\u001b[1mwandb\u001b[0m: Job received.\n",
      "\u001b[34m\u001b[1mwandb\u001b[0m: Agent Starting Run: p2w9f3yz with config:\n",
      "\u001b[34m\u001b[1mwandb\u001b[0m: \tbce_loss: 1\n",
      "\u001b[34m\u001b[1mwandb\u001b[0m: \tconsistency_reg: 0\n",
      "\u001b[34m\u001b[1mwandb\u001b[0m: \tentropy_reg: 0\n",
      "\u001b[34m\u001b[1mwandb\u001b[0m: \tepochs: 20\n",
      "\u001b[34m\u001b[1mwandb\u001b[0m: \tlr_mlp: 3e-05\n",
      "\u001b[34m\u001b[1mwandb\u001b[0m: \tseed: 74\n",
      "\u001b[34m\u001b[1mwandb\u001b[0m: \tsize_reg: 0.01\n",
      "\u001b[34m\u001b[1mwandb\u001b[0m: \ttT: 2\n"
     ]
    },
    {
     "data": {
      "text/html": [
       "Ignoring project 'Explainer-NeuroSAT-Sweep' when running a sweep."
      ],
      "text/plain": [
       "<IPython.core.display.HTML object>"
      ]
     },
     "metadata": {},
     "output_type": "display_data"
    },
    {
     "data": {
      "text/html": [
       "Tracking run with wandb version 0.19.8"
      ],
      "text/plain": [
       "<IPython.core.display.HTML object>"
      ]
     },
     "metadata": {},
     "output_type": "display_data"
    },
    {
     "data": {
      "text/html": [
       "Run data is saved locally in <code>c:\\Users\\trist\\Git_repos\\BT-ML-PGESAT\\code\\PGExplainer NeuroSAT\\wandb\\run-20250410_112105-p2w9f3yz</code>"
      ],
      "text/plain": [
       "<IPython.core.display.HTML object>"
      ]
     },
     "metadata": {},
     "output_type": "display_data"
    },
    {
     "data": {
      "text/html": [
       "Syncing run <strong><a href='https://wandb.ai/tristan-schulz2001-tu-dortmund/Sweep-NeuroSAT-HARD-CONSTRAINT-AUROC/runs/p2w9f3yz' target=\"_blank\">wandering-sweep-6</a></strong> to <a href='https://wandb.ai/tristan-schulz2001-tu-dortmund/Sweep-NeuroSAT-HARD-CONSTRAINT-AUROC' target=\"_blank\">Weights & Biases</a> (<a href='https://wandb.me/developer-guide' target=\"_blank\">docs</a>)<br>Sweep page: <a href='https://wandb.ai/tristan-schulz2001-tu-dortmund/Sweep-NeuroSAT-HARD-CONSTRAINT-AUROC/sweeps/1kd67zlb' target=\"_blank\">https://wandb.ai/tristan-schulz2001-tu-dortmund/Sweep-NeuroSAT-HARD-CONSTRAINT-AUROC/sweeps/1kd67zlb</a>"
      ],
      "text/plain": [
       "<IPython.core.display.HTML object>"
      ]
     },
     "metadata": {},
     "output_type": "display_data"
    },
    {
     "data": {
      "text/html": [
       " View project at <a href='https://wandb.ai/tristan-schulz2001-tu-dortmund/Sweep-NeuroSAT-HARD-CONSTRAINT-AUROC' target=\"_blank\">https://wandb.ai/tristan-schulz2001-tu-dortmund/Sweep-NeuroSAT-HARD-CONSTRAINT-AUROC</a>"
      ],
      "text/plain": [
       "<IPython.core.display.HTML object>"
      ]
     },
     "metadata": {},
     "output_type": "display_data"
    },
    {
     "data": {
      "text/html": [
       " View sweep at <a href='https://wandb.ai/tristan-schulz2001-tu-dortmund/Sweep-NeuroSAT-HARD-CONSTRAINT-AUROC/sweeps/1kd67zlb' target=\"_blank\">https://wandb.ai/tristan-schulz2001-tu-dortmund/Sweep-NeuroSAT-HARD-CONSTRAINT-AUROC/sweeps/1kd67zlb</a>"
      ],
      "text/plain": [
       "<IPython.core.display.HTML object>"
      ]
     },
     "metadata": {},
     "output_type": "display_data"
    },
    {
     "data": {
      "text/html": [
       " View run at <a href='https://wandb.ai/tristan-schulz2001-tu-dortmund/Sweep-NeuroSAT-HARD-CONSTRAINT-AUROC/runs/p2w9f3yz' target=\"_blank\">https://wandb.ai/tristan-schulz2001-tu-dortmund/Sweep-NeuroSAT-HARD-CONSTRAINT-AUROC/runs/p2w9f3yz</a>"
      ],
      "text/plain": [
       "<IPython.core.display.HTML object>"
      ]
     },
     "metadata": {},
     "output_type": "display_data"
    },
    {
     "name": "stdout",
     "output_type": "stream",
     "text": [
      "Epoch 1, Loss: 9.153109550476074\n",
      "mean auroc score: 0.4874560236930847\n",
      "Epoch 2, Loss: 9.152517318725586\n",
      "mean auroc score: 0.4898471236228943\n",
      "Epoch 3, Loss: 9.133499145507812\n",
      "mean auroc score: 0.48895344138145447\n",
      "Epoch 4, Loss: 9.115131378173828\n",
      "mean auroc score: 0.49097833037376404\n",
      "Epoch 5, Loss: 9.107651710510254\n",
      "mean auroc score: 0.49231886863708496\n",
      "Epoch 6, Loss: 9.080284118652344\n",
      "mean auroc score: 0.49035075306892395\n",
      "Epoch 7, Loss: 9.062654495239258\n",
      "mean auroc score: 0.4923946261405945\n",
      "Epoch 8, Loss: 9.049546241760254\n",
      "mean auroc score: 0.4927268624305725\n",
      "Epoch 9, Loss: 9.012350082397461\n",
      "mean auroc score: 0.4961073398590088\n",
      "Epoch 10, Loss: 9.00658130645752\n",
      "mean auroc score: 0.5026914477348328\n",
      "Epoch 11, Loss: 8.956535339355469\n",
      "mean auroc score: 0.5040760636329651\n",
      "Epoch 12, Loss: 8.94642162322998\n",
      "mean auroc score: 0.5049037337303162\n",
      "Epoch 13, Loss: 8.90264892578125\n",
      "mean auroc score: 0.5112252235412598\n",
      "Epoch 14, Loss: 8.879971504211426\n",
      "mean auroc score: 0.5167584419250488\n",
      "Epoch 15, Loss: 8.849908828735352\n",
      "mean auroc score: 0.5146554112434387\n",
      "Epoch 16, Loss: 8.829392433166504\n",
      "mean auroc score: 0.5193833708763123\n",
      "Epoch 17, Loss: 8.804512977600098\n",
      "mean auroc score: 0.5216169357299805\n",
      "Epoch 18, Loss: 8.746720314025879\n",
      "mean auroc score: 0.5234772562980652\n",
      "Epoch 19, Loss: 8.721619606018066\n",
      "mean auroc score: 0.5213197469711304\n",
      "Epoch 20, Loss: 8.694647789001465\n",
      "mean auroc score: 0.5245981216430664\n"
     ]
    },
    {
     "data": {
      "text/html": [],
      "text/plain": [
       "<IPython.core.display.HTML object>"
      ]
     },
     "metadata": {},
     "output_type": "display_data"
    },
    {
     "data": {
      "text/html": [
       "<br>    <style><br>        .wandb-row {<br>            display: flex;<br>            flex-direction: row;<br>            flex-wrap: wrap;<br>            justify-content: flex-start;<br>            width: 100%;<br>        }<br>        .wandb-col {<br>            display: flex;<br>            flex-direction: column;<br>            flex-basis: 100%;<br>            flex: 1;<br>            padding: 10px;<br>        }<br>    </style><br><div class=\"wandb-row\"><div class=\"wandb-col\"><h3>Run history:</h3><br/><table class=\"wandb\"><tr><td>train/Loss</td><td>███▇▇▇▇▆▆▆▅▅▄▄▃▃▃▂▁▁</td></tr><tr><td>val/auroc</td><td>▁▁▁▂▂▂▂▂▃▄▄▄▅▇▆▇▇█▇█</td></tr><tr><td>val/highest_individual_auroc</td><td>▁</td></tr><tr><td>val/temperature</td><td>█▇▇▆▆▆▅▅▄▄▄▃▃▃▂▂▂▁▁▁</td></tr></table><br/></div><div class=\"wandb-col\"><h3>Run summary:</h3><br/><table class=\"wandb\"><tr><td>train/Loss</td><td>8.69465</td></tr><tr><td>val/auroc</td><td>0.5246</td></tr><tr><td>val/highest_individual_auroc</td><td>0.77211</td></tr><tr><td>val/temperature</td><td>2</td></tr></table><br/></div></div>"
      ],
      "text/plain": [
       "<IPython.core.display.HTML object>"
      ]
     },
     "metadata": {},
     "output_type": "display_data"
    },
    {
     "data": {
      "text/html": [
       " View run <strong style=\"color:#cdcd00\">wandering-sweep-6</strong> at: <a href='https://wandb.ai/tristan-schulz2001-tu-dortmund/Sweep-NeuroSAT-HARD-CONSTRAINT-AUROC/runs/p2w9f3yz' target=\"_blank\">https://wandb.ai/tristan-schulz2001-tu-dortmund/Sweep-NeuroSAT-HARD-CONSTRAINT-AUROC/runs/p2w9f3yz</a><br> View project at: <a href='https://wandb.ai/tristan-schulz2001-tu-dortmund/Sweep-NeuroSAT-HARD-CONSTRAINT-AUROC' target=\"_blank\">https://wandb.ai/tristan-schulz2001-tu-dortmund/Sweep-NeuroSAT-HARD-CONSTRAINT-AUROC</a><br>Synced 5 W&B file(s), 0 media file(s), 0 artifact file(s) and 0 other file(s)"
      ],
      "text/plain": [
       "<IPython.core.display.HTML object>"
      ]
     },
     "metadata": {},
     "output_type": "display_data"
    },
    {
     "data": {
      "text/html": [
       "Find logs at: <code>.\\wandb\\run-20250410_112105-p2w9f3yz\\logs</code>"
      ],
      "text/plain": [
       "<IPython.core.display.HTML object>"
      ]
     },
     "metadata": {},
     "output_type": "display_data"
    },
    {
     "name": "stderr",
     "output_type": "stream",
     "text": [
      "\u001b[34m\u001b[1mwandb\u001b[0m: Sweep Agent: Waiting for job.\n",
      "\u001b[34m\u001b[1mwandb\u001b[0m: Job received.\n",
      "\u001b[34m\u001b[1mwandb\u001b[0m: Agent Starting Run: w61xeziu with config:\n",
      "\u001b[34m\u001b[1mwandb\u001b[0m: \tbce_loss: 1\n",
      "\u001b[34m\u001b[1mwandb\u001b[0m: \tconsistency_reg: 0\n",
      "\u001b[34m\u001b[1mwandb\u001b[0m: \tentropy_reg: 0\n",
      "\u001b[34m\u001b[1mwandb\u001b[0m: \tepochs: 20\n",
      "\u001b[34m\u001b[1mwandb\u001b[0m: \tlr_mlp: 3e-05\n",
      "\u001b[34m\u001b[1mwandb\u001b[0m: \tseed: 75\n",
      "\u001b[34m\u001b[1mwandb\u001b[0m: \tsize_reg: 0.01\n",
      "\u001b[34m\u001b[1mwandb\u001b[0m: \ttT: 1\n"
     ]
    },
    {
     "data": {
      "text/html": [
       "Ignoring project 'Explainer-NeuroSAT-Sweep' when running a sweep."
      ],
      "text/plain": [
       "<IPython.core.display.HTML object>"
      ]
     },
     "metadata": {},
     "output_type": "display_data"
    },
    {
     "data": {
      "text/html": [
       "Tracking run with wandb version 0.19.8"
      ],
      "text/plain": [
       "<IPython.core.display.HTML object>"
      ]
     },
     "metadata": {},
     "output_type": "display_data"
    },
    {
     "data": {
      "text/html": [
       "Run data is saved locally in <code>c:\\Users\\trist\\Git_repos\\BT-ML-PGESAT\\code\\PGExplainer NeuroSAT\\wandb\\run-20250410_113723-w61xeziu</code>"
      ],
      "text/plain": [
       "<IPython.core.display.HTML object>"
      ]
     },
     "metadata": {},
     "output_type": "display_data"
    },
    {
     "data": {
      "text/html": [
       "Syncing run <strong><a href='https://wandb.ai/tristan-schulz2001-tu-dortmund/Sweep-NeuroSAT-HARD-CONSTRAINT-AUROC/runs/w61xeziu' target=\"_blank\">fancy-sweep-7</a></strong> to <a href='https://wandb.ai/tristan-schulz2001-tu-dortmund/Sweep-NeuroSAT-HARD-CONSTRAINT-AUROC' target=\"_blank\">Weights & Biases</a> (<a href='https://wandb.me/developer-guide' target=\"_blank\">docs</a>)<br>Sweep page: <a href='https://wandb.ai/tristan-schulz2001-tu-dortmund/Sweep-NeuroSAT-HARD-CONSTRAINT-AUROC/sweeps/1kd67zlb' target=\"_blank\">https://wandb.ai/tristan-schulz2001-tu-dortmund/Sweep-NeuroSAT-HARD-CONSTRAINT-AUROC/sweeps/1kd67zlb</a>"
      ],
      "text/plain": [
       "<IPython.core.display.HTML object>"
      ]
     },
     "metadata": {},
     "output_type": "display_data"
    },
    {
     "data": {
      "text/html": [
       " View project at <a href='https://wandb.ai/tristan-schulz2001-tu-dortmund/Sweep-NeuroSAT-HARD-CONSTRAINT-AUROC' target=\"_blank\">https://wandb.ai/tristan-schulz2001-tu-dortmund/Sweep-NeuroSAT-HARD-CONSTRAINT-AUROC</a>"
      ],
      "text/plain": [
       "<IPython.core.display.HTML object>"
      ]
     },
     "metadata": {},
     "output_type": "display_data"
    },
    {
     "data": {
      "text/html": [
       " View sweep at <a href='https://wandb.ai/tristan-schulz2001-tu-dortmund/Sweep-NeuroSAT-HARD-CONSTRAINT-AUROC/sweeps/1kd67zlb' target=\"_blank\">https://wandb.ai/tristan-schulz2001-tu-dortmund/Sweep-NeuroSAT-HARD-CONSTRAINT-AUROC/sweeps/1kd67zlb</a>"
      ],
      "text/plain": [
       "<IPython.core.display.HTML object>"
      ]
     },
     "metadata": {},
     "output_type": "display_data"
    },
    {
     "data": {
      "text/html": [
       " View run at <a href='https://wandb.ai/tristan-schulz2001-tu-dortmund/Sweep-NeuroSAT-HARD-CONSTRAINT-AUROC/runs/w61xeziu' target=\"_blank\">https://wandb.ai/tristan-schulz2001-tu-dortmund/Sweep-NeuroSAT-HARD-CONSTRAINT-AUROC/runs/w61xeziu</a>"
      ],
      "text/plain": [
       "<IPython.core.display.HTML object>"
      ]
     },
     "metadata": {},
     "output_type": "display_data"
    },
    {
     "name": "stdout",
     "output_type": "stream",
     "text": [
      "Epoch 1, Loss: 8.941617012023926\n",
      "mean auroc score: 0.5006551146507263\n",
      "Epoch 2, Loss: 8.926812171936035\n",
      "mean auroc score: 0.497092604637146\n",
      "Epoch 3, Loss: 8.9215726852417\n",
      "mean auroc score: 0.49549561738967896\n",
      "Epoch 4, Loss: 8.905929565429688\n",
      "mean auroc score: 0.49625787138938904\n",
      "Epoch 5, Loss: 8.881692886352539\n",
      "mean auroc score: 0.4932652711868286\n",
      "Epoch 6, Loss: 8.859960556030273\n",
      "mean auroc score: 0.4905272126197815\n",
      "Epoch 7, Loss: 8.831704139709473\n",
      "mean auroc score: 0.4886760115623474\n",
      "Epoch 8, Loss: 8.804412841796875\n",
      "mean auroc score: 0.48807084560394287\n",
      "Epoch 9, Loss: 8.786592483520508\n",
      "mean auroc score: 0.48841872811317444\n",
      "Epoch 10, Loss: 8.748559951782227\n",
      "mean auroc score: 0.489963561296463\n",
      "Epoch 11, Loss: 8.684247016906738\n",
      "mean auroc score: 0.48981866240501404\n",
      "Epoch 12, Loss: 8.656776428222656\n",
      "mean auroc score: 0.48884841799736023\n",
      "Epoch 13, Loss: 8.61847972869873\n",
      "mean auroc score: 0.4911445081233978\n",
      "Epoch 14, Loss: 8.596494674682617\n",
      "mean auroc score: 0.4890257716178894\n",
      "Epoch 15, Loss: 8.508337020874023\n",
      "mean auroc score: 0.4889630377292633\n",
      "Epoch 16, Loss: 8.42561149597168\n",
      "mean auroc score: 0.488371878862381\n",
      "Epoch 17, Loss: 8.398256301879883\n",
      "mean auroc score: 0.4894699156284332\n",
      "Epoch 18, Loss: 8.322393417358398\n",
      "mean auroc score: 0.4899385869503021\n",
      "Epoch 19, Loss: 8.240503311157227\n",
      "mean auroc score: 0.49052342772483826\n",
      "Epoch 20, Loss: 8.16186809539795\n",
      "mean auroc score: 0.49117565155029297\n"
     ]
    },
    {
     "data": {
      "text/html": [],
      "text/plain": [
       "<IPython.core.display.HTML object>"
      ]
     },
     "metadata": {},
     "output_type": "display_data"
    },
    {
     "data": {
      "text/html": [
       "<br>    <style><br>        .wandb-row {<br>            display: flex;<br>            flex-direction: row;<br>            flex-wrap: wrap;<br>            justify-content: flex-start;<br>            width: 100%;<br>        }<br>        .wandb-col {<br>            display: flex;<br>            flex-direction: column;<br>            flex-basis: 100%;<br>            flex: 1;<br>            padding: 10px;<br>        }<br>    </style><br><div class=\"wandb-row\"><div class=\"wandb-col\"><h3>Run history:</h3><br/><table class=\"wandb\"><tr><td>train/Loss</td><td>████▇▇▇▇▇▆▆▅▅▅▄▃▃▂▂▁</td></tr><tr><td>val/auroc</td><td>█▆▅▆▄▂▁▁▁▂▂▁▃▂▁▁▂▂▂▃</td></tr><tr><td>val/highest_individual_auroc</td><td>▁</td></tr><tr><td>val/temperature</td><td>█▇▇▆▆▅▅▄▄▃▃▃▂▂▂▂▂▁▁▁</td></tr></table><br/></div><div class=\"wandb-col\"><h3>Run summary:</h3><br/><table class=\"wandb\"><tr><td>train/Loss</td><td>8.16187</td></tr><tr><td>val/auroc</td><td>0.49118</td></tr><tr><td>val/highest_individual_auroc</td><td>0.63425</td></tr><tr><td>val/temperature</td><td>1</td></tr></table><br/></div></div>"
      ],
      "text/plain": [
       "<IPython.core.display.HTML object>"
      ]
     },
     "metadata": {},
     "output_type": "display_data"
    },
    {
     "data": {
      "text/html": [
       " View run <strong style=\"color:#cdcd00\">fancy-sweep-7</strong> at: <a href='https://wandb.ai/tristan-schulz2001-tu-dortmund/Sweep-NeuroSAT-HARD-CONSTRAINT-AUROC/runs/w61xeziu' target=\"_blank\">https://wandb.ai/tristan-schulz2001-tu-dortmund/Sweep-NeuroSAT-HARD-CONSTRAINT-AUROC/runs/w61xeziu</a><br> View project at: <a href='https://wandb.ai/tristan-schulz2001-tu-dortmund/Sweep-NeuroSAT-HARD-CONSTRAINT-AUROC' target=\"_blank\">https://wandb.ai/tristan-schulz2001-tu-dortmund/Sweep-NeuroSAT-HARD-CONSTRAINT-AUROC</a><br>Synced 5 W&B file(s), 0 media file(s), 0 artifact file(s) and 0 other file(s)"
      ],
      "text/plain": [
       "<IPython.core.display.HTML object>"
      ]
     },
     "metadata": {},
     "output_type": "display_data"
    },
    {
     "data": {
      "text/html": [
       "Find logs at: <code>.\\wandb\\run-20250410_113723-w61xeziu\\logs</code>"
      ],
      "text/plain": [
       "<IPython.core.display.HTML object>"
      ]
     },
     "metadata": {},
     "output_type": "display_data"
    },
    {
     "name": "stderr",
     "output_type": "stream",
     "text": [
      "\u001b[34m\u001b[1mwandb\u001b[0m: Agent Starting Run: gwjvmwox with config:\n",
      "\u001b[34m\u001b[1mwandb\u001b[0m: \tbce_loss: 1\n",
      "\u001b[34m\u001b[1mwandb\u001b[0m: \tconsistency_reg: 0\n",
      "\u001b[34m\u001b[1mwandb\u001b[0m: \tentropy_reg: 0\n",
      "\u001b[34m\u001b[1mwandb\u001b[0m: \tepochs: 20\n",
      "\u001b[34m\u001b[1mwandb\u001b[0m: \tlr_mlp: 3e-05\n",
      "\u001b[34m\u001b[1mwandb\u001b[0m: \tseed: 75\n",
      "\u001b[34m\u001b[1mwandb\u001b[0m: \tsize_reg: 0.01\n",
      "\u001b[34m\u001b[1mwandb\u001b[0m: \ttT: 2\n"
     ]
    },
    {
     "data": {
      "text/html": [
       "Ignoring project 'Explainer-NeuroSAT-Sweep' when running a sweep."
      ],
      "text/plain": [
       "<IPython.core.display.HTML object>"
      ]
     },
     "metadata": {},
     "output_type": "display_data"
    },
    {
     "data": {
      "text/html": [
       "Tracking run with wandb version 0.19.8"
      ],
      "text/plain": [
       "<IPython.core.display.HTML object>"
      ]
     },
     "metadata": {},
     "output_type": "display_data"
    },
    {
     "data": {
      "text/html": [
       "Run data is saved locally in <code>c:\\Users\\trist\\Git_repos\\BT-ML-PGESAT\\code\\PGExplainer NeuroSAT\\wandb\\run-20250410_115333-gwjvmwox</code>"
      ],
      "text/plain": [
       "<IPython.core.display.HTML object>"
      ]
     },
     "metadata": {},
     "output_type": "display_data"
    },
    {
     "data": {
      "text/html": [
       "Syncing run <strong><a href='https://wandb.ai/tristan-schulz2001-tu-dortmund/Sweep-NeuroSAT-HARD-CONSTRAINT-AUROC/runs/gwjvmwox' target=\"_blank\">comic-sweep-8</a></strong> to <a href='https://wandb.ai/tristan-schulz2001-tu-dortmund/Sweep-NeuroSAT-HARD-CONSTRAINT-AUROC' target=\"_blank\">Weights & Biases</a> (<a href='https://wandb.me/developer-guide' target=\"_blank\">docs</a>)<br>Sweep page: <a href='https://wandb.ai/tristan-schulz2001-tu-dortmund/Sweep-NeuroSAT-HARD-CONSTRAINT-AUROC/sweeps/1kd67zlb' target=\"_blank\">https://wandb.ai/tristan-schulz2001-tu-dortmund/Sweep-NeuroSAT-HARD-CONSTRAINT-AUROC/sweeps/1kd67zlb</a>"
      ],
      "text/plain": [
       "<IPython.core.display.HTML object>"
      ]
     },
     "metadata": {},
     "output_type": "display_data"
    },
    {
     "data": {
      "text/html": [
       " View project at <a href='https://wandb.ai/tristan-schulz2001-tu-dortmund/Sweep-NeuroSAT-HARD-CONSTRAINT-AUROC' target=\"_blank\">https://wandb.ai/tristan-schulz2001-tu-dortmund/Sweep-NeuroSAT-HARD-CONSTRAINT-AUROC</a>"
      ],
      "text/plain": [
       "<IPython.core.display.HTML object>"
      ]
     },
     "metadata": {},
     "output_type": "display_data"
    },
    {
     "data": {
      "text/html": [
       " View sweep at <a href='https://wandb.ai/tristan-schulz2001-tu-dortmund/Sweep-NeuroSAT-HARD-CONSTRAINT-AUROC/sweeps/1kd67zlb' target=\"_blank\">https://wandb.ai/tristan-schulz2001-tu-dortmund/Sweep-NeuroSAT-HARD-CONSTRAINT-AUROC/sweeps/1kd67zlb</a>"
      ],
      "text/plain": [
       "<IPython.core.display.HTML object>"
      ]
     },
     "metadata": {},
     "output_type": "display_data"
    },
    {
     "data": {
      "text/html": [
       " View run at <a href='https://wandb.ai/tristan-schulz2001-tu-dortmund/Sweep-NeuroSAT-HARD-CONSTRAINT-AUROC/runs/gwjvmwox' target=\"_blank\">https://wandb.ai/tristan-schulz2001-tu-dortmund/Sweep-NeuroSAT-HARD-CONSTRAINT-AUROC/runs/gwjvmwox</a>"
      ],
      "text/plain": [
       "<IPython.core.display.HTML object>"
      ]
     },
     "metadata": {},
     "output_type": "display_data"
    },
    {
     "name": "stdout",
     "output_type": "stream",
     "text": [
      "Epoch 1, Loss: 8.94115924835205\n",
      "mean auroc score: 0.5006551146507263\n",
      "Epoch 2, Loss: 8.926607131958008\n",
      "mean auroc score: 0.497092604637146\n",
      "Epoch 3, Loss: 8.921979904174805\n",
      "mean auroc score: 0.49549561738967896\n",
      "Epoch 4, Loss: 8.90823745727539\n",
      "mean auroc score: 0.49625787138938904\n",
      "Epoch 5, Loss: 8.887090682983398\n",
      "mean auroc score: 0.4932652711868286\n",
      "Epoch 6, Loss: 8.871317863464355\n",
      "mean auroc score: 0.4906492829322815\n",
      "Epoch 7, Loss: 8.849047660827637\n",
      "mean auroc score: 0.4890878200531006\n",
      "Epoch 8, Loss: 8.825712203979492\n",
      "mean auroc score: 0.4884850084781647\n",
      "Epoch 9, Loss: 8.815145492553711\n",
      "mean auroc score: 0.48869019746780396\n",
      "Epoch 10, Loss: 8.787847518920898\n",
      "mean auroc score: 0.489568829536438\n",
      "Epoch 11, Loss: 8.746679306030273\n",
      "mean auroc score: 0.48990902304649353\n",
      "Epoch 12, Loss: 8.730499267578125\n",
      "mean auroc score: 0.4887602627277374\n"
     ]
    },
    {
     "name": "stderr",
     "output_type": "stream",
     "text": [
      "\u001b[34m\u001b[1mwandb\u001b[0m: Network error (ConnectTimeout), entering retry loop.\n"
     ]
    },
    {
     "name": "stdout",
     "output_type": "stream",
     "text": [
      "Epoch 13, Loss: 8.702570915222168\n",
      "mean auroc score: 0.49063101410865784\n",
      "Epoch 14, Loss: 8.690164566040039\n",
      "mean auroc score: 0.4893478453159332\n",
      "Epoch 15, Loss: 8.631532669067383\n",
      "mean auroc score: 0.4895190894603729\n",
      "Epoch 16, Loss: 8.589303970336914\n",
      "mean auroc score: 0.48777449131011963\n",
      "Epoch 17, Loss: 8.569009780883789\n",
      "mean auroc score: 0.489185094833374\n",
      "Epoch 18, Loss: 8.518086433410645\n",
      "mean auroc score: 0.4896374046802521\n",
      "Epoch 19, Loss: 8.468008995056152\n",
      "mean auroc score: 0.490017831325531\n",
      "Epoch 20, Loss: 8.4324312210083\n",
      "mean auroc score: 0.49150049686431885\n"
     ]
    },
    {
     "data": {
      "text/html": [],
      "text/plain": [
       "<IPython.core.display.HTML object>"
      ]
     },
     "metadata": {},
     "output_type": "display_data"
    },
    {
     "data": {
      "text/html": [
       "<br>    <style><br>        .wandb-row {<br>            display: flex;<br>            flex-direction: row;<br>            flex-wrap: wrap;<br>            justify-content: flex-start;<br>            width: 100%;<br>        }<br>        .wandb-col {<br>            display: flex;<br>            flex-direction: column;<br>            flex-basis: 100%;<br>            flex: 1;<br>            padding: 10px;<br>        }<br>    </style><br><div class=\"wandb-row\"><div class=\"wandb-col\"><h3>Run history:</h3><br/><table class=\"wandb\"><tr><td>train/Loss</td><td>████▇▇▇▆▆▆▅▅▅▅▄▃▃▂▁▁</td></tr><tr><td>val/auroc</td><td>█▆▅▆▄▃▂▁▁▂▂▂▃▂▂▁▂▂▂▃</td></tr><tr><td>val/highest_individual_auroc</td><td>▁</td></tr><tr><td>val/temperature</td><td>█▇▇▆▆▆▅▅▄▄▄▃▃▃▂▂▂▁▁▁</td></tr></table><br/></div><div class=\"wandb-col\"><h3>Run summary:</h3><br/><table class=\"wandb\"><tr><td>train/Loss</td><td>8.43243</td></tr><tr><td>val/auroc</td><td>0.4915</td></tr><tr><td>val/highest_individual_auroc</td><td>0.63425</td></tr><tr><td>val/temperature</td><td>2</td></tr></table><br/></div></div>"
      ],
      "text/plain": [
       "<IPython.core.display.HTML object>"
      ]
     },
     "metadata": {},
     "output_type": "display_data"
    },
    {
     "data": {
      "text/html": [
       " View run <strong style=\"color:#cdcd00\">comic-sweep-8</strong> at: <a href='https://wandb.ai/tristan-schulz2001-tu-dortmund/Sweep-NeuroSAT-HARD-CONSTRAINT-AUROC/runs/gwjvmwox' target=\"_blank\">https://wandb.ai/tristan-schulz2001-tu-dortmund/Sweep-NeuroSAT-HARD-CONSTRAINT-AUROC/runs/gwjvmwox</a><br> View project at: <a href='https://wandb.ai/tristan-schulz2001-tu-dortmund/Sweep-NeuroSAT-HARD-CONSTRAINT-AUROC' target=\"_blank\">https://wandb.ai/tristan-schulz2001-tu-dortmund/Sweep-NeuroSAT-HARD-CONSTRAINT-AUROC</a><br>Synced 5 W&B file(s), 0 media file(s), 0 artifact file(s) and 0 other file(s)"
      ],
      "text/plain": [
       "<IPython.core.display.HTML object>"
      ]
     },
     "metadata": {},
     "output_type": "display_data"
    },
    {
     "data": {
      "text/html": [
       "Find logs at: <code>.\\wandb\\run-20250410_115333-gwjvmwox\\logs</code>"
      ],
      "text/plain": [
       "<IPython.core.display.HTML object>"
      ]
     },
     "metadata": {},
     "output_type": "display_data"
    },
    {
     "name": "stderr",
     "output_type": "stream",
     "text": [
      "\u001b[34m\u001b[1mwandb\u001b[0m: Agent Starting Run: 9pvbj9c8 with config:\n",
      "\u001b[34m\u001b[1mwandb\u001b[0m: \tbce_loss: 1\n",
      "\u001b[34m\u001b[1mwandb\u001b[0m: \tconsistency_reg: 0\n",
      "\u001b[34m\u001b[1mwandb\u001b[0m: \tentropy_reg: 5\n",
      "\u001b[34m\u001b[1mwandb\u001b[0m: \tepochs: 20\n",
      "\u001b[34m\u001b[1mwandb\u001b[0m: \tlr_mlp: 0.0001\n",
      "\u001b[34m\u001b[1mwandb\u001b[0m: \tseed: 74\n",
      "\u001b[34m\u001b[1mwandb\u001b[0m: \tsize_reg: 0.01\n",
      "\u001b[34m\u001b[1mwandb\u001b[0m: \ttT: 1\n"
     ]
    },
    {
     "data": {
      "text/html": [
       "Ignoring project 'Explainer-NeuroSAT-Sweep' when running a sweep."
      ],
      "text/plain": [
       "<IPython.core.display.HTML object>"
      ]
     },
     "metadata": {},
     "output_type": "display_data"
    },
    {
     "data": {
      "text/html": [
       "Tracking run with wandb version 0.19.8"
      ],
      "text/plain": [
       "<IPython.core.display.HTML object>"
      ]
     },
     "metadata": {},
     "output_type": "display_data"
    },
    {
     "data": {
      "text/html": [
       "Run data is saved locally in <code>c:\\Users\\trist\\Git_repos\\BT-ML-PGESAT\\code\\PGExplainer NeuroSAT\\wandb\\run-20250410_120926-9pvbj9c8</code>"
      ],
      "text/plain": [
       "<IPython.core.display.HTML object>"
      ]
     },
     "metadata": {},
     "output_type": "display_data"
    },
    {
     "data": {
      "text/html": [
       "Syncing run <strong><a href='https://wandb.ai/tristan-schulz2001-tu-dortmund/Sweep-NeuroSAT-HARD-CONSTRAINT-AUROC/runs/9pvbj9c8' target=\"_blank\">twilight-sweep-9</a></strong> to <a href='https://wandb.ai/tristan-schulz2001-tu-dortmund/Sweep-NeuroSAT-HARD-CONSTRAINT-AUROC' target=\"_blank\">Weights & Biases</a> (<a href='https://wandb.me/developer-guide' target=\"_blank\">docs</a>)<br>Sweep page: <a href='https://wandb.ai/tristan-schulz2001-tu-dortmund/Sweep-NeuroSAT-HARD-CONSTRAINT-AUROC/sweeps/1kd67zlb' target=\"_blank\">https://wandb.ai/tristan-schulz2001-tu-dortmund/Sweep-NeuroSAT-HARD-CONSTRAINT-AUROC/sweeps/1kd67zlb</a>"
      ],
      "text/plain": [
       "<IPython.core.display.HTML object>"
      ]
     },
     "metadata": {},
     "output_type": "display_data"
    },
    {
     "data": {
      "text/html": [
       " View project at <a href='https://wandb.ai/tristan-schulz2001-tu-dortmund/Sweep-NeuroSAT-HARD-CONSTRAINT-AUROC' target=\"_blank\">https://wandb.ai/tristan-schulz2001-tu-dortmund/Sweep-NeuroSAT-HARD-CONSTRAINT-AUROC</a>"
      ],
      "text/plain": [
       "<IPython.core.display.HTML object>"
      ]
     },
     "metadata": {},
     "output_type": "display_data"
    },
    {
     "data": {
      "text/html": [
       " View sweep at <a href='https://wandb.ai/tristan-schulz2001-tu-dortmund/Sweep-NeuroSAT-HARD-CONSTRAINT-AUROC/sweeps/1kd67zlb' target=\"_blank\">https://wandb.ai/tristan-schulz2001-tu-dortmund/Sweep-NeuroSAT-HARD-CONSTRAINT-AUROC/sweeps/1kd67zlb</a>"
      ],
      "text/plain": [
       "<IPython.core.display.HTML object>"
      ]
     },
     "metadata": {},
     "output_type": "display_data"
    },
    {
     "data": {
      "text/html": [
       " View run at <a href='https://wandb.ai/tristan-schulz2001-tu-dortmund/Sweep-NeuroSAT-HARD-CONSTRAINT-AUROC/runs/9pvbj9c8' target=\"_blank\">https://wandb.ai/tristan-schulz2001-tu-dortmund/Sweep-NeuroSAT-HARD-CONSTRAINT-AUROC/runs/9pvbj9c8</a>"
      ],
      "text/plain": [
       "<IPython.core.display.HTML object>"
      ]
     },
     "metadata": {},
     "output_type": "display_data"
    },
    {
     "name": "stdout",
     "output_type": "stream",
     "text": [
      "Epoch 1, Loss: 10.004037857055664\n",
      "mean auroc score: 0.4891628623008728\n",
      "Epoch 2, Loss: 9.953716278076172\n",
      "mean auroc score: 0.490462064743042\n",
      "Epoch 3, Loss: 9.874677658081055\n",
      "mean auroc score: 0.5019503235816956\n",
      "Epoch 4, Loss: 9.790657997131348\n",
      "mean auroc score: 0.5136950016021729\n",
      "Epoch 5, Loss: 9.72154712677002\n",
      "mean auroc score: 0.5190628170967102\n",
      "Epoch 6, Loss: 9.632292747497559\n",
      "mean auroc score: 0.5238277912139893\n",
      "Epoch 7, Loss: 9.560552597045898\n",
      "mean auroc score: 0.5248551964759827\n",
      "Epoch 8, Loss: 9.4986572265625\n",
      "mean auroc score: 0.527639627456665\n",
      "Epoch 9, Loss: 9.394063949584961\n",
      "mean auroc score: 0.5281552672386169\n",
      "Epoch 10, Loss: 9.339085578918457\n",
      "mean auroc score: 0.5252689123153687\n",
      "Epoch 11, Loss: 9.203106880187988\n",
      "mean auroc score: 0.5261321067810059\n",
      "Epoch 12, Loss: 9.129940032958984\n",
      "mean auroc score: 0.532546877861023\n",
      "Epoch 13, Loss: 8.974796295166016\n",
      "mean auroc score: 0.5341784954071045\n",
      "Epoch 14, Loss: 8.864551544189453\n",
      "mean auroc score: 0.5352891683578491\n",
      "Epoch 15, Loss: 8.715421676635742\n",
      "mean auroc score: 0.5397708415985107\n",
      "Epoch 16, Loss: 8.571969985961914\n",
      "mean auroc score: 0.5381509065628052\n",
      "Epoch 17, Loss: 8.418834686279297\n",
      "mean auroc score: 0.5371243953704834\n",
      "Epoch 18, Loss: 8.17789077758789\n",
      "mean auroc score: 0.5344482660293579\n",
      "Epoch 19, Loss: 7.971099853515625\n",
      "mean auroc score: 0.5349264144897461\n",
      "Epoch 20, Loss: 7.8491716384887695\n",
      "mean auroc score: 0.5348127484321594\n"
     ]
    },
    {
     "data": {
      "text/html": [],
      "text/plain": [
       "<IPython.core.display.HTML object>"
      ]
     },
     "metadata": {},
     "output_type": "display_data"
    },
    {
     "data": {
      "text/html": [
       "<br>    <style><br>        .wandb-row {<br>            display: flex;<br>            flex-direction: row;<br>            flex-wrap: wrap;<br>            justify-content: flex-start;<br>            width: 100%;<br>        }<br>        .wandb-col {<br>            display: flex;<br>            flex-direction: column;<br>            flex-basis: 100%;<br>            flex: 1;<br>            padding: 10px;<br>        }<br>    </style><br><div class=\"wandb-row\"><div class=\"wandb-col\"><h3>Run history:</h3><br/><table class=\"wandb\"><tr><td>train/Loss</td><td>███▇▇▇▇▆▆▆▅▅▅▄▄▃▃▂▁▁</td></tr><tr><td>val/auroc</td><td>▁▁▃▄▅▆▆▆▆▆▆▇▇▇███▇▇▇</td></tr><tr><td>val/highest_individual_auroc</td><td>▁</td></tr><tr><td>val/temperature</td><td>█▇▇▆▆▅▅▄▄▃▃▃▂▂▂▂▂▁▁▁</td></tr></table><br/></div><div class=\"wandb-col\"><h3>Run summary:</h3><br/><table class=\"wandb\"><tr><td>train/Loss</td><td>7.84917</td></tr><tr><td>val/auroc</td><td>0.53481</td></tr><tr><td>val/highest_individual_auroc</td><td>0.74986</td></tr><tr><td>val/temperature</td><td>1</td></tr></table><br/></div></div>"
      ],
      "text/plain": [
       "<IPython.core.display.HTML object>"
      ]
     },
     "metadata": {},
     "output_type": "display_data"
    },
    {
     "data": {
      "text/html": [
       " View run <strong style=\"color:#cdcd00\">twilight-sweep-9</strong> at: <a href='https://wandb.ai/tristan-schulz2001-tu-dortmund/Sweep-NeuroSAT-HARD-CONSTRAINT-AUROC/runs/9pvbj9c8' target=\"_blank\">https://wandb.ai/tristan-schulz2001-tu-dortmund/Sweep-NeuroSAT-HARD-CONSTRAINT-AUROC/runs/9pvbj9c8</a><br> View project at: <a href='https://wandb.ai/tristan-schulz2001-tu-dortmund/Sweep-NeuroSAT-HARD-CONSTRAINT-AUROC' target=\"_blank\">https://wandb.ai/tristan-schulz2001-tu-dortmund/Sweep-NeuroSAT-HARD-CONSTRAINT-AUROC</a><br>Synced 5 W&B file(s), 0 media file(s), 0 artifact file(s) and 0 other file(s)"
      ],
      "text/plain": [
       "<IPython.core.display.HTML object>"
      ]
     },
     "metadata": {},
     "output_type": "display_data"
    },
    {
     "data": {
      "text/html": [
       "Find logs at: <code>.\\wandb\\run-20250410_120926-9pvbj9c8\\logs</code>"
      ],
      "text/plain": [
       "<IPython.core.display.HTML object>"
      ]
     },
     "metadata": {},
     "output_type": "display_data"
    },
    {
     "name": "stderr",
     "output_type": "stream",
     "text": [
      "\u001b[34m\u001b[1mwandb\u001b[0m: Agent Starting Run: gqixjhcn with config:\n",
      "\u001b[34m\u001b[1mwandb\u001b[0m: \tbce_loss: 1\n",
      "\u001b[34m\u001b[1mwandb\u001b[0m: \tconsistency_reg: 0\n",
      "\u001b[34m\u001b[1mwandb\u001b[0m: \tentropy_reg: 5\n",
      "\u001b[34m\u001b[1mwandb\u001b[0m: \tepochs: 20\n",
      "\u001b[34m\u001b[1mwandb\u001b[0m: \tlr_mlp: 0.0001\n",
      "\u001b[34m\u001b[1mwandb\u001b[0m: \tseed: 74\n",
      "\u001b[34m\u001b[1mwandb\u001b[0m: \tsize_reg: 0.01\n",
      "\u001b[34m\u001b[1mwandb\u001b[0m: \ttT: 2\n"
     ]
    },
    {
     "data": {
      "text/html": [
       "Ignoring project 'Explainer-NeuroSAT-Sweep' when running a sweep."
      ],
      "text/plain": [
       "<IPython.core.display.HTML object>"
      ]
     },
     "metadata": {},
     "output_type": "display_data"
    },
    {
     "data": {
      "text/html": [
       "Tracking run with wandb version 0.19.8"
      ],
      "text/plain": [
       "<IPython.core.display.HTML object>"
      ]
     },
     "metadata": {},
     "output_type": "display_data"
    },
    {
     "data": {
      "text/html": [
       "Run data is saved locally in <code>c:\\Users\\trist\\Git_repos\\BT-ML-PGESAT\\code\\PGExplainer NeuroSAT\\wandb\\run-20250410_122530-gqixjhcn</code>"
      ],
      "text/plain": [
       "<IPython.core.display.HTML object>"
      ]
     },
     "metadata": {},
     "output_type": "display_data"
    },
    {
     "data": {
      "text/html": [
       "Syncing run <strong><a href='https://wandb.ai/tristan-schulz2001-tu-dortmund/Sweep-NeuroSAT-HARD-CONSTRAINT-AUROC/runs/gqixjhcn' target=\"_blank\">sunny-sweep-10</a></strong> to <a href='https://wandb.ai/tristan-schulz2001-tu-dortmund/Sweep-NeuroSAT-HARD-CONSTRAINT-AUROC' target=\"_blank\">Weights & Biases</a> (<a href='https://wandb.me/developer-guide' target=\"_blank\">docs</a>)<br>Sweep page: <a href='https://wandb.ai/tristan-schulz2001-tu-dortmund/Sweep-NeuroSAT-HARD-CONSTRAINT-AUROC/sweeps/1kd67zlb' target=\"_blank\">https://wandb.ai/tristan-schulz2001-tu-dortmund/Sweep-NeuroSAT-HARD-CONSTRAINT-AUROC/sweeps/1kd67zlb</a>"
      ],
      "text/plain": [
       "<IPython.core.display.HTML object>"
      ]
     },
     "metadata": {},
     "output_type": "display_data"
    },
    {
     "data": {
      "text/html": [
       " View project at <a href='https://wandb.ai/tristan-schulz2001-tu-dortmund/Sweep-NeuroSAT-HARD-CONSTRAINT-AUROC' target=\"_blank\">https://wandb.ai/tristan-schulz2001-tu-dortmund/Sweep-NeuroSAT-HARD-CONSTRAINT-AUROC</a>"
      ],
      "text/plain": [
       "<IPython.core.display.HTML object>"
      ]
     },
     "metadata": {},
     "output_type": "display_data"
    },
    {
     "data": {
      "text/html": [
       " View sweep at <a href='https://wandb.ai/tristan-schulz2001-tu-dortmund/Sweep-NeuroSAT-HARD-CONSTRAINT-AUROC/sweeps/1kd67zlb' target=\"_blank\">https://wandb.ai/tristan-schulz2001-tu-dortmund/Sweep-NeuroSAT-HARD-CONSTRAINT-AUROC/sweeps/1kd67zlb</a>"
      ],
      "text/plain": [
       "<IPython.core.display.HTML object>"
      ]
     },
     "metadata": {},
     "output_type": "display_data"
    },
    {
     "data": {
      "text/html": [
       " View run at <a href='https://wandb.ai/tristan-schulz2001-tu-dortmund/Sweep-NeuroSAT-HARD-CONSTRAINT-AUROC/runs/gqixjhcn' target=\"_blank\">https://wandb.ai/tristan-schulz2001-tu-dortmund/Sweep-NeuroSAT-HARD-CONSTRAINT-AUROC/runs/gqixjhcn</a>"
      ],
      "text/plain": [
       "<IPython.core.display.HTML object>"
      ]
     },
     "metadata": {},
     "output_type": "display_data"
    },
    {
     "name": "stdout",
     "output_type": "stream",
     "text": [
      "Epoch 1, Loss: 9.99791431427002\n",
      "mean auroc score: 0.4891628623008728\n",
      "Epoch 2, Loss: 9.944795608520508\n",
      "mean auroc score: 0.490462064743042\n",
      "Epoch 3, Loss: 9.869760513305664\n",
      "mean auroc score: 0.5014970302581787\n",
      "Epoch 4, Loss: 9.794839859008789\n",
      "mean auroc score: 0.5133092403411865\n",
      "Epoch 5, Loss: 9.736604690551758\n",
      "mean auroc score: 0.5193172693252563\n",
      "Epoch 6, Loss: 9.665790557861328\n",
      "mean auroc score: 0.5240538120269775\n",
      "Epoch 7, Loss: 9.613348007202148\n",
      "mean auroc score: 0.5253211855888367\n",
      "Epoch 8, Loss: 9.570550918579102\n",
      "mean auroc score: 0.5278806686401367\n",
      "Epoch 9, Loss: 9.502501487731934\n",
      "mean auroc score: 0.5286841988563538\n",
      "Epoch 10, Loss: 9.468446731567383\n",
      "mean auroc score: 0.5262126922607422\n",
      "Epoch 11, Loss: 9.382489204406738\n",
      "mean auroc score: 0.5250024795532227\n",
      "Epoch 12, Loss: 9.338171005249023\n",
      "mean auroc score: 0.5329347252845764\n",
      "Epoch 13, Loss: 9.25090217590332\n",
      "mean auroc score: 0.535435140132904\n",
      "Epoch 14, Loss: 9.184406280517578\n",
      "mean auroc score: 0.5348867177963257\n",
      "Epoch 15, Loss: 9.09996223449707\n",
      "mean auroc score: 0.538549542427063\n",
      "Epoch 16, Loss: 9.022333145141602\n",
      "mean auroc score: 0.540248692035675\n",
      "Epoch 17, Loss: 8.933263778686523\n",
      "mean auroc score: 0.5375886559486389\n",
      "Epoch 18, Loss: 8.796350479125977\n",
      "mean auroc score: 0.5350207090377808\n",
      "Epoch 19, Loss: 8.693585395812988\n",
      "mean auroc score: 0.534825325012207\n",
      "Epoch 20, Loss: 8.579336166381836\n",
      "mean auroc score: 0.5358165502548218\n"
     ]
    },
    {
     "data": {
      "text/html": [],
      "text/plain": [
       "<IPython.core.display.HTML object>"
      ]
     },
     "metadata": {},
     "output_type": "display_data"
    },
    {
     "data": {
      "text/html": [
       "<br>    <style><br>        .wandb-row {<br>            display: flex;<br>            flex-direction: row;<br>            flex-wrap: wrap;<br>            justify-content: flex-start;<br>            width: 100%;<br>        }<br>        .wandb-col {<br>            display: flex;<br>            flex-direction: column;<br>            flex-basis: 100%;<br>            flex: 1;<br>            padding: 10px;<br>        }<br>    </style><br><div class=\"wandb-row\"><div class=\"wandb-col\"><h3>Run history:</h3><br/><table class=\"wandb\"><tr><td>train/Loss</td><td>██▇▇▇▆▆▆▆▅▅▅▄▄▄▃▃▂▂▁</td></tr><tr><td>val/auroc</td><td>▁▁▃▄▅▆▆▆▆▆▆▇▇▇███▇▇▇</td></tr><tr><td>val/highest_individual_auroc</td><td>▁</td></tr><tr><td>val/temperature</td><td>█▇▇▆▆▆▅▅▄▄▄▃▃▃▂▂▂▁▁▁</td></tr></table><br/></div><div class=\"wandb-col\"><h3>Run summary:</h3><br/><table class=\"wandb\"><tr><td>train/Loss</td><td>8.57934</td></tr><tr><td>val/auroc</td><td>0.53582</td></tr><tr><td>val/highest_individual_auroc</td><td>0.74391</td></tr><tr><td>val/temperature</td><td>2</td></tr></table><br/></div></div>"
      ],
      "text/plain": [
       "<IPython.core.display.HTML object>"
      ]
     },
     "metadata": {},
     "output_type": "display_data"
    },
    {
     "data": {
      "text/html": [
       " View run <strong style=\"color:#cdcd00\">sunny-sweep-10</strong> at: <a href='https://wandb.ai/tristan-schulz2001-tu-dortmund/Sweep-NeuroSAT-HARD-CONSTRAINT-AUROC/runs/gqixjhcn' target=\"_blank\">https://wandb.ai/tristan-schulz2001-tu-dortmund/Sweep-NeuroSAT-HARD-CONSTRAINT-AUROC/runs/gqixjhcn</a><br> View project at: <a href='https://wandb.ai/tristan-schulz2001-tu-dortmund/Sweep-NeuroSAT-HARD-CONSTRAINT-AUROC' target=\"_blank\">https://wandb.ai/tristan-schulz2001-tu-dortmund/Sweep-NeuroSAT-HARD-CONSTRAINT-AUROC</a><br>Synced 5 W&B file(s), 0 media file(s), 0 artifact file(s) and 0 other file(s)"
      ],
      "text/plain": [
       "<IPython.core.display.HTML object>"
      ]
     },
     "metadata": {},
     "output_type": "display_data"
    },
    {
     "data": {
      "text/html": [
       "Find logs at: <code>.\\wandb\\run-20250410_122530-gqixjhcn\\logs</code>"
      ],
      "text/plain": [
       "<IPython.core.display.HTML object>"
      ]
     },
     "metadata": {},
     "output_type": "display_data"
    },
    {
     "name": "stderr",
     "output_type": "stream",
     "text": [
      "\u001b[34m\u001b[1mwandb\u001b[0m: Agent Starting Run: 80wvwuic with config:\n",
      "\u001b[34m\u001b[1mwandb\u001b[0m: \tbce_loss: 1\n",
      "\u001b[34m\u001b[1mwandb\u001b[0m: \tconsistency_reg: 0\n",
      "\u001b[34m\u001b[1mwandb\u001b[0m: \tentropy_reg: 5\n",
      "\u001b[34m\u001b[1mwandb\u001b[0m: \tepochs: 20\n",
      "\u001b[34m\u001b[1mwandb\u001b[0m: \tlr_mlp: 0.0001\n",
      "\u001b[34m\u001b[1mwandb\u001b[0m: \tseed: 75\n",
      "\u001b[34m\u001b[1mwandb\u001b[0m: \tsize_reg: 0.01\n",
      "\u001b[34m\u001b[1mwandb\u001b[0m: \ttT: 1\n"
     ]
    },
    {
     "data": {
      "text/html": [
       "Ignoring project 'Explainer-NeuroSAT-Sweep' when running a sweep."
      ],
      "text/plain": [
       "<IPython.core.display.HTML object>"
      ]
     },
     "metadata": {},
     "output_type": "display_data"
    },
    {
     "data": {
      "text/html": [
       "Tracking run with wandb version 0.19.8"
      ],
      "text/plain": [
       "<IPython.core.display.HTML object>"
      ]
     },
     "metadata": {},
     "output_type": "display_data"
    },
    {
     "data": {
      "text/html": [
       "Run data is saved locally in <code>c:\\Users\\trist\\Git_repos\\BT-ML-PGESAT\\code\\PGExplainer NeuroSAT\\wandb\\run-20250410_124037-80wvwuic</code>"
      ],
      "text/plain": [
       "<IPython.core.display.HTML object>"
      ]
     },
     "metadata": {},
     "output_type": "display_data"
    },
    {
     "data": {
      "text/html": [
       "Syncing run <strong><a href='https://wandb.ai/tristan-schulz2001-tu-dortmund/Sweep-NeuroSAT-HARD-CONSTRAINT-AUROC/runs/80wvwuic' target=\"_blank\">balmy-sweep-11</a></strong> to <a href='https://wandb.ai/tristan-schulz2001-tu-dortmund/Sweep-NeuroSAT-HARD-CONSTRAINT-AUROC' target=\"_blank\">Weights & Biases</a> (<a href='https://wandb.me/developer-guide' target=\"_blank\">docs</a>)<br>Sweep page: <a href='https://wandb.ai/tristan-schulz2001-tu-dortmund/Sweep-NeuroSAT-HARD-CONSTRAINT-AUROC/sweeps/1kd67zlb' target=\"_blank\">https://wandb.ai/tristan-schulz2001-tu-dortmund/Sweep-NeuroSAT-HARD-CONSTRAINT-AUROC/sweeps/1kd67zlb</a>"
      ],
      "text/plain": [
       "<IPython.core.display.HTML object>"
      ]
     },
     "metadata": {},
     "output_type": "display_data"
    },
    {
     "data": {
      "text/html": [
       " View project at <a href='https://wandb.ai/tristan-schulz2001-tu-dortmund/Sweep-NeuroSAT-HARD-CONSTRAINT-AUROC' target=\"_blank\">https://wandb.ai/tristan-schulz2001-tu-dortmund/Sweep-NeuroSAT-HARD-CONSTRAINT-AUROC</a>"
      ],
      "text/plain": [
       "<IPython.core.display.HTML object>"
      ]
     },
     "metadata": {},
     "output_type": "display_data"
    },
    {
     "data": {
      "text/html": [
       " View sweep at <a href='https://wandb.ai/tristan-schulz2001-tu-dortmund/Sweep-NeuroSAT-HARD-CONSTRAINT-AUROC/sweeps/1kd67zlb' target=\"_blank\">https://wandb.ai/tristan-schulz2001-tu-dortmund/Sweep-NeuroSAT-HARD-CONSTRAINT-AUROC/sweeps/1kd67zlb</a>"
      ],
      "text/plain": [
       "<IPython.core.display.HTML object>"
      ]
     },
     "metadata": {},
     "output_type": "display_data"
    },
    {
     "data": {
      "text/html": [
       " View run at <a href='https://wandb.ai/tristan-schulz2001-tu-dortmund/Sweep-NeuroSAT-HARD-CONSTRAINT-AUROC/runs/80wvwuic' target=\"_blank\">https://wandb.ai/tristan-schulz2001-tu-dortmund/Sweep-NeuroSAT-HARD-CONSTRAINT-AUROC/runs/80wvwuic</a>"
      ],
      "text/plain": [
       "<IPython.core.display.HTML object>"
      ]
     },
     "metadata": {},
     "output_type": "display_data"
    },
    {
     "name": "stdout",
     "output_type": "stream",
     "text": [
      "Epoch 1, Loss: 9.785578727722168\n",
      "mean auroc score: 0.495727002620697\n",
      "Epoch 2, Loss: 9.734755516052246\n",
      "mean auroc score: 0.4900554120540619\n",
      "Epoch 3, Loss: 9.687551498413086\n",
      "mean auroc score: 0.48915863037109375\n",
      "Epoch 4, Loss: 9.621862411499023\n",
      "mean auroc score: 0.49092042446136475\n",
      "Epoch 5, Loss: 9.542905807495117\n",
      "mean auroc score: 0.4878805875778198\n",
      "Epoch 6, Loss: 9.455072402954102\n",
      "mean auroc score: 0.4910328686237335\n",
      "Epoch 7, Loss: 9.355814933776855\n",
      "mean auroc score: 0.4900112748146057\n",
      "Epoch 8, Loss: 9.251019477844238\n",
      "mean auroc score: 0.4913507401943207\n",
      "Epoch 9, Loss: 9.140249252319336\n",
      "mean auroc score: 0.4951332211494446\n",
      "Epoch 10, Loss: 9.016087532043457\n",
      "mean auroc score: 0.4965493679046631\n",
      "Epoch 11, Loss: 8.837250709533691\n",
      "mean auroc score: 0.5001172423362732\n",
      "Epoch 12, Loss: 8.694313049316406\n",
      "mean auroc score: 0.5024527907371521\n",
      "Epoch 13, Loss: 8.529901504516602\n",
      "mean auroc score: 0.5035398006439209\n",
      "Epoch 14, Loss: 8.346786499023438\n",
      "mean auroc score: 0.5065104961395264\n",
      "Epoch 15, Loss: 8.145105361938477\n",
      "mean auroc score: 0.5067042708396912\n",
      "Epoch 16, Loss: 7.880152702331543\n",
      "mean auroc score: 0.5076335668563843\n",
      "Epoch 17, Loss: 7.653418064117432\n",
      "mean auroc score: 0.5105307698249817\n",
      "Epoch 18, Loss: 7.408875942230225\n",
      "mean auroc score: 0.5098662972450256\n",
      "Epoch 19, Loss: 7.09734582901001\n",
      "mean auroc score: 0.5103328227996826\n",
      "Epoch 20, Loss: 6.82744836807251\n",
      "mean auroc score: 0.5117000341415405\n"
     ]
    },
    {
     "data": {
      "text/html": [],
      "text/plain": [
       "<IPython.core.display.HTML object>"
      ]
     },
     "metadata": {},
     "output_type": "display_data"
    },
    {
     "data": {
      "text/html": [
       "<br>    <style><br>        .wandb-row {<br>            display: flex;<br>            flex-direction: row;<br>            flex-wrap: wrap;<br>            justify-content: flex-start;<br>            width: 100%;<br>        }<br>        .wandb-col {<br>            display: flex;<br>            flex-direction: column;<br>            flex-basis: 100%;<br>            flex: 1;<br>            padding: 10px;<br>        }<br>    </style><br><div class=\"wandb-row\"><div class=\"wandb-col\"><h3>Run history:</h3><br/><table class=\"wandb\"><tr><td>train/Loss</td><td>████▇▇▇▇▆▆▆▅▅▅▄▃▃▂▂▁</td></tr><tr><td>val/auroc</td><td>▃▂▁▂▁▂▂▂▃▄▅▅▆▆▇▇█▇██</td></tr><tr><td>val/highest_individual_auroc</td><td>▁</td></tr><tr><td>val/temperature</td><td>█▇▇▆▆▅▅▄▄▃▃▃▂▂▂▂▂▁▁▁</td></tr></table><br/></div><div class=\"wandb-col\"><h3>Run summary:</h3><br/><table class=\"wandb\"><tr><td>train/Loss</td><td>6.82745</td></tr><tr><td>val/auroc</td><td>0.5117</td></tr><tr><td>val/highest_individual_auroc</td><td>0.65505</td></tr><tr><td>val/temperature</td><td>1</td></tr></table><br/></div></div>"
      ],
      "text/plain": [
       "<IPython.core.display.HTML object>"
      ]
     },
     "metadata": {},
     "output_type": "display_data"
    },
    {
     "data": {
      "text/html": [
       " View run <strong style=\"color:#cdcd00\">balmy-sweep-11</strong> at: <a href='https://wandb.ai/tristan-schulz2001-tu-dortmund/Sweep-NeuroSAT-HARD-CONSTRAINT-AUROC/runs/80wvwuic' target=\"_blank\">https://wandb.ai/tristan-schulz2001-tu-dortmund/Sweep-NeuroSAT-HARD-CONSTRAINT-AUROC/runs/80wvwuic</a><br> View project at: <a href='https://wandb.ai/tristan-schulz2001-tu-dortmund/Sweep-NeuroSAT-HARD-CONSTRAINT-AUROC' target=\"_blank\">https://wandb.ai/tristan-schulz2001-tu-dortmund/Sweep-NeuroSAT-HARD-CONSTRAINT-AUROC</a><br>Synced 5 W&B file(s), 0 media file(s), 0 artifact file(s) and 0 other file(s)"
      ],
      "text/plain": [
       "<IPython.core.display.HTML object>"
      ]
     },
     "metadata": {},
     "output_type": "display_data"
    },
    {
     "data": {
      "text/html": [
       "Find logs at: <code>.\\wandb\\run-20250410_124037-80wvwuic\\logs</code>"
      ],
      "text/plain": [
       "<IPython.core.display.HTML object>"
      ]
     },
     "metadata": {},
     "output_type": "display_data"
    },
    {
     "name": "stderr",
     "output_type": "stream",
     "text": [
      "\u001b[34m\u001b[1mwandb\u001b[0m: Agent Starting Run: ck79e6b9 with config:\n",
      "\u001b[34m\u001b[1mwandb\u001b[0m: \tbce_loss: 1\n",
      "\u001b[34m\u001b[1mwandb\u001b[0m: \tconsistency_reg: 0\n",
      "\u001b[34m\u001b[1mwandb\u001b[0m: \tentropy_reg: 5\n",
      "\u001b[34m\u001b[1mwandb\u001b[0m: \tepochs: 20\n",
      "\u001b[34m\u001b[1mwandb\u001b[0m: \tlr_mlp: 0.0001\n",
      "\u001b[34m\u001b[1mwandb\u001b[0m: \tseed: 75\n",
      "\u001b[34m\u001b[1mwandb\u001b[0m: \tsize_reg: 0.01\n",
      "\u001b[34m\u001b[1mwandb\u001b[0m: \ttT: 2\n"
     ]
    },
    {
     "data": {
      "text/html": [
       "Ignoring project 'Explainer-NeuroSAT-Sweep' when running a sweep."
      ],
      "text/plain": [
       "<IPython.core.display.HTML object>"
      ]
     },
     "metadata": {},
     "output_type": "display_data"
    },
    {
     "data": {
      "text/html": [
       "Tracking run with wandb version 0.19.8"
      ],
      "text/plain": [
       "<IPython.core.display.HTML object>"
      ]
     },
     "metadata": {},
     "output_type": "display_data"
    },
    {
     "data": {
      "text/html": [
       "Run data is saved locally in <code>c:\\Users\\trist\\Git_repos\\BT-ML-PGESAT\\code\\PGExplainer NeuroSAT\\wandb\\run-20250410_125621-ck79e6b9</code>"
      ],
      "text/plain": [
       "<IPython.core.display.HTML object>"
      ]
     },
     "metadata": {},
     "output_type": "display_data"
    },
    {
     "data": {
      "text/html": [
       "Syncing run <strong><a href='https://wandb.ai/tristan-schulz2001-tu-dortmund/Sweep-NeuroSAT-HARD-CONSTRAINT-AUROC/runs/ck79e6b9' target=\"_blank\">visionary-sweep-12</a></strong> to <a href='https://wandb.ai/tristan-schulz2001-tu-dortmund/Sweep-NeuroSAT-HARD-CONSTRAINT-AUROC' target=\"_blank\">Weights & Biases</a> (<a href='https://wandb.me/developer-guide' target=\"_blank\">docs</a>)<br>Sweep page: <a href='https://wandb.ai/tristan-schulz2001-tu-dortmund/Sweep-NeuroSAT-HARD-CONSTRAINT-AUROC/sweeps/1kd67zlb' target=\"_blank\">https://wandb.ai/tristan-schulz2001-tu-dortmund/Sweep-NeuroSAT-HARD-CONSTRAINT-AUROC/sweeps/1kd67zlb</a>"
      ],
      "text/plain": [
       "<IPython.core.display.HTML object>"
      ]
     },
     "metadata": {},
     "output_type": "display_data"
    },
    {
     "data": {
      "text/html": [
       " View project at <a href='https://wandb.ai/tristan-schulz2001-tu-dortmund/Sweep-NeuroSAT-HARD-CONSTRAINT-AUROC' target=\"_blank\">https://wandb.ai/tristan-schulz2001-tu-dortmund/Sweep-NeuroSAT-HARD-CONSTRAINT-AUROC</a>"
      ],
      "text/plain": [
       "<IPython.core.display.HTML object>"
      ]
     },
     "metadata": {},
     "output_type": "display_data"
    },
    {
     "data": {
      "text/html": [
       " View sweep at <a href='https://wandb.ai/tristan-schulz2001-tu-dortmund/Sweep-NeuroSAT-HARD-CONSTRAINT-AUROC/sweeps/1kd67zlb' target=\"_blank\">https://wandb.ai/tristan-schulz2001-tu-dortmund/Sweep-NeuroSAT-HARD-CONSTRAINT-AUROC/sweeps/1kd67zlb</a>"
      ],
      "text/plain": [
       "<IPython.core.display.HTML object>"
      ]
     },
     "metadata": {},
     "output_type": "display_data"
    },
    {
     "data": {
      "text/html": [
       " View run at <a href='https://wandb.ai/tristan-schulz2001-tu-dortmund/Sweep-NeuroSAT-HARD-CONSTRAINT-AUROC/runs/ck79e6b9' target=\"_blank\">https://wandb.ai/tristan-schulz2001-tu-dortmund/Sweep-NeuroSAT-HARD-CONSTRAINT-AUROC/runs/ck79e6b9</a>"
      ],
      "text/plain": [
       "<IPython.core.display.HTML object>"
      ]
     },
     "metadata": {},
     "output_type": "display_data"
    },
    {
     "name": "stdout",
     "output_type": "stream",
     "text": [
      "Epoch 1, Loss: 9.786530494689941\n",
      "mean auroc score: 0.495727002620697\n",
      "Epoch 2, Loss: 9.739718437194824\n",
      "mean auroc score: 0.4900554120540619\n",
      "Epoch 3, Loss: 9.69957447052002\n",
      "mean auroc score: 0.489479124546051\n",
      "Epoch 4, Loss: 9.645658493041992\n",
      "mean auroc score: 0.4906832277774811\n",
      "Epoch 5, Loss: 9.582297325134277\n",
      "mean auroc score: 0.4878805875778198\n",
      "Epoch 6, Loss: 9.518682479858398\n",
      "mean auroc score: 0.49123236536979675\n",
      "Epoch 7, Loss: 9.446803092956543\n",
      "mean auroc score: 0.4901431202888489\n",
      "Epoch 8, Loss: 9.371079444885254\n",
      "mean auroc score: 0.49179401993751526\n",
      "Epoch 9, Loss: 9.30156135559082\n",
      "mean auroc score: 0.49510303139686584\n",
      "Epoch 10, Loss: 9.219618797302246\n",
      "mean auroc score: 0.4966265559196472\n",
      "Epoch 11, Loss: 9.11000919342041\n",
      "mean auroc score: 0.4996052384376526\n",
      "Epoch 12, Loss: 9.026323318481445\n",
      "mean auroc score: 0.5025705695152283\n",
      "Epoch 13, Loss: 8.924638748168945\n",
      "mean auroc score: 0.5039604902267456\n",
      "Epoch 14, Loss: 8.828153610229492\n",
      "mean auroc score: 0.5063643455505371\n",
      "Epoch 15, Loss: 8.688705444335938\n",
      "mean auroc score: 0.5069378018379211\n",
      "Epoch 16, Loss: 8.541131973266602\n",
      "mean auroc score: 0.5075960755348206\n",
      "Epoch 17, Loss: 8.414966583251953\n",
      "mean auroc score: 0.5090064406394958\n",
      "Epoch 18, Loss: 8.250226974487305\n",
      "mean auroc score: 0.5093822479248047\n",
      "Epoch 19, Loss: 8.073305130004883\n",
      "mean auroc score: 0.5098578333854675\n",
      "Epoch 20, Loss: 7.903109073638916\n",
      "mean auroc score: 0.5117548704147339\n"
     ]
    },
    {
     "data": {
      "text/html": [],
      "text/plain": [
       "<IPython.core.display.HTML object>"
      ]
     },
     "metadata": {},
     "output_type": "display_data"
    },
    {
     "data": {
      "text/html": [
       "<br>    <style><br>        .wandb-row {<br>            display: flex;<br>            flex-direction: row;<br>            flex-wrap: wrap;<br>            justify-content: flex-start;<br>            width: 100%;<br>        }<br>        .wandb-col {<br>            display: flex;<br>            flex-direction: column;<br>            flex-basis: 100%;<br>            flex: 1;<br>            padding: 10px;<br>        }<br>    </style><br><div class=\"wandb-row\"><div class=\"wandb-col\"><h3>Run history:</h3><br/><table class=\"wandb\"><tr><td>train/Loss</td><td>███▇▇▇▇▆▆▆▅▅▅▄▄▃▃▂▂▁</td></tr><tr><td>val/auroc</td><td>▃▂▁▂▁▂▂▂▃▄▄▅▆▆▇▇▇▇▇█</td></tr><tr><td>val/highest_individual_auroc</td><td>▁</td></tr><tr><td>val/temperature</td><td>█▇▇▆▆▆▅▅▄▄▄▃▃▃▂▂▂▁▁▁</td></tr></table><br/></div><div class=\"wandb-col\"><h3>Run summary:</h3><br/><table class=\"wandb\"><tr><td>train/Loss</td><td>7.90311</td></tr><tr><td>val/auroc</td><td>0.51175</td></tr><tr><td>val/highest_individual_auroc</td><td>0.65249</td></tr><tr><td>val/temperature</td><td>2</td></tr></table><br/></div></div>"
      ],
      "text/plain": [
       "<IPython.core.display.HTML object>"
      ]
     },
     "metadata": {},
     "output_type": "display_data"
    },
    {
     "data": {
      "text/html": [
       " View run <strong style=\"color:#cdcd00\">visionary-sweep-12</strong> at: <a href='https://wandb.ai/tristan-schulz2001-tu-dortmund/Sweep-NeuroSAT-HARD-CONSTRAINT-AUROC/runs/ck79e6b9' target=\"_blank\">https://wandb.ai/tristan-schulz2001-tu-dortmund/Sweep-NeuroSAT-HARD-CONSTRAINT-AUROC/runs/ck79e6b9</a><br> View project at: <a href='https://wandb.ai/tristan-schulz2001-tu-dortmund/Sweep-NeuroSAT-HARD-CONSTRAINT-AUROC' target=\"_blank\">https://wandb.ai/tristan-schulz2001-tu-dortmund/Sweep-NeuroSAT-HARD-CONSTRAINT-AUROC</a><br>Synced 5 W&B file(s), 0 media file(s), 0 artifact file(s) and 0 other file(s)"
      ],
      "text/plain": [
       "<IPython.core.display.HTML object>"
      ]
     },
     "metadata": {},
     "output_type": "display_data"
    },
    {
     "data": {
      "text/html": [
       "Find logs at: <code>.\\wandb\\run-20250410_125621-ck79e6b9\\logs</code>"
      ],
      "text/plain": [
       "<IPython.core.display.HTML object>"
      ]
     },
     "metadata": {},
     "output_type": "display_data"
    },
    {
     "name": "stderr",
     "output_type": "stream",
     "text": [
      "\u001b[34m\u001b[1mwandb\u001b[0m: Agent Starting Run: lqmod3pn with config:\n",
      "\u001b[34m\u001b[1mwandb\u001b[0m: \tbce_loss: 1\n",
      "\u001b[34m\u001b[1mwandb\u001b[0m: \tconsistency_reg: 0\n",
      "\u001b[34m\u001b[1mwandb\u001b[0m: \tentropy_reg: 5\n",
      "\u001b[34m\u001b[1mwandb\u001b[0m: \tepochs: 20\n",
      "\u001b[34m\u001b[1mwandb\u001b[0m: \tlr_mlp: 3e-05\n",
      "\u001b[34m\u001b[1mwandb\u001b[0m: \tseed: 74\n",
      "\u001b[34m\u001b[1mwandb\u001b[0m: \tsize_reg: 0.01\n",
      "\u001b[34m\u001b[1mwandb\u001b[0m: \ttT: 1\n"
     ]
    },
    {
     "data": {
      "text/html": [
       "Ignoring project 'Explainer-NeuroSAT-Sweep' when running a sweep."
      ],
      "text/plain": [
       "<IPython.core.display.HTML object>"
      ]
     },
     "metadata": {},
     "output_type": "display_data"
    },
    {
     "data": {
      "text/html": [
       "Tracking run with wandb version 0.19.8"
      ],
      "text/plain": [
       "<IPython.core.display.HTML object>"
      ]
     },
     "metadata": {},
     "output_type": "display_data"
    },
    {
     "data": {
      "text/html": [
       "Run data is saved locally in <code>c:\\Users\\trist\\Git_repos\\BT-ML-PGESAT\\code\\PGExplainer NeuroSAT\\wandb\\run-20250410_131200-lqmod3pn</code>"
      ],
      "text/plain": [
       "<IPython.core.display.HTML object>"
      ]
     },
     "metadata": {},
     "output_type": "display_data"
    },
    {
     "data": {
      "text/html": [
       "Syncing run <strong><a href='https://wandb.ai/tristan-schulz2001-tu-dortmund/Sweep-NeuroSAT-HARD-CONSTRAINT-AUROC/runs/lqmod3pn' target=\"_blank\">rural-sweep-13</a></strong> to <a href='https://wandb.ai/tristan-schulz2001-tu-dortmund/Sweep-NeuroSAT-HARD-CONSTRAINT-AUROC' target=\"_blank\">Weights & Biases</a> (<a href='https://wandb.me/developer-guide' target=\"_blank\">docs</a>)<br>Sweep page: <a href='https://wandb.ai/tristan-schulz2001-tu-dortmund/Sweep-NeuroSAT-HARD-CONSTRAINT-AUROC/sweeps/1kd67zlb' target=\"_blank\">https://wandb.ai/tristan-schulz2001-tu-dortmund/Sweep-NeuroSAT-HARD-CONSTRAINT-AUROC/sweeps/1kd67zlb</a>"
      ],
      "text/plain": [
       "<IPython.core.display.HTML object>"
      ]
     },
     "metadata": {},
     "output_type": "display_data"
    },
    {
     "data": {
      "text/html": [
       " View project at <a href='https://wandb.ai/tristan-schulz2001-tu-dortmund/Sweep-NeuroSAT-HARD-CONSTRAINT-AUROC' target=\"_blank\">https://wandb.ai/tristan-schulz2001-tu-dortmund/Sweep-NeuroSAT-HARD-CONSTRAINT-AUROC</a>"
      ],
      "text/plain": [
       "<IPython.core.display.HTML object>"
      ]
     },
     "metadata": {},
     "output_type": "display_data"
    },
    {
     "data": {
      "text/html": [
       " View sweep at <a href='https://wandb.ai/tristan-schulz2001-tu-dortmund/Sweep-NeuroSAT-HARD-CONSTRAINT-AUROC/sweeps/1kd67zlb' target=\"_blank\">https://wandb.ai/tristan-schulz2001-tu-dortmund/Sweep-NeuroSAT-HARD-CONSTRAINT-AUROC/sweeps/1kd67zlb</a>"
      ],
      "text/plain": [
       "<IPython.core.display.HTML object>"
      ]
     },
     "metadata": {},
     "output_type": "display_data"
    },
    {
     "data": {
      "text/html": [
       " View run at <a href='https://wandb.ai/tristan-schulz2001-tu-dortmund/Sweep-NeuroSAT-HARD-CONSTRAINT-AUROC/runs/lqmod3pn' target=\"_blank\">https://wandb.ai/tristan-schulz2001-tu-dortmund/Sweep-NeuroSAT-HARD-CONSTRAINT-AUROC/runs/lqmod3pn</a>"
      ],
      "text/plain": [
       "<IPython.core.display.HTML object>"
      ]
     },
     "metadata": {},
     "output_type": "display_data"
    },
    {
     "name": "stdout",
     "output_type": "stream",
     "text": [
      "Epoch 1, Loss: 10.004037857055664\n",
      "mean auroc score: 0.487520694732666\n",
      "Epoch 2, Loss: 10.007667541503906\n",
      "mean auroc score: 0.4898471236228943\n",
      "Epoch 3, Loss: 9.989809036254883\n",
      "mean auroc score: 0.488873690366745\n",
      "Epoch 4, Loss: 9.971096992492676\n",
      "mean auroc score: 0.49097833037376404\n",
      "Epoch 5, Loss: 9.964471817016602\n",
      "mean auroc score: 0.4923509657382965\n",
      "Epoch 6, Loss: 9.932016372680664\n",
      "mean auroc score: 0.4902441203594208\n",
      "Epoch 7, Loss: 9.908087730407715\n",
      "mean auroc score: 0.49233192205429077\n",
      "Epoch 8, Loss: 9.888317108154297\n",
      "mean auroc score: 0.49319490790367126\n",
      "Epoch 9, Loss: 9.831659317016602\n",
      "mean auroc score: 0.4962656497955322\n",
      "Epoch 10, Loss: 9.820343971252441\n",
      "mean auroc score: 0.5027512311935425\n",
      "Epoch 11, Loss: 9.7431640625\n",
      "mean auroc score: 0.5035571455955505\n",
      "Epoch 12, Loss: 9.722981452941895\n",
      "mean auroc score: 0.5051636099815369\n",
      "Epoch 13, Loss: 9.639694213867188\n",
      "mean auroc score: 0.5115706920623779\n",
      "Epoch 14, Loss: 9.604779243469238\n",
      "mean auroc score: 0.5153297185897827\n",
      "Epoch 15, Loss: 9.53585433959961\n",
      "mean auroc score: 0.5140022039413452\n",
      "Epoch 16, Loss: 9.493415832519531\n",
      "mean auroc score: 0.5198402404785156\n",
      "Epoch 17, Loss: 9.442212104797363\n",
      "mean auroc score: 0.5220726728439331\n",
      "Epoch 18, Loss: 9.319839477539062\n",
      "mean auroc score: 0.5241902470588684\n",
      "Epoch 19, Loss: 9.23738956451416\n",
      "mean auroc score: 0.5232473015785217\n",
      "Epoch 20, Loss: 9.265825271606445\n",
      "mean auroc score: 0.5255094766616821\n"
     ]
    },
    {
     "data": {
      "text/html": [],
      "text/plain": [
       "<IPython.core.display.HTML object>"
      ]
     },
     "metadata": {},
     "output_type": "display_data"
    },
    {
     "data": {
      "text/html": [
       "<br>    <style><br>        .wandb-row {<br>            display: flex;<br>            flex-direction: row;<br>            flex-wrap: wrap;<br>            justify-content: flex-start;<br>            width: 100%;<br>        }<br>        .wandb-col {<br>            display: flex;<br>            flex-direction: column;<br>            flex-basis: 100%;<br>            flex: 1;<br>            padding: 10px;<br>        }<br>    </style><br><div class=\"wandb-row\"><div class=\"wandb-col\"><h3>Run history:</h3><br/><table class=\"wandb\"><tr><td>train/Loss</td><td>█████▇▇▇▆▆▆▅▅▄▄▃▃▂▁▁</td></tr><tr><td>val/auroc</td><td>▁▁▁▂▂▂▂▂▃▄▄▄▅▆▆▇▇███</td></tr><tr><td>val/highest_individual_auroc</td><td>▁</td></tr><tr><td>val/temperature</td><td>█▇▇▆▆▅▅▄▄▃▃▃▂▂▂▂▂▁▁▁</td></tr></table><br/></div><div class=\"wandb-col\"><h3>Run summary:</h3><br/><table class=\"wandb\"><tr><td>train/Loss</td><td>9.26583</td></tr><tr><td>val/auroc</td><td>0.52551</td></tr><tr><td>val/highest_individual_auroc</td><td>0.77338</td></tr><tr><td>val/temperature</td><td>1</td></tr></table><br/></div></div>"
      ],
      "text/plain": [
       "<IPython.core.display.HTML object>"
      ]
     },
     "metadata": {},
     "output_type": "display_data"
    },
    {
     "data": {
      "text/html": [
       " View run <strong style=\"color:#cdcd00\">rural-sweep-13</strong> at: <a href='https://wandb.ai/tristan-schulz2001-tu-dortmund/Sweep-NeuroSAT-HARD-CONSTRAINT-AUROC/runs/lqmod3pn' target=\"_blank\">https://wandb.ai/tristan-schulz2001-tu-dortmund/Sweep-NeuroSAT-HARD-CONSTRAINT-AUROC/runs/lqmod3pn</a><br> View project at: <a href='https://wandb.ai/tristan-schulz2001-tu-dortmund/Sweep-NeuroSAT-HARD-CONSTRAINT-AUROC' target=\"_blank\">https://wandb.ai/tristan-schulz2001-tu-dortmund/Sweep-NeuroSAT-HARD-CONSTRAINT-AUROC</a><br>Synced 5 W&B file(s), 0 media file(s), 0 artifact file(s) and 0 other file(s)"
      ],
      "text/plain": [
       "<IPython.core.display.HTML object>"
      ]
     },
     "metadata": {},
     "output_type": "display_data"
    },
    {
     "data": {
      "text/html": [
       "Find logs at: <code>.\\wandb\\run-20250410_131200-lqmod3pn\\logs</code>"
      ],
      "text/plain": [
       "<IPython.core.display.HTML object>"
      ]
     },
     "metadata": {},
     "output_type": "display_data"
    },
    {
     "name": "stderr",
     "output_type": "stream",
     "text": [
      "\u001b[34m\u001b[1mwandb\u001b[0m: Agent Starting Run: 7seo7dwk with config:\n",
      "\u001b[34m\u001b[1mwandb\u001b[0m: \tbce_loss: 1\n",
      "\u001b[34m\u001b[1mwandb\u001b[0m: \tconsistency_reg: 0\n",
      "\u001b[34m\u001b[1mwandb\u001b[0m: \tentropy_reg: 5\n",
      "\u001b[34m\u001b[1mwandb\u001b[0m: \tepochs: 20\n",
      "\u001b[34m\u001b[1mwandb\u001b[0m: \tlr_mlp: 3e-05\n",
      "\u001b[34m\u001b[1mwandb\u001b[0m: \tseed: 74\n",
      "\u001b[34m\u001b[1mwandb\u001b[0m: \tsize_reg: 0.01\n",
      "\u001b[34m\u001b[1mwandb\u001b[0m: \ttT: 2\n"
     ]
    },
    {
     "data": {
      "text/html": [
       "Ignoring project 'Explainer-NeuroSAT-Sweep' when running a sweep."
      ],
      "text/plain": [
       "<IPython.core.display.HTML object>"
      ]
     },
     "metadata": {},
     "output_type": "display_data"
    },
    {
     "data": {
      "text/html": [
       "Tracking run with wandb version 0.19.8"
      ],
      "text/plain": [
       "<IPython.core.display.HTML object>"
      ]
     },
     "metadata": {},
     "output_type": "display_data"
    },
    {
     "data": {
      "text/html": [
       "Run data is saved locally in <code>c:\\Users\\trist\\Git_repos\\BT-ML-PGESAT\\code\\PGExplainer NeuroSAT\\wandb\\run-20250410_132743-7seo7dwk</code>"
      ],
      "text/plain": [
       "<IPython.core.display.HTML object>"
      ]
     },
     "metadata": {},
     "output_type": "display_data"
    },
    {
     "data": {
      "text/html": [
       "Syncing run <strong><a href='https://wandb.ai/tristan-schulz2001-tu-dortmund/Sweep-NeuroSAT-HARD-CONSTRAINT-AUROC/runs/7seo7dwk' target=\"_blank\">fancy-sweep-14</a></strong> to <a href='https://wandb.ai/tristan-schulz2001-tu-dortmund/Sweep-NeuroSAT-HARD-CONSTRAINT-AUROC' target=\"_blank\">Weights & Biases</a> (<a href='https://wandb.me/developer-guide' target=\"_blank\">docs</a>)<br>Sweep page: <a href='https://wandb.ai/tristan-schulz2001-tu-dortmund/Sweep-NeuroSAT-HARD-CONSTRAINT-AUROC/sweeps/1kd67zlb' target=\"_blank\">https://wandb.ai/tristan-schulz2001-tu-dortmund/Sweep-NeuroSAT-HARD-CONSTRAINT-AUROC/sweeps/1kd67zlb</a>"
      ],
      "text/plain": [
       "<IPython.core.display.HTML object>"
      ]
     },
     "metadata": {},
     "output_type": "display_data"
    },
    {
     "data": {
      "text/html": [
       " View project at <a href='https://wandb.ai/tristan-schulz2001-tu-dortmund/Sweep-NeuroSAT-HARD-CONSTRAINT-AUROC' target=\"_blank\">https://wandb.ai/tristan-schulz2001-tu-dortmund/Sweep-NeuroSAT-HARD-CONSTRAINT-AUROC</a>"
      ],
      "text/plain": [
       "<IPython.core.display.HTML object>"
      ]
     },
     "metadata": {},
     "output_type": "display_data"
    },
    {
     "data": {
      "text/html": [
       " View sweep at <a href='https://wandb.ai/tristan-schulz2001-tu-dortmund/Sweep-NeuroSAT-HARD-CONSTRAINT-AUROC/sweeps/1kd67zlb' target=\"_blank\">https://wandb.ai/tristan-schulz2001-tu-dortmund/Sweep-NeuroSAT-HARD-CONSTRAINT-AUROC/sweeps/1kd67zlb</a>"
      ],
      "text/plain": [
       "<IPython.core.display.HTML object>"
      ]
     },
     "metadata": {},
     "output_type": "display_data"
    },
    {
     "data": {
      "text/html": [
       " View run at <a href='https://wandb.ai/tristan-schulz2001-tu-dortmund/Sweep-NeuroSAT-HARD-CONSTRAINT-AUROC/runs/7seo7dwk' target=\"_blank\">https://wandb.ai/tristan-schulz2001-tu-dortmund/Sweep-NeuroSAT-HARD-CONSTRAINT-AUROC/runs/7seo7dwk</a>"
      ],
      "text/plain": [
       "<IPython.core.display.HTML object>"
      ]
     },
     "metadata": {},
     "output_type": "display_data"
    },
    {
     "name": "stdout",
     "output_type": "stream",
     "text": [
      "Epoch 1, Loss: 9.99791431427002\n",
      "mean auroc score: 0.487520694732666\n",
      "Epoch 2, Loss: 9.995400428771973\n",
      "mean auroc score: 0.4898471236228943\n",
      "Epoch 3, Loss: 9.974443435668945\n",
      "mean auroc score: 0.48895344138145447\n",
      "Epoch 4, Loss: 9.953913688659668\n",
      "mean auroc score: 0.49097833037376404\n",
      "Epoch 5, Loss: 9.944433212280273\n",
      "mean auroc score: 0.49231886863708496\n",
      "Epoch 6, Loss: 9.914508819580078\n",
      "mean auroc score: 0.49035075306892395\n",
      "Epoch 7, Loss: 9.894105911254883\n",
      "mean auroc score: 0.4923946261405945\n",
      "Epoch 8, Loss: 9.877979278564453\n",
      "mean auroc score: 0.4927268624305725\n",
      "Epoch 9, Loss: 9.837382316589355\n",
      "mean auroc score: 0.4961073398590088\n",
      "Epoch 10, Loss: 9.828448295593262\n",
      "mean auroc score: 0.5026914477348328\n",
      "Epoch 11, Loss: 9.774579048156738\n",
      "mean auroc score: 0.5040760636329651\n",
      "Epoch 12, Loss: 9.760875701904297\n",
      "mean auroc score: 0.5049037337303162\n",
      "Epoch 13, Loss: 9.712227821350098\n",
      "mean auroc score: 0.5112252235412598\n",
      "Epoch 14, Loss: 9.685358047485352\n",
      "mean auroc score: 0.5167584419250488\n",
      "Epoch 15, Loss: 9.650235176086426\n",
      "mean auroc score: 0.5146554112434387\n",
      "Epoch 16, Loss: 9.624249458312988\n",
      "mean auroc score: 0.5192223787307739\n",
      "Epoch 17, Loss: 9.593826293945312\n",
      "mean auroc score: 0.5216169357299805\n",
      "Epoch 18, Loss: 9.52992057800293\n",
      "mean auroc score: 0.5237187743186951\n",
      "Epoch 19, Loss: 9.499008178710938\n",
      "mean auroc score: 0.5213197469711304\n",
      "Epoch 20, Loss: 9.465566635131836\n",
      "mean auroc score: 0.5244480967521667\n"
     ]
    },
    {
     "data": {
      "text/html": [],
      "text/plain": [
       "<IPython.core.display.HTML object>"
      ]
     },
     "metadata": {},
     "output_type": "display_data"
    },
    {
     "data": {
      "text/html": [
       "<br>    <style><br>        .wandb-row {<br>            display: flex;<br>            flex-direction: row;<br>            flex-wrap: wrap;<br>            justify-content: flex-start;<br>            width: 100%;<br>        }<br>        .wandb-col {<br>            display: flex;<br>            flex-direction: column;<br>            flex-basis: 100%;<br>            flex: 1;<br>            padding: 10px;<br>        }<br>    </style><br><div class=\"wandb-row\"><div class=\"wandb-col\"><h3>Run history:</h3><br/><table class=\"wandb\"><tr><td>train/Loss</td><td>███▇▇▇▇▆▆▆▅▅▄▄▃▃▃▂▁▁</td></tr><tr><td>val/auroc</td><td>▁▁▁▂▂▂▂▂▃▄▄▄▅▇▆▇▇█▇█</td></tr><tr><td>val/highest_individual_auroc</td><td>▁</td></tr><tr><td>val/temperature</td><td>█▇▇▆▆▆▅▅▄▄▄▃▃▃▂▂▂▁▁▁</td></tr></table><br/></div><div class=\"wandb-col\"><h3>Run summary:</h3><br/><table class=\"wandb\"><tr><td>train/Loss</td><td>9.46557</td></tr><tr><td>val/auroc</td><td>0.52445</td></tr><tr><td>val/highest_individual_auroc</td><td>0.77211</td></tr><tr><td>val/temperature</td><td>2</td></tr></table><br/></div></div>"
      ],
      "text/plain": [
       "<IPython.core.display.HTML object>"
      ]
     },
     "metadata": {},
     "output_type": "display_data"
    },
    {
     "data": {
      "text/html": [
       " View run <strong style=\"color:#cdcd00\">fancy-sweep-14</strong> at: <a href='https://wandb.ai/tristan-schulz2001-tu-dortmund/Sweep-NeuroSAT-HARD-CONSTRAINT-AUROC/runs/7seo7dwk' target=\"_blank\">https://wandb.ai/tristan-schulz2001-tu-dortmund/Sweep-NeuroSAT-HARD-CONSTRAINT-AUROC/runs/7seo7dwk</a><br> View project at: <a href='https://wandb.ai/tristan-schulz2001-tu-dortmund/Sweep-NeuroSAT-HARD-CONSTRAINT-AUROC' target=\"_blank\">https://wandb.ai/tristan-schulz2001-tu-dortmund/Sweep-NeuroSAT-HARD-CONSTRAINT-AUROC</a><br>Synced 5 W&B file(s), 0 media file(s), 0 artifact file(s) and 0 other file(s)"
      ],
      "text/plain": [
       "<IPython.core.display.HTML object>"
      ]
     },
     "metadata": {},
     "output_type": "display_data"
    },
    {
     "data": {
      "text/html": [
       "Find logs at: <code>.\\wandb\\run-20250410_132743-7seo7dwk\\logs</code>"
      ],
      "text/plain": [
       "<IPython.core.display.HTML object>"
      ]
     },
     "metadata": {},
     "output_type": "display_data"
    },
    {
     "name": "stderr",
     "output_type": "stream",
     "text": [
      "\u001b[34m\u001b[1mwandb\u001b[0m: Agent Starting Run: d118r5lw with config:\n",
      "\u001b[34m\u001b[1mwandb\u001b[0m: \tbce_loss: 1\n",
      "\u001b[34m\u001b[1mwandb\u001b[0m: \tconsistency_reg: 0\n",
      "\u001b[34m\u001b[1mwandb\u001b[0m: \tentropy_reg: 5\n",
      "\u001b[34m\u001b[1mwandb\u001b[0m: \tepochs: 20\n",
      "\u001b[34m\u001b[1mwandb\u001b[0m: \tlr_mlp: 3e-05\n",
      "\u001b[34m\u001b[1mwandb\u001b[0m: \tseed: 75\n",
      "\u001b[34m\u001b[1mwandb\u001b[0m: \tsize_reg: 0.01\n",
      "\u001b[34m\u001b[1mwandb\u001b[0m: \ttT: 1\n"
     ]
    },
    {
     "data": {
      "text/html": [
       "Ignoring project 'Explainer-NeuroSAT-Sweep' when running a sweep."
      ],
      "text/plain": [
       "<IPython.core.display.HTML object>"
      ]
     },
     "metadata": {},
     "output_type": "display_data"
    },
    {
     "data": {
      "text/html": [
       "Tracking run with wandb version 0.19.8"
      ],
      "text/plain": [
       "<IPython.core.display.HTML object>"
      ]
     },
     "metadata": {},
     "output_type": "display_data"
    },
    {
     "data": {
      "text/html": [
       "Run data is saved locally in <code>c:\\Users\\trist\\Git_repos\\BT-ML-PGESAT\\code\\PGExplainer NeuroSAT\\wandb\\run-20250410_134313-d118r5lw</code>"
      ],
      "text/plain": [
       "<IPython.core.display.HTML object>"
      ]
     },
     "metadata": {},
     "output_type": "display_data"
    },
    {
     "data": {
      "text/html": [
       "Syncing run <strong><a href='https://wandb.ai/tristan-schulz2001-tu-dortmund/Sweep-NeuroSAT-HARD-CONSTRAINT-AUROC/runs/d118r5lw' target=\"_blank\">good-sweep-15</a></strong> to <a href='https://wandb.ai/tristan-schulz2001-tu-dortmund/Sweep-NeuroSAT-HARD-CONSTRAINT-AUROC' target=\"_blank\">Weights & Biases</a> (<a href='https://wandb.me/developer-guide' target=\"_blank\">docs</a>)<br>Sweep page: <a href='https://wandb.ai/tristan-schulz2001-tu-dortmund/Sweep-NeuroSAT-HARD-CONSTRAINT-AUROC/sweeps/1kd67zlb' target=\"_blank\">https://wandb.ai/tristan-schulz2001-tu-dortmund/Sweep-NeuroSAT-HARD-CONSTRAINT-AUROC/sweeps/1kd67zlb</a>"
      ],
      "text/plain": [
       "<IPython.core.display.HTML object>"
      ]
     },
     "metadata": {},
     "output_type": "display_data"
    },
    {
     "data": {
      "text/html": [
       " View project at <a href='https://wandb.ai/tristan-schulz2001-tu-dortmund/Sweep-NeuroSAT-HARD-CONSTRAINT-AUROC' target=\"_blank\">https://wandb.ai/tristan-schulz2001-tu-dortmund/Sweep-NeuroSAT-HARD-CONSTRAINT-AUROC</a>"
      ],
      "text/plain": [
       "<IPython.core.display.HTML object>"
      ]
     },
     "metadata": {},
     "output_type": "display_data"
    },
    {
     "data": {
      "text/html": [
       " View sweep at <a href='https://wandb.ai/tristan-schulz2001-tu-dortmund/Sweep-NeuroSAT-HARD-CONSTRAINT-AUROC/sweeps/1kd67zlb' target=\"_blank\">https://wandb.ai/tristan-schulz2001-tu-dortmund/Sweep-NeuroSAT-HARD-CONSTRAINT-AUROC/sweeps/1kd67zlb</a>"
      ],
      "text/plain": [
       "<IPython.core.display.HTML object>"
      ]
     },
     "metadata": {},
     "output_type": "display_data"
    },
    {
     "data": {
      "text/html": [
       " View run at <a href='https://wandb.ai/tristan-schulz2001-tu-dortmund/Sweep-NeuroSAT-HARD-CONSTRAINT-AUROC/runs/d118r5lw' target=\"_blank\">https://wandb.ai/tristan-schulz2001-tu-dortmund/Sweep-NeuroSAT-HARD-CONSTRAINT-AUROC/runs/d118r5lw</a>"
      ],
      "text/plain": [
       "<IPython.core.display.HTML object>"
      ]
     },
     "metadata": {},
     "output_type": "display_data"
    },
    {
     "name": "stdout",
     "output_type": "stream",
     "text": [
      "Epoch 1, Loss: 9.785578727722168\n",
      "mean auroc score: 0.5006551146507263\n",
      "Epoch 2, Loss: 9.76707649230957\n",
      "mean auroc score: 0.497092604637146\n",
      "Epoch 3, Loss: 9.758066177368164\n",
      "mean auroc score: 0.49549561738967896\n",
      "Epoch 4, Loss: 9.736981391906738\n",
      "mean auroc score: 0.49625787138938904\n",
      "Epoch 5, Loss: 9.707712173461914\n",
      "mean auroc score: 0.4932652711868286\n",
      "Epoch 6, Loss: 9.679847717285156\n",
      "mean auroc score: 0.4905272126197815\n",
      "Epoch 7, Loss: 9.644598007202148\n",
      "mean auroc score: 0.4886760115623474\n",
      "Epoch 8, Loss: 9.609417915344238\n",
      "mean auroc score: 0.48807084560394287\n",
      "Epoch 9, Loss: 9.582159042358398\n",
      "mean auroc score: 0.4882718026638031\n",
      "Epoch 10, Loss: 9.53511905670166\n",
      "mean auroc score: 0.489963561296463\n",
      "Epoch 11, Loss: 9.459432601928711\n",
      "mean auroc score: 0.48981866240501404\n",
      "Epoch 12, Loss: 9.4197416305542\n",
      "mean auroc score: 0.48884841799736023\n",
      "Epoch 13, Loss: 9.368078231811523\n",
      "mean auroc score: 0.49083587527275085\n",
      "Epoch 14, Loss: 9.331734657287598\n",
      "mean auroc score: 0.4890257716178894\n",
      "Epoch 15, Loss: 9.226709365844727\n",
      "mean auroc score: 0.48890212178230286\n",
      "Epoch 16, Loss: 9.126771926879883\n",
      "mean auroc score: 0.4884174168109894\n",
      "Epoch 17, Loss: 9.08098030090332\n",
      "mean auroc score: 0.4894699156284332\n",
      "Epoch 18, Loss: 8.984875679016113\n",
      "mean auroc score: 0.4899385869503021\n",
      "Epoch 19, Loss: 8.882588386535645\n",
      "mean auroc score: 0.49057599902153015\n",
      "Epoch 20, Loss: 8.781595230102539\n",
      "mean auroc score: 0.49117565155029297\n"
     ]
    },
    {
     "data": {
      "text/html": [],
      "text/plain": [
       "<IPython.core.display.HTML object>"
      ]
     },
     "metadata": {},
     "output_type": "display_data"
    },
    {
     "data": {
      "text/html": [
       "<br>    <style><br>        .wandb-row {<br>            display: flex;<br>            flex-direction: row;<br>            flex-wrap: wrap;<br>            justify-content: flex-start;<br>            width: 100%;<br>        }<br>        .wandb-col {<br>            display: flex;<br>            flex-direction: column;<br>            flex-basis: 100%;<br>            flex: 1;<br>            padding: 10px;<br>        }<br>    </style><br><div class=\"wandb-row\"><div class=\"wandb-col\"><h3>Run history:</h3><br/><table class=\"wandb\"><tr><td>train/Loss</td><td>████▇▇▇▇▇▆▆▅▅▅▄▃▃▂▂▁</td></tr><tr><td>val/auroc</td><td>█▆▅▆▄▂▁▁▁▂▂▁▃▂▁▁▂▂▂▃</td></tr><tr><td>val/highest_individual_auroc</td><td>▁</td></tr><tr><td>val/temperature</td><td>█▇▇▆▆▅▅▄▄▃▃▃▂▂▂▂▂▁▁▁</td></tr></table><br/></div><div class=\"wandb-col\"><h3>Run summary:</h3><br/><table class=\"wandb\"><tr><td>train/Loss</td><td>8.7816</td></tr><tr><td>val/auroc</td><td>0.49118</td></tr><tr><td>val/highest_individual_auroc</td><td>0.63425</td></tr><tr><td>val/temperature</td><td>1</td></tr></table><br/></div></div>"
      ],
      "text/plain": [
       "<IPython.core.display.HTML object>"
      ]
     },
     "metadata": {},
     "output_type": "display_data"
    },
    {
     "data": {
      "text/html": [
       " View run <strong style=\"color:#cdcd00\">good-sweep-15</strong> at: <a href='https://wandb.ai/tristan-schulz2001-tu-dortmund/Sweep-NeuroSAT-HARD-CONSTRAINT-AUROC/runs/d118r5lw' target=\"_blank\">https://wandb.ai/tristan-schulz2001-tu-dortmund/Sweep-NeuroSAT-HARD-CONSTRAINT-AUROC/runs/d118r5lw</a><br> View project at: <a href='https://wandb.ai/tristan-schulz2001-tu-dortmund/Sweep-NeuroSAT-HARD-CONSTRAINT-AUROC' target=\"_blank\">https://wandb.ai/tristan-schulz2001-tu-dortmund/Sweep-NeuroSAT-HARD-CONSTRAINT-AUROC</a><br>Synced 5 W&B file(s), 0 media file(s), 0 artifact file(s) and 0 other file(s)"
      ],
      "text/plain": [
       "<IPython.core.display.HTML object>"
      ]
     },
     "metadata": {},
     "output_type": "display_data"
    },
    {
     "data": {
      "text/html": [
       "Find logs at: <code>.\\wandb\\run-20250410_134313-d118r5lw\\logs</code>"
      ],
      "text/plain": [
       "<IPython.core.display.HTML object>"
      ]
     },
     "metadata": {},
     "output_type": "display_data"
    },
    {
     "name": "stderr",
     "output_type": "stream",
     "text": [
      "\u001b[34m\u001b[1mwandb\u001b[0m: Agent Starting Run: cddjnv2p with config:\n",
      "\u001b[34m\u001b[1mwandb\u001b[0m: \tbce_loss: 1\n",
      "\u001b[34m\u001b[1mwandb\u001b[0m: \tconsistency_reg: 0\n",
      "\u001b[34m\u001b[1mwandb\u001b[0m: \tentropy_reg: 5\n",
      "\u001b[34m\u001b[1mwandb\u001b[0m: \tepochs: 20\n",
      "\u001b[34m\u001b[1mwandb\u001b[0m: \tlr_mlp: 3e-05\n",
      "\u001b[34m\u001b[1mwandb\u001b[0m: \tseed: 75\n",
      "\u001b[34m\u001b[1mwandb\u001b[0m: \tsize_reg: 0.01\n",
      "\u001b[34m\u001b[1mwandb\u001b[0m: \ttT: 2\n"
     ]
    },
    {
     "data": {
      "text/html": [
       "Ignoring project 'Explainer-NeuroSAT-Sweep' when running a sweep."
      ],
      "text/plain": [
       "<IPython.core.display.HTML object>"
      ]
     },
     "metadata": {},
     "output_type": "display_data"
    },
    {
     "data": {
      "text/html": [
       "Tracking run with wandb version 0.19.8"
      ],
      "text/plain": [
       "<IPython.core.display.HTML object>"
      ]
     },
     "metadata": {},
     "output_type": "display_data"
    },
    {
     "data": {
      "text/html": [
       "Run data is saved locally in <code>c:\\Users\\trist\\Git_repos\\BT-ML-PGESAT\\code\\PGExplainer NeuroSAT\\wandb\\run-20250410_135910-cddjnv2p</code>"
      ],
      "text/plain": [
       "<IPython.core.display.HTML object>"
      ]
     },
     "metadata": {},
     "output_type": "display_data"
    },
    {
     "data": {
      "text/html": [
       "Syncing run <strong><a href='https://wandb.ai/tristan-schulz2001-tu-dortmund/Sweep-NeuroSAT-HARD-CONSTRAINT-AUROC/runs/cddjnv2p' target=\"_blank\">tough-sweep-16</a></strong> to <a href='https://wandb.ai/tristan-schulz2001-tu-dortmund/Sweep-NeuroSAT-HARD-CONSTRAINT-AUROC' target=\"_blank\">Weights & Biases</a> (<a href='https://wandb.me/developer-guide' target=\"_blank\">docs</a>)<br>Sweep page: <a href='https://wandb.ai/tristan-schulz2001-tu-dortmund/Sweep-NeuroSAT-HARD-CONSTRAINT-AUROC/sweeps/1kd67zlb' target=\"_blank\">https://wandb.ai/tristan-schulz2001-tu-dortmund/Sweep-NeuroSAT-HARD-CONSTRAINT-AUROC/sweeps/1kd67zlb</a>"
      ],
      "text/plain": [
       "<IPython.core.display.HTML object>"
      ]
     },
     "metadata": {},
     "output_type": "display_data"
    },
    {
     "data": {
      "text/html": [
       " View project at <a href='https://wandb.ai/tristan-schulz2001-tu-dortmund/Sweep-NeuroSAT-HARD-CONSTRAINT-AUROC' target=\"_blank\">https://wandb.ai/tristan-schulz2001-tu-dortmund/Sweep-NeuroSAT-HARD-CONSTRAINT-AUROC</a>"
      ],
      "text/plain": [
       "<IPython.core.display.HTML object>"
      ]
     },
     "metadata": {},
     "output_type": "display_data"
    },
    {
     "data": {
      "text/html": [
       " View sweep at <a href='https://wandb.ai/tristan-schulz2001-tu-dortmund/Sweep-NeuroSAT-HARD-CONSTRAINT-AUROC/sweeps/1kd67zlb' target=\"_blank\">https://wandb.ai/tristan-schulz2001-tu-dortmund/Sweep-NeuroSAT-HARD-CONSTRAINT-AUROC/sweeps/1kd67zlb</a>"
      ],
      "text/plain": [
       "<IPython.core.display.HTML object>"
      ]
     },
     "metadata": {},
     "output_type": "display_data"
    },
    {
     "data": {
      "text/html": [
       " View run at <a href='https://wandb.ai/tristan-schulz2001-tu-dortmund/Sweep-NeuroSAT-HARD-CONSTRAINT-AUROC/runs/cddjnv2p' target=\"_blank\">https://wandb.ai/tristan-schulz2001-tu-dortmund/Sweep-NeuroSAT-HARD-CONSTRAINT-AUROC/runs/cddjnv2p</a>"
      ],
      "text/plain": [
       "<IPython.core.display.HTML object>"
      ]
     },
     "metadata": {},
     "output_type": "display_data"
    },
    {
     "name": "stdout",
     "output_type": "stream",
     "text": [
      "Epoch 1, Loss: 9.786530494689941\n",
      "mean auroc score: 0.5006551146507263\n",
      "Epoch 2, Loss: 9.77003002166748\n",
      "mean auroc score: 0.497092604637146\n",
      "Epoch 3, Loss: 9.763692855834961\n",
      "mean auroc score: 0.49549561738967896\n",
      "Epoch 4, Loss: 9.747174263000488\n",
      "mean auroc score: 0.49625787138938904\n",
      "Epoch 5, Loss: 9.723962783813477\n",
      "mean auroc score: 0.4932652711868286\n",
      "Epoch 6, Loss: 9.705619812011719\n",
      "mean auroc score: 0.4906492829322815\n",
      "Epoch 7, Loss: 9.680570602416992\n",
      "mean auroc score: 0.4890878200531006\n",
      "Epoch 8, Loss: 9.654205322265625\n",
      "mean auroc score: 0.4884850084781647\n",
      "Epoch 9, Loss: 9.640008926391602\n",
      "mean auroc score: 0.48869019746780396\n",
      "Epoch 10, Loss: 9.609794616699219\n",
      "mean auroc score: 0.489568829536438\n",
      "Epoch 11, Loss: 9.564580917358398\n",
      "mean auroc score: 0.48990902304649353\n",
      "Epoch 12, Loss: 9.544339179992676\n",
      "mean auroc score: 0.4887602627277374\n",
      "Epoch 13, Loss: 9.512039184570312\n",
      "mean auroc score: 0.49063101410865784\n",
      "Epoch 14, Loss: 9.495162963867188\n",
      "mean auroc score: 0.4893478453159332\n",
      "Epoch 15, Loss: 9.431044578552246\n",
      "mean auroc score: 0.4895190894603729\n",
      "Epoch 16, Loss: 9.383296012878418\n",
      "mean auroc score: 0.48777449131011963\n",
      "Epoch 17, Loss: 9.357431411743164\n",
      "mean auroc score: 0.489185094833374\n",
      "Epoch 18, Loss: 9.300127029418945\n",
      "mean auroc score: 0.4896374046802521\n",
      "Epoch 19, Loss: 9.243680000305176\n",
      "mean auroc score: 0.4899749457836151\n",
      "Epoch 20, Loss: 9.201051712036133\n",
      "mean auroc score: 0.491529256105423\n"
     ]
    },
    {
     "data": {
      "text/html": [],
      "text/plain": [
       "<IPython.core.display.HTML object>"
      ]
     },
     "metadata": {},
     "output_type": "display_data"
    },
    {
     "data": {
      "text/html": [
       "<br>    <style><br>        .wandb-row {<br>            display: flex;<br>            flex-direction: row;<br>            flex-wrap: wrap;<br>            justify-content: flex-start;<br>            width: 100%;<br>        }<br>        .wandb-col {<br>            display: flex;<br>            flex-direction: column;<br>            flex-basis: 100%;<br>            flex: 1;<br>            padding: 10px;<br>        }<br>    </style><br><div class=\"wandb-row\"><div class=\"wandb-col\"><h3>Run history:</h3><br/><table class=\"wandb\"><tr><td>train/Loss</td><td>████▇▇▇▆▆▆▅▅▅▅▄▃▃▂▂▁</td></tr><tr><td>val/auroc</td><td>█▆▅▆▄▃▂▁▁▂▂▂▃▂▂▁▂▂▂▃</td></tr><tr><td>val/highest_individual_auroc</td><td>▁</td></tr><tr><td>val/temperature</td><td>█▇▇▆▆▆▅▅▄▄▄▃▃▃▂▂▂▁▁▁</td></tr></table><br/></div><div class=\"wandb-col\"><h3>Run summary:</h3><br/><table class=\"wandb\"><tr><td>train/Loss</td><td>9.20105</td></tr><tr><td>val/auroc</td><td>0.49153</td></tr><tr><td>val/highest_individual_auroc</td><td>0.63425</td></tr><tr><td>val/temperature</td><td>2</td></tr></table><br/></div></div>"
      ],
      "text/plain": [
       "<IPython.core.display.HTML object>"
      ]
     },
     "metadata": {},
     "output_type": "display_data"
    },
    {
     "data": {
      "text/html": [
       " View run <strong style=\"color:#cdcd00\">tough-sweep-16</strong> at: <a href='https://wandb.ai/tristan-schulz2001-tu-dortmund/Sweep-NeuroSAT-HARD-CONSTRAINT-AUROC/runs/cddjnv2p' target=\"_blank\">https://wandb.ai/tristan-schulz2001-tu-dortmund/Sweep-NeuroSAT-HARD-CONSTRAINT-AUROC/runs/cddjnv2p</a><br> View project at: <a href='https://wandb.ai/tristan-schulz2001-tu-dortmund/Sweep-NeuroSAT-HARD-CONSTRAINT-AUROC' target=\"_blank\">https://wandb.ai/tristan-schulz2001-tu-dortmund/Sweep-NeuroSAT-HARD-CONSTRAINT-AUROC</a><br>Synced 5 W&B file(s), 0 media file(s), 0 artifact file(s) and 0 other file(s)"
      ],
      "text/plain": [
       "<IPython.core.display.HTML object>"
      ]
     },
     "metadata": {},
     "output_type": "display_data"
    },
    {
     "data": {
      "text/html": [
       "Find logs at: <code>.\\wandb\\run-20250410_135910-cddjnv2p\\logs</code>"
      ],
      "text/plain": [
       "<IPython.core.display.HTML object>"
      ]
     },
     "metadata": {},
     "output_type": "display_data"
    },
    {
     "name": "stderr",
     "output_type": "stream",
     "text": [
      "\u001b[34m\u001b[1mwandb\u001b[0m: Agent Starting Run: nvzutn6t with config:\n",
      "\u001b[34m\u001b[1mwandb\u001b[0m: \tbce_loss: 0\n",
      "\u001b[34m\u001b[1mwandb\u001b[0m: \tconsistency_reg: 0\n",
      "\u001b[34m\u001b[1mwandb\u001b[0m: \tentropy_reg: 0\n",
      "\u001b[34m\u001b[1mwandb\u001b[0m: \tepochs: 20\n",
      "\u001b[34m\u001b[1mwandb\u001b[0m: \tlr_mlp: 0.0001\n",
      "\u001b[34m\u001b[1mwandb\u001b[0m: \tseed: 74\n",
      "\u001b[34m\u001b[1mwandb\u001b[0m: \tsize_reg: 0.01\n",
      "\u001b[34m\u001b[1mwandb\u001b[0m: \ttT: 1\n"
     ]
    },
    {
     "data": {
      "text/html": [
       "Ignoring project 'Explainer-NeuroSAT-Sweep' when running a sweep."
      ],
      "text/plain": [
       "<IPython.core.display.HTML object>"
      ]
     },
     "metadata": {},
     "output_type": "display_data"
    },
    {
     "data": {
      "text/html": [
       "Tracking run with wandb version 0.19.8"
      ],
      "text/plain": [
       "<IPython.core.display.HTML object>"
      ]
     },
     "metadata": {},
     "output_type": "display_data"
    },
    {
     "data": {
      "text/html": [
       "Run data is saved locally in <code>c:\\Users\\trist\\Git_repos\\BT-ML-PGESAT\\code\\PGExplainer NeuroSAT\\wandb\\run-20250410_141503-nvzutn6t</code>"
      ],
      "text/plain": [
       "<IPython.core.display.HTML object>"
      ]
     },
     "metadata": {},
     "output_type": "display_data"
    },
    {
     "data": {
      "text/html": [
       "Syncing run <strong><a href='https://wandb.ai/tristan-schulz2001-tu-dortmund/Sweep-NeuroSAT-HARD-CONSTRAINT-AUROC/runs/nvzutn6t' target=\"_blank\">helpful-sweep-17</a></strong> to <a href='https://wandb.ai/tristan-schulz2001-tu-dortmund/Sweep-NeuroSAT-HARD-CONSTRAINT-AUROC' target=\"_blank\">Weights & Biases</a> (<a href='https://wandb.me/developer-guide' target=\"_blank\">docs</a>)<br>Sweep page: <a href='https://wandb.ai/tristan-schulz2001-tu-dortmund/Sweep-NeuroSAT-HARD-CONSTRAINT-AUROC/sweeps/1kd67zlb' target=\"_blank\">https://wandb.ai/tristan-schulz2001-tu-dortmund/Sweep-NeuroSAT-HARD-CONSTRAINT-AUROC/sweeps/1kd67zlb</a>"
      ],
      "text/plain": [
       "<IPython.core.display.HTML object>"
      ]
     },
     "metadata": {},
     "output_type": "display_data"
    },
    {
     "data": {
      "text/html": [
       " View project at <a href='https://wandb.ai/tristan-schulz2001-tu-dortmund/Sweep-NeuroSAT-HARD-CONSTRAINT-AUROC' target=\"_blank\">https://wandb.ai/tristan-schulz2001-tu-dortmund/Sweep-NeuroSAT-HARD-CONSTRAINT-AUROC</a>"
      ],
      "text/plain": [
       "<IPython.core.display.HTML object>"
      ]
     },
     "metadata": {},
     "output_type": "display_data"
    },
    {
     "data": {
      "text/html": [
       " View sweep at <a href='https://wandb.ai/tristan-schulz2001-tu-dortmund/Sweep-NeuroSAT-HARD-CONSTRAINT-AUROC/sweeps/1kd67zlb' target=\"_blank\">https://wandb.ai/tristan-schulz2001-tu-dortmund/Sweep-NeuroSAT-HARD-CONSTRAINT-AUROC/sweeps/1kd67zlb</a>"
      ],
      "text/plain": [
       "<IPython.core.display.HTML object>"
      ]
     },
     "metadata": {},
     "output_type": "display_data"
    },
    {
     "data": {
      "text/html": [
       " View run at <a href='https://wandb.ai/tristan-schulz2001-tu-dortmund/Sweep-NeuroSAT-HARD-CONSTRAINT-AUROC/runs/nvzutn6t' target=\"_blank\">https://wandb.ai/tristan-schulz2001-tu-dortmund/Sweep-NeuroSAT-HARD-CONSTRAINT-AUROC/runs/nvzutn6t</a>"
      ],
      "text/plain": [
       "<IPython.core.display.HTML object>"
      ]
     },
     "metadata": {},
     "output_type": "display_data"
    },
    {
     "name": "stdout",
     "output_type": "stream",
     "text": [
      "Epoch 1, Loss: 9.160676956176758\n",
      "mean auroc score: 0.4891628623008728\n",
      "Epoch 2, Loss: 9.113851547241211\n",
      "mean auroc score: 0.490462064743042\n",
      "Epoch 3, Loss: 9.038740158081055\n",
      "mean auroc score: 0.5019503235816956\n",
      "Epoch 4, Loss: 8.95941162109375\n",
      "mean auroc score: 0.5136950016021729\n",
      "Epoch 5, Loss: 8.895312309265137\n",
      "mean auroc score: 0.5189204812049866\n",
      "Epoch 6, Loss: 8.812456130981445\n",
      "mean auroc score: 0.5238277912139893\n",
      "Epoch 7, Loss: 8.747904777526855\n",
      "mean auroc score: 0.5249457359313965\n",
      "Epoch 8, Loss: 8.69434642791748\n",
      "mean auroc score: 0.527639627456665\n",
      "Epoch 9, Loss: 8.59929370880127\n",
      "mean auroc score: 0.5281552672386169\n",
      "Epoch 10, Loss: 8.554255485534668\n",
      "mean auroc score: 0.5251675248146057\n",
      "Epoch 11, Loss: 8.43028736114502\n",
      "mean auroc score: 0.5260509252548218\n",
      "Epoch 12, Loss: 8.369158744812012\n",
      "mean auroc score: 0.532546877861023\n",
      "Epoch 13, Loss: 8.229881286621094\n",
      "mean auroc score: 0.5343207716941833\n",
      "Epoch 14, Loss: 8.135065078735352\n",
      "mean auroc score: 0.5352094769477844\n",
      "Epoch 15, Loss: 8.003716468811035\n",
      "mean auroc score: 0.539808988571167\n",
      "Epoch 16, Loss: 7.88012170791626\n",
      "mean auroc score: 0.5383660793304443\n",
      "Epoch 17, Loss: 7.747378349304199\n",
      "mean auroc score: 0.5373419523239136\n",
      "Epoch 18, Loss: 7.529934883117676\n",
      "mean auroc score: 0.5345070362091064\n",
      "Epoch 19, Loss: 7.346707820892334\n",
      "mean auroc score: 0.534561038017273\n",
      "Epoch 20, Loss: 7.2501349449157715\n",
      "mean auroc score: 0.534883975982666\n"
     ]
    },
    {
     "data": {
      "text/html": [],
      "text/plain": [
       "<IPython.core.display.HTML object>"
      ]
     },
     "metadata": {},
     "output_type": "display_data"
    },
    {
     "data": {
      "text/html": [
       "<br>    <style><br>        .wandb-row {<br>            display: flex;<br>            flex-direction: row;<br>            flex-wrap: wrap;<br>            justify-content: flex-start;<br>            width: 100%;<br>        }<br>        .wandb-col {<br>            display: flex;<br>            flex-direction: column;<br>            flex-basis: 100%;<br>            flex: 1;<br>            padding: 10px;<br>        }<br>    </style><br><div class=\"wandb-row\"><div class=\"wandb-col\"><h3>Run history:</h3><br/><table class=\"wandb\"><tr><td>train/Loss</td><td>███▇▇▇▆▆▆▆▅▅▅▄▄▃▃▂▁▁</td></tr><tr><td>val/auroc</td><td>▁▁▃▄▅▆▆▆▆▆▆▇▇▇███▇▇▇</td></tr><tr><td>val/highest_individual_auroc</td><td>▁</td></tr><tr><td>val/temperature</td><td>█▇▇▆▆▅▅▄▄▃▃▃▂▂▂▂▂▁▁▁</td></tr></table><br/></div><div class=\"wandb-col\"><h3>Run summary:</h3><br/><table class=\"wandb\"><tr><td>train/Loss</td><td>7.25013</td></tr><tr><td>val/auroc</td><td>0.53488</td></tr><tr><td>val/highest_individual_auroc</td><td>0.74816</td></tr><tr><td>val/temperature</td><td>1</td></tr></table><br/></div></div>"
      ],
      "text/plain": [
       "<IPython.core.display.HTML object>"
      ]
     },
     "metadata": {},
     "output_type": "display_data"
    },
    {
     "data": {
      "text/html": [
       " View run <strong style=\"color:#cdcd00\">helpful-sweep-17</strong> at: <a href='https://wandb.ai/tristan-schulz2001-tu-dortmund/Sweep-NeuroSAT-HARD-CONSTRAINT-AUROC/runs/nvzutn6t' target=\"_blank\">https://wandb.ai/tristan-schulz2001-tu-dortmund/Sweep-NeuroSAT-HARD-CONSTRAINT-AUROC/runs/nvzutn6t</a><br> View project at: <a href='https://wandb.ai/tristan-schulz2001-tu-dortmund/Sweep-NeuroSAT-HARD-CONSTRAINT-AUROC' target=\"_blank\">https://wandb.ai/tristan-schulz2001-tu-dortmund/Sweep-NeuroSAT-HARD-CONSTRAINT-AUROC</a><br>Synced 5 W&B file(s), 0 media file(s), 0 artifact file(s) and 0 other file(s)"
      ],
      "text/plain": [
       "<IPython.core.display.HTML object>"
      ]
     },
     "metadata": {},
     "output_type": "display_data"
    },
    {
     "data": {
      "text/html": [
       "Find logs at: <code>.\\wandb\\run-20250410_141503-nvzutn6t\\logs</code>"
      ],
      "text/plain": [
       "<IPython.core.display.HTML object>"
      ]
     },
     "metadata": {},
     "output_type": "display_data"
    },
    {
     "name": "stderr",
     "output_type": "stream",
     "text": [
      "\u001b[34m\u001b[1mwandb\u001b[0m: Agent Starting Run: 8impak1r with config:\n",
      "\u001b[34m\u001b[1mwandb\u001b[0m: \tbce_loss: 0\n",
      "\u001b[34m\u001b[1mwandb\u001b[0m: \tconsistency_reg: 0\n",
      "\u001b[34m\u001b[1mwandb\u001b[0m: \tentropy_reg: 0\n",
      "\u001b[34m\u001b[1mwandb\u001b[0m: \tepochs: 20\n",
      "\u001b[34m\u001b[1mwandb\u001b[0m: \tlr_mlp: 0.0001\n",
      "\u001b[34m\u001b[1mwandb\u001b[0m: \tseed: 74\n",
      "\u001b[34m\u001b[1mwandb\u001b[0m: \tsize_reg: 0.01\n",
      "\u001b[34m\u001b[1mwandb\u001b[0m: \ttT: 2\n"
     ]
    },
    {
     "data": {
      "text/html": [
       "Ignoring project 'Explainer-NeuroSAT-Sweep' when running a sweep."
      ],
      "text/plain": [
       "<IPython.core.display.HTML object>"
      ]
     },
     "metadata": {},
     "output_type": "display_data"
    },
    {
     "data": {
      "text/html": [
       "Tracking run with wandb version 0.19.8"
      ],
      "text/plain": [
       "<IPython.core.display.HTML object>"
      ]
     },
     "metadata": {},
     "output_type": "display_data"
    },
    {
     "data": {
      "text/html": [
       "Run data is saved locally in <code>c:\\Users\\trist\\Git_repos\\BT-ML-PGESAT\\code\\PGExplainer NeuroSAT\\wandb\\run-20250410_143003-8impak1r</code>"
      ],
      "text/plain": [
       "<IPython.core.display.HTML object>"
      ]
     },
     "metadata": {},
     "output_type": "display_data"
    },
    {
     "data": {
      "text/html": [
       "Syncing run <strong><a href='https://wandb.ai/tristan-schulz2001-tu-dortmund/Sweep-NeuroSAT-HARD-CONSTRAINT-AUROC/runs/8impak1r' target=\"_blank\">robust-sweep-18</a></strong> to <a href='https://wandb.ai/tristan-schulz2001-tu-dortmund/Sweep-NeuroSAT-HARD-CONSTRAINT-AUROC' target=\"_blank\">Weights & Biases</a> (<a href='https://wandb.me/developer-guide' target=\"_blank\">docs</a>)<br>Sweep page: <a href='https://wandb.ai/tristan-schulz2001-tu-dortmund/Sweep-NeuroSAT-HARD-CONSTRAINT-AUROC/sweeps/1kd67zlb' target=\"_blank\">https://wandb.ai/tristan-schulz2001-tu-dortmund/Sweep-NeuroSAT-HARD-CONSTRAINT-AUROC/sweeps/1kd67zlb</a>"
      ],
      "text/plain": [
       "<IPython.core.display.HTML object>"
      ]
     },
     "metadata": {},
     "output_type": "display_data"
    },
    {
     "data": {
      "text/html": [
       " View project at <a href='https://wandb.ai/tristan-schulz2001-tu-dortmund/Sweep-NeuroSAT-HARD-CONSTRAINT-AUROC' target=\"_blank\">https://wandb.ai/tristan-schulz2001-tu-dortmund/Sweep-NeuroSAT-HARD-CONSTRAINT-AUROC</a>"
      ],
      "text/plain": [
       "<IPython.core.display.HTML object>"
      ]
     },
     "metadata": {},
     "output_type": "display_data"
    },
    {
     "data": {
      "text/html": [
       " View sweep at <a href='https://wandb.ai/tristan-schulz2001-tu-dortmund/Sweep-NeuroSAT-HARD-CONSTRAINT-AUROC/sweeps/1kd67zlb' target=\"_blank\">https://wandb.ai/tristan-schulz2001-tu-dortmund/Sweep-NeuroSAT-HARD-CONSTRAINT-AUROC/sweeps/1kd67zlb</a>"
      ],
      "text/plain": [
       "<IPython.core.display.HTML object>"
      ]
     },
     "metadata": {},
     "output_type": "display_data"
    },
    {
     "data": {
      "text/html": [
       " View run at <a href='https://wandb.ai/tristan-schulz2001-tu-dortmund/Sweep-NeuroSAT-HARD-CONSTRAINT-AUROC/runs/8impak1r' target=\"_blank\">https://wandb.ai/tristan-schulz2001-tu-dortmund/Sweep-NeuroSAT-HARD-CONSTRAINT-AUROC/runs/8impak1r</a>"
      ],
      "text/plain": [
       "<IPython.core.display.HTML object>"
      ]
     },
     "metadata": {},
     "output_type": "display_data"
    },
    {
     "name": "stdout",
     "output_type": "stream",
     "text": [
      "Epoch 1, Loss: 9.153109550476074\n",
      "mean auroc score: 0.4891628623008728\n",
      "Epoch 2, Loss: 9.101724624633789\n",
      "mean auroc score: 0.490462064743042\n",
      "Epoch 3, Loss: 9.028517723083496\n",
      "mean auroc score: 0.5018190741539001\n",
      "Epoch 4, Loss: 8.955745697021484\n",
      "mean auroc score: 0.5133092403411865\n",
      "Epoch 5, Loss: 8.899576187133789\n",
      "mean auroc score: 0.5193172693252563\n",
      "Epoch 6, Loss: 8.831525802612305\n",
      "mean auroc score: 0.5240538120269775\n",
      "Epoch 7, Loss: 8.782008171081543\n",
      "mean auroc score: 0.5254025459289551\n",
      "Epoch 8, Loss: 8.74250602722168\n",
      "mean auroc score: 0.5278806686401367\n",
      "Epoch 9, Loss: 8.678144454956055\n",
      "mean auroc score: 0.5286290645599365\n",
      "Epoch 10, Loss: 8.64754867553711\n",
      "mean auroc score: 0.5262126922607422\n",
      "Epoch 11, Loss: 8.565909385681152\n",
      "mean auroc score: 0.5249691009521484\n",
      "Epoch 12, Loss: 8.525544166564941\n",
      "mean auroc score: 0.5329347252845764\n",
      "Epoch 13, Loss: 8.443901062011719\n",
      "mean auroc score: 0.5357378125190735\n",
      "Epoch 14, Loss: 8.382349967956543\n",
      "mean auroc score: 0.5350569486618042\n",
      "Epoch 15, Loss: 8.303873062133789\n",
      "mean auroc score: 0.5385130047798157\n",
      "Epoch 16, Loss: 8.232802391052246\n",
      "mean auroc score: 0.5405057668685913\n",
      "Epoch 17, Loss: 8.15050983428955\n",
      "mean auroc score: 0.5377430319786072\n",
      "Epoch 18, Loss: 8.02143669128418\n",
      "mean auroc score: 0.5351017713546753\n",
      "Epoch 19, Loss: 7.926294803619385\n",
      "mean auroc score: 0.5346413254737854\n",
      "Epoch 20, Loss: 7.820835113525391\n",
      "mean auroc score: 0.535656213760376\n"
     ]
    },
    {
     "data": {
      "text/html": [],
      "text/plain": [
       "<IPython.core.display.HTML object>"
      ]
     },
     "metadata": {},
     "output_type": "display_data"
    },
    {
     "data": {
      "text/html": [
       "<br>    <style><br>        .wandb-row {<br>            display: flex;<br>            flex-direction: row;<br>            flex-wrap: wrap;<br>            justify-content: flex-start;<br>            width: 100%;<br>        }<br>        .wandb-col {<br>            display: flex;<br>            flex-direction: column;<br>            flex-basis: 100%;<br>            flex: 1;<br>            padding: 10px;<br>        }<br>    </style><br><div class=\"wandb-row\"><div class=\"wandb-col\"><h3>Run history:</h3><br/><table class=\"wandb\"><tr><td>train/Loss</td><td>██▇▇▇▆▆▆▆▅▅▅▄▄▄▃▃▂▂▁</td></tr><tr><td>val/auroc</td><td>▁▁▃▄▅▆▆▆▆▆▆▇▇▇███▇▇▇</td></tr><tr><td>val/highest_individual_auroc</td><td>▁</td></tr><tr><td>val/temperature</td><td>█▇▇▆▆▆▅▅▄▄▄▃▃▃▂▂▂▁▁▁</td></tr></table><br/></div><div class=\"wandb-col\"><h3>Run summary:</h3><br/><table class=\"wandb\"><tr><td>train/Loss</td><td>7.82084</td></tr><tr><td>val/auroc</td><td>0.53566</td></tr><tr><td>val/highest_individual_auroc</td><td>0.74391</td></tr><tr><td>val/temperature</td><td>2</td></tr></table><br/></div></div>"
      ],
      "text/plain": [
       "<IPython.core.display.HTML object>"
      ]
     },
     "metadata": {},
     "output_type": "display_data"
    },
    {
     "data": {
      "text/html": [
       " View run <strong style=\"color:#cdcd00\">robust-sweep-18</strong> at: <a href='https://wandb.ai/tristan-schulz2001-tu-dortmund/Sweep-NeuroSAT-HARD-CONSTRAINT-AUROC/runs/8impak1r' target=\"_blank\">https://wandb.ai/tristan-schulz2001-tu-dortmund/Sweep-NeuroSAT-HARD-CONSTRAINT-AUROC/runs/8impak1r</a><br> View project at: <a href='https://wandb.ai/tristan-schulz2001-tu-dortmund/Sweep-NeuroSAT-HARD-CONSTRAINT-AUROC' target=\"_blank\">https://wandb.ai/tristan-schulz2001-tu-dortmund/Sweep-NeuroSAT-HARD-CONSTRAINT-AUROC</a><br>Synced 5 W&B file(s), 0 media file(s), 0 artifact file(s) and 0 other file(s)"
      ],
      "text/plain": [
       "<IPython.core.display.HTML object>"
      ]
     },
     "metadata": {},
     "output_type": "display_data"
    },
    {
     "data": {
      "text/html": [
       "Find logs at: <code>.\\wandb\\run-20250410_143003-8impak1r\\logs</code>"
      ],
      "text/plain": [
       "<IPython.core.display.HTML object>"
      ]
     },
     "metadata": {},
     "output_type": "display_data"
    },
    {
     "name": "stderr",
     "output_type": "stream",
     "text": [
      "\u001b[34m\u001b[1mwandb\u001b[0m: Sweep Agent: Waiting for job.\n",
      "\u001b[34m\u001b[1mwandb\u001b[0m: Job received.\n",
      "\u001b[34m\u001b[1mwandb\u001b[0m: Agent Starting Run: 93m8ir4h with config:\n",
      "\u001b[34m\u001b[1mwandb\u001b[0m: \tbce_loss: 0\n",
      "\u001b[34m\u001b[1mwandb\u001b[0m: \tconsistency_reg: 0\n",
      "\u001b[34m\u001b[1mwandb\u001b[0m: \tentropy_reg: 0\n",
      "\u001b[34m\u001b[1mwandb\u001b[0m: \tepochs: 20\n",
      "\u001b[34m\u001b[1mwandb\u001b[0m: \tlr_mlp: 0.0001\n",
      "\u001b[34m\u001b[1mwandb\u001b[0m: \tseed: 75\n",
      "\u001b[34m\u001b[1mwandb\u001b[0m: \tsize_reg: 0.01\n",
      "\u001b[34m\u001b[1mwandb\u001b[0m: \ttT: 1\n"
     ]
    },
    {
     "data": {
      "text/html": [
       "Ignoring project 'Explainer-NeuroSAT-Sweep' when running a sweep."
      ],
      "text/plain": [
       "<IPython.core.display.HTML object>"
      ]
     },
     "metadata": {},
     "output_type": "display_data"
    },
    {
     "data": {
      "text/html": [
       "Tracking run with wandb version 0.19.8"
      ],
      "text/plain": [
       "<IPython.core.display.HTML object>"
      ]
     },
     "metadata": {},
     "output_type": "display_data"
    },
    {
     "data": {
      "text/html": [
       "Run data is saved locally in <code>c:\\Users\\trist\\Git_repos\\BT-ML-PGESAT\\code\\PGExplainer NeuroSAT\\wandb\\run-20250410_144506-93m8ir4h</code>"
      ],
      "text/plain": [
       "<IPython.core.display.HTML object>"
      ]
     },
     "metadata": {},
     "output_type": "display_data"
    },
    {
     "data": {
      "text/html": [
       "Syncing run <strong><a href='https://wandb.ai/tristan-schulz2001-tu-dortmund/Sweep-NeuroSAT-HARD-CONSTRAINT-AUROC/runs/93m8ir4h' target=\"_blank\">twilight-sweep-19</a></strong> to <a href='https://wandb.ai/tristan-schulz2001-tu-dortmund/Sweep-NeuroSAT-HARD-CONSTRAINT-AUROC' target=\"_blank\">Weights & Biases</a> (<a href='https://wandb.me/developer-guide' target=\"_blank\">docs</a>)<br>Sweep page: <a href='https://wandb.ai/tristan-schulz2001-tu-dortmund/Sweep-NeuroSAT-HARD-CONSTRAINT-AUROC/sweeps/1kd67zlb' target=\"_blank\">https://wandb.ai/tristan-schulz2001-tu-dortmund/Sweep-NeuroSAT-HARD-CONSTRAINT-AUROC/sweeps/1kd67zlb</a>"
      ],
      "text/plain": [
       "<IPython.core.display.HTML object>"
      ]
     },
     "metadata": {},
     "output_type": "display_data"
    },
    {
     "data": {
      "text/html": [
       " View project at <a href='https://wandb.ai/tristan-schulz2001-tu-dortmund/Sweep-NeuroSAT-HARD-CONSTRAINT-AUROC' target=\"_blank\">https://wandb.ai/tristan-schulz2001-tu-dortmund/Sweep-NeuroSAT-HARD-CONSTRAINT-AUROC</a>"
      ],
      "text/plain": [
       "<IPython.core.display.HTML object>"
      ]
     },
     "metadata": {},
     "output_type": "display_data"
    },
    {
     "data": {
      "text/html": [
       " View sweep at <a href='https://wandb.ai/tristan-schulz2001-tu-dortmund/Sweep-NeuroSAT-HARD-CONSTRAINT-AUROC/sweeps/1kd67zlb' target=\"_blank\">https://wandb.ai/tristan-schulz2001-tu-dortmund/Sweep-NeuroSAT-HARD-CONSTRAINT-AUROC/sweeps/1kd67zlb</a>"
      ],
      "text/plain": [
       "<IPython.core.display.HTML object>"
      ]
     },
     "metadata": {},
     "output_type": "display_data"
    },
    {
     "data": {
      "text/html": [
       " View run at <a href='https://wandb.ai/tristan-schulz2001-tu-dortmund/Sweep-NeuroSAT-HARD-CONSTRAINT-AUROC/runs/93m8ir4h' target=\"_blank\">https://wandb.ai/tristan-schulz2001-tu-dortmund/Sweep-NeuroSAT-HARD-CONSTRAINT-AUROC/runs/93m8ir4h</a>"
      ],
      "text/plain": [
       "<IPython.core.display.HTML object>"
      ]
     },
     "metadata": {},
     "output_type": "display_data"
    },
    {
     "name": "stdout",
     "output_type": "stream",
     "text": [
      "Epoch 1, Loss: 8.941617012023926\n",
      "mean auroc score: 0.495727002620697\n",
      "Epoch 2, Loss: 8.894510269165039\n",
      "mean auroc score: 0.4900554120540619\n",
      "Epoch 3, Loss: 8.851141929626465\n",
      "mean auroc score: 0.48915863037109375\n",
      "Epoch 4, Loss: 8.79102897644043\n",
      "mean auroc score: 0.49092042446136475\n",
      "Epoch 5, Loss: 8.717363357543945\n",
      "mean auroc score: 0.4878805875778198\n",
      "Epoch 6, Loss: 8.636028289794922\n",
      "mean auroc score: 0.4910328686237335\n",
      "Epoch 7, Loss: 8.544309616088867\n",
      "mean auroc score: 0.4900112748146057\n",
      "Epoch 8, Loss: 8.448225021362305\n",
      "mean auroc score: 0.49130961298942566\n",
      "Epoch 9, Loss: 8.347848892211914\n",
      "mean auroc score: 0.4951332211494446\n",
      "Epoch 10, Loss: 8.234102249145508\n",
      "mean auroc score: 0.4965493679046631\n",
      "Epoch 11, Loss: 8.068413734436035\n",
      "mean auroc score: 0.5001172423362732\n",
      "Epoch 12, Loss: 7.939772129058838\n",
      "mean auroc score: 0.5025296211242676\n",
      "Epoch 13, Loss: 7.791433811187744\n",
      "mean auroc score: 0.5035594701766968\n",
      "Epoch 14, Loss: 7.626187801361084\n",
      "mean auroc score: 0.5066511034965515\n",
      "Epoch 15, Loss: 7.445485591888428\n",
      "mean auroc score: 0.5066708326339722\n",
      "Epoch 16, Loss: 7.2029852867126465\n",
      "mean auroc score: 0.5076544284820557\n",
      "Epoch 17, Loss: 7.000482082366943\n",
      "mean auroc score: 0.5102337002754211\n",
      "Epoch 18, Loss: 6.7832136154174805\n",
      "mean auroc score: 0.5099376440048218\n",
      "Epoch 19, Loss: 6.499891757965088\n",
      "mean auroc score: 0.5101417899131775\n",
      "Epoch 20, Loss: 6.2608137130737305\n",
      "mean auroc score: 0.5116848349571228\n"
     ]
    },
    {
     "data": {
      "text/html": [],
      "text/plain": [
       "<IPython.core.display.HTML object>"
      ]
     },
     "metadata": {},
     "output_type": "display_data"
    },
    {
     "data": {
      "text/html": [
       "<br>    <style><br>        .wandb-row {<br>            display: flex;<br>            flex-direction: row;<br>            flex-wrap: wrap;<br>            justify-content: flex-start;<br>            width: 100%;<br>        }<br>        .wandb-col {<br>            display: flex;<br>            flex-direction: column;<br>            flex-basis: 100%;<br>            flex: 1;<br>            padding: 10px;<br>        }<br>    </style><br><div class=\"wandb-row\"><div class=\"wandb-col\"><h3>Run history:</h3><br/><table class=\"wandb\"><tr><td>train/Loss</td><td>████▇▇▇▇▆▆▆▅▅▅▄▃▃▂▂▁</td></tr><tr><td>val/auroc</td><td>▃▂▁▂▁▂▂▂▃▄▅▅▆▇▇▇█▇██</td></tr><tr><td>val/highest_individual_auroc</td><td>▁</td></tr><tr><td>val/temperature</td><td>█▇▇▆▆▅▅▄▄▃▃▃▂▂▂▂▂▁▁▁</td></tr></table><br/></div><div class=\"wandb-col\"><h3>Run summary:</h3><br/><table class=\"wandb\"><tr><td>train/Loss</td><td>6.26081</td></tr><tr><td>val/auroc</td><td>0.51168</td></tr><tr><td>val/highest_individual_auroc</td><td>0.65505</td></tr><tr><td>val/temperature</td><td>1</td></tr></table><br/></div></div>"
      ],
      "text/plain": [
       "<IPython.core.display.HTML object>"
      ]
     },
     "metadata": {},
     "output_type": "display_data"
    },
    {
     "data": {
      "text/html": [
       " View run <strong style=\"color:#cdcd00\">twilight-sweep-19</strong> at: <a href='https://wandb.ai/tristan-schulz2001-tu-dortmund/Sweep-NeuroSAT-HARD-CONSTRAINT-AUROC/runs/93m8ir4h' target=\"_blank\">https://wandb.ai/tristan-schulz2001-tu-dortmund/Sweep-NeuroSAT-HARD-CONSTRAINT-AUROC/runs/93m8ir4h</a><br> View project at: <a href='https://wandb.ai/tristan-schulz2001-tu-dortmund/Sweep-NeuroSAT-HARD-CONSTRAINT-AUROC' target=\"_blank\">https://wandb.ai/tristan-schulz2001-tu-dortmund/Sweep-NeuroSAT-HARD-CONSTRAINT-AUROC</a><br>Synced 5 W&B file(s), 0 media file(s), 0 artifact file(s) and 0 other file(s)"
      ],
      "text/plain": [
       "<IPython.core.display.HTML object>"
      ]
     },
     "metadata": {},
     "output_type": "display_data"
    },
    {
     "data": {
      "text/html": [
       "Find logs at: <code>.\\wandb\\run-20250410_144506-93m8ir4h\\logs</code>"
      ],
      "text/plain": [
       "<IPython.core.display.HTML object>"
      ]
     },
     "metadata": {},
     "output_type": "display_data"
    },
    {
     "name": "stderr",
     "output_type": "stream",
     "text": [
      "\u001b[34m\u001b[1mwandb\u001b[0m: Agent Starting Run: o85lu9me with config:\n",
      "\u001b[34m\u001b[1mwandb\u001b[0m: \tbce_loss: 0\n",
      "\u001b[34m\u001b[1mwandb\u001b[0m: \tconsistency_reg: 0\n",
      "\u001b[34m\u001b[1mwandb\u001b[0m: \tentropy_reg: 0\n",
      "\u001b[34m\u001b[1mwandb\u001b[0m: \tepochs: 20\n",
      "\u001b[34m\u001b[1mwandb\u001b[0m: \tlr_mlp: 0.0001\n",
      "\u001b[34m\u001b[1mwandb\u001b[0m: \tseed: 75\n",
      "\u001b[34m\u001b[1mwandb\u001b[0m: \tsize_reg: 0.01\n",
      "\u001b[34m\u001b[1mwandb\u001b[0m: \ttT: 2\n"
     ]
    },
    {
     "data": {
      "text/html": [
       "Ignoring project 'Explainer-NeuroSAT-Sweep' when running a sweep."
      ],
      "text/plain": [
       "<IPython.core.display.HTML object>"
      ]
     },
     "metadata": {},
     "output_type": "display_data"
    },
    {
     "data": {
      "text/html": [
       "Tracking run with wandb version 0.19.8"
      ],
      "text/plain": [
       "<IPython.core.display.HTML object>"
      ]
     },
     "metadata": {},
     "output_type": "display_data"
    },
    {
     "data": {
      "text/html": [
       "Run data is saved locally in <code>c:\\Users\\trist\\Git_repos\\BT-ML-PGESAT\\code\\PGExplainer NeuroSAT\\wandb\\run-20250410_150002-o85lu9me</code>"
      ],
      "text/plain": [
       "<IPython.core.display.HTML object>"
      ]
     },
     "metadata": {},
     "output_type": "display_data"
    },
    {
     "data": {
      "text/html": [
       "Syncing run <strong><a href='https://wandb.ai/tristan-schulz2001-tu-dortmund/Sweep-NeuroSAT-HARD-CONSTRAINT-AUROC/runs/o85lu9me' target=\"_blank\">ethereal-sweep-20</a></strong> to <a href='https://wandb.ai/tristan-schulz2001-tu-dortmund/Sweep-NeuroSAT-HARD-CONSTRAINT-AUROC' target=\"_blank\">Weights & Biases</a> (<a href='https://wandb.me/developer-guide' target=\"_blank\">docs</a>)<br>Sweep page: <a href='https://wandb.ai/tristan-schulz2001-tu-dortmund/Sweep-NeuroSAT-HARD-CONSTRAINT-AUROC/sweeps/1kd67zlb' target=\"_blank\">https://wandb.ai/tristan-schulz2001-tu-dortmund/Sweep-NeuroSAT-HARD-CONSTRAINT-AUROC/sweeps/1kd67zlb</a>"
      ],
      "text/plain": [
       "<IPython.core.display.HTML object>"
      ]
     },
     "metadata": {},
     "output_type": "display_data"
    },
    {
     "data": {
      "text/html": [
       " View project at <a href='https://wandb.ai/tristan-schulz2001-tu-dortmund/Sweep-NeuroSAT-HARD-CONSTRAINT-AUROC' target=\"_blank\">https://wandb.ai/tristan-schulz2001-tu-dortmund/Sweep-NeuroSAT-HARD-CONSTRAINT-AUROC</a>"
      ],
      "text/plain": [
       "<IPython.core.display.HTML object>"
      ]
     },
     "metadata": {},
     "output_type": "display_data"
    },
    {
     "data": {
      "text/html": [
       " View sweep at <a href='https://wandb.ai/tristan-schulz2001-tu-dortmund/Sweep-NeuroSAT-HARD-CONSTRAINT-AUROC/sweeps/1kd67zlb' target=\"_blank\">https://wandb.ai/tristan-schulz2001-tu-dortmund/Sweep-NeuroSAT-HARD-CONSTRAINT-AUROC/sweeps/1kd67zlb</a>"
      ],
      "text/plain": [
       "<IPython.core.display.HTML object>"
      ]
     },
     "metadata": {},
     "output_type": "display_data"
    },
    {
     "data": {
      "text/html": [
       " View run at <a href='https://wandb.ai/tristan-schulz2001-tu-dortmund/Sweep-NeuroSAT-HARD-CONSTRAINT-AUROC/runs/o85lu9me' target=\"_blank\">https://wandb.ai/tristan-schulz2001-tu-dortmund/Sweep-NeuroSAT-HARD-CONSTRAINT-AUROC/runs/o85lu9me</a>"
      ],
      "text/plain": [
       "<IPython.core.display.HTML object>"
      ]
     },
     "metadata": {},
     "output_type": "display_data"
    },
    {
     "name": "stdout",
     "output_type": "stream",
     "text": [
      "Epoch 1, Loss: 8.94115924835205\n",
      "mean auroc score: 0.495727002620697\n",
      "Epoch 2, Loss: 8.896312713623047\n",
      "mean auroc score: 0.4900554120540619\n",
      "Epoch 3, Loss: 8.85793399810791\n",
      "mean auroc score: 0.489479124546051\n",
      "Epoch 4, Loss: 8.806896209716797\n",
      "mean auroc score: 0.4906832277774811\n",
      "Epoch 5, Loss: 8.745784759521484\n",
      "mean auroc score: 0.48798346519470215\n",
      "Epoch 6, Loss: 8.684977531433105\n",
      "mean auroc score: 0.49123236536979675\n",
      "Epoch 7, Loss: 8.616217613220215\n",
      "mean auroc score: 0.4899299144744873\n",
      "Epoch 8, Loss: 8.544012069702148\n",
      "mean auroc score: 0.49179401993751526\n",
      "Epoch 9, Loss: 8.478650093078613\n",
      "mean auroc score: 0.49510303139686584\n"
     ]
    },
    {
     "name": "stderr",
     "output_type": "stream",
     "text": [
      "\u001b[34m\u001b[1mwandb\u001b[0m: Network error (ConnectTimeout), entering retry loop.\n"
     ]
    },
    {
     "name": "stdout",
     "output_type": "stream",
     "text": [
      "Epoch 10, Loss: 8.400385856628418\n",
      "mean auroc score: 0.4966265559196472\n",
      "Epoch 11, Loss: 8.295723915100098\n",
      "mean auroc score: 0.4996052384376526\n",
      "Epoch 12, Loss: 8.217142105102539\n",
      "mean auroc score: 0.5027527213096619\n",
      "Epoch 13, Loss: 8.12111759185791\n",
      "mean auroc score: 0.5040326118469238\n",
      "Epoch 14, Loss: 8.030763626098633\n",
      "mean auroc score: 0.5063643455505371\n",
      "Epoch 15, Loss: 7.8988447189331055\n",
      "mean auroc score: 0.5068769454956055\n",
      "Epoch 16, Loss: 7.759275913238525\n",
      "mean auroc score: 0.5075960755348206\n",
      "Epoch 17, Loss: 7.641514778137207\n",
      "mean auroc score: 0.5090064406394958\n",
      "Epoch 18, Loss: 7.486632347106934\n",
      "mean auroc score: 0.5093822479248047\n",
      "Epoch 19, Loss: 7.320207118988037\n",
      "mean auroc score: 0.5098578333854675\n",
      "Epoch 20, Loss: 7.1616668701171875\n",
      "mean auroc score: 0.5118328928947449\n"
     ]
    },
    {
     "data": {
      "text/html": [],
      "text/plain": [
       "<IPython.core.display.HTML object>"
      ]
     },
     "metadata": {},
     "output_type": "display_data"
    },
    {
     "data": {
      "text/html": [
       "<br>    <style><br>        .wandb-row {<br>            display: flex;<br>            flex-direction: row;<br>            flex-wrap: wrap;<br>            justify-content: flex-start;<br>            width: 100%;<br>        }<br>        .wandb-col {<br>            display: flex;<br>            flex-direction: column;<br>            flex-basis: 100%;<br>            flex: 1;<br>            padding: 10px;<br>        }<br>    </style><br><div class=\"wandb-row\"><div class=\"wandb-col\"><h3>Run history:</h3><br/><table class=\"wandb\"><tr><td>train/Loss</td><td>███▇▇▇▇▆▆▆▅▅▅▄▄▃▃▂▂▁</td></tr><tr><td>val/auroc</td><td>▃▂▁▂▁▂▂▂▃▄▄▅▆▆▇▇▇▇▇█</td></tr><tr><td>val/highest_individual_auroc</td><td>▁</td></tr><tr><td>val/temperature</td><td>█▇▇▆▆▆▅▅▄▄▄▃▃▃▂▂▂▁▁▁</td></tr></table><br/></div><div class=\"wandb-col\"><h3>Run summary:</h3><br/><table class=\"wandb\"><tr><td>train/Loss</td><td>7.16167</td></tr><tr><td>val/auroc</td><td>0.51183</td></tr><tr><td>val/highest_individual_auroc</td><td>0.65249</td></tr><tr><td>val/temperature</td><td>2</td></tr></table><br/></div></div>"
      ],
      "text/plain": [
       "<IPython.core.display.HTML object>"
      ]
     },
     "metadata": {},
     "output_type": "display_data"
    },
    {
     "data": {
      "text/html": [
       " View run <strong style=\"color:#cdcd00\">ethereal-sweep-20</strong> at: <a href='https://wandb.ai/tristan-schulz2001-tu-dortmund/Sweep-NeuroSAT-HARD-CONSTRAINT-AUROC/runs/o85lu9me' target=\"_blank\">https://wandb.ai/tristan-schulz2001-tu-dortmund/Sweep-NeuroSAT-HARD-CONSTRAINT-AUROC/runs/o85lu9me</a><br> View project at: <a href='https://wandb.ai/tristan-schulz2001-tu-dortmund/Sweep-NeuroSAT-HARD-CONSTRAINT-AUROC' target=\"_blank\">https://wandb.ai/tristan-schulz2001-tu-dortmund/Sweep-NeuroSAT-HARD-CONSTRAINT-AUROC</a><br>Synced 5 W&B file(s), 0 media file(s), 0 artifact file(s) and 0 other file(s)"
      ],
      "text/plain": [
       "<IPython.core.display.HTML object>"
      ]
     },
     "metadata": {},
     "output_type": "display_data"
    },
    {
     "data": {
      "text/html": [
       "Find logs at: <code>.\\wandb\\run-20250410_150002-o85lu9me\\logs</code>"
      ],
      "text/plain": [
       "<IPython.core.display.HTML object>"
      ]
     },
     "metadata": {},
     "output_type": "display_data"
    },
    {
     "name": "stderr",
     "output_type": "stream",
     "text": [
      "\u001b[34m\u001b[1mwandb\u001b[0m: Agent Starting Run: vji97etg with config:\n",
      "\u001b[34m\u001b[1mwandb\u001b[0m: \tbce_loss: 0\n",
      "\u001b[34m\u001b[1mwandb\u001b[0m: \tconsistency_reg: 0\n",
      "\u001b[34m\u001b[1mwandb\u001b[0m: \tentropy_reg: 0\n",
      "\u001b[34m\u001b[1mwandb\u001b[0m: \tepochs: 20\n",
      "\u001b[34m\u001b[1mwandb\u001b[0m: \tlr_mlp: 3e-05\n",
      "\u001b[34m\u001b[1mwandb\u001b[0m: \tseed: 74\n",
      "\u001b[34m\u001b[1mwandb\u001b[0m: \tsize_reg: 0.01\n",
      "\u001b[34m\u001b[1mwandb\u001b[0m: \ttT: 1\n"
     ]
    },
    {
     "data": {
      "text/html": [
       "Ignoring project 'Explainer-NeuroSAT-Sweep' when running a sweep."
      ],
      "text/plain": [
       "<IPython.core.display.HTML object>"
      ]
     },
     "metadata": {},
     "output_type": "display_data"
    },
    {
     "data": {
      "text/html": [
       "Tracking run with wandb version 0.19.8"
      ],
      "text/plain": [
       "<IPython.core.display.HTML object>"
      ]
     },
     "metadata": {},
     "output_type": "display_data"
    },
    {
     "data": {
      "text/html": [
       "Run data is saved locally in <code>c:\\Users\\trist\\Git_repos\\BT-ML-PGESAT\\code\\PGExplainer NeuroSAT\\wandb\\run-20250410_151454-vji97etg</code>"
      ],
      "text/plain": [
       "<IPython.core.display.HTML object>"
      ]
     },
     "metadata": {},
     "output_type": "display_data"
    },
    {
     "data": {
      "text/html": [
       "Syncing run <strong><a href='https://wandb.ai/tristan-schulz2001-tu-dortmund/Sweep-NeuroSAT-HARD-CONSTRAINT-AUROC/runs/vji97etg' target=\"_blank\">unique-sweep-21</a></strong> to <a href='https://wandb.ai/tristan-schulz2001-tu-dortmund/Sweep-NeuroSAT-HARD-CONSTRAINT-AUROC' target=\"_blank\">Weights & Biases</a> (<a href='https://wandb.me/developer-guide' target=\"_blank\">docs</a>)<br>Sweep page: <a href='https://wandb.ai/tristan-schulz2001-tu-dortmund/Sweep-NeuroSAT-HARD-CONSTRAINT-AUROC/sweeps/1kd67zlb' target=\"_blank\">https://wandb.ai/tristan-schulz2001-tu-dortmund/Sweep-NeuroSAT-HARD-CONSTRAINT-AUROC/sweeps/1kd67zlb</a>"
      ],
      "text/plain": [
       "<IPython.core.display.HTML object>"
      ]
     },
     "metadata": {},
     "output_type": "display_data"
    },
    {
     "data": {
      "text/html": [
       " View project at <a href='https://wandb.ai/tristan-schulz2001-tu-dortmund/Sweep-NeuroSAT-HARD-CONSTRAINT-AUROC' target=\"_blank\">https://wandb.ai/tristan-schulz2001-tu-dortmund/Sweep-NeuroSAT-HARD-CONSTRAINT-AUROC</a>"
      ],
      "text/plain": [
       "<IPython.core.display.HTML object>"
      ]
     },
     "metadata": {},
     "output_type": "display_data"
    },
    {
     "data": {
      "text/html": [
       " View sweep at <a href='https://wandb.ai/tristan-schulz2001-tu-dortmund/Sweep-NeuroSAT-HARD-CONSTRAINT-AUROC/sweeps/1kd67zlb' target=\"_blank\">https://wandb.ai/tristan-schulz2001-tu-dortmund/Sweep-NeuroSAT-HARD-CONSTRAINT-AUROC/sweeps/1kd67zlb</a>"
      ],
      "text/plain": [
       "<IPython.core.display.HTML object>"
      ]
     },
     "metadata": {},
     "output_type": "display_data"
    },
    {
     "data": {
      "text/html": [
       " View run at <a href='https://wandb.ai/tristan-schulz2001-tu-dortmund/Sweep-NeuroSAT-HARD-CONSTRAINT-AUROC/runs/vji97etg' target=\"_blank\">https://wandb.ai/tristan-schulz2001-tu-dortmund/Sweep-NeuroSAT-HARD-CONSTRAINT-AUROC/runs/vji97etg</a>"
      ],
      "text/plain": [
       "<IPython.core.display.HTML object>"
      ]
     },
     "metadata": {},
     "output_type": "display_data"
    },
    {
     "name": "stdout",
     "output_type": "stream",
     "text": [
      "Epoch 1, Loss: 9.160676956176758\n",
      "mean auroc score: 0.487520694732666\n",
      "Epoch 2, Loss: 9.168009757995605\n",
      "mean auroc score: 0.4898471236228943\n",
      "Epoch 3, Loss: 9.154230117797852\n",
      "mean auroc score: 0.488873690366745\n",
      "Epoch 4, Loss: 9.14024829864502\n",
      "mean auroc score: 0.49097833037376404\n",
      "Epoch 5, Loss: 9.138577461242676\n",
      "mean auroc score: 0.4923509657382965\n",
      "Epoch 6, Loss: 9.11225414276123\n",
      "mean auroc score: 0.4902441203594208\n",
      "Epoch 7, Loss: 9.095291137695312\n",
      "mean auroc score: 0.49233192205429077\n",
      "Epoch 8, Loss: 9.083415031433105\n",
      "mean auroc score: 0.49322834610939026\n",
      "Epoch 9, Loss: 9.035799980163574\n",
      "mean auroc score: 0.4962656497955322\n",
      "Epoch 10, Loss: 9.03386116027832\n",
      "mean auroc score: 0.5027512311935425\n",
      "Epoch 11, Loss: 8.967782974243164\n",
      "mean auroc score: 0.5035571455955505\n",
      "Epoch 12, Loss: 8.958871841430664\n",
      "mean auroc score: 0.5051636099815369\n",
      "Epoch 13, Loss: 8.889864921569824\n",
      "mean auroc score: 0.5115706920623779\n",
      "Epoch 14, Loss: 8.868815422058105\n",
      "mean auroc score: 0.5151985883712769\n",
      "Epoch 15, Loss: 8.815688133239746\n",
      "mean auroc score: 0.5140022039413452\n"
     ]
    },
    {
     "name": "stderr",
     "output_type": "stream",
     "text": [
      "\u001b[34m\u001b[1mwandb\u001b[0m: Network error (ConnectTimeout), entering retry loop.\n"
     ]
    },
    {
     "name": "stdout",
     "output_type": "stream",
     "text": [
      "Epoch 16, Loss: 8.790741920471191\n",
      "mean auroc score: 0.5198402404785156\n",
      "Epoch 17, Loss: 8.75723648071289\n",
      "mean auroc score: 0.5220726728439331\n",
      "Epoch 18, Loss: 8.655056953430176\n",
      "mean auroc score: 0.5241902470588684\n",
      "Epoch 19, Loss: 8.592105865478516\n",
      "mean auroc score: 0.5232473015785217\n",
      "Epoch 20, Loss: 8.64106273651123\n",
      "mean auroc score: 0.5258065462112427\n"
     ]
    },
    {
     "data": {
      "text/html": [],
      "text/plain": [
       "<IPython.core.display.HTML object>"
      ]
     },
     "metadata": {},
     "output_type": "display_data"
    },
    {
     "data": {
      "text/html": [
       "<br>    <style><br>        .wandb-row {<br>            display: flex;<br>            flex-direction: row;<br>            flex-wrap: wrap;<br>            justify-content: flex-start;<br>            width: 100%;<br>        }<br>        .wandb-col {<br>            display: flex;<br>            flex-direction: column;<br>            flex-basis: 100%;<br>            flex: 1;<br>            padding: 10px;<br>        }<br>    </style><br><div class=\"wandb-row\"><div class=\"wandb-col\"><h3>Run history:</h3><br/><table class=\"wandb\"><tr><td>train/Loss</td><td>█████▇▇▇▆▆▆▅▅▄▄▃▃▂▁▂</td></tr><tr><td>val/auroc</td><td>▁▁▁▂▂▁▂▂▃▄▄▄▅▆▆▇▇███</td></tr><tr><td>val/highest_individual_auroc</td><td>▁</td></tr><tr><td>val/temperature</td><td>█▇▇▆▆▅▅▄▄▃▃▃▂▂▂▂▂▁▁▁</td></tr></table><br/></div><div class=\"wandb-col\"><h3>Run summary:</h3><br/><table class=\"wandb\"><tr><td>train/Loss</td><td>8.64106</td></tr><tr><td>val/auroc</td><td>0.52581</td></tr><tr><td>val/highest_individual_auroc</td><td>0.77338</td></tr><tr><td>val/temperature</td><td>1</td></tr></table><br/></div></div>"
      ],
      "text/plain": [
       "<IPython.core.display.HTML object>"
      ]
     },
     "metadata": {},
     "output_type": "display_data"
    },
    {
     "data": {
      "text/html": [
       " View run <strong style=\"color:#cdcd00\">unique-sweep-21</strong> at: <a href='https://wandb.ai/tristan-schulz2001-tu-dortmund/Sweep-NeuroSAT-HARD-CONSTRAINT-AUROC/runs/vji97etg' target=\"_blank\">https://wandb.ai/tristan-schulz2001-tu-dortmund/Sweep-NeuroSAT-HARD-CONSTRAINT-AUROC/runs/vji97etg</a><br> View project at: <a href='https://wandb.ai/tristan-schulz2001-tu-dortmund/Sweep-NeuroSAT-HARD-CONSTRAINT-AUROC' target=\"_blank\">https://wandb.ai/tristan-schulz2001-tu-dortmund/Sweep-NeuroSAT-HARD-CONSTRAINT-AUROC</a><br>Synced 5 W&B file(s), 0 media file(s), 0 artifact file(s) and 0 other file(s)"
      ],
      "text/plain": [
       "<IPython.core.display.HTML object>"
      ]
     },
     "metadata": {},
     "output_type": "display_data"
    },
    {
     "data": {
      "text/html": [
       "Find logs at: <code>.\\wandb\\run-20250410_151454-vji97etg\\logs</code>"
      ],
      "text/plain": [
       "<IPython.core.display.HTML object>"
      ]
     },
     "metadata": {},
     "output_type": "display_data"
    },
    {
     "name": "stderr",
     "output_type": "stream",
     "text": [
      "\u001b[34m\u001b[1mwandb\u001b[0m: Agent Starting Run: od6f4bgw with config:\n",
      "\u001b[34m\u001b[1mwandb\u001b[0m: \tbce_loss: 0\n",
      "\u001b[34m\u001b[1mwandb\u001b[0m: \tconsistency_reg: 0\n",
      "\u001b[34m\u001b[1mwandb\u001b[0m: \tentropy_reg: 0\n",
      "\u001b[34m\u001b[1mwandb\u001b[0m: \tepochs: 20\n",
      "\u001b[34m\u001b[1mwandb\u001b[0m: \tlr_mlp: 3e-05\n",
      "\u001b[34m\u001b[1mwandb\u001b[0m: \tseed: 74\n",
      "\u001b[34m\u001b[1mwandb\u001b[0m: \tsize_reg: 0.01\n",
      "\u001b[34m\u001b[1mwandb\u001b[0m: \ttT: 2\n"
     ]
    },
    {
     "data": {
      "text/html": [
       "Ignoring project 'Explainer-NeuroSAT-Sweep' when running a sweep."
      ],
      "text/plain": [
       "<IPython.core.display.HTML object>"
      ]
     },
     "metadata": {},
     "output_type": "display_data"
    },
    {
     "data": {
      "text/html": [
       "Tracking run with wandb version 0.19.8"
      ],
      "text/plain": [
       "<IPython.core.display.HTML object>"
      ]
     },
     "metadata": {},
     "output_type": "display_data"
    },
    {
     "data": {
      "text/html": [
       "Run data is saved locally in <code>c:\\Users\\trist\\Git_repos\\BT-ML-PGESAT\\code\\PGExplainer NeuroSAT\\wandb\\run-20250410_153018-od6f4bgw</code>"
      ],
      "text/plain": [
       "<IPython.core.display.HTML object>"
      ]
     },
     "metadata": {},
     "output_type": "display_data"
    },
    {
     "data": {
      "text/html": [
       "Syncing run <strong><a href='https://wandb.ai/tristan-schulz2001-tu-dortmund/Sweep-NeuroSAT-HARD-CONSTRAINT-AUROC/runs/od6f4bgw' target=\"_blank\">leafy-sweep-22</a></strong> to <a href='https://wandb.ai/tristan-schulz2001-tu-dortmund/Sweep-NeuroSAT-HARD-CONSTRAINT-AUROC' target=\"_blank\">Weights & Biases</a> (<a href='https://wandb.me/developer-guide' target=\"_blank\">docs</a>)<br>Sweep page: <a href='https://wandb.ai/tristan-schulz2001-tu-dortmund/Sweep-NeuroSAT-HARD-CONSTRAINT-AUROC/sweeps/1kd67zlb' target=\"_blank\">https://wandb.ai/tristan-schulz2001-tu-dortmund/Sweep-NeuroSAT-HARD-CONSTRAINT-AUROC/sweeps/1kd67zlb</a>"
      ],
      "text/plain": [
       "<IPython.core.display.HTML object>"
      ]
     },
     "metadata": {},
     "output_type": "display_data"
    },
    {
     "data": {
      "text/html": [
       " View project at <a href='https://wandb.ai/tristan-schulz2001-tu-dortmund/Sweep-NeuroSAT-HARD-CONSTRAINT-AUROC' target=\"_blank\">https://wandb.ai/tristan-schulz2001-tu-dortmund/Sweep-NeuroSAT-HARD-CONSTRAINT-AUROC</a>"
      ],
      "text/plain": [
       "<IPython.core.display.HTML object>"
      ]
     },
     "metadata": {},
     "output_type": "display_data"
    },
    {
     "data": {
      "text/html": [
       " View sweep at <a href='https://wandb.ai/tristan-schulz2001-tu-dortmund/Sweep-NeuroSAT-HARD-CONSTRAINT-AUROC/sweeps/1kd67zlb' target=\"_blank\">https://wandb.ai/tristan-schulz2001-tu-dortmund/Sweep-NeuroSAT-HARD-CONSTRAINT-AUROC/sweeps/1kd67zlb</a>"
      ],
      "text/plain": [
       "<IPython.core.display.HTML object>"
      ]
     },
     "metadata": {},
     "output_type": "display_data"
    },
    {
     "data": {
      "text/html": [
       " View run at <a href='https://wandb.ai/tristan-schulz2001-tu-dortmund/Sweep-NeuroSAT-HARD-CONSTRAINT-AUROC/runs/od6f4bgw' target=\"_blank\">https://wandb.ai/tristan-schulz2001-tu-dortmund/Sweep-NeuroSAT-HARD-CONSTRAINT-AUROC/runs/od6f4bgw</a>"
      ],
      "text/plain": [
       "<IPython.core.display.HTML object>"
      ]
     },
     "metadata": {},
     "output_type": "display_data"
    },
    {
     "name": "stdout",
     "output_type": "stream",
     "text": [
      "Epoch 1, Loss: 9.153109550476074\n",
      "mean auroc score: 0.4874560236930847\n",
      "Epoch 2, Loss: 9.152517318725586\n",
      "mean auroc score: 0.4898471236228943\n",
      "Epoch 3, Loss: 9.133499145507812\n",
      "mean auroc score: 0.48895344138145447\n",
      "Epoch 4, Loss: 9.115131378173828\n",
      "mean auroc score: 0.49097833037376404\n",
      "Epoch 5, Loss: 9.107651710510254\n",
      "mean auroc score: 0.49231886863708496\n",
      "Epoch 6, Loss: 9.080284118652344\n",
      "mean auroc score: 0.49035075306892395\n",
      "Epoch 7, Loss: 9.062654495239258\n",
      "mean auroc score: 0.4923946261405945\n",
      "Epoch 8, Loss: 9.049546241760254\n",
      "mean auroc score: 0.4927268624305725\n",
      "Epoch 9, Loss: 9.012350082397461\n",
      "mean auroc score: 0.4961073398590088\n",
      "Epoch 10, Loss: 9.00658130645752\n",
      "mean auroc score: 0.5026914477348328\n",
      "Epoch 11, Loss: 8.956535339355469\n",
      "mean auroc score: 0.5040760636329651\n",
      "Epoch 12, Loss: 8.94642162322998\n",
      "mean auroc score: 0.5049037337303162\n",
      "Epoch 13, Loss: 8.90264892578125\n",
      "mean auroc score: 0.5112252235412598\n",
      "Epoch 14, Loss: 8.879971504211426\n",
      "mean auroc score: 0.5167584419250488\n",
      "Epoch 15, Loss: 8.849908828735352\n",
      "mean auroc score: 0.5146554112434387\n",
      "Epoch 16, Loss: 8.829392433166504\n",
      "mean auroc score: 0.5193833708763123\n",
      "Epoch 17, Loss: 8.804512977600098\n",
      "mean auroc score: 0.5216169357299805\n",
      "Epoch 18, Loss: 8.746720314025879\n",
      "mean auroc score: 0.5234772562980652\n",
      "Epoch 19, Loss: 8.721619606018066\n",
      "mean auroc score: 0.5213197469711304\n",
      "Epoch 20, Loss: 8.694647789001465\n",
      "mean auroc score: 0.5245981216430664\n"
     ]
    },
    {
     "data": {
      "text/html": [],
      "text/plain": [
       "<IPython.core.display.HTML object>"
      ]
     },
     "metadata": {},
     "output_type": "display_data"
    },
    {
     "data": {
      "text/html": [
       "<br>    <style><br>        .wandb-row {<br>            display: flex;<br>            flex-direction: row;<br>            flex-wrap: wrap;<br>            justify-content: flex-start;<br>            width: 100%;<br>        }<br>        .wandb-col {<br>            display: flex;<br>            flex-direction: column;<br>            flex-basis: 100%;<br>            flex: 1;<br>            padding: 10px;<br>        }<br>    </style><br><div class=\"wandb-row\"><div class=\"wandb-col\"><h3>Run history:</h3><br/><table class=\"wandb\"><tr><td>train/Loss</td><td>███▇▇▇▇▆▆▆▅▅▄▄▃▃▃▂▁▁</td></tr><tr><td>val/auroc</td><td>▁▁▁▂▂▂▂▂▃▄▄▄▅▇▆▇▇█▇█</td></tr><tr><td>val/highest_individual_auroc</td><td>▁</td></tr><tr><td>val/temperature</td><td>█▇▇▆▆▆▅▅▄▄▄▃▃▃▂▂▂▁▁▁</td></tr></table><br/></div><div class=\"wandb-col\"><h3>Run summary:</h3><br/><table class=\"wandb\"><tr><td>train/Loss</td><td>8.69465</td></tr><tr><td>val/auroc</td><td>0.5246</td></tr><tr><td>val/highest_individual_auroc</td><td>0.77211</td></tr><tr><td>val/temperature</td><td>2</td></tr></table><br/></div></div>"
      ],
      "text/plain": [
       "<IPython.core.display.HTML object>"
      ]
     },
     "metadata": {},
     "output_type": "display_data"
    },
    {
     "data": {
      "text/html": [
       " View run <strong style=\"color:#cdcd00\">leafy-sweep-22</strong> at: <a href='https://wandb.ai/tristan-schulz2001-tu-dortmund/Sweep-NeuroSAT-HARD-CONSTRAINT-AUROC/runs/od6f4bgw' target=\"_blank\">https://wandb.ai/tristan-schulz2001-tu-dortmund/Sweep-NeuroSAT-HARD-CONSTRAINT-AUROC/runs/od6f4bgw</a><br> View project at: <a href='https://wandb.ai/tristan-schulz2001-tu-dortmund/Sweep-NeuroSAT-HARD-CONSTRAINT-AUROC' target=\"_blank\">https://wandb.ai/tristan-schulz2001-tu-dortmund/Sweep-NeuroSAT-HARD-CONSTRAINT-AUROC</a><br>Synced 5 W&B file(s), 0 media file(s), 0 artifact file(s) and 0 other file(s)"
      ],
      "text/plain": [
       "<IPython.core.display.HTML object>"
      ]
     },
     "metadata": {},
     "output_type": "display_data"
    },
    {
     "data": {
      "text/html": [
       "Find logs at: <code>.\\wandb\\run-20250410_153018-od6f4bgw\\logs</code>"
      ],
      "text/plain": [
       "<IPython.core.display.HTML object>"
      ]
     },
     "metadata": {},
     "output_type": "display_data"
    },
    {
     "name": "stderr",
     "output_type": "stream",
     "text": [
      "\u001b[34m\u001b[1mwandb\u001b[0m: Agent Starting Run: znmu7bto with config:\n",
      "\u001b[34m\u001b[1mwandb\u001b[0m: \tbce_loss: 0\n",
      "\u001b[34m\u001b[1mwandb\u001b[0m: \tconsistency_reg: 0\n",
      "\u001b[34m\u001b[1mwandb\u001b[0m: \tentropy_reg: 0\n",
      "\u001b[34m\u001b[1mwandb\u001b[0m: \tepochs: 20\n",
      "\u001b[34m\u001b[1mwandb\u001b[0m: \tlr_mlp: 3e-05\n",
      "\u001b[34m\u001b[1mwandb\u001b[0m: \tseed: 75\n",
      "\u001b[34m\u001b[1mwandb\u001b[0m: \tsize_reg: 0.01\n",
      "\u001b[34m\u001b[1mwandb\u001b[0m: \ttT: 1\n"
     ]
    },
    {
     "data": {
      "text/html": [
       "Ignoring project 'Explainer-NeuroSAT-Sweep' when running a sweep."
      ],
      "text/plain": [
       "<IPython.core.display.HTML object>"
      ]
     },
     "metadata": {},
     "output_type": "display_data"
    },
    {
     "data": {
      "text/html": [
       "Tracking run with wandb version 0.19.8"
      ],
      "text/plain": [
       "<IPython.core.display.HTML object>"
      ]
     },
     "metadata": {},
     "output_type": "display_data"
    },
    {
     "data": {
      "text/html": [
       "Run data is saved locally in <code>c:\\Users\\trist\\Git_repos\\BT-ML-PGESAT\\code\\PGExplainer NeuroSAT\\wandb\\run-20250410_154559-znmu7bto</code>"
      ],
      "text/plain": [
       "<IPython.core.display.HTML object>"
      ]
     },
     "metadata": {},
     "output_type": "display_data"
    },
    {
     "data": {
      "text/html": [
       "Syncing run <strong><a href='https://wandb.ai/tristan-schulz2001-tu-dortmund/Sweep-NeuroSAT-HARD-CONSTRAINT-AUROC/runs/znmu7bto' target=\"_blank\">happy-sweep-23</a></strong> to <a href='https://wandb.ai/tristan-schulz2001-tu-dortmund/Sweep-NeuroSAT-HARD-CONSTRAINT-AUROC' target=\"_blank\">Weights & Biases</a> (<a href='https://wandb.me/developer-guide' target=\"_blank\">docs</a>)<br>Sweep page: <a href='https://wandb.ai/tristan-schulz2001-tu-dortmund/Sweep-NeuroSAT-HARD-CONSTRAINT-AUROC/sweeps/1kd67zlb' target=\"_blank\">https://wandb.ai/tristan-schulz2001-tu-dortmund/Sweep-NeuroSAT-HARD-CONSTRAINT-AUROC/sweeps/1kd67zlb</a>"
      ],
      "text/plain": [
       "<IPython.core.display.HTML object>"
      ]
     },
     "metadata": {},
     "output_type": "display_data"
    },
    {
     "data": {
      "text/html": [
       " View project at <a href='https://wandb.ai/tristan-schulz2001-tu-dortmund/Sweep-NeuroSAT-HARD-CONSTRAINT-AUROC' target=\"_blank\">https://wandb.ai/tristan-schulz2001-tu-dortmund/Sweep-NeuroSAT-HARD-CONSTRAINT-AUROC</a>"
      ],
      "text/plain": [
       "<IPython.core.display.HTML object>"
      ]
     },
     "metadata": {},
     "output_type": "display_data"
    },
    {
     "data": {
      "text/html": [
       " View sweep at <a href='https://wandb.ai/tristan-schulz2001-tu-dortmund/Sweep-NeuroSAT-HARD-CONSTRAINT-AUROC/sweeps/1kd67zlb' target=\"_blank\">https://wandb.ai/tristan-schulz2001-tu-dortmund/Sweep-NeuroSAT-HARD-CONSTRAINT-AUROC/sweeps/1kd67zlb</a>"
      ],
      "text/plain": [
       "<IPython.core.display.HTML object>"
      ]
     },
     "metadata": {},
     "output_type": "display_data"
    },
    {
     "data": {
      "text/html": [
       " View run at <a href='https://wandb.ai/tristan-schulz2001-tu-dortmund/Sweep-NeuroSAT-HARD-CONSTRAINT-AUROC/runs/znmu7bto' target=\"_blank\">https://wandb.ai/tristan-schulz2001-tu-dortmund/Sweep-NeuroSAT-HARD-CONSTRAINT-AUROC/runs/znmu7bto</a>"
      ],
      "text/plain": [
       "<IPython.core.display.HTML object>"
      ]
     },
     "metadata": {},
     "output_type": "display_data"
    },
    {
     "name": "stdout",
     "output_type": "stream",
     "text": [
      "Epoch 1, Loss: 8.941617012023926\n",
      "mean auroc score: 0.5006551146507263\n",
      "Epoch 2, Loss: 8.926812171936035\n",
      "mean auroc score: 0.497092604637146\n",
      "Epoch 3, Loss: 8.9215726852417\n",
      "mean auroc score: 0.49549561738967896\n",
      "Epoch 4, Loss: 8.905929565429688\n",
      "mean auroc score: 0.49625787138938904\n",
      "Epoch 5, Loss: 8.881692886352539\n",
      "mean auroc score: 0.4932652711868286\n",
      "Epoch 6, Loss: 8.859960556030273\n",
      "mean auroc score: 0.4905272126197815\n",
      "Epoch 7, Loss: 8.831704139709473\n",
      "mean auroc score: 0.4886760115623474\n",
      "Epoch 8, Loss: 8.804412841796875\n",
      "mean auroc score: 0.48807084560394287\n",
      "Epoch 9, Loss: 8.786592483520508\n",
      "mean auroc score: 0.48841872811317444\n",
      "Epoch 10, Loss: 8.748559951782227\n",
      "mean auroc score: 0.489963561296463\n",
      "Epoch 11, Loss: 8.684247016906738\n",
      "mean auroc score: 0.48981866240501404\n",
      "Epoch 12, Loss: 8.656776428222656\n",
      "mean auroc score: 0.48884841799736023\n",
      "Epoch 13, Loss: 8.61847972869873\n",
      "mean auroc score: 0.4911445081233978\n",
      "Epoch 14, Loss: 8.596494674682617\n",
      "mean auroc score: 0.4890257716178894\n",
      "Epoch 15, Loss: 8.508337020874023\n",
      "mean auroc score: 0.4889630377292633\n",
      "Epoch 16, Loss: 8.42561149597168\n",
      "mean auroc score: 0.488371878862381\n",
      "Epoch 17, Loss: 8.398256301879883\n",
      "mean auroc score: 0.4894699156284332\n",
      "Epoch 18, Loss: 8.322393417358398\n",
      "mean auroc score: 0.4899385869503021\n",
      "Epoch 19, Loss: 8.240503311157227\n",
      "mean auroc score: 0.49052342772483826\n",
      "Epoch 20, Loss: 8.16186809539795\n",
      "mean auroc score: 0.49117565155029297\n"
     ]
    },
    {
     "data": {
      "text/html": [],
      "text/plain": [
       "<IPython.core.display.HTML object>"
      ]
     },
     "metadata": {},
     "output_type": "display_data"
    },
    {
     "data": {
      "text/html": [
       "<br>    <style><br>        .wandb-row {<br>            display: flex;<br>            flex-direction: row;<br>            flex-wrap: wrap;<br>            justify-content: flex-start;<br>            width: 100%;<br>        }<br>        .wandb-col {<br>            display: flex;<br>            flex-direction: column;<br>            flex-basis: 100%;<br>            flex: 1;<br>            padding: 10px;<br>        }<br>    </style><br><div class=\"wandb-row\"><div class=\"wandb-col\"><h3>Run history:</h3><br/><table class=\"wandb\"><tr><td>train/Loss</td><td>████▇▇▇▇▇▆▆▅▅▅▄▃▃▂▂▁</td></tr><tr><td>val/auroc</td><td>█▆▅▆▄▂▁▁▁▂▂▁▃▂▁▁▂▂▂▃</td></tr><tr><td>val/highest_individual_auroc</td><td>▁</td></tr><tr><td>val/temperature</td><td>█▇▇▆▆▅▅▄▄▃▃▃▂▂▂▂▂▁▁▁</td></tr></table><br/></div><div class=\"wandb-col\"><h3>Run summary:</h3><br/><table class=\"wandb\"><tr><td>train/Loss</td><td>8.16187</td></tr><tr><td>val/auroc</td><td>0.49118</td></tr><tr><td>val/highest_individual_auroc</td><td>0.63425</td></tr><tr><td>val/temperature</td><td>1</td></tr></table><br/></div></div>"
      ],
      "text/plain": [
       "<IPython.core.display.HTML object>"
      ]
     },
     "metadata": {},
     "output_type": "display_data"
    },
    {
     "data": {
      "text/html": [
       " View run <strong style=\"color:#cdcd00\">happy-sweep-23</strong> at: <a href='https://wandb.ai/tristan-schulz2001-tu-dortmund/Sweep-NeuroSAT-HARD-CONSTRAINT-AUROC/runs/znmu7bto' target=\"_blank\">https://wandb.ai/tristan-schulz2001-tu-dortmund/Sweep-NeuroSAT-HARD-CONSTRAINT-AUROC/runs/znmu7bto</a><br> View project at: <a href='https://wandb.ai/tristan-schulz2001-tu-dortmund/Sweep-NeuroSAT-HARD-CONSTRAINT-AUROC' target=\"_blank\">https://wandb.ai/tristan-schulz2001-tu-dortmund/Sweep-NeuroSAT-HARD-CONSTRAINT-AUROC</a><br>Synced 5 W&B file(s), 0 media file(s), 0 artifact file(s) and 0 other file(s)"
      ],
      "text/plain": [
       "<IPython.core.display.HTML object>"
      ]
     },
     "metadata": {},
     "output_type": "display_data"
    },
    {
     "data": {
      "text/html": [
       "Find logs at: <code>.\\wandb\\run-20250410_154559-znmu7bto\\logs</code>"
      ],
      "text/plain": [
       "<IPython.core.display.HTML object>"
      ]
     },
     "metadata": {},
     "output_type": "display_data"
    },
    {
     "name": "stderr",
     "output_type": "stream",
     "text": [
      "\u001b[34m\u001b[1mwandb\u001b[0m: Agent Starting Run: ub3p5emn with config:\n",
      "\u001b[34m\u001b[1mwandb\u001b[0m: \tbce_loss: 0\n",
      "\u001b[34m\u001b[1mwandb\u001b[0m: \tconsistency_reg: 0\n",
      "\u001b[34m\u001b[1mwandb\u001b[0m: \tentropy_reg: 0\n",
      "\u001b[34m\u001b[1mwandb\u001b[0m: \tepochs: 20\n",
      "\u001b[34m\u001b[1mwandb\u001b[0m: \tlr_mlp: 3e-05\n",
      "\u001b[34m\u001b[1mwandb\u001b[0m: \tseed: 75\n",
      "\u001b[34m\u001b[1mwandb\u001b[0m: \tsize_reg: 0.01\n",
      "\u001b[34m\u001b[1mwandb\u001b[0m: \ttT: 2\n"
     ]
    },
    {
     "data": {
      "text/html": [
       "Ignoring project 'Explainer-NeuroSAT-Sweep' when running a sweep."
      ],
      "text/plain": [
       "<IPython.core.display.HTML object>"
      ]
     },
     "metadata": {},
     "output_type": "display_data"
    },
    {
     "data": {
      "text/html": [
       "Tracking run with wandb version 0.19.8"
      ],
      "text/plain": [
       "<IPython.core.display.HTML object>"
      ]
     },
     "metadata": {},
     "output_type": "display_data"
    },
    {
     "data": {
      "text/html": [
       "Run data is saved locally in <code>c:\\Users\\trist\\Git_repos\\BT-ML-PGESAT\\code\\PGExplainer NeuroSAT\\wandb\\run-20250410_160220-ub3p5emn</code>"
      ],
      "text/plain": [
       "<IPython.core.display.HTML object>"
      ]
     },
     "metadata": {},
     "output_type": "display_data"
    },
    {
     "data": {
      "text/html": [
       "Syncing run <strong><a href='https://wandb.ai/tristan-schulz2001-tu-dortmund/Sweep-NeuroSAT-HARD-CONSTRAINT-AUROC/runs/ub3p5emn' target=\"_blank\">skilled-sweep-24</a></strong> to <a href='https://wandb.ai/tristan-schulz2001-tu-dortmund/Sweep-NeuroSAT-HARD-CONSTRAINT-AUROC' target=\"_blank\">Weights & Biases</a> (<a href='https://wandb.me/developer-guide' target=\"_blank\">docs</a>)<br>Sweep page: <a href='https://wandb.ai/tristan-schulz2001-tu-dortmund/Sweep-NeuroSAT-HARD-CONSTRAINT-AUROC/sweeps/1kd67zlb' target=\"_blank\">https://wandb.ai/tristan-schulz2001-tu-dortmund/Sweep-NeuroSAT-HARD-CONSTRAINT-AUROC/sweeps/1kd67zlb</a>"
      ],
      "text/plain": [
       "<IPython.core.display.HTML object>"
      ]
     },
     "metadata": {},
     "output_type": "display_data"
    },
    {
     "data": {
      "text/html": [
       " View project at <a href='https://wandb.ai/tristan-schulz2001-tu-dortmund/Sweep-NeuroSAT-HARD-CONSTRAINT-AUROC' target=\"_blank\">https://wandb.ai/tristan-schulz2001-tu-dortmund/Sweep-NeuroSAT-HARD-CONSTRAINT-AUROC</a>"
      ],
      "text/plain": [
       "<IPython.core.display.HTML object>"
      ]
     },
     "metadata": {},
     "output_type": "display_data"
    },
    {
     "data": {
      "text/html": [
       " View sweep at <a href='https://wandb.ai/tristan-schulz2001-tu-dortmund/Sweep-NeuroSAT-HARD-CONSTRAINT-AUROC/sweeps/1kd67zlb' target=\"_blank\">https://wandb.ai/tristan-schulz2001-tu-dortmund/Sweep-NeuroSAT-HARD-CONSTRAINT-AUROC/sweeps/1kd67zlb</a>"
      ],
      "text/plain": [
       "<IPython.core.display.HTML object>"
      ]
     },
     "metadata": {},
     "output_type": "display_data"
    },
    {
     "data": {
      "text/html": [
       " View run at <a href='https://wandb.ai/tristan-schulz2001-tu-dortmund/Sweep-NeuroSAT-HARD-CONSTRAINT-AUROC/runs/ub3p5emn' target=\"_blank\">https://wandb.ai/tristan-schulz2001-tu-dortmund/Sweep-NeuroSAT-HARD-CONSTRAINT-AUROC/runs/ub3p5emn</a>"
      ],
      "text/plain": [
       "<IPython.core.display.HTML object>"
      ]
     },
     "metadata": {},
     "output_type": "display_data"
    },
    {
     "name": "stdout",
     "output_type": "stream",
     "text": [
      "Epoch 1, Loss: 8.94115924835205\n",
      "mean auroc score: 0.5006551146507263\n",
      "Epoch 2, Loss: 8.926607131958008\n",
      "mean auroc score: 0.497092604637146\n",
      "Epoch 3, Loss: 8.921979904174805\n",
      "mean auroc score: 0.49549561738967896\n",
      "Epoch 4, Loss: 8.90823745727539\n",
      "mean auroc score: 0.49625787138938904\n",
      "Epoch 5, Loss: 8.887090682983398\n",
      "mean auroc score: 0.4932652711868286\n",
      "Epoch 6, Loss: 8.871317863464355\n",
      "mean auroc score: 0.4906492829322815\n",
      "Epoch 7, Loss: 8.849047660827637\n",
      "mean auroc score: 0.4890878200531006\n",
      "Epoch 8, Loss: 8.825712203979492\n",
      "mean auroc score: 0.4884850084781647\n",
      "Epoch 9, Loss: 8.815145492553711\n",
      "mean auroc score: 0.48869019746780396\n",
      "Epoch 10, Loss: 8.787847518920898\n",
      "mean auroc score: 0.489568829536438\n",
      "Epoch 11, Loss: 8.746679306030273\n",
      "mean auroc score: 0.48990902304649353\n",
      "Epoch 12, Loss: 8.730499267578125\n",
      "mean auroc score: 0.4887602627277374\n",
      "Epoch 13, Loss: 8.702570915222168\n",
      "mean auroc score: 0.49063101410865784\n",
      "Epoch 14, Loss: 8.690164566040039\n",
      "mean auroc score: 0.4893478453159332\n",
      "Epoch 15, Loss: 8.631532669067383\n",
      "mean auroc score: 0.4895190894603729\n",
      "Epoch 16, Loss: 8.589303970336914\n",
      "mean auroc score: 0.48777449131011963\n",
      "Epoch 17, Loss: 8.569009780883789\n",
      "mean auroc score: 0.489185094833374\n",
      "Epoch 18, Loss: 8.518086433410645\n",
      "mean auroc score: 0.4896374046802521\n",
      "Epoch 19, Loss: 8.468008995056152\n",
      "mean auroc score: 0.490017831325531\n",
      "Epoch 20, Loss: 8.4324312210083\n",
      "mean auroc score: 0.49150049686431885\n"
     ]
    },
    {
     "data": {
      "text/html": [],
      "text/plain": [
       "<IPython.core.display.HTML object>"
      ]
     },
     "metadata": {},
     "output_type": "display_data"
    },
    {
     "data": {
      "text/html": [
       "<br>    <style><br>        .wandb-row {<br>            display: flex;<br>            flex-direction: row;<br>            flex-wrap: wrap;<br>            justify-content: flex-start;<br>            width: 100%;<br>        }<br>        .wandb-col {<br>            display: flex;<br>            flex-direction: column;<br>            flex-basis: 100%;<br>            flex: 1;<br>            padding: 10px;<br>        }<br>    </style><br><div class=\"wandb-row\"><div class=\"wandb-col\"><h3>Run history:</h3><br/><table class=\"wandb\"><tr><td>train/Loss</td><td>████▇▇▇▆▆▆▅▅▅▅▄▃▃▂▁▁</td></tr><tr><td>val/auroc</td><td>█▆▅▆▄▃▂▁▁▂▂▂▃▂▂▁▂▂▂▃</td></tr><tr><td>val/highest_individual_auroc</td><td>▁</td></tr><tr><td>val/temperature</td><td>█▇▇▆▆▆▅▅▄▄▄▃▃▃▂▂▂▁▁▁</td></tr></table><br/></div><div class=\"wandb-col\"><h3>Run summary:</h3><br/><table class=\"wandb\"><tr><td>train/Loss</td><td>8.43243</td></tr><tr><td>val/auroc</td><td>0.4915</td></tr><tr><td>val/highest_individual_auroc</td><td>0.63425</td></tr><tr><td>val/temperature</td><td>2</td></tr></table><br/></div></div>"
      ],
      "text/plain": [
       "<IPython.core.display.HTML object>"
      ]
     },
     "metadata": {},
     "output_type": "display_data"
    },
    {
     "data": {
      "text/html": [
       " View run <strong style=\"color:#cdcd00\">skilled-sweep-24</strong> at: <a href='https://wandb.ai/tristan-schulz2001-tu-dortmund/Sweep-NeuroSAT-HARD-CONSTRAINT-AUROC/runs/ub3p5emn' target=\"_blank\">https://wandb.ai/tristan-schulz2001-tu-dortmund/Sweep-NeuroSAT-HARD-CONSTRAINT-AUROC/runs/ub3p5emn</a><br> View project at: <a href='https://wandb.ai/tristan-schulz2001-tu-dortmund/Sweep-NeuroSAT-HARD-CONSTRAINT-AUROC' target=\"_blank\">https://wandb.ai/tristan-schulz2001-tu-dortmund/Sweep-NeuroSAT-HARD-CONSTRAINT-AUROC</a><br>Synced 5 W&B file(s), 0 media file(s), 0 artifact file(s) and 0 other file(s)"
      ],
      "text/plain": [
       "<IPython.core.display.HTML object>"
      ]
     },
     "metadata": {},
     "output_type": "display_data"
    },
    {
     "data": {
      "text/html": [
       "Find logs at: <code>.\\wandb\\run-20250410_160220-ub3p5emn\\logs</code>"
      ],
      "text/plain": [
       "<IPython.core.display.HTML object>"
      ]
     },
     "metadata": {},
     "output_type": "display_data"
    },
    {
     "name": "stderr",
     "output_type": "stream",
     "text": [
      "\u001b[34m\u001b[1mwandb\u001b[0m: Agent Starting Run: hv112i0u with config:\n",
      "\u001b[34m\u001b[1mwandb\u001b[0m: \tbce_loss: 0\n",
      "\u001b[34m\u001b[1mwandb\u001b[0m: \tconsistency_reg: 0\n",
      "\u001b[34m\u001b[1mwandb\u001b[0m: \tentropy_reg: 5\n",
      "\u001b[34m\u001b[1mwandb\u001b[0m: \tepochs: 20\n",
      "\u001b[34m\u001b[1mwandb\u001b[0m: \tlr_mlp: 0.0001\n",
      "\u001b[34m\u001b[1mwandb\u001b[0m: \tseed: 74\n",
      "\u001b[34m\u001b[1mwandb\u001b[0m: \tsize_reg: 0.01\n",
      "\u001b[34m\u001b[1mwandb\u001b[0m: \ttT: 1\n"
     ]
    },
    {
     "data": {
      "text/html": [
       "Ignoring project 'Explainer-NeuroSAT-Sweep' when running a sweep."
      ],
      "text/plain": [
       "<IPython.core.display.HTML object>"
      ]
     },
     "metadata": {},
     "output_type": "display_data"
    },
    {
     "data": {
      "text/html": [
       "Tracking run with wandb version 0.19.8"
      ],
      "text/plain": [
       "<IPython.core.display.HTML object>"
      ]
     },
     "metadata": {},
     "output_type": "display_data"
    },
    {
     "data": {
      "text/html": [
       "Run data is saved locally in <code>c:\\Users\\trist\\Git_repos\\BT-ML-PGESAT\\code\\PGExplainer NeuroSAT\\wandb\\run-20250410_161730-hv112i0u</code>"
      ],
      "text/plain": [
       "<IPython.core.display.HTML object>"
      ]
     },
     "metadata": {},
     "output_type": "display_data"
    },
    {
     "data": {
      "text/html": [
       "Syncing run <strong><a href='https://wandb.ai/tristan-schulz2001-tu-dortmund/Sweep-NeuroSAT-HARD-CONSTRAINT-AUROC/runs/hv112i0u' target=\"_blank\">graceful-sweep-25</a></strong> to <a href='https://wandb.ai/tristan-schulz2001-tu-dortmund/Sweep-NeuroSAT-HARD-CONSTRAINT-AUROC' target=\"_blank\">Weights & Biases</a> (<a href='https://wandb.me/developer-guide' target=\"_blank\">docs</a>)<br>Sweep page: <a href='https://wandb.ai/tristan-schulz2001-tu-dortmund/Sweep-NeuroSAT-HARD-CONSTRAINT-AUROC/sweeps/1kd67zlb' target=\"_blank\">https://wandb.ai/tristan-schulz2001-tu-dortmund/Sweep-NeuroSAT-HARD-CONSTRAINT-AUROC/sweeps/1kd67zlb</a>"
      ],
      "text/plain": [
       "<IPython.core.display.HTML object>"
      ]
     },
     "metadata": {},
     "output_type": "display_data"
    },
    {
     "data": {
      "text/html": [
       " View project at <a href='https://wandb.ai/tristan-schulz2001-tu-dortmund/Sweep-NeuroSAT-HARD-CONSTRAINT-AUROC' target=\"_blank\">https://wandb.ai/tristan-schulz2001-tu-dortmund/Sweep-NeuroSAT-HARD-CONSTRAINT-AUROC</a>"
      ],
      "text/plain": [
       "<IPython.core.display.HTML object>"
      ]
     },
     "metadata": {},
     "output_type": "display_data"
    },
    {
     "data": {
      "text/html": [
       " View sweep at <a href='https://wandb.ai/tristan-schulz2001-tu-dortmund/Sweep-NeuroSAT-HARD-CONSTRAINT-AUROC/sweeps/1kd67zlb' target=\"_blank\">https://wandb.ai/tristan-schulz2001-tu-dortmund/Sweep-NeuroSAT-HARD-CONSTRAINT-AUROC/sweeps/1kd67zlb</a>"
      ],
      "text/plain": [
       "<IPython.core.display.HTML object>"
      ]
     },
     "metadata": {},
     "output_type": "display_data"
    },
    {
     "data": {
      "text/html": [
       " View run at <a href='https://wandb.ai/tristan-schulz2001-tu-dortmund/Sweep-NeuroSAT-HARD-CONSTRAINT-AUROC/runs/hv112i0u' target=\"_blank\">https://wandb.ai/tristan-schulz2001-tu-dortmund/Sweep-NeuroSAT-HARD-CONSTRAINT-AUROC/runs/hv112i0u</a>"
      ],
      "text/plain": [
       "<IPython.core.display.HTML object>"
      ]
     },
     "metadata": {},
     "output_type": "display_data"
    },
    {
     "name": "stdout",
     "output_type": "stream",
     "text": [
      "Epoch 1, Loss: 10.004037857055664\n",
      "mean auroc score: 0.4891628623008728\n",
      "Epoch 2, Loss: 9.953716278076172\n",
      "mean auroc score: 0.490462064743042\n",
      "Epoch 3, Loss: 9.874677658081055\n",
      "mean auroc score: 0.5019503235816956\n",
      "Epoch 4, Loss: 9.790657997131348\n",
      "mean auroc score: 0.5136950016021729\n",
      "Epoch 5, Loss: 9.72154712677002\n",
      "mean auroc score: 0.5190628170967102\n",
      "Epoch 6, Loss: 9.632292747497559\n",
      "mean auroc score: 0.5238277912139893\n",
      "Epoch 7, Loss: 9.560552597045898\n",
      "mean auroc score: 0.5248551964759827\n",
      "Epoch 8, Loss: 9.4986572265625\n",
      "mean auroc score: 0.527639627456665\n",
      "Epoch 9, Loss: 9.394063949584961\n",
      "mean auroc score: 0.5281552672386169\n",
      "Epoch 10, Loss: 9.339085578918457\n",
      "mean auroc score: 0.5252689123153687\n",
      "Epoch 11, Loss: 9.203106880187988\n",
      "mean auroc score: 0.5261321067810059\n",
      "Epoch 12, Loss: 9.129940032958984\n",
      "mean auroc score: 0.532546877861023\n",
      "Epoch 13, Loss: 8.974796295166016\n",
      "mean auroc score: 0.5341784954071045\n",
      "Epoch 14, Loss: 8.864551544189453\n",
      "mean auroc score: 0.5352891683578491\n",
      "Epoch 15, Loss: 8.715421676635742\n",
      "mean auroc score: 0.5397708415985107\n",
      "Epoch 16, Loss: 8.571969985961914\n",
      "mean auroc score: 0.5381509065628052\n",
      "Epoch 17, Loss: 8.418834686279297\n",
      "mean auroc score: 0.5371243953704834\n",
      "Epoch 18, Loss: 8.17789077758789\n",
      "mean auroc score: 0.5344482660293579\n",
      "Epoch 19, Loss: 7.971099853515625\n",
      "mean auroc score: 0.5349264144897461\n",
      "Epoch 20, Loss: 7.8491716384887695\n",
      "mean auroc score: 0.5348127484321594\n"
     ]
    },
    {
     "data": {
      "text/html": [],
      "text/plain": [
       "<IPython.core.display.HTML object>"
      ]
     },
     "metadata": {},
     "output_type": "display_data"
    },
    {
     "data": {
      "text/html": [
       "<br>    <style><br>        .wandb-row {<br>            display: flex;<br>            flex-direction: row;<br>            flex-wrap: wrap;<br>            justify-content: flex-start;<br>            width: 100%;<br>        }<br>        .wandb-col {<br>            display: flex;<br>            flex-direction: column;<br>            flex-basis: 100%;<br>            flex: 1;<br>            padding: 10px;<br>        }<br>    </style><br><div class=\"wandb-row\"><div class=\"wandb-col\"><h3>Run history:</h3><br/><table class=\"wandb\"><tr><td>train/Loss</td><td>███▇▇▇▇▆▆▆▅▅▅▄▄▃▃▂▁▁</td></tr><tr><td>val/auroc</td><td>▁▁▃▄▅▆▆▆▆▆▆▇▇▇███▇▇▇</td></tr><tr><td>val/highest_individual_auroc</td><td>▁</td></tr><tr><td>val/temperature</td><td>█▇▇▆▆▅▅▄▄▃▃▃▂▂▂▂▂▁▁▁</td></tr></table><br/></div><div class=\"wandb-col\"><h3>Run summary:</h3><br/><table class=\"wandb\"><tr><td>train/Loss</td><td>7.84917</td></tr><tr><td>val/auroc</td><td>0.53481</td></tr><tr><td>val/highest_individual_auroc</td><td>0.74986</td></tr><tr><td>val/temperature</td><td>1</td></tr></table><br/></div></div>"
      ],
      "text/plain": [
       "<IPython.core.display.HTML object>"
      ]
     },
     "metadata": {},
     "output_type": "display_data"
    },
    {
     "data": {
      "text/html": [
       " View run <strong style=\"color:#cdcd00\">graceful-sweep-25</strong> at: <a href='https://wandb.ai/tristan-schulz2001-tu-dortmund/Sweep-NeuroSAT-HARD-CONSTRAINT-AUROC/runs/hv112i0u' target=\"_blank\">https://wandb.ai/tristan-schulz2001-tu-dortmund/Sweep-NeuroSAT-HARD-CONSTRAINT-AUROC/runs/hv112i0u</a><br> View project at: <a href='https://wandb.ai/tristan-schulz2001-tu-dortmund/Sweep-NeuroSAT-HARD-CONSTRAINT-AUROC' target=\"_blank\">https://wandb.ai/tristan-schulz2001-tu-dortmund/Sweep-NeuroSAT-HARD-CONSTRAINT-AUROC</a><br>Synced 5 W&B file(s), 0 media file(s), 0 artifact file(s) and 0 other file(s)"
      ],
      "text/plain": [
       "<IPython.core.display.HTML object>"
      ]
     },
     "metadata": {},
     "output_type": "display_data"
    },
    {
     "data": {
      "text/html": [
       "Find logs at: <code>.\\wandb\\run-20250410_161730-hv112i0u\\logs</code>"
      ],
      "text/plain": [
       "<IPython.core.display.HTML object>"
      ]
     },
     "metadata": {},
     "output_type": "display_data"
    },
    {
     "name": "stderr",
     "output_type": "stream",
     "text": [
      "\u001b[34m\u001b[1mwandb\u001b[0m: Agent Starting Run: 2tp48wdl with config:\n",
      "\u001b[34m\u001b[1mwandb\u001b[0m: \tbce_loss: 0\n",
      "\u001b[34m\u001b[1mwandb\u001b[0m: \tconsistency_reg: 0\n",
      "\u001b[34m\u001b[1mwandb\u001b[0m: \tentropy_reg: 5\n",
      "\u001b[34m\u001b[1mwandb\u001b[0m: \tepochs: 20\n",
      "\u001b[34m\u001b[1mwandb\u001b[0m: \tlr_mlp: 0.0001\n",
      "\u001b[34m\u001b[1mwandb\u001b[0m: \tseed: 74\n",
      "\u001b[34m\u001b[1mwandb\u001b[0m: \tsize_reg: 0.01\n",
      "\u001b[34m\u001b[1mwandb\u001b[0m: \ttT: 2\n"
     ]
    },
    {
     "data": {
      "text/html": [
       "Ignoring project 'Explainer-NeuroSAT-Sweep' when running a sweep."
      ],
      "text/plain": [
       "<IPython.core.display.HTML object>"
      ]
     },
     "metadata": {},
     "output_type": "display_data"
    },
    {
     "data": {
      "text/html": [
       "Tracking run with wandb version 0.19.8"
      ],
      "text/plain": [
       "<IPython.core.display.HTML object>"
      ]
     },
     "metadata": {},
     "output_type": "display_data"
    },
    {
     "data": {
      "text/html": [
       "Run data is saved locally in <code>c:\\Users\\trist\\Git_repos\\BT-ML-PGESAT\\code\\PGExplainer NeuroSAT\\wandb\\run-20250410_163245-2tp48wdl</code>"
      ],
      "text/plain": [
       "<IPython.core.display.HTML object>"
      ]
     },
     "metadata": {},
     "output_type": "display_data"
    },
    {
     "data": {
      "text/html": [
       "Syncing run <strong><a href='https://wandb.ai/tristan-schulz2001-tu-dortmund/Sweep-NeuroSAT-HARD-CONSTRAINT-AUROC/runs/2tp48wdl' target=\"_blank\">earthy-sweep-26</a></strong> to <a href='https://wandb.ai/tristan-schulz2001-tu-dortmund/Sweep-NeuroSAT-HARD-CONSTRAINT-AUROC' target=\"_blank\">Weights & Biases</a> (<a href='https://wandb.me/developer-guide' target=\"_blank\">docs</a>)<br>Sweep page: <a href='https://wandb.ai/tristan-schulz2001-tu-dortmund/Sweep-NeuroSAT-HARD-CONSTRAINT-AUROC/sweeps/1kd67zlb' target=\"_blank\">https://wandb.ai/tristan-schulz2001-tu-dortmund/Sweep-NeuroSAT-HARD-CONSTRAINT-AUROC/sweeps/1kd67zlb</a>"
      ],
      "text/plain": [
       "<IPython.core.display.HTML object>"
      ]
     },
     "metadata": {},
     "output_type": "display_data"
    },
    {
     "data": {
      "text/html": [
       " View project at <a href='https://wandb.ai/tristan-schulz2001-tu-dortmund/Sweep-NeuroSAT-HARD-CONSTRAINT-AUROC' target=\"_blank\">https://wandb.ai/tristan-schulz2001-tu-dortmund/Sweep-NeuroSAT-HARD-CONSTRAINT-AUROC</a>"
      ],
      "text/plain": [
       "<IPython.core.display.HTML object>"
      ]
     },
     "metadata": {},
     "output_type": "display_data"
    },
    {
     "data": {
      "text/html": [
       " View sweep at <a href='https://wandb.ai/tristan-schulz2001-tu-dortmund/Sweep-NeuroSAT-HARD-CONSTRAINT-AUROC/sweeps/1kd67zlb' target=\"_blank\">https://wandb.ai/tristan-schulz2001-tu-dortmund/Sweep-NeuroSAT-HARD-CONSTRAINT-AUROC/sweeps/1kd67zlb</a>"
      ],
      "text/plain": [
       "<IPython.core.display.HTML object>"
      ]
     },
     "metadata": {},
     "output_type": "display_data"
    },
    {
     "data": {
      "text/html": [
       " View run at <a href='https://wandb.ai/tristan-schulz2001-tu-dortmund/Sweep-NeuroSAT-HARD-CONSTRAINT-AUROC/runs/2tp48wdl' target=\"_blank\">https://wandb.ai/tristan-schulz2001-tu-dortmund/Sweep-NeuroSAT-HARD-CONSTRAINT-AUROC/runs/2tp48wdl</a>"
      ],
      "text/plain": [
       "<IPython.core.display.HTML object>"
      ]
     },
     "metadata": {},
     "output_type": "display_data"
    },
    {
     "name": "stdout",
     "output_type": "stream",
     "text": [
      "Epoch 1, Loss: 9.99791431427002\n",
      "mean auroc score: 0.4891628623008728\n",
      "Epoch 2, Loss: 9.944795608520508\n",
      "mean auroc score: 0.490462064743042\n",
      "Epoch 3, Loss: 9.869760513305664\n",
      "mean auroc score: 0.5014970302581787\n",
      "Epoch 4, Loss: 9.794839859008789\n",
      "mean auroc score: 0.5133092403411865\n",
      "Epoch 5, Loss: 9.736604690551758\n",
      "mean auroc score: 0.5193172693252563\n",
      "Epoch 6, Loss: 9.665790557861328\n",
      "mean auroc score: 0.5240538120269775\n",
      "Epoch 7, Loss: 9.613348007202148\n",
      "mean auroc score: 0.5253211855888367\n",
      "Epoch 8, Loss: 9.570550918579102\n",
      "mean auroc score: 0.5278806686401367\n",
      "Epoch 9, Loss: 9.502501487731934\n",
      "mean auroc score: 0.5286841988563538\n",
      "Epoch 10, Loss: 9.468446731567383\n",
      "mean auroc score: 0.5262126922607422\n",
      "Epoch 11, Loss: 9.382489204406738\n",
      "mean auroc score: 0.5250024795532227\n",
      "Epoch 12, Loss: 9.338171005249023\n",
      "mean auroc score: 0.5329347252845764\n",
      "Epoch 13, Loss: 9.25090217590332\n",
      "mean auroc score: 0.535435140132904\n",
      "Epoch 14, Loss: 9.184406280517578\n",
      "mean auroc score: 0.5348867177963257\n",
      "Epoch 15, Loss: 9.09996223449707\n",
      "mean auroc score: 0.538549542427063\n",
      "Epoch 16, Loss: 9.022333145141602\n",
      "mean auroc score: 0.540248692035675\n",
      "Epoch 17, Loss: 8.933263778686523\n",
      "mean auroc score: 0.5375886559486389\n",
      "Epoch 18, Loss: 8.796350479125977\n",
      "mean auroc score: 0.5350207090377808\n",
      "Epoch 19, Loss: 8.693585395812988\n",
      "mean auroc score: 0.534825325012207\n",
      "Epoch 20, Loss: 8.579336166381836\n",
      "mean auroc score: 0.5358165502548218\n"
     ]
    },
    {
     "data": {
      "text/html": [],
      "text/plain": [
       "<IPython.core.display.HTML object>"
      ]
     },
     "metadata": {},
     "output_type": "display_data"
    },
    {
     "data": {
      "text/html": [
       "<br>    <style><br>        .wandb-row {<br>            display: flex;<br>            flex-direction: row;<br>            flex-wrap: wrap;<br>            justify-content: flex-start;<br>            width: 100%;<br>        }<br>        .wandb-col {<br>            display: flex;<br>            flex-direction: column;<br>            flex-basis: 100%;<br>            flex: 1;<br>            padding: 10px;<br>        }<br>    </style><br><div class=\"wandb-row\"><div class=\"wandb-col\"><h3>Run history:</h3><br/><table class=\"wandb\"><tr><td>train/Loss</td><td>██▇▇▇▆▆▆▆▅▅▅▄▄▄▃▃▂▂▁</td></tr><tr><td>val/auroc</td><td>▁▁▃▄▅▆▆▆▆▆▆▇▇▇███▇▇▇</td></tr><tr><td>val/highest_individual_auroc</td><td>▁</td></tr><tr><td>val/temperature</td><td>█▇▇▆▆▆▅▅▄▄▄▃▃▃▂▂▂▁▁▁</td></tr></table><br/></div><div class=\"wandb-col\"><h3>Run summary:</h3><br/><table class=\"wandb\"><tr><td>train/Loss</td><td>8.57934</td></tr><tr><td>val/auroc</td><td>0.53582</td></tr><tr><td>val/highest_individual_auroc</td><td>0.74391</td></tr><tr><td>val/temperature</td><td>2</td></tr></table><br/></div></div>"
      ],
      "text/plain": [
       "<IPython.core.display.HTML object>"
      ]
     },
     "metadata": {},
     "output_type": "display_data"
    },
    {
     "data": {
      "text/html": [
       " View run <strong style=\"color:#cdcd00\">earthy-sweep-26</strong> at: <a href='https://wandb.ai/tristan-schulz2001-tu-dortmund/Sweep-NeuroSAT-HARD-CONSTRAINT-AUROC/runs/2tp48wdl' target=\"_blank\">https://wandb.ai/tristan-schulz2001-tu-dortmund/Sweep-NeuroSAT-HARD-CONSTRAINT-AUROC/runs/2tp48wdl</a><br> View project at: <a href='https://wandb.ai/tristan-schulz2001-tu-dortmund/Sweep-NeuroSAT-HARD-CONSTRAINT-AUROC' target=\"_blank\">https://wandb.ai/tristan-schulz2001-tu-dortmund/Sweep-NeuroSAT-HARD-CONSTRAINT-AUROC</a><br>Synced 5 W&B file(s), 0 media file(s), 0 artifact file(s) and 0 other file(s)"
      ],
      "text/plain": [
       "<IPython.core.display.HTML object>"
      ]
     },
     "metadata": {},
     "output_type": "display_data"
    },
    {
     "data": {
      "text/html": [
       "Find logs at: <code>.\\wandb\\run-20250410_163245-2tp48wdl\\logs</code>"
      ],
      "text/plain": [
       "<IPython.core.display.HTML object>"
      ]
     },
     "metadata": {},
     "output_type": "display_data"
    },
    {
     "name": "stderr",
     "output_type": "stream",
     "text": [
      "\u001b[34m\u001b[1mwandb\u001b[0m: Agent Starting Run: 62rrvogh with config:\n",
      "\u001b[34m\u001b[1mwandb\u001b[0m: \tbce_loss: 0\n",
      "\u001b[34m\u001b[1mwandb\u001b[0m: \tconsistency_reg: 0\n",
      "\u001b[34m\u001b[1mwandb\u001b[0m: \tentropy_reg: 5\n",
      "\u001b[34m\u001b[1mwandb\u001b[0m: \tepochs: 20\n",
      "\u001b[34m\u001b[1mwandb\u001b[0m: \tlr_mlp: 0.0001\n",
      "\u001b[34m\u001b[1mwandb\u001b[0m: \tseed: 75\n",
      "\u001b[34m\u001b[1mwandb\u001b[0m: \tsize_reg: 0.01\n",
      "\u001b[34m\u001b[1mwandb\u001b[0m: \ttT: 1\n"
     ]
    },
    {
     "data": {
      "text/html": [
       "Ignoring project 'Explainer-NeuroSAT-Sweep' when running a sweep."
      ],
      "text/plain": [
       "<IPython.core.display.HTML object>"
      ]
     },
     "metadata": {},
     "output_type": "display_data"
    },
    {
     "data": {
      "text/html": [
       "Tracking run with wandb version 0.19.8"
      ],
      "text/plain": [
       "<IPython.core.display.HTML object>"
      ]
     },
     "metadata": {},
     "output_type": "display_data"
    },
    {
     "data": {
      "text/html": [
       "Run data is saved locally in <code>c:\\Users\\trist\\Git_repos\\BT-ML-PGESAT\\code\\PGExplainer NeuroSAT\\wandb\\run-20250410_164814-62rrvogh</code>"
      ],
      "text/plain": [
       "<IPython.core.display.HTML object>"
      ]
     },
     "metadata": {},
     "output_type": "display_data"
    },
    {
     "data": {
      "text/html": [
       "Syncing run <strong><a href='https://wandb.ai/tristan-schulz2001-tu-dortmund/Sweep-NeuroSAT-HARD-CONSTRAINT-AUROC/runs/62rrvogh' target=\"_blank\">flowing-sweep-27</a></strong> to <a href='https://wandb.ai/tristan-schulz2001-tu-dortmund/Sweep-NeuroSAT-HARD-CONSTRAINT-AUROC' target=\"_blank\">Weights & Biases</a> (<a href='https://wandb.me/developer-guide' target=\"_blank\">docs</a>)<br>Sweep page: <a href='https://wandb.ai/tristan-schulz2001-tu-dortmund/Sweep-NeuroSAT-HARD-CONSTRAINT-AUROC/sweeps/1kd67zlb' target=\"_blank\">https://wandb.ai/tristan-schulz2001-tu-dortmund/Sweep-NeuroSAT-HARD-CONSTRAINT-AUROC/sweeps/1kd67zlb</a>"
      ],
      "text/plain": [
       "<IPython.core.display.HTML object>"
      ]
     },
     "metadata": {},
     "output_type": "display_data"
    },
    {
     "data": {
      "text/html": [
       " View project at <a href='https://wandb.ai/tristan-schulz2001-tu-dortmund/Sweep-NeuroSAT-HARD-CONSTRAINT-AUROC' target=\"_blank\">https://wandb.ai/tristan-schulz2001-tu-dortmund/Sweep-NeuroSAT-HARD-CONSTRAINT-AUROC</a>"
      ],
      "text/plain": [
       "<IPython.core.display.HTML object>"
      ]
     },
     "metadata": {},
     "output_type": "display_data"
    },
    {
     "data": {
      "text/html": [
       " View sweep at <a href='https://wandb.ai/tristan-schulz2001-tu-dortmund/Sweep-NeuroSAT-HARD-CONSTRAINT-AUROC/sweeps/1kd67zlb' target=\"_blank\">https://wandb.ai/tristan-schulz2001-tu-dortmund/Sweep-NeuroSAT-HARD-CONSTRAINT-AUROC/sweeps/1kd67zlb</a>"
      ],
      "text/plain": [
       "<IPython.core.display.HTML object>"
      ]
     },
     "metadata": {},
     "output_type": "display_data"
    },
    {
     "data": {
      "text/html": [
       " View run at <a href='https://wandb.ai/tristan-schulz2001-tu-dortmund/Sweep-NeuroSAT-HARD-CONSTRAINT-AUROC/runs/62rrvogh' target=\"_blank\">https://wandb.ai/tristan-schulz2001-tu-dortmund/Sweep-NeuroSAT-HARD-CONSTRAINT-AUROC/runs/62rrvogh</a>"
      ],
      "text/plain": [
       "<IPython.core.display.HTML object>"
      ]
     },
     "metadata": {},
     "output_type": "display_data"
    },
    {
     "name": "stdout",
     "output_type": "stream",
     "text": [
      "Epoch 1, Loss: 9.785578727722168\n",
      "mean auroc score: 0.495727002620697\n",
      "Epoch 2, Loss: 9.734755516052246\n",
      "mean auroc score: 0.4900554120540619\n",
      "Epoch 3, Loss: 9.687551498413086\n",
      "mean auroc score: 0.48915863037109375\n",
      "Epoch 4, Loss: 9.621862411499023\n",
      "mean auroc score: 0.49092042446136475\n",
      "Epoch 5, Loss: 9.542905807495117\n",
      "mean auroc score: 0.4878805875778198\n",
      "Epoch 6, Loss: 9.455072402954102\n",
      "mean auroc score: 0.4910328686237335\n",
      "Epoch 7, Loss: 9.355814933776855\n",
      "mean auroc score: 0.4900112748146057\n",
      "Epoch 8, Loss: 9.251019477844238\n",
      "mean auroc score: 0.4913507401943207\n",
      "Epoch 9, Loss: 9.140249252319336\n",
      "mean auroc score: 0.4951332211494446\n",
      "Epoch 10, Loss: 9.016087532043457\n",
      "mean auroc score: 0.4965493679046631\n",
      "Epoch 11, Loss: 8.837250709533691\n",
      "mean auroc score: 0.5001172423362732\n",
      "Epoch 12, Loss: 8.694313049316406\n",
      "mean auroc score: 0.5024527907371521\n",
      "Epoch 13, Loss: 8.529901504516602\n",
      "mean auroc score: 0.5035398006439209\n",
      "Epoch 14, Loss: 8.346786499023438\n",
      "mean auroc score: 0.5065104961395264\n",
      "Epoch 15, Loss: 8.145105361938477\n",
      "mean auroc score: 0.5067042708396912\n",
      "Epoch 16, Loss: 7.880152702331543\n",
      "mean auroc score: 0.5076335668563843\n",
      "Epoch 17, Loss: 7.653418064117432\n",
      "mean auroc score: 0.5105307698249817\n",
      "Epoch 18, Loss: 7.408875942230225\n",
      "mean auroc score: 0.5098662972450256\n",
      "Epoch 19, Loss: 7.09734582901001\n",
      "mean auroc score: 0.5103328227996826\n",
      "Epoch 20, Loss: 6.82744836807251\n",
      "mean auroc score: 0.5117000341415405\n"
     ]
    },
    {
     "data": {
      "text/html": [],
      "text/plain": [
       "<IPython.core.display.HTML object>"
      ]
     },
     "metadata": {},
     "output_type": "display_data"
    },
    {
     "data": {
      "text/html": [
       "<br>    <style><br>        .wandb-row {<br>            display: flex;<br>            flex-direction: row;<br>            flex-wrap: wrap;<br>            justify-content: flex-start;<br>            width: 100%;<br>        }<br>        .wandb-col {<br>            display: flex;<br>            flex-direction: column;<br>            flex-basis: 100%;<br>            flex: 1;<br>            padding: 10px;<br>        }<br>    </style><br><div class=\"wandb-row\"><div class=\"wandb-col\"><h3>Run history:</h3><br/><table class=\"wandb\"><tr><td>train/Loss</td><td>████▇▇▇▇▆▆▆▅▅▅▄▃▃▂▂▁</td></tr><tr><td>val/auroc</td><td>▃▂▁▂▁▂▂▂▃▄▅▅▆▆▇▇█▇██</td></tr><tr><td>val/highest_individual_auroc</td><td>▁</td></tr><tr><td>val/temperature</td><td>█▇▇▆▆▅▅▄▄▃▃▃▂▂▂▂▂▁▁▁</td></tr></table><br/></div><div class=\"wandb-col\"><h3>Run summary:</h3><br/><table class=\"wandb\"><tr><td>train/Loss</td><td>6.82745</td></tr><tr><td>val/auroc</td><td>0.5117</td></tr><tr><td>val/highest_individual_auroc</td><td>0.65505</td></tr><tr><td>val/temperature</td><td>1</td></tr></table><br/></div></div>"
      ],
      "text/plain": [
       "<IPython.core.display.HTML object>"
      ]
     },
     "metadata": {},
     "output_type": "display_data"
    },
    {
     "data": {
      "text/html": [
       " View run <strong style=\"color:#cdcd00\">flowing-sweep-27</strong> at: <a href='https://wandb.ai/tristan-schulz2001-tu-dortmund/Sweep-NeuroSAT-HARD-CONSTRAINT-AUROC/runs/62rrvogh' target=\"_blank\">https://wandb.ai/tristan-schulz2001-tu-dortmund/Sweep-NeuroSAT-HARD-CONSTRAINT-AUROC/runs/62rrvogh</a><br> View project at: <a href='https://wandb.ai/tristan-schulz2001-tu-dortmund/Sweep-NeuroSAT-HARD-CONSTRAINT-AUROC' target=\"_blank\">https://wandb.ai/tristan-schulz2001-tu-dortmund/Sweep-NeuroSAT-HARD-CONSTRAINT-AUROC</a><br>Synced 5 W&B file(s), 0 media file(s), 0 artifact file(s) and 0 other file(s)"
      ],
      "text/plain": [
       "<IPython.core.display.HTML object>"
      ]
     },
     "metadata": {},
     "output_type": "display_data"
    },
    {
     "data": {
      "text/html": [
       "Find logs at: <code>.\\wandb\\run-20250410_164814-62rrvogh\\logs</code>"
      ],
      "text/plain": [
       "<IPython.core.display.HTML object>"
      ]
     },
     "metadata": {},
     "output_type": "display_data"
    },
    {
     "name": "stderr",
     "output_type": "stream",
     "text": [
      "\u001b[34m\u001b[1mwandb\u001b[0m: Agent Starting Run: gpi4hzhi with config:\n",
      "\u001b[34m\u001b[1mwandb\u001b[0m: \tbce_loss: 0\n",
      "\u001b[34m\u001b[1mwandb\u001b[0m: \tconsistency_reg: 0\n",
      "\u001b[34m\u001b[1mwandb\u001b[0m: \tentropy_reg: 5\n",
      "\u001b[34m\u001b[1mwandb\u001b[0m: \tepochs: 20\n",
      "\u001b[34m\u001b[1mwandb\u001b[0m: \tlr_mlp: 0.0001\n",
      "\u001b[34m\u001b[1mwandb\u001b[0m: \tseed: 75\n",
      "\u001b[34m\u001b[1mwandb\u001b[0m: \tsize_reg: 0.01\n",
      "\u001b[34m\u001b[1mwandb\u001b[0m: \ttT: 2\n"
     ]
    },
    {
     "data": {
      "text/html": [
       "Ignoring project 'Explainer-NeuroSAT-Sweep' when running a sweep."
      ],
      "text/plain": [
       "<IPython.core.display.HTML object>"
      ]
     },
     "metadata": {},
     "output_type": "display_data"
    },
    {
     "data": {
      "text/html": [
       "Tracking run with wandb version 0.19.8"
      ],
      "text/plain": [
       "<IPython.core.display.HTML object>"
      ]
     },
     "metadata": {},
     "output_type": "display_data"
    },
    {
     "data": {
      "text/html": [
       "Run data is saved locally in <code>c:\\Users\\trist\\Git_repos\\BT-ML-PGESAT\\code\\PGExplainer NeuroSAT\\wandb\\run-20250410_170314-gpi4hzhi</code>"
      ],
      "text/plain": [
       "<IPython.core.display.HTML object>"
      ]
     },
     "metadata": {},
     "output_type": "display_data"
    },
    {
     "data": {
      "text/html": [
       "Syncing run <strong><a href='https://wandb.ai/tristan-schulz2001-tu-dortmund/Sweep-NeuroSAT-HARD-CONSTRAINT-AUROC/runs/gpi4hzhi' target=\"_blank\">rare-sweep-28</a></strong> to <a href='https://wandb.ai/tristan-schulz2001-tu-dortmund/Sweep-NeuroSAT-HARD-CONSTRAINT-AUROC' target=\"_blank\">Weights & Biases</a> (<a href='https://wandb.me/developer-guide' target=\"_blank\">docs</a>)<br>Sweep page: <a href='https://wandb.ai/tristan-schulz2001-tu-dortmund/Sweep-NeuroSAT-HARD-CONSTRAINT-AUROC/sweeps/1kd67zlb' target=\"_blank\">https://wandb.ai/tristan-schulz2001-tu-dortmund/Sweep-NeuroSAT-HARD-CONSTRAINT-AUROC/sweeps/1kd67zlb</a>"
      ],
      "text/plain": [
       "<IPython.core.display.HTML object>"
      ]
     },
     "metadata": {},
     "output_type": "display_data"
    },
    {
     "data": {
      "text/html": [
       " View project at <a href='https://wandb.ai/tristan-schulz2001-tu-dortmund/Sweep-NeuroSAT-HARD-CONSTRAINT-AUROC' target=\"_blank\">https://wandb.ai/tristan-schulz2001-tu-dortmund/Sweep-NeuroSAT-HARD-CONSTRAINT-AUROC</a>"
      ],
      "text/plain": [
       "<IPython.core.display.HTML object>"
      ]
     },
     "metadata": {},
     "output_type": "display_data"
    },
    {
     "data": {
      "text/html": [
       " View sweep at <a href='https://wandb.ai/tristan-schulz2001-tu-dortmund/Sweep-NeuroSAT-HARD-CONSTRAINT-AUROC/sweeps/1kd67zlb' target=\"_blank\">https://wandb.ai/tristan-schulz2001-tu-dortmund/Sweep-NeuroSAT-HARD-CONSTRAINT-AUROC/sweeps/1kd67zlb</a>"
      ],
      "text/plain": [
       "<IPython.core.display.HTML object>"
      ]
     },
     "metadata": {},
     "output_type": "display_data"
    },
    {
     "data": {
      "text/html": [
       " View run at <a href='https://wandb.ai/tristan-schulz2001-tu-dortmund/Sweep-NeuroSAT-HARD-CONSTRAINT-AUROC/runs/gpi4hzhi' target=\"_blank\">https://wandb.ai/tristan-schulz2001-tu-dortmund/Sweep-NeuroSAT-HARD-CONSTRAINT-AUROC/runs/gpi4hzhi</a>"
      ],
      "text/plain": [
       "<IPython.core.display.HTML object>"
      ]
     },
     "metadata": {},
     "output_type": "display_data"
    },
    {
     "name": "stdout",
     "output_type": "stream",
     "text": [
      "Epoch 1, Loss: 9.786530494689941\n",
      "mean auroc score: 0.495727002620697\n",
      "Epoch 2, Loss: 9.739718437194824\n",
      "mean auroc score: 0.4900554120540619\n",
      "Epoch 3, Loss: 9.69957447052002\n",
      "mean auroc score: 0.489479124546051\n",
      "Epoch 4, Loss: 9.645658493041992\n",
      "mean auroc score: 0.4906832277774811\n",
      "Epoch 5, Loss: 9.582297325134277\n",
      "mean auroc score: 0.4878805875778198\n"
     ]
    },
    {
     "name": "stderr",
     "output_type": "stream",
     "text": [
      "\u001b[34m\u001b[1mwandb\u001b[0m: Network error (ConnectionError), entering retry loop.\n"
     ]
    },
    {
     "name": "stdout",
     "output_type": "stream",
     "text": [
      "Epoch 6, Loss: 9.518682479858398\n",
      "mean auroc score: 0.49123236536979675\n",
      "Epoch 7, Loss: 9.446803092956543\n",
      "mean auroc score: 0.4901431202888489\n",
      "Epoch 8, Loss: 9.371079444885254\n",
      "mean auroc score: 0.49179401993751526\n",
      "Epoch 9, Loss: 9.30156135559082\n",
      "mean auroc score: 0.49510303139686584\n",
      "Epoch 10, Loss: 9.219618797302246\n",
      "mean auroc score: 0.4966265559196472\n",
      "Epoch 11, Loss: 9.11000919342041\n",
      "mean auroc score: 0.4996052384376526\n",
      "Epoch 12, Loss: 9.026323318481445\n",
      "mean auroc score: 0.5025705695152283\n",
      "Epoch 13, Loss: 8.924638748168945\n",
      "mean auroc score: 0.5039604902267456\n",
      "Epoch 14, Loss: 8.828153610229492\n",
      "mean auroc score: 0.5063643455505371\n",
      "Epoch 15, Loss: 8.688705444335938\n",
      "mean auroc score: 0.5069378018379211\n",
      "Epoch 16, Loss: 8.541131973266602\n",
      "mean auroc score: 0.5075960755348206\n",
      "Epoch 17, Loss: 8.414966583251953\n",
      "mean auroc score: 0.5090064406394958\n",
      "Epoch 18, Loss: 8.250226974487305\n",
      "mean auroc score: 0.5093822479248047\n"
     ]
    },
    {
     "name": "stderr",
     "output_type": "stream",
     "text": [
      "\u001b[34m\u001b[1mwandb\u001b[0m: Network error (ConnectTimeout), entering retry loop.\n"
     ]
    },
    {
     "name": "stdout",
     "output_type": "stream",
     "text": [
      "Epoch 19, Loss: 8.073305130004883\n",
      "mean auroc score: 0.5098578333854675\n",
      "Epoch 20, Loss: 7.903109073638916\n",
      "mean auroc score: 0.5117548704147339\n"
     ]
    },
    {
     "data": {
      "text/html": [],
      "text/plain": [
       "<IPython.core.display.HTML object>"
      ]
     },
     "metadata": {},
     "output_type": "display_data"
    },
    {
     "data": {
      "text/html": [
       "<br>    <style><br>        .wandb-row {<br>            display: flex;<br>            flex-direction: row;<br>            flex-wrap: wrap;<br>            justify-content: flex-start;<br>            width: 100%;<br>        }<br>        .wandb-col {<br>            display: flex;<br>            flex-direction: column;<br>            flex-basis: 100%;<br>            flex: 1;<br>            padding: 10px;<br>        }<br>    </style><br><div class=\"wandb-row\"><div class=\"wandb-col\"><h3>Run history:</h3><br/><table class=\"wandb\"><tr><td>train/Loss</td><td>███▇▇▇▇▆▆▆▅▅▅▄▄▃▃▂▂▁</td></tr><tr><td>val/auroc</td><td>▃▂▁▂▁▂▂▂▃▄▄▅▆▆▇▇▇▇▇█</td></tr><tr><td>val/highest_individual_auroc</td><td>▁</td></tr><tr><td>val/temperature</td><td>█▇▇▆▆▆▅▅▄▄▄▃▃▃▂▂▂▁▁▁</td></tr></table><br/></div><div class=\"wandb-col\"><h3>Run summary:</h3><br/><table class=\"wandb\"><tr><td>train/Loss</td><td>7.90311</td></tr><tr><td>val/auroc</td><td>0.51175</td></tr><tr><td>val/highest_individual_auroc</td><td>0.65249</td></tr><tr><td>val/temperature</td><td>2</td></tr></table><br/></div></div>"
      ],
      "text/plain": [
       "<IPython.core.display.HTML object>"
      ]
     },
     "metadata": {},
     "output_type": "display_data"
    },
    {
     "data": {
      "text/html": [
       " View run <strong style=\"color:#cdcd00\">rare-sweep-28</strong> at: <a href='https://wandb.ai/tristan-schulz2001-tu-dortmund/Sweep-NeuroSAT-HARD-CONSTRAINT-AUROC/runs/gpi4hzhi' target=\"_blank\">https://wandb.ai/tristan-schulz2001-tu-dortmund/Sweep-NeuroSAT-HARD-CONSTRAINT-AUROC/runs/gpi4hzhi</a><br> View project at: <a href='https://wandb.ai/tristan-schulz2001-tu-dortmund/Sweep-NeuroSAT-HARD-CONSTRAINT-AUROC' target=\"_blank\">https://wandb.ai/tristan-schulz2001-tu-dortmund/Sweep-NeuroSAT-HARD-CONSTRAINT-AUROC</a><br>Synced 5 W&B file(s), 0 media file(s), 0 artifact file(s) and 0 other file(s)"
      ],
      "text/plain": [
       "<IPython.core.display.HTML object>"
      ]
     },
     "metadata": {},
     "output_type": "display_data"
    },
    {
     "data": {
      "text/html": [
       "Find logs at: <code>.\\wandb\\run-20250410_170314-gpi4hzhi\\logs</code>"
      ],
      "text/plain": [
       "<IPython.core.display.HTML object>"
      ]
     },
     "metadata": {},
     "output_type": "display_data"
    },
    {
     "name": "stderr",
     "output_type": "stream",
     "text": [
      "\u001b[34m\u001b[1mwandb\u001b[0m: Agent Starting Run: 0s1fthlj with config:\n",
      "\u001b[34m\u001b[1mwandb\u001b[0m: \tbce_loss: 0\n",
      "\u001b[34m\u001b[1mwandb\u001b[0m: \tconsistency_reg: 0\n",
      "\u001b[34m\u001b[1mwandb\u001b[0m: \tentropy_reg: 5\n",
      "\u001b[34m\u001b[1mwandb\u001b[0m: \tepochs: 20\n",
      "\u001b[34m\u001b[1mwandb\u001b[0m: \tlr_mlp: 3e-05\n",
      "\u001b[34m\u001b[1mwandb\u001b[0m: \tseed: 74\n",
      "\u001b[34m\u001b[1mwandb\u001b[0m: \tsize_reg: 0.01\n",
      "\u001b[34m\u001b[1mwandb\u001b[0m: \ttT: 1\n"
     ]
    },
    {
     "data": {
      "text/html": [
       "Ignoring project 'Explainer-NeuroSAT-Sweep' when running a sweep."
      ],
      "text/plain": [
       "<IPython.core.display.HTML object>"
      ]
     },
     "metadata": {},
     "output_type": "display_data"
    },
    {
     "data": {
      "text/html": [
       "Tracking run with wandb version 0.19.8"
      ],
      "text/plain": [
       "<IPython.core.display.HTML object>"
      ]
     },
     "metadata": {},
     "output_type": "display_data"
    },
    {
     "data": {
      "text/html": [
       "Run data is saved locally in <code>c:\\Users\\trist\\Git_repos\\BT-ML-PGESAT\\code\\PGExplainer NeuroSAT\\wandb\\run-20250410_171749-0s1fthlj</code>"
      ],
      "text/plain": [
       "<IPython.core.display.HTML object>"
      ]
     },
     "metadata": {},
     "output_type": "display_data"
    },
    {
     "data": {
      "text/html": [
       "Syncing run <strong><a href='https://wandb.ai/tristan-schulz2001-tu-dortmund/Sweep-NeuroSAT-HARD-CONSTRAINT-AUROC/runs/0s1fthlj' target=\"_blank\">generous-sweep-29</a></strong> to <a href='https://wandb.ai/tristan-schulz2001-tu-dortmund/Sweep-NeuroSAT-HARD-CONSTRAINT-AUROC' target=\"_blank\">Weights & Biases</a> (<a href='https://wandb.me/developer-guide' target=\"_blank\">docs</a>)<br>Sweep page: <a href='https://wandb.ai/tristan-schulz2001-tu-dortmund/Sweep-NeuroSAT-HARD-CONSTRAINT-AUROC/sweeps/1kd67zlb' target=\"_blank\">https://wandb.ai/tristan-schulz2001-tu-dortmund/Sweep-NeuroSAT-HARD-CONSTRAINT-AUROC/sweeps/1kd67zlb</a>"
      ],
      "text/plain": [
       "<IPython.core.display.HTML object>"
      ]
     },
     "metadata": {},
     "output_type": "display_data"
    },
    {
     "data": {
      "text/html": [
       " View project at <a href='https://wandb.ai/tristan-schulz2001-tu-dortmund/Sweep-NeuroSAT-HARD-CONSTRAINT-AUROC' target=\"_blank\">https://wandb.ai/tristan-schulz2001-tu-dortmund/Sweep-NeuroSAT-HARD-CONSTRAINT-AUROC</a>"
      ],
      "text/plain": [
       "<IPython.core.display.HTML object>"
      ]
     },
     "metadata": {},
     "output_type": "display_data"
    },
    {
     "data": {
      "text/html": [
       " View sweep at <a href='https://wandb.ai/tristan-schulz2001-tu-dortmund/Sweep-NeuroSAT-HARD-CONSTRAINT-AUROC/sweeps/1kd67zlb' target=\"_blank\">https://wandb.ai/tristan-schulz2001-tu-dortmund/Sweep-NeuroSAT-HARD-CONSTRAINT-AUROC/sweeps/1kd67zlb</a>"
      ],
      "text/plain": [
       "<IPython.core.display.HTML object>"
      ]
     },
     "metadata": {},
     "output_type": "display_data"
    },
    {
     "data": {
      "text/html": [
       " View run at <a href='https://wandb.ai/tristan-schulz2001-tu-dortmund/Sweep-NeuroSAT-HARD-CONSTRAINT-AUROC/runs/0s1fthlj' target=\"_blank\">https://wandb.ai/tristan-schulz2001-tu-dortmund/Sweep-NeuroSAT-HARD-CONSTRAINT-AUROC/runs/0s1fthlj</a>"
      ],
      "text/plain": [
       "<IPython.core.display.HTML object>"
      ]
     },
     "metadata": {},
     "output_type": "display_data"
    },
    {
     "name": "stdout",
     "output_type": "stream",
     "text": [
      "Epoch 1, Loss: 10.004037857055664\n",
      "mean auroc score: 0.487520694732666\n",
      "Epoch 2, Loss: 10.007667541503906\n",
      "mean auroc score: 0.4898471236228943\n",
      "Epoch 3, Loss: 9.989809036254883\n",
      "mean auroc score: 0.488873690366745\n",
      "Epoch 4, Loss: 9.971096992492676\n",
      "mean auroc score: 0.49097833037376404\n",
      "Epoch 5, Loss: 9.964471817016602\n",
      "mean auroc score: 0.4923509657382965\n",
      "Epoch 6, Loss: 9.932016372680664\n",
      "mean auroc score: 0.4902441203594208\n",
      "Epoch 7, Loss: 9.908087730407715\n",
      "mean auroc score: 0.49233192205429077\n",
      "Epoch 8, Loss: 9.888317108154297\n",
      "mean auroc score: 0.49319490790367126\n",
      "Epoch 9, Loss: 9.831659317016602\n",
      "mean auroc score: 0.4962656497955322\n",
      "Epoch 10, Loss: 9.820343971252441\n",
      "mean auroc score: 0.5027512311935425\n",
      "Epoch 11, Loss: 9.7431640625\n",
      "mean auroc score: 0.5035571455955505\n",
      "Epoch 12, Loss: 9.722981452941895\n",
      "mean auroc score: 0.5051636099815369\n",
      "Epoch 13, Loss: 9.639694213867188\n",
      "mean auroc score: 0.5115706920623779\n",
      "Epoch 14, Loss: 9.604779243469238\n",
      "mean auroc score: 0.5153297185897827\n",
      "Epoch 15, Loss: 9.53585433959961\n",
      "mean auroc score: 0.5140022039413452\n",
      "Epoch 16, Loss: 9.493415832519531\n",
      "mean auroc score: 0.5198402404785156\n",
      "Epoch 17, Loss: 9.442212104797363\n",
      "mean auroc score: 0.5220726728439331\n",
      "Epoch 18, Loss: 9.319839477539062\n",
      "mean auroc score: 0.5241902470588684\n",
      "Epoch 19, Loss: 9.23738956451416\n",
      "mean auroc score: 0.5232473015785217\n",
      "Epoch 20, Loss: 9.265825271606445\n",
      "mean auroc score: 0.5255094766616821\n"
     ]
    },
    {
     "data": {
      "text/html": [],
      "text/plain": [
       "<IPython.core.display.HTML object>"
      ]
     },
     "metadata": {},
     "output_type": "display_data"
    },
    {
     "data": {
      "text/html": [
       "<br>    <style><br>        .wandb-row {<br>            display: flex;<br>            flex-direction: row;<br>            flex-wrap: wrap;<br>            justify-content: flex-start;<br>            width: 100%;<br>        }<br>        .wandb-col {<br>            display: flex;<br>            flex-direction: column;<br>            flex-basis: 100%;<br>            flex: 1;<br>            padding: 10px;<br>        }<br>    </style><br><div class=\"wandb-row\"><div class=\"wandb-col\"><h3>Run history:</h3><br/><table class=\"wandb\"><tr><td>train/Loss</td><td>█████▇▇▇▆▆▆▅▅▄▄▃▃▂▁▁</td></tr><tr><td>val/auroc</td><td>▁▁▁▂▂▂▂▂▃▄▄▄▅▆▆▇▇███</td></tr><tr><td>val/highest_individual_auroc</td><td>▁</td></tr><tr><td>val/temperature</td><td>█▇▇▆▆▅▅▄▄▃▃▃▂▂▂▂▂▁▁▁</td></tr></table><br/></div><div class=\"wandb-col\"><h3>Run summary:</h3><br/><table class=\"wandb\"><tr><td>train/Loss</td><td>9.26583</td></tr><tr><td>val/auroc</td><td>0.52551</td></tr><tr><td>val/highest_individual_auroc</td><td>0.77338</td></tr><tr><td>val/temperature</td><td>1</td></tr></table><br/></div></div>"
      ],
      "text/plain": [
       "<IPython.core.display.HTML object>"
      ]
     },
     "metadata": {},
     "output_type": "display_data"
    },
    {
     "data": {
      "text/html": [
       " View run <strong style=\"color:#cdcd00\">generous-sweep-29</strong> at: <a href='https://wandb.ai/tristan-schulz2001-tu-dortmund/Sweep-NeuroSAT-HARD-CONSTRAINT-AUROC/runs/0s1fthlj' target=\"_blank\">https://wandb.ai/tristan-schulz2001-tu-dortmund/Sweep-NeuroSAT-HARD-CONSTRAINT-AUROC/runs/0s1fthlj</a><br> View project at: <a href='https://wandb.ai/tristan-schulz2001-tu-dortmund/Sweep-NeuroSAT-HARD-CONSTRAINT-AUROC' target=\"_blank\">https://wandb.ai/tristan-schulz2001-tu-dortmund/Sweep-NeuroSAT-HARD-CONSTRAINT-AUROC</a><br>Synced 5 W&B file(s), 0 media file(s), 0 artifact file(s) and 0 other file(s)"
      ],
      "text/plain": [
       "<IPython.core.display.HTML object>"
      ]
     },
     "metadata": {},
     "output_type": "display_data"
    },
    {
     "data": {
      "text/html": [
       "Find logs at: <code>.\\wandb\\run-20250410_171749-0s1fthlj\\logs</code>"
      ],
      "text/plain": [
       "<IPython.core.display.HTML object>"
      ]
     },
     "metadata": {},
     "output_type": "display_data"
    },
    {
     "name": "stderr",
     "output_type": "stream",
     "text": [
      "\u001b[34m\u001b[1mwandb\u001b[0m: Agent Starting Run: w3nsft9r with config:\n",
      "\u001b[34m\u001b[1mwandb\u001b[0m: \tbce_loss: 0\n",
      "\u001b[34m\u001b[1mwandb\u001b[0m: \tconsistency_reg: 0\n",
      "\u001b[34m\u001b[1mwandb\u001b[0m: \tentropy_reg: 5\n",
      "\u001b[34m\u001b[1mwandb\u001b[0m: \tepochs: 20\n",
      "\u001b[34m\u001b[1mwandb\u001b[0m: \tlr_mlp: 3e-05\n",
      "\u001b[34m\u001b[1mwandb\u001b[0m: \tseed: 74\n",
      "\u001b[34m\u001b[1mwandb\u001b[0m: \tsize_reg: 0.01\n",
      "\u001b[34m\u001b[1mwandb\u001b[0m: \ttT: 2\n"
     ]
    },
    {
     "data": {
      "text/html": [
       "Ignoring project 'Explainer-NeuroSAT-Sweep' when running a sweep."
      ],
      "text/plain": [
       "<IPython.core.display.HTML object>"
      ]
     },
     "metadata": {},
     "output_type": "display_data"
    },
    {
     "data": {
      "text/html": [
       "Tracking run with wandb version 0.19.8"
      ],
      "text/plain": [
       "<IPython.core.display.HTML object>"
      ]
     },
     "metadata": {},
     "output_type": "display_data"
    },
    {
     "data": {
      "text/html": [
       "Run data is saved locally in <code>c:\\Users\\trist\\Git_repos\\BT-ML-PGESAT\\code\\PGExplainer NeuroSAT\\wandb\\run-20250410_173222-w3nsft9r</code>"
      ],
      "text/plain": [
       "<IPython.core.display.HTML object>"
      ]
     },
     "metadata": {},
     "output_type": "display_data"
    },
    {
     "data": {
      "text/html": [
       "Syncing run <strong><a href='https://wandb.ai/tristan-schulz2001-tu-dortmund/Sweep-NeuroSAT-HARD-CONSTRAINT-AUROC/runs/w3nsft9r' target=\"_blank\">jumping-sweep-30</a></strong> to <a href='https://wandb.ai/tristan-schulz2001-tu-dortmund/Sweep-NeuroSAT-HARD-CONSTRAINT-AUROC' target=\"_blank\">Weights & Biases</a> (<a href='https://wandb.me/developer-guide' target=\"_blank\">docs</a>)<br>Sweep page: <a href='https://wandb.ai/tristan-schulz2001-tu-dortmund/Sweep-NeuroSAT-HARD-CONSTRAINT-AUROC/sweeps/1kd67zlb' target=\"_blank\">https://wandb.ai/tristan-schulz2001-tu-dortmund/Sweep-NeuroSAT-HARD-CONSTRAINT-AUROC/sweeps/1kd67zlb</a>"
      ],
      "text/plain": [
       "<IPython.core.display.HTML object>"
      ]
     },
     "metadata": {},
     "output_type": "display_data"
    },
    {
     "data": {
      "text/html": [
       " View project at <a href='https://wandb.ai/tristan-schulz2001-tu-dortmund/Sweep-NeuroSAT-HARD-CONSTRAINT-AUROC' target=\"_blank\">https://wandb.ai/tristan-schulz2001-tu-dortmund/Sweep-NeuroSAT-HARD-CONSTRAINT-AUROC</a>"
      ],
      "text/plain": [
       "<IPython.core.display.HTML object>"
      ]
     },
     "metadata": {},
     "output_type": "display_data"
    },
    {
     "data": {
      "text/html": [
       " View sweep at <a href='https://wandb.ai/tristan-schulz2001-tu-dortmund/Sweep-NeuroSAT-HARD-CONSTRAINT-AUROC/sweeps/1kd67zlb' target=\"_blank\">https://wandb.ai/tristan-schulz2001-tu-dortmund/Sweep-NeuroSAT-HARD-CONSTRAINT-AUROC/sweeps/1kd67zlb</a>"
      ],
      "text/plain": [
       "<IPython.core.display.HTML object>"
      ]
     },
     "metadata": {},
     "output_type": "display_data"
    },
    {
     "data": {
      "text/html": [
       " View run at <a href='https://wandb.ai/tristan-schulz2001-tu-dortmund/Sweep-NeuroSAT-HARD-CONSTRAINT-AUROC/runs/w3nsft9r' target=\"_blank\">https://wandb.ai/tristan-schulz2001-tu-dortmund/Sweep-NeuroSAT-HARD-CONSTRAINT-AUROC/runs/w3nsft9r</a>"
      ],
      "text/plain": [
       "<IPython.core.display.HTML object>"
      ]
     },
     "metadata": {},
     "output_type": "display_data"
    },
    {
     "name": "stdout",
     "output_type": "stream",
     "text": [
      "Epoch 1, Loss: 9.99791431427002\n",
      "mean auroc score: 0.487520694732666\n"
     ]
    },
    {
     "name": "stderr",
     "output_type": "stream",
     "text": [
      "\u001b[34m\u001b[1mwandb\u001b[0m: Network error (ConnectTimeout), entering retry loop.\n"
     ]
    },
    {
     "name": "stdout",
     "output_type": "stream",
     "text": [
      "Epoch 2, Loss: 9.995400428771973\n",
      "mean auroc score: 0.4898471236228943\n",
      "Epoch 3, Loss: 9.974443435668945\n",
      "mean auroc score: 0.48895344138145447\n",
      "Epoch 4, Loss: 9.953913688659668\n",
      "mean auroc score: 0.49097833037376404\n",
      "Epoch 5, Loss: 9.944433212280273\n",
      "mean auroc score: 0.49231886863708496\n"
     ]
    },
    {
     "name": "stderr",
     "output_type": "stream",
     "text": [
      "\u001b[34m\u001b[1mwandb\u001b[0m: Network error (ConnectionError), entering retry loop.\n"
     ]
    },
    {
     "name": "stdout",
     "output_type": "stream",
     "text": [
      "Epoch 6, Loss: 9.914508819580078\n",
      "mean auroc score: 0.49035075306892395\n",
      "Epoch 7, Loss: 9.894105911254883\n",
      "mean auroc score: 0.4923946261405945\n",
      "Epoch 8, Loss: 9.877979278564453\n",
      "mean auroc score: 0.4927268624305725\n",
      "Epoch 9, Loss: 9.837382316589355\n",
      "mean auroc score: 0.4961073398590088\n",
      "Epoch 10, Loss: 9.828448295593262\n",
      "mean auroc score: 0.5026914477348328\n",
      "Epoch 11, Loss: 9.774579048156738\n",
      "mean auroc score: 0.5040760636329651\n",
      "Epoch 12, Loss: 9.760875701904297\n",
      "mean auroc score: 0.5049037337303162\n",
      "Epoch 13, Loss: 9.712227821350098\n",
      "mean auroc score: 0.5112252235412598\n",
      "Epoch 14, Loss: 9.685358047485352\n",
      "mean auroc score: 0.5167584419250488\n",
      "Epoch 15, Loss: 9.650235176086426\n",
      "mean auroc score: 0.5146554112434387\n",
      "Epoch 16, Loss: 9.624249458312988\n",
      "mean auroc score: 0.5192223787307739\n",
      "Epoch 17, Loss: 9.593826293945312\n",
      "mean auroc score: 0.5216169357299805\n",
      "Epoch 18, Loss: 9.52992057800293\n",
      "mean auroc score: 0.5237187743186951\n",
      "Epoch 19, Loss: 9.499008178710938\n",
      "mean auroc score: 0.5213197469711304\n",
      "Epoch 20, Loss: 9.465566635131836\n",
      "mean auroc score: 0.5244480967521667\n"
     ]
    },
    {
     "data": {
      "text/html": [],
      "text/plain": [
       "<IPython.core.display.HTML object>"
      ]
     },
     "metadata": {},
     "output_type": "display_data"
    },
    {
     "data": {
      "text/html": [
       "<br>    <style><br>        .wandb-row {<br>            display: flex;<br>            flex-direction: row;<br>            flex-wrap: wrap;<br>            justify-content: flex-start;<br>            width: 100%;<br>        }<br>        .wandb-col {<br>            display: flex;<br>            flex-direction: column;<br>            flex-basis: 100%;<br>            flex: 1;<br>            padding: 10px;<br>        }<br>    </style><br><div class=\"wandb-row\"><div class=\"wandb-col\"><h3>Run history:</h3><br/><table class=\"wandb\"><tr><td>train/Loss</td><td>███▇▇▇▇▆▆▆▅▅▄▄▃▃▃▂▁▁</td></tr><tr><td>val/auroc</td><td>▁▁▁▂▂▂▂▂▃▄▄▄▅▇▆▇▇█▇█</td></tr><tr><td>val/highest_individual_auroc</td><td>▁</td></tr><tr><td>val/temperature</td><td>█▇▇▆▆▆▅▅▄▄▄▃▃▃▂▂▂▁▁▁</td></tr></table><br/></div><div class=\"wandb-col\"><h3>Run summary:</h3><br/><table class=\"wandb\"><tr><td>train/Loss</td><td>9.46557</td></tr><tr><td>val/auroc</td><td>0.52445</td></tr><tr><td>val/highest_individual_auroc</td><td>0.77211</td></tr><tr><td>val/temperature</td><td>2</td></tr></table><br/></div></div>"
      ],
      "text/plain": [
       "<IPython.core.display.HTML object>"
      ]
     },
     "metadata": {},
     "output_type": "display_data"
    },
    {
     "data": {
      "text/html": [
       " View run <strong style=\"color:#cdcd00\">jumping-sweep-30</strong> at: <a href='https://wandb.ai/tristan-schulz2001-tu-dortmund/Sweep-NeuroSAT-HARD-CONSTRAINT-AUROC/runs/w3nsft9r' target=\"_blank\">https://wandb.ai/tristan-schulz2001-tu-dortmund/Sweep-NeuroSAT-HARD-CONSTRAINT-AUROC/runs/w3nsft9r</a><br> View project at: <a href='https://wandb.ai/tristan-schulz2001-tu-dortmund/Sweep-NeuroSAT-HARD-CONSTRAINT-AUROC' target=\"_blank\">https://wandb.ai/tristan-schulz2001-tu-dortmund/Sweep-NeuroSAT-HARD-CONSTRAINT-AUROC</a><br>Synced 5 W&B file(s), 0 media file(s), 0 artifact file(s) and 0 other file(s)"
      ],
      "text/plain": [
       "<IPython.core.display.HTML object>"
      ]
     },
     "metadata": {},
     "output_type": "display_data"
    },
    {
     "data": {
      "text/html": [
       "Find logs at: <code>.\\wandb\\run-20250410_173222-w3nsft9r\\logs</code>"
      ],
      "text/plain": [
       "<IPython.core.display.HTML object>"
      ]
     },
     "metadata": {},
     "output_type": "display_data"
    },
    {
     "name": "stderr",
     "output_type": "stream",
     "text": [
      "\u001b[34m\u001b[1mwandb\u001b[0m: Agent Starting Run: 3xvz2u84 with config:\n",
      "\u001b[34m\u001b[1mwandb\u001b[0m: \tbce_loss: 0\n",
      "\u001b[34m\u001b[1mwandb\u001b[0m: \tconsistency_reg: 0\n",
      "\u001b[34m\u001b[1mwandb\u001b[0m: \tentropy_reg: 5\n",
      "\u001b[34m\u001b[1mwandb\u001b[0m: \tepochs: 20\n",
      "\u001b[34m\u001b[1mwandb\u001b[0m: \tlr_mlp: 3e-05\n",
      "\u001b[34m\u001b[1mwandb\u001b[0m: \tseed: 75\n",
      "\u001b[34m\u001b[1mwandb\u001b[0m: \tsize_reg: 0.01\n",
      "\u001b[34m\u001b[1mwandb\u001b[0m: \ttT: 1\n"
     ]
    },
    {
     "data": {
      "text/html": [
       "Ignoring project 'Explainer-NeuroSAT-Sweep' when running a sweep."
      ],
      "text/plain": [
       "<IPython.core.display.HTML object>"
      ]
     },
     "metadata": {},
     "output_type": "display_data"
    },
    {
     "data": {
      "text/html": [
       "Tracking run with wandb version 0.19.8"
      ],
      "text/plain": [
       "<IPython.core.display.HTML object>"
      ]
     },
     "metadata": {},
     "output_type": "display_data"
    },
    {
     "data": {
      "text/html": [
       "Run data is saved locally in <code>c:\\Users\\trist\\Git_repos\\BT-ML-PGESAT\\code\\PGExplainer NeuroSAT\\wandb\\run-20250410_174849-3xvz2u84</code>"
      ],
      "text/plain": [
       "<IPython.core.display.HTML object>"
      ]
     },
     "metadata": {},
     "output_type": "display_data"
    },
    {
     "data": {
      "text/html": [
       "Syncing run <strong><a href='https://wandb.ai/tristan-schulz2001-tu-dortmund/Sweep-NeuroSAT-HARD-CONSTRAINT-AUROC/runs/3xvz2u84' target=\"_blank\">splendid-sweep-31</a></strong> to <a href='https://wandb.ai/tristan-schulz2001-tu-dortmund/Sweep-NeuroSAT-HARD-CONSTRAINT-AUROC' target=\"_blank\">Weights & Biases</a> (<a href='https://wandb.me/developer-guide' target=\"_blank\">docs</a>)<br>Sweep page: <a href='https://wandb.ai/tristan-schulz2001-tu-dortmund/Sweep-NeuroSAT-HARD-CONSTRAINT-AUROC/sweeps/1kd67zlb' target=\"_blank\">https://wandb.ai/tristan-schulz2001-tu-dortmund/Sweep-NeuroSAT-HARD-CONSTRAINT-AUROC/sweeps/1kd67zlb</a>"
      ],
      "text/plain": [
       "<IPython.core.display.HTML object>"
      ]
     },
     "metadata": {},
     "output_type": "display_data"
    },
    {
     "data": {
      "text/html": [
       " View project at <a href='https://wandb.ai/tristan-schulz2001-tu-dortmund/Sweep-NeuroSAT-HARD-CONSTRAINT-AUROC' target=\"_blank\">https://wandb.ai/tristan-schulz2001-tu-dortmund/Sweep-NeuroSAT-HARD-CONSTRAINT-AUROC</a>"
      ],
      "text/plain": [
       "<IPython.core.display.HTML object>"
      ]
     },
     "metadata": {},
     "output_type": "display_data"
    },
    {
     "data": {
      "text/html": [
       " View sweep at <a href='https://wandb.ai/tristan-schulz2001-tu-dortmund/Sweep-NeuroSAT-HARD-CONSTRAINT-AUROC/sweeps/1kd67zlb' target=\"_blank\">https://wandb.ai/tristan-schulz2001-tu-dortmund/Sweep-NeuroSAT-HARD-CONSTRAINT-AUROC/sweeps/1kd67zlb</a>"
      ],
      "text/plain": [
       "<IPython.core.display.HTML object>"
      ]
     },
     "metadata": {},
     "output_type": "display_data"
    },
    {
     "data": {
      "text/html": [
       " View run at <a href='https://wandb.ai/tristan-schulz2001-tu-dortmund/Sweep-NeuroSAT-HARD-CONSTRAINT-AUROC/runs/3xvz2u84' target=\"_blank\">https://wandb.ai/tristan-schulz2001-tu-dortmund/Sweep-NeuroSAT-HARD-CONSTRAINT-AUROC/runs/3xvz2u84</a>"
      ],
      "text/plain": [
       "<IPython.core.display.HTML object>"
      ]
     },
     "metadata": {},
     "output_type": "display_data"
    },
    {
     "name": "stdout",
     "output_type": "stream",
     "text": [
      "Epoch 1, Loss: 9.785578727722168\n",
      "mean auroc score: 0.5006551146507263\n",
      "Epoch 2, Loss: 9.76707649230957\n",
      "mean auroc score: 0.497092604637146\n",
      "Epoch 3, Loss: 9.758066177368164\n",
      "mean auroc score: 0.49549561738967896\n",
      "Epoch 4, Loss: 9.736981391906738\n",
      "mean auroc score: 0.49625787138938904\n",
      "Epoch 5, Loss: 9.707712173461914\n",
      "mean auroc score: 0.4932652711868286\n",
      "Epoch 6, Loss: 9.679847717285156\n",
      "mean auroc score: 0.4905272126197815\n",
      "Epoch 7, Loss: 9.644598007202148\n",
      "mean auroc score: 0.4886760115623474\n",
      "Epoch 8, Loss: 9.609417915344238\n",
      "mean auroc score: 0.48807084560394287\n",
      "Epoch 9, Loss: 9.582159042358398\n",
      "mean auroc score: 0.4882718026638031\n",
      "Epoch 10, Loss: 9.53511905670166\n",
      "mean auroc score: 0.489963561296463\n",
      "Epoch 11, Loss: 9.459432601928711\n",
      "mean auroc score: 0.48981866240501404\n",
      "Epoch 12, Loss: 9.4197416305542\n",
      "mean auroc score: 0.48884841799736023\n",
      "Epoch 13, Loss: 9.368078231811523\n",
      "mean auroc score: 0.49083587527275085\n",
      "Epoch 14, Loss: 9.331734657287598\n",
      "mean auroc score: 0.4890257716178894\n",
      "Epoch 15, Loss: 9.226709365844727\n",
      "mean auroc score: 0.48890212178230286\n",
      "Epoch 16, Loss: 9.126771926879883\n",
      "mean auroc score: 0.4884174168109894\n",
      "Epoch 17, Loss: 9.08098030090332\n",
      "mean auroc score: 0.4894699156284332\n",
      "Epoch 18, Loss: 8.984875679016113\n",
      "mean auroc score: 0.4899385869503021\n",
      "Epoch 19, Loss: 8.882588386535645\n",
      "mean auroc score: 0.49057599902153015\n",
      "Epoch 20, Loss: 8.781595230102539\n",
      "mean auroc score: 0.49117565155029297\n"
     ]
    },
    {
     "data": {
      "text/html": [],
      "text/plain": [
       "<IPython.core.display.HTML object>"
      ]
     },
     "metadata": {},
     "output_type": "display_data"
    },
    {
     "data": {
      "text/html": [
       "<br>    <style><br>        .wandb-row {<br>            display: flex;<br>            flex-direction: row;<br>            flex-wrap: wrap;<br>            justify-content: flex-start;<br>            width: 100%;<br>        }<br>        .wandb-col {<br>            display: flex;<br>            flex-direction: column;<br>            flex-basis: 100%;<br>            flex: 1;<br>            padding: 10px;<br>        }<br>    </style><br><div class=\"wandb-row\"><div class=\"wandb-col\"><h3>Run history:</h3><br/><table class=\"wandb\"><tr><td>train/Loss</td><td>████▇▇▇▇▇▆▆▅▅▅▄▃▃▂▂▁</td></tr><tr><td>val/auroc</td><td>█▆▅▆▄▂▁▁▁▂▂▁▃▂▁▁▂▂▂▃</td></tr><tr><td>val/highest_individual_auroc</td><td>▁</td></tr><tr><td>val/temperature</td><td>█▇▇▆▆▅▅▄▄▃▃▃▂▂▂▂▂▁▁▁</td></tr></table><br/></div><div class=\"wandb-col\"><h3>Run summary:</h3><br/><table class=\"wandb\"><tr><td>train/Loss</td><td>8.7816</td></tr><tr><td>val/auroc</td><td>0.49118</td></tr><tr><td>val/highest_individual_auroc</td><td>0.63425</td></tr><tr><td>val/temperature</td><td>1</td></tr></table><br/></div></div>"
      ],
      "text/plain": [
       "<IPython.core.display.HTML object>"
      ]
     },
     "metadata": {},
     "output_type": "display_data"
    },
    {
     "data": {
      "text/html": [
       " View run <strong style=\"color:#cdcd00\">splendid-sweep-31</strong> at: <a href='https://wandb.ai/tristan-schulz2001-tu-dortmund/Sweep-NeuroSAT-HARD-CONSTRAINT-AUROC/runs/3xvz2u84' target=\"_blank\">https://wandb.ai/tristan-schulz2001-tu-dortmund/Sweep-NeuroSAT-HARD-CONSTRAINT-AUROC/runs/3xvz2u84</a><br> View project at: <a href='https://wandb.ai/tristan-schulz2001-tu-dortmund/Sweep-NeuroSAT-HARD-CONSTRAINT-AUROC' target=\"_blank\">https://wandb.ai/tristan-schulz2001-tu-dortmund/Sweep-NeuroSAT-HARD-CONSTRAINT-AUROC</a><br>Synced 5 W&B file(s), 0 media file(s), 0 artifact file(s) and 0 other file(s)"
      ],
      "text/plain": [
       "<IPython.core.display.HTML object>"
      ]
     },
     "metadata": {},
     "output_type": "display_data"
    },
    {
     "data": {
      "text/html": [
       "Find logs at: <code>.\\wandb\\run-20250410_174849-3xvz2u84\\logs</code>"
      ],
      "text/plain": [
       "<IPython.core.display.HTML object>"
      ]
     },
     "metadata": {},
     "output_type": "display_data"
    },
    {
     "name": "stderr",
     "output_type": "stream",
     "text": [
      "\u001b[34m\u001b[1mwandb\u001b[0m: Agent Starting Run: g0iel8cb with config:\n",
      "\u001b[34m\u001b[1mwandb\u001b[0m: \tbce_loss: 0\n",
      "\u001b[34m\u001b[1mwandb\u001b[0m: \tconsistency_reg: 0\n",
      "\u001b[34m\u001b[1mwandb\u001b[0m: \tentropy_reg: 5\n",
      "\u001b[34m\u001b[1mwandb\u001b[0m: \tepochs: 20\n",
      "\u001b[34m\u001b[1mwandb\u001b[0m: \tlr_mlp: 3e-05\n",
      "\u001b[34m\u001b[1mwandb\u001b[0m: \tseed: 75\n",
      "\u001b[34m\u001b[1mwandb\u001b[0m: \tsize_reg: 0.01\n",
      "\u001b[34m\u001b[1mwandb\u001b[0m: \ttT: 2\n"
     ]
    },
    {
     "data": {
      "text/html": [
       "Ignoring project 'Explainer-NeuroSAT-Sweep' when running a sweep."
      ],
      "text/plain": [
       "<IPython.core.display.HTML object>"
      ]
     },
     "metadata": {},
     "output_type": "display_data"
    },
    {
     "data": {
      "text/html": [
       "Tracking run with wandb version 0.19.8"
      ],
      "text/plain": [
       "<IPython.core.display.HTML object>"
      ]
     },
     "metadata": {},
     "output_type": "display_data"
    },
    {
     "data": {
      "text/html": [
       "Run data is saved locally in <code>c:\\Users\\trist\\Git_repos\\BT-ML-PGESAT\\code\\PGExplainer NeuroSAT\\wandb\\run-20250410_180535-g0iel8cb</code>"
      ],
      "text/plain": [
       "<IPython.core.display.HTML object>"
      ]
     },
     "metadata": {},
     "output_type": "display_data"
    },
    {
     "data": {
      "text/html": [
       "Syncing run <strong><a href='https://wandb.ai/tristan-schulz2001-tu-dortmund/Sweep-NeuroSAT-HARD-CONSTRAINT-AUROC/runs/g0iel8cb' target=\"_blank\">light-sweep-32</a></strong> to <a href='https://wandb.ai/tristan-schulz2001-tu-dortmund/Sweep-NeuroSAT-HARD-CONSTRAINT-AUROC' target=\"_blank\">Weights & Biases</a> (<a href='https://wandb.me/developer-guide' target=\"_blank\">docs</a>)<br>Sweep page: <a href='https://wandb.ai/tristan-schulz2001-tu-dortmund/Sweep-NeuroSAT-HARD-CONSTRAINT-AUROC/sweeps/1kd67zlb' target=\"_blank\">https://wandb.ai/tristan-schulz2001-tu-dortmund/Sweep-NeuroSAT-HARD-CONSTRAINT-AUROC/sweeps/1kd67zlb</a>"
      ],
      "text/plain": [
       "<IPython.core.display.HTML object>"
      ]
     },
     "metadata": {},
     "output_type": "display_data"
    },
    {
     "data": {
      "text/html": [
       " View project at <a href='https://wandb.ai/tristan-schulz2001-tu-dortmund/Sweep-NeuroSAT-HARD-CONSTRAINT-AUROC' target=\"_blank\">https://wandb.ai/tristan-schulz2001-tu-dortmund/Sweep-NeuroSAT-HARD-CONSTRAINT-AUROC</a>"
      ],
      "text/plain": [
       "<IPython.core.display.HTML object>"
      ]
     },
     "metadata": {},
     "output_type": "display_data"
    },
    {
     "data": {
      "text/html": [
       " View sweep at <a href='https://wandb.ai/tristan-schulz2001-tu-dortmund/Sweep-NeuroSAT-HARD-CONSTRAINT-AUROC/sweeps/1kd67zlb' target=\"_blank\">https://wandb.ai/tristan-schulz2001-tu-dortmund/Sweep-NeuroSAT-HARD-CONSTRAINT-AUROC/sweeps/1kd67zlb</a>"
      ],
      "text/plain": [
       "<IPython.core.display.HTML object>"
      ]
     },
     "metadata": {},
     "output_type": "display_data"
    },
    {
     "data": {
      "text/html": [
       " View run at <a href='https://wandb.ai/tristan-schulz2001-tu-dortmund/Sweep-NeuroSAT-HARD-CONSTRAINT-AUROC/runs/g0iel8cb' target=\"_blank\">https://wandb.ai/tristan-schulz2001-tu-dortmund/Sweep-NeuroSAT-HARD-CONSTRAINT-AUROC/runs/g0iel8cb</a>"
      ],
      "text/plain": [
       "<IPython.core.display.HTML object>"
      ]
     },
     "metadata": {},
     "output_type": "display_data"
    },
    {
     "name": "stdout",
     "output_type": "stream",
     "text": [
      "Epoch 1, Loss: 9.786530494689941\n",
      "mean auroc score: 0.5006551146507263\n",
      "Epoch 2, Loss: 9.77003002166748\n",
      "mean auroc score: 0.497092604637146\n",
      "Epoch 3, Loss: 9.763692855834961\n",
      "mean auroc score: 0.49549561738967896\n",
      "Epoch 4, Loss: 9.747174263000488\n",
      "mean auroc score: 0.49625787138938904\n",
      "Epoch 5, Loss: 9.723962783813477\n",
      "mean auroc score: 0.4932652711868286\n",
      "Epoch 6, Loss: 9.705619812011719\n",
      "mean auroc score: 0.4906492829322815\n",
      "Epoch 7, Loss: 9.680570602416992\n",
      "mean auroc score: 0.4890878200531006\n",
      "Epoch 8, Loss: 9.654205322265625\n",
      "mean auroc score: 0.4884850084781647\n",
      "Epoch 9, Loss: 9.640008926391602\n",
      "mean auroc score: 0.48869019746780396\n",
      "Epoch 10, Loss: 9.609794616699219\n",
      "mean auroc score: 0.489568829536438\n",
      "Epoch 11, Loss: 9.564580917358398\n",
      "mean auroc score: 0.48990902304649353\n",
      "Epoch 12, Loss: 9.544339179992676\n",
      "mean auroc score: 0.4887602627277374\n",
      "Epoch 13, Loss: 9.512039184570312\n",
      "mean auroc score: 0.49063101410865784\n",
      "Epoch 14, Loss: 9.495162963867188\n",
      "mean auroc score: 0.4893478453159332\n",
      "Epoch 15, Loss: 9.431044578552246\n",
      "mean auroc score: 0.4895190894603729\n",
      "Epoch 16, Loss: 9.383296012878418\n",
      "mean auroc score: 0.48777449131011963\n",
      "Epoch 17, Loss: 9.357431411743164\n",
      "mean auroc score: 0.489185094833374\n",
      "Epoch 18, Loss: 9.300127029418945\n",
      "mean auroc score: 0.4896374046802521\n",
      "Epoch 19, Loss: 9.243680000305176\n",
      "mean auroc score: 0.4899749457836151\n",
      "Epoch 20, Loss: 9.201051712036133\n",
      "mean auroc score: 0.491529256105423\n"
     ]
    },
    {
     "data": {
      "text/html": [],
      "text/plain": [
       "<IPython.core.display.HTML object>"
      ]
     },
     "metadata": {},
     "output_type": "display_data"
    },
    {
     "data": {
      "text/html": [
       "<br>    <style><br>        .wandb-row {<br>            display: flex;<br>            flex-direction: row;<br>            flex-wrap: wrap;<br>            justify-content: flex-start;<br>            width: 100%;<br>        }<br>        .wandb-col {<br>            display: flex;<br>            flex-direction: column;<br>            flex-basis: 100%;<br>            flex: 1;<br>            padding: 10px;<br>        }<br>    </style><br><div class=\"wandb-row\"><div class=\"wandb-col\"><h3>Run history:</h3><br/><table class=\"wandb\"><tr><td>train/Loss</td><td>████▇▇▇▆▆▆▅▅▅▅▄▃▃▂▂▁</td></tr><tr><td>val/auroc</td><td>█▆▅▆▄▃▂▁▁▂▂▂▃▂▂▁▂▂▂▃</td></tr><tr><td>val/highest_individual_auroc</td><td>▁</td></tr><tr><td>val/temperature</td><td>█▇▇▆▆▆▅▅▄▄▄▃▃▃▂▂▂▁▁▁</td></tr></table><br/></div><div class=\"wandb-col\"><h3>Run summary:</h3><br/><table class=\"wandb\"><tr><td>train/Loss</td><td>9.20105</td></tr><tr><td>val/auroc</td><td>0.49153</td></tr><tr><td>val/highest_individual_auroc</td><td>0.63425</td></tr><tr><td>val/temperature</td><td>2</td></tr></table><br/></div></div>"
      ],
      "text/plain": [
       "<IPython.core.display.HTML object>"
      ]
     },
     "metadata": {},
     "output_type": "display_data"
    },
    {
     "data": {
      "text/html": [
       " View run <strong style=\"color:#cdcd00\">light-sweep-32</strong> at: <a href='https://wandb.ai/tristan-schulz2001-tu-dortmund/Sweep-NeuroSAT-HARD-CONSTRAINT-AUROC/runs/g0iel8cb' target=\"_blank\">https://wandb.ai/tristan-schulz2001-tu-dortmund/Sweep-NeuroSAT-HARD-CONSTRAINT-AUROC/runs/g0iel8cb</a><br> View project at: <a href='https://wandb.ai/tristan-schulz2001-tu-dortmund/Sweep-NeuroSAT-HARD-CONSTRAINT-AUROC' target=\"_blank\">https://wandb.ai/tristan-schulz2001-tu-dortmund/Sweep-NeuroSAT-HARD-CONSTRAINT-AUROC</a><br>Synced 5 W&B file(s), 0 media file(s), 0 artifact file(s) and 0 other file(s)"
      ],
      "text/plain": [
       "<IPython.core.display.HTML object>"
      ]
     },
     "metadata": {},
     "output_type": "display_data"
    },
    {
     "data": {
      "text/html": [
       "Find logs at: <code>.\\wandb\\run-20250410_180535-g0iel8cb\\logs</code>"
      ],
      "text/plain": [
       "<IPython.core.display.HTML object>"
      ]
     },
     "metadata": {},
     "output_type": "display_data"
    },
    {
     "name": "stderr",
     "output_type": "stream",
     "text": [
      "\u001b[34m\u001b[1mwandb\u001b[0m: Sweep Agent: Waiting for job.\n",
      "\u001b[34m\u001b[1mwandb\u001b[0m: Sweep Agent: Exiting.\n"
     ]
    }
   ],
   "source": [
    "import sweepExplainerNeuroSAT\n",
    "\n",
    "wandb.agent(sweep_id, sweepExplainerNeuroSAT.trainExplainer)"
   ]
  }
 ],
 "metadata": {
  "kernelspec": {
   "display_name": "NeuroSAT",
   "language": "python",
   "name": "python3"
  },
  "language_info": {
   "codemirror_mode": {
    "name": "ipython",
    "version": 3
   },
   "file_extension": ".py",
   "mimetype": "text/x-python",
   "name": "python",
   "nbconvert_exporter": "python",
   "pygments_lexer": "ipython3",
   "version": "3.12.3"
  }
 },
 "nbformat": 4,
 "nbformat_minor": 2
}
