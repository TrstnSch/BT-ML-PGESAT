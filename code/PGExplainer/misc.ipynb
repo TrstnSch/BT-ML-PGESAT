{
 "cells": [
  {
   "cell_type": "markdown",
   "metadata": {},
   "source": [
    "## Code for removing duplicate nodes. Results not promising"
   ]
  },
  {
   "cell_type": "code",
   "execution_count": null,
   "metadata": {
    "vscode": {
     "languageId": "plaintext"
    }
   },
   "outputs": [],
   "source": [
    "\"\"\"data_list = []\n",
    "\n",
    "for batch_index, data in enumerate(train_dataset):\n",
    "\n",
    "    mask = torch.ones((len(data.edge_index[0])), dtype=torch.bool)\n",
    "    for i in range(0, len(data.edge_index[0])):\n",
    "        currentNodeI = data.edge_index[0][i]\n",
    "        currentNodeJ = data.edge_index[1][i]\n",
    "        for j in range(i, len(data.edge_index[0])):\n",
    "            if data.edge_index[0][j] == currentNodeJ and data.edge_index[1][j] == currentNodeI:\n",
    "                mask[i] = 0\n",
    "    maskedIndex = data.edge_index[:, mask]\n",
    "\n",
    "    data = Data(x=data.x, edge_index=maskedIndex, y=data.y)\n",
    "\n",
    "    data_list.append(data)\n",
    "\n",
    "print(train_dataset[0].edge_index)\n",
    "print(data_list[0].edge_index)\n",
    "\n",
    "plt.figure(7)\n",
    "gEdgesRem = torch_geometric.utils.to_networkx(data_list[0], to_undirected=True)\n",
    "nx.draw(gEdgesRem, pos)\n",
    "\n",
    "loader = DataLoader(data_list, batch_size, False)\"\"\""
   ]
  },
  {
   "cell_type": "markdown",
   "metadata": {},
   "source": [
    "## MLP getGraphEdgeEmbeddings once as list"
   ]
  },
  {
   "cell_type": "code",
   "execution_count": null,
   "metadata": {
    "vscode": {
     "languageId": "plaintext"
    }
   },
   "outputs": [],
   "source": [
    "    def getGraphEdgeEmbeddings(self, data_loader, modelGraphGNN):\n",
    "        \"\"\"Generate the edge embeddings from the node embeddings for each graph in the dataset used as input for the MLP\n",
    "\n",
    "        Args:\n",
    "            data_loader (DataLoader): DataLoader containing the dataset\n",
    "            modelGraphGNN (GNN): NodeGNN/GraphGNN model to generate node embeddings\n",
    "\n",
    "        Returns:\n",
    "            Listy<float tensor>: List of edge embeddings per graph\n",
    "        \"\"\"\n",
    "        embeddings = []\n",
    "\n",
    "        for batch_index, data in enumerate(data_loader):\n",
    "            emb = modelGraphGNN.getNodeEmbeddings(data.x, data.edge_index)              # shape: 25 X 20 = Nodes X hidden_embs\n",
    "\n",
    "            # Transform embeddings so that it contains the concatenated hidden_embs of each two connected nodes\n",
    "            graph_embs = []\n",
    "            for index in range(0, len(data.edge_index[0])):\n",
    "                i = data.edge_index[0][index]\n",
    "                j = data.edge_index[1][index]\n",
    "\n",
    "                embCat = torch.cat([emb[i],emb[j]])                     # shape: 1 X 40 = 1Edge X hidden_embs_2Nodes\n",
    "                graph_embs.append(embCat)                               # shape: ~50 X 40 = Edges X hidden_embs_2Nodes\n",
    "\n",
    "            embeddings.append(torch.stack(graph_embs))                  # shape: 600 X ~50 X 40 = Graphs X Edges X hidden_embs_2Nodes\n",
    "\n",
    "        # TODO: transform different shape embeddings with cat?\n",
    "        return embeddings"
   ]
  },
  {
   "cell_type": "markdown",
   "metadata": {},
   "source": [
    "## Old/inefficient code for adding up edge weights"
   ]
  },
  {
   "cell_type": "code",
   "execution_count": null,
   "metadata": {
    "vscode": {
     "languageId": "plaintext"
    }
   },
   "outputs": [],
   "source": [
    "\"\"\"for i in range(len(data1.edge_index[0])):\n",
    "    currentNodeI = data1.edge_index[0][i]\n",
    "    currentNodeJ = data1.edge_index[1][i]\n",
    "    for j in range(i, len(data1.edge_index[0])):\n",
    "        if data1.edge_index[0][j] == currentNodeJ and data1.edge_index[1][j] == currentNodeI:\n",
    "            temp = w_ij[i] + w_ij[j]\n",
    "            w_ij[i] = temp\n",
    "            w_ij[j] = temp\n",
    "\n",
    "print(w_ij)\"\"\""
   ]
  }
 ],
 "metadata": {
  "language_info": {
   "name": "python"
  }
 },
 "nbformat": 4,
 "nbformat_minor": 2
}
