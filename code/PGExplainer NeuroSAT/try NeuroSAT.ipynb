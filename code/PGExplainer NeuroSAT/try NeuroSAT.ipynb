{
 "cells": [
  {
   "cell_type": "code",
   "execution_count": 1,
   "metadata": {},
   "outputs": [],
   "source": [
    "import NeuroSAT\n",
    "import torch\n",
    "import pickle\n",
    "import explainer_NeuroSAT\n",
    "import datasetLoader"
   ]
  },
  {
   "cell_type": "code",
   "execution_count": 2,
   "metadata": {},
   "outputs": [],
   "source": [
    "opts = {\n",
    "        'out_dir': '/Users/trist/Documents/Bachelor-Thesis/NeuroSAT/test/files/data/dataset_train_8_size4000',\n",
    "        'logging': '/Users/trist/Documents/Bachelor-Thesis/NeuroSAT/test/files/log/dataset_train_8_size4000.log',\n",
    "        'reals_dir': '/Users/trist/Documents/Bachelor-Thesis/NeuroSAT/test/files/data/dataset_train_8_size4000_reals',\n",
    "        'gt_edges_per_problem': '/Users/trist/Documents/Bachelor-Thesis/NeuroSAT/test/files/data/dataset_train_8_size4000_gt_edges_per_problem',\n",
    "        'n_pairs': 100,  # Anzahl der zu generierenden Paare\n",
    "        'min_n': 8,\n",
    "        'max_n': 8,\n",
    "        'p_k_2': 0.3,\n",
    "        'p_geo': 0.4,\n",
    "        'max_nodes_per_batch': 4000,\n",
    "        'one_pair': False,\n",
    "        'emb_dim': 128,\n",
    "        'iterations': 26,\n",
    "    }\n",
    "\n",
    "device = torch.device('cuda' if torch.cuda.is_available() else 'cpu')"
   ]
  },
  {
   "cell_type": "markdown",
   "metadata": {},
   "source": [
    "## Smaller problem"
   ]
  },
  {
   "cell_type": "code",
   "execution_count": 11,
   "metadata": {},
   "outputs": [],
   "source": [
    "opts = {\n",
    "        'out_dir': '/Users/trist/Documents/Bachelor-Thesis/NeuroSAT/test/files/data/dataset_train_8_size500',\n",
    "        'logging': '/Users/trist/Documents/Bachelor-Thesis/NeuroSAT/test/files/log/dataset_train_8_size500.log',\n",
    "        'reals_dir': '/Users/trist/Documents/Bachelor-Thesis/NeuroSAT/test/files/data/dataset_train_8_size500_reals',\n",
    "        'gt_edges_per_problem': '/Users/trist/Documents/Bachelor-Thesis/NeuroSAT/test/files/data/dataset_train_8_size500_gt_edges_per_problem',\n",
    "        'n_pairs': 20,  # Anzahl der zu generierenden Paare\n",
    "        'min_n': 8,\n",
    "        'max_n': 8,\n",
    "        'p_k_2': 0.3,\n",
    "        'p_geo': 0.4,\n",
    "        'max_nodes_per_batch': 500,\n",
    "        'one_pair': False,\n",
    "        'emb_dim': 128,\n",
    "        'iterations': 26,\n",
    "    }\n",
    "\n",
    "device = torch.device('cuda' if torch.cuda.is_available() else 'cpu')"
   ]
  },
  {
   "cell_type": "markdown",
   "metadata": {},
   "source": [
    "## Generate GT for problem"
   ]
  },
  {
   "cell_type": "code",
   "execution_count": 3,
   "metadata": {},
   "outputs": [],
   "source": [
    "data = datasetLoader.loadSatBatches(opts['out_dir'])\n",
    "\n",
    "datasetLoader.storeGTforData(data[-1], opts['min_n'], opts['out_dir'])\n",
    "\n",
    "#with open(opts['reals_dir'], 'rb') as file:\n",
    "#        reals = pickle.load(file)"
   ]
  },
  {
   "cell_type": "code",
   "execution_count": 3,
   "metadata": {},
   "outputs": [],
   "source": [
    "from torch_geometric import seed\n",
    "import utils\n",
    "import wandb\n",
    "import torch.nn.functional as fn\n",
    "from torcheval.metrics.functional import binary_auroc\n",
    "from collections import defaultdict\n",
    "\n",
    "\n",
    "def trainExplainer (datasetName, opts, save_model=False, wandb_project=\"Explainer-NeuroSAT\", runSeed=None) :\n",
    "    if runSeed is not None: seed.seed_everything(runSeed)\n",
    "    \n",
    "    device = torch.device('cuda' if torch.cuda.is_available() else 'cpu')\n",
    "    \n",
    "    # Check valid dataset name\n",
    "    configOG = utils.loadConfig(datasetName)\n",
    "    if configOG == -1:\n",
    "        return\n",
    "    \n",
    "    params = configOG['params']\n",
    "    graph_task = params['graph_task']\n",
    "    epochs = params['epochs']\n",
    "    t0 = params['t0']\n",
    "    tT = params['tT']\n",
    "    sampled_graphs = params['sampled_graphs']\n",
    "    coefficient_size_reg = params['coefficient_size_reg']\n",
    "    coefficient_entropy_reg = params['coefficient_entropy_reg']\n",
    "    coefficient_L2_reg = params['coefficient_L2_reg']\n",
    "    coefficient_consistency = params['coefficient_consistency']\n",
    "    num_explanation_edges = params['num_explanation_edges']\n",
    "    lr_mlp = params['lr_mlp']\n",
    "\n",
    "    wandb.init(project=wandb_project, config=params)\n",
    "\n",
    "    hidden_dim = 64 # Make loading possible\n",
    "    clip_grad_norm = 2 # Make loading possible\n",
    "    min_clip_value = -2\n",
    "    \n",
    "    with open(opts['out_dir'], 'rb') as file:\n",
    "        data = pickle.load(file)\n",
    "    \n",
    "    # TODO: Split data into train and test\n",
    "    # TODO: !!! each data consist of multiple problems !!! -> Extract singular problems for calculating the loss!\n",
    "    dataset = data\n",
    "    \n",
    "    eval_problem = data[-1]\n",
    "    \n",
    "    with open(opts['reals_dir'], 'rb') as file:\n",
    "        reals = pickle.load(file)\n",
    "        \n",
    "    with open(opts['gt_edges_per_problem'], 'rb') as file:\n",
    "        gt_edges_per_problem = pickle.load(file)\n",
    "    \n",
    "\n",
    "    downstreamTask = NeuroSAT.NeuroSAT(opts=opts,device=device)\n",
    "    checkpoint = torch.load(f\"models/neurosat_sr10to40_ep1024_nr26_d128_last.pth.tar\", weights_only=True, map_location=device)\n",
    "    downstreamTask.load_state_dict(checkpoint['state_dict'])\n",
    "\n",
    "    mlp = explainer_NeuroSAT.MLP_SAT(GraphTask=graph_task).to(device)\n",
    "    wandb.watch(mlp, log= \"all\", log_freq=2, log_graph=False)\n",
    "\n",
    "    mlp_optimizer = torch.optim.Adam(params = mlp.parameters(), lr = lr_mlp)\n",
    "\n",
    "    downstreamTask.eval()\n",
    "    for param in downstreamTask.parameters():\n",
    "        param.requires_grad = False\n",
    "\n",
    "\n",
    "    training_iterator = dataset\n",
    "    \n",
    "    for epoch in range(0, epochs) :\n",
    "        mlp.train()\n",
    "        mlp_optimizer.zero_grad()\n",
    "\n",
    "        temperature = t0*((tT/t0) ** ((epoch+1)/epochs))\n",
    "        \n",
    "        #sampledEdges = 0.0\n",
    "        #sumSampledEdges = 0.0\n",
    "        \n",
    "        #samplePredSum = 0\n",
    "\n",
    "        for index, content in enumerate(training_iterator):\n",
    "            # stop training before last batch, used for evaluation\n",
    "            if index == len(training_iterator)-2: break\n",
    "            # stop training after first batch\n",
    "            #if index > 0: break\n",
    "            node_to_predict = None\n",
    "            if graph_task: \n",
    "                # !! current_problem is really a batch of problems !!\n",
    "                current_problem = content\n",
    "\n",
    "            # MLP forward\n",
    "            # TODO: Implement embeddingCalculation for SAT\n",
    "            w_ij, unique_clauses, inverse_indices = mlp.forward(downstreamTask, current_problem, nodeToPred=node_to_predict)\n",
    "\n",
    "            sampleLoss = torch.FloatTensor([0]).to(device)\n",
    "            loss = torch.FloatTensor([0]).to(device)\n",
    "            \n",
    "            pOriginal, _, _, _ = downstreamTask.forward(current_problem)\n",
    "            pOriginal = fn.softmax(pOriginal, dim=0)\n",
    "            \n",
    "            #pOriginal = torch.tensor([1 - pOriginal, pOriginal])\n",
    "            \n",
    "            for k in range(0, sampled_graphs):\n",
    "                edge_ij = mlp.sampleGraph(w_ij, unique_clauses, inverse_indices, temperature)\n",
    "            \n",
    "                # TODO: softmax needed for loss, beacuse negative values do not work with log! Need for normalization?\n",
    "                pSample, _, _, _ = downstreamTask.forward(current_problem, edge_weights=edge_ij)\n",
    "                pSample = fn.softmax(pSample, dim=0)\n",
    "                #pSample = torch.tensor([1 - pSample, pSample])\n",
    "                \n",
    "                if graph_task:\n",
    "                    \"\"\"for sub_problem_idx in range(len(current_problem.is_sat)):\n",
    "                        # batch_mask needed to differentiate sub_problems in batch of problems for loss\n",
    "                        # batch_edges cannot simply be divided since sub_problems have different number of edges/clauses\n",
    "                        # IMPORTANT: batch_size and n variables dependant on data!!\n",
    "                        batch_mask = utils.get_batch_mask(torch.tensor(current_problem.batch_edges), sub_problem_idx, opts['min_n'], current_problem.n_variables)\n",
    "                        #(pOriginal[sub_problem_idx] >= 0.5).int()\n",
    "                        currLoss = mlp.loss(pOriginal[sub_problem_idx], pSample[sub_problem_idx], edge_ij[batch_mask], current_problem.batch_edges[batch_mask], coefficient_size_reg, coefficient_entropy_reg, coefficientConsistency=coefficient_consistency)\n",
    "                        sampleLoss.add_(currLoss)\"\"\"\n",
    "                    currLoss = mlp.loss(pOriginal, pSample, edge_ij, current_problem.batch_edges, coefficient_size_reg, coefficient_entropy_reg, coefficientConsistency=coefficient_consistency, bce=True)\n",
    "                    sampleLoss.add_(currLoss)\n",
    "                    \n",
    "\n",
    "            loss += sampleLoss / sampled_graphs\n",
    "            \n",
    "            #sumSampledEdges += sampledEdges / sampled_graphs\n",
    "\n",
    "        #print(samplePredSum)\n",
    "        \n",
    "        loss = loss / len(training_iterator)\n",
    "        loss.backward()\n",
    "        \n",
    "        mlp_optimizer.step()\n",
    "\n",
    "        print(f\"Epoch {epoch+1}, Loss: {loss.item()}\")\n",
    "\n",
    "        torch.nn.utils.clip_grad_norm_(mlp.parameters(), max_norm=clip_grad_norm)\n",
    "        \n",
    "        \"\"\"for param in mlp.parameters():\n",
    "            if param.grad is not None:\n",
    "                param.grad.data = torch.max(param.grad.data, min_clip_value * torch.ones_like(param.grad.data))\"\"\"\n",
    "\n",
    "        mlp.eval()\n",
    "        \n",
    "        \"\"\"if graph_task:\n",
    "            #TODO: Evaluation for SAT! Needs gt\n",
    "            meanAuc = evaluation.evaluateNeuroSATAUC(mlp, downstreamTask, data)\"\"\"\n",
    "        \n",
    "        # Calculate weights and prediction for all sub_problems in eval_problem\n",
    "        w_ij_eval, unique_clauses_eval, inverse_indices_eval = mlp.forward(downstreamTask, eval_problem, nodeToPred=node_to_predict)\n",
    "        edge_ij_eval = mlp.sampleGraph(w_ij_eval, unique_clauses_eval, inverse_indices_eval, temperature).detach()\n",
    "        #pSample_eval, _, _, _ = downstreamTask.forward(eval_problem, edge_weights=edge_ij_eval)\n",
    "        #pOriginal_eval, _, _, _ = downstreamTask.forward(eval_problem)\n",
    "        \n",
    "        auroc_list = []\n",
    "        \n",
    "        for current_batch_num in range(len(eval_problem.is_sat)):\n",
    "            # This can be repeated for each sub_problem\n",
    "            clauses_current_problem = eval_problem.get_clauses_for_problem(current_batch_num)\n",
    "\n",
    "            #print(f\"Length of sub_problem 0: {len(clauses_current_problem)}\")\n",
    "            # Sub problem 1 Contains literals 11-20, ...\n",
    "            #print(f\"Sub_problem 0 clauses: {clauses_current_problem}\")\n",
    "            \n",
    "            # Calculate mask for current sub_problem in eval_problem\n",
    "            eval_batch_mask = utils.get_batch_mask(torch.tensor(eval_problem.batch_edges), batch_idx=current_batch_num, batch_size=opts['min_n'], n_variables=eval_problem.n_variables)\n",
    "            \n",
    "            # Edge probabilites for current sub problem in eval_problems\n",
    "            edge_ij_eval_masked = edge_ij_eval[eval_batch_mask]\n",
    "            \n",
    "            sub_problem_edges = eval_problem.batch_edges[eval_batch_mask]\n",
    "            \n",
    "            #motif_size = len(gt_mask)\n",
    "            \n",
    "            curr_auroc = binary_auroc(edge_ij_eval_masked, reals[current_batch_num])\n",
    "            auroc_list.append(curr_auroc.item())\n",
    "            \n",
    "        \n",
    "        auroc_tensor = torch.tensor(auroc_list)\n",
    "        mean_auroc = auroc_tensor.mean()\n",
    "        if epoch == epochs-1:\n",
    "            highest_auroc_index = torch.argmax(auroc_tensor)\n",
    "            highest_mask = utils.get_batch_mask(torch.tensor(eval_problem.batch_edges), batch_idx=highest_auroc_index, batch_size=opts['min_n'], n_variables=eval_problem.n_variables)\n",
    "            highest_auroc = auroc_tensor[highest_auroc_index]\n",
    "            highest_edge_ij = edge_ij_eval[highest_mask]\n",
    "            highest_gt = reals[highest_auroc_index]\n",
    "            sub_problem_edges_highest = eval_problem.batch_edges[highest_mask]\n",
    "            \n",
    "            lowest_auroc_index = torch.argmin(auroc_tensor)\n",
    "            lowest_mask = utils.get_batch_mask(torch.tensor(eval_problem.batch_edges), batch_idx=lowest_auroc_index, batch_size=opts['min_n'], n_variables=eval_problem.n_variables)\n",
    "            lowest_auroc = auroc_tensor[lowest_auroc_index]\n",
    "            lowest_edge_ij = edge_ij_eval[lowest_mask]\n",
    "            lowest_gt = reals[lowest_auroc_index]\n",
    "            sub_problem_edges_lowest = eval_problem.batch_edges[lowest_mask]\n",
    "                \n",
    "        weights_eval_masked = w_ij_eval[eval_batch_mask]\n",
    "        print(f\"Edge weights for last sub_problem in last problem batch: {weights_eval_masked}\")\n",
    "        \n",
    "        print(f\"Edge probabilites for last sub_problem in last problem batch: {edge_ij_eval_masked}\")\n",
    "        \n",
    "        #print(f\"Prediction for sub_problem: {pOriginal_eval[0]}\")\n",
    "        #print(f\"Prediction for sampled sub_problem: {pSample_eval[0]}\")\n",
    "        \n",
    "        print(f\"mean auroc score: {mean_auroc}\")\n",
    "    \n",
    "\n",
    "        # TODO: VISUALIZE TOPK!\n",
    "        # print sub_problem 0 with calculated edge weights\n",
    "        if (epoch+1) % 5 == 0:\n",
    "            pos = utils.visualize_edge_index_interactive(sub_problem_edges, edge_ij_eval_masked, f\"results/replication/seed{runSeed}_vis_edge_ij_{epoch+1}\", topK=len(gt_edges_per_problem[-1]))\n",
    "        \n",
    "        \n",
    "        #sumSampledEdges = sumSampledEdges / len(training_iterator)\n",
    "        #, \"val/mean_AUC\": meanAuc\n",
    "        wandb.log({\"train/Loss\": loss, \"val/temperature\": temperature, \"val/auroc\": mean_auroc})\n",
    "\n",
    "        \"\"\"for name, param in mlp.named_parameters():\n",
    "            if param.requires_grad:\n",
    "                print(f\"{name}: {param.grad}\")\"\"\"\n",
    "        \n",
    "    # print sub_problem 0 with calculated edge weights\n",
    "    pos = utils.visualize_edge_index_interactive(sub_problem_edges, edge_ij_eval_masked, f\"results/replication/seed{runSeed}_vis_edge_ij_{epoch+1}\", topK=len(gt_edges_per_problem[-1]))\n",
    "    # print sub_problem 0 with gt\n",
    "    pos = utils.visualize_edge_index_interactive(sub_problem_edges, reals[-1], f\"results/replication/seed{runSeed}_vis_gt\", pos)\n",
    "    \n",
    "    # TODO: Show difference between topK edges and gt edges -> logical and on topK and gt, visualize\n",
    "    \n",
    "    sorted_weights, topk_indices_highest = torch.topk(highest_edge_ij, len(gt_edges_per_problem[highest_auroc_index]))\n",
    "    mask_topK_highest = torch.zeros_like(highest_edge_ij, dtype=torch.float32)\n",
    "    mask_topK_highest[topk_indices_highest] = 1\n",
    "    \n",
    "    common_edges_highest = torch.logical_and(highest_gt, mask_topK_highest.flatten())\n",
    "    print(f\"Highest individual auroc: {highest_auroc}\")\n",
    "    pos = utils.visualize_edge_index_interactive(sub_problem_edges_highest, highest_edge_ij, f\"results/replication/seed{runSeed}_highestAUC\", topK=len(gt_edges_per_problem[highest_auroc_index]))\n",
    "    pos = utils.visualize_edge_index_interactive(sub_problem_edges_highest, highest_gt, f\"results/replication/seed{runSeed}_highestAUC_gt\")\n",
    "    pos = utils.visualize_edge_index_interactive(sub_problem_edges_highest, common_edges_highest, f\"results/replication/seed{runSeed}_highestAUC_commonEdges\")\n",
    "    \n",
    "    # TO EVALUATE SATISFIABILITY OF EXPLANATION:\n",
    "    print(f\"Highest AUC example masked edges: {sub_problem_edges_highest[mask_topK_highest.bool()]}\")\n",
    "    \n",
    "    # Group literals by clause number\n",
    "    clause_dict = defaultdict(list)\n",
    "\n",
    "    for literal, clause in sub_problem_edges_highest[mask_topK_highest.bool()]:\n",
    "        literal = int(literal)\n",
    "        clause = int(clause)\n",
    "        if literal >= eval_problem.n_variables:\n",
    "            literal = -(literal - eval_problem.n_variables)\n",
    "        clause_dict[clause].append(literal)\n",
    "\n",
    "    # Convert to list of clauses (optional: sort by clause number)\n",
    "    clauses = list(clause_dict.values())\n",
    "    \n",
    "    print(clauses)\n",
    "    \n",
    "    \n",
    "    sorted_weights, topk_indices_lowest = torch.topk(lowest_edge_ij, len(gt_edges_per_problem[lowest_auroc_index]))\n",
    "    mask_topK_lowest = torch.zeros_like(lowest_edge_ij, dtype=torch.float32)\n",
    "    mask_topK_lowest[topk_indices_lowest] = 1\n",
    "    \n",
    "    common_edges_lowest = torch.logical_and(lowest_gt, mask_topK_lowest.flatten())\n",
    "    print(f\"Lowest individual auroc: {lowest_auroc}\")\n",
    "    pos = utils.visualize_edge_index_interactive(sub_problem_edges_lowest, lowest_edge_ij, f\"results/replication/seed{runSeed}_lowestAUC\", topK=len(gt_edges_per_problem[lowest_auroc_index]))\n",
    "    pos = utils.visualize_edge_index_interactive(sub_problem_edges_lowest, lowest_gt, f\"results/replication/seed{runSeed}_lowestAUC_gt\")\n",
    "    pos = utils.visualize_edge_index_interactive(sub_problem_edges_lowest, common_edges_lowest, f\"results/replication/seed{runSeed}_lowestAUC_commonEdges\")\n",
    "    \n",
    "        \n",
    "    #if save_model == \"True\":\n",
    "    #    torch.save(mlp.state_dict(), f\"models/explainer_{dataset}_{meanAuc}_{wandb.run.name}\")\n",
    "\n",
    "    wandb.finish()\n",
    "    \n",
    "    return mlp, downstreamTask"
   ]
  },
  {
   "cell_type": "code",
   "execution_count": 4,
   "metadata": {},
   "outputs": [],
   "source": [
    "datasetName=\"NeuroSAT\""
   ]
  },
  {
   "cell_type": "code",
   "execution_count": 5,
   "metadata": {},
   "outputs": [
    {
     "name": "stderr",
     "output_type": "stream",
     "text": [
      "\u001b[34m\u001b[1mwandb\u001b[0m: Using wandb-core as the SDK backend.  Please refer to https://wandb.me/wandb-core for more information.\n",
      "\u001b[34m\u001b[1mwandb\u001b[0m: Currently logged in as: \u001b[33mtristan-schulz2001\u001b[0m (\u001b[33mtristan-schulz2001-tu-dortmund\u001b[0m) to \u001b[32mhttps://api.wandb.ai\u001b[0m. Use \u001b[1m`wandb login --relogin`\u001b[0m to force relogin\n"
     ]
    },
    {
     "data": {
      "text/html": [
       "Tracking run with wandb version 0.19.8"
      ],
      "text/plain": [
       "<IPython.core.display.HTML object>"
      ]
     },
     "metadata": {},
     "output_type": "display_data"
    },
    {
     "data": {
      "text/html": [
       "Run data is saved locally in <code>c:\\Users\\trist\\Git_repos\\BT-ML-PGESAT\\code\\PGExplainer NeuroSAT\\wandb\\run-20250413_125539-omuubilv</code>"
      ],
      "text/plain": [
       "<IPython.core.display.HTML object>"
      ]
     },
     "metadata": {},
     "output_type": "display_data"
    },
    {
     "data": {
      "text/html": [
       "Syncing run <strong><a href='https://wandb.ai/tristan-schulz2001-tu-dortmund/NeuroSAT-HARD-CONSTRAINT-HARD-SAMPLING/runs/omuubilv' target=\"_blank\">grateful-microwave-18</a></strong> to <a href='https://wandb.ai/tristan-schulz2001-tu-dortmund/NeuroSAT-HARD-CONSTRAINT-HARD-SAMPLING' target=\"_blank\">Weights & Biases</a> (<a href='https://wandb.me/developer-guide' target=\"_blank\">docs</a>)<br>"
      ],
      "text/plain": [
       "<IPython.core.display.HTML object>"
      ]
     },
     "metadata": {},
     "output_type": "display_data"
    },
    {
     "data": {
      "text/html": [
       " View project at <a href='https://wandb.ai/tristan-schulz2001-tu-dortmund/NeuroSAT-HARD-CONSTRAINT-HARD-SAMPLING' target=\"_blank\">https://wandb.ai/tristan-schulz2001-tu-dortmund/NeuroSAT-HARD-CONSTRAINT-HARD-SAMPLING</a>"
      ],
      "text/plain": [
       "<IPython.core.display.HTML object>"
      ]
     },
     "metadata": {},
     "output_type": "display_data"
    },
    {
     "data": {
      "text/html": [
       " View run at <a href='https://wandb.ai/tristan-schulz2001-tu-dortmund/NeuroSAT-HARD-CONSTRAINT-HARD-SAMPLING/runs/omuubilv' target=\"_blank\">https://wandb.ai/tristan-schulz2001-tu-dortmund/NeuroSAT-HARD-CONSTRAINT-HARD-SAMPLING/runs/omuubilv</a>"
      ],
      "text/plain": [
       "<IPython.core.display.HTML object>"
      ]
     },
     "metadata": {},
     "output_type": "display_data"
    },
    {
     "name": "stdout",
     "output_type": "stream",
     "text": [
      "Epoch 1, Loss: 1.7834055423736572\n",
      "Edge weights for last sub_problem in last problem batch: tensor([-0.0227, -0.0227, -0.0227, -0.0691, -0.0691, -0.0691, -0.0691, -0.0691,\n",
      "        -0.0246, -0.0246, -0.0246, -0.0246, -0.0246, -0.0525, -0.0525, -0.0525,\n",
      "        -0.0525, -0.0347, -0.0347, -0.0347, -0.0442, -0.0442, -0.0442, -0.0442,\n",
      "        -0.0442, -0.0442, -0.0442, -0.0442, -0.0274, -0.0274, -0.0274, -0.0274,\n",
      "        -0.0512, -0.0512, -0.0512, -0.0512, -0.0472, -0.0472, -0.0472, -0.0264,\n",
      "        -0.0264, -0.0264, -0.0465, -0.0465, -0.0465, -0.0547, -0.0547, -0.0547,\n",
      "        -0.0547, -0.0547, -0.0547, -0.0547, -0.0331, -0.0331, -0.0331, -0.0331,\n",
      "         0.0011,  0.0011, -0.0474, -0.0474, -0.0474, -0.0488, -0.0488, -0.0488,\n",
      "        -0.0488, -0.0488, -0.0587, -0.0587, -0.0587, -0.0587, -0.0587, -0.0587,\n",
      "        -0.0545, -0.0545, -0.0545, -0.0545, -0.0453, -0.0453, -0.0453, -0.0453,\n",
      "        -0.0453, -0.0453, -0.0453, -0.0441, -0.0441, -0.0441, -0.0441, -0.0441,\n",
      "        -0.0441, -0.0264, -0.0264, -0.0264, -0.0264, -0.0264, -0.0569, -0.0569,\n",
      "        -0.0569, -0.0569, -0.0492, -0.0492, -0.0492, -0.0492, -0.0432, -0.0432,\n",
      "        -0.0432, -0.0432, -0.0432, -0.0432, -0.0432, -0.0432, -0.0367, -0.0367,\n",
      "        -0.0367, -0.0367, -0.0151, -0.0151, -0.0151, -0.0482, -0.0482, -0.0482,\n",
      "        -0.0181, -0.0181, -0.0447, -0.0447, -0.0447, -0.0357, -0.0357, -0.0357,\n",
      "        -0.0620, -0.0620, -0.0620, -0.0620, -0.0620, -0.0620, -0.0620, -0.0342,\n",
      "        -0.0342, -0.0342], grad_fn=<IndexBackward0>)\n",
      "Edge probabilites for last sub_problem in last problem batch: tensor([0.4943, 0.4943, 0.4943, 0.4827, 0.4827, 0.4827, 0.4827, 0.4827, 0.4938,\n",
      "        0.4938, 0.4938, 0.4938, 0.4938, 0.4869, 0.4869, 0.4869, 0.4869, 0.4913,\n",
      "        0.4913, 0.4913, 0.4890, 0.4890, 0.4890, 0.4890, 0.4890, 0.4890, 0.4890,\n",
      "        0.4890, 0.4932, 0.4932, 0.4932, 0.4932, 0.4872, 0.4872, 0.4872, 0.4872,\n",
      "        0.4882, 0.4882, 0.4882, 0.4934, 0.4934, 0.4934, 0.4884, 0.4884, 0.4884,\n",
      "        0.4863, 0.4863, 0.4863, 0.4863, 0.4863, 0.4863, 0.4863, 0.4917, 0.4917,\n",
      "        0.4917, 0.4917, 0.5003, 0.5003, 0.4882, 0.4882, 0.4882, 0.4878, 0.4878,\n",
      "        0.4878, 0.4878, 0.4878, 0.4853, 0.4853, 0.4853, 0.4853, 0.4853, 0.4853,\n",
      "        0.4864, 0.4864, 0.4864, 0.4864, 0.4887, 0.4887, 0.4887, 0.4887, 0.4887,\n",
      "        0.4887, 0.4887, 0.4890, 0.4890, 0.4890, 0.4890, 0.4890, 0.4890, 0.4934,\n",
      "        0.4934, 0.4934, 0.4934, 0.4934, 0.4858, 0.4858, 0.4858, 0.4858, 0.4877,\n",
      "        0.4877, 0.4877, 0.4877, 0.4892, 0.4892, 0.4892, 0.4892, 0.4892, 0.4892,\n",
      "        0.4892, 0.4892, 0.4908, 0.4908, 0.4908, 0.4908, 0.4962, 0.4962, 0.4962,\n",
      "        0.4880, 0.4880, 0.4880, 0.4955, 0.4955, 0.4888, 0.4888, 0.4888, 0.4911,\n",
      "        0.4911, 0.4911, 0.4845, 0.4845, 0.4845, 0.4845, 0.4845, 0.4845, 0.4845,\n",
      "        0.4915, 0.4915, 0.4915])\n",
      "mean auroc score: 0.47649675607681274\n",
      "Epoch 2, Loss: 1.7723697423934937\n",
      "Edge weights for last sub_problem in last problem batch: tensor([-0.1307, -0.1307, -0.1307, -0.1857, -0.1857, -0.1857, -0.1857, -0.1857,\n",
      "        -0.1476, -0.1476, -0.1476, -0.1476, -0.1476, -0.1717, -0.1717, -0.1717,\n",
      "        -0.1717, -0.1527, -0.1527, -0.1527, -0.1824, -0.1824, -0.1824, -0.1824,\n",
      "        -0.1824, -0.1824, -0.1824, -0.1824, -0.1525, -0.1525, -0.1525, -0.1525,\n",
      "        -0.1650, -0.1650, -0.1650, -0.1650, -0.1587, -0.1587, -0.1587, -0.1150,\n",
      "        -0.1150, -0.1150, -0.1562, -0.1562, -0.1562, -0.1860, -0.1860, -0.1860,\n",
      "        -0.1860, -0.1860, -0.1860, -0.1860, -0.1499, -0.1499, -0.1499, -0.1499,\n",
      "        -0.1032, -0.1032, -0.1696, -0.1696, -0.1696, -0.1664, -0.1664, -0.1664,\n",
      "        -0.1664, -0.1664, -0.1772, -0.1772, -0.1772, -0.1772, -0.1772, -0.1772,\n",
      "        -0.1653, -0.1653, -0.1653, -0.1653, -0.1791, -0.1791, -0.1791, -0.1791,\n",
      "        -0.1791, -0.1791, -0.1791, -0.1651, -0.1651, -0.1651, -0.1651, -0.1651,\n",
      "        -0.1651, -0.1549, -0.1549, -0.1549, -0.1549, -0.1549, -0.1671, -0.1671,\n",
      "        -0.1671, -0.1671, -0.1665, -0.1665, -0.1665, -0.1665, -0.1859, -0.1859,\n",
      "        -0.1859, -0.1859, -0.1859, -0.1859, -0.1859, -0.1859, -0.1622, -0.1622,\n",
      "        -0.1622, -0.1622, -0.1319, -0.1319, -0.1319, -0.1639, -0.1639, -0.1639,\n",
      "        -0.1337, -0.1337, -0.1509, -0.1509, -0.1509, -0.1504, -0.1504, -0.1504,\n",
      "        -0.1763, -0.1763, -0.1763, -0.1763, -0.1763, -0.1763, -0.1763, -0.1495,\n",
      "        -0.1495, -0.1495], grad_fn=<IndexBackward0>)\n",
      "Edge probabilites for last sub_problem in last problem batch: tensor([0.4674, 0.4674, 0.4674, 0.4537, 0.4537, 0.4537, 0.4537, 0.4537, 0.4632,\n",
      "        0.4632, 0.4632, 0.4632, 0.4632, 0.4572, 0.4572, 0.4572, 0.4572, 0.4619,\n",
      "        0.4619, 0.4619, 0.4545, 0.4545, 0.4545, 0.4545, 0.4545, 0.4545, 0.4545,\n",
      "        0.4545, 0.4620, 0.4620, 0.4620, 0.4620, 0.4588, 0.4588, 0.4588, 0.4588,\n",
      "        0.4604, 0.4604, 0.4604, 0.4713, 0.4713, 0.4713, 0.4610, 0.4610, 0.4610,\n",
      "        0.4536, 0.4536, 0.4536, 0.4536, 0.4536, 0.4536, 0.4536, 0.4626, 0.4626,\n",
      "        0.4626, 0.4626, 0.4742, 0.4742, 0.4577, 0.4577, 0.4577, 0.4585, 0.4585,\n",
      "        0.4585, 0.4585, 0.4585, 0.4558, 0.4558, 0.4558, 0.4558, 0.4558, 0.4558,\n",
      "        0.4588, 0.4588, 0.4588, 0.4588, 0.4553, 0.4553, 0.4553, 0.4553, 0.4553,\n",
      "        0.4553, 0.4553, 0.4588, 0.4588, 0.4588, 0.4588, 0.4588, 0.4588, 0.4614,\n",
      "        0.4614, 0.4614, 0.4614, 0.4614, 0.4583, 0.4583, 0.4583, 0.4583, 0.4585,\n",
      "        0.4585, 0.4585, 0.4585, 0.4537, 0.4537, 0.4537, 0.4537, 0.4537, 0.4537,\n",
      "        0.4537, 0.4537, 0.4595, 0.4595, 0.4595, 0.4595, 0.4671, 0.4671, 0.4671,\n",
      "        0.4591, 0.4591, 0.4591, 0.4666, 0.4666, 0.4623, 0.4623, 0.4623, 0.4625,\n",
      "        0.4625, 0.4625, 0.4560, 0.4560, 0.4560, 0.4560, 0.4560, 0.4560, 0.4560,\n",
      "        0.4627, 0.4627, 0.4627])\n",
      "mean auroc score: 0.4935050308704376\n",
      "Epoch 3, Loss: 1.7595306634902954\n",
      "Edge weights for last sub_problem in last problem batch: tensor([-0.2205, -0.2205, -0.2205, -0.2847, -0.2847, -0.2847, -0.2847, -0.2847,\n",
      "        -0.2555, -0.2555, -0.2555, -0.2555, -0.2555, -0.2641, -0.2641, -0.2641,\n",
      "        -0.2641, -0.2443, -0.2443, -0.2443, -0.3012, -0.3012, -0.3012, -0.3012,\n",
      "        -0.3012, -0.3012, -0.3012, -0.3012, -0.2560, -0.2560, -0.2560, -0.2560,\n",
      "        -0.2613, -0.2613, -0.2613, -0.2613, -0.2578, -0.2578, -0.2578, -0.2070,\n",
      "        -0.2070, -0.2070, -0.2404, -0.2404, -0.2404, -0.2959, -0.2959, -0.2959,\n",
      "        -0.2959, -0.2959, -0.2959, -0.2959, -0.2472, -0.2472, -0.2472, -0.2472,\n",
      "        -0.2020, -0.2020, -0.2633, -0.2633, -0.2633, -0.2688, -0.2688, -0.2688,\n",
      "        -0.2688, -0.2688, -0.2802, -0.2802, -0.2802, -0.2802, -0.2802, -0.2802,\n",
      "        -0.2677, -0.2677, -0.2677, -0.2677, -0.2896, -0.2896, -0.2896, -0.2896,\n",
      "        -0.2896, -0.2896, -0.2896, -0.2768, -0.2768, -0.2768, -0.2768, -0.2768,\n",
      "        -0.2768, -0.2628, -0.2628, -0.2628, -0.2628, -0.2628, -0.2631, -0.2631,\n",
      "        -0.2631, -0.2631, -0.2630, -0.2630, -0.2630, -0.2630, -0.3101, -0.3101,\n",
      "        -0.3101, -0.3101, -0.3101, -0.3101, -0.3101, -0.3101, -0.2632, -0.2632,\n",
      "        -0.2632, -0.2632, -0.2294, -0.2294, -0.2294, -0.2557, -0.2557, -0.2557,\n",
      "        -0.2143, -0.2143, -0.2364, -0.2364, -0.2364, -0.2566, -0.2566, -0.2566,\n",
      "        -0.2814, -0.2814, -0.2814, -0.2814, -0.2814, -0.2814, -0.2814, -0.2534,\n",
      "        -0.2534, -0.2534], grad_fn=<IndexBackward0>)\n",
      "Edge probabilites for last sub_problem in last problem batch: tensor([0.4451, 0.4451, 0.4451, 0.4293, 0.4293, 0.4293, 0.4293, 0.4293, 0.4365,\n",
      "        0.4365, 0.4365, 0.4365, 0.4365, 0.4344, 0.4344, 0.4344, 0.4344, 0.4392,\n",
      "        0.4392, 0.4392, 0.4253, 0.4253, 0.4253, 0.4253, 0.4253, 0.4253, 0.4253,\n",
      "        0.4253, 0.4363, 0.4363, 0.4363, 0.4363, 0.4350, 0.4350, 0.4350, 0.4350,\n",
      "        0.4359, 0.4359, 0.4359, 0.4484, 0.4484, 0.4484, 0.4402, 0.4402, 0.4402,\n",
      "        0.4266, 0.4266, 0.4266, 0.4266, 0.4266, 0.4266, 0.4266, 0.4385, 0.4385,\n",
      "        0.4385, 0.4385, 0.4497, 0.4497, 0.4346, 0.4346, 0.4346, 0.4332, 0.4332,\n",
      "        0.4332, 0.4332, 0.4332, 0.4304, 0.4304, 0.4304, 0.4304, 0.4304, 0.4304,\n",
      "        0.4335, 0.4335, 0.4335, 0.4335, 0.4281, 0.4281, 0.4281, 0.4281, 0.4281,\n",
      "        0.4281, 0.4281, 0.4312, 0.4312, 0.4312, 0.4312, 0.4312, 0.4312, 0.4347,\n",
      "        0.4347, 0.4347, 0.4347, 0.4347, 0.4346, 0.4346, 0.4346, 0.4346, 0.4346,\n",
      "        0.4346, 0.4346, 0.4346, 0.4231, 0.4231, 0.4231, 0.4231, 0.4231, 0.4231,\n",
      "        0.4231, 0.4231, 0.4346, 0.4346, 0.4346, 0.4346, 0.4429, 0.4429, 0.4429,\n",
      "        0.4364, 0.4364, 0.4364, 0.4466, 0.4466, 0.4412, 0.4412, 0.4412, 0.4362,\n",
      "        0.4362, 0.4362, 0.4301, 0.4301, 0.4301, 0.4301, 0.4301, 0.4301, 0.4301,\n",
      "        0.4370, 0.4370, 0.4370])\n",
      "mean auroc score: 0.5182042121887207\n",
      "Epoch 4, Loss: 1.7451045513153076\n",
      "Edge weights for last sub_problem in last problem batch: tensor([-0.2990, -0.2990, -0.2990, -0.3666, -0.3666, -0.3666, -0.3666, -0.3666,\n",
      "        -0.3472, -0.3472, -0.3472, -0.3472, -0.3472, -0.3426, -0.3426, -0.3426,\n",
      "        -0.3426, -0.3212, -0.3212, -0.3212, -0.4028, -0.4028, -0.4028, -0.4028,\n",
      "        -0.4028, -0.4028, -0.4028, -0.4028, -0.3517, -0.3517, -0.3517, -0.3517,\n",
      "        -0.3464, -0.3464, -0.3464, -0.3464, -0.3441, -0.3441, -0.3441, -0.2828,\n",
      "        -0.2828, -0.2828, -0.3122, -0.3122, -0.3122, -0.3895, -0.3895, -0.3895,\n",
      "        -0.3895, -0.3895, -0.3895, -0.3895, -0.3348, -0.3348, -0.3348, -0.3348,\n",
      "        -0.2859, -0.2859, -0.3385, -0.3385, -0.3385, -0.3569, -0.3569, -0.3569,\n",
      "        -0.3569, -0.3569, -0.3691, -0.3691, -0.3691, -0.3691, -0.3691, -0.3691,\n",
      "        -0.3552, -0.3552, -0.3552, -0.3552, -0.3862, -0.3862, -0.3862, -0.3862,\n",
      "        -0.3862, -0.3862, -0.3862, -0.3723, -0.3723, -0.3723, -0.3723, -0.3723,\n",
      "        -0.3723, -0.3596, -0.3596, -0.3596, -0.3596, -0.3596, -0.3460, -0.3460,\n",
      "        -0.3460, -0.3460, -0.3552, -0.3552, -0.3552, -0.3552, -0.4168, -0.4168,\n",
      "        -0.4168, -0.4168, -0.4168, -0.4168, -0.4168, -0.4168, -0.3525, -0.3525,\n",
      "        -0.3525, -0.3525, -0.3114, -0.3114, -0.3114, -0.3321, -0.3321, -0.3321,\n",
      "        -0.2718, -0.2718, -0.3085, -0.3085, -0.3085, -0.3527, -0.3527, -0.3527,\n",
      "        -0.3701, -0.3701, -0.3701, -0.3701, -0.3701, -0.3701, -0.3701, -0.3485,\n",
      "        -0.3485, -0.3485], grad_fn=<IndexBackward0>)\n",
      "Edge probabilites for last sub_problem in last problem batch: tensor([0.4258, 0.4258, 0.4258, 0.4094, 0.4094, 0.4094, 0.4094, 0.4094, 0.4141,\n",
      "        0.4141, 0.4141, 0.4141, 0.4141, 0.4152, 0.4152, 0.4152, 0.4152, 0.4204,\n",
      "        0.4204, 0.4204, 0.4006, 0.4006, 0.4006, 0.4006, 0.4006, 0.4006, 0.4006,\n",
      "        0.4006, 0.4130, 0.4130, 0.4130, 0.4130, 0.4143, 0.4143, 0.4143, 0.4143,\n",
      "        0.4148, 0.4148, 0.4148, 0.4298, 0.4298, 0.4298, 0.4226, 0.4226, 0.4226,\n",
      "        0.4038, 0.4038, 0.4038, 0.4038, 0.4038, 0.4038, 0.4038, 0.4171, 0.4171,\n",
      "        0.4171, 0.4171, 0.4290, 0.4290, 0.4162, 0.4162, 0.4162, 0.4117, 0.4117,\n",
      "        0.4117, 0.4117, 0.4117, 0.4088, 0.4088, 0.4088, 0.4088, 0.4088, 0.4088,\n",
      "        0.4121, 0.4121, 0.4121, 0.4121, 0.4046, 0.4046, 0.4046, 0.4046, 0.4046,\n",
      "        0.4046, 0.4046, 0.4080, 0.4080, 0.4080, 0.4080, 0.4080, 0.4080, 0.4111,\n",
      "        0.4111, 0.4111, 0.4111, 0.4111, 0.4143, 0.4143, 0.4143, 0.4143, 0.4121,\n",
      "        0.4121, 0.4121, 0.4121, 0.3973, 0.3973, 0.3973, 0.3973, 0.3973, 0.3973,\n",
      "        0.3973, 0.3973, 0.4128, 0.4128, 0.4128, 0.4128, 0.4228, 0.4228, 0.4228,\n",
      "        0.4177, 0.4177, 0.4177, 0.4325, 0.4325, 0.4235, 0.4235, 0.4235, 0.4127,\n",
      "        0.4127, 0.4127, 0.4085, 0.4085, 0.4085, 0.4085, 0.4085, 0.4085, 0.4085,\n",
      "        0.4137, 0.4137, 0.4137])\n",
      "mean auroc score: 0.5188210606575012\n",
      "Epoch 5, Loss: 1.7329719066619873\n",
      "Edge weights for last sub_problem in last problem batch: tensor([-0.3771, -0.3771, -0.3771, -0.4505, -0.4505, -0.4505, -0.4505, -0.4505,\n",
      "        -0.4323, -0.4323, -0.4323, -0.4323, -0.4323, -0.4243, -0.4243, -0.4243,\n",
      "        -0.4243, -0.4013, -0.4013, -0.4013, -0.4955, -0.4955, -0.4955, -0.4955,\n",
      "        -0.4955, -0.4955, -0.4955, -0.4955, -0.4409, -0.4409, -0.4409, -0.4409,\n",
      "        -0.4310, -0.4310, -0.4310, -0.4310, -0.4292, -0.4292, -0.4292, -0.3496,\n",
      "        -0.3496, -0.3496, -0.3909, -0.3909, -0.3909, -0.4799, -0.4799, -0.4799,\n",
      "        -0.4799, -0.4799, -0.4799, -0.4799, -0.4194, -0.4194, -0.4194, -0.4194,\n",
      "        -0.3656, -0.3656, -0.4208, -0.4208, -0.4208, -0.4396, -0.4396, -0.4396,\n",
      "        -0.4396, -0.4396, -0.4540, -0.4540, -0.4540, -0.4540, -0.4540, -0.4540,\n",
      "        -0.4362, -0.4362, -0.4362, -0.4362, -0.4770, -0.4770, -0.4770, -0.4770,\n",
      "        -0.4770, -0.4770, -0.4770, -0.4601, -0.4601, -0.4601, -0.4601, -0.4601,\n",
      "        -0.4601, -0.4495, -0.4495, -0.4495, -0.4495, -0.4495, -0.4296, -0.4296,\n",
      "        -0.4296, -0.4296, -0.4450, -0.4450, -0.4450, -0.4450, -0.5122, -0.5122,\n",
      "        -0.5122, -0.5122, -0.5122, -0.5122, -0.5122, -0.5122, -0.4418, -0.4418,\n",
      "        -0.4418, -0.4418, -0.3920, -0.3920, -0.3920, -0.4118, -0.4118, -0.4118,\n",
      "        -0.3436, -0.3436, -0.3818, -0.3818, -0.3818, -0.4512, -0.4512, -0.4512,\n",
      "        -0.4544, -0.4544, -0.4544, -0.4544, -0.4544, -0.4544, -0.4544, -0.4391,\n",
      "        -0.4391, -0.4391], grad_fn=<IndexBackward0>)\n",
      "Edge probabilites for last sub_problem in last problem batch: tensor([0.4068, 0.4068, 0.4068, 0.3892, 0.3892, 0.3892, 0.3892, 0.3892, 0.3936,\n",
      "        0.3936, 0.3936, 0.3936, 0.3936, 0.3955, 0.3955, 0.3955, 0.3955, 0.4010,\n",
      "        0.4010, 0.4010, 0.3786, 0.3786, 0.3786, 0.3786, 0.3786, 0.3786, 0.3786,\n",
      "        0.3786, 0.3915, 0.3915, 0.3915, 0.3915, 0.3939, 0.3939, 0.3939, 0.3939,\n",
      "        0.3943, 0.3943, 0.3943, 0.4135, 0.4135, 0.4135, 0.4035, 0.4035, 0.4035,\n",
      "        0.3823, 0.3823, 0.3823, 0.3823, 0.3823, 0.3823, 0.3823, 0.3966, 0.3966,\n",
      "        0.3966, 0.3966, 0.4096, 0.4096, 0.3963, 0.3963, 0.3963, 0.3918, 0.3918,\n",
      "        0.3918, 0.3918, 0.3918, 0.3884, 0.3884, 0.3884, 0.3884, 0.3884, 0.3884,\n",
      "        0.3927, 0.3927, 0.3927, 0.3927, 0.3830, 0.3830, 0.3830, 0.3830, 0.3830,\n",
      "        0.3830, 0.3830, 0.3870, 0.3870, 0.3870, 0.3870, 0.3870, 0.3870, 0.3895,\n",
      "        0.3895, 0.3895, 0.3895, 0.3895, 0.3942, 0.3942, 0.3942, 0.3942, 0.3906,\n",
      "        0.3906, 0.3906, 0.3906, 0.3747, 0.3747, 0.3747, 0.3747, 0.3747, 0.3747,\n",
      "        0.3747, 0.3747, 0.3913, 0.3913, 0.3913, 0.3913, 0.4032, 0.4032, 0.4032,\n",
      "        0.3985, 0.3985, 0.3985, 0.4149, 0.4149, 0.4057, 0.4057, 0.4057, 0.3891,\n",
      "        0.3891, 0.3891, 0.3883, 0.3883, 0.3883, 0.3883, 0.3883, 0.3883, 0.3883,\n",
      "        0.3920, 0.3920, 0.3920])\n",
      "mean auroc score: 0.5271376967430115\n",
      "Warning: When  cdn_resources is 'local' jupyter notebook has issues displaying graphics on chrome/safari. Use cdn_resources='in_line' or cdn_resources='remote' if you have issues viewing graphics in a notebook.\n",
      "results/replication/seed0_vis_edge_ij_5.html\n",
      "Visualization saved as results/replication/seed0_vis_edge_ij_5.html. Open it in your browser.\n",
      "Epoch 6, Loss: 1.7188835144042969\n",
      "Edge weights for last sub_problem in last problem batch: tensor([-0.4524, -0.4524, -0.4524, -0.5412, -0.5412, -0.5412, -0.5412, -0.5412,\n",
      "        -0.5212, -0.5212, -0.5212, -0.5212, -0.5212, -0.5162, -0.5162, -0.5162,\n",
      "        -0.5162, -0.4926, -0.4926, -0.4926, -0.5871, -0.5871, -0.5871, -0.5871,\n",
      "        -0.5871, -0.5871, -0.5871, -0.5871, -0.5358, -0.5358, -0.5358, -0.5358,\n",
      "        -0.5155, -0.5155, -0.5155, -0.5155, -0.5128, -0.5128, -0.5128, -0.4219,\n",
      "        -0.4219, -0.4219, -0.4726, -0.4726, -0.4726, -0.5679, -0.5679, -0.5679,\n",
      "        -0.5679, -0.5679, -0.5679, -0.5679, -0.5068, -0.5068, -0.5068, -0.5068,\n",
      "        -0.4545, -0.4545, -0.5213, -0.5213, -0.5213, -0.5235, -0.5235, -0.5235,\n",
      "        -0.5235, -0.5235, -0.5390, -0.5390, -0.5390, -0.5390, -0.5390, -0.5390,\n",
      "        -0.5241, -0.5241, -0.5241, -0.5241, -0.5677, -0.5677, -0.5677, -0.5677,\n",
      "        -0.5677, -0.5677, -0.5677, -0.5490, -0.5490, -0.5490, -0.5490, -0.5490,\n",
      "        -0.5490, -0.5421, -0.5421, -0.5421, -0.5421, -0.5421, -0.5155, -0.5155,\n",
      "        -0.5155, -0.5155, -0.5352, -0.5352, -0.5352, -0.5352, -0.6098, -0.6098,\n",
      "        -0.6098, -0.6098, -0.6098, -0.6098, -0.6098, -0.6098, -0.5395, -0.5395,\n",
      "        -0.5395, -0.5395, -0.4838, -0.4838, -0.4838, -0.5066, -0.5066, -0.5066,\n",
      "        -0.4219, -0.4219, -0.4587, -0.4587, -0.4587, -0.5501, -0.5501, -0.5501,\n",
      "        -0.5388, -0.5388, -0.5388, -0.5388, -0.5388, -0.5388, -0.5388, -0.5313,\n",
      "        -0.5313, -0.5313], grad_fn=<IndexBackward0>)\n",
      "Edge probabilites for last sub_problem in last problem batch: tensor([0.3888, 0.3888, 0.3888, 0.3679, 0.3679, 0.3679, 0.3679, 0.3679, 0.3726,\n",
      "        0.3726, 0.3726, 0.3726, 0.3726, 0.3737, 0.3737, 0.3737, 0.3737, 0.3793,\n",
      "        0.3793, 0.3793, 0.3573, 0.3573, 0.3573, 0.3573, 0.3573, 0.3573, 0.3573,\n",
      "        0.3573, 0.3692, 0.3692, 0.3692, 0.3692, 0.3739, 0.3739, 0.3739, 0.3739,\n",
      "        0.3745, 0.3745, 0.3745, 0.3961, 0.3961, 0.3961, 0.3840, 0.3840, 0.3840,\n",
      "        0.3617, 0.3617, 0.3617, 0.3617, 0.3617, 0.3617, 0.3617, 0.3759, 0.3759,\n",
      "        0.3759, 0.3759, 0.3883, 0.3883, 0.3725, 0.3725, 0.3725, 0.3720, 0.3720,\n",
      "        0.3720, 0.3720, 0.3720, 0.3684, 0.3684, 0.3684, 0.3684, 0.3684, 0.3684,\n",
      "        0.3719, 0.3719, 0.3719, 0.3719, 0.3618, 0.3618, 0.3618, 0.3618, 0.3618,\n",
      "        0.3618, 0.3618, 0.3661, 0.3661, 0.3661, 0.3661, 0.3661, 0.3661, 0.3677,\n",
      "        0.3677, 0.3677, 0.3677, 0.3677, 0.3739, 0.3739, 0.3739, 0.3739, 0.3693,\n",
      "        0.3693, 0.3693, 0.3693, 0.3521, 0.3521, 0.3521, 0.3521, 0.3521, 0.3521,\n",
      "        0.3521, 0.3521, 0.3683, 0.3683, 0.3683, 0.3683, 0.3814, 0.3814, 0.3814,\n",
      "        0.3760, 0.3760, 0.3760, 0.3961, 0.3961, 0.3873, 0.3873, 0.3873, 0.3658,\n",
      "        0.3658, 0.3658, 0.3685, 0.3685, 0.3685, 0.3685, 0.3685, 0.3685, 0.3685,\n",
      "        0.3702, 0.3702, 0.3702])\n",
      "mean auroc score: 0.5290902256965637\n",
      "Epoch 7, Loss: 1.7037423849105835\n",
      "Edge weights for last sub_problem in last problem batch: tensor([-0.5283, -0.5283, -0.5283, -0.6360, -0.6360, -0.6360, -0.6360, -0.6360,\n",
      "        -0.6111, -0.6111, -0.6111, -0.6111, -0.6111, -0.6146, -0.6146, -0.6146,\n",
      "        -0.6146, -0.5885, -0.5885, -0.5885, -0.6817, -0.6817, -0.6817, -0.6817,\n",
      "        -0.6817, -0.6817, -0.6817, -0.6817, -0.6310, -0.6310, -0.6310, -0.6310,\n",
      "        -0.6038, -0.6038, -0.6038, -0.6038, -0.6036, -0.6036, -0.6036, -0.4960,\n",
      "        -0.4960, -0.4960, -0.5586, -0.5586, -0.5586, -0.6586, -0.6586, -0.6586,\n",
      "        -0.6586, -0.6586, -0.6586, -0.6586, -0.5964, -0.5964, -0.5964, -0.5964,\n",
      "        -0.5528, -0.5528, -0.6223, -0.6223, -0.6223, -0.6074, -0.6074, -0.6074,\n",
      "        -0.6074, -0.6074, -0.6258, -0.6258, -0.6258, -0.6258, -0.6258, -0.6258,\n",
      "        -0.6158, -0.6158, -0.6158, -0.6158, -0.6604, -0.6604, -0.6604, -0.6604,\n",
      "        -0.6604, -0.6604, -0.6604, -0.6395, -0.6395, -0.6395, -0.6395, -0.6395,\n",
      "        -0.6395, -0.6393, -0.6393, -0.6393, -0.6393, -0.6393, -0.6074, -0.6074,\n",
      "        -0.6074, -0.6074, -0.6286, -0.6286, -0.6286, -0.6286, -0.7104, -0.7104,\n",
      "        -0.7104, -0.7104, -0.7104, -0.7104, -0.7104, -0.7104, -0.6404, -0.6404,\n",
      "        -0.6404, -0.6404, -0.5793, -0.5793, -0.5793, -0.6033, -0.6033, -0.6033,\n",
      "        -0.5042, -0.5042, -0.5422, -0.5422, -0.5422, -0.6500, -0.6500, -0.6500,\n",
      "        -0.6262, -0.6262, -0.6262, -0.6262, -0.6262, -0.6262, -0.6262, -0.6300,\n",
      "        -0.6300, -0.6300], grad_fn=<IndexBackward0>)\n",
      "Edge probabilites for last sub_problem in last problem batch: tensor([0.3709, 0.3709, 0.3709, 0.3462, 0.3462, 0.3462, 0.3462, 0.3462, 0.3518,\n",
      "        0.3518, 0.3518, 0.3518, 0.3518, 0.3510, 0.3510, 0.3510, 0.3510, 0.3570,\n",
      "        0.3570, 0.3570, 0.3359, 0.3359, 0.3359, 0.3359, 0.3359, 0.3359, 0.3359,\n",
      "        0.3359, 0.3473, 0.3473, 0.3473, 0.3473, 0.3535, 0.3535, 0.3535, 0.3535,\n",
      "        0.3535, 0.3535, 0.3535, 0.3785, 0.3785, 0.3785, 0.3639, 0.3639, 0.3639,\n",
      "        0.3411, 0.3411, 0.3411, 0.3411, 0.3411, 0.3411, 0.3411, 0.3552, 0.3552,\n",
      "        0.3552, 0.3552, 0.3652, 0.3652, 0.3493, 0.3493, 0.3493, 0.3527, 0.3527,\n",
      "        0.3527, 0.3527, 0.3527, 0.3485, 0.3485, 0.3485, 0.3485, 0.3485, 0.3485,\n",
      "        0.3507, 0.3507, 0.3507, 0.3507, 0.3407, 0.3407, 0.3407, 0.3407, 0.3407,\n",
      "        0.3407, 0.3407, 0.3453, 0.3453, 0.3453, 0.3453, 0.3453, 0.3453, 0.3454,\n",
      "        0.3454, 0.3454, 0.3454, 0.3454, 0.3527, 0.3527, 0.3527, 0.3527, 0.3478,\n",
      "        0.3478, 0.3478, 0.3478, 0.3295, 0.3295, 0.3295, 0.3295, 0.3295, 0.3295,\n",
      "        0.3295, 0.3295, 0.3452, 0.3452, 0.3452, 0.3452, 0.3591, 0.3591, 0.3591,\n",
      "        0.3536, 0.3536, 0.3536, 0.3766, 0.3766, 0.3677, 0.3677, 0.3677, 0.3430,\n",
      "        0.3430, 0.3430, 0.3484, 0.3484, 0.3484, 0.3484, 0.3484, 0.3484, 0.3484,\n",
      "        0.3475, 0.3475, 0.3475])\n",
      "mean auroc score: 0.5300787687301636\n",
      "Epoch 8, Loss: 1.6882880926132202\n",
      "Edge weights for last sub_problem in last problem batch: tensor([-0.6043, -0.6043, -0.6043, -0.7337, -0.7337, -0.7337, -0.7337, -0.7337,\n",
      "        -0.7033, -0.7033, -0.7033, -0.7033, -0.7033, -0.7201, -0.7201, -0.7201,\n",
      "        -0.7201, -0.6865, -0.6865, -0.6865, -0.7820, -0.7820, -0.7820, -0.7820,\n",
      "        -0.7820, -0.7820, -0.7820, -0.7820, -0.7266, -0.7266, -0.7266, -0.7266,\n",
      "        -0.6942, -0.6942, -0.6942, -0.6942, -0.7044, -0.7044, -0.7044, -0.5708,\n",
      "        -0.5708, -0.5708, -0.6492, -0.6492, -0.6492, -0.7551, -0.7551, -0.7551,\n",
      "        -0.7551, -0.7551, -0.7551, -0.7551, -0.6876, -0.6876, -0.6876, -0.6876,\n",
      "        -0.6543, -0.6543, -0.7265, -0.7265, -0.7265, -0.6932, -0.6932, -0.6932,\n",
      "        -0.6932, -0.6932, -0.7155, -0.7155, -0.7155, -0.7155, -0.7155, -0.7155,\n",
      "        -0.7106, -0.7106, -0.7106, -0.7106, -0.7571, -0.7571, -0.7571, -0.7571,\n",
      "        -0.7571, -0.7571, -0.7571, -0.7315, -0.7315, -0.7315, -0.7315, -0.7315,\n",
      "        -0.7315, -0.7401, -0.7401, -0.7401, -0.7401, -0.7401, -0.7028, -0.7028,\n",
      "        -0.7028, -0.7028, -0.7245, -0.7245, -0.7245, -0.7245, -0.8140, -0.8140,\n",
      "        -0.8140, -0.8140, -0.8140, -0.8140, -0.8140, -0.8140, -0.7450, -0.7450,\n",
      "        -0.7450, -0.7450, -0.6776, -0.6776, -0.6776, -0.7041, -0.7041, -0.7041,\n",
      "        -0.5927, -0.5927, -0.6306, -0.6306, -0.6306, -0.7499, -0.7499, -0.7499,\n",
      "        -0.7165, -0.7165, -0.7165, -0.7165, -0.7165, -0.7165, -0.7165, -0.7325,\n",
      "        -0.7325, -0.7325], grad_fn=<IndexBackward0>)\n",
      "Edge probabilites for last sub_problem in last problem batch: tensor([0.3534, 0.3534, 0.3534, 0.3244, 0.3244, 0.3244, 0.3244, 0.3244, 0.3311,\n",
      "        0.3311, 0.3311, 0.3311, 0.3311, 0.3274, 0.3274, 0.3274, 0.3274, 0.3348,\n",
      "        0.3348, 0.3348, 0.3139, 0.3139, 0.3139, 0.3139, 0.3139, 0.3139, 0.3139,\n",
      "        0.3139, 0.3259, 0.3259, 0.3259, 0.3259, 0.3331, 0.3331, 0.3331, 0.3331,\n",
      "        0.3308, 0.3308, 0.3308, 0.3610, 0.3610, 0.3610, 0.3432, 0.3432, 0.3432,\n",
      "        0.3197, 0.3197, 0.3197, 0.3197, 0.3197, 0.3197, 0.3197, 0.3346, 0.3346,\n",
      "        0.3346, 0.3346, 0.3420, 0.3420, 0.3260, 0.3260, 0.3260, 0.3333, 0.3333,\n",
      "        0.3333, 0.3333, 0.3333, 0.3284, 0.3284, 0.3284, 0.3284, 0.3284, 0.3284,\n",
      "        0.3295, 0.3295, 0.3295, 0.3295, 0.3193, 0.3193, 0.3193, 0.3193, 0.3193,\n",
      "        0.3193, 0.3193, 0.3249, 0.3249, 0.3249, 0.3249, 0.3249, 0.3249, 0.3230,\n",
      "        0.3230, 0.3230, 0.3230, 0.3230, 0.3312, 0.3312, 0.3312, 0.3312, 0.3264,\n",
      "        0.3264, 0.3264, 0.3264, 0.3070, 0.3070, 0.3070, 0.3070, 0.3070, 0.3070,\n",
      "        0.3070, 0.3070, 0.3219, 0.3219, 0.3219, 0.3219, 0.3368, 0.3368, 0.3368,\n",
      "        0.3309, 0.3309, 0.3309, 0.3560, 0.3560, 0.3474, 0.3474, 0.3474, 0.3208,\n",
      "        0.3208, 0.3208, 0.3282, 0.3282, 0.3282, 0.3282, 0.3282, 0.3282, 0.3282,\n",
      "        0.3246, 0.3246, 0.3246])\n",
      "mean auroc score: 0.5287618637084961\n",
      "Epoch 9, Loss: 1.669995903968811\n",
      "Edge weights for last sub_problem in last problem batch: tensor([-0.6847, -0.6847, -0.6847, -0.8358, -0.8358, -0.8358, -0.8358, -0.8358,\n",
      "        -0.7994, -0.7994, -0.7994, -0.7994, -0.7994, -0.8255, -0.8255, -0.8255,\n",
      "        -0.8255, -0.7864, -0.7864, -0.7864, -0.8894, -0.8894, -0.8894, -0.8894,\n",
      "        -0.8894, -0.8894, -0.8894, -0.8894, -0.8243, -0.8243, -0.8243, -0.8243,\n",
      "        -0.7891, -0.7891, -0.7891, -0.7891, -0.8069, -0.8069, -0.8069, -0.6483,\n",
      "        -0.6483, -0.6483, -0.7407, -0.7407, -0.7407, -0.8570, -0.8570, -0.8570,\n",
      "        -0.8570, -0.8570, -0.8570, -0.8570, -0.7841, -0.7841, -0.7841, -0.7841,\n",
      "        -0.7555, -0.7555, -0.8362, -0.8362, -0.8362, -0.7833, -0.7833, -0.7833,\n",
      "        -0.7833, -0.7833, -0.8122, -0.8122, -0.8122, -0.8122, -0.8122, -0.8122,\n",
      "        -0.8092, -0.8092, -0.8092, -0.8092, -0.8602, -0.8602, -0.8602, -0.8602,\n",
      "        -0.8602, -0.8602, -0.8602, -0.8287, -0.8287, -0.8287, -0.8287, -0.8287,\n",
      "        -0.8287, -0.8423, -0.8423, -0.8423, -0.8423, -0.8423, -0.8007, -0.8007,\n",
      "        -0.8007, -0.8007, -0.8244, -0.8244, -0.8244, -0.8244, -0.9235, -0.9235,\n",
      "        -0.9235, -0.9235, -0.9235, -0.9235, -0.9235, -0.9235, -0.8490, -0.8490,\n",
      "        -0.8490, -0.8490, -0.7759, -0.7759, -0.7759, -0.8057, -0.8057, -0.8057,\n",
      "        -0.6840, -0.6840, -0.7194, -0.7194, -0.7194, -0.8537, -0.8537, -0.8537,\n",
      "        -0.8117, -0.8117, -0.8117, -0.8117, -0.8117, -0.8117, -0.8117, -0.8356,\n",
      "        -0.8356, -0.8356], grad_fn=<IndexBackward0>)\n",
      "Edge probabilites for last sub_problem in last problem batch: tensor([0.3352, 0.3352, 0.3352, 0.3024, 0.3024, 0.3024, 0.3024, 0.3024, 0.3102,\n",
      "        0.3102, 0.3102, 0.3102, 0.3102, 0.3046, 0.3046, 0.3046, 0.3046, 0.3129,\n",
      "        0.3129, 0.3129, 0.2912, 0.2912, 0.2912, 0.2912, 0.2912, 0.2912, 0.2912,\n",
      "        0.2912, 0.3048, 0.3048, 0.3048, 0.3048, 0.3124, 0.3124, 0.3124, 0.3124,\n",
      "        0.3085, 0.3085, 0.3085, 0.3434, 0.3434, 0.3434, 0.3228, 0.3228, 0.3228,\n",
      "        0.2980, 0.2980, 0.2980, 0.2980, 0.2980, 0.2980, 0.2980, 0.3134, 0.3134,\n",
      "        0.3134, 0.3134, 0.3196, 0.3196, 0.3023, 0.3023, 0.3023, 0.3136, 0.3136,\n",
      "        0.3136, 0.3136, 0.3136, 0.3074, 0.3074, 0.3074, 0.3074, 0.3074, 0.3074,\n",
      "        0.3081, 0.3081, 0.3081, 0.3081, 0.2973, 0.2973, 0.2973, 0.2973, 0.2973,\n",
      "        0.2973, 0.2973, 0.3039, 0.3039, 0.3039, 0.3039, 0.3039, 0.3039, 0.3011,\n",
      "        0.3011, 0.3011, 0.3011, 0.3011, 0.3099, 0.3099, 0.3099, 0.3099, 0.3048,\n",
      "        0.3048, 0.3048, 0.3048, 0.2842, 0.2842, 0.2842, 0.2842, 0.2842, 0.2842,\n",
      "        0.2842, 0.2842, 0.2996, 0.2996, 0.2996, 0.2996, 0.3152, 0.3152, 0.3152,\n",
      "        0.3088, 0.3088, 0.3088, 0.3354, 0.3354, 0.3275, 0.3275, 0.3275, 0.2986,\n",
      "        0.2986, 0.2986, 0.3075, 0.3075, 0.3075, 0.3075, 0.3075, 0.3075, 0.3075,\n",
      "        0.3025, 0.3025, 0.3025])\n",
      "mean auroc score: 0.5340704917907715\n",
      "Epoch 10, Loss: 1.650164246559143\n",
      "Edge weights for last sub_problem in last problem batch: tensor([-0.7700, -0.7700, -0.7700, -0.9420, -0.9420, -0.9420, -0.9420, -0.9420,\n",
      "        -0.9008, -0.9008, -0.9008, -0.9008, -0.9008, -0.9328, -0.9328, -0.9328,\n",
      "        -0.9328, -0.8909, -0.8909, -0.8909, -1.0002, -1.0002, -1.0002, -1.0002,\n",
      "        -1.0002, -1.0002, -1.0002, -1.0002, -0.9307, -0.9307, -0.9307, -0.9307,\n",
      "        -0.8883, -0.8883, -0.8883, -0.8883, -0.9119, -0.9119, -0.9119, -0.7308,\n",
      "        -0.7308, -0.7308, -0.8322, -0.8322, -0.8322, -0.9633, -0.9633, -0.9633,\n",
      "        -0.9633, -0.9633, -0.9633, -0.9633, -0.8857, -0.8857, -0.8857, -0.8857,\n",
      "        -0.8585, -0.8585, -0.9515, -0.9515, -0.9515, -0.8803, -0.8803, -0.8803,\n",
      "        -0.8803, -0.8803, -0.9138, -0.9138, -0.9138, -0.9138, -0.9138, -0.9138,\n",
      "        -0.9127, -0.9127, -0.9127, -0.9127, -0.9675, -0.9675, -0.9675, -0.9675,\n",
      "        -0.9675, -0.9675, -0.9675, -0.9321, -0.9321, -0.9321, -0.9321, -0.9321,\n",
      "        -0.9321, -0.9485, -0.9485, -0.9485, -0.9485, -0.9485, -0.9012, -0.9012,\n",
      "        -0.9012, -0.9012, -0.9268, -0.9268, -0.9268, -0.9268, -1.0377, -1.0377,\n",
      "        -1.0377, -1.0377, -1.0377, -1.0377, -1.0377, -1.0377, -0.9593, -0.9593,\n",
      "        -0.9593, -0.9593, -0.8803, -0.8803, -0.8803, -0.9102, -0.9102, -0.9102,\n",
      "        -0.7849, -0.7849, -0.8091, -0.8091, -0.8091, -0.9621, -0.9621, -0.9621,\n",
      "        -0.9127, -0.9127, -0.9127, -0.9127, -0.9127, -0.9127, -0.9127, -0.9436,\n",
      "        -0.9436, -0.9436], grad_fn=<IndexBackward0>)\n",
      "Edge probabilites for last sub_problem in last problem batch: tensor([0.3165, 0.3165, 0.3165, 0.2805, 0.2805, 0.2805, 0.2805, 0.2805, 0.2889,\n",
      "        0.2889, 0.2889, 0.2889, 0.2889, 0.2824, 0.2824, 0.2824, 0.2824, 0.2909,\n",
      "        0.2909, 0.2909, 0.2689, 0.2689, 0.2689, 0.2689, 0.2689, 0.2689, 0.2689,\n",
      "        0.2689, 0.2828, 0.2828, 0.2828, 0.2828, 0.2915, 0.2915, 0.2915, 0.2915,\n",
      "        0.2866, 0.2866, 0.2866, 0.3250, 0.3250, 0.3250, 0.3032, 0.3032, 0.3032,\n",
      "        0.2762, 0.2762, 0.2762, 0.2762, 0.2762, 0.2762, 0.2762, 0.2920, 0.2920,\n",
      "        0.2920, 0.2920, 0.2977, 0.2977, 0.2786, 0.2786, 0.2786, 0.2931, 0.2931,\n",
      "        0.2931, 0.2931, 0.2931, 0.2862, 0.2862, 0.2862, 0.2862, 0.2862, 0.2862,\n",
      "        0.2864, 0.2864, 0.2864, 0.2864, 0.2754, 0.2754, 0.2754, 0.2754, 0.2754,\n",
      "        0.2754, 0.2754, 0.2825, 0.2825, 0.2825, 0.2825, 0.2825, 0.2825, 0.2792,\n",
      "        0.2792, 0.2792, 0.2792, 0.2792, 0.2888, 0.2888, 0.2888, 0.2888, 0.2836,\n",
      "        0.2836, 0.2836, 0.2836, 0.2616, 0.2616, 0.2616, 0.2616, 0.2616, 0.2616,\n",
      "        0.2616, 0.2616, 0.2770, 0.2770, 0.2770, 0.2770, 0.2931, 0.2931, 0.2931,\n",
      "        0.2870, 0.2870, 0.2870, 0.3133, 0.3133, 0.3081, 0.3081, 0.3081, 0.2765,\n",
      "        0.2765, 0.2765, 0.2864, 0.2864, 0.2864, 0.2864, 0.2864, 0.2864, 0.2864,\n",
      "        0.2802, 0.2802, 0.2802])\n",
      "mean auroc score: 0.5339947938919067\n",
      "Warning: When  cdn_resources is 'local' jupyter notebook has issues displaying graphics on chrome/safari. Use cdn_resources='in_line' or cdn_resources='remote' if you have issues viewing graphics in a notebook.\n",
      "results/replication/seed0_vis_edge_ij_10.html\n",
      "Visualization saved as results/replication/seed0_vis_edge_ij_10.html. Open it in your browser.\n",
      "Epoch 11, Loss: 1.6282899379730225\n",
      "Edge weights for last sub_problem in last problem batch: tensor([-0.8654, -0.8654, -0.8654, -1.0537, -1.0537, -1.0537, -1.0537, -1.0537,\n",
      "        -1.0055, -1.0055, -1.0055, -1.0055, -1.0055, -1.0444, -1.0444, -1.0444,\n",
      "        -1.0444, -0.9974, -0.9974, -0.9974, -1.1156, -1.1156, -1.1156, -1.1156,\n",
      "        -1.1156, -1.1156, -1.1156, -1.1156, -1.0390, -1.0390, -1.0390, -1.0390,\n",
      "        -0.9966, -0.9966, -0.9966, -0.9966, -1.0183, -1.0183, -1.0183, -0.8172,\n",
      "        -0.8172, -0.8172, -0.9337, -0.9337, -0.9337, -1.0754, -1.0754, -1.0754,\n",
      "        -1.0754, -1.0754, -1.0754, -1.0754, -0.9892, -0.9892, -0.9892, -0.9892,\n",
      "        -0.9630, -0.9630, -1.0734, -1.0734, -1.0734, -0.9804, -0.9804, -0.9804,\n",
      "        -0.9804, -0.9804, -1.0193, -1.0193, -1.0193, -1.0193, -1.0193, -1.0193,\n",
      "        -1.0205, -1.0205, -1.0205, -1.0205, -1.0790, -1.0790, -1.0790, -1.0790,\n",
      "        -1.0790, -1.0790, -1.0790, -1.0404, -1.0404, -1.0404, -1.0404, -1.0404,\n",
      "        -1.0404, -1.0592, -1.0592, -1.0592, -1.0592, -1.0592, -1.0059, -1.0059,\n",
      "        -1.0059, -1.0059, -1.0375, -1.0375, -1.0375, -1.0375, -1.1589, -1.1589,\n",
      "        -1.1589, -1.1589, -1.1589, -1.1589, -1.1589, -1.1589, -1.0718, -1.0718,\n",
      "        -1.0718, -1.0718, -0.9865, -0.9865, -0.9865, -1.0163, -1.0163, -1.0163,\n",
      "        -0.8995, -0.8995, -0.9036, -0.9036, -0.9036, -1.0736, -1.0736, -1.0736,\n",
      "        -1.0198, -1.0198, -1.0198, -1.0198, -1.0198, -1.0198, -1.0198, -1.0541,\n",
      "        -1.0541, -1.0541], grad_fn=<IndexBackward0>)\n",
      "Edge probabilites for last sub_problem in last problem batch: tensor([0.2962, 0.2962, 0.2962, 0.2585, 0.2585, 0.2585, 0.2585, 0.2585, 0.2679,\n",
      "        0.2679, 0.2679, 0.2679, 0.2679, 0.2603, 0.2603, 0.2603, 0.2603, 0.2694,\n",
      "        0.2694, 0.2694, 0.2468, 0.2468, 0.2468, 0.2468, 0.2468, 0.2468, 0.2468,\n",
      "        0.2468, 0.2613, 0.2613, 0.2613, 0.2613, 0.2696, 0.2696, 0.2696, 0.2696,\n",
      "        0.2654, 0.2654, 0.2654, 0.3064, 0.3064, 0.3064, 0.2822, 0.2822, 0.2822,\n",
      "        0.2544, 0.2544, 0.2544, 0.2544, 0.2544, 0.2544, 0.2544, 0.2711, 0.2711,\n",
      "        0.2711, 0.2711, 0.2763, 0.2763, 0.2548, 0.2548, 0.2548, 0.2728, 0.2728,\n",
      "        0.2728, 0.2728, 0.2728, 0.2652, 0.2652, 0.2652, 0.2652, 0.2652, 0.2652,\n",
      "        0.2649, 0.2649, 0.2649, 0.2649, 0.2537, 0.2537, 0.2537, 0.2537, 0.2537,\n",
      "        0.2537, 0.2537, 0.2611, 0.2611, 0.2611, 0.2611, 0.2611, 0.2611, 0.2575,\n",
      "        0.2575, 0.2575, 0.2575, 0.2575, 0.2678, 0.2678, 0.2678, 0.2678, 0.2616,\n",
      "        0.2616, 0.2616, 0.2616, 0.2389, 0.2389, 0.2389, 0.2389, 0.2389, 0.2389,\n",
      "        0.2389, 0.2389, 0.2551, 0.2551, 0.2551, 0.2551, 0.2716, 0.2716, 0.2716,\n",
      "        0.2658, 0.2658, 0.2658, 0.2892, 0.2892, 0.2883, 0.2883, 0.2883, 0.2547,\n",
      "        0.2547, 0.2547, 0.2651, 0.2651, 0.2651, 0.2651, 0.2651, 0.2651, 0.2651,\n",
      "        0.2584, 0.2584, 0.2584])\n",
      "mean auroc score: 0.5352913737297058\n",
      "Epoch 12, Loss: 1.6008507013320923\n",
      "Edge weights for last sub_problem in last problem batch: tensor([-0.9651, -0.9651, -0.9651, -1.1730, -1.1730, -1.1730, -1.1730, -1.1730,\n",
      "        -1.1195, -1.1195, -1.1195, -1.1195, -1.1195, -1.1622, -1.1622, -1.1622,\n",
      "        -1.1622, -1.1081, -1.1081, -1.1081, -1.2391, -1.2391, -1.2391, -1.2391,\n",
      "        -1.2391, -1.2391, -1.2391, -1.2391, -1.1537, -1.1537, -1.1537, -1.1537,\n",
      "        -1.1081, -1.1081, -1.1081, -1.1081, -1.1307, -1.1307, -1.1307, -0.9095,\n",
      "        -0.9095, -0.9095, -1.0412, -1.0412, -1.0412, -1.1927, -1.1927, -1.1927,\n",
      "        -1.1927, -1.1927, -1.1927, -1.1927, -1.0986, -1.0986, -1.0986, -1.0986,\n",
      "        -1.0721, -1.0721, -1.1971, -1.1971, -1.1971, -1.0886, -1.0886, -1.0886,\n",
      "        -1.0886, -1.0886, -1.1315, -1.1315, -1.1315, -1.1315, -1.1315, -1.1315,\n",
      "        -1.1327, -1.1327, -1.1327, -1.1327, -1.1970, -1.1970, -1.1970, -1.1970,\n",
      "        -1.1970, -1.1970, -1.1970, -1.1584, -1.1584, -1.1584, -1.1584, -1.1584,\n",
      "        -1.1584, -1.1779, -1.1779, -1.1779, -1.1779, -1.1779, -1.1176, -1.1176,\n",
      "        -1.1176, -1.1176, -1.1533, -1.1533, -1.1533, -1.1533, -1.2891, -1.2891,\n",
      "        -1.2891, -1.2891, -1.2891, -1.2891, -1.2891, -1.2891, -1.1911, -1.1911,\n",
      "        -1.1911, -1.1911, -1.0979, -1.0979, -1.0979, -1.1293, -1.1293, -1.1293,\n",
      "        -1.0114, -1.0114, -1.0043, -1.0043, -1.0043, -1.1890, -1.1890, -1.1890,\n",
      "        -1.1329, -1.1329, -1.1329, -1.1329, -1.1329, -1.1329, -1.1329, -1.1682,\n",
      "        -1.1682, -1.1682], grad_fn=<IndexBackward0>)\n",
      "Edge probabilites for last sub_problem in last problem batch: tensor([0.2759, 0.2759, 0.2759, 0.2363, 0.2363, 0.2363, 0.2363, 0.2363, 0.2461,\n",
      "        0.2461, 0.2461, 0.2461, 0.2461, 0.2383, 0.2383, 0.2383, 0.2383, 0.2482,\n",
      "        0.2482, 0.2482, 0.2246, 0.2246, 0.2246, 0.2246, 0.2246, 0.2246, 0.2246,\n",
      "        0.2246, 0.2398, 0.2398, 0.2398, 0.2398, 0.2482, 0.2482, 0.2482, 0.2482,\n",
      "        0.2440, 0.2440, 0.2440, 0.2871, 0.2871, 0.2871, 0.2609, 0.2609, 0.2609,\n",
      "        0.2328, 0.2328, 0.2328, 0.2328, 0.2328, 0.2328, 0.2328, 0.2500, 0.2500,\n",
      "        0.2500, 0.2500, 0.2550, 0.2550, 0.2320, 0.2320, 0.2320, 0.2519, 0.2519,\n",
      "        0.2519, 0.2519, 0.2519, 0.2439, 0.2439, 0.2439, 0.2439, 0.2439, 0.2439,\n",
      "        0.2437, 0.2437, 0.2437, 0.2437, 0.2320, 0.2320, 0.2320, 0.2320, 0.2320,\n",
      "        0.2320, 0.2320, 0.2390, 0.2390, 0.2390, 0.2390, 0.2390, 0.2390, 0.2354,\n",
      "        0.2354, 0.2354, 0.2354, 0.2354, 0.2464, 0.2464, 0.2464, 0.2464, 0.2399,\n",
      "        0.2399, 0.2399, 0.2399, 0.2160, 0.2160, 0.2160, 0.2160, 0.2160, 0.2160,\n",
      "        0.2160, 0.2160, 0.2331, 0.2331, 0.2331, 0.2331, 0.2501, 0.2501, 0.2501,\n",
      "        0.2443, 0.2443, 0.2443, 0.2667, 0.2667, 0.2681, 0.2681, 0.2681, 0.2334,\n",
      "        0.2334, 0.2334, 0.2436, 0.2436, 0.2436, 0.2436, 0.2436, 0.2436, 0.2436,\n",
      "        0.2372, 0.2372, 0.2372])\n",
      "mean auroc score: 0.5322678685188293\n",
      "Epoch 13, Loss: 1.5705852508544922\n",
      "Edge weights for last sub_problem in last problem batch: tensor([-1.0689, -1.0689, -1.0689, -1.3000, -1.3000, -1.3000, -1.3000, -1.3000,\n",
      "        -1.2377, -1.2377, -1.2377, -1.2377, -1.2377, -1.2858, -1.2858, -1.2858,\n",
      "        -1.2858, -1.2243, -1.2243, -1.2243, -1.3720, -1.3720, -1.3720, -1.3720,\n",
      "        -1.3720, -1.3720, -1.3720, -1.3720, -1.2767, -1.2767, -1.2767, -1.2767,\n",
      "        -1.2267, -1.2267, -1.2267, -1.2267, -1.2486, -1.2486, -1.2486, -1.0087,\n",
      "        -1.0087, -1.0087, -1.1535, -1.1535, -1.1535, -1.3179, -1.3179, -1.3179,\n",
      "        -1.3179, -1.3179, -1.3179, -1.3179, -1.2180, -1.2180, -1.2180, -1.2180,\n",
      "        -1.1868, -1.1868, -1.3267, -1.3267, -1.3267, -1.2034, -1.2034, -1.2034,\n",
      "        -1.2034, -1.2034, -1.2525, -1.2525, -1.2525, -1.2525, -1.2525, -1.2525,\n",
      "        -1.2505, -1.2505, -1.2505, -1.2505, -1.3242, -1.3242, -1.3242, -1.3242,\n",
      "        -1.3242, -1.3242, -1.3242, -1.2806, -1.2806, -1.2806, -1.2806, -1.2806,\n",
      "        -1.2806, -1.3048, -1.3048, -1.3048, -1.3048, -1.3048, -1.2373, -1.2373,\n",
      "        -1.2373, -1.2373, -1.2760, -1.2760, -1.2760, -1.2760, -1.4297, -1.4297,\n",
      "        -1.4297, -1.4297, -1.4297, -1.4297, -1.4297, -1.4297, -1.3180, -1.3180,\n",
      "        -1.3180, -1.3180, -1.2132, -1.2132, -1.2132, -1.2486, -1.2486, -1.2486,\n",
      "        -1.1257, -1.1257, -1.1085, -1.1085, -1.1085, -1.3104, -1.3104, -1.3104,\n",
      "        -1.2535, -1.2535, -1.2535, -1.2535, -1.2535, -1.2535, -1.2535, -1.2885,\n",
      "        -1.2885, -1.2885], grad_fn=<IndexBackward0>)\n",
      "Edge probabilites for last sub_problem in last problem batch: tensor([0.2556, 0.2556, 0.2556, 0.2142, 0.2142, 0.2142, 0.2142, 0.2142, 0.2248,\n",
      "        0.2248, 0.2248, 0.2248, 0.2248, 0.2166, 0.2166, 0.2166, 0.2166, 0.2272,\n",
      "        0.2272, 0.2272, 0.2023, 0.2023, 0.2023, 0.2023, 0.2023, 0.2023, 0.2023,\n",
      "        0.2023, 0.2181, 0.2181, 0.2181, 0.2181, 0.2268, 0.2268, 0.2268, 0.2268,\n",
      "        0.2230, 0.2230, 0.2230, 0.2672, 0.2672, 0.2672, 0.2399, 0.2399, 0.2399,\n",
      "        0.2112, 0.2112, 0.2112, 0.2112, 0.2112, 0.2112, 0.2112, 0.2283, 0.2283,\n",
      "        0.2283, 0.2283, 0.2338, 0.2338, 0.2097, 0.2097, 0.2097, 0.2309, 0.2309,\n",
      "        0.2309, 0.2309, 0.2309, 0.2223, 0.2223, 0.2223, 0.2223, 0.2223, 0.2223,\n",
      "        0.2226, 0.2226, 0.2226, 0.2226, 0.2101, 0.2101, 0.2101, 0.2101, 0.2101,\n",
      "        0.2101, 0.2101, 0.2175, 0.2175, 0.2175, 0.2175, 0.2175, 0.2175, 0.2134,\n",
      "        0.2134, 0.2134, 0.2134, 0.2134, 0.2249, 0.2249, 0.2249, 0.2249, 0.2182,\n",
      "        0.2182, 0.2182, 0.2182, 0.1931, 0.1931, 0.1931, 0.1931, 0.1931, 0.1931,\n",
      "        0.1931, 0.1931, 0.2112, 0.2112, 0.2112, 0.2112, 0.2291, 0.2291, 0.2291,\n",
      "        0.2230, 0.2230, 0.2230, 0.2450, 0.2450, 0.2481, 0.2481, 0.2481, 0.2124,\n",
      "        0.2124, 0.2124, 0.2221, 0.2221, 0.2221, 0.2221, 0.2221, 0.2221, 0.2221,\n",
      "        0.2161, 0.2161, 0.2161])\n",
      "mean auroc score: 0.5319137573242188\n",
      "Epoch 14, Loss: 1.5402858257293701\n",
      "Edge weights for last sub_problem in last problem batch: tensor([-1.1812, -1.1812, -1.1812, -1.4353, -1.4353, -1.4353, -1.4353, -1.4353,\n",
      "        -1.3658, -1.3658, -1.3658, -1.3658, -1.3658, -1.4187, -1.4187, -1.4187,\n",
      "        -1.4187, -1.3468, -1.3468, -1.3468, -1.5154, -1.5154, -1.5154, -1.5154,\n",
      "        -1.5154, -1.5154, -1.5154, -1.5154, -1.4094, -1.4094, -1.4094, -1.4094,\n",
      "        -1.3537, -1.3537, -1.3537, -1.3537, -1.3744, -1.3744, -1.3744, -1.1129,\n",
      "        -1.1129, -1.1129, -1.2745, -1.2745, -1.2745, -1.4520, -1.4520, -1.4520,\n",
      "        -1.4520, -1.4520, -1.4520, -1.4520, -1.3453, -1.3453, -1.3453, -1.3453,\n",
      "        -1.3079, -1.3079, -1.4651, -1.4651, -1.4651, -1.3248, -1.3248, -1.3248,\n",
      "        -1.3248, -1.3248, -1.3819, -1.3819, -1.3819, -1.3819, -1.3819, -1.3819,\n",
      "        -1.3768, -1.3768, -1.3768, -1.3768, -1.4620, -1.4620, -1.4620, -1.4620,\n",
      "        -1.4620, -1.4620, -1.4620, -1.4132, -1.4132, -1.4132, -1.4132, -1.4132,\n",
      "        -1.4132, -1.4399, -1.4399, -1.4399, -1.4399, -1.4399, -1.3644, -1.3644,\n",
      "        -1.3644, -1.3644, -1.4089, -1.4089, -1.4089, -1.4089, -1.5814, -1.5814,\n",
      "        -1.5814, -1.5814, -1.5814, -1.5814, -1.5814, -1.5814, -1.4538, -1.4538,\n",
      "        -1.4538, -1.4538, -1.3362, -1.3362, -1.3362, -1.3771, -1.3771, -1.3771,\n",
      "        -1.2464, -1.2464, -1.2214, -1.2214, -1.2214, -1.4416, -1.4416, -1.4416,\n",
      "        -1.3852, -1.3852, -1.3852, -1.3852, -1.3852, -1.3852, -1.3852, -1.4178,\n",
      "        -1.4178, -1.4178], grad_fn=<IndexBackward0>)\n",
      "Edge probabilites for last sub_problem in last problem batch: tensor([0.2348, 0.2348, 0.2348, 0.1923, 0.1923, 0.1923, 0.1923, 0.1923, 0.2033,\n",
      "        0.2033, 0.2033, 0.2033, 0.2033, 0.1949, 0.1949, 0.1949, 0.1949, 0.2064,\n",
      "        0.2064, 0.2064, 0.1801, 0.1801, 0.1801, 0.1801, 0.1801, 0.1801, 0.1801,\n",
      "        0.1801, 0.1963, 0.1963, 0.1963, 0.1963, 0.2053, 0.2053, 0.2053, 0.2053,\n",
      "        0.2019, 0.2019, 0.2019, 0.2473, 0.2473, 0.2473, 0.2185, 0.2185, 0.2185,\n",
      "        0.1897, 0.1897, 0.1897, 0.1897, 0.1897, 0.1897, 0.1897, 0.2066, 0.2066,\n",
      "        0.2066, 0.2066, 0.2128, 0.2128, 0.1877, 0.1877, 0.1877, 0.2100, 0.2100,\n",
      "        0.2100, 0.2100, 0.2100, 0.2007, 0.2007, 0.2007, 0.2007, 0.2007, 0.2007,\n",
      "        0.2015, 0.2015, 0.2015, 0.2015, 0.1882, 0.1882, 0.1882, 0.1882, 0.1882,\n",
      "        0.1882, 0.1882, 0.1957, 0.1957, 0.1957, 0.1957, 0.1957, 0.1957, 0.1916,\n",
      "        0.1916, 0.1916, 0.1916, 0.1916, 0.2035, 0.2035, 0.2035, 0.2035, 0.1964,\n",
      "        0.1964, 0.1964, 0.1964, 0.1706, 0.1706, 0.1706, 0.1706, 0.1706, 0.1706,\n",
      "        0.1706, 0.1706, 0.1894, 0.1894, 0.1894, 0.1894, 0.2081, 0.2081, 0.2081,\n",
      "        0.2015, 0.2015, 0.2015, 0.2233, 0.2233, 0.2277, 0.2277, 0.2277, 0.1913,\n",
      "        0.1913, 0.1913, 0.2002, 0.2002, 0.2002, 0.2002, 0.2002, 0.2002, 0.2002,\n",
      "        0.1950, 0.1950, 0.1950])\n",
      "mean auroc score: 0.532391369342804\n",
      "Epoch 15, Loss: 1.5120090246200562\n",
      "Edge weights for last sub_problem in last problem batch: tensor([-1.3014, -1.3014, -1.3014, -1.5793, -1.5793, -1.5793, -1.5793, -1.5793,\n",
      "        -1.5033, -1.5033, -1.5033, -1.5033, -1.5033, -1.5592, -1.5592, -1.5592,\n",
      "        -1.5592, -1.4802, -1.4802, -1.4802, -1.6703, -1.6703, -1.6703, -1.6703,\n",
      "        -1.6703, -1.6703, -1.6703, -1.6703, -1.5499, -1.5499, -1.5499, -1.5499,\n",
      "        -1.4907, -1.4907, -1.4907, -1.4907, -1.5074, -1.5074, -1.5074, -1.2246,\n",
      "        -1.2246, -1.2246, -1.4021, -1.4021, -1.4021, -1.5993, -1.5993, -1.5993,\n",
      "        -1.5993, -1.5993, -1.5993, -1.5993, -1.4811, -1.4811, -1.4811, -1.4811,\n",
      "        -1.4367, -1.4367, -1.6112, -1.6112, -1.6112, -1.4548, -1.4548, -1.4548,\n",
      "        -1.4548, -1.4548, -1.5210, -1.5210, -1.5210, -1.5210, -1.5210, -1.5210,\n",
      "        -1.5147, -1.5147, -1.5147, -1.5147, -1.6119, -1.6119, -1.6119, -1.6119,\n",
      "        -1.6119, -1.6119, -1.6119, -1.5587, -1.5587, -1.5587, -1.5587, -1.5587,\n",
      "        -1.5587, -1.5857, -1.5857, -1.5857, -1.5857, -1.5857, -1.4998, -1.4998,\n",
      "        -1.4998, -1.4998, -1.5498, -1.5498, -1.5498, -1.5498, -1.7430, -1.7430,\n",
      "        -1.7430, -1.7430, -1.7430, -1.7430, -1.7430, -1.7430, -1.5983, -1.5983,\n",
      "        -1.5983, -1.5983, -1.4675, -1.4675, -1.4675, -1.5118, -1.5118, -1.5118,\n",
      "        -1.3745, -1.3745, -1.3412, -1.3412, -1.3412, -1.5815, -1.5815, -1.5815,\n",
      "        -1.5288, -1.5288, -1.5288, -1.5288, -1.5288, -1.5288, -1.5288, -1.5567,\n",
      "        -1.5567, -1.5567], grad_fn=<IndexBackward0>)\n",
      "Edge probabilites for last sub_problem in last problem batch: tensor([0.2139, 0.2139, 0.2139, 0.1709, 0.1709, 0.1709, 0.1709, 0.1709, 0.1819,\n",
      "        0.1819, 0.1819, 0.1819, 0.1819, 0.1738, 0.1738, 0.1738, 0.1738, 0.1854,\n",
      "        0.1854, 0.1854, 0.1584, 0.1584, 0.1584, 0.1584, 0.1584, 0.1584, 0.1584,\n",
      "        0.1584, 0.1751, 0.1751, 0.1751, 0.1751, 0.1838, 0.1838, 0.1838, 0.1838,\n",
      "        0.1813, 0.1813, 0.1813, 0.2271, 0.2271, 0.2271, 0.1975, 0.1975, 0.1975,\n",
      "        0.1681, 0.1681, 0.1681, 0.1681, 0.1681, 0.1681, 0.1681, 0.1853, 0.1853,\n",
      "        0.1853, 0.1853, 0.1921, 0.1921, 0.1664, 0.1664, 0.1664, 0.1893, 0.1893,\n",
      "        0.1893, 0.1893, 0.1893, 0.1793, 0.1793, 0.1793, 0.1793, 0.1793, 0.1793,\n",
      "        0.1802, 0.1802, 0.1802, 0.1802, 0.1663, 0.1663, 0.1663, 0.1663, 0.1663,\n",
      "        0.1663, 0.1663, 0.1738, 0.1738, 0.1738, 0.1738, 0.1738, 0.1738, 0.1700,\n",
      "        0.1700, 0.1700, 0.1700, 0.1700, 0.1825, 0.1825, 0.1825, 0.1825, 0.1751,\n",
      "        0.1751, 0.1751, 0.1751, 0.1489, 0.1489, 0.1489, 0.1489, 0.1489, 0.1489,\n",
      "        0.1489, 0.1489, 0.1682, 0.1682, 0.1682, 0.1682, 0.1873, 0.1873, 0.1873,\n",
      "        0.1807, 0.1807, 0.1807, 0.2019, 0.2019, 0.2073, 0.2073, 0.2073, 0.1706,\n",
      "        0.1706, 0.1706, 0.1782, 0.1782, 0.1782, 0.1782, 0.1782, 0.1782, 0.1782,\n",
      "        0.1741, 0.1741, 0.1741])\n",
      "mean auroc score: 0.5301292538642883\n",
      "Warning: When  cdn_resources is 'local' jupyter notebook has issues displaying graphics on chrome/safari. Use cdn_resources='in_line' or cdn_resources='remote' if you have issues viewing graphics in a notebook.\n",
      "results/replication/seed0_vis_edge_ij_15.html\n",
      "Visualization saved as results/replication/seed0_vis_edge_ij_15.html. Open it in your browser.\n",
      "Epoch 16, Loss: 1.4691336154937744\n",
      "Edge weights for last sub_problem in last problem batch: tensor([-1.4291, -1.4291, -1.4291, -1.7305, -1.7305, -1.7305, -1.7305, -1.7305,\n",
      "        -1.6495, -1.6495, -1.6495, -1.6495, -1.6495, -1.7085, -1.7085, -1.7085,\n",
      "        -1.7085, -1.6241, -1.6241, -1.6241, -1.8373, -1.8373, -1.8373, -1.8373,\n",
      "        -1.8373, -1.8373, -1.8373, -1.8373, -1.6983, -1.6983, -1.6983, -1.6983,\n",
      "        -1.6382, -1.6382, -1.6382, -1.6382, -1.6475, -1.6475, -1.6475, -1.3430,\n",
      "        -1.3430, -1.3430, -1.5380, -1.5380, -1.5380, -1.7582, -1.7582, -1.7582,\n",
      "        -1.7582, -1.7582, -1.7582, -1.7582, -1.6282, -1.6282, -1.6282, -1.6282,\n",
      "        -1.5738, -1.5738, -1.7661, -1.7661, -1.7661, -1.5931, -1.5931, -1.5931,\n",
      "        -1.5931, -1.5931, -1.6714, -1.6714, -1.6714, -1.6714, -1.6714, -1.6714,\n",
      "        -1.6618, -1.6618, -1.6618, -1.6618, -1.7718, -1.7718, -1.7718, -1.7718,\n",
      "        -1.7718, -1.7718, -1.7718, -1.7144, -1.7144, -1.7144, -1.7144, -1.7144,\n",
      "        -1.7144, -1.7402, -1.7402, -1.7402, -1.7402, -1.7402, -1.6440, -1.6440,\n",
      "        -1.6440, -1.6440, -1.6986, -1.6986, -1.6986, -1.6986, -1.9154, -1.9154,\n",
      "        -1.9154, -1.9154, -1.9154, -1.9154, -1.9154, -1.9154, -1.7550, -1.7550,\n",
      "        -1.7550, -1.7550, -1.6050, -1.6050, -1.6050, -1.6564, -1.6564, -1.6564,\n",
      "        -1.5107, -1.5107, -1.4682, -1.4682, -1.4682, -1.7286, -1.7286, -1.7286,\n",
      "        -1.6835, -1.6835, -1.6835, -1.6835, -1.6835, -1.6835, -1.6835, -1.7039,\n",
      "        -1.7039, -1.7039], grad_fn=<IndexBackward0>)\n",
      "Edge probabilites for last sub_problem in last problem batch: tensor([0.1932, 0.1932, 0.1932, 0.1505, 0.1505, 0.1505, 0.1505, 0.1505, 0.1612,\n",
      "        0.1612, 0.1612, 0.1612, 0.1612, 0.1534, 0.1534, 0.1534, 0.1534, 0.1646,\n",
      "        0.1646, 0.1646, 0.1374, 0.1374, 0.1374, 0.1374, 0.1374, 0.1374, 0.1374,\n",
      "        0.1374, 0.1547, 0.1547, 0.1547, 0.1547, 0.1627, 0.1627, 0.1627, 0.1627,\n",
      "        0.1614, 0.1614, 0.1614, 0.2070, 0.2070, 0.2070, 0.1768, 0.1768, 0.1768,\n",
      "        0.1470, 0.1470, 0.1470, 0.1470, 0.1470, 0.1470, 0.1470, 0.1641, 0.1641,\n",
      "        0.1641, 0.1641, 0.1717, 0.1717, 0.1460, 0.1460, 0.1460, 0.1690, 0.1690,\n",
      "        0.1690, 0.1690, 0.1690, 0.1582, 0.1582, 0.1582, 0.1582, 0.1582, 0.1582,\n",
      "        0.1595, 0.1595, 0.1595, 0.1595, 0.1453, 0.1453, 0.1453, 0.1453, 0.1453,\n",
      "        0.1453, 0.1453, 0.1526, 0.1526, 0.1526, 0.1526, 0.1526, 0.1526, 0.1493,\n",
      "        0.1493, 0.1493, 0.1493, 0.1493, 0.1619, 0.1619, 0.1619, 0.1619, 0.1547,\n",
      "        0.1547, 0.1547, 0.1547, 0.1284, 0.1284, 0.1284, 0.1284, 0.1284, 0.1284,\n",
      "        0.1284, 0.1284, 0.1474, 0.1474, 0.1474, 0.1474, 0.1673, 0.1673, 0.1673,\n",
      "        0.1602, 0.1602, 0.1602, 0.1808, 0.1808, 0.1872, 0.1872, 0.1872, 0.1508,\n",
      "        0.1508, 0.1508, 0.1566, 0.1566, 0.1566, 0.1566, 0.1566, 0.1566, 0.1566,\n",
      "        0.1540, 0.1540, 0.1540])\n",
      "mean auroc score: 0.5293073654174805\n",
      "Epoch 17, Loss: 1.4352662563323975\n",
      "Edge weights for last sub_problem in last problem batch: tensor([-1.5632, -1.5632, -1.5632, -1.8912, -1.8912, -1.8912, -1.8912, -1.8912,\n",
      "        -1.8033, -1.8033, -1.8033, -1.8033, -1.8033, -1.8644, -1.8644, -1.8644,\n",
      "        -1.8644, -1.7749, -1.7749, -1.7749, -2.0142, -2.0142, -2.0142, -2.0142,\n",
      "        -2.0142, -2.0142, -2.0142, -2.0142, -1.8523, -1.8523, -1.8523, -1.8523,\n",
      "        -1.7924, -1.7924, -1.7924, -1.7924, -1.7950, -1.7950, -1.7950, -1.4671,\n",
      "        -1.4671, -1.4671, -1.6860, -1.6860, -1.6860, -1.9272, -1.9272, -1.9272,\n",
      "        -1.9272, -1.9272, -1.9272, -1.9272, -1.7823, -1.7823, -1.7823, -1.7823,\n",
      "        -1.7164, -1.7164, -1.9291, -1.9291, -1.9291, -1.7387, -1.7387, -1.7387,\n",
      "        -1.7387, -1.7387, -1.8306, -1.8306, -1.8306, -1.8306, -1.8306, -1.8306,\n",
      "        -1.8153, -1.8153, -1.8153, -1.8153, -1.9410, -1.9410, -1.9410, -1.9410,\n",
      "        -1.9410, -1.9410, -1.9410, -1.8764, -1.8764, -1.8764, -1.8764, -1.8764,\n",
      "        -1.8764, -1.9018, -1.9018, -1.9018, -1.9018, -1.9018, -1.7953, -1.7953,\n",
      "        -1.7953, -1.7953, -1.8553, -1.8553, -1.8553, -1.8553, -2.0951, -2.0951,\n",
      "        -2.0951, -2.0951, -2.0951, -2.0951, -2.0951, -2.0951, -1.9206, -1.9206,\n",
      "        -1.9206, -1.9206, -1.7475, -1.7475, -1.7475, -1.8115, -1.8115, -1.8115,\n",
      "        -1.6543, -1.6543, -1.6056, -1.6056, -1.6056, -1.8834, -1.8834, -1.8834,\n",
      "        -1.8468, -1.8468, -1.8468, -1.8468, -1.8468, -1.8468, -1.8468, -1.8565,\n",
      "        -1.8565, -1.8565], grad_fn=<IndexBackward0>)\n",
      "Edge probabilites for last sub_problem in last problem batch: tensor([0.1732, 0.1732, 0.1732, 0.1311, 0.1311, 0.1311, 0.1311, 0.1311, 0.1415,\n",
      "        0.1415, 0.1415, 0.1415, 0.1415, 0.1342, 0.1342, 0.1342, 0.1342, 0.1449,\n",
      "        0.1449, 0.1449, 0.1177, 0.1177, 0.1177, 0.1177, 0.1177, 0.1177, 0.1177,\n",
      "        0.1177, 0.1356, 0.1356, 0.1356, 0.1356, 0.1428, 0.1428, 0.1428, 0.1428,\n",
      "        0.1425, 0.1425, 0.1425, 0.1874, 0.1874, 0.1874, 0.1563, 0.1563, 0.1563,\n",
      "        0.1271, 0.1271, 0.1271, 0.1271, 0.1271, 0.1271, 0.1271, 0.1440, 0.1440,\n",
      "        0.1440, 0.1440, 0.1523, 0.1523, 0.1269, 0.1269, 0.1269, 0.1495, 0.1495,\n",
      "        0.1495, 0.1495, 0.1495, 0.1382, 0.1382, 0.1382, 0.1382, 0.1382, 0.1382,\n",
      "        0.1400, 0.1400, 0.1400, 0.1400, 0.1255, 0.1255, 0.1255, 0.1255, 0.1255,\n",
      "        0.1255, 0.1255, 0.1328, 0.1328, 0.1328, 0.1328, 0.1328, 0.1328, 0.1299,\n",
      "        0.1299, 0.1299, 0.1299, 0.1299, 0.1424, 0.1424, 0.1424, 0.1424, 0.1352,\n",
      "        0.1352, 0.1352, 0.1352, 0.1096, 0.1096, 0.1096, 0.1096, 0.1096, 0.1096,\n",
      "        0.1096, 0.1096, 0.1278, 0.1278, 0.1278, 0.1278, 0.1484, 0.1484, 0.1484,\n",
      "        0.1405, 0.1405, 0.1405, 0.1605, 0.1605, 0.1672, 0.1672, 0.1672, 0.1320,\n",
      "        0.1320, 0.1320, 0.1362, 0.1362, 0.1362, 0.1362, 0.1362, 0.1362, 0.1362,\n",
      "        0.1351, 0.1351, 0.1351])\n",
      "mean auroc score: 0.528436541557312\n",
      "Epoch 18, Loss: 1.4227783679962158\n",
      "Edge weights for last sub_problem in last problem batch: tensor([-1.7007, -1.7007, -1.7007, -2.0547, -2.0547, -2.0547, -2.0547, -2.0547,\n",
      "        -1.9618, -1.9618, -1.9618, -1.9618, -1.9618, -2.0242, -2.0242, -2.0242,\n",
      "        -2.0242, -1.9304, -1.9304, -1.9304, -2.1937, -2.1937, -2.1937, -2.1937,\n",
      "        -2.1937, -2.1937, -2.1937, -2.1937, -2.0085, -2.0085, -2.0085, -2.0085,\n",
      "        -1.9502, -1.9502, -1.9502, -1.9502, -1.9464, -1.9464, -1.9464, -1.5921,\n",
      "        -1.5921, -1.5921, -1.8385, -1.8385, -1.8385, -2.1021, -2.1021, -2.1021,\n",
      "        -2.1021, -2.1021, -2.1021, -2.1021, -1.9396, -1.9396, -1.9396, -1.9396,\n",
      "        -1.8592, -1.8592, -2.0922, -2.0922, -2.0922, -1.8890, -1.8890, -1.8890,\n",
      "        -1.8890, -1.8890, -1.9928, -1.9928, -1.9928, -1.9928, -1.9928, -1.9928,\n",
      "        -1.9694, -1.9694, -1.9694, -1.9694, -2.1120, -2.1120, -2.1120, -2.1120,\n",
      "        -2.1120, -2.1120, -2.1120, -2.0404, -2.0404, -2.0404, -2.0404, -2.0404,\n",
      "        -2.0404, -2.0666, -2.0666, -2.0666, -2.0666, -2.0666, -1.9487, -1.9487,\n",
      "        -1.9487, -1.9487, -2.0154, -2.0154, -2.0154, -2.0154, -2.2783, -2.2783,\n",
      "        -2.2783, -2.2783, -2.2783, -2.2783, -2.2783, -2.2783, -2.0905, -2.0905,\n",
      "        -2.0905, -2.0905, -1.8935, -1.8935, -1.8935, -1.9714, -1.9714, -1.9714,\n",
      "        -1.8023, -1.8023, -1.7483, -1.7483, -1.7483, -2.0415, -2.0415, -2.0415,\n",
      "        -2.0127, -2.0127, -2.0127, -2.0127, -2.0127, -2.0127, -2.0127, -2.0109,\n",
      "        -2.0109, -2.0109], grad_fn=<IndexBackward0>)\n",
      "Edge probabilites for last sub_problem in last problem batch: tensor([0.1544, 0.1544, 0.1544, 0.1136, 0.1136, 0.1136, 0.1136, 0.1136, 0.1233,\n",
      "        0.1233, 0.1233, 0.1233, 0.1233, 0.1167, 0.1167, 0.1167, 0.1167, 0.1267,\n",
      "        0.1267, 0.1267, 0.1003, 0.1003, 0.1003, 0.1003, 0.1003, 0.1003, 0.1003,\n",
      "        0.1003, 0.1183, 0.1183, 0.1183, 0.1183, 0.1245, 0.1245, 0.1245, 0.1245,\n",
      "        0.1249, 0.1249, 0.1249, 0.1691, 0.1691, 0.1691, 0.1372, 0.1372, 0.1372,\n",
      "        0.1089, 0.1089, 0.1089, 0.1089, 0.1089, 0.1089, 0.1089, 0.1257, 0.1257,\n",
      "        0.1257, 0.1257, 0.1348, 0.1348, 0.1099, 0.1099, 0.1099, 0.1314, 0.1314,\n",
      "        0.1314, 0.1314, 0.1314, 0.1200, 0.1200, 0.1200, 0.1200, 0.1200, 0.1200,\n",
      "        0.1225, 0.1225, 0.1225, 0.1225, 0.1079, 0.1079, 0.1079, 0.1079, 0.1079,\n",
      "        0.1079, 0.1079, 0.1150, 0.1150, 0.1150, 0.1150, 0.1150, 0.1150, 0.1124,\n",
      "        0.1124, 0.1124, 0.1124, 0.1124, 0.1247, 0.1247, 0.1247, 0.1247, 0.1176,\n",
      "        0.1176, 0.1176, 0.1176, 0.0929, 0.0929, 0.0929, 0.0929, 0.0929, 0.0929,\n",
      "        0.0929, 0.0929, 0.1100, 0.1100, 0.1100, 0.1100, 0.1308, 0.1308, 0.1308,\n",
      "        0.1222, 0.1222, 0.1222, 0.1416, 0.1416, 0.1483, 0.1483, 0.1483, 0.1149,\n",
      "        0.1149, 0.1149, 0.1179, 0.1179, 0.1179, 0.1179, 0.1179, 0.1179, 0.1179,\n",
      "        0.1181, 0.1181, 0.1181])\n",
      "mean auroc score: 0.5279593467712402\n",
      "Epoch 19, Loss: 1.367445707321167\n",
      "Edge weights for last sub_problem in last problem batch: tensor([-1.8409, -1.8409, -1.8409, -2.2200, -2.2200, -2.2200, -2.2200, -2.2200,\n",
      "        -2.1240, -2.1240, -2.1240, -2.1240, -2.1240, -2.1884, -2.1884, -2.1884,\n",
      "        -2.1884, -2.0953, -2.0953, -2.0953, -2.3786, -2.3786, -2.3786, -2.3786,\n",
      "        -2.3786, -2.3786, -2.3786, -2.3786, -2.1689, -2.1689, -2.1689, -2.1689,\n",
      "        -2.1090, -2.1090, -2.1090, -2.1090, -2.1048, -2.1048, -2.1048, -1.7184,\n",
      "        -1.7184, -1.7184, -1.9909, -1.9909, -1.9909, -2.2830, -2.2830, -2.2830,\n",
      "        -2.2830, -2.2830, -2.2830, -2.2830, -2.1005, -2.1005, -2.1005, -2.1005,\n",
      "        -2.0036, -2.0036, -2.2577, -2.2577, -2.2577, -2.0470, -2.0470, -2.0470,\n",
      "        -2.0470, -2.0470, -2.1609, -2.1609, -2.1609, -2.1609, -2.1609, -2.1609,\n",
      "        -2.1258, -2.1258, -2.1258, -2.1258, -2.2883, -2.2883, -2.2883, -2.2883,\n",
      "        -2.2883, -2.2883, -2.2883, -2.2098, -2.2098, -2.2098, -2.2098, -2.2098,\n",
      "        -2.2098, -2.2331, -2.2331, -2.2331, -2.2331, -2.2331, -2.1034, -2.1034,\n",
      "        -2.1034, -2.1034, -2.1765, -2.1765, -2.1765, -2.1765, -2.4657, -2.4657,\n",
      "        -2.4657, -2.4657, -2.4657, -2.4657, -2.4657, -2.4657, -2.2626, -2.2626,\n",
      "        -2.2626, -2.2626, -2.0479, -2.0479, -2.0479, -2.1321, -2.1321, -2.1321,\n",
      "        -1.9512, -1.9512, -1.8968, -1.8968, -1.8968, -2.2020, -2.2020, -2.2020,\n",
      "        -2.1833, -2.1833, -2.1833, -2.1833, -2.1833, -2.1833, -2.1833, -2.1681,\n",
      "        -2.1681, -2.1681], grad_fn=<IndexBackward0>)\n",
      "Edge probabilites for last sub_problem in last problem batch: tensor([0.1370, 0.1370, 0.1370, 0.0980, 0.0980, 0.0980, 0.0980, 0.0980, 0.1068,\n",
      "        0.1068, 0.1068, 0.1068, 0.1068, 0.1008, 0.1008, 0.1008, 0.1008, 0.1096,\n",
      "        0.1096, 0.1096, 0.0848, 0.0848, 0.0848, 0.0848, 0.0848, 0.0848, 0.0848,\n",
      "        0.0848, 0.1026, 0.1026, 0.1026, 0.1026, 0.1082, 0.1082, 0.1082, 0.1082,\n",
      "        0.1086, 0.1086, 0.1086, 0.1521, 0.1521, 0.1521, 0.1202, 0.1202, 0.1202,\n",
      "        0.0925, 0.0925, 0.0925, 0.0925, 0.0925, 0.0925, 0.0925, 0.1090, 0.1090,\n",
      "        0.1090, 0.1090, 0.1188, 0.1188, 0.0947, 0.0947, 0.0947, 0.1144, 0.1144,\n",
      "        0.1144, 0.1144, 0.1144, 0.1033, 0.1033, 0.1033, 0.1033, 0.1033, 0.1033,\n",
      "        0.1066, 0.1066, 0.1066, 0.1066, 0.0921, 0.0921, 0.0921, 0.0921, 0.0921,\n",
      "        0.0921, 0.0921, 0.0989, 0.0989, 0.0989, 0.0989, 0.0989, 0.0989, 0.0968,\n",
      "        0.0968, 0.0968, 0.0968, 0.0968, 0.1088, 0.1088, 0.1088, 0.1088, 0.1019,\n",
      "        0.1019, 0.1019, 0.1019, 0.0783, 0.0783, 0.0783, 0.0783, 0.0783, 0.0783,\n",
      "        0.0783, 0.0783, 0.0943, 0.0943, 0.0943, 0.0943, 0.1143, 0.1143, 0.1143,\n",
      "        0.1060, 0.1060, 0.1060, 0.1244, 0.1244, 0.1305, 0.1305, 0.1305, 0.0996,\n",
      "        0.0996, 0.0996, 0.1013, 0.1013, 0.1013, 0.1013, 0.1013, 0.1013, 0.1013,\n",
      "        0.1027, 0.1027, 0.1027])\n",
      "mean auroc score: 0.5275985598564148\n",
      "Epoch 20, Loss: 1.3806864023208618\n",
      "Edge weights for last sub_problem in last problem batch: tensor([-1.9642, -1.9642, -1.9642, -2.3663, -2.3663, -2.3663, -2.3663, -2.3663,\n",
      "        -2.2732, -2.2732, -2.2732, -2.2732, -2.2732, -2.3296, -2.3296, -2.3296,\n",
      "        -2.3296, -2.2416, -2.2416, -2.2416, -2.5497, -2.5497, -2.5497, -2.5497,\n",
      "        -2.5497, -2.5497, -2.5497, -2.5497, -2.3154, -2.3154, -2.3154, -2.3154,\n",
      "        -2.2502, -2.2502, -2.2502, -2.2502, -2.2431, -2.2431, -2.2431, -1.8304,\n",
      "        -1.8304, -1.8304, -2.1247, -2.1247, -2.1247, -2.4506, -2.4506, -2.4506,\n",
      "        -2.4506, -2.4506, -2.4506, -2.4506, -2.2472, -2.2472, -2.2472, -2.2472,\n",
      "        -2.1312, -2.1312, -2.4003, -2.4003, -2.4003, -2.1957, -2.1957, -2.1957,\n",
      "        -2.1957, -2.1957, -2.3162, -2.3162, -2.3162, -2.3162, -2.3162, -2.3162,\n",
      "        -2.2633, -2.2633, -2.2633, -2.2633, -2.4539, -2.4539, -2.4539, -2.4539,\n",
      "        -2.4539, -2.4539, -2.4539, -2.3661, -2.3661, -2.3661, -2.3661, -2.3661,\n",
      "        -2.3661, -2.3844, -2.3844, -2.3844, -2.3844, -2.3844, -2.2367, -2.2367,\n",
      "        -2.2367, -2.2367, -2.3203, -2.3203, -2.3203, -2.3203, -2.6392, -2.6392,\n",
      "        -2.6392, -2.6392, -2.6392, -2.6392, -2.6392, -2.6392, -2.4149, -2.4149,\n",
      "        -2.4149, -2.4149, -2.1851, -2.1851, -2.1851, -2.2725, -2.2725, -2.2725,\n",
      "        -2.0789, -2.0789, -2.0311, -2.0311, -2.0311, -2.3457, -2.3457, -2.3457,\n",
      "        -2.3385, -2.3385, -2.3385, -2.3385, -2.3385, -2.3385, -2.3385, -2.3101,\n",
      "        -2.3101, -2.3101], grad_fn=<IndexBackward0>)\n",
      "Edge probabilites for last sub_problem in last problem batch: tensor([0.1230, 0.1230, 0.1230, 0.0858, 0.0858, 0.0858, 0.0858, 0.0858, 0.0934,\n",
      "        0.0934, 0.0934, 0.0934, 0.0934, 0.0887, 0.0887, 0.0887, 0.0887, 0.0961,\n",
      "        0.0961, 0.0961, 0.0724, 0.0724, 0.0724, 0.0724, 0.0724, 0.0724, 0.0724,\n",
      "        0.0724, 0.0899, 0.0899, 0.0899, 0.0899, 0.0953, 0.0953, 0.0953, 0.0953,\n",
      "        0.0959, 0.0959, 0.0959, 0.1382, 0.1382, 0.1382, 0.1067, 0.1067, 0.1067,\n",
      "        0.0794, 0.0794, 0.0794, 0.0794, 0.0794, 0.0794, 0.0794, 0.0956, 0.0956,\n",
      "        0.0956, 0.0956, 0.1061, 0.1061, 0.0831, 0.0831, 0.0831, 0.1001, 0.1001,\n",
      "        0.1001, 0.1001, 0.1001, 0.0898, 0.0898, 0.0898, 0.0898, 0.0898, 0.0898,\n",
      "        0.0942, 0.0942, 0.0942, 0.0942, 0.0792, 0.0792, 0.0792, 0.0792, 0.0792,\n",
      "        0.0792, 0.0792, 0.0858, 0.0858, 0.0858, 0.0858, 0.0858, 0.0858, 0.0844,\n",
      "        0.0844, 0.0844, 0.0844, 0.0844, 0.0965, 0.0965, 0.0965, 0.0965, 0.0895,\n",
      "        0.0895, 0.0895, 0.0895, 0.0667, 0.0667, 0.0667, 0.0667, 0.0667, 0.0667,\n",
      "        0.0667, 0.0667, 0.0820, 0.0820, 0.0820, 0.0820, 0.1011, 0.1011, 0.1011,\n",
      "        0.0934, 0.0934, 0.0934, 0.1112, 0.1112, 0.1160, 0.1160, 0.1160, 0.0874,\n",
      "        0.0874, 0.0874, 0.0880, 0.0880, 0.0880, 0.0880, 0.0880, 0.0880, 0.0880,\n",
      "        0.0903, 0.0903, 0.0903])\n",
      "mean auroc score: 0.5271189212799072\n",
      "Warning: When  cdn_resources is 'local' jupyter notebook has issues displaying graphics on chrome/safari. Use cdn_resources='in_line' or cdn_resources='remote' if you have issues viewing graphics in a notebook.\n",
      "results/replication/seed0_vis_edge_ij_20.html\n",
      "Visualization saved as results/replication/seed0_vis_edge_ij_20.html. Open it in your browser.\n",
      "Epoch 21, Loss: 1.4187490940093994\n",
      "Edge weights for last sub_problem in last problem batch: tensor([-2.0901, -2.0901, -2.0901, -2.5114, -2.5114, -2.5114, -2.5114, -2.5114,\n",
      "        -2.4251, -2.4251, -2.4251, -2.4251, -2.4251, -2.4728, -2.4728, -2.4728,\n",
      "        -2.4728, -2.3871, -2.3871, -2.3871, -2.7294, -2.7294, -2.7294, -2.7294,\n",
      "        -2.7294, -2.7294, -2.7294, -2.7294, -2.4673, -2.4673, -2.4673, -2.4673,\n",
      "        -2.3882, -2.3882, -2.3882, -2.3882, -2.3780, -2.3780, -2.3780, -1.9434,\n",
      "        -1.9434, -1.9434, -2.2569, -2.2569, -2.2569, -2.6279, -2.6279, -2.6279,\n",
      "        -2.6279, -2.6279, -2.6279, -2.6279, -2.3963, -2.3963, -2.3963, -2.3963,\n",
      "        -2.2531, -2.2531, -2.5379, -2.5379, -2.5379, -2.3537, -2.3537, -2.3537,\n",
      "        -2.3537, -2.3537, -2.4768, -2.4768, -2.4768, -2.4768, -2.4768, -2.4768,\n",
      "        -2.3980, -2.3980, -2.3980, -2.3980, -2.6243, -2.6243, -2.6243, -2.6243,\n",
      "        -2.6243, -2.6243, -2.6243, -2.5283, -2.5283, -2.5283, -2.5283, -2.5283,\n",
      "        -2.5283, -2.5382, -2.5382, -2.5382, -2.5382, -2.5382, -2.3670, -2.3670,\n",
      "        -2.3670, -2.3670, -2.4643, -2.4643, -2.4643, -2.4643, -2.8203, -2.8203,\n",
      "        -2.8203, -2.8203, -2.8203, -2.8203, -2.8203, -2.8203, -2.5714, -2.5714,\n",
      "        -2.5714, -2.5714, -2.3229, -2.3229, -2.3229, -2.4089, -2.4089, -2.4089,\n",
      "        -2.2006, -2.2006, -2.1650, -2.1650, -2.1650, -2.4877, -2.4877, -2.4877,\n",
      "        -2.4984, -2.4984, -2.4984, -2.4984, -2.4984, -2.4984, -2.4984, -2.4509,\n",
      "        -2.4509, -2.4509], grad_fn=<IndexBackward0>)\n",
      "Edge probabilites for last sub_problem in last problem batch: tensor([0.1101, 0.1101, 0.1101, 0.0751, 0.0751, 0.0751, 0.0751, 0.0751, 0.0813,\n",
      "        0.0813, 0.0813, 0.0813, 0.0813, 0.0778, 0.0778, 0.0778, 0.0778, 0.0842,\n",
      "        0.0842, 0.0842, 0.0613, 0.0613, 0.0613, 0.0613, 0.0613, 0.0613, 0.0613,\n",
      "        0.0613, 0.0782, 0.0782, 0.0782, 0.0782, 0.0841, 0.0841, 0.0841, 0.0841,\n",
      "        0.0849, 0.0849, 0.0849, 0.1253, 0.1253, 0.1253, 0.0948, 0.0948, 0.0948,\n",
      "        0.0674, 0.0674, 0.0674, 0.0674, 0.0674, 0.0674, 0.0674, 0.0835, 0.0835,\n",
      "        0.0835, 0.0835, 0.0951, 0.0951, 0.0732, 0.0732, 0.0732, 0.0868, 0.0868,\n",
      "        0.0868, 0.0868, 0.0868, 0.0775, 0.0775, 0.0775, 0.0775, 0.0775, 0.0775,\n",
      "        0.0833, 0.0833, 0.0833, 0.0833, 0.0676, 0.0676, 0.0676, 0.0676, 0.0676,\n",
      "        0.0676, 0.0676, 0.0739, 0.0739, 0.0739, 0.0739, 0.0739, 0.0739, 0.0732,\n",
      "        0.0732, 0.0732, 0.0732, 0.0732, 0.0857, 0.0857, 0.0857, 0.0857, 0.0784,\n",
      "        0.0784, 0.0784, 0.0784, 0.0562, 0.0562, 0.0562, 0.0562, 0.0562, 0.0562,\n",
      "        0.0562, 0.0562, 0.0710, 0.0710, 0.0710, 0.0710, 0.0892, 0.0892, 0.0892,\n",
      "        0.0825, 0.0825, 0.0825, 0.0997, 0.0997, 0.1029, 0.1029, 0.1029, 0.0767,\n",
      "        0.0767, 0.0767, 0.0760, 0.0760, 0.0760, 0.0760, 0.0760, 0.0760, 0.0760,\n",
      "        0.0794, 0.0794, 0.0794])\n",
      "mean auroc score: 0.5290971994400024\n",
      "Epoch 22, Loss: 1.3894752264022827\n",
      "Edge weights for last sub_problem in last problem batch: tensor([-2.2244, -2.2244, -2.2244, -2.6648, -2.6648, -2.6648, -2.6648, -2.6648,\n",
      "        -2.5883, -2.5883, -2.5883, -2.5883, -2.5883, -2.6221, -2.6221, -2.6221,\n",
      "        -2.6221, -2.5378, -2.5378, -2.5378, -2.9209, -2.9209, -2.9209, -2.9209,\n",
      "        -2.9209, -2.9209, -2.9209, -2.9209, -2.6266, -2.6266, -2.6266, -2.6266,\n",
      "        -2.5323, -2.5323, -2.5323, -2.5323, -2.5180, -2.5180, -2.5180, -2.0567,\n",
      "        -2.0567, -2.0567, -2.3976, -2.3976, -2.3976, -2.8165, -2.8165, -2.8165,\n",
      "        -2.8165, -2.8165, -2.8165, -2.8165, -2.5535, -2.5535, -2.5535, -2.5535,\n",
      "        -2.3784, -2.3784, -2.6869, -2.6869, -2.6869, -2.5232, -2.5232, -2.5232,\n",
      "        -2.5232, -2.5232, -2.6496, -2.6496, -2.6496, -2.6496, -2.6496, -2.6496,\n",
      "        -2.5388, -2.5388, -2.5388, -2.5388, -2.8057, -2.8057, -2.8057, -2.8057,\n",
      "        -2.8057, -2.8057, -2.8057, -2.6965, -2.6965, -2.6965, -2.6965, -2.6965,\n",
      "        -2.6965, -2.7016, -2.7016, -2.7016, -2.7016, -2.7016, -2.5040, -2.5040,\n",
      "        -2.5040, -2.5040, -2.6151, -2.6151, -2.6151, -2.6151, -3.0137, -3.0137,\n",
      "        -3.0137, -3.0137, -3.0137, -3.0137, -3.0137, -3.0137, -2.7340, -2.7340,\n",
      "        -2.7340, -2.7340, -2.4645, -2.4645, -2.4645, -2.5545, -2.5545, -2.5545,\n",
      "        -2.3321, -2.3321, -2.3035, -2.3035, -2.3035, -2.6367, -2.6367, -2.6367,\n",
      "        -2.6651, -2.6651, -2.6651, -2.6651, -2.6651, -2.6651, -2.6651, -2.5958,\n",
      "        -2.5958, -2.5958], grad_fn=<IndexBackward0>)\n",
      "Edge probabilites for last sub_problem in last problem batch: tensor([0.0976, 0.0976, 0.0976, 0.0651, 0.0651, 0.0651, 0.0651, 0.0651, 0.0699,\n",
      "        0.0699, 0.0699, 0.0699, 0.0699, 0.0677, 0.0677, 0.0677, 0.0677, 0.0733,\n",
      "        0.0733, 0.0733, 0.0511, 0.0511, 0.0511, 0.0511, 0.0511, 0.0511, 0.0511,\n",
      "        0.0511, 0.0674, 0.0674, 0.0674, 0.0674, 0.0736, 0.0736, 0.0736, 0.0736,\n",
      "        0.0746, 0.0746, 0.0746, 0.1134, 0.1134, 0.1134, 0.0834, 0.0834, 0.0834,\n",
      "        0.0564, 0.0564, 0.0564, 0.0564, 0.0564, 0.0564, 0.0564, 0.0722, 0.0722,\n",
      "        0.0722, 0.0722, 0.0848, 0.0848, 0.0638, 0.0638, 0.0638, 0.0743, 0.0743,\n",
      "        0.0743, 0.0743, 0.0743, 0.0660, 0.0660, 0.0660, 0.0660, 0.0660, 0.0660,\n",
      "        0.0732, 0.0732, 0.0732, 0.0732, 0.0570, 0.0570, 0.0570, 0.0570, 0.0570,\n",
      "        0.0570, 0.0570, 0.0632, 0.0632, 0.0632, 0.0632, 0.0632, 0.0632, 0.0629,\n",
      "        0.0629, 0.0629, 0.0629, 0.0629, 0.0756, 0.0756, 0.0756, 0.0756, 0.0682,\n",
      "        0.0682, 0.0682, 0.0682, 0.0468, 0.0468, 0.0468, 0.0468, 0.0468, 0.0468,\n",
      "        0.0468, 0.0468, 0.0610, 0.0610, 0.0610, 0.0610, 0.0784, 0.0784, 0.0784,\n",
      "        0.0721, 0.0721, 0.0721, 0.0885, 0.0885, 0.0908, 0.0908, 0.0908, 0.0668,\n",
      "        0.0668, 0.0668, 0.0651, 0.0651, 0.0651, 0.0651, 0.0651, 0.0651, 0.0651,\n",
      "        0.0694, 0.0694, 0.0694])\n",
      "mean auroc score: 0.526664137840271\n",
      "Epoch 23, Loss: 1.3561359643936157\n",
      "Edge weights for last sub_problem in last problem batch: tensor([-2.3721, -2.3721, -2.3721, -2.8353, -2.8353, -2.8353, -2.8353, -2.8353,\n",
      "        -2.7669, -2.7669, -2.7669, -2.7669, -2.7669, -2.7869, -2.7869, -2.7869,\n",
      "        -2.7869, -2.7033, -2.7033, -2.7033, -3.1305, -3.1305, -3.1305, -3.1305,\n",
      "        -3.1305, -3.1305, -3.1305, -3.1305, -2.8018, -2.8018, -2.8018, -2.8018,\n",
      "        -2.6918, -2.6918, -2.6918, -2.6918, -2.6722, -2.6722, -2.6722, -2.1877,\n",
      "        -2.1877, -2.1877, -2.5527, -2.5527, -2.5527, -3.0194, -3.0194, -3.0194,\n",
      "        -3.0194, -3.0194, -3.0194, -3.0194, -2.7247, -2.7247, -2.7247, -2.7247,\n",
      "        -2.5253, -2.5253, -2.8528, -2.8528, -2.8528, -2.7037, -2.7037, -2.7037,\n",
      "        -2.7037, -2.7037, -2.8333, -2.8333, -2.8333, -2.8333, -2.8333, -2.8333,\n",
      "        -2.6945, -2.6945, -2.6945, -2.6945, -3.0066, -3.0066, -3.0066, -3.0066,\n",
      "        -3.0066, -3.0066, -3.0066, -2.8812, -2.8812, -2.8812, -2.8812, -2.8812,\n",
      "        -2.8812, -2.8811, -2.8811, -2.8811, -2.8811, -2.8811, -2.6556, -2.6556,\n",
      "        -2.6556, -2.6556, -2.7819, -2.7819, -2.7819, -2.7819, -3.2260, -3.2260,\n",
      "        -3.2260, -3.2260, -3.2260, -3.2260, -3.2260, -3.2260, -2.9122, -2.9122,\n",
      "        -2.9122, -2.9122, -2.6240, -2.6240, -2.6240, -2.7152, -2.7152, -2.7152,\n",
      "        -2.4798, -2.4798, -2.4556, -2.4556, -2.4556, -2.7992, -2.7992, -2.7992,\n",
      "        -2.8465, -2.8465, -2.8465, -2.8465, -2.8465, -2.8465, -2.8465, -2.7546,\n",
      "        -2.7546, -2.7546], grad_fn=<IndexBackward0>)\n",
      "Edge probabilites for last sub_problem in last problem batch: tensor([0.0853, 0.0853, 0.0853, 0.0554, 0.0554, 0.0554, 0.0554, 0.0554, 0.0591,\n",
      "        0.0591, 0.0591, 0.0591, 0.0591, 0.0580, 0.0580, 0.0580, 0.0580, 0.0628,\n",
      "        0.0628, 0.0628, 0.0419, 0.0419, 0.0419, 0.0419, 0.0419, 0.0419, 0.0419,\n",
      "        0.0419, 0.0572, 0.0572, 0.0572, 0.0572, 0.0635, 0.0635, 0.0635, 0.0635,\n",
      "        0.0646, 0.0646, 0.0646, 0.1009, 0.1009, 0.1009, 0.0722, 0.0722, 0.0722,\n",
      "        0.0466, 0.0466, 0.0466, 0.0466, 0.0466, 0.0466, 0.0466, 0.0615, 0.0615,\n",
      "        0.0615, 0.0615, 0.0741, 0.0741, 0.0545, 0.0545, 0.0545, 0.0628, 0.0628,\n",
      "        0.0628, 0.0628, 0.0628, 0.0556, 0.0556, 0.0556, 0.0556, 0.0556, 0.0556,\n",
      "        0.0633, 0.0633, 0.0633, 0.0633, 0.0471, 0.0471, 0.0471, 0.0471, 0.0471,\n",
      "        0.0471, 0.0471, 0.0531, 0.0531, 0.0531, 0.0531, 0.0531, 0.0531, 0.0531,\n",
      "        0.0531, 0.0531, 0.0531, 0.0531, 0.0656, 0.0656, 0.0656, 0.0656, 0.0583,\n",
      "        0.0583, 0.0583, 0.0583, 0.0382, 0.0382, 0.0382, 0.0382, 0.0382, 0.0382,\n",
      "        0.0382, 0.0382, 0.0516, 0.0516, 0.0516, 0.0516, 0.0676, 0.0676, 0.0676,\n",
      "        0.0621, 0.0621, 0.0621, 0.0773, 0.0773, 0.0790, 0.0790, 0.0790, 0.0574,\n",
      "        0.0574, 0.0574, 0.0549, 0.0549, 0.0549, 0.0549, 0.0549, 0.0549, 0.0549,\n",
      "        0.0598, 0.0598, 0.0598])\n",
      "mean auroc score: 0.5253520011901855\n",
      "Epoch 24, Loss: 1.3143466711044312\n",
      "Edge weights for last sub_problem in last problem batch: tensor([-2.5337, -2.5337, -2.5337, -3.0228, -3.0228, -3.0228, -3.0228, -3.0228,\n",
      "        -2.9600, -2.9600, -2.9600, -2.9600, -2.9600, -2.9701, -2.9701, -2.9701,\n",
      "        -2.9701, -2.8867, -2.8867, -2.8867, -3.3557, -3.3557, -3.3557, -3.3557,\n",
      "        -3.3557, -3.3557, -3.3557, -3.3557, -2.9937, -2.9937, -2.9937, -2.9937,\n",
      "        -2.8681, -2.8681, -2.8681, -2.8681, -2.8436, -2.8436, -2.8436, -2.3331,\n",
      "        -2.3331, -2.3331, -2.7237, -2.7237, -2.7237, -3.2362, -3.2362, -3.2362,\n",
      "        -3.2362, -3.2362, -3.2362, -3.2362, -2.9131, -2.9131, -2.9131, -2.9131,\n",
      "        -2.6897, -2.6897, -3.0374, -3.0374, -3.0374, -2.8986, -2.8986, -2.8986,\n",
      "        -2.8986, -2.8986, -3.0330, -3.0330, -3.0330, -3.0330, -3.0330, -3.0330,\n",
      "        -2.8670, -2.8670, -2.8670, -2.8670, -3.2206, -3.2206, -3.2206, -3.2206,\n",
      "        -3.2206, -3.2206, -3.2206, -3.0812, -3.0812, -3.0812, -3.0812, -3.0812,\n",
      "        -3.0812, -3.0775, -3.0775, -3.0775, -3.0775, -3.0775, -2.8243, -2.8243,\n",
      "        -2.8243, -2.8243, -2.9660, -2.9660, -2.9660, -2.9660, -3.4537, -3.4537,\n",
      "        -3.4537, -3.4537, -3.4537, -3.4537, -3.4537, -3.4537, -3.1093, -3.1093,\n",
      "        -3.1093, -3.1093, -2.8014, -2.8014, -2.8014, -2.8929, -2.8929, -2.8929,\n",
      "        -2.6425, -2.6425, -2.6232, -2.6232, -2.6232, -2.9787, -2.9787, -2.9787,\n",
      "        -3.0431, -3.0431, -3.0431, -3.0431, -3.0431, -3.0431, -3.0431, -2.9307,\n",
      "        -2.9307, -2.9307], grad_fn=<IndexBackward0>)\n",
      "Edge probabilites for last sub_problem in last problem batch: tensor([0.0735, 0.0735, 0.0735, 0.0464, 0.0464, 0.0464, 0.0464, 0.0464, 0.0493,\n",
      "        0.0493, 0.0493, 0.0493, 0.0493, 0.0488, 0.0488, 0.0488, 0.0488, 0.0528,\n",
      "        0.0528, 0.0528, 0.0337, 0.0337, 0.0337, 0.0337, 0.0337, 0.0337, 0.0337,\n",
      "        0.0337, 0.0477, 0.0477, 0.0477, 0.0477, 0.0538, 0.0538, 0.0538, 0.0538,\n",
      "        0.0550, 0.0550, 0.0550, 0.0884, 0.0884, 0.0884, 0.0616, 0.0616, 0.0616,\n",
      "        0.0378, 0.0378, 0.0378, 0.0378, 0.0378, 0.0378, 0.0378, 0.0515, 0.0515,\n",
      "        0.0515, 0.0515, 0.0636, 0.0636, 0.0458, 0.0458, 0.0458, 0.0522, 0.0522,\n",
      "        0.0522, 0.0522, 0.0522, 0.0460, 0.0460, 0.0460, 0.0460, 0.0460, 0.0460,\n",
      "        0.0538, 0.0538, 0.0538, 0.0538, 0.0384, 0.0384, 0.0384, 0.0384, 0.0384,\n",
      "        0.0384, 0.0384, 0.0439, 0.0439, 0.0439, 0.0439, 0.0439, 0.0439, 0.0440,\n",
      "        0.0440, 0.0440, 0.0440, 0.0440, 0.0560, 0.0560, 0.0560, 0.0560, 0.0490,\n",
      "        0.0490, 0.0490, 0.0490, 0.0307, 0.0307, 0.0307, 0.0307, 0.0307, 0.0307,\n",
      "        0.0307, 0.0307, 0.0427, 0.0427, 0.0427, 0.0427, 0.0572, 0.0572, 0.0572,\n",
      "        0.0525, 0.0525, 0.0525, 0.0664, 0.0664, 0.0677, 0.0677, 0.0677, 0.0484,\n",
      "        0.0484, 0.0484, 0.0455, 0.0455, 0.0455, 0.0455, 0.0455, 0.0455, 0.0455,\n",
      "        0.0507, 0.0507, 0.0507])\n",
      "mean auroc score: 0.524375319480896\n",
      "Epoch 25, Loss: 1.224935531616211\n",
      "Edge weights for last sub_problem in last problem batch: tensor([-2.7102, -2.7102, -2.7102, -3.2298, -3.2298, -3.2298, -3.2298, -3.2298,\n",
      "        -3.1701, -3.1701, -3.1701, -3.1701, -3.1701, -3.1723, -3.1723, -3.1723,\n",
      "        -3.1723, -3.0875, -3.0875, -3.0875, -3.5971, -3.5971, -3.5971, -3.5971,\n",
      "        -3.5971, -3.5971, -3.5971, -3.5971, -3.2036, -3.2036, -3.2036, -3.2036,\n",
      "        -3.0620, -3.0620, -3.0620, -3.0620, -3.0332, -3.0332, -3.0332, -2.4931,\n",
      "        -2.4931, -2.4931, -2.9115, -2.9115, -2.9115, -3.4703, -3.4703, -3.4703,\n",
      "        -3.4703, -3.4703, -3.4703, -3.4703, -3.1183, -3.1183, -3.1183, -3.1183,\n",
      "        -2.8714, -2.8714, -3.2414, -3.2414, -3.2414, -3.1085, -3.1085, -3.1085,\n",
      "        -3.1085, -3.1085, -3.2499, -3.2499, -3.2499, -3.2499, -3.2499, -3.2499,\n",
      "        -3.0581, -3.0581, -3.0581, -3.0581, -3.4520, -3.4520, -3.4520, -3.4520,\n",
      "        -3.4520, -3.4520, -3.4520, -3.2987, -3.2987, -3.2987, -3.2987, -3.2987,\n",
      "        -3.2987, -3.2920, -3.2920, -3.2920, -3.2920, -3.2920, -3.0120, -3.0120,\n",
      "        -3.0120, -3.0120, -3.1679, -3.1679, -3.1679, -3.1679, -3.7001, -3.7001,\n",
      "        -3.7001, -3.7001, -3.7001, -3.7001, -3.7001, -3.7001, -3.3253, -3.3253,\n",
      "        -3.3253, -3.3253, -2.9962, -2.9962, -2.9962, -3.0896, -3.0896, -3.0896,\n",
      "        -2.8207, -2.8207, -2.8070, -2.8070, -2.8070, -3.1771, -3.1771, -3.1771,\n",
      "        -3.2575, -3.2575, -3.2575, -3.2575, -3.2575, -3.2575, -3.2575, -3.1253,\n",
      "        -3.1253, -3.1253], grad_fn=<IndexBackward0>)\n",
      "Edge probabilites for last sub_problem in last problem batch: tensor([0.0624, 0.0624, 0.0624, 0.0381, 0.0381, 0.0381, 0.0381, 0.0381, 0.0403,\n",
      "        0.0403, 0.0403, 0.0403, 0.0403, 0.0402, 0.0402, 0.0402, 0.0402, 0.0436,\n",
      "        0.0436, 0.0436, 0.0267, 0.0267, 0.0267, 0.0267, 0.0267, 0.0267, 0.0267,\n",
      "        0.0267, 0.0390, 0.0390, 0.0390, 0.0390, 0.0447, 0.0447, 0.0447, 0.0447,\n",
      "        0.0460, 0.0460, 0.0460, 0.0763, 0.0763, 0.0763, 0.0516, 0.0516, 0.0516,\n",
      "        0.0302, 0.0302, 0.0302, 0.0302, 0.0302, 0.0302, 0.0302, 0.0424, 0.0424,\n",
      "        0.0424, 0.0424, 0.0536, 0.0536, 0.0376, 0.0376, 0.0376, 0.0428, 0.0428,\n",
      "        0.0428, 0.0428, 0.0428, 0.0373, 0.0373, 0.0373, 0.0373, 0.0373, 0.0373,\n",
      "        0.0449, 0.0449, 0.0449, 0.0449, 0.0307, 0.0307, 0.0307, 0.0307, 0.0307,\n",
      "        0.0307, 0.0307, 0.0356, 0.0356, 0.0356, 0.0356, 0.0356, 0.0356, 0.0358,\n",
      "        0.0358, 0.0358, 0.0358, 0.0358, 0.0469, 0.0469, 0.0469, 0.0469, 0.0404,\n",
      "        0.0404, 0.0404, 0.0404, 0.0241, 0.0241, 0.0241, 0.0241, 0.0241, 0.0241,\n",
      "        0.0241, 0.0241, 0.0347, 0.0347, 0.0347, 0.0347, 0.0476, 0.0476, 0.0476,\n",
      "        0.0435, 0.0435, 0.0435, 0.0562, 0.0562, 0.0569, 0.0569, 0.0569, 0.0400,\n",
      "        0.0400, 0.0400, 0.0371, 0.0371, 0.0371, 0.0371, 0.0371, 0.0371, 0.0371,\n",
      "        0.0421, 0.0421, 0.0421])\n",
      "mean auroc score: 0.5249974727630615\n",
      "Warning: When  cdn_resources is 'local' jupyter notebook has issues displaying graphics on chrome/safari. Use cdn_resources='in_line' or cdn_resources='remote' if you have issues viewing graphics in a notebook.\n",
      "results/replication/seed0_vis_edge_ij_25.html\n",
      "Visualization saved as results/replication/seed0_vis_edge_ij_25.html. Open it in your browser.\n",
      "Epoch 26, Loss: 1.1235673427581787\n",
      "Edge weights for last sub_problem in last problem batch: tensor([-2.9016, -2.9016, -2.9016, -3.4525, -3.4525, -3.4525, -3.4525, -3.4525,\n",
      "        -3.3971, -3.3971, -3.3971, -3.3971, -3.3971, -3.3890, -3.3890, -3.3890,\n",
      "        -3.3890, -3.3034, -3.3034, -3.3034, -3.8572, -3.8572, -3.8572, -3.8572,\n",
      "        -3.8572, -3.8572, -3.8572, -3.8572, -3.4302, -3.4302, -3.4302, -3.4302,\n",
      "        -3.2704, -3.2704, -3.2704, -3.2704, -3.2373, -3.2373, -3.2373, -2.6662,\n",
      "        -2.6662, -2.6662, -3.1139, -3.1139, -3.1139, -3.7221, -3.7221, -3.7221,\n",
      "        -3.7221, -3.7221, -3.7221, -3.7221, -3.3404, -3.3404, -3.3404, -3.3404,\n",
      "        -3.0703, -3.0703, -3.4608, -3.4608, -3.4608, -3.3342, -3.3342, -3.3342,\n",
      "        -3.3342, -3.3342, -3.4832, -3.4832, -3.4832, -3.4832, -3.4832, -3.4832,\n",
      "        -3.2638, -3.2638, -3.2638, -3.2638, -3.7008, -3.7008, -3.7008, -3.7008,\n",
      "        -3.7008, -3.7008, -3.7008, -3.5334, -3.5334, -3.5334, -3.5334, -3.5334,\n",
      "        -3.5334, -3.5237, -3.5237, -3.5237, -3.5237, -3.5237, -3.2130, -3.2130,\n",
      "        -3.2130, -3.2130, -3.3852, -3.3852, -3.3852, -3.3852, -3.9652, -3.9652,\n",
      "        -3.9652, -3.9652, -3.9652, -3.9652, -3.9652, -3.9652, -3.5575, -3.5575,\n",
      "        -3.5575, -3.5575, -3.2064, -3.2064, -3.2064, -3.3009, -3.3009, -3.3009,\n",
      "        -3.0130, -3.0130, -3.0053, -3.0053, -3.0053, -3.3909, -3.3909, -3.3909,\n",
      "        -3.4888, -3.4888, -3.4888, -3.4888, -3.4888, -3.4888, -3.4888, -3.3355,\n",
      "        -3.3355, -3.3355], grad_fn=<IndexBackward0>)\n",
      "Edge probabilites for last sub_problem in last problem batch: tensor([0.0521, 0.0521, 0.0521, 0.0307, 0.0307, 0.0307, 0.0307, 0.0307, 0.0324,\n",
      "        0.0324, 0.0324, 0.0324, 0.0324, 0.0326, 0.0326, 0.0326, 0.0326, 0.0355,\n",
      "        0.0355, 0.0355, 0.0207, 0.0207, 0.0207, 0.0207, 0.0207, 0.0207, 0.0207,\n",
      "        0.0207, 0.0314, 0.0314, 0.0314, 0.0314, 0.0366, 0.0366, 0.0366, 0.0366,\n",
      "        0.0378, 0.0378, 0.0378, 0.0650, 0.0650, 0.0650, 0.0425, 0.0425, 0.0425,\n",
      "        0.0236, 0.0236, 0.0236, 0.0236, 0.0236, 0.0236, 0.0236, 0.0342, 0.0342,\n",
      "        0.0342, 0.0342, 0.0444, 0.0444, 0.0304, 0.0304, 0.0304, 0.0344, 0.0344,\n",
      "        0.0344, 0.0344, 0.0344, 0.0298, 0.0298, 0.0298, 0.0298, 0.0298, 0.0298,\n",
      "        0.0368, 0.0368, 0.0368, 0.0368, 0.0241, 0.0241, 0.0241, 0.0241, 0.0241,\n",
      "        0.0241, 0.0241, 0.0284, 0.0284, 0.0284, 0.0284, 0.0284, 0.0284, 0.0286,\n",
      "        0.0286, 0.0286, 0.0286, 0.0286, 0.0387, 0.0387, 0.0387, 0.0387, 0.0328,\n",
      "        0.0328, 0.0328, 0.0328, 0.0186, 0.0186, 0.0186, 0.0186, 0.0186, 0.0186,\n",
      "        0.0186, 0.0186, 0.0277, 0.0277, 0.0277, 0.0277, 0.0389, 0.0389, 0.0389,\n",
      "        0.0355, 0.0355, 0.0355, 0.0468, 0.0468, 0.0472, 0.0472, 0.0472, 0.0326,\n",
      "        0.0326, 0.0326, 0.0296, 0.0296, 0.0296, 0.0296, 0.0296, 0.0296, 0.0296,\n",
      "        0.0344, 0.0344, 0.0344])\n",
      "mean auroc score: 0.5240516066551208\n",
      "Epoch 27, Loss: 1.0737926959991455\n",
      "Edge weights for last sub_problem in last problem batch: tensor([-3.1076, -3.1076, -3.1076, -3.6893, -3.6893, -3.6893, -3.6893, -3.6893,\n",
      "        -3.6403, -3.6403, -3.6403, -3.6403, -3.6403, -3.6196, -3.6196, -3.6196,\n",
      "        -3.6196, -3.5324, -3.5324, -3.5324, -4.1357, -4.1357, -4.1357, -4.1357,\n",
      "        -4.1357, -4.1357, -4.1357, -4.1357, -3.6724, -3.6724, -3.6724, -3.6724,\n",
      "        -3.4936, -3.4936, -3.4936, -3.4936, -3.4582, -3.4582, -3.4582, -2.8551,\n",
      "        -2.8551, -2.8551, -3.3307, -3.3307, -3.3307, -3.9919, -3.9919, -3.9919,\n",
      "        -3.9919, -3.9919, -3.9919, -3.9919, -3.5784, -3.5784, -3.5784, -3.5784,\n",
      "        -3.2881, -3.2881, -3.6957, -3.6957, -3.6957, -3.5761, -3.5761, -3.5761,\n",
      "        -3.5761, -3.5761, -3.7337, -3.7337, -3.7337, -3.7337, -3.7337, -3.7337,\n",
      "        -3.4871, -3.4871, -3.4871, -3.4871, -3.9674, -3.9674, -3.9674, -3.9674,\n",
      "        -3.9674, -3.9674, -3.9674, -3.7849, -3.7849, -3.7849, -3.7849, -3.7849,\n",
      "        -3.7849, -3.7718, -3.7718, -3.7718, -3.7718, -3.7718, -3.4293, -3.4293,\n",
      "        -3.4293, -3.4293, -3.6176, -3.6176, -3.6176, -3.6176, -4.2484, -4.2484,\n",
      "        -4.2484, -4.2484, -4.2484, -4.2484, -4.2484, -4.2484, -3.8049, -3.8049,\n",
      "        -3.8049, -3.8049, -3.4315, -3.4315, -3.4315, -3.5263, -3.5263, -3.5263,\n",
      "        -3.2182, -3.2182, -3.2171, -3.2171, -3.2171, -3.6237, -3.6237, -3.6237,\n",
      "        -3.7366, -3.7366, -3.7366, -3.7366, -3.7366, -3.7366, -3.7366, -3.5644,\n",
      "        -3.5644, -3.5644], grad_fn=<IndexBackward0>)\n",
      "Edge probabilites for last sub_problem in last problem batch: tensor([0.0428, 0.0428, 0.0428, 0.0244, 0.0244, 0.0244, 0.0244, 0.0244, 0.0256,\n",
      "        0.0256, 0.0256, 0.0256, 0.0256, 0.0261, 0.0261, 0.0261, 0.0261, 0.0284,\n",
      "        0.0284, 0.0284, 0.0157, 0.0157, 0.0157, 0.0157, 0.0157, 0.0157, 0.0157,\n",
      "        0.0157, 0.0248, 0.0248, 0.0248, 0.0248, 0.0295, 0.0295, 0.0295, 0.0295,\n",
      "        0.0305, 0.0305, 0.0305, 0.0544, 0.0544, 0.0544, 0.0345, 0.0345, 0.0345,\n",
      "        0.0181, 0.0181, 0.0181, 0.0181, 0.0181, 0.0181, 0.0181, 0.0272, 0.0272,\n",
      "        0.0272, 0.0272, 0.0360, 0.0360, 0.0242, 0.0242, 0.0242, 0.0272, 0.0272,\n",
      "        0.0272, 0.0272, 0.0272, 0.0233, 0.0233, 0.0233, 0.0233, 0.0233, 0.0233,\n",
      "        0.0297, 0.0297, 0.0297, 0.0297, 0.0186, 0.0186, 0.0186, 0.0186, 0.0186,\n",
      "        0.0186, 0.0186, 0.0222, 0.0222, 0.0222, 0.0222, 0.0222, 0.0222, 0.0225,\n",
      "        0.0225, 0.0225, 0.0225, 0.0225, 0.0314, 0.0314, 0.0314, 0.0314, 0.0261,\n",
      "        0.0261, 0.0261, 0.0261, 0.0141, 0.0141, 0.0141, 0.0141, 0.0141, 0.0141,\n",
      "        0.0141, 0.0141, 0.0218, 0.0218, 0.0218, 0.0218, 0.0313, 0.0313, 0.0313,\n",
      "        0.0286, 0.0286, 0.0286, 0.0385, 0.0385, 0.0385, 0.0385, 0.0385, 0.0260,\n",
      "        0.0260, 0.0260, 0.0233, 0.0233, 0.0233, 0.0233, 0.0233, 0.0233, 0.0233,\n",
      "        0.0275, 0.0275, 0.0275])\n",
      "mean auroc score: 0.5240305066108704\n",
      "Epoch 28, Loss: 0.975800633430481\n",
      "Edge weights for last sub_problem in last problem batch: tensor([-3.3200, -3.3200, -3.3200, -3.9365, -3.9365, -3.9365, -3.9365, -3.9365,\n",
      "        -3.8946, -3.8946, -3.8946, -3.8946, -3.8946, -3.8625, -3.8625, -3.8625,\n",
      "        -3.8625, -3.7731, -3.7731, -3.7731, -4.4249, -4.4249, -4.4249, -4.4249,\n",
      "        -4.4249, -4.4249, -4.4249, -4.4249, -3.9240, -3.9240, -3.9240, -3.9240,\n",
      "        -3.7274, -3.7274, -3.7274, -3.7274, -3.6903, -3.6903, -3.6903, -3.0523,\n",
      "        -3.0523, -3.0523, -3.5557, -3.5557, -3.5557, -4.2724, -4.2724, -4.2724,\n",
      "        -4.2724, -4.2724, -4.2724, -4.2724, -3.8265, -3.8265, -3.8265, -3.8265,\n",
      "        -3.5144, -3.5144, -3.9433, -3.9433, -3.9433, -3.8246, -3.8246, -3.8246,\n",
      "        -3.8246, -3.8246, -3.9936, -3.9936, -3.9936, -3.9936, -3.9936, -3.9936,\n",
      "        -3.7201, -3.7201, -3.7201, -3.7201, -4.2440, -4.2440, -4.2440, -4.2440,\n",
      "        -4.2440, -4.2440, -4.2440, -4.0476, -4.0476, -4.0476, -4.0476, -4.0476,\n",
      "        -4.0476, -4.0296, -4.0296, -4.0296, -4.0296, -4.0296, -3.6586, -3.6586,\n",
      "        -3.6586, -3.6586, -3.8603, -3.8603, -3.8603, -3.8603, -4.5422, -4.5422,\n",
      "        -4.5422, -4.5422, -4.5422, -4.5422, -4.5422, -4.5422, -4.0618, -4.0618,\n",
      "        -4.0618, -4.0618, -3.6684, -3.6684, -3.6684, -3.7646, -3.7646, -3.7646,\n",
      "        -3.4300, -3.4300, -3.4366, -3.4366, -3.4366, -3.8663, -3.8663, -3.8663,\n",
      "        -3.9951, -3.9951, -3.9951, -3.9951, -3.9951, -3.9951, -3.9951, -3.8024,\n",
      "        -3.8024, -3.8024], grad_fn=<IndexBackward0>)\n",
      "Edge probabilites for last sub_problem in last problem batch: tensor([0.0349, 0.0349, 0.0349, 0.0191, 0.0191, 0.0191, 0.0191, 0.0191, 0.0199,\n",
      "        0.0199, 0.0199, 0.0199, 0.0199, 0.0206, 0.0206, 0.0206, 0.0206, 0.0225,\n",
      "        0.0225, 0.0225, 0.0118, 0.0118, 0.0118, 0.0118, 0.0118, 0.0118, 0.0118,\n",
      "        0.0118, 0.0194, 0.0194, 0.0194, 0.0194, 0.0235, 0.0235, 0.0235, 0.0235,\n",
      "        0.0244, 0.0244, 0.0244, 0.0451, 0.0451, 0.0451, 0.0278, 0.0278, 0.0278,\n",
      "        0.0138, 0.0138, 0.0138, 0.0138, 0.0138, 0.0138, 0.0138, 0.0213, 0.0213,\n",
      "        0.0213, 0.0213, 0.0289, 0.0289, 0.0190, 0.0190, 0.0190, 0.0214, 0.0214,\n",
      "        0.0214, 0.0214, 0.0214, 0.0181, 0.0181, 0.0181, 0.0181, 0.0181, 0.0181,\n",
      "        0.0237, 0.0237, 0.0237, 0.0237, 0.0141, 0.0141, 0.0141, 0.0141, 0.0141,\n",
      "        0.0141, 0.0141, 0.0172, 0.0172, 0.0172, 0.0172, 0.0172, 0.0172, 0.0175,\n",
      "        0.0175, 0.0175, 0.0175, 0.0175, 0.0251, 0.0251, 0.0251, 0.0251, 0.0206,\n",
      "        0.0206, 0.0206, 0.0206, 0.0105, 0.0105, 0.0105, 0.0105, 0.0105, 0.0105,\n",
      "        0.0105, 0.0105, 0.0169, 0.0169, 0.0169, 0.0169, 0.0249, 0.0249, 0.0249,\n",
      "        0.0227, 0.0227, 0.0227, 0.0314, 0.0314, 0.0312, 0.0312, 0.0312, 0.0205,\n",
      "        0.0205, 0.0205, 0.0181, 0.0181, 0.0181, 0.0181, 0.0181, 0.0181, 0.0181,\n",
      "        0.0218, 0.0218, 0.0218])\n",
      "mean auroc score: 0.5243443250656128\n",
      "Epoch 29, Loss: 0.9440291523933411\n",
      "Edge weights for last sub_problem in last problem batch: tensor([-3.5336, -3.5336, -3.5336, -4.1862, -4.1862, -4.1862, -4.1862, -4.1862,\n",
      "        -4.1519, -4.1519, -4.1519, -4.1519, -4.1519, -4.1074, -4.1074, -4.1074,\n",
      "        -4.1074, -4.0152, -4.0152, -4.0152, -4.7168, -4.7168, -4.7168, -4.7168,\n",
      "        -4.7168, -4.7168, -4.7168, -4.7168, -4.1791, -4.1791, -4.1791, -4.1791,\n",
      "        -3.9609, -3.9609, -3.9609, -3.9609, -3.9231, -3.9231, -3.9231, -3.2520,\n",
      "        -3.2520, -3.2520, -3.7822, -3.7822, -3.7822, -4.5534, -4.5534, -4.5534,\n",
      "        -4.5534, -4.5534, -4.5534, -4.5534, -4.0745, -4.0745, -4.0745, -4.0745,\n",
      "        -3.7423, -3.7423, -4.1913, -4.1913, -4.1913, -4.0751, -4.0751, -4.0751,\n",
      "        -4.0751, -4.0751, -4.2543, -4.2543, -4.2543, -4.2543, -4.2543, -4.2543,\n",
      "        -3.9531, -3.9531, -3.9531, -3.9531, -4.5230, -4.5230, -4.5230, -4.5230,\n",
      "        -4.5230, -4.5230, -4.5230, -4.3124, -4.3124, -4.3124, -4.3124, -4.3124,\n",
      "        -4.3124, -4.2918, -4.2918, -4.2918, -4.2918, -4.2918, -3.8888, -3.8888,\n",
      "        -3.8888, -3.8888, -4.1038, -4.1038, -4.1038, -4.1038, -4.8381, -4.8381,\n",
      "        -4.8381, -4.8381, -4.8381, -4.8381, -4.8381, -4.8381, -4.3234, -4.3234,\n",
      "        -4.3234, -4.3234, -3.9069, -3.9069, -3.9069, -4.0052, -4.0052, -4.0052,\n",
      "        -3.6439, -3.6439, -3.6601, -3.6601, -3.6601, -4.1103, -4.1103, -4.1103,\n",
      "        -4.2545, -4.2545, -4.2545, -4.2545, -4.2545, -4.2545, -4.2545, -4.0417,\n",
      "        -4.0417, -4.0417], grad_fn=<IndexBackward0>)\n",
      "Edge probabilites for last sub_problem in last problem batch: tensor([0.0284, 0.0284, 0.0284, 0.0150, 0.0150, 0.0150, 0.0150, 0.0150, 0.0155,\n",
      "        0.0155, 0.0155, 0.0155, 0.0155, 0.0162, 0.0162, 0.0162, 0.0162, 0.0177,\n",
      "        0.0177, 0.0177, 0.0089, 0.0089, 0.0089, 0.0089, 0.0089, 0.0089, 0.0089,\n",
      "        0.0089, 0.0151, 0.0151, 0.0151, 0.0151, 0.0187, 0.0187, 0.0187, 0.0187,\n",
      "        0.0194, 0.0194, 0.0194, 0.0373, 0.0373, 0.0373, 0.0223, 0.0223, 0.0223,\n",
      "        0.0104, 0.0104, 0.0104, 0.0104, 0.0104, 0.0104, 0.0104, 0.0167, 0.0167,\n",
      "        0.0167, 0.0167, 0.0232, 0.0232, 0.0149, 0.0149, 0.0149, 0.0167, 0.0167,\n",
      "        0.0167, 0.0167, 0.0167, 0.0140, 0.0140, 0.0140, 0.0140, 0.0140, 0.0140,\n",
      "        0.0188, 0.0188, 0.0188, 0.0188, 0.0107, 0.0107, 0.0107, 0.0107, 0.0107,\n",
      "        0.0107, 0.0107, 0.0132, 0.0132, 0.0132, 0.0132, 0.0132, 0.0132, 0.0135,\n",
      "        0.0135, 0.0135, 0.0135, 0.0135, 0.0201, 0.0201, 0.0201, 0.0201, 0.0162,\n",
      "        0.0162, 0.0162, 0.0162, 0.0079, 0.0079, 0.0079, 0.0079, 0.0079, 0.0079,\n",
      "        0.0079, 0.0079, 0.0131, 0.0131, 0.0131, 0.0131, 0.0197, 0.0197, 0.0197,\n",
      "        0.0179, 0.0179, 0.0179, 0.0255, 0.0255, 0.0251, 0.0251, 0.0251, 0.0161,\n",
      "        0.0161, 0.0161, 0.0140, 0.0140, 0.0140, 0.0140, 0.0140, 0.0140, 0.0140,\n",
      "        0.0173, 0.0173, 0.0173])\n",
      "mean auroc score: 0.5233950018882751\n",
      "Epoch 30, Loss: 0.9261742830276489\n",
      "Edge weights for last sub_problem in last problem batch: tensor([-3.7516, -3.7516, -3.7516, -4.4398, -4.4398, -4.4398, -4.4398, -4.4398,\n",
      "        -4.4098, -4.4098, -4.4098, -4.4098, -4.4098, -4.3552, -4.3552, -4.3552,\n",
      "        -4.3552, -4.2602, -4.2602, -4.2602, -5.0087, -5.0087, -5.0087, -5.0087,\n",
      "        -5.0087, -5.0087, -5.0087, -5.0087, -4.4365, -4.4365, -4.4365, -4.4365,\n",
      "        -4.1975, -4.1975, -4.1975, -4.1975, -4.1563, -4.1563, -4.1563, -3.4532,\n",
      "        -3.4532, -3.4532, -4.0114, -4.0114, -4.0114, -4.8334, -4.8334, -4.8334,\n",
      "        -4.8334, -4.8334, -4.8334, -4.8334, -4.3236, -4.3236, -4.3236, -4.3236,\n",
      "        -3.9702, -3.9702, -4.4411, -4.4411, -4.4411, -4.3301, -4.3301, -4.3301,\n",
      "        -4.3301, -4.3301, -4.5169, -4.5169, -4.5169, -4.5169, -4.5169, -4.5169,\n",
      "        -4.1899, -4.1899, -4.1899, -4.1899, -4.8031, -4.8031, -4.8031, -4.8031,\n",
      "        -4.8031, -4.8031, -4.8031, -4.5779, -4.5779, -4.5779, -4.5779, -4.5779,\n",
      "        -4.5779, -4.5565, -4.5565, -4.5565, -4.5565, -4.5565, -4.1212, -4.1212,\n",
      "        -4.1212, -4.1212, -4.3502, -4.3502, -4.3502, -4.3502, -5.1375, -5.1375,\n",
      "        -5.1375, -5.1375, -5.1375, -5.1375, -5.1375, -5.1375, -4.5869, -4.5869,\n",
      "        -4.5869, -4.5869, -4.1469, -4.1469, -4.1469, -4.2464, -4.2464, -4.2464,\n",
      "        -3.8621, -3.8621, -3.8841, -3.8841, -3.8841, -4.3566, -4.3566, -4.3566,\n",
      "        -4.5136, -4.5136, -4.5136, -4.5136, -4.5136, -4.5136, -4.5136, -4.2835,\n",
      "        -4.2835, -4.2835], grad_fn=<IndexBackward0>)\n",
      "Edge probabilites for last sub_problem in last problem batch: tensor([0.0229, 0.0229, 0.0229, 0.0117, 0.0117, 0.0117, 0.0117, 0.0117, 0.0120,\n",
      "        0.0120, 0.0120, 0.0120, 0.0120, 0.0127, 0.0127, 0.0127, 0.0127, 0.0139,\n",
      "        0.0139, 0.0139, 0.0066, 0.0066, 0.0066, 0.0066, 0.0066, 0.0066, 0.0066,\n",
      "        0.0066, 0.0117, 0.0117, 0.0117, 0.0117, 0.0148, 0.0148, 0.0148, 0.0148,\n",
      "        0.0154, 0.0154, 0.0154, 0.0307, 0.0307, 0.0307, 0.0178, 0.0178, 0.0178,\n",
      "        0.0079, 0.0079, 0.0079, 0.0079, 0.0079, 0.0079, 0.0079, 0.0131, 0.0131,\n",
      "        0.0131, 0.0131, 0.0185, 0.0185, 0.0116, 0.0116, 0.0116, 0.0130, 0.0130,\n",
      "        0.0130, 0.0130, 0.0130, 0.0108, 0.0108, 0.0108, 0.0108, 0.0108, 0.0108,\n",
      "        0.0149, 0.0149, 0.0149, 0.0149, 0.0081, 0.0081, 0.0081, 0.0081, 0.0081,\n",
      "        0.0081, 0.0081, 0.0102, 0.0102, 0.0102, 0.0102, 0.0102, 0.0102, 0.0104,\n",
      "        0.0104, 0.0104, 0.0104, 0.0104, 0.0160, 0.0160, 0.0160, 0.0160, 0.0127,\n",
      "        0.0127, 0.0127, 0.0127, 0.0058, 0.0058, 0.0058, 0.0058, 0.0058, 0.0058,\n",
      "        0.0058, 0.0058, 0.0101, 0.0101, 0.0101, 0.0101, 0.0156, 0.0156, 0.0156,\n",
      "        0.0141, 0.0141, 0.0141, 0.0206, 0.0206, 0.0202, 0.0202, 0.0202, 0.0127,\n",
      "        0.0127, 0.0127, 0.0108, 0.0108, 0.0108, 0.0108, 0.0108, 0.0108, 0.0108,\n",
      "        0.0136, 0.0136, 0.0136])\n",
      "mean auroc score: 0.5231139659881592\n",
      "Warning: When  cdn_resources is 'local' jupyter notebook has issues displaying graphics on chrome/safari. Use cdn_resources='in_line' or cdn_resources='remote' if you have issues viewing graphics in a notebook.\n",
      "results/replication/seed0_vis_edge_ij_30.html\n",
      "Visualization saved as results/replication/seed0_vis_edge_ij_30.html. Open it in your browser.\n",
      "Warning: When  cdn_resources is 'local' jupyter notebook has issues displaying graphics on chrome/safari. Use cdn_resources='in_line' or cdn_resources='remote' if you have issues viewing graphics in a notebook.\n",
      "results/replication/seed0_vis_edge_ij_30.html\n",
      "Visualization saved as results/replication/seed0_vis_edge_ij_30.html. Open it in your browser.\n",
      "Warning: When  cdn_resources is 'local' jupyter notebook has issues displaying graphics on chrome/safari. Use cdn_resources='in_line' or cdn_resources='remote' if you have issues viewing graphics in a notebook.\n",
      "results/replication/seed0_vis_gt.html\n",
      "Visualization saved as results/replication/seed0_vis_gt.html. Open it in your browser.\n",
      "Highest individual auroc: 0.7387001514434814\n",
      "Warning: When  cdn_resources is 'local' jupyter notebook has issues displaying graphics on chrome/safari. Use cdn_resources='in_line' or cdn_resources='remote' if you have issues viewing graphics in a notebook.\n",
      "results/replication/seed0_highestAUC.html\n",
      "Visualization saved as results/replication/seed0_highestAUC.html. Open it in your browser.\n",
      "Warning: When  cdn_resources is 'local' jupyter notebook has issues displaying graphics on chrome/safari. Use cdn_resources='in_line' or cdn_resources='remote' if you have issues viewing graphics in a notebook.\n",
      "results/replication/seed0_highestAUC_gt.html\n",
      "Visualization saved as results/replication/seed0_highestAUC_gt.html. Open it in your browser.\n",
      "Warning: When  cdn_resources is 'local' jupyter notebook has issues displaying graphics on chrome/safari. Use cdn_resources='in_line' or cdn_resources='remote' if you have issues viewing graphics in a notebook.\n",
      "results/replication/seed0_highestAUC_commonEdges.html\n",
      "Visualization saved as results/replication/seed0_highestAUC_commonEdges.html. Open it in your browser.\n",
      "Highest AUC example masked edges: [[ 45 234]\n",
      " [ 42 234]\n",
      " [180 234]\n",
      " [180 244]\n",
      " [ 42 244]\n",
      " [ 42 247]\n",
      " [ 47 247]\n",
      " [182 256]\n",
      " [ 41 256]\n",
      " [176 256]\n",
      " [176 259]\n",
      " [181 259]\n",
      " [180 259]\n",
      " [178 264]\n",
      " [182 264]\n",
      " [ 40 265]\n",
      " [176 293]\n",
      " [183 293]\n",
      " [182 293]\n",
      " [181 309]\n",
      " [180 309]\n",
      " [176 309]\n",
      " [ 47 321]\n",
      " [ 42 321]\n",
      " [ 45 321]\n",
      " [ 43 322]\n",
      " [180 322]]\n",
      "[[45, 42, -44], [-44, 42], [42, 47], [-46, 41, -40], [-40, -45, -44], [-42, -46], [40], [-40, -47, -46], [-45, -44, -40], [47, 42, 45], [43, -44]]\n",
      "Lowest individual auroc: 0.34764593839645386\n",
      "Warning: When  cdn_resources is 'local' jupyter notebook has issues displaying graphics on chrome/safari. Use cdn_resources='in_line' or cdn_resources='remote' if you have issues viewing graphics in a notebook.\n",
      "results/replication/seed0_lowestAUC.html\n",
      "Visualization saved as results/replication/seed0_lowestAUC.html. Open it in your browser.\n",
      "Warning: When  cdn_resources is 'local' jupyter notebook has issues displaying graphics on chrome/safari. Use cdn_resources='in_line' or cdn_resources='remote' if you have issues viewing graphics in a notebook.\n",
      "results/replication/seed0_lowestAUC_gt.html\n",
      "Visualization saved as results/replication/seed0_lowestAUC_gt.html. Open it in your browser.\n",
      "Warning: When  cdn_resources is 'local' jupyter notebook has issues displaying graphics on chrome/safari. Use cdn_resources='in_line' or cdn_resources='remote' if you have issues viewing graphics in a notebook.\n",
      "results/replication/seed0_lowestAUC_commonEdges.html\n",
      "Visualization saved as results/replication/seed0_lowestAUC_commonEdges.html. Open it in your browser.\n"
     ]
    },
    {
     "data": {
      "text/html": [],
      "text/plain": [
       "<IPython.core.display.HTML object>"
      ]
     },
     "metadata": {},
     "output_type": "display_data"
    },
    {
     "data": {
      "text/html": [
       "<br>    <style><br>        .wandb-row {<br>            display: flex;<br>            flex-direction: row;<br>            flex-wrap: wrap;<br>            justify-content: flex-start;<br>            width: 100%;<br>        }<br>        .wandb-col {<br>            display: flex;<br>            flex-direction: column;<br>            flex-basis: 100%;<br>            flex: 1;<br>            padding: 10px;<br>        }<br>    </style><br><div class=\"wandb-row\"><div class=\"wandb-col\"><h3>Run history:</h3><br/><table class=\"wandb\"><tr><td>train/Loss</td><td>█████▇▇▇▇▇▇▇▆▆▆▅▅▅▅▅▅▅▅▄▃▃▂▁▁▁</td></tr><tr><td>val/auroc</td><td>▁▃▆▆▇▇▇▇██████▇▇▇▇▇▇▇▇▇▇▇▇▇▇▇▇</td></tr><tr><td>val/temperature</td><td>██▇▇▆▆▆▅▅▅▄▄▄▄▃▃▃▃▃▂▂▂▂▂▂▁▁▁▁▁</td></tr></table><br/></div><div class=\"wandb-col\"><h3>Run summary:</h3><br/><table class=\"wandb\"><tr><td>train/Loss</td><td>0.92617</td></tr><tr><td>val/auroc</td><td>0.52311</td></tr><tr><td>val/temperature</td><td>1</td></tr></table><br/></div></div>"
      ],
      "text/plain": [
       "<IPython.core.display.HTML object>"
      ]
     },
     "metadata": {},
     "output_type": "display_data"
    },
    {
     "data": {
      "text/html": [
       " View run <strong style=\"color:#cdcd00\">grateful-microwave-18</strong> at: <a href='https://wandb.ai/tristan-schulz2001-tu-dortmund/NeuroSAT-HARD-CONSTRAINT-HARD-SAMPLING/runs/omuubilv' target=\"_blank\">https://wandb.ai/tristan-schulz2001-tu-dortmund/NeuroSAT-HARD-CONSTRAINT-HARD-SAMPLING/runs/omuubilv</a><br> View project at: <a href='https://wandb.ai/tristan-schulz2001-tu-dortmund/NeuroSAT-HARD-CONSTRAINT-HARD-SAMPLING' target=\"_blank\">https://wandb.ai/tristan-schulz2001-tu-dortmund/NeuroSAT-HARD-CONSTRAINT-HARD-SAMPLING</a><br>Synced 5 W&B file(s), 0 media file(s), 0 artifact file(s) and 0 other file(s)"
      ],
      "text/plain": [
       "<IPython.core.display.HTML object>"
      ]
     },
     "metadata": {},
     "output_type": "display_data"
    },
    {
     "data": {
      "text/html": [
       "Find logs at: <code>.\\wandb\\run-20250413_125539-omuubilv\\logs</code>"
      ],
      "text/plain": [
       "<IPython.core.display.HTML object>"
      ]
     },
     "metadata": {},
     "output_type": "display_data"
    }
   ],
   "source": [
    "for i in range(1):\n",
    "    mlp, downstreamTask = trainExplainer(datasetName,opts, wandb_project=\"NeuroSAT-HARD-CONSTRAINT-HARD-SAMPLING\", runSeed=i)"
   ]
  },
  {
   "cell_type": "markdown",
   "metadata": {},
   "source": [
    "## Sweeping config"
   ]
  },
  {
   "cell_type": "code",
   "execution_count": null,
   "metadata": {},
   "outputs": [],
   "source": [
    "sweep_config = {\n",
    "    \"method\": 'grid',                    # random, grid or Bayesian search\n",
    "    \"metric\": {\"goal\": \"maximize\", \"name\": \"val/auroc\"},\n",
    "    \"parameters\": {\n",
    "        'bce_loss': {\n",
    "            'values': [1, 0]\n",
    "        },\n",
    "        'epochs': {\n",
    "            'values': [20]\n",
    "            },\n",
    "        'tT': {\n",
    "            'values': [1.0, 2.0]\n",
    "            },\n",
    "        'size_reg': {\n",
    "            'values': [0.01]\n",
    "            },\n",
    "        'entropy_reg': {\n",
    "            'values': [0.5]\n",
    "            },\n",
    "        'consistency_reg': {\n",
    "            'values': [0.0]\n",
    "            },\n",
    "        'lr_mlp':{\n",
    "            'values': [0.0001, 0.00003]\n",
    "            },\n",
    "        'seed':{\n",
    "            'values': [74, 75]\n",
    "            },\n",
    "    },\n",
    "}   "
   ]
  },
  {
   "cell_type": "code",
   "execution_count": 3,
   "metadata": {},
   "outputs": [
    {
     "name": "stderr",
     "output_type": "stream",
     "text": [
      "\u001b[34m\u001b[1mwandb\u001b[0m: Using wandb-core as the SDK backend.  Please refer to https://wandb.me/wandb-core for more information.\n"
     ]
    },
    {
     "name": "stdout",
     "output_type": "stream",
     "text": [
      "Create sweep with ID: 1kd67zlb\n",
      "Sweep URL: https://wandb.ai/tristan-schulz2001-tu-dortmund/Sweep-NeuroSAT-HARD-CONSTRAINT-AUROC/sweeps/1kd67zlb\n"
     ]
    }
   ],
   "source": [
    "sweep_id = wandb.sweep(sweep_config, project=\"Sweep-NeuroSAT-HARD-CONSTRAINT-AUROC\")"
   ]
  },
  {
   "cell_type": "code",
   "execution_count": 4,
   "metadata": {},
   "outputs": [
    {
     "name": "stderr",
     "output_type": "stream",
     "text": [
      "\u001b[34m\u001b[1mwandb\u001b[0m: Agent Starting Run: bvdp5q2l with config:\n",
      "\u001b[34m\u001b[1mwandb\u001b[0m: \tbce_loss: 1\n",
      "\u001b[34m\u001b[1mwandb\u001b[0m: \tconsistency_reg: 0\n",
      "\u001b[34m\u001b[1mwandb\u001b[0m: \tentropy_reg: 0\n",
      "\u001b[34m\u001b[1mwandb\u001b[0m: \tepochs: 20\n",
      "\u001b[34m\u001b[1mwandb\u001b[0m: \tlr_mlp: 0.0001\n",
      "\u001b[34m\u001b[1mwandb\u001b[0m: \tseed: 74\n",
      "\u001b[34m\u001b[1mwandb\u001b[0m: \tsize_reg: 0.01\n",
      "\u001b[34m\u001b[1mwandb\u001b[0m: \ttT: 1\n",
      "\u001b[34m\u001b[1mwandb\u001b[0m: Currently logged in as: \u001b[33mtristan-schulz2001\u001b[0m (\u001b[33mtristan-schulz2001-tu-dortmund\u001b[0m) to \u001b[32mhttps://api.wandb.ai\u001b[0m. Use \u001b[1m`wandb login --relogin`\u001b[0m to force relogin\n"
     ]
    },
    {
     "data": {
      "text/html": [
       "Ignoring project 'Explainer-NeuroSAT-Sweep' when running a sweep."
      ],
      "text/plain": [
       "<IPython.core.display.HTML object>"
      ]
     },
     "metadata": {},
     "output_type": "display_data"
    },
    {
     "data": {
      "text/html": [
       "Tracking run with wandb version 0.19.8"
      ],
      "text/plain": [
       "<IPython.core.display.HTML object>"
      ]
     },
     "metadata": {},
     "output_type": "display_data"
    },
    {
     "data": {
      "text/html": [
       "Run data is saved locally in <code>c:\\Users\\trist\\Git_repos\\BT-ML-PGESAT\\code\\PGExplainer NeuroSAT\\wandb\\run-20250410_100123-bvdp5q2l</code>"
      ],
      "text/plain": [
       "<IPython.core.display.HTML object>"
      ]
     },
     "metadata": {},
     "output_type": "display_data"
    },
    {
     "data": {
      "text/html": [
       "Syncing run <strong><a href='https://wandb.ai/tristan-schulz2001-tu-dortmund/Sweep-NeuroSAT-HARD-CONSTRAINT-AUROC/runs/bvdp5q2l' target=\"_blank\">glad-sweep-1</a></strong> to <a href='https://wandb.ai/tristan-schulz2001-tu-dortmund/Sweep-NeuroSAT-HARD-CONSTRAINT-AUROC' target=\"_blank\">Weights & Biases</a> (<a href='https://wandb.me/developer-guide' target=\"_blank\">docs</a>)<br>Sweep page: <a href='https://wandb.ai/tristan-schulz2001-tu-dortmund/Sweep-NeuroSAT-HARD-CONSTRAINT-AUROC/sweeps/1kd67zlb' target=\"_blank\">https://wandb.ai/tristan-schulz2001-tu-dortmund/Sweep-NeuroSAT-HARD-CONSTRAINT-AUROC/sweeps/1kd67zlb</a>"
      ],
      "text/plain": [
       "<IPython.core.display.HTML object>"
      ]
     },
     "metadata": {},
     "output_type": "display_data"
    },
    {
     "data": {
      "text/html": [
       " View project at <a href='https://wandb.ai/tristan-schulz2001-tu-dortmund/Sweep-NeuroSAT-HARD-CONSTRAINT-AUROC' target=\"_blank\">https://wandb.ai/tristan-schulz2001-tu-dortmund/Sweep-NeuroSAT-HARD-CONSTRAINT-AUROC</a>"
      ],
      "text/plain": [
       "<IPython.core.display.HTML object>"
      ]
     },
     "metadata": {},
     "output_type": "display_data"
    },
    {
     "data": {
      "text/html": [
       " View sweep at <a href='https://wandb.ai/tristan-schulz2001-tu-dortmund/Sweep-NeuroSAT-HARD-CONSTRAINT-AUROC/sweeps/1kd67zlb' target=\"_blank\">https://wandb.ai/tristan-schulz2001-tu-dortmund/Sweep-NeuroSAT-HARD-CONSTRAINT-AUROC/sweeps/1kd67zlb</a>"
      ],
      "text/plain": [
       "<IPython.core.display.HTML object>"
      ]
     },
     "metadata": {},
     "output_type": "display_data"
    },
    {
     "data": {
      "text/html": [
       " View run at <a href='https://wandb.ai/tristan-schulz2001-tu-dortmund/Sweep-NeuroSAT-HARD-CONSTRAINT-AUROC/runs/bvdp5q2l' target=\"_blank\">https://wandb.ai/tristan-schulz2001-tu-dortmund/Sweep-NeuroSAT-HARD-CONSTRAINT-AUROC/runs/bvdp5q2l</a>"
      ],
      "text/plain": [
       "<IPython.core.display.HTML object>"
      ]
     },
     "metadata": {},
     "output_type": "display_data"
    },
    {
     "name": "stdout",
     "output_type": "stream",
     "text": [
      "Epoch 1, Loss: 9.160676956176758\n",
      "mean auroc score: 0.4891628623008728\n",
      "Epoch 2, Loss: 9.113851547241211\n",
      "mean auroc score: 0.490462064743042\n",
      "Epoch 3, Loss: 9.038740158081055\n",
      "mean auroc score: 0.5019503235816956\n",
      "Epoch 4, Loss: 8.95941162109375\n",
      "mean auroc score: 0.5136950016021729\n",
      "Epoch 5, Loss: 8.895312309265137\n",
      "mean auroc score: 0.5189204812049866\n",
      "Epoch 6, Loss: 8.812456130981445\n",
      "mean auroc score: 0.5238277912139893\n",
      "Epoch 7, Loss: 8.747904777526855\n",
      "mean auroc score: 0.5249457359313965\n",
      "Epoch 8, Loss: 8.69434642791748\n",
      "mean auroc score: 0.527639627456665\n",
      "Epoch 9, Loss: 8.59929370880127\n",
      "mean auroc score: 0.5281552672386169\n",
      "Epoch 10, Loss: 8.554255485534668\n",
      "mean auroc score: 0.5251675248146057\n",
      "Epoch 11, Loss: 8.43028736114502\n",
      "mean auroc score: 0.5260509252548218\n",
      "Epoch 12, Loss: 8.369158744812012\n",
      "mean auroc score: 0.532546877861023\n",
      "Epoch 13, Loss: 8.229881286621094\n",
      "mean auroc score: 0.5343207716941833\n",
      "Epoch 14, Loss: 8.135065078735352\n",
      "mean auroc score: 0.5352094769477844\n",
      "Epoch 15, Loss: 8.003716468811035\n",
      "mean auroc score: 0.539808988571167\n",
      "Epoch 16, Loss: 7.88012170791626\n",
      "mean auroc score: 0.5383660793304443\n",
      "Epoch 17, Loss: 7.747378349304199\n",
      "mean auroc score: 0.5373419523239136\n",
      "Epoch 18, Loss: 7.529934883117676\n",
      "mean auroc score: 0.5345070362091064\n",
      "Epoch 19, Loss: 7.346707820892334\n",
      "mean auroc score: 0.534561038017273\n",
      "Epoch 20, Loss: 7.2501349449157715\n",
      "mean auroc score: 0.534883975982666\n"
     ]
    },
    {
     "data": {
      "text/html": [],
      "text/plain": [
       "<IPython.core.display.HTML object>"
      ]
     },
     "metadata": {},
     "output_type": "display_data"
    },
    {
     "data": {
      "text/html": [
       "<br>    <style><br>        .wandb-row {<br>            display: flex;<br>            flex-direction: row;<br>            flex-wrap: wrap;<br>            justify-content: flex-start;<br>            width: 100%;<br>        }<br>        .wandb-col {<br>            display: flex;<br>            flex-direction: column;<br>            flex-basis: 100%;<br>            flex: 1;<br>            padding: 10px;<br>        }<br>    </style><br><div class=\"wandb-row\"><div class=\"wandb-col\"><h3>Run history:</h3><br/><table class=\"wandb\"><tr><td>train/Loss</td><td>███▇▇▇▆▆▆▆▅▅▅▄▄▃▃▂▁▁</td></tr><tr><td>val/auroc</td><td>▁▁▃▄▅▆▆▆▆▆▆▇▇▇███▇▇▇</td></tr><tr><td>val/highest_individual_auroc</td><td>▁</td></tr><tr><td>val/temperature</td><td>█▇▇▆▆▅▅▄▄▃▃▃▂▂▂▂▂▁▁▁</td></tr></table><br/></div><div class=\"wandb-col\"><h3>Run summary:</h3><br/><table class=\"wandb\"><tr><td>train/Loss</td><td>7.25013</td></tr><tr><td>val/auroc</td><td>0.53488</td></tr><tr><td>val/highest_individual_auroc</td><td>0.74816</td></tr><tr><td>val/temperature</td><td>1</td></tr></table><br/></div></div>"
      ],
      "text/plain": [
       "<IPython.core.display.HTML object>"
      ]
     },
     "metadata": {},
     "output_type": "display_data"
    },
    {
     "data": {
      "text/html": [
       " View run <strong style=\"color:#cdcd00\">glad-sweep-1</strong> at: <a href='https://wandb.ai/tristan-schulz2001-tu-dortmund/Sweep-NeuroSAT-HARD-CONSTRAINT-AUROC/runs/bvdp5q2l' target=\"_blank\">https://wandb.ai/tristan-schulz2001-tu-dortmund/Sweep-NeuroSAT-HARD-CONSTRAINT-AUROC/runs/bvdp5q2l</a><br> View project at: <a href='https://wandb.ai/tristan-schulz2001-tu-dortmund/Sweep-NeuroSAT-HARD-CONSTRAINT-AUROC' target=\"_blank\">https://wandb.ai/tristan-schulz2001-tu-dortmund/Sweep-NeuroSAT-HARD-CONSTRAINT-AUROC</a><br>Synced 5 W&B file(s), 0 media file(s), 0 artifact file(s) and 0 other file(s)"
      ],
      "text/plain": [
       "<IPython.core.display.HTML object>"
      ]
     },
     "metadata": {},
     "output_type": "display_data"
    },
    {
     "data": {
      "text/html": [
       "Find logs at: <code>.\\wandb\\run-20250410_100123-bvdp5q2l\\logs</code>"
      ],
      "text/plain": [
       "<IPython.core.display.HTML object>"
      ]
     },
     "metadata": {},
     "output_type": "display_data"
    },
    {
     "name": "stderr",
     "output_type": "stream",
     "text": [
      "\u001b[34m\u001b[1mwandb\u001b[0m: Agent Starting Run: v2gvd476 with config:\n",
      "\u001b[34m\u001b[1mwandb\u001b[0m: \tbce_loss: 1\n",
      "\u001b[34m\u001b[1mwandb\u001b[0m: \tconsistency_reg: 0\n",
      "\u001b[34m\u001b[1mwandb\u001b[0m: \tentropy_reg: 0\n",
      "\u001b[34m\u001b[1mwandb\u001b[0m: \tepochs: 20\n",
      "\u001b[34m\u001b[1mwandb\u001b[0m: \tlr_mlp: 0.0001\n",
      "\u001b[34m\u001b[1mwandb\u001b[0m: \tseed: 74\n",
      "\u001b[34m\u001b[1mwandb\u001b[0m: \tsize_reg: 0.01\n",
      "\u001b[34m\u001b[1mwandb\u001b[0m: \ttT: 2\n"
     ]
    },
    {
     "data": {
      "text/html": [
       "Ignoring project 'Explainer-NeuroSAT-Sweep' when running a sweep."
      ],
      "text/plain": [
       "<IPython.core.display.HTML object>"
      ]
     },
     "metadata": {},
     "output_type": "display_data"
    },
    {
     "data": {
      "text/html": [
       "Tracking run with wandb version 0.19.8"
      ],
      "text/plain": [
       "<IPython.core.display.HTML object>"
      ]
     },
     "metadata": {},
     "output_type": "display_data"
    },
    {
     "data": {
      "text/html": [
       "Run data is saved locally in <code>c:\\Users\\trist\\Git_repos\\BT-ML-PGESAT\\code\\PGExplainer NeuroSAT\\wandb\\run-20250410_101648-v2gvd476</code>"
      ],
      "text/plain": [
       "<IPython.core.display.HTML object>"
      ]
     },
     "metadata": {},
     "output_type": "display_data"
    },
    {
     "data": {
      "text/html": [
       "Syncing run <strong><a href='https://wandb.ai/tristan-schulz2001-tu-dortmund/Sweep-NeuroSAT-HARD-CONSTRAINT-AUROC/runs/v2gvd476' target=\"_blank\">summer-sweep-2</a></strong> to <a href='https://wandb.ai/tristan-schulz2001-tu-dortmund/Sweep-NeuroSAT-HARD-CONSTRAINT-AUROC' target=\"_blank\">Weights & Biases</a> (<a href='https://wandb.me/developer-guide' target=\"_blank\">docs</a>)<br>Sweep page: <a href='https://wandb.ai/tristan-schulz2001-tu-dortmund/Sweep-NeuroSAT-HARD-CONSTRAINT-AUROC/sweeps/1kd67zlb' target=\"_blank\">https://wandb.ai/tristan-schulz2001-tu-dortmund/Sweep-NeuroSAT-HARD-CONSTRAINT-AUROC/sweeps/1kd67zlb</a>"
      ],
      "text/plain": [
       "<IPython.core.display.HTML object>"
      ]
     },
     "metadata": {},
     "output_type": "display_data"
    },
    {
     "data": {
      "text/html": [
       " View project at <a href='https://wandb.ai/tristan-schulz2001-tu-dortmund/Sweep-NeuroSAT-HARD-CONSTRAINT-AUROC' target=\"_blank\">https://wandb.ai/tristan-schulz2001-tu-dortmund/Sweep-NeuroSAT-HARD-CONSTRAINT-AUROC</a>"
      ],
      "text/plain": [
       "<IPython.core.display.HTML object>"
      ]
     },
     "metadata": {},
     "output_type": "display_data"
    },
    {
     "data": {
      "text/html": [
       " View sweep at <a href='https://wandb.ai/tristan-schulz2001-tu-dortmund/Sweep-NeuroSAT-HARD-CONSTRAINT-AUROC/sweeps/1kd67zlb' target=\"_blank\">https://wandb.ai/tristan-schulz2001-tu-dortmund/Sweep-NeuroSAT-HARD-CONSTRAINT-AUROC/sweeps/1kd67zlb</a>"
      ],
      "text/plain": [
       "<IPython.core.display.HTML object>"
      ]
     },
     "metadata": {},
     "output_type": "display_data"
    },
    {
     "data": {
      "text/html": [
       " View run at <a href='https://wandb.ai/tristan-schulz2001-tu-dortmund/Sweep-NeuroSAT-HARD-CONSTRAINT-AUROC/runs/v2gvd476' target=\"_blank\">https://wandb.ai/tristan-schulz2001-tu-dortmund/Sweep-NeuroSAT-HARD-CONSTRAINT-AUROC/runs/v2gvd476</a>"
      ],
      "text/plain": [
       "<IPython.core.display.HTML object>"
      ]
     },
     "metadata": {},
     "output_type": "display_data"
    },
    {
     "name": "stdout",
     "output_type": "stream",
     "text": [
      "Epoch 1, Loss: 9.153109550476074\n",
      "mean auroc score: 0.4891628623008728\n",
      "Epoch 2, Loss: 9.101724624633789\n",
      "mean auroc score: 0.490462064743042\n",
      "Epoch 3, Loss: 9.028517723083496\n",
      "mean auroc score: 0.5018190741539001\n",
      "Epoch 4, Loss: 8.955745697021484\n",
      "mean auroc score: 0.5133092403411865\n",
      "Epoch 5, Loss: 8.899576187133789\n",
      "mean auroc score: 0.5193172693252563\n",
      "Epoch 6, Loss: 8.831525802612305\n",
      "mean auroc score: 0.5240538120269775\n",
      "Epoch 7, Loss: 8.782008171081543\n",
      "mean auroc score: 0.5254025459289551\n",
      "Epoch 8, Loss: 8.74250602722168\n",
      "mean auroc score: 0.5278806686401367\n",
      "Epoch 9, Loss: 8.678144454956055\n",
      "mean auroc score: 0.5286290645599365\n",
      "Epoch 10, Loss: 8.64754867553711\n",
      "mean auroc score: 0.5262126922607422\n",
      "Epoch 11, Loss: 8.565909385681152\n",
      "mean auroc score: 0.5249691009521484\n",
      "Epoch 12, Loss: 8.525544166564941\n",
      "mean auroc score: 0.5329347252845764\n",
      "Epoch 13, Loss: 8.443901062011719\n",
      "mean auroc score: 0.5357378125190735\n",
      "Epoch 14, Loss: 8.382349967956543\n",
      "mean auroc score: 0.5350569486618042\n",
      "Epoch 15, Loss: 8.303873062133789\n",
      "mean auroc score: 0.5385130047798157\n",
      "Epoch 16, Loss: 8.232802391052246\n",
      "mean auroc score: 0.5405057668685913\n",
      "Epoch 17, Loss: 8.15050983428955\n",
      "mean auroc score: 0.5377430319786072\n",
      "Epoch 18, Loss: 8.02143669128418\n",
      "mean auroc score: 0.5351017713546753\n",
      "Epoch 19, Loss: 7.926294803619385\n",
      "mean auroc score: 0.5346413254737854\n",
      "Epoch 20, Loss: 7.820835113525391\n",
      "mean auroc score: 0.535656213760376\n"
     ]
    },
    {
     "data": {
      "text/html": [],
      "text/plain": [
       "<IPython.core.display.HTML object>"
      ]
     },
     "metadata": {},
     "output_type": "display_data"
    },
    {
     "data": {
      "text/html": [
       "<br>    <style><br>        .wandb-row {<br>            display: flex;<br>            flex-direction: row;<br>            flex-wrap: wrap;<br>            justify-content: flex-start;<br>            width: 100%;<br>        }<br>        .wandb-col {<br>            display: flex;<br>            flex-direction: column;<br>            flex-basis: 100%;<br>            flex: 1;<br>            padding: 10px;<br>        }<br>    </style><br><div class=\"wandb-row\"><div class=\"wandb-col\"><h3>Run history:</h3><br/><table class=\"wandb\"><tr><td>train/Loss</td><td>██▇▇▇▆▆▆▆▅▅▅▄▄▄▃▃▂▂▁</td></tr><tr><td>val/auroc</td><td>▁▁▃▄▅▆▆▆▆▆▆▇▇▇███▇▇▇</td></tr><tr><td>val/highest_individual_auroc</td><td>▁</td></tr><tr><td>val/temperature</td><td>█▇▇▆▆▆▅▅▄▄▄▃▃▃▂▂▂▁▁▁</td></tr></table><br/></div><div class=\"wandb-col\"><h3>Run summary:</h3><br/><table class=\"wandb\"><tr><td>train/Loss</td><td>7.82084</td></tr><tr><td>val/auroc</td><td>0.53566</td></tr><tr><td>val/highest_individual_auroc</td><td>0.74391</td></tr><tr><td>val/temperature</td><td>2</td></tr></table><br/></div></div>"
      ],
      "text/plain": [
       "<IPython.core.display.HTML object>"
      ]
     },
     "metadata": {},
     "output_type": "display_data"
    },
    {
     "data": {
      "text/html": [
       " View run <strong style=\"color:#cdcd00\">summer-sweep-2</strong> at: <a href='https://wandb.ai/tristan-schulz2001-tu-dortmund/Sweep-NeuroSAT-HARD-CONSTRAINT-AUROC/runs/v2gvd476' target=\"_blank\">https://wandb.ai/tristan-schulz2001-tu-dortmund/Sweep-NeuroSAT-HARD-CONSTRAINT-AUROC/runs/v2gvd476</a><br> View project at: <a href='https://wandb.ai/tristan-schulz2001-tu-dortmund/Sweep-NeuroSAT-HARD-CONSTRAINT-AUROC' target=\"_blank\">https://wandb.ai/tristan-schulz2001-tu-dortmund/Sweep-NeuroSAT-HARD-CONSTRAINT-AUROC</a><br>Synced 5 W&B file(s), 0 media file(s), 0 artifact file(s) and 0 other file(s)"
      ],
      "text/plain": [
       "<IPython.core.display.HTML object>"
      ]
     },
     "metadata": {},
     "output_type": "display_data"
    },
    {
     "data": {
      "text/html": [
       "Find logs at: <code>.\\wandb\\run-20250410_101648-v2gvd476\\logs</code>"
      ],
      "text/plain": [
       "<IPython.core.display.HTML object>"
      ]
     },
     "metadata": {},
     "output_type": "display_data"
    },
    {
     "name": "stderr",
     "output_type": "stream",
     "text": [
      "\u001b[34m\u001b[1mwandb\u001b[0m: Agent Starting Run: 971bgbo5 with config:\n",
      "\u001b[34m\u001b[1mwandb\u001b[0m: \tbce_loss: 1\n",
      "\u001b[34m\u001b[1mwandb\u001b[0m: \tconsistency_reg: 0\n",
      "\u001b[34m\u001b[1mwandb\u001b[0m: \tentropy_reg: 0\n",
      "\u001b[34m\u001b[1mwandb\u001b[0m: \tepochs: 20\n",
      "\u001b[34m\u001b[1mwandb\u001b[0m: \tlr_mlp: 0.0001\n",
      "\u001b[34m\u001b[1mwandb\u001b[0m: \tseed: 75\n",
      "\u001b[34m\u001b[1mwandb\u001b[0m: \tsize_reg: 0.01\n",
      "\u001b[34m\u001b[1mwandb\u001b[0m: \ttT: 1\n"
     ]
    },
    {
     "data": {
      "text/html": [
       "Ignoring project 'Explainer-NeuroSAT-Sweep' when running a sweep."
      ],
      "text/plain": [
       "<IPython.core.display.HTML object>"
      ]
     },
     "metadata": {},
     "output_type": "display_data"
    },
    {
     "data": {
      "text/html": [
       "Tracking run with wandb version 0.19.8"
      ],
      "text/plain": [
       "<IPython.core.display.HTML object>"
      ]
     },
     "metadata": {},
     "output_type": "display_data"
    },
    {
     "data": {
      "text/html": [
       "Run data is saved locally in <code>c:\\Users\\trist\\Git_repos\\BT-ML-PGESAT\\code\\PGExplainer NeuroSAT\\wandb\\run-20250410_103326-971bgbo5</code>"
      ],
      "text/plain": [
       "<IPython.core.display.HTML object>"
      ]
     },
     "metadata": {},
     "output_type": "display_data"
    },
    {
     "data": {
      "text/html": [
       "Syncing run <strong><a href='https://wandb.ai/tristan-schulz2001-tu-dortmund/Sweep-NeuroSAT-HARD-CONSTRAINT-AUROC/runs/971bgbo5' target=\"_blank\">faithful-sweep-3</a></strong> to <a href='https://wandb.ai/tristan-schulz2001-tu-dortmund/Sweep-NeuroSAT-HARD-CONSTRAINT-AUROC' target=\"_blank\">Weights & Biases</a> (<a href='https://wandb.me/developer-guide' target=\"_blank\">docs</a>)<br>Sweep page: <a href='https://wandb.ai/tristan-schulz2001-tu-dortmund/Sweep-NeuroSAT-HARD-CONSTRAINT-AUROC/sweeps/1kd67zlb' target=\"_blank\">https://wandb.ai/tristan-schulz2001-tu-dortmund/Sweep-NeuroSAT-HARD-CONSTRAINT-AUROC/sweeps/1kd67zlb</a>"
      ],
      "text/plain": [
       "<IPython.core.display.HTML object>"
      ]
     },
     "metadata": {},
     "output_type": "display_data"
    },
    {
     "data": {
      "text/html": [
       " View project at <a href='https://wandb.ai/tristan-schulz2001-tu-dortmund/Sweep-NeuroSAT-HARD-CONSTRAINT-AUROC' target=\"_blank\">https://wandb.ai/tristan-schulz2001-tu-dortmund/Sweep-NeuroSAT-HARD-CONSTRAINT-AUROC</a>"
      ],
      "text/plain": [
       "<IPython.core.display.HTML object>"
      ]
     },
     "metadata": {},
     "output_type": "display_data"
    },
    {
     "data": {
      "text/html": [
       " View sweep at <a href='https://wandb.ai/tristan-schulz2001-tu-dortmund/Sweep-NeuroSAT-HARD-CONSTRAINT-AUROC/sweeps/1kd67zlb' target=\"_blank\">https://wandb.ai/tristan-schulz2001-tu-dortmund/Sweep-NeuroSAT-HARD-CONSTRAINT-AUROC/sweeps/1kd67zlb</a>"
      ],
      "text/plain": [
       "<IPython.core.display.HTML object>"
      ]
     },
     "metadata": {},
     "output_type": "display_data"
    },
    {
     "data": {
      "text/html": [
       " View run at <a href='https://wandb.ai/tristan-schulz2001-tu-dortmund/Sweep-NeuroSAT-HARD-CONSTRAINT-AUROC/runs/971bgbo5' target=\"_blank\">https://wandb.ai/tristan-schulz2001-tu-dortmund/Sweep-NeuroSAT-HARD-CONSTRAINT-AUROC/runs/971bgbo5</a>"
      ],
      "text/plain": [
       "<IPython.core.display.HTML object>"
      ]
     },
     "metadata": {},
     "output_type": "display_data"
    },
    {
     "name": "stdout",
     "output_type": "stream",
     "text": [
      "Epoch 1, Loss: 8.941617012023926\n",
      "mean auroc score: 0.495727002620697\n",
      "Epoch 2, Loss: 8.894510269165039\n",
      "mean auroc score: 0.4900554120540619\n",
      "Epoch 3, Loss: 8.851141929626465\n",
      "mean auroc score: 0.48915863037109375\n",
      "Epoch 4, Loss: 8.79102897644043\n",
      "mean auroc score: 0.49092042446136475\n",
      "Epoch 5, Loss: 8.717363357543945\n",
      "mean auroc score: 0.4878805875778198\n",
      "Epoch 6, Loss: 8.636028289794922\n",
      "mean auroc score: 0.4910328686237335\n",
      "Epoch 7, Loss: 8.544309616088867\n",
      "mean auroc score: 0.4900112748146057\n",
      "Epoch 8, Loss: 8.448225021362305\n",
      "mean auroc score: 0.49130961298942566\n",
      "Epoch 9, Loss: 8.347848892211914\n",
      "mean auroc score: 0.4951332211494446\n",
      "Epoch 10, Loss: 8.234102249145508\n",
      "mean auroc score: 0.4965493679046631\n",
      "Epoch 11, Loss: 8.068413734436035\n",
      "mean auroc score: 0.5001172423362732\n",
      "Epoch 12, Loss: 7.939772129058838\n",
      "mean auroc score: 0.5025296211242676\n",
      "Epoch 13, Loss: 7.791433811187744\n",
      "mean auroc score: 0.5035594701766968\n",
      "Epoch 14, Loss: 7.626187801361084\n",
      "mean auroc score: 0.5066511034965515\n",
      "Epoch 15, Loss: 7.445485591888428\n",
      "mean auroc score: 0.5066708326339722\n",
      "Epoch 16, Loss: 7.2029852867126465\n",
      "mean auroc score: 0.5076544284820557\n",
      "Epoch 17, Loss: 7.000482082366943\n",
      "mean auroc score: 0.5102337002754211\n",
      "Epoch 18, Loss: 6.7832136154174805\n",
      "mean auroc score: 0.5099376440048218\n",
      "Epoch 19, Loss: 6.499891757965088\n",
      "mean auroc score: 0.5101417899131775\n",
      "Epoch 20, Loss: 6.2608137130737305\n",
      "mean auroc score: 0.5116848349571228\n"
     ]
    },
    {
     "data": {
      "text/html": [],
      "text/plain": [
       "<IPython.core.display.HTML object>"
      ]
     },
     "metadata": {},
     "output_type": "display_data"
    },
    {
     "data": {
      "text/html": [
       "<br>    <style><br>        .wandb-row {<br>            display: flex;<br>            flex-direction: row;<br>            flex-wrap: wrap;<br>            justify-content: flex-start;<br>            width: 100%;<br>        }<br>        .wandb-col {<br>            display: flex;<br>            flex-direction: column;<br>            flex-basis: 100%;<br>            flex: 1;<br>            padding: 10px;<br>        }<br>    </style><br><div class=\"wandb-row\"><div class=\"wandb-col\"><h3>Run history:</h3><br/><table class=\"wandb\"><tr><td>train/Loss</td><td>████▇▇▇▇▆▆▆▅▅▅▄▃▃▂▂▁</td></tr><tr><td>val/auroc</td><td>▃▂▁▂▁▂▂▂▃▄▅▅▆▇▇▇█▇██</td></tr><tr><td>val/highest_individual_auroc</td><td>▁</td></tr><tr><td>val/temperature</td><td>█▇▇▆▆▅▅▄▄▃▃▃▂▂▂▂▂▁▁▁</td></tr></table><br/></div><div class=\"wandb-col\"><h3>Run summary:</h3><br/><table class=\"wandb\"><tr><td>train/Loss</td><td>6.26081</td></tr><tr><td>val/auroc</td><td>0.51168</td></tr><tr><td>val/highest_individual_auroc</td><td>0.65505</td></tr><tr><td>val/temperature</td><td>1</td></tr></table><br/></div></div>"
      ],
      "text/plain": [
       "<IPython.core.display.HTML object>"
      ]
     },
     "metadata": {},
     "output_type": "display_data"
    },
    {
     "data": {
      "text/html": [
       " View run <strong style=\"color:#cdcd00\">faithful-sweep-3</strong> at: <a href='https://wandb.ai/tristan-schulz2001-tu-dortmund/Sweep-NeuroSAT-HARD-CONSTRAINT-AUROC/runs/971bgbo5' target=\"_blank\">https://wandb.ai/tristan-schulz2001-tu-dortmund/Sweep-NeuroSAT-HARD-CONSTRAINT-AUROC/runs/971bgbo5</a><br> View project at: <a href='https://wandb.ai/tristan-schulz2001-tu-dortmund/Sweep-NeuroSAT-HARD-CONSTRAINT-AUROC' target=\"_blank\">https://wandb.ai/tristan-schulz2001-tu-dortmund/Sweep-NeuroSAT-HARD-CONSTRAINT-AUROC</a><br>Synced 5 W&B file(s), 0 media file(s), 0 artifact file(s) and 0 other file(s)"
      ],
      "text/plain": [
       "<IPython.core.display.HTML object>"
      ]
     },
     "metadata": {},
     "output_type": "display_data"
    },
    {
     "data": {
      "text/html": [
       "Find logs at: <code>.\\wandb\\run-20250410_103326-971bgbo5\\logs</code>"
      ],
      "text/plain": [
       "<IPython.core.display.HTML object>"
      ]
     },
     "metadata": {},
     "output_type": "display_data"
    },
    {
     "name": "stderr",
     "output_type": "stream",
     "text": [
      "\u001b[34m\u001b[1mwandb\u001b[0m: Agent Starting Run: 3tv939go with config:\n",
      "\u001b[34m\u001b[1mwandb\u001b[0m: \tbce_loss: 1\n",
      "\u001b[34m\u001b[1mwandb\u001b[0m: \tconsistency_reg: 0\n",
      "\u001b[34m\u001b[1mwandb\u001b[0m: \tentropy_reg: 0\n",
      "\u001b[34m\u001b[1mwandb\u001b[0m: \tepochs: 20\n",
      "\u001b[34m\u001b[1mwandb\u001b[0m: \tlr_mlp: 0.0001\n",
      "\u001b[34m\u001b[1mwandb\u001b[0m: \tseed: 75\n",
      "\u001b[34m\u001b[1mwandb\u001b[0m: \tsize_reg: 0.01\n",
      "\u001b[34m\u001b[1mwandb\u001b[0m: \ttT: 2\n"
     ]
    },
    {
     "data": {
      "text/html": [
       "Ignoring project 'Explainer-NeuroSAT-Sweep' when running a sweep."
      ],
      "text/plain": [
       "<IPython.core.display.HTML object>"
      ]
     },
     "metadata": {},
     "output_type": "display_data"
    },
    {
     "data": {
      "text/html": [
       "Tracking run with wandb version 0.19.8"
      ],
      "text/plain": [
       "<IPython.core.display.HTML object>"
      ]
     },
     "metadata": {},
     "output_type": "display_data"
    },
    {
     "data": {
      "text/html": [
       "Run data is saved locally in <code>c:\\Users\\trist\\Git_repos\\BT-ML-PGESAT\\code\\PGExplainer NeuroSAT\\wandb\\run-20250410_104845-3tv939go</code>"
      ],
      "text/plain": [
       "<IPython.core.display.HTML object>"
      ]
     },
     "metadata": {},
     "output_type": "display_data"
    },
    {
     "data": {
      "text/html": [
       "Syncing run <strong><a href='https://wandb.ai/tristan-schulz2001-tu-dortmund/Sweep-NeuroSAT-HARD-CONSTRAINT-AUROC/runs/3tv939go' target=\"_blank\">gentle-sweep-4</a></strong> to <a href='https://wandb.ai/tristan-schulz2001-tu-dortmund/Sweep-NeuroSAT-HARD-CONSTRAINT-AUROC' target=\"_blank\">Weights & Biases</a> (<a href='https://wandb.me/developer-guide' target=\"_blank\">docs</a>)<br>Sweep page: <a href='https://wandb.ai/tristan-schulz2001-tu-dortmund/Sweep-NeuroSAT-HARD-CONSTRAINT-AUROC/sweeps/1kd67zlb' target=\"_blank\">https://wandb.ai/tristan-schulz2001-tu-dortmund/Sweep-NeuroSAT-HARD-CONSTRAINT-AUROC/sweeps/1kd67zlb</a>"
      ],
      "text/plain": [
       "<IPython.core.display.HTML object>"
      ]
     },
     "metadata": {},
     "output_type": "display_data"
    },
    {
     "data": {
      "text/html": [
       " View project at <a href='https://wandb.ai/tristan-schulz2001-tu-dortmund/Sweep-NeuroSAT-HARD-CONSTRAINT-AUROC' target=\"_blank\">https://wandb.ai/tristan-schulz2001-tu-dortmund/Sweep-NeuroSAT-HARD-CONSTRAINT-AUROC</a>"
      ],
      "text/plain": [
       "<IPython.core.display.HTML object>"
      ]
     },
     "metadata": {},
     "output_type": "display_data"
    },
    {
     "data": {
      "text/html": [
       " View sweep at <a href='https://wandb.ai/tristan-schulz2001-tu-dortmund/Sweep-NeuroSAT-HARD-CONSTRAINT-AUROC/sweeps/1kd67zlb' target=\"_blank\">https://wandb.ai/tristan-schulz2001-tu-dortmund/Sweep-NeuroSAT-HARD-CONSTRAINT-AUROC/sweeps/1kd67zlb</a>"
      ],
      "text/plain": [
       "<IPython.core.display.HTML object>"
      ]
     },
     "metadata": {},
     "output_type": "display_data"
    },
    {
     "data": {
      "text/html": [
       " View run at <a href='https://wandb.ai/tristan-schulz2001-tu-dortmund/Sweep-NeuroSAT-HARD-CONSTRAINT-AUROC/runs/3tv939go' target=\"_blank\">https://wandb.ai/tristan-schulz2001-tu-dortmund/Sweep-NeuroSAT-HARD-CONSTRAINT-AUROC/runs/3tv939go</a>"
      ],
      "text/plain": [
       "<IPython.core.display.HTML object>"
      ]
     },
     "metadata": {},
     "output_type": "display_data"
    },
    {
     "name": "stdout",
     "output_type": "stream",
     "text": [
      "Epoch 1, Loss: 8.94115924835205\n",
      "mean auroc score: 0.495727002620697\n",
      "Epoch 2, Loss: 8.896312713623047\n",
      "mean auroc score: 0.4900554120540619\n",
      "Epoch 3, Loss: 8.85793399810791\n",
      "mean auroc score: 0.489479124546051\n",
      "Epoch 4, Loss: 8.806896209716797\n",
      "mean auroc score: 0.4906832277774811\n",
      "Epoch 5, Loss: 8.745784759521484\n",
      "mean auroc score: 0.48798346519470215\n",
      "Epoch 6, Loss: 8.684977531433105\n",
      "mean auroc score: 0.49123236536979675\n",
      "Epoch 7, Loss: 8.616217613220215\n",
      "mean auroc score: 0.4899299144744873\n",
      "Epoch 8, Loss: 8.544012069702148\n",
      "mean auroc score: 0.49179401993751526\n",
      "Epoch 9, Loss: 8.478650093078613\n",
      "mean auroc score: 0.49510303139686584\n",
      "Epoch 10, Loss: 8.400385856628418\n",
      "mean auroc score: 0.4966265559196472\n",
      "Epoch 11, Loss: 8.295723915100098\n",
      "mean auroc score: 0.4996052384376526\n",
      "Epoch 12, Loss: 8.217142105102539\n",
      "mean auroc score: 0.5027527213096619\n",
      "Epoch 13, Loss: 8.12111759185791\n",
      "mean auroc score: 0.5040326118469238\n",
      "Epoch 14, Loss: 8.030763626098633\n",
      "mean auroc score: 0.5063643455505371\n",
      "Epoch 15, Loss: 7.8988447189331055\n",
      "mean auroc score: 0.5068769454956055\n",
      "Epoch 16, Loss: 7.759275913238525\n",
      "mean auroc score: 0.5075960755348206\n",
      "Epoch 17, Loss: 7.641514778137207\n",
      "mean auroc score: 0.5090064406394958\n",
      "Epoch 18, Loss: 7.486632347106934\n",
      "mean auroc score: 0.5093822479248047\n",
      "Epoch 19, Loss: 7.320207118988037\n",
      "mean auroc score: 0.5098578333854675\n",
      "Epoch 20, Loss: 7.1616668701171875\n",
      "mean auroc score: 0.5118328928947449\n"
     ]
    },
    {
     "data": {
      "text/html": [],
      "text/plain": [
       "<IPython.core.display.HTML object>"
      ]
     },
     "metadata": {},
     "output_type": "display_data"
    },
    {
     "data": {
      "text/html": [
       "<br>    <style><br>        .wandb-row {<br>            display: flex;<br>            flex-direction: row;<br>            flex-wrap: wrap;<br>            justify-content: flex-start;<br>            width: 100%;<br>        }<br>        .wandb-col {<br>            display: flex;<br>            flex-direction: column;<br>            flex-basis: 100%;<br>            flex: 1;<br>            padding: 10px;<br>        }<br>    </style><br><div class=\"wandb-row\"><div class=\"wandb-col\"><h3>Run history:</h3><br/><table class=\"wandb\"><tr><td>train/Loss</td><td>███▇▇▇▇▆▆▆▅▅▅▄▄▃▃▂▂▁</td></tr><tr><td>val/auroc</td><td>▃▂▁▂▁▂▂▂▃▄▄▅▆▆▇▇▇▇▇█</td></tr><tr><td>val/highest_individual_auroc</td><td>▁</td></tr><tr><td>val/temperature</td><td>█▇▇▆▆▆▅▅▄▄▄▃▃▃▂▂▂▁▁▁</td></tr></table><br/></div><div class=\"wandb-col\"><h3>Run summary:</h3><br/><table class=\"wandb\"><tr><td>train/Loss</td><td>7.16167</td></tr><tr><td>val/auroc</td><td>0.51183</td></tr><tr><td>val/highest_individual_auroc</td><td>0.65249</td></tr><tr><td>val/temperature</td><td>2</td></tr></table><br/></div></div>"
      ],
      "text/plain": [
       "<IPython.core.display.HTML object>"
      ]
     },
     "metadata": {},
     "output_type": "display_data"
    },
    {
     "data": {
      "text/html": [
       " View run <strong style=\"color:#cdcd00\">gentle-sweep-4</strong> at: <a href='https://wandb.ai/tristan-schulz2001-tu-dortmund/Sweep-NeuroSAT-HARD-CONSTRAINT-AUROC/runs/3tv939go' target=\"_blank\">https://wandb.ai/tristan-schulz2001-tu-dortmund/Sweep-NeuroSAT-HARD-CONSTRAINT-AUROC/runs/3tv939go</a><br> View project at: <a href='https://wandb.ai/tristan-schulz2001-tu-dortmund/Sweep-NeuroSAT-HARD-CONSTRAINT-AUROC' target=\"_blank\">https://wandb.ai/tristan-schulz2001-tu-dortmund/Sweep-NeuroSAT-HARD-CONSTRAINT-AUROC</a><br>Synced 5 W&B file(s), 0 media file(s), 0 artifact file(s) and 0 other file(s)"
      ],
      "text/plain": [
       "<IPython.core.display.HTML object>"
      ]
     },
     "metadata": {},
     "output_type": "display_data"
    },
    {
     "data": {
      "text/html": [
       "Find logs at: <code>.\\wandb\\run-20250410_104845-3tv939go\\logs</code>"
      ],
      "text/plain": [
       "<IPython.core.display.HTML object>"
      ]
     },
     "metadata": {},
     "output_type": "display_data"
    },
    {
     "name": "stderr",
     "output_type": "stream",
     "text": [
      "\u001b[34m\u001b[1mwandb\u001b[0m: Agent Starting Run: hou28uoh with config:\n",
      "\u001b[34m\u001b[1mwandb\u001b[0m: \tbce_loss: 1\n",
      "\u001b[34m\u001b[1mwandb\u001b[0m: \tconsistency_reg: 0\n",
      "\u001b[34m\u001b[1mwandb\u001b[0m: \tentropy_reg: 0\n",
      "\u001b[34m\u001b[1mwandb\u001b[0m: \tepochs: 20\n",
      "\u001b[34m\u001b[1mwandb\u001b[0m: \tlr_mlp: 3e-05\n",
      "\u001b[34m\u001b[1mwandb\u001b[0m: \tseed: 74\n",
      "\u001b[34m\u001b[1mwandb\u001b[0m: \tsize_reg: 0.01\n",
      "\u001b[34m\u001b[1mwandb\u001b[0m: \ttT: 1\n"
     ]
    },
    {
     "data": {
      "text/html": [
       "Ignoring project 'Explainer-NeuroSAT-Sweep' when running a sweep."
      ],
      "text/plain": [
       "<IPython.core.display.HTML object>"
      ]
     },
     "metadata": {},
     "output_type": "display_data"
    },
    {
     "data": {
      "text/html": [
       "Tracking run with wandb version 0.19.8"
      ],
      "text/plain": [
       "<IPython.core.display.HTML object>"
      ]
     },
     "metadata": {},
     "output_type": "display_data"
    },
    {
     "data": {
      "text/html": [
       "Run data is saved locally in <code>c:\\Users\\trist\\Git_repos\\BT-ML-PGESAT\\code\\PGExplainer NeuroSAT\\wandb\\run-20250410_110432-hou28uoh</code>"
      ],
      "text/plain": [
       "<IPython.core.display.HTML object>"
      ]
     },
     "metadata": {},
     "output_type": "display_data"
    },
    {
     "data": {
      "text/html": [
       "Syncing run <strong><a href='https://wandb.ai/tristan-schulz2001-tu-dortmund/Sweep-NeuroSAT-HARD-CONSTRAINT-AUROC/runs/hou28uoh' target=\"_blank\">ancient-sweep-5</a></strong> to <a href='https://wandb.ai/tristan-schulz2001-tu-dortmund/Sweep-NeuroSAT-HARD-CONSTRAINT-AUROC' target=\"_blank\">Weights & Biases</a> (<a href='https://wandb.me/developer-guide' target=\"_blank\">docs</a>)<br>Sweep page: <a href='https://wandb.ai/tristan-schulz2001-tu-dortmund/Sweep-NeuroSAT-HARD-CONSTRAINT-AUROC/sweeps/1kd67zlb' target=\"_blank\">https://wandb.ai/tristan-schulz2001-tu-dortmund/Sweep-NeuroSAT-HARD-CONSTRAINT-AUROC/sweeps/1kd67zlb</a>"
      ],
      "text/plain": [
       "<IPython.core.display.HTML object>"
      ]
     },
     "metadata": {},
     "output_type": "display_data"
    },
    {
     "data": {
      "text/html": [
       " View project at <a href='https://wandb.ai/tristan-schulz2001-tu-dortmund/Sweep-NeuroSAT-HARD-CONSTRAINT-AUROC' target=\"_blank\">https://wandb.ai/tristan-schulz2001-tu-dortmund/Sweep-NeuroSAT-HARD-CONSTRAINT-AUROC</a>"
      ],
      "text/plain": [
       "<IPython.core.display.HTML object>"
      ]
     },
     "metadata": {},
     "output_type": "display_data"
    },
    {
     "data": {
      "text/html": [
       " View sweep at <a href='https://wandb.ai/tristan-schulz2001-tu-dortmund/Sweep-NeuroSAT-HARD-CONSTRAINT-AUROC/sweeps/1kd67zlb' target=\"_blank\">https://wandb.ai/tristan-schulz2001-tu-dortmund/Sweep-NeuroSAT-HARD-CONSTRAINT-AUROC/sweeps/1kd67zlb</a>"
      ],
      "text/plain": [
       "<IPython.core.display.HTML object>"
      ]
     },
     "metadata": {},
     "output_type": "display_data"
    },
    {
     "data": {
      "text/html": [
       " View run at <a href='https://wandb.ai/tristan-schulz2001-tu-dortmund/Sweep-NeuroSAT-HARD-CONSTRAINT-AUROC/runs/hou28uoh' target=\"_blank\">https://wandb.ai/tristan-schulz2001-tu-dortmund/Sweep-NeuroSAT-HARD-CONSTRAINT-AUROC/runs/hou28uoh</a>"
      ],
      "text/plain": [
       "<IPython.core.display.HTML object>"
      ]
     },
     "metadata": {},
     "output_type": "display_data"
    },
    {
     "name": "stdout",
     "output_type": "stream",
     "text": [
      "Epoch 1, Loss: 9.160676956176758\n",
      "mean auroc score: 0.487520694732666\n",
      "Epoch 2, Loss: 9.168009757995605\n",
      "mean auroc score: 0.4898471236228943\n",
      "Epoch 3, Loss: 9.154230117797852\n",
      "mean auroc score: 0.488873690366745\n",
      "Epoch 4, Loss: 9.14024829864502\n",
      "mean auroc score: 0.49097833037376404\n",
      "Epoch 5, Loss: 9.138577461242676\n",
      "mean auroc score: 0.4923509657382965\n",
      "Epoch 6, Loss: 9.11225414276123\n",
      "mean auroc score: 0.4902441203594208\n",
      "Epoch 7, Loss: 9.095291137695312\n",
      "mean auroc score: 0.49233192205429077\n",
      "Epoch 8, Loss: 9.083415031433105\n",
      "mean auroc score: 0.49322834610939026\n",
      "Epoch 9, Loss: 9.035799980163574\n",
      "mean auroc score: 0.4962656497955322\n",
      "Epoch 10, Loss: 9.03386116027832\n",
      "mean auroc score: 0.5027512311935425\n",
      "Epoch 11, Loss: 8.967782974243164\n",
      "mean auroc score: 0.5035571455955505\n",
      "Epoch 12, Loss: 8.958871841430664\n",
      "mean auroc score: 0.5051636099815369\n",
      "Epoch 13, Loss: 8.889864921569824\n",
      "mean auroc score: 0.5115706920623779\n",
      "Epoch 14, Loss: 8.868815422058105\n",
      "mean auroc score: 0.5151985883712769\n",
      "Epoch 15, Loss: 8.815688133239746\n",
      "mean auroc score: 0.5140022039413452\n",
      "Epoch 16, Loss: 8.790741920471191\n",
      "mean auroc score: 0.5198402404785156\n",
      "Epoch 17, Loss: 8.75723648071289\n",
      "mean auroc score: 0.5220726728439331\n",
      "Epoch 18, Loss: 8.655056953430176\n",
      "mean auroc score: 0.5241902470588684\n",
      "Epoch 19, Loss: 8.592105865478516\n",
      "mean auroc score: 0.5232473015785217\n",
      "Epoch 20, Loss: 8.64106273651123\n",
      "mean auroc score: 0.5258065462112427\n"
     ]
    },
    {
     "data": {
      "text/html": [],
      "text/plain": [
       "<IPython.core.display.HTML object>"
      ]
     },
     "metadata": {},
     "output_type": "display_data"
    },
    {
     "data": {
      "text/html": [
       "<br>    <style><br>        .wandb-row {<br>            display: flex;<br>            flex-direction: row;<br>            flex-wrap: wrap;<br>            justify-content: flex-start;<br>            width: 100%;<br>        }<br>        .wandb-col {<br>            display: flex;<br>            flex-direction: column;<br>            flex-basis: 100%;<br>            flex: 1;<br>            padding: 10px;<br>        }<br>    </style><br><div class=\"wandb-row\"><div class=\"wandb-col\"><h3>Run history:</h3><br/><table class=\"wandb\"><tr><td>train/Loss</td><td>█████▇▇▇▆▆▆▅▅▄▄▃▃▂▁▂</td></tr><tr><td>val/auroc</td><td>▁▁▁▂▂▁▂▂▃▄▄▄▅▆▆▇▇███</td></tr><tr><td>val/highest_individual_auroc</td><td>▁</td></tr><tr><td>val/temperature</td><td>█▇▇▆▆▅▅▄▄▃▃▃▂▂▂▂▂▁▁▁</td></tr></table><br/></div><div class=\"wandb-col\"><h3>Run summary:</h3><br/><table class=\"wandb\"><tr><td>train/Loss</td><td>8.64106</td></tr><tr><td>val/auroc</td><td>0.52581</td></tr><tr><td>val/highest_individual_auroc</td><td>0.77338</td></tr><tr><td>val/temperature</td><td>1</td></tr></table><br/></div></div>"
      ],
      "text/plain": [
       "<IPython.core.display.HTML object>"
      ]
     },
     "metadata": {},
     "output_type": "display_data"
    },
    {
     "data": {
      "text/html": [
       " View run <strong style=\"color:#cdcd00\">ancient-sweep-5</strong> at: <a href='https://wandb.ai/tristan-schulz2001-tu-dortmund/Sweep-NeuroSAT-HARD-CONSTRAINT-AUROC/runs/hou28uoh' target=\"_blank\">https://wandb.ai/tristan-schulz2001-tu-dortmund/Sweep-NeuroSAT-HARD-CONSTRAINT-AUROC/runs/hou28uoh</a><br> View project at: <a href='https://wandb.ai/tristan-schulz2001-tu-dortmund/Sweep-NeuroSAT-HARD-CONSTRAINT-AUROC' target=\"_blank\">https://wandb.ai/tristan-schulz2001-tu-dortmund/Sweep-NeuroSAT-HARD-CONSTRAINT-AUROC</a><br>Synced 5 W&B file(s), 0 media file(s), 0 artifact file(s) and 0 other file(s)"
      ],
      "text/plain": [
       "<IPython.core.display.HTML object>"
      ]
     },
     "metadata": {},
     "output_type": "display_data"
    },
    {
     "data": {
      "text/html": [
       "Find logs at: <code>.\\wandb\\run-20250410_110432-hou28uoh\\logs</code>"
      ],
      "text/plain": [
       "<IPython.core.display.HTML object>"
      ]
     },
     "metadata": {},
     "output_type": "display_data"
    },
    {
     "name": "stderr",
     "output_type": "stream",
     "text": [
      "\u001b[34m\u001b[1mwandb\u001b[0m: Sweep Agent: Waiting for job.\n",
      "\u001b[34m\u001b[1mwandb\u001b[0m: Job received.\n",
      "\u001b[34m\u001b[1mwandb\u001b[0m: Agent Starting Run: p2w9f3yz with config:\n",
      "\u001b[34m\u001b[1mwandb\u001b[0m: \tbce_loss: 1\n",
      "\u001b[34m\u001b[1mwandb\u001b[0m: \tconsistency_reg: 0\n",
      "\u001b[34m\u001b[1mwandb\u001b[0m: \tentropy_reg: 0\n",
      "\u001b[34m\u001b[1mwandb\u001b[0m: \tepochs: 20\n",
      "\u001b[34m\u001b[1mwandb\u001b[0m: \tlr_mlp: 3e-05\n",
      "\u001b[34m\u001b[1mwandb\u001b[0m: \tseed: 74\n",
      "\u001b[34m\u001b[1mwandb\u001b[0m: \tsize_reg: 0.01\n",
      "\u001b[34m\u001b[1mwandb\u001b[0m: \ttT: 2\n"
     ]
    },
    {
     "data": {
      "text/html": [
       "Ignoring project 'Explainer-NeuroSAT-Sweep' when running a sweep."
      ],
      "text/plain": [
       "<IPython.core.display.HTML object>"
      ]
     },
     "metadata": {},
     "output_type": "display_data"
    },
    {
     "data": {
      "text/html": [
       "Tracking run with wandb version 0.19.8"
      ],
      "text/plain": [
       "<IPython.core.display.HTML object>"
      ]
     },
     "metadata": {},
     "output_type": "display_data"
    },
    {
     "data": {
      "text/html": [
       "Run data is saved locally in <code>c:\\Users\\trist\\Git_repos\\BT-ML-PGESAT\\code\\PGExplainer NeuroSAT\\wandb\\run-20250410_112105-p2w9f3yz</code>"
      ],
      "text/plain": [
       "<IPython.core.display.HTML object>"
      ]
     },
     "metadata": {},
     "output_type": "display_data"
    },
    {
     "data": {
      "text/html": [
       "Syncing run <strong><a href='https://wandb.ai/tristan-schulz2001-tu-dortmund/Sweep-NeuroSAT-HARD-CONSTRAINT-AUROC/runs/p2w9f3yz' target=\"_blank\">wandering-sweep-6</a></strong> to <a href='https://wandb.ai/tristan-schulz2001-tu-dortmund/Sweep-NeuroSAT-HARD-CONSTRAINT-AUROC' target=\"_blank\">Weights & Biases</a> (<a href='https://wandb.me/developer-guide' target=\"_blank\">docs</a>)<br>Sweep page: <a href='https://wandb.ai/tristan-schulz2001-tu-dortmund/Sweep-NeuroSAT-HARD-CONSTRAINT-AUROC/sweeps/1kd67zlb' target=\"_blank\">https://wandb.ai/tristan-schulz2001-tu-dortmund/Sweep-NeuroSAT-HARD-CONSTRAINT-AUROC/sweeps/1kd67zlb</a>"
      ],
      "text/plain": [
       "<IPython.core.display.HTML object>"
      ]
     },
     "metadata": {},
     "output_type": "display_data"
    },
    {
     "data": {
      "text/html": [
       " View project at <a href='https://wandb.ai/tristan-schulz2001-tu-dortmund/Sweep-NeuroSAT-HARD-CONSTRAINT-AUROC' target=\"_blank\">https://wandb.ai/tristan-schulz2001-tu-dortmund/Sweep-NeuroSAT-HARD-CONSTRAINT-AUROC</a>"
      ],
      "text/plain": [
       "<IPython.core.display.HTML object>"
      ]
     },
     "metadata": {},
     "output_type": "display_data"
    },
    {
     "data": {
      "text/html": [
       " View sweep at <a href='https://wandb.ai/tristan-schulz2001-tu-dortmund/Sweep-NeuroSAT-HARD-CONSTRAINT-AUROC/sweeps/1kd67zlb' target=\"_blank\">https://wandb.ai/tristan-schulz2001-tu-dortmund/Sweep-NeuroSAT-HARD-CONSTRAINT-AUROC/sweeps/1kd67zlb</a>"
      ],
      "text/plain": [
       "<IPython.core.display.HTML object>"
      ]
     },
     "metadata": {},
     "output_type": "display_data"
    },
    {
     "data": {
      "text/html": [
       " View run at <a href='https://wandb.ai/tristan-schulz2001-tu-dortmund/Sweep-NeuroSAT-HARD-CONSTRAINT-AUROC/runs/p2w9f3yz' target=\"_blank\">https://wandb.ai/tristan-schulz2001-tu-dortmund/Sweep-NeuroSAT-HARD-CONSTRAINT-AUROC/runs/p2w9f3yz</a>"
      ],
      "text/plain": [
       "<IPython.core.display.HTML object>"
      ]
     },
     "metadata": {},
     "output_type": "display_data"
    },
    {
     "name": "stdout",
     "output_type": "stream",
     "text": [
      "Epoch 1, Loss: 9.153109550476074\n",
      "mean auroc score: 0.4874560236930847\n",
      "Epoch 2, Loss: 9.152517318725586\n",
      "mean auroc score: 0.4898471236228943\n",
      "Epoch 3, Loss: 9.133499145507812\n",
      "mean auroc score: 0.48895344138145447\n",
      "Epoch 4, Loss: 9.115131378173828\n",
      "mean auroc score: 0.49097833037376404\n",
      "Epoch 5, Loss: 9.107651710510254\n",
      "mean auroc score: 0.49231886863708496\n",
      "Epoch 6, Loss: 9.080284118652344\n",
      "mean auroc score: 0.49035075306892395\n",
      "Epoch 7, Loss: 9.062654495239258\n",
      "mean auroc score: 0.4923946261405945\n",
      "Epoch 8, Loss: 9.049546241760254\n",
      "mean auroc score: 0.4927268624305725\n",
      "Epoch 9, Loss: 9.012350082397461\n",
      "mean auroc score: 0.4961073398590088\n",
      "Epoch 10, Loss: 9.00658130645752\n",
      "mean auroc score: 0.5026914477348328\n",
      "Epoch 11, Loss: 8.956535339355469\n",
      "mean auroc score: 0.5040760636329651\n",
      "Epoch 12, Loss: 8.94642162322998\n",
      "mean auroc score: 0.5049037337303162\n",
      "Epoch 13, Loss: 8.90264892578125\n",
      "mean auroc score: 0.5112252235412598\n",
      "Epoch 14, Loss: 8.879971504211426\n",
      "mean auroc score: 0.5167584419250488\n",
      "Epoch 15, Loss: 8.849908828735352\n",
      "mean auroc score: 0.5146554112434387\n",
      "Epoch 16, Loss: 8.829392433166504\n",
      "mean auroc score: 0.5193833708763123\n",
      "Epoch 17, Loss: 8.804512977600098\n",
      "mean auroc score: 0.5216169357299805\n",
      "Epoch 18, Loss: 8.746720314025879\n",
      "mean auroc score: 0.5234772562980652\n",
      "Epoch 19, Loss: 8.721619606018066\n",
      "mean auroc score: 0.5213197469711304\n",
      "Epoch 20, Loss: 8.694647789001465\n",
      "mean auroc score: 0.5245981216430664\n"
     ]
    },
    {
     "data": {
      "text/html": [],
      "text/plain": [
       "<IPython.core.display.HTML object>"
      ]
     },
     "metadata": {},
     "output_type": "display_data"
    },
    {
     "data": {
      "text/html": [
       "<br>    <style><br>        .wandb-row {<br>            display: flex;<br>            flex-direction: row;<br>            flex-wrap: wrap;<br>            justify-content: flex-start;<br>            width: 100%;<br>        }<br>        .wandb-col {<br>            display: flex;<br>            flex-direction: column;<br>            flex-basis: 100%;<br>            flex: 1;<br>            padding: 10px;<br>        }<br>    </style><br><div class=\"wandb-row\"><div class=\"wandb-col\"><h3>Run history:</h3><br/><table class=\"wandb\"><tr><td>train/Loss</td><td>███▇▇▇▇▆▆▆▅▅▄▄▃▃▃▂▁▁</td></tr><tr><td>val/auroc</td><td>▁▁▁▂▂▂▂▂▃▄▄▄▅▇▆▇▇█▇█</td></tr><tr><td>val/highest_individual_auroc</td><td>▁</td></tr><tr><td>val/temperature</td><td>█▇▇▆▆▆▅▅▄▄▄▃▃▃▂▂▂▁▁▁</td></tr></table><br/></div><div class=\"wandb-col\"><h3>Run summary:</h3><br/><table class=\"wandb\"><tr><td>train/Loss</td><td>8.69465</td></tr><tr><td>val/auroc</td><td>0.5246</td></tr><tr><td>val/highest_individual_auroc</td><td>0.77211</td></tr><tr><td>val/temperature</td><td>2</td></tr></table><br/></div></div>"
      ],
      "text/plain": [
       "<IPython.core.display.HTML object>"
      ]
     },
     "metadata": {},
     "output_type": "display_data"
    },
    {
     "data": {
      "text/html": [
       " View run <strong style=\"color:#cdcd00\">wandering-sweep-6</strong> at: <a href='https://wandb.ai/tristan-schulz2001-tu-dortmund/Sweep-NeuroSAT-HARD-CONSTRAINT-AUROC/runs/p2w9f3yz' target=\"_blank\">https://wandb.ai/tristan-schulz2001-tu-dortmund/Sweep-NeuroSAT-HARD-CONSTRAINT-AUROC/runs/p2w9f3yz</a><br> View project at: <a href='https://wandb.ai/tristan-schulz2001-tu-dortmund/Sweep-NeuroSAT-HARD-CONSTRAINT-AUROC' target=\"_blank\">https://wandb.ai/tristan-schulz2001-tu-dortmund/Sweep-NeuroSAT-HARD-CONSTRAINT-AUROC</a><br>Synced 5 W&B file(s), 0 media file(s), 0 artifact file(s) and 0 other file(s)"
      ],
      "text/plain": [
       "<IPython.core.display.HTML object>"
      ]
     },
     "metadata": {},
     "output_type": "display_data"
    },
    {
     "data": {
      "text/html": [
       "Find logs at: <code>.\\wandb\\run-20250410_112105-p2w9f3yz\\logs</code>"
      ],
      "text/plain": [
       "<IPython.core.display.HTML object>"
      ]
     },
     "metadata": {},
     "output_type": "display_data"
    },
    {
     "name": "stderr",
     "output_type": "stream",
     "text": [
      "\u001b[34m\u001b[1mwandb\u001b[0m: Sweep Agent: Waiting for job.\n",
      "\u001b[34m\u001b[1mwandb\u001b[0m: Job received.\n",
      "\u001b[34m\u001b[1mwandb\u001b[0m: Agent Starting Run: w61xeziu with config:\n",
      "\u001b[34m\u001b[1mwandb\u001b[0m: \tbce_loss: 1\n",
      "\u001b[34m\u001b[1mwandb\u001b[0m: \tconsistency_reg: 0\n",
      "\u001b[34m\u001b[1mwandb\u001b[0m: \tentropy_reg: 0\n",
      "\u001b[34m\u001b[1mwandb\u001b[0m: \tepochs: 20\n",
      "\u001b[34m\u001b[1mwandb\u001b[0m: \tlr_mlp: 3e-05\n",
      "\u001b[34m\u001b[1mwandb\u001b[0m: \tseed: 75\n",
      "\u001b[34m\u001b[1mwandb\u001b[0m: \tsize_reg: 0.01\n",
      "\u001b[34m\u001b[1mwandb\u001b[0m: \ttT: 1\n"
     ]
    },
    {
     "data": {
      "text/html": [
       "Ignoring project 'Explainer-NeuroSAT-Sweep' when running a sweep."
      ],
      "text/plain": [
       "<IPython.core.display.HTML object>"
      ]
     },
     "metadata": {},
     "output_type": "display_data"
    },
    {
     "data": {
      "text/html": [
       "Tracking run with wandb version 0.19.8"
      ],
      "text/plain": [
       "<IPython.core.display.HTML object>"
      ]
     },
     "metadata": {},
     "output_type": "display_data"
    },
    {
     "data": {
      "text/html": [
       "Run data is saved locally in <code>c:\\Users\\trist\\Git_repos\\BT-ML-PGESAT\\code\\PGExplainer NeuroSAT\\wandb\\run-20250410_113723-w61xeziu</code>"
      ],
      "text/plain": [
       "<IPython.core.display.HTML object>"
      ]
     },
     "metadata": {},
     "output_type": "display_data"
    },
    {
     "data": {
      "text/html": [
       "Syncing run <strong><a href='https://wandb.ai/tristan-schulz2001-tu-dortmund/Sweep-NeuroSAT-HARD-CONSTRAINT-AUROC/runs/w61xeziu' target=\"_blank\">fancy-sweep-7</a></strong> to <a href='https://wandb.ai/tristan-schulz2001-tu-dortmund/Sweep-NeuroSAT-HARD-CONSTRAINT-AUROC' target=\"_blank\">Weights & Biases</a> (<a href='https://wandb.me/developer-guide' target=\"_blank\">docs</a>)<br>Sweep page: <a href='https://wandb.ai/tristan-schulz2001-tu-dortmund/Sweep-NeuroSAT-HARD-CONSTRAINT-AUROC/sweeps/1kd67zlb' target=\"_blank\">https://wandb.ai/tristan-schulz2001-tu-dortmund/Sweep-NeuroSAT-HARD-CONSTRAINT-AUROC/sweeps/1kd67zlb</a>"
      ],
      "text/plain": [
       "<IPython.core.display.HTML object>"
      ]
     },
     "metadata": {},
     "output_type": "display_data"
    },
    {
     "data": {
      "text/html": [
       " View project at <a href='https://wandb.ai/tristan-schulz2001-tu-dortmund/Sweep-NeuroSAT-HARD-CONSTRAINT-AUROC' target=\"_blank\">https://wandb.ai/tristan-schulz2001-tu-dortmund/Sweep-NeuroSAT-HARD-CONSTRAINT-AUROC</a>"
      ],
      "text/plain": [
       "<IPython.core.display.HTML object>"
      ]
     },
     "metadata": {},
     "output_type": "display_data"
    },
    {
     "data": {
      "text/html": [
       " View sweep at <a href='https://wandb.ai/tristan-schulz2001-tu-dortmund/Sweep-NeuroSAT-HARD-CONSTRAINT-AUROC/sweeps/1kd67zlb' target=\"_blank\">https://wandb.ai/tristan-schulz2001-tu-dortmund/Sweep-NeuroSAT-HARD-CONSTRAINT-AUROC/sweeps/1kd67zlb</a>"
      ],
      "text/plain": [
       "<IPython.core.display.HTML object>"
      ]
     },
     "metadata": {},
     "output_type": "display_data"
    },
    {
     "data": {
      "text/html": [
       " View run at <a href='https://wandb.ai/tristan-schulz2001-tu-dortmund/Sweep-NeuroSAT-HARD-CONSTRAINT-AUROC/runs/w61xeziu' target=\"_blank\">https://wandb.ai/tristan-schulz2001-tu-dortmund/Sweep-NeuroSAT-HARD-CONSTRAINT-AUROC/runs/w61xeziu</a>"
      ],
      "text/plain": [
       "<IPython.core.display.HTML object>"
      ]
     },
     "metadata": {},
     "output_type": "display_data"
    },
    {
     "name": "stdout",
     "output_type": "stream",
     "text": [
      "Epoch 1, Loss: 8.941617012023926\n",
      "mean auroc score: 0.5006551146507263\n",
      "Epoch 2, Loss: 8.926812171936035\n",
      "mean auroc score: 0.497092604637146\n",
      "Epoch 3, Loss: 8.9215726852417\n",
      "mean auroc score: 0.49549561738967896\n",
      "Epoch 4, Loss: 8.905929565429688\n",
      "mean auroc score: 0.49625787138938904\n",
      "Epoch 5, Loss: 8.881692886352539\n",
      "mean auroc score: 0.4932652711868286\n",
      "Epoch 6, Loss: 8.859960556030273\n",
      "mean auroc score: 0.4905272126197815\n",
      "Epoch 7, Loss: 8.831704139709473\n",
      "mean auroc score: 0.4886760115623474\n",
      "Epoch 8, Loss: 8.804412841796875\n",
      "mean auroc score: 0.48807084560394287\n",
      "Epoch 9, Loss: 8.786592483520508\n",
      "mean auroc score: 0.48841872811317444\n",
      "Epoch 10, Loss: 8.748559951782227\n",
      "mean auroc score: 0.489963561296463\n",
      "Epoch 11, Loss: 8.684247016906738\n",
      "mean auroc score: 0.48981866240501404\n",
      "Epoch 12, Loss: 8.656776428222656\n",
      "mean auroc score: 0.48884841799736023\n",
      "Epoch 13, Loss: 8.61847972869873\n",
      "mean auroc score: 0.4911445081233978\n",
      "Epoch 14, Loss: 8.596494674682617\n",
      "mean auroc score: 0.4890257716178894\n",
      "Epoch 15, Loss: 8.508337020874023\n",
      "mean auroc score: 0.4889630377292633\n",
      "Epoch 16, Loss: 8.42561149597168\n",
      "mean auroc score: 0.488371878862381\n",
      "Epoch 17, Loss: 8.398256301879883\n",
      "mean auroc score: 0.4894699156284332\n",
      "Epoch 18, Loss: 8.322393417358398\n",
      "mean auroc score: 0.4899385869503021\n",
      "Epoch 19, Loss: 8.240503311157227\n",
      "mean auroc score: 0.49052342772483826\n",
      "Epoch 20, Loss: 8.16186809539795\n",
      "mean auroc score: 0.49117565155029297\n"
     ]
    },
    {
     "data": {
      "text/html": [],
      "text/plain": [
       "<IPython.core.display.HTML object>"
      ]
     },
     "metadata": {},
     "output_type": "display_data"
    },
    {
     "data": {
      "text/html": [
       "<br>    <style><br>        .wandb-row {<br>            display: flex;<br>            flex-direction: row;<br>            flex-wrap: wrap;<br>            justify-content: flex-start;<br>            width: 100%;<br>        }<br>        .wandb-col {<br>            display: flex;<br>            flex-direction: column;<br>            flex-basis: 100%;<br>            flex: 1;<br>            padding: 10px;<br>        }<br>    </style><br><div class=\"wandb-row\"><div class=\"wandb-col\"><h3>Run history:</h3><br/><table class=\"wandb\"><tr><td>train/Loss</td><td>████▇▇▇▇▇▆▆▅▅▅▄▃▃▂▂▁</td></tr><tr><td>val/auroc</td><td>█▆▅▆▄▂▁▁▁▂▂▁▃▂▁▁▂▂▂▃</td></tr><tr><td>val/highest_individual_auroc</td><td>▁</td></tr><tr><td>val/temperature</td><td>█▇▇▆▆▅▅▄▄▃▃▃▂▂▂▂▂▁▁▁</td></tr></table><br/></div><div class=\"wandb-col\"><h3>Run summary:</h3><br/><table class=\"wandb\"><tr><td>train/Loss</td><td>8.16187</td></tr><tr><td>val/auroc</td><td>0.49118</td></tr><tr><td>val/highest_individual_auroc</td><td>0.63425</td></tr><tr><td>val/temperature</td><td>1</td></tr></table><br/></div></div>"
      ],
      "text/plain": [
       "<IPython.core.display.HTML object>"
      ]
     },
     "metadata": {},
     "output_type": "display_data"
    },
    {
     "data": {
      "text/html": [
       " View run <strong style=\"color:#cdcd00\">fancy-sweep-7</strong> at: <a href='https://wandb.ai/tristan-schulz2001-tu-dortmund/Sweep-NeuroSAT-HARD-CONSTRAINT-AUROC/runs/w61xeziu' target=\"_blank\">https://wandb.ai/tristan-schulz2001-tu-dortmund/Sweep-NeuroSAT-HARD-CONSTRAINT-AUROC/runs/w61xeziu</a><br> View project at: <a href='https://wandb.ai/tristan-schulz2001-tu-dortmund/Sweep-NeuroSAT-HARD-CONSTRAINT-AUROC' target=\"_blank\">https://wandb.ai/tristan-schulz2001-tu-dortmund/Sweep-NeuroSAT-HARD-CONSTRAINT-AUROC</a><br>Synced 5 W&B file(s), 0 media file(s), 0 artifact file(s) and 0 other file(s)"
      ],
      "text/plain": [
       "<IPython.core.display.HTML object>"
      ]
     },
     "metadata": {},
     "output_type": "display_data"
    },
    {
     "data": {
      "text/html": [
       "Find logs at: <code>.\\wandb\\run-20250410_113723-w61xeziu\\logs</code>"
      ],
      "text/plain": [
       "<IPython.core.display.HTML object>"
      ]
     },
     "metadata": {},
     "output_type": "display_data"
    },
    {
     "name": "stderr",
     "output_type": "stream",
     "text": [
      "\u001b[34m\u001b[1mwandb\u001b[0m: Agent Starting Run: gwjvmwox with config:\n",
      "\u001b[34m\u001b[1mwandb\u001b[0m: \tbce_loss: 1\n",
      "\u001b[34m\u001b[1mwandb\u001b[0m: \tconsistency_reg: 0\n",
      "\u001b[34m\u001b[1mwandb\u001b[0m: \tentropy_reg: 0\n",
      "\u001b[34m\u001b[1mwandb\u001b[0m: \tepochs: 20\n",
      "\u001b[34m\u001b[1mwandb\u001b[0m: \tlr_mlp: 3e-05\n",
      "\u001b[34m\u001b[1mwandb\u001b[0m: \tseed: 75\n",
      "\u001b[34m\u001b[1mwandb\u001b[0m: \tsize_reg: 0.01\n",
      "\u001b[34m\u001b[1mwandb\u001b[0m: \ttT: 2\n"
     ]
    },
    {
     "data": {
      "text/html": [
       "Ignoring project 'Explainer-NeuroSAT-Sweep' when running a sweep."
      ],
      "text/plain": [
       "<IPython.core.display.HTML object>"
      ]
     },
     "metadata": {},
     "output_type": "display_data"
    },
    {
     "data": {
      "text/html": [
       "Tracking run with wandb version 0.19.8"
      ],
      "text/plain": [
       "<IPython.core.display.HTML object>"
      ]
     },
     "metadata": {},
     "output_type": "display_data"
    },
    {
     "data": {
      "text/html": [
       "Run data is saved locally in <code>c:\\Users\\trist\\Git_repos\\BT-ML-PGESAT\\code\\PGExplainer NeuroSAT\\wandb\\run-20250410_115333-gwjvmwox</code>"
      ],
      "text/plain": [
       "<IPython.core.display.HTML object>"
      ]
     },
     "metadata": {},
     "output_type": "display_data"
    },
    {
     "data": {
      "text/html": [
       "Syncing run <strong><a href='https://wandb.ai/tristan-schulz2001-tu-dortmund/Sweep-NeuroSAT-HARD-CONSTRAINT-AUROC/runs/gwjvmwox' target=\"_blank\">comic-sweep-8</a></strong> to <a href='https://wandb.ai/tristan-schulz2001-tu-dortmund/Sweep-NeuroSAT-HARD-CONSTRAINT-AUROC' target=\"_blank\">Weights & Biases</a> (<a href='https://wandb.me/developer-guide' target=\"_blank\">docs</a>)<br>Sweep page: <a href='https://wandb.ai/tristan-schulz2001-tu-dortmund/Sweep-NeuroSAT-HARD-CONSTRAINT-AUROC/sweeps/1kd67zlb' target=\"_blank\">https://wandb.ai/tristan-schulz2001-tu-dortmund/Sweep-NeuroSAT-HARD-CONSTRAINT-AUROC/sweeps/1kd67zlb</a>"
      ],
      "text/plain": [
       "<IPython.core.display.HTML object>"
      ]
     },
     "metadata": {},
     "output_type": "display_data"
    },
    {
     "data": {
      "text/html": [
       " View project at <a href='https://wandb.ai/tristan-schulz2001-tu-dortmund/Sweep-NeuroSAT-HARD-CONSTRAINT-AUROC' target=\"_blank\">https://wandb.ai/tristan-schulz2001-tu-dortmund/Sweep-NeuroSAT-HARD-CONSTRAINT-AUROC</a>"
      ],
      "text/plain": [
       "<IPython.core.display.HTML object>"
      ]
     },
     "metadata": {},
     "output_type": "display_data"
    },
    {
     "data": {
      "text/html": [
       " View sweep at <a href='https://wandb.ai/tristan-schulz2001-tu-dortmund/Sweep-NeuroSAT-HARD-CONSTRAINT-AUROC/sweeps/1kd67zlb' target=\"_blank\">https://wandb.ai/tristan-schulz2001-tu-dortmund/Sweep-NeuroSAT-HARD-CONSTRAINT-AUROC/sweeps/1kd67zlb</a>"
      ],
      "text/plain": [
       "<IPython.core.display.HTML object>"
      ]
     },
     "metadata": {},
     "output_type": "display_data"
    },
    {
     "data": {
      "text/html": [
       " View run at <a href='https://wandb.ai/tristan-schulz2001-tu-dortmund/Sweep-NeuroSAT-HARD-CONSTRAINT-AUROC/runs/gwjvmwox' target=\"_blank\">https://wandb.ai/tristan-schulz2001-tu-dortmund/Sweep-NeuroSAT-HARD-CONSTRAINT-AUROC/runs/gwjvmwox</a>"
      ],
      "text/plain": [
       "<IPython.core.display.HTML object>"
      ]
     },
     "metadata": {},
     "output_type": "display_data"
    },
    {
     "name": "stdout",
     "output_type": "stream",
     "text": [
      "Epoch 1, Loss: 8.94115924835205\n",
      "mean auroc score: 0.5006551146507263\n",
      "Epoch 2, Loss: 8.926607131958008\n",
      "mean auroc score: 0.497092604637146\n",
      "Epoch 3, Loss: 8.921979904174805\n",
      "mean auroc score: 0.49549561738967896\n",
      "Epoch 4, Loss: 8.90823745727539\n",
      "mean auroc score: 0.49625787138938904\n",
      "Epoch 5, Loss: 8.887090682983398\n",
      "mean auroc score: 0.4932652711868286\n",
      "Epoch 6, Loss: 8.871317863464355\n",
      "mean auroc score: 0.4906492829322815\n",
      "Epoch 7, Loss: 8.849047660827637\n",
      "mean auroc score: 0.4890878200531006\n",
      "Epoch 8, Loss: 8.825712203979492\n",
      "mean auroc score: 0.4884850084781647\n",
      "Epoch 9, Loss: 8.815145492553711\n",
      "mean auroc score: 0.48869019746780396\n",
      "Epoch 10, Loss: 8.787847518920898\n",
      "mean auroc score: 0.489568829536438\n",
      "Epoch 11, Loss: 8.746679306030273\n",
      "mean auroc score: 0.48990902304649353\n",
      "Epoch 12, Loss: 8.730499267578125\n",
      "mean auroc score: 0.4887602627277374\n"
     ]
    },
    {
     "name": "stderr",
     "output_type": "stream",
     "text": [
      "\u001b[34m\u001b[1mwandb\u001b[0m: Network error (ConnectTimeout), entering retry loop.\n"
     ]
    },
    {
     "name": "stdout",
     "output_type": "stream",
     "text": [
      "Epoch 13, Loss: 8.702570915222168\n",
      "mean auroc score: 0.49063101410865784\n",
      "Epoch 14, Loss: 8.690164566040039\n",
      "mean auroc score: 0.4893478453159332\n",
      "Epoch 15, Loss: 8.631532669067383\n",
      "mean auroc score: 0.4895190894603729\n",
      "Epoch 16, Loss: 8.589303970336914\n",
      "mean auroc score: 0.48777449131011963\n",
      "Epoch 17, Loss: 8.569009780883789\n",
      "mean auroc score: 0.489185094833374\n",
      "Epoch 18, Loss: 8.518086433410645\n",
      "mean auroc score: 0.4896374046802521\n",
      "Epoch 19, Loss: 8.468008995056152\n",
      "mean auroc score: 0.490017831325531\n",
      "Epoch 20, Loss: 8.4324312210083\n",
      "mean auroc score: 0.49150049686431885\n"
     ]
    },
    {
     "data": {
      "text/html": [],
      "text/plain": [
       "<IPython.core.display.HTML object>"
      ]
     },
     "metadata": {},
     "output_type": "display_data"
    },
    {
     "data": {
      "text/html": [
       "<br>    <style><br>        .wandb-row {<br>            display: flex;<br>            flex-direction: row;<br>            flex-wrap: wrap;<br>            justify-content: flex-start;<br>            width: 100%;<br>        }<br>        .wandb-col {<br>            display: flex;<br>            flex-direction: column;<br>            flex-basis: 100%;<br>            flex: 1;<br>            padding: 10px;<br>        }<br>    </style><br><div class=\"wandb-row\"><div class=\"wandb-col\"><h3>Run history:</h3><br/><table class=\"wandb\"><tr><td>train/Loss</td><td>████▇▇▇▆▆▆▅▅▅▅▄▃▃▂▁▁</td></tr><tr><td>val/auroc</td><td>█▆▅▆▄▃▂▁▁▂▂▂▃▂▂▁▂▂▂▃</td></tr><tr><td>val/highest_individual_auroc</td><td>▁</td></tr><tr><td>val/temperature</td><td>█▇▇▆▆▆▅▅▄▄▄▃▃▃▂▂▂▁▁▁</td></tr></table><br/></div><div class=\"wandb-col\"><h3>Run summary:</h3><br/><table class=\"wandb\"><tr><td>train/Loss</td><td>8.43243</td></tr><tr><td>val/auroc</td><td>0.4915</td></tr><tr><td>val/highest_individual_auroc</td><td>0.63425</td></tr><tr><td>val/temperature</td><td>2</td></tr></table><br/></div></div>"
      ],
      "text/plain": [
       "<IPython.core.display.HTML object>"
      ]
     },
     "metadata": {},
     "output_type": "display_data"
    },
    {
     "data": {
      "text/html": [
       " View run <strong style=\"color:#cdcd00\">comic-sweep-8</strong> at: <a href='https://wandb.ai/tristan-schulz2001-tu-dortmund/Sweep-NeuroSAT-HARD-CONSTRAINT-AUROC/runs/gwjvmwox' target=\"_blank\">https://wandb.ai/tristan-schulz2001-tu-dortmund/Sweep-NeuroSAT-HARD-CONSTRAINT-AUROC/runs/gwjvmwox</a><br> View project at: <a href='https://wandb.ai/tristan-schulz2001-tu-dortmund/Sweep-NeuroSAT-HARD-CONSTRAINT-AUROC' target=\"_blank\">https://wandb.ai/tristan-schulz2001-tu-dortmund/Sweep-NeuroSAT-HARD-CONSTRAINT-AUROC</a><br>Synced 5 W&B file(s), 0 media file(s), 0 artifact file(s) and 0 other file(s)"
      ],
      "text/plain": [
       "<IPython.core.display.HTML object>"
      ]
     },
     "metadata": {},
     "output_type": "display_data"
    },
    {
     "data": {
      "text/html": [
       "Find logs at: <code>.\\wandb\\run-20250410_115333-gwjvmwox\\logs</code>"
      ],
      "text/plain": [
       "<IPython.core.display.HTML object>"
      ]
     },
     "metadata": {},
     "output_type": "display_data"
    },
    {
     "name": "stderr",
     "output_type": "stream",
     "text": [
      "\u001b[34m\u001b[1mwandb\u001b[0m: Agent Starting Run: 9pvbj9c8 with config:\n",
      "\u001b[34m\u001b[1mwandb\u001b[0m: \tbce_loss: 1\n",
      "\u001b[34m\u001b[1mwandb\u001b[0m: \tconsistency_reg: 0\n",
      "\u001b[34m\u001b[1mwandb\u001b[0m: \tentropy_reg: 5\n",
      "\u001b[34m\u001b[1mwandb\u001b[0m: \tepochs: 20\n",
      "\u001b[34m\u001b[1mwandb\u001b[0m: \tlr_mlp: 0.0001\n",
      "\u001b[34m\u001b[1mwandb\u001b[0m: \tseed: 74\n",
      "\u001b[34m\u001b[1mwandb\u001b[0m: \tsize_reg: 0.01\n",
      "\u001b[34m\u001b[1mwandb\u001b[0m: \ttT: 1\n"
     ]
    },
    {
     "data": {
      "text/html": [
       "Ignoring project 'Explainer-NeuroSAT-Sweep' when running a sweep."
      ],
      "text/plain": [
       "<IPython.core.display.HTML object>"
      ]
     },
     "metadata": {},
     "output_type": "display_data"
    },
    {
     "data": {
      "text/html": [
       "Tracking run with wandb version 0.19.8"
      ],
      "text/plain": [
       "<IPython.core.display.HTML object>"
      ]
     },
     "metadata": {},
     "output_type": "display_data"
    },
    {
     "data": {
      "text/html": [
       "Run data is saved locally in <code>c:\\Users\\trist\\Git_repos\\BT-ML-PGESAT\\code\\PGExplainer NeuroSAT\\wandb\\run-20250410_120926-9pvbj9c8</code>"
      ],
      "text/plain": [
       "<IPython.core.display.HTML object>"
      ]
     },
     "metadata": {},
     "output_type": "display_data"
    },
    {
     "data": {
      "text/html": [
       "Syncing run <strong><a href='https://wandb.ai/tristan-schulz2001-tu-dortmund/Sweep-NeuroSAT-HARD-CONSTRAINT-AUROC/runs/9pvbj9c8' target=\"_blank\">twilight-sweep-9</a></strong> to <a href='https://wandb.ai/tristan-schulz2001-tu-dortmund/Sweep-NeuroSAT-HARD-CONSTRAINT-AUROC' target=\"_blank\">Weights & Biases</a> (<a href='https://wandb.me/developer-guide' target=\"_blank\">docs</a>)<br>Sweep page: <a href='https://wandb.ai/tristan-schulz2001-tu-dortmund/Sweep-NeuroSAT-HARD-CONSTRAINT-AUROC/sweeps/1kd67zlb' target=\"_blank\">https://wandb.ai/tristan-schulz2001-tu-dortmund/Sweep-NeuroSAT-HARD-CONSTRAINT-AUROC/sweeps/1kd67zlb</a>"
      ],
      "text/plain": [
       "<IPython.core.display.HTML object>"
      ]
     },
     "metadata": {},
     "output_type": "display_data"
    },
    {
     "data": {
      "text/html": [
       " View project at <a href='https://wandb.ai/tristan-schulz2001-tu-dortmund/Sweep-NeuroSAT-HARD-CONSTRAINT-AUROC' target=\"_blank\">https://wandb.ai/tristan-schulz2001-tu-dortmund/Sweep-NeuroSAT-HARD-CONSTRAINT-AUROC</a>"
      ],
      "text/plain": [
       "<IPython.core.display.HTML object>"
      ]
     },
     "metadata": {},
     "output_type": "display_data"
    },
    {
     "data": {
      "text/html": [
       " View sweep at <a href='https://wandb.ai/tristan-schulz2001-tu-dortmund/Sweep-NeuroSAT-HARD-CONSTRAINT-AUROC/sweeps/1kd67zlb' target=\"_blank\">https://wandb.ai/tristan-schulz2001-tu-dortmund/Sweep-NeuroSAT-HARD-CONSTRAINT-AUROC/sweeps/1kd67zlb</a>"
      ],
      "text/plain": [
       "<IPython.core.display.HTML object>"
      ]
     },
     "metadata": {},
     "output_type": "display_data"
    },
    {
     "data": {
      "text/html": [
       " View run at <a href='https://wandb.ai/tristan-schulz2001-tu-dortmund/Sweep-NeuroSAT-HARD-CONSTRAINT-AUROC/runs/9pvbj9c8' target=\"_blank\">https://wandb.ai/tristan-schulz2001-tu-dortmund/Sweep-NeuroSAT-HARD-CONSTRAINT-AUROC/runs/9pvbj9c8</a>"
      ],
      "text/plain": [
       "<IPython.core.display.HTML object>"
      ]
     },
     "metadata": {},
     "output_type": "display_data"
    },
    {
     "name": "stdout",
     "output_type": "stream",
     "text": [
      "Epoch 1, Loss: 10.004037857055664\n",
      "mean auroc score: 0.4891628623008728\n",
      "Epoch 2, Loss: 9.953716278076172\n",
      "mean auroc score: 0.490462064743042\n",
      "Epoch 3, Loss: 9.874677658081055\n",
      "mean auroc score: 0.5019503235816956\n",
      "Epoch 4, Loss: 9.790657997131348\n",
      "mean auroc score: 0.5136950016021729\n",
      "Epoch 5, Loss: 9.72154712677002\n",
      "mean auroc score: 0.5190628170967102\n",
      "Epoch 6, Loss: 9.632292747497559\n",
      "mean auroc score: 0.5238277912139893\n",
      "Epoch 7, Loss: 9.560552597045898\n",
      "mean auroc score: 0.5248551964759827\n",
      "Epoch 8, Loss: 9.4986572265625\n",
      "mean auroc score: 0.527639627456665\n",
      "Epoch 9, Loss: 9.394063949584961\n",
      "mean auroc score: 0.5281552672386169\n",
      "Epoch 10, Loss: 9.339085578918457\n",
      "mean auroc score: 0.5252689123153687\n",
      "Epoch 11, Loss: 9.203106880187988\n",
      "mean auroc score: 0.5261321067810059\n",
      "Epoch 12, Loss: 9.129940032958984\n",
      "mean auroc score: 0.532546877861023\n",
      "Epoch 13, Loss: 8.974796295166016\n",
      "mean auroc score: 0.5341784954071045\n",
      "Epoch 14, Loss: 8.864551544189453\n",
      "mean auroc score: 0.5352891683578491\n",
      "Epoch 15, Loss: 8.715421676635742\n",
      "mean auroc score: 0.5397708415985107\n",
      "Epoch 16, Loss: 8.571969985961914\n",
      "mean auroc score: 0.5381509065628052\n",
      "Epoch 17, Loss: 8.418834686279297\n",
      "mean auroc score: 0.5371243953704834\n",
      "Epoch 18, Loss: 8.17789077758789\n",
      "mean auroc score: 0.5344482660293579\n",
      "Epoch 19, Loss: 7.971099853515625\n",
      "mean auroc score: 0.5349264144897461\n",
      "Epoch 20, Loss: 7.8491716384887695\n",
      "mean auroc score: 0.5348127484321594\n"
     ]
    },
    {
     "data": {
      "text/html": [],
      "text/plain": [
       "<IPython.core.display.HTML object>"
      ]
     },
     "metadata": {},
     "output_type": "display_data"
    },
    {
     "data": {
      "text/html": [
       "<br>    <style><br>        .wandb-row {<br>            display: flex;<br>            flex-direction: row;<br>            flex-wrap: wrap;<br>            justify-content: flex-start;<br>            width: 100%;<br>        }<br>        .wandb-col {<br>            display: flex;<br>            flex-direction: column;<br>            flex-basis: 100%;<br>            flex: 1;<br>            padding: 10px;<br>        }<br>    </style><br><div class=\"wandb-row\"><div class=\"wandb-col\"><h3>Run history:</h3><br/><table class=\"wandb\"><tr><td>train/Loss</td><td>███▇▇▇▇▆▆▆▅▅▅▄▄▃▃▂▁▁</td></tr><tr><td>val/auroc</td><td>▁▁▃▄▅▆▆▆▆▆▆▇▇▇███▇▇▇</td></tr><tr><td>val/highest_individual_auroc</td><td>▁</td></tr><tr><td>val/temperature</td><td>█▇▇▆▆▅▅▄▄▃▃▃▂▂▂▂▂▁▁▁</td></tr></table><br/></div><div class=\"wandb-col\"><h3>Run summary:</h3><br/><table class=\"wandb\"><tr><td>train/Loss</td><td>7.84917</td></tr><tr><td>val/auroc</td><td>0.53481</td></tr><tr><td>val/highest_individual_auroc</td><td>0.74986</td></tr><tr><td>val/temperature</td><td>1</td></tr></table><br/></div></div>"
      ],
      "text/plain": [
       "<IPython.core.display.HTML object>"
      ]
     },
     "metadata": {},
     "output_type": "display_data"
    },
    {
     "data": {
      "text/html": [
       " View run <strong style=\"color:#cdcd00\">twilight-sweep-9</strong> at: <a href='https://wandb.ai/tristan-schulz2001-tu-dortmund/Sweep-NeuroSAT-HARD-CONSTRAINT-AUROC/runs/9pvbj9c8' target=\"_blank\">https://wandb.ai/tristan-schulz2001-tu-dortmund/Sweep-NeuroSAT-HARD-CONSTRAINT-AUROC/runs/9pvbj9c8</a><br> View project at: <a href='https://wandb.ai/tristan-schulz2001-tu-dortmund/Sweep-NeuroSAT-HARD-CONSTRAINT-AUROC' target=\"_blank\">https://wandb.ai/tristan-schulz2001-tu-dortmund/Sweep-NeuroSAT-HARD-CONSTRAINT-AUROC</a><br>Synced 5 W&B file(s), 0 media file(s), 0 artifact file(s) and 0 other file(s)"
      ],
      "text/plain": [
       "<IPython.core.display.HTML object>"
      ]
     },
     "metadata": {},
     "output_type": "display_data"
    },
    {
     "data": {
      "text/html": [
       "Find logs at: <code>.\\wandb\\run-20250410_120926-9pvbj9c8\\logs</code>"
      ],
      "text/plain": [
       "<IPython.core.display.HTML object>"
      ]
     },
     "metadata": {},
     "output_type": "display_data"
    },
    {
     "name": "stderr",
     "output_type": "stream",
     "text": [
      "\u001b[34m\u001b[1mwandb\u001b[0m: Agent Starting Run: gqixjhcn with config:\n",
      "\u001b[34m\u001b[1mwandb\u001b[0m: \tbce_loss: 1\n",
      "\u001b[34m\u001b[1mwandb\u001b[0m: \tconsistency_reg: 0\n",
      "\u001b[34m\u001b[1mwandb\u001b[0m: \tentropy_reg: 5\n",
      "\u001b[34m\u001b[1mwandb\u001b[0m: \tepochs: 20\n",
      "\u001b[34m\u001b[1mwandb\u001b[0m: \tlr_mlp: 0.0001\n",
      "\u001b[34m\u001b[1mwandb\u001b[0m: \tseed: 74\n",
      "\u001b[34m\u001b[1mwandb\u001b[0m: \tsize_reg: 0.01\n",
      "\u001b[34m\u001b[1mwandb\u001b[0m: \ttT: 2\n"
     ]
    },
    {
     "data": {
      "text/html": [
       "Ignoring project 'Explainer-NeuroSAT-Sweep' when running a sweep."
      ],
      "text/plain": [
       "<IPython.core.display.HTML object>"
      ]
     },
     "metadata": {},
     "output_type": "display_data"
    },
    {
     "data": {
      "text/html": [
       "Tracking run with wandb version 0.19.8"
      ],
      "text/plain": [
       "<IPython.core.display.HTML object>"
      ]
     },
     "metadata": {},
     "output_type": "display_data"
    },
    {
     "data": {
      "text/html": [
       "Run data is saved locally in <code>c:\\Users\\trist\\Git_repos\\BT-ML-PGESAT\\code\\PGExplainer NeuroSAT\\wandb\\run-20250410_122530-gqixjhcn</code>"
      ],
      "text/plain": [
       "<IPython.core.display.HTML object>"
      ]
     },
     "metadata": {},
     "output_type": "display_data"
    },
    {
     "data": {
      "text/html": [
       "Syncing run <strong><a href='https://wandb.ai/tristan-schulz2001-tu-dortmund/Sweep-NeuroSAT-HARD-CONSTRAINT-AUROC/runs/gqixjhcn' target=\"_blank\">sunny-sweep-10</a></strong> to <a href='https://wandb.ai/tristan-schulz2001-tu-dortmund/Sweep-NeuroSAT-HARD-CONSTRAINT-AUROC' target=\"_blank\">Weights & Biases</a> (<a href='https://wandb.me/developer-guide' target=\"_blank\">docs</a>)<br>Sweep page: <a href='https://wandb.ai/tristan-schulz2001-tu-dortmund/Sweep-NeuroSAT-HARD-CONSTRAINT-AUROC/sweeps/1kd67zlb' target=\"_blank\">https://wandb.ai/tristan-schulz2001-tu-dortmund/Sweep-NeuroSAT-HARD-CONSTRAINT-AUROC/sweeps/1kd67zlb</a>"
      ],
      "text/plain": [
       "<IPython.core.display.HTML object>"
      ]
     },
     "metadata": {},
     "output_type": "display_data"
    },
    {
     "data": {
      "text/html": [
       " View project at <a href='https://wandb.ai/tristan-schulz2001-tu-dortmund/Sweep-NeuroSAT-HARD-CONSTRAINT-AUROC' target=\"_blank\">https://wandb.ai/tristan-schulz2001-tu-dortmund/Sweep-NeuroSAT-HARD-CONSTRAINT-AUROC</a>"
      ],
      "text/plain": [
       "<IPython.core.display.HTML object>"
      ]
     },
     "metadata": {},
     "output_type": "display_data"
    },
    {
     "data": {
      "text/html": [
       " View sweep at <a href='https://wandb.ai/tristan-schulz2001-tu-dortmund/Sweep-NeuroSAT-HARD-CONSTRAINT-AUROC/sweeps/1kd67zlb' target=\"_blank\">https://wandb.ai/tristan-schulz2001-tu-dortmund/Sweep-NeuroSAT-HARD-CONSTRAINT-AUROC/sweeps/1kd67zlb</a>"
      ],
      "text/plain": [
       "<IPython.core.display.HTML object>"
      ]
     },
     "metadata": {},
     "output_type": "display_data"
    },
    {
     "data": {
      "text/html": [
       " View run at <a href='https://wandb.ai/tristan-schulz2001-tu-dortmund/Sweep-NeuroSAT-HARD-CONSTRAINT-AUROC/runs/gqixjhcn' target=\"_blank\">https://wandb.ai/tristan-schulz2001-tu-dortmund/Sweep-NeuroSAT-HARD-CONSTRAINT-AUROC/runs/gqixjhcn</a>"
      ],
      "text/plain": [
       "<IPython.core.display.HTML object>"
      ]
     },
     "metadata": {},
     "output_type": "display_data"
    },
    {
     "name": "stdout",
     "output_type": "stream",
     "text": [
      "Epoch 1, Loss: 9.99791431427002\n",
      "mean auroc score: 0.4891628623008728\n",
      "Epoch 2, Loss: 9.944795608520508\n",
      "mean auroc score: 0.490462064743042\n",
      "Epoch 3, Loss: 9.869760513305664\n",
      "mean auroc score: 0.5014970302581787\n",
      "Epoch 4, Loss: 9.794839859008789\n",
      "mean auroc score: 0.5133092403411865\n",
      "Epoch 5, Loss: 9.736604690551758\n",
      "mean auroc score: 0.5193172693252563\n",
      "Epoch 6, Loss: 9.665790557861328\n",
      "mean auroc score: 0.5240538120269775\n",
      "Epoch 7, Loss: 9.613348007202148\n",
      "mean auroc score: 0.5253211855888367\n",
      "Epoch 8, Loss: 9.570550918579102\n",
      "mean auroc score: 0.5278806686401367\n",
      "Epoch 9, Loss: 9.502501487731934\n",
      "mean auroc score: 0.5286841988563538\n",
      "Epoch 10, Loss: 9.468446731567383\n",
      "mean auroc score: 0.5262126922607422\n",
      "Epoch 11, Loss: 9.382489204406738\n",
      "mean auroc score: 0.5250024795532227\n",
      "Epoch 12, Loss: 9.338171005249023\n",
      "mean auroc score: 0.5329347252845764\n",
      "Epoch 13, Loss: 9.25090217590332\n",
      "mean auroc score: 0.535435140132904\n",
      "Epoch 14, Loss: 9.184406280517578\n",
      "mean auroc score: 0.5348867177963257\n",
      "Epoch 15, Loss: 9.09996223449707\n",
      "mean auroc score: 0.538549542427063\n",
      "Epoch 16, Loss: 9.022333145141602\n",
      "mean auroc score: 0.540248692035675\n",
      "Epoch 17, Loss: 8.933263778686523\n",
      "mean auroc score: 0.5375886559486389\n",
      "Epoch 18, Loss: 8.796350479125977\n",
      "mean auroc score: 0.5350207090377808\n",
      "Epoch 19, Loss: 8.693585395812988\n",
      "mean auroc score: 0.534825325012207\n",
      "Epoch 20, Loss: 8.579336166381836\n",
      "mean auroc score: 0.5358165502548218\n"
     ]
    },
    {
     "data": {
      "text/html": [],
      "text/plain": [
       "<IPython.core.display.HTML object>"
      ]
     },
     "metadata": {},
     "output_type": "display_data"
    },
    {
     "data": {
      "text/html": [
       "<br>    <style><br>        .wandb-row {<br>            display: flex;<br>            flex-direction: row;<br>            flex-wrap: wrap;<br>            justify-content: flex-start;<br>            width: 100%;<br>        }<br>        .wandb-col {<br>            display: flex;<br>            flex-direction: column;<br>            flex-basis: 100%;<br>            flex: 1;<br>            padding: 10px;<br>        }<br>    </style><br><div class=\"wandb-row\"><div class=\"wandb-col\"><h3>Run history:</h3><br/><table class=\"wandb\"><tr><td>train/Loss</td><td>██▇▇▇▆▆▆▆▅▅▅▄▄▄▃▃▂▂▁</td></tr><tr><td>val/auroc</td><td>▁▁▃▄▅▆▆▆▆▆▆▇▇▇███▇▇▇</td></tr><tr><td>val/highest_individual_auroc</td><td>▁</td></tr><tr><td>val/temperature</td><td>█▇▇▆▆▆▅▅▄▄▄▃▃▃▂▂▂▁▁▁</td></tr></table><br/></div><div class=\"wandb-col\"><h3>Run summary:</h3><br/><table class=\"wandb\"><tr><td>train/Loss</td><td>8.57934</td></tr><tr><td>val/auroc</td><td>0.53582</td></tr><tr><td>val/highest_individual_auroc</td><td>0.74391</td></tr><tr><td>val/temperature</td><td>2</td></tr></table><br/></div></div>"
      ],
      "text/plain": [
       "<IPython.core.display.HTML object>"
      ]
     },
     "metadata": {},
     "output_type": "display_data"
    },
    {
     "data": {
      "text/html": [
       " View run <strong style=\"color:#cdcd00\">sunny-sweep-10</strong> at: <a href='https://wandb.ai/tristan-schulz2001-tu-dortmund/Sweep-NeuroSAT-HARD-CONSTRAINT-AUROC/runs/gqixjhcn' target=\"_blank\">https://wandb.ai/tristan-schulz2001-tu-dortmund/Sweep-NeuroSAT-HARD-CONSTRAINT-AUROC/runs/gqixjhcn</a><br> View project at: <a href='https://wandb.ai/tristan-schulz2001-tu-dortmund/Sweep-NeuroSAT-HARD-CONSTRAINT-AUROC' target=\"_blank\">https://wandb.ai/tristan-schulz2001-tu-dortmund/Sweep-NeuroSAT-HARD-CONSTRAINT-AUROC</a><br>Synced 5 W&B file(s), 0 media file(s), 0 artifact file(s) and 0 other file(s)"
      ],
      "text/plain": [
       "<IPython.core.display.HTML object>"
      ]
     },
     "metadata": {},
     "output_type": "display_data"
    },
    {
     "data": {
      "text/html": [
       "Find logs at: <code>.\\wandb\\run-20250410_122530-gqixjhcn\\logs</code>"
      ],
      "text/plain": [
       "<IPython.core.display.HTML object>"
      ]
     },
     "metadata": {},
     "output_type": "display_data"
    },
    {
     "name": "stderr",
     "output_type": "stream",
     "text": [
      "\u001b[34m\u001b[1mwandb\u001b[0m: Agent Starting Run: 80wvwuic with config:\n",
      "\u001b[34m\u001b[1mwandb\u001b[0m: \tbce_loss: 1\n",
      "\u001b[34m\u001b[1mwandb\u001b[0m: \tconsistency_reg: 0\n",
      "\u001b[34m\u001b[1mwandb\u001b[0m: \tentropy_reg: 5\n",
      "\u001b[34m\u001b[1mwandb\u001b[0m: \tepochs: 20\n",
      "\u001b[34m\u001b[1mwandb\u001b[0m: \tlr_mlp: 0.0001\n",
      "\u001b[34m\u001b[1mwandb\u001b[0m: \tseed: 75\n",
      "\u001b[34m\u001b[1mwandb\u001b[0m: \tsize_reg: 0.01\n",
      "\u001b[34m\u001b[1mwandb\u001b[0m: \ttT: 1\n"
     ]
    },
    {
     "data": {
      "text/html": [
       "Ignoring project 'Explainer-NeuroSAT-Sweep' when running a sweep."
      ],
      "text/plain": [
       "<IPython.core.display.HTML object>"
      ]
     },
     "metadata": {},
     "output_type": "display_data"
    },
    {
     "data": {
      "text/html": [
       "Tracking run with wandb version 0.19.8"
      ],
      "text/plain": [
       "<IPython.core.display.HTML object>"
      ]
     },
     "metadata": {},
     "output_type": "display_data"
    },
    {
     "data": {
      "text/html": [
       "Run data is saved locally in <code>c:\\Users\\trist\\Git_repos\\BT-ML-PGESAT\\code\\PGExplainer NeuroSAT\\wandb\\run-20250410_124037-80wvwuic</code>"
      ],
      "text/plain": [
       "<IPython.core.display.HTML object>"
      ]
     },
     "metadata": {},
     "output_type": "display_data"
    },
    {
     "data": {
      "text/html": [
       "Syncing run <strong><a href='https://wandb.ai/tristan-schulz2001-tu-dortmund/Sweep-NeuroSAT-HARD-CONSTRAINT-AUROC/runs/80wvwuic' target=\"_blank\">balmy-sweep-11</a></strong> to <a href='https://wandb.ai/tristan-schulz2001-tu-dortmund/Sweep-NeuroSAT-HARD-CONSTRAINT-AUROC' target=\"_blank\">Weights & Biases</a> (<a href='https://wandb.me/developer-guide' target=\"_blank\">docs</a>)<br>Sweep page: <a href='https://wandb.ai/tristan-schulz2001-tu-dortmund/Sweep-NeuroSAT-HARD-CONSTRAINT-AUROC/sweeps/1kd67zlb' target=\"_blank\">https://wandb.ai/tristan-schulz2001-tu-dortmund/Sweep-NeuroSAT-HARD-CONSTRAINT-AUROC/sweeps/1kd67zlb</a>"
      ],
      "text/plain": [
       "<IPython.core.display.HTML object>"
      ]
     },
     "metadata": {},
     "output_type": "display_data"
    },
    {
     "data": {
      "text/html": [
       " View project at <a href='https://wandb.ai/tristan-schulz2001-tu-dortmund/Sweep-NeuroSAT-HARD-CONSTRAINT-AUROC' target=\"_blank\">https://wandb.ai/tristan-schulz2001-tu-dortmund/Sweep-NeuroSAT-HARD-CONSTRAINT-AUROC</a>"
      ],
      "text/plain": [
       "<IPython.core.display.HTML object>"
      ]
     },
     "metadata": {},
     "output_type": "display_data"
    },
    {
     "data": {
      "text/html": [
       " View sweep at <a href='https://wandb.ai/tristan-schulz2001-tu-dortmund/Sweep-NeuroSAT-HARD-CONSTRAINT-AUROC/sweeps/1kd67zlb' target=\"_blank\">https://wandb.ai/tristan-schulz2001-tu-dortmund/Sweep-NeuroSAT-HARD-CONSTRAINT-AUROC/sweeps/1kd67zlb</a>"
      ],
      "text/plain": [
       "<IPython.core.display.HTML object>"
      ]
     },
     "metadata": {},
     "output_type": "display_data"
    },
    {
     "data": {
      "text/html": [
       " View run at <a href='https://wandb.ai/tristan-schulz2001-tu-dortmund/Sweep-NeuroSAT-HARD-CONSTRAINT-AUROC/runs/80wvwuic' target=\"_blank\">https://wandb.ai/tristan-schulz2001-tu-dortmund/Sweep-NeuroSAT-HARD-CONSTRAINT-AUROC/runs/80wvwuic</a>"
      ],
      "text/plain": [
       "<IPython.core.display.HTML object>"
      ]
     },
     "metadata": {},
     "output_type": "display_data"
    },
    {
     "name": "stdout",
     "output_type": "stream",
     "text": [
      "Epoch 1, Loss: 9.785578727722168\n",
      "mean auroc score: 0.495727002620697\n",
      "Epoch 2, Loss: 9.734755516052246\n",
      "mean auroc score: 0.4900554120540619\n",
      "Epoch 3, Loss: 9.687551498413086\n",
      "mean auroc score: 0.48915863037109375\n",
      "Epoch 4, Loss: 9.621862411499023\n",
      "mean auroc score: 0.49092042446136475\n",
      "Epoch 5, Loss: 9.542905807495117\n",
      "mean auroc score: 0.4878805875778198\n",
      "Epoch 6, Loss: 9.455072402954102\n",
      "mean auroc score: 0.4910328686237335\n",
      "Epoch 7, Loss: 9.355814933776855\n",
      "mean auroc score: 0.4900112748146057\n",
      "Epoch 8, Loss: 9.251019477844238\n",
      "mean auroc score: 0.4913507401943207\n",
      "Epoch 9, Loss: 9.140249252319336\n",
      "mean auroc score: 0.4951332211494446\n",
      "Epoch 10, Loss: 9.016087532043457\n",
      "mean auroc score: 0.4965493679046631\n",
      "Epoch 11, Loss: 8.837250709533691\n",
      "mean auroc score: 0.5001172423362732\n",
      "Epoch 12, Loss: 8.694313049316406\n",
      "mean auroc score: 0.5024527907371521\n",
      "Epoch 13, Loss: 8.529901504516602\n",
      "mean auroc score: 0.5035398006439209\n",
      "Epoch 14, Loss: 8.346786499023438\n",
      "mean auroc score: 0.5065104961395264\n",
      "Epoch 15, Loss: 8.145105361938477\n",
      "mean auroc score: 0.5067042708396912\n",
      "Epoch 16, Loss: 7.880152702331543\n",
      "mean auroc score: 0.5076335668563843\n",
      "Epoch 17, Loss: 7.653418064117432\n",
      "mean auroc score: 0.5105307698249817\n",
      "Epoch 18, Loss: 7.408875942230225\n",
      "mean auroc score: 0.5098662972450256\n",
      "Epoch 19, Loss: 7.09734582901001\n",
      "mean auroc score: 0.5103328227996826\n",
      "Epoch 20, Loss: 6.82744836807251\n",
      "mean auroc score: 0.5117000341415405\n"
     ]
    },
    {
     "data": {
      "text/html": [],
      "text/plain": [
       "<IPython.core.display.HTML object>"
      ]
     },
     "metadata": {},
     "output_type": "display_data"
    },
    {
     "data": {
      "text/html": [
       "<br>    <style><br>        .wandb-row {<br>            display: flex;<br>            flex-direction: row;<br>            flex-wrap: wrap;<br>            justify-content: flex-start;<br>            width: 100%;<br>        }<br>        .wandb-col {<br>            display: flex;<br>            flex-direction: column;<br>            flex-basis: 100%;<br>            flex: 1;<br>            padding: 10px;<br>        }<br>    </style><br><div class=\"wandb-row\"><div class=\"wandb-col\"><h3>Run history:</h3><br/><table class=\"wandb\"><tr><td>train/Loss</td><td>████▇▇▇▇▆▆▆▅▅▅▄▃▃▂▂▁</td></tr><tr><td>val/auroc</td><td>▃▂▁▂▁▂▂▂▃▄▅▅▆▆▇▇█▇██</td></tr><tr><td>val/highest_individual_auroc</td><td>▁</td></tr><tr><td>val/temperature</td><td>█▇▇▆▆▅▅▄▄▃▃▃▂▂▂▂▂▁▁▁</td></tr></table><br/></div><div class=\"wandb-col\"><h3>Run summary:</h3><br/><table class=\"wandb\"><tr><td>train/Loss</td><td>6.82745</td></tr><tr><td>val/auroc</td><td>0.5117</td></tr><tr><td>val/highest_individual_auroc</td><td>0.65505</td></tr><tr><td>val/temperature</td><td>1</td></tr></table><br/></div></div>"
      ],
      "text/plain": [
       "<IPython.core.display.HTML object>"
      ]
     },
     "metadata": {},
     "output_type": "display_data"
    },
    {
     "data": {
      "text/html": [
       " View run <strong style=\"color:#cdcd00\">balmy-sweep-11</strong> at: <a href='https://wandb.ai/tristan-schulz2001-tu-dortmund/Sweep-NeuroSAT-HARD-CONSTRAINT-AUROC/runs/80wvwuic' target=\"_blank\">https://wandb.ai/tristan-schulz2001-tu-dortmund/Sweep-NeuroSAT-HARD-CONSTRAINT-AUROC/runs/80wvwuic</a><br> View project at: <a href='https://wandb.ai/tristan-schulz2001-tu-dortmund/Sweep-NeuroSAT-HARD-CONSTRAINT-AUROC' target=\"_blank\">https://wandb.ai/tristan-schulz2001-tu-dortmund/Sweep-NeuroSAT-HARD-CONSTRAINT-AUROC</a><br>Synced 5 W&B file(s), 0 media file(s), 0 artifact file(s) and 0 other file(s)"
      ],
      "text/plain": [
       "<IPython.core.display.HTML object>"
      ]
     },
     "metadata": {},
     "output_type": "display_data"
    },
    {
     "data": {
      "text/html": [
       "Find logs at: <code>.\\wandb\\run-20250410_124037-80wvwuic\\logs</code>"
      ],
      "text/plain": [
       "<IPython.core.display.HTML object>"
      ]
     },
     "metadata": {},
     "output_type": "display_data"
    },
    {
     "name": "stderr",
     "output_type": "stream",
     "text": [
      "\u001b[34m\u001b[1mwandb\u001b[0m: Agent Starting Run: ck79e6b9 with config:\n",
      "\u001b[34m\u001b[1mwandb\u001b[0m: \tbce_loss: 1\n",
      "\u001b[34m\u001b[1mwandb\u001b[0m: \tconsistency_reg: 0\n",
      "\u001b[34m\u001b[1mwandb\u001b[0m: \tentropy_reg: 5\n",
      "\u001b[34m\u001b[1mwandb\u001b[0m: \tepochs: 20\n",
      "\u001b[34m\u001b[1mwandb\u001b[0m: \tlr_mlp: 0.0001\n",
      "\u001b[34m\u001b[1mwandb\u001b[0m: \tseed: 75\n",
      "\u001b[34m\u001b[1mwandb\u001b[0m: \tsize_reg: 0.01\n",
      "\u001b[34m\u001b[1mwandb\u001b[0m: \ttT: 2\n"
     ]
    },
    {
     "data": {
      "text/html": [
       "Ignoring project 'Explainer-NeuroSAT-Sweep' when running a sweep."
      ],
      "text/plain": [
       "<IPython.core.display.HTML object>"
      ]
     },
     "metadata": {},
     "output_type": "display_data"
    },
    {
     "data": {
      "text/html": [
       "Tracking run with wandb version 0.19.8"
      ],
      "text/plain": [
       "<IPython.core.display.HTML object>"
      ]
     },
     "metadata": {},
     "output_type": "display_data"
    },
    {
     "data": {
      "text/html": [
       "Run data is saved locally in <code>c:\\Users\\trist\\Git_repos\\BT-ML-PGESAT\\code\\PGExplainer NeuroSAT\\wandb\\run-20250410_125621-ck79e6b9</code>"
      ],
      "text/plain": [
       "<IPython.core.display.HTML object>"
      ]
     },
     "metadata": {},
     "output_type": "display_data"
    },
    {
     "data": {
      "text/html": [
       "Syncing run <strong><a href='https://wandb.ai/tristan-schulz2001-tu-dortmund/Sweep-NeuroSAT-HARD-CONSTRAINT-AUROC/runs/ck79e6b9' target=\"_blank\">visionary-sweep-12</a></strong> to <a href='https://wandb.ai/tristan-schulz2001-tu-dortmund/Sweep-NeuroSAT-HARD-CONSTRAINT-AUROC' target=\"_blank\">Weights & Biases</a> (<a href='https://wandb.me/developer-guide' target=\"_blank\">docs</a>)<br>Sweep page: <a href='https://wandb.ai/tristan-schulz2001-tu-dortmund/Sweep-NeuroSAT-HARD-CONSTRAINT-AUROC/sweeps/1kd67zlb' target=\"_blank\">https://wandb.ai/tristan-schulz2001-tu-dortmund/Sweep-NeuroSAT-HARD-CONSTRAINT-AUROC/sweeps/1kd67zlb</a>"
      ],
      "text/plain": [
       "<IPython.core.display.HTML object>"
      ]
     },
     "metadata": {},
     "output_type": "display_data"
    },
    {
     "data": {
      "text/html": [
       " View project at <a href='https://wandb.ai/tristan-schulz2001-tu-dortmund/Sweep-NeuroSAT-HARD-CONSTRAINT-AUROC' target=\"_blank\">https://wandb.ai/tristan-schulz2001-tu-dortmund/Sweep-NeuroSAT-HARD-CONSTRAINT-AUROC</a>"
      ],
      "text/plain": [
       "<IPython.core.display.HTML object>"
      ]
     },
     "metadata": {},
     "output_type": "display_data"
    },
    {
     "data": {
      "text/html": [
       " View sweep at <a href='https://wandb.ai/tristan-schulz2001-tu-dortmund/Sweep-NeuroSAT-HARD-CONSTRAINT-AUROC/sweeps/1kd67zlb' target=\"_blank\">https://wandb.ai/tristan-schulz2001-tu-dortmund/Sweep-NeuroSAT-HARD-CONSTRAINT-AUROC/sweeps/1kd67zlb</a>"
      ],
      "text/plain": [
       "<IPython.core.display.HTML object>"
      ]
     },
     "metadata": {},
     "output_type": "display_data"
    },
    {
     "data": {
      "text/html": [
       " View run at <a href='https://wandb.ai/tristan-schulz2001-tu-dortmund/Sweep-NeuroSAT-HARD-CONSTRAINT-AUROC/runs/ck79e6b9' target=\"_blank\">https://wandb.ai/tristan-schulz2001-tu-dortmund/Sweep-NeuroSAT-HARD-CONSTRAINT-AUROC/runs/ck79e6b9</a>"
      ],
      "text/plain": [
       "<IPython.core.display.HTML object>"
      ]
     },
     "metadata": {},
     "output_type": "display_data"
    },
    {
     "name": "stdout",
     "output_type": "stream",
     "text": [
      "Epoch 1, Loss: 9.786530494689941\n",
      "mean auroc score: 0.495727002620697\n",
      "Epoch 2, Loss: 9.739718437194824\n",
      "mean auroc score: 0.4900554120540619\n",
      "Epoch 3, Loss: 9.69957447052002\n",
      "mean auroc score: 0.489479124546051\n",
      "Epoch 4, Loss: 9.645658493041992\n",
      "mean auroc score: 0.4906832277774811\n",
      "Epoch 5, Loss: 9.582297325134277\n",
      "mean auroc score: 0.4878805875778198\n",
      "Epoch 6, Loss: 9.518682479858398\n",
      "mean auroc score: 0.49123236536979675\n",
      "Epoch 7, Loss: 9.446803092956543\n",
      "mean auroc score: 0.4901431202888489\n",
      "Epoch 8, Loss: 9.371079444885254\n",
      "mean auroc score: 0.49179401993751526\n",
      "Epoch 9, Loss: 9.30156135559082\n",
      "mean auroc score: 0.49510303139686584\n",
      "Epoch 10, Loss: 9.219618797302246\n",
      "mean auroc score: 0.4966265559196472\n",
      "Epoch 11, Loss: 9.11000919342041\n",
      "mean auroc score: 0.4996052384376526\n",
      "Epoch 12, Loss: 9.026323318481445\n",
      "mean auroc score: 0.5025705695152283\n",
      "Epoch 13, Loss: 8.924638748168945\n",
      "mean auroc score: 0.5039604902267456\n",
      "Epoch 14, Loss: 8.828153610229492\n",
      "mean auroc score: 0.5063643455505371\n",
      "Epoch 15, Loss: 8.688705444335938\n",
      "mean auroc score: 0.5069378018379211\n",
      "Epoch 16, Loss: 8.541131973266602\n",
      "mean auroc score: 0.5075960755348206\n",
      "Epoch 17, Loss: 8.414966583251953\n",
      "mean auroc score: 0.5090064406394958\n",
      "Epoch 18, Loss: 8.250226974487305\n",
      "mean auroc score: 0.5093822479248047\n",
      "Epoch 19, Loss: 8.073305130004883\n",
      "mean auroc score: 0.5098578333854675\n",
      "Epoch 20, Loss: 7.903109073638916\n",
      "mean auroc score: 0.5117548704147339\n"
     ]
    },
    {
     "data": {
      "text/html": [],
      "text/plain": [
       "<IPython.core.display.HTML object>"
      ]
     },
     "metadata": {},
     "output_type": "display_data"
    },
    {
     "data": {
      "text/html": [
       "<br>    <style><br>        .wandb-row {<br>            display: flex;<br>            flex-direction: row;<br>            flex-wrap: wrap;<br>            justify-content: flex-start;<br>            width: 100%;<br>        }<br>        .wandb-col {<br>            display: flex;<br>            flex-direction: column;<br>            flex-basis: 100%;<br>            flex: 1;<br>            padding: 10px;<br>        }<br>    </style><br><div class=\"wandb-row\"><div class=\"wandb-col\"><h3>Run history:</h3><br/><table class=\"wandb\"><tr><td>train/Loss</td><td>███▇▇▇▇▆▆▆▅▅▅▄▄▃▃▂▂▁</td></tr><tr><td>val/auroc</td><td>▃▂▁▂▁▂▂▂▃▄▄▅▆▆▇▇▇▇▇█</td></tr><tr><td>val/highest_individual_auroc</td><td>▁</td></tr><tr><td>val/temperature</td><td>█▇▇▆▆▆▅▅▄▄▄▃▃▃▂▂▂▁▁▁</td></tr></table><br/></div><div class=\"wandb-col\"><h3>Run summary:</h3><br/><table class=\"wandb\"><tr><td>train/Loss</td><td>7.90311</td></tr><tr><td>val/auroc</td><td>0.51175</td></tr><tr><td>val/highest_individual_auroc</td><td>0.65249</td></tr><tr><td>val/temperature</td><td>2</td></tr></table><br/></div></div>"
      ],
      "text/plain": [
       "<IPython.core.display.HTML object>"
      ]
     },
     "metadata": {},
     "output_type": "display_data"
    },
    {
     "data": {
      "text/html": [
       " View run <strong style=\"color:#cdcd00\">visionary-sweep-12</strong> at: <a href='https://wandb.ai/tristan-schulz2001-tu-dortmund/Sweep-NeuroSAT-HARD-CONSTRAINT-AUROC/runs/ck79e6b9' target=\"_blank\">https://wandb.ai/tristan-schulz2001-tu-dortmund/Sweep-NeuroSAT-HARD-CONSTRAINT-AUROC/runs/ck79e6b9</a><br> View project at: <a href='https://wandb.ai/tristan-schulz2001-tu-dortmund/Sweep-NeuroSAT-HARD-CONSTRAINT-AUROC' target=\"_blank\">https://wandb.ai/tristan-schulz2001-tu-dortmund/Sweep-NeuroSAT-HARD-CONSTRAINT-AUROC</a><br>Synced 5 W&B file(s), 0 media file(s), 0 artifact file(s) and 0 other file(s)"
      ],
      "text/plain": [
       "<IPython.core.display.HTML object>"
      ]
     },
     "metadata": {},
     "output_type": "display_data"
    },
    {
     "data": {
      "text/html": [
       "Find logs at: <code>.\\wandb\\run-20250410_125621-ck79e6b9\\logs</code>"
      ],
      "text/plain": [
       "<IPython.core.display.HTML object>"
      ]
     },
     "metadata": {},
     "output_type": "display_data"
    },
    {
     "name": "stderr",
     "output_type": "stream",
     "text": [
      "\u001b[34m\u001b[1mwandb\u001b[0m: Agent Starting Run: lqmod3pn with config:\n",
      "\u001b[34m\u001b[1mwandb\u001b[0m: \tbce_loss: 1\n",
      "\u001b[34m\u001b[1mwandb\u001b[0m: \tconsistency_reg: 0\n",
      "\u001b[34m\u001b[1mwandb\u001b[0m: \tentropy_reg: 5\n",
      "\u001b[34m\u001b[1mwandb\u001b[0m: \tepochs: 20\n",
      "\u001b[34m\u001b[1mwandb\u001b[0m: \tlr_mlp: 3e-05\n",
      "\u001b[34m\u001b[1mwandb\u001b[0m: \tseed: 74\n",
      "\u001b[34m\u001b[1mwandb\u001b[0m: \tsize_reg: 0.01\n",
      "\u001b[34m\u001b[1mwandb\u001b[0m: \ttT: 1\n"
     ]
    },
    {
     "data": {
      "text/html": [
       "Ignoring project 'Explainer-NeuroSAT-Sweep' when running a sweep."
      ],
      "text/plain": [
       "<IPython.core.display.HTML object>"
      ]
     },
     "metadata": {},
     "output_type": "display_data"
    },
    {
     "data": {
      "text/html": [
       "Tracking run with wandb version 0.19.8"
      ],
      "text/plain": [
       "<IPython.core.display.HTML object>"
      ]
     },
     "metadata": {},
     "output_type": "display_data"
    },
    {
     "data": {
      "text/html": [
       "Run data is saved locally in <code>c:\\Users\\trist\\Git_repos\\BT-ML-PGESAT\\code\\PGExplainer NeuroSAT\\wandb\\run-20250410_131200-lqmod3pn</code>"
      ],
      "text/plain": [
       "<IPython.core.display.HTML object>"
      ]
     },
     "metadata": {},
     "output_type": "display_data"
    },
    {
     "data": {
      "text/html": [
       "Syncing run <strong><a href='https://wandb.ai/tristan-schulz2001-tu-dortmund/Sweep-NeuroSAT-HARD-CONSTRAINT-AUROC/runs/lqmod3pn' target=\"_blank\">rural-sweep-13</a></strong> to <a href='https://wandb.ai/tristan-schulz2001-tu-dortmund/Sweep-NeuroSAT-HARD-CONSTRAINT-AUROC' target=\"_blank\">Weights & Biases</a> (<a href='https://wandb.me/developer-guide' target=\"_blank\">docs</a>)<br>Sweep page: <a href='https://wandb.ai/tristan-schulz2001-tu-dortmund/Sweep-NeuroSAT-HARD-CONSTRAINT-AUROC/sweeps/1kd67zlb' target=\"_blank\">https://wandb.ai/tristan-schulz2001-tu-dortmund/Sweep-NeuroSAT-HARD-CONSTRAINT-AUROC/sweeps/1kd67zlb</a>"
      ],
      "text/plain": [
       "<IPython.core.display.HTML object>"
      ]
     },
     "metadata": {},
     "output_type": "display_data"
    },
    {
     "data": {
      "text/html": [
       " View project at <a href='https://wandb.ai/tristan-schulz2001-tu-dortmund/Sweep-NeuroSAT-HARD-CONSTRAINT-AUROC' target=\"_blank\">https://wandb.ai/tristan-schulz2001-tu-dortmund/Sweep-NeuroSAT-HARD-CONSTRAINT-AUROC</a>"
      ],
      "text/plain": [
       "<IPython.core.display.HTML object>"
      ]
     },
     "metadata": {},
     "output_type": "display_data"
    },
    {
     "data": {
      "text/html": [
       " View sweep at <a href='https://wandb.ai/tristan-schulz2001-tu-dortmund/Sweep-NeuroSAT-HARD-CONSTRAINT-AUROC/sweeps/1kd67zlb' target=\"_blank\">https://wandb.ai/tristan-schulz2001-tu-dortmund/Sweep-NeuroSAT-HARD-CONSTRAINT-AUROC/sweeps/1kd67zlb</a>"
      ],
      "text/plain": [
       "<IPython.core.display.HTML object>"
      ]
     },
     "metadata": {},
     "output_type": "display_data"
    },
    {
     "data": {
      "text/html": [
       " View run at <a href='https://wandb.ai/tristan-schulz2001-tu-dortmund/Sweep-NeuroSAT-HARD-CONSTRAINT-AUROC/runs/lqmod3pn' target=\"_blank\">https://wandb.ai/tristan-schulz2001-tu-dortmund/Sweep-NeuroSAT-HARD-CONSTRAINT-AUROC/runs/lqmod3pn</a>"
      ],
      "text/plain": [
       "<IPython.core.display.HTML object>"
      ]
     },
     "metadata": {},
     "output_type": "display_data"
    },
    {
     "name": "stdout",
     "output_type": "stream",
     "text": [
      "Epoch 1, Loss: 10.004037857055664\n",
      "mean auroc score: 0.487520694732666\n",
      "Epoch 2, Loss: 10.007667541503906\n",
      "mean auroc score: 0.4898471236228943\n",
      "Epoch 3, Loss: 9.989809036254883\n",
      "mean auroc score: 0.488873690366745\n",
      "Epoch 4, Loss: 9.971096992492676\n",
      "mean auroc score: 0.49097833037376404\n",
      "Epoch 5, Loss: 9.964471817016602\n",
      "mean auroc score: 0.4923509657382965\n",
      "Epoch 6, Loss: 9.932016372680664\n",
      "mean auroc score: 0.4902441203594208\n",
      "Epoch 7, Loss: 9.908087730407715\n",
      "mean auroc score: 0.49233192205429077\n",
      "Epoch 8, Loss: 9.888317108154297\n",
      "mean auroc score: 0.49319490790367126\n",
      "Epoch 9, Loss: 9.831659317016602\n",
      "mean auroc score: 0.4962656497955322\n",
      "Epoch 10, Loss: 9.820343971252441\n",
      "mean auroc score: 0.5027512311935425\n",
      "Epoch 11, Loss: 9.7431640625\n",
      "mean auroc score: 0.5035571455955505\n",
      "Epoch 12, Loss: 9.722981452941895\n",
      "mean auroc score: 0.5051636099815369\n",
      "Epoch 13, Loss: 9.639694213867188\n",
      "mean auroc score: 0.5115706920623779\n",
      "Epoch 14, Loss: 9.604779243469238\n",
      "mean auroc score: 0.5153297185897827\n",
      "Epoch 15, Loss: 9.53585433959961\n",
      "mean auroc score: 0.5140022039413452\n",
      "Epoch 16, Loss: 9.493415832519531\n",
      "mean auroc score: 0.5198402404785156\n",
      "Epoch 17, Loss: 9.442212104797363\n",
      "mean auroc score: 0.5220726728439331\n",
      "Epoch 18, Loss: 9.319839477539062\n",
      "mean auroc score: 0.5241902470588684\n",
      "Epoch 19, Loss: 9.23738956451416\n",
      "mean auroc score: 0.5232473015785217\n",
      "Epoch 20, Loss: 9.265825271606445\n",
      "mean auroc score: 0.5255094766616821\n"
     ]
    },
    {
     "data": {
      "text/html": [],
      "text/plain": [
       "<IPython.core.display.HTML object>"
      ]
     },
     "metadata": {},
     "output_type": "display_data"
    },
    {
     "data": {
      "text/html": [
       "<br>    <style><br>        .wandb-row {<br>            display: flex;<br>            flex-direction: row;<br>            flex-wrap: wrap;<br>            justify-content: flex-start;<br>            width: 100%;<br>        }<br>        .wandb-col {<br>            display: flex;<br>            flex-direction: column;<br>            flex-basis: 100%;<br>            flex: 1;<br>            padding: 10px;<br>        }<br>    </style><br><div class=\"wandb-row\"><div class=\"wandb-col\"><h3>Run history:</h3><br/><table class=\"wandb\"><tr><td>train/Loss</td><td>█████▇▇▇▆▆▆▅▅▄▄▃▃▂▁▁</td></tr><tr><td>val/auroc</td><td>▁▁▁▂▂▂▂▂▃▄▄▄▅▆▆▇▇███</td></tr><tr><td>val/highest_individual_auroc</td><td>▁</td></tr><tr><td>val/temperature</td><td>█▇▇▆▆▅▅▄▄▃▃▃▂▂▂▂▂▁▁▁</td></tr></table><br/></div><div class=\"wandb-col\"><h3>Run summary:</h3><br/><table class=\"wandb\"><tr><td>train/Loss</td><td>9.26583</td></tr><tr><td>val/auroc</td><td>0.52551</td></tr><tr><td>val/highest_individual_auroc</td><td>0.77338</td></tr><tr><td>val/temperature</td><td>1</td></tr></table><br/></div></div>"
      ],
      "text/plain": [
       "<IPython.core.display.HTML object>"
      ]
     },
     "metadata": {},
     "output_type": "display_data"
    },
    {
     "data": {
      "text/html": [
       " View run <strong style=\"color:#cdcd00\">rural-sweep-13</strong> at: <a href='https://wandb.ai/tristan-schulz2001-tu-dortmund/Sweep-NeuroSAT-HARD-CONSTRAINT-AUROC/runs/lqmod3pn' target=\"_blank\">https://wandb.ai/tristan-schulz2001-tu-dortmund/Sweep-NeuroSAT-HARD-CONSTRAINT-AUROC/runs/lqmod3pn</a><br> View project at: <a href='https://wandb.ai/tristan-schulz2001-tu-dortmund/Sweep-NeuroSAT-HARD-CONSTRAINT-AUROC' target=\"_blank\">https://wandb.ai/tristan-schulz2001-tu-dortmund/Sweep-NeuroSAT-HARD-CONSTRAINT-AUROC</a><br>Synced 5 W&B file(s), 0 media file(s), 0 artifact file(s) and 0 other file(s)"
      ],
      "text/plain": [
       "<IPython.core.display.HTML object>"
      ]
     },
     "metadata": {},
     "output_type": "display_data"
    },
    {
     "data": {
      "text/html": [
       "Find logs at: <code>.\\wandb\\run-20250410_131200-lqmod3pn\\logs</code>"
      ],
      "text/plain": [
       "<IPython.core.display.HTML object>"
      ]
     },
     "metadata": {},
     "output_type": "display_data"
    },
    {
     "name": "stderr",
     "output_type": "stream",
     "text": [
      "\u001b[34m\u001b[1mwandb\u001b[0m: Agent Starting Run: 7seo7dwk with config:\n",
      "\u001b[34m\u001b[1mwandb\u001b[0m: \tbce_loss: 1\n",
      "\u001b[34m\u001b[1mwandb\u001b[0m: \tconsistency_reg: 0\n",
      "\u001b[34m\u001b[1mwandb\u001b[0m: \tentropy_reg: 5\n",
      "\u001b[34m\u001b[1mwandb\u001b[0m: \tepochs: 20\n",
      "\u001b[34m\u001b[1mwandb\u001b[0m: \tlr_mlp: 3e-05\n",
      "\u001b[34m\u001b[1mwandb\u001b[0m: \tseed: 74\n",
      "\u001b[34m\u001b[1mwandb\u001b[0m: \tsize_reg: 0.01\n",
      "\u001b[34m\u001b[1mwandb\u001b[0m: \ttT: 2\n"
     ]
    },
    {
     "data": {
      "text/html": [
       "Ignoring project 'Explainer-NeuroSAT-Sweep' when running a sweep."
      ],
      "text/plain": [
       "<IPython.core.display.HTML object>"
      ]
     },
     "metadata": {},
     "output_type": "display_data"
    },
    {
     "data": {
      "text/html": [
       "Tracking run with wandb version 0.19.8"
      ],
      "text/plain": [
       "<IPython.core.display.HTML object>"
      ]
     },
     "metadata": {},
     "output_type": "display_data"
    },
    {
     "data": {
      "text/html": [
       "Run data is saved locally in <code>c:\\Users\\trist\\Git_repos\\BT-ML-PGESAT\\code\\PGExplainer NeuroSAT\\wandb\\run-20250410_132743-7seo7dwk</code>"
      ],
      "text/plain": [
       "<IPython.core.display.HTML object>"
      ]
     },
     "metadata": {},
     "output_type": "display_data"
    },
    {
     "data": {
      "text/html": [
       "Syncing run <strong><a href='https://wandb.ai/tristan-schulz2001-tu-dortmund/Sweep-NeuroSAT-HARD-CONSTRAINT-AUROC/runs/7seo7dwk' target=\"_blank\">fancy-sweep-14</a></strong> to <a href='https://wandb.ai/tristan-schulz2001-tu-dortmund/Sweep-NeuroSAT-HARD-CONSTRAINT-AUROC' target=\"_blank\">Weights & Biases</a> (<a href='https://wandb.me/developer-guide' target=\"_blank\">docs</a>)<br>Sweep page: <a href='https://wandb.ai/tristan-schulz2001-tu-dortmund/Sweep-NeuroSAT-HARD-CONSTRAINT-AUROC/sweeps/1kd67zlb' target=\"_blank\">https://wandb.ai/tristan-schulz2001-tu-dortmund/Sweep-NeuroSAT-HARD-CONSTRAINT-AUROC/sweeps/1kd67zlb</a>"
      ],
      "text/plain": [
       "<IPython.core.display.HTML object>"
      ]
     },
     "metadata": {},
     "output_type": "display_data"
    },
    {
     "data": {
      "text/html": [
       " View project at <a href='https://wandb.ai/tristan-schulz2001-tu-dortmund/Sweep-NeuroSAT-HARD-CONSTRAINT-AUROC' target=\"_blank\">https://wandb.ai/tristan-schulz2001-tu-dortmund/Sweep-NeuroSAT-HARD-CONSTRAINT-AUROC</a>"
      ],
      "text/plain": [
       "<IPython.core.display.HTML object>"
      ]
     },
     "metadata": {},
     "output_type": "display_data"
    },
    {
     "data": {
      "text/html": [
       " View sweep at <a href='https://wandb.ai/tristan-schulz2001-tu-dortmund/Sweep-NeuroSAT-HARD-CONSTRAINT-AUROC/sweeps/1kd67zlb' target=\"_blank\">https://wandb.ai/tristan-schulz2001-tu-dortmund/Sweep-NeuroSAT-HARD-CONSTRAINT-AUROC/sweeps/1kd67zlb</a>"
      ],
      "text/plain": [
       "<IPython.core.display.HTML object>"
      ]
     },
     "metadata": {},
     "output_type": "display_data"
    },
    {
     "data": {
      "text/html": [
       " View run at <a href='https://wandb.ai/tristan-schulz2001-tu-dortmund/Sweep-NeuroSAT-HARD-CONSTRAINT-AUROC/runs/7seo7dwk' target=\"_blank\">https://wandb.ai/tristan-schulz2001-tu-dortmund/Sweep-NeuroSAT-HARD-CONSTRAINT-AUROC/runs/7seo7dwk</a>"
      ],
      "text/plain": [
       "<IPython.core.display.HTML object>"
      ]
     },
     "metadata": {},
     "output_type": "display_data"
    },
    {
     "name": "stdout",
     "output_type": "stream",
     "text": [
      "Epoch 1, Loss: 9.99791431427002\n",
      "mean auroc score: 0.487520694732666\n",
      "Epoch 2, Loss: 9.995400428771973\n",
      "mean auroc score: 0.4898471236228943\n",
      "Epoch 3, Loss: 9.974443435668945\n",
      "mean auroc score: 0.48895344138145447\n",
      "Epoch 4, Loss: 9.953913688659668\n",
      "mean auroc score: 0.49097833037376404\n",
      "Epoch 5, Loss: 9.944433212280273\n",
      "mean auroc score: 0.49231886863708496\n",
      "Epoch 6, Loss: 9.914508819580078\n",
      "mean auroc score: 0.49035075306892395\n",
      "Epoch 7, Loss: 9.894105911254883\n",
      "mean auroc score: 0.4923946261405945\n",
      "Epoch 8, Loss: 9.877979278564453\n",
      "mean auroc score: 0.4927268624305725\n",
      "Epoch 9, Loss: 9.837382316589355\n",
      "mean auroc score: 0.4961073398590088\n",
      "Epoch 10, Loss: 9.828448295593262\n",
      "mean auroc score: 0.5026914477348328\n",
      "Epoch 11, Loss: 9.774579048156738\n",
      "mean auroc score: 0.5040760636329651\n",
      "Epoch 12, Loss: 9.760875701904297\n",
      "mean auroc score: 0.5049037337303162\n",
      "Epoch 13, Loss: 9.712227821350098\n",
      "mean auroc score: 0.5112252235412598\n",
      "Epoch 14, Loss: 9.685358047485352\n",
      "mean auroc score: 0.5167584419250488\n",
      "Epoch 15, Loss: 9.650235176086426\n",
      "mean auroc score: 0.5146554112434387\n",
      "Epoch 16, Loss: 9.624249458312988\n",
      "mean auroc score: 0.5192223787307739\n",
      "Epoch 17, Loss: 9.593826293945312\n",
      "mean auroc score: 0.5216169357299805\n",
      "Epoch 18, Loss: 9.52992057800293\n",
      "mean auroc score: 0.5237187743186951\n",
      "Epoch 19, Loss: 9.499008178710938\n",
      "mean auroc score: 0.5213197469711304\n",
      "Epoch 20, Loss: 9.465566635131836\n",
      "mean auroc score: 0.5244480967521667\n"
     ]
    },
    {
     "data": {
      "text/html": [],
      "text/plain": [
       "<IPython.core.display.HTML object>"
      ]
     },
     "metadata": {},
     "output_type": "display_data"
    },
    {
     "data": {
      "text/html": [
       "<br>    <style><br>        .wandb-row {<br>            display: flex;<br>            flex-direction: row;<br>            flex-wrap: wrap;<br>            justify-content: flex-start;<br>            width: 100%;<br>        }<br>        .wandb-col {<br>            display: flex;<br>            flex-direction: column;<br>            flex-basis: 100%;<br>            flex: 1;<br>            padding: 10px;<br>        }<br>    </style><br><div class=\"wandb-row\"><div class=\"wandb-col\"><h3>Run history:</h3><br/><table class=\"wandb\"><tr><td>train/Loss</td><td>███▇▇▇▇▆▆▆▅▅▄▄▃▃▃▂▁▁</td></tr><tr><td>val/auroc</td><td>▁▁▁▂▂▂▂▂▃▄▄▄▅▇▆▇▇█▇█</td></tr><tr><td>val/highest_individual_auroc</td><td>▁</td></tr><tr><td>val/temperature</td><td>█▇▇▆▆▆▅▅▄▄▄▃▃▃▂▂▂▁▁▁</td></tr></table><br/></div><div class=\"wandb-col\"><h3>Run summary:</h3><br/><table class=\"wandb\"><tr><td>train/Loss</td><td>9.46557</td></tr><tr><td>val/auroc</td><td>0.52445</td></tr><tr><td>val/highest_individual_auroc</td><td>0.77211</td></tr><tr><td>val/temperature</td><td>2</td></tr></table><br/></div></div>"
      ],
      "text/plain": [
       "<IPython.core.display.HTML object>"
      ]
     },
     "metadata": {},
     "output_type": "display_data"
    },
    {
     "data": {
      "text/html": [
       " View run <strong style=\"color:#cdcd00\">fancy-sweep-14</strong> at: <a href='https://wandb.ai/tristan-schulz2001-tu-dortmund/Sweep-NeuroSAT-HARD-CONSTRAINT-AUROC/runs/7seo7dwk' target=\"_blank\">https://wandb.ai/tristan-schulz2001-tu-dortmund/Sweep-NeuroSAT-HARD-CONSTRAINT-AUROC/runs/7seo7dwk</a><br> View project at: <a href='https://wandb.ai/tristan-schulz2001-tu-dortmund/Sweep-NeuroSAT-HARD-CONSTRAINT-AUROC' target=\"_blank\">https://wandb.ai/tristan-schulz2001-tu-dortmund/Sweep-NeuroSAT-HARD-CONSTRAINT-AUROC</a><br>Synced 5 W&B file(s), 0 media file(s), 0 artifact file(s) and 0 other file(s)"
      ],
      "text/plain": [
       "<IPython.core.display.HTML object>"
      ]
     },
     "metadata": {},
     "output_type": "display_data"
    },
    {
     "data": {
      "text/html": [
       "Find logs at: <code>.\\wandb\\run-20250410_132743-7seo7dwk\\logs</code>"
      ],
      "text/plain": [
       "<IPython.core.display.HTML object>"
      ]
     },
     "metadata": {},
     "output_type": "display_data"
    },
    {
     "name": "stderr",
     "output_type": "stream",
     "text": [
      "\u001b[34m\u001b[1mwandb\u001b[0m: Agent Starting Run: d118r5lw with config:\n",
      "\u001b[34m\u001b[1mwandb\u001b[0m: \tbce_loss: 1\n",
      "\u001b[34m\u001b[1mwandb\u001b[0m: \tconsistency_reg: 0\n",
      "\u001b[34m\u001b[1mwandb\u001b[0m: \tentropy_reg: 5\n",
      "\u001b[34m\u001b[1mwandb\u001b[0m: \tepochs: 20\n",
      "\u001b[34m\u001b[1mwandb\u001b[0m: \tlr_mlp: 3e-05\n",
      "\u001b[34m\u001b[1mwandb\u001b[0m: \tseed: 75\n",
      "\u001b[34m\u001b[1mwandb\u001b[0m: \tsize_reg: 0.01\n",
      "\u001b[34m\u001b[1mwandb\u001b[0m: \ttT: 1\n"
     ]
    },
    {
     "data": {
      "text/html": [
       "Ignoring project 'Explainer-NeuroSAT-Sweep' when running a sweep."
      ],
      "text/plain": [
       "<IPython.core.display.HTML object>"
      ]
     },
     "metadata": {},
     "output_type": "display_data"
    },
    {
     "data": {
      "text/html": [
       "Tracking run with wandb version 0.19.8"
      ],
      "text/plain": [
       "<IPython.core.display.HTML object>"
      ]
     },
     "metadata": {},
     "output_type": "display_data"
    },
    {
     "data": {
      "text/html": [
       "Run data is saved locally in <code>c:\\Users\\trist\\Git_repos\\BT-ML-PGESAT\\code\\PGExplainer NeuroSAT\\wandb\\run-20250410_134313-d118r5lw</code>"
      ],
      "text/plain": [
       "<IPython.core.display.HTML object>"
      ]
     },
     "metadata": {},
     "output_type": "display_data"
    },
    {
     "data": {
      "text/html": [
       "Syncing run <strong><a href='https://wandb.ai/tristan-schulz2001-tu-dortmund/Sweep-NeuroSAT-HARD-CONSTRAINT-AUROC/runs/d118r5lw' target=\"_blank\">good-sweep-15</a></strong> to <a href='https://wandb.ai/tristan-schulz2001-tu-dortmund/Sweep-NeuroSAT-HARD-CONSTRAINT-AUROC' target=\"_blank\">Weights & Biases</a> (<a href='https://wandb.me/developer-guide' target=\"_blank\">docs</a>)<br>Sweep page: <a href='https://wandb.ai/tristan-schulz2001-tu-dortmund/Sweep-NeuroSAT-HARD-CONSTRAINT-AUROC/sweeps/1kd67zlb' target=\"_blank\">https://wandb.ai/tristan-schulz2001-tu-dortmund/Sweep-NeuroSAT-HARD-CONSTRAINT-AUROC/sweeps/1kd67zlb</a>"
      ],
      "text/plain": [
       "<IPython.core.display.HTML object>"
      ]
     },
     "metadata": {},
     "output_type": "display_data"
    },
    {
     "data": {
      "text/html": [
       " View project at <a href='https://wandb.ai/tristan-schulz2001-tu-dortmund/Sweep-NeuroSAT-HARD-CONSTRAINT-AUROC' target=\"_blank\">https://wandb.ai/tristan-schulz2001-tu-dortmund/Sweep-NeuroSAT-HARD-CONSTRAINT-AUROC</a>"
      ],
      "text/plain": [
       "<IPython.core.display.HTML object>"
      ]
     },
     "metadata": {},
     "output_type": "display_data"
    },
    {
     "data": {
      "text/html": [
       " View sweep at <a href='https://wandb.ai/tristan-schulz2001-tu-dortmund/Sweep-NeuroSAT-HARD-CONSTRAINT-AUROC/sweeps/1kd67zlb' target=\"_blank\">https://wandb.ai/tristan-schulz2001-tu-dortmund/Sweep-NeuroSAT-HARD-CONSTRAINT-AUROC/sweeps/1kd67zlb</a>"
      ],
      "text/plain": [
       "<IPython.core.display.HTML object>"
      ]
     },
     "metadata": {},
     "output_type": "display_data"
    },
    {
     "data": {
      "text/html": [
       " View run at <a href='https://wandb.ai/tristan-schulz2001-tu-dortmund/Sweep-NeuroSAT-HARD-CONSTRAINT-AUROC/runs/d118r5lw' target=\"_blank\">https://wandb.ai/tristan-schulz2001-tu-dortmund/Sweep-NeuroSAT-HARD-CONSTRAINT-AUROC/runs/d118r5lw</a>"
      ],
      "text/plain": [
       "<IPython.core.display.HTML object>"
      ]
     },
     "metadata": {},
     "output_type": "display_data"
    },
    {
     "name": "stdout",
     "output_type": "stream",
     "text": [
      "Epoch 1, Loss: 9.785578727722168\n",
      "mean auroc score: 0.5006551146507263\n",
      "Epoch 2, Loss: 9.76707649230957\n",
      "mean auroc score: 0.497092604637146\n",
      "Epoch 3, Loss: 9.758066177368164\n",
      "mean auroc score: 0.49549561738967896\n",
      "Epoch 4, Loss: 9.736981391906738\n",
      "mean auroc score: 0.49625787138938904\n",
      "Epoch 5, Loss: 9.707712173461914\n",
      "mean auroc score: 0.4932652711868286\n",
      "Epoch 6, Loss: 9.679847717285156\n",
      "mean auroc score: 0.4905272126197815\n",
      "Epoch 7, Loss: 9.644598007202148\n",
      "mean auroc score: 0.4886760115623474\n",
      "Epoch 8, Loss: 9.609417915344238\n",
      "mean auroc score: 0.48807084560394287\n",
      "Epoch 9, Loss: 9.582159042358398\n",
      "mean auroc score: 0.4882718026638031\n",
      "Epoch 10, Loss: 9.53511905670166\n",
      "mean auroc score: 0.489963561296463\n",
      "Epoch 11, Loss: 9.459432601928711\n",
      "mean auroc score: 0.48981866240501404\n",
      "Epoch 12, Loss: 9.4197416305542\n",
      "mean auroc score: 0.48884841799736023\n",
      "Epoch 13, Loss: 9.368078231811523\n",
      "mean auroc score: 0.49083587527275085\n",
      "Epoch 14, Loss: 9.331734657287598\n",
      "mean auroc score: 0.4890257716178894\n",
      "Epoch 15, Loss: 9.226709365844727\n",
      "mean auroc score: 0.48890212178230286\n",
      "Epoch 16, Loss: 9.126771926879883\n",
      "mean auroc score: 0.4884174168109894\n",
      "Epoch 17, Loss: 9.08098030090332\n",
      "mean auroc score: 0.4894699156284332\n",
      "Epoch 18, Loss: 8.984875679016113\n",
      "mean auroc score: 0.4899385869503021\n",
      "Epoch 19, Loss: 8.882588386535645\n",
      "mean auroc score: 0.49057599902153015\n",
      "Epoch 20, Loss: 8.781595230102539\n",
      "mean auroc score: 0.49117565155029297\n"
     ]
    },
    {
     "data": {
      "text/html": [],
      "text/plain": [
       "<IPython.core.display.HTML object>"
      ]
     },
     "metadata": {},
     "output_type": "display_data"
    },
    {
     "data": {
      "text/html": [
       "<br>    <style><br>        .wandb-row {<br>            display: flex;<br>            flex-direction: row;<br>            flex-wrap: wrap;<br>            justify-content: flex-start;<br>            width: 100%;<br>        }<br>        .wandb-col {<br>            display: flex;<br>            flex-direction: column;<br>            flex-basis: 100%;<br>            flex: 1;<br>            padding: 10px;<br>        }<br>    </style><br><div class=\"wandb-row\"><div class=\"wandb-col\"><h3>Run history:</h3><br/><table class=\"wandb\"><tr><td>train/Loss</td><td>████▇▇▇▇▇▆▆▅▅▅▄▃▃▂▂▁</td></tr><tr><td>val/auroc</td><td>█▆▅▆▄▂▁▁▁▂▂▁▃▂▁▁▂▂▂▃</td></tr><tr><td>val/highest_individual_auroc</td><td>▁</td></tr><tr><td>val/temperature</td><td>█▇▇▆▆▅▅▄▄▃▃▃▂▂▂▂▂▁▁▁</td></tr></table><br/></div><div class=\"wandb-col\"><h3>Run summary:</h3><br/><table class=\"wandb\"><tr><td>train/Loss</td><td>8.7816</td></tr><tr><td>val/auroc</td><td>0.49118</td></tr><tr><td>val/highest_individual_auroc</td><td>0.63425</td></tr><tr><td>val/temperature</td><td>1</td></tr></table><br/></div></div>"
      ],
      "text/plain": [
       "<IPython.core.display.HTML object>"
      ]
     },
     "metadata": {},
     "output_type": "display_data"
    },
    {
     "data": {
      "text/html": [
       " View run <strong style=\"color:#cdcd00\">good-sweep-15</strong> at: <a href='https://wandb.ai/tristan-schulz2001-tu-dortmund/Sweep-NeuroSAT-HARD-CONSTRAINT-AUROC/runs/d118r5lw' target=\"_blank\">https://wandb.ai/tristan-schulz2001-tu-dortmund/Sweep-NeuroSAT-HARD-CONSTRAINT-AUROC/runs/d118r5lw</a><br> View project at: <a href='https://wandb.ai/tristan-schulz2001-tu-dortmund/Sweep-NeuroSAT-HARD-CONSTRAINT-AUROC' target=\"_blank\">https://wandb.ai/tristan-schulz2001-tu-dortmund/Sweep-NeuroSAT-HARD-CONSTRAINT-AUROC</a><br>Synced 5 W&B file(s), 0 media file(s), 0 artifact file(s) and 0 other file(s)"
      ],
      "text/plain": [
       "<IPython.core.display.HTML object>"
      ]
     },
     "metadata": {},
     "output_type": "display_data"
    },
    {
     "data": {
      "text/html": [
       "Find logs at: <code>.\\wandb\\run-20250410_134313-d118r5lw\\logs</code>"
      ],
      "text/plain": [
       "<IPython.core.display.HTML object>"
      ]
     },
     "metadata": {},
     "output_type": "display_data"
    },
    {
     "name": "stderr",
     "output_type": "stream",
     "text": [
      "\u001b[34m\u001b[1mwandb\u001b[0m: Agent Starting Run: cddjnv2p with config:\n",
      "\u001b[34m\u001b[1mwandb\u001b[0m: \tbce_loss: 1\n",
      "\u001b[34m\u001b[1mwandb\u001b[0m: \tconsistency_reg: 0\n",
      "\u001b[34m\u001b[1mwandb\u001b[0m: \tentropy_reg: 5\n",
      "\u001b[34m\u001b[1mwandb\u001b[0m: \tepochs: 20\n",
      "\u001b[34m\u001b[1mwandb\u001b[0m: \tlr_mlp: 3e-05\n",
      "\u001b[34m\u001b[1mwandb\u001b[0m: \tseed: 75\n",
      "\u001b[34m\u001b[1mwandb\u001b[0m: \tsize_reg: 0.01\n",
      "\u001b[34m\u001b[1mwandb\u001b[0m: \ttT: 2\n"
     ]
    },
    {
     "data": {
      "text/html": [
       "Ignoring project 'Explainer-NeuroSAT-Sweep' when running a sweep."
      ],
      "text/plain": [
       "<IPython.core.display.HTML object>"
      ]
     },
     "metadata": {},
     "output_type": "display_data"
    },
    {
     "data": {
      "text/html": [
       "Tracking run with wandb version 0.19.8"
      ],
      "text/plain": [
       "<IPython.core.display.HTML object>"
      ]
     },
     "metadata": {},
     "output_type": "display_data"
    },
    {
     "data": {
      "text/html": [
       "Run data is saved locally in <code>c:\\Users\\trist\\Git_repos\\BT-ML-PGESAT\\code\\PGExplainer NeuroSAT\\wandb\\run-20250410_135910-cddjnv2p</code>"
      ],
      "text/plain": [
       "<IPython.core.display.HTML object>"
      ]
     },
     "metadata": {},
     "output_type": "display_data"
    },
    {
     "data": {
      "text/html": [
       "Syncing run <strong><a href='https://wandb.ai/tristan-schulz2001-tu-dortmund/Sweep-NeuroSAT-HARD-CONSTRAINT-AUROC/runs/cddjnv2p' target=\"_blank\">tough-sweep-16</a></strong> to <a href='https://wandb.ai/tristan-schulz2001-tu-dortmund/Sweep-NeuroSAT-HARD-CONSTRAINT-AUROC' target=\"_blank\">Weights & Biases</a> (<a href='https://wandb.me/developer-guide' target=\"_blank\">docs</a>)<br>Sweep page: <a href='https://wandb.ai/tristan-schulz2001-tu-dortmund/Sweep-NeuroSAT-HARD-CONSTRAINT-AUROC/sweeps/1kd67zlb' target=\"_blank\">https://wandb.ai/tristan-schulz2001-tu-dortmund/Sweep-NeuroSAT-HARD-CONSTRAINT-AUROC/sweeps/1kd67zlb</a>"
      ],
      "text/plain": [
       "<IPython.core.display.HTML object>"
      ]
     },
     "metadata": {},
     "output_type": "display_data"
    },
    {
     "data": {
      "text/html": [
       " View project at <a href='https://wandb.ai/tristan-schulz2001-tu-dortmund/Sweep-NeuroSAT-HARD-CONSTRAINT-AUROC' target=\"_blank\">https://wandb.ai/tristan-schulz2001-tu-dortmund/Sweep-NeuroSAT-HARD-CONSTRAINT-AUROC</a>"
      ],
      "text/plain": [
       "<IPython.core.display.HTML object>"
      ]
     },
     "metadata": {},
     "output_type": "display_data"
    },
    {
     "data": {
      "text/html": [
       " View sweep at <a href='https://wandb.ai/tristan-schulz2001-tu-dortmund/Sweep-NeuroSAT-HARD-CONSTRAINT-AUROC/sweeps/1kd67zlb' target=\"_blank\">https://wandb.ai/tristan-schulz2001-tu-dortmund/Sweep-NeuroSAT-HARD-CONSTRAINT-AUROC/sweeps/1kd67zlb</a>"
      ],
      "text/plain": [
       "<IPython.core.display.HTML object>"
      ]
     },
     "metadata": {},
     "output_type": "display_data"
    },
    {
     "data": {
      "text/html": [
       " View run at <a href='https://wandb.ai/tristan-schulz2001-tu-dortmund/Sweep-NeuroSAT-HARD-CONSTRAINT-AUROC/runs/cddjnv2p' target=\"_blank\">https://wandb.ai/tristan-schulz2001-tu-dortmund/Sweep-NeuroSAT-HARD-CONSTRAINT-AUROC/runs/cddjnv2p</a>"
      ],
      "text/plain": [
       "<IPython.core.display.HTML object>"
      ]
     },
     "metadata": {},
     "output_type": "display_data"
    },
    {
     "name": "stdout",
     "output_type": "stream",
     "text": [
      "Epoch 1, Loss: 9.786530494689941\n",
      "mean auroc score: 0.5006551146507263\n",
      "Epoch 2, Loss: 9.77003002166748\n",
      "mean auroc score: 0.497092604637146\n",
      "Epoch 3, Loss: 9.763692855834961\n",
      "mean auroc score: 0.49549561738967896\n",
      "Epoch 4, Loss: 9.747174263000488\n",
      "mean auroc score: 0.49625787138938904\n",
      "Epoch 5, Loss: 9.723962783813477\n",
      "mean auroc score: 0.4932652711868286\n",
      "Epoch 6, Loss: 9.705619812011719\n",
      "mean auroc score: 0.4906492829322815\n",
      "Epoch 7, Loss: 9.680570602416992\n",
      "mean auroc score: 0.4890878200531006\n",
      "Epoch 8, Loss: 9.654205322265625\n",
      "mean auroc score: 0.4884850084781647\n",
      "Epoch 9, Loss: 9.640008926391602\n",
      "mean auroc score: 0.48869019746780396\n",
      "Epoch 10, Loss: 9.609794616699219\n",
      "mean auroc score: 0.489568829536438\n",
      "Epoch 11, Loss: 9.564580917358398\n",
      "mean auroc score: 0.48990902304649353\n",
      "Epoch 12, Loss: 9.544339179992676\n",
      "mean auroc score: 0.4887602627277374\n",
      "Epoch 13, Loss: 9.512039184570312\n",
      "mean auroc score: 0.49063101410865784\n",
      "Epoch 14, Loss: 9.495162963867188\n",
      "mean auroc score: 0.4893478453159332\n",
      "Epoch 15, Loss: 9.431044578552246\n",
      "mean auroc score: 0.4895190894603729\n",
      "Epoch 16, Loss: 9.383296012878418\n",
      "mean auroc score: 0.48777449131011963\n",
      "Epoch 17, Loss: 9.357431411743164\n",
      "mean auroc score: 0.489185094833374\n",
      "Epoch 18, Loss: 9.300127029418945\n",
      "mean auroc score: 0.4896374046802521\n",
      "Epoch 19, Loss: 9.243680000305176\n",
      "mean auroc score: 0.4899749457836151\n",
      "Epoch 20, Loss: 9.201051712036133\n",
      "mean auroc score: 0.491529256105423\n"
     ]
    },
    {
     "data": {
      "text/html": [],
      "text/plain": [
       "<IPython.core.display.HTML object>"
      ]
     },
     "metadata": {},
     "output_type": "display_data"
    },
    {
     "data": {
      "text/html": [
       "<br>    <style><br>        .wandb-row {<br>            display: flex;<br>            flex-direction: row;<br>            flex-wrap: wrap;<br>            justify-content: flex-start;<br>            width: 100%;<br>        }<br>        .wandb-col {<br>            display: flex;<br>            flex-direction: column;<br>            flex-basis: 100%;<br>            flex: 1;<br>            padding: 10px;<br>        }<br>    </style><br><div class=\"wandb-row\"><div class=\"wandb-col\"><h3>Run history:</h3><br/><table class=\"wandb\"><tr><td>train/Loss</td><td>████▇▇▇▆▆▆▅▅▅▅▄▃▃▂▂▁</td></tr><tr><td>val/auroc</td><td>█▆▅▆▄▃▂▁▁▂▂▂▃▂▂▁▂▂▂▃</td></tr><tr><td>val/highest_individual_auroc</td><td>▁</td></tr><tr><td>val/temperature</td><td>█▇▇▆▆▆▅▅▄▄▄▃▃▃▂▂▂▁▁▁</td></tr></table><br/></div><div class=\"wandb-col\"><h3>Run summary:</h3><br/><table class=\"wandb\"><tr><td>train/Loss</td><td>9.20105</td></tr><tr><td>val/auroc</td><td>0.49153</td></tr><tr><td>val/highest_individual_auroc</td><td>0.63425</td></tr><tr><td>val/temperature</td><td>2</td></tr></table><br/></div></div>"
      ],
      "text/plain": [
       "<IPython.core.display.HTML object>"
      ]
     },
     "metadata": {},
     "output_type": "display_data"
    },
    {
     "data": {
      "text/html": [
       " View run <strong style=\"color:#cdcd00\">tough-sweep-16</strong> at: <a href='https://wandb.ai/tristan-schulz2001-tu-dortmund/Sweep-NeuroSAT-HARD-CONSTRAINT-AUROC/runs/cddjnv2p' target=\"_blank\">https://wandb.ai/tristan-schulz2001-tu-dortmund/Sweep-NeuroSAT-HARD-CONSTRAINT-AUROC/runs/cddjnv2p</a><br> View project at: <a href='https://wandb.ai/tristan-schulz2001-tu-dortmund/Sweep-NeuroSAT-HARD-CONSTRAINT-AUROC' target=\"_blank\">https://wandb.ai/tristan-schulz2001-tu-dortmund/Sweep-NeuroSAT-HARD-CONSTRAINT-AUROC</a><br>Synced 5 W&B file(s), 0 media file(s), 0 artifact file(s) and 0 other file(s)"
      ],
      "text/plain": [
       "<IPython.core.display.HTML object>"
      ]
     },
     "metadata": {},
     "output_type": "display_data"
    },
    {
     "data": {
      "text/html": [
       "Find logs at: <code>.\\wandb\\run-20250410_135910-cddjnv2p\\logs</code>"
      ],
      "text/plain": [
       "<IPython.core.display.HTML object>"
      ]
     },
     "metadata": {},
     "output_type": "display_data"
    },
    {
     "name": "stderr",
     "output_type": "stream",
     "text": [
      "\u001b[34m\u001b[1mwandb\u001b[0m: Agent Starting Run: nvzutn6t with config:\n",
      "\u001b[34m\u001b[1mwandb\u001b[0m: \tbce_loss: 0\n",
      "\u001b[34m\u001b[1mwandb\u001b[0m: \tconsistency_reg: 0\n",
      "\u001b[34m\u001b[1mwandb\u001b[0m: \tentropy_reg: 0\n",
      "\u001b[34m\u001b[1mwandb\u001b[0m: \tepochs: 20\n",
      "\u001b[34m\u001b[1mwandb\u001b[0m: \tlr_mlp: 0.0001\n",
      "\u001b[34m\u001b[1mwandb\u001b[0m: \tseed: 74\n",
      "\u001b[34m\u001b[1mwandb\u001b[0m: \tsize_reg: 0.01\n",
      "\u001b[34m\u001b[1mwandb\u001b[0m: \ttT: 1\n"
     ]
    },
    {
     "data": {
      "text/html": [
       "Ignoring project 'Explainer-NeuroSAT-Sweep' when running a sweep."
      ],
      "text/plain": [
       "<IPython.core.display.HTML object>"
      ]
     },
     "metadata": {},
     "output_type": "display_data"
    },
    {
     "data": {
      "text/html": [
       "Tracking run with wandb version 0.19.8"
      ],
      "text/plain": [
       "<IPython.core.display.HTML object>"
      ]
     },
     "metadata": {},
     "output_type": "display_data"
    },
    {
     "data": {
      "text/html": [
       "Run data is saved locally in <code>c:\\Users\\trist\\Git_repos\\BT-ML-PGESAT\\code\\PGExplainer NeuroSAT\\wandb\\run-20250410_141503-nvzutn6t</code>"
      ],
      "text/plain": [
       "<IPython.core.display.HTML object>"
      ]
     },
     "metadata": {},
     "output_type": "display_data"
    },
    {
     "data": {
      "text/html": [
       "Syncing run <strong><a href='https://wandb.ai/tristan-schulz2001-tu-dortmund/Sweep-NeuroSAT-HARD-CONSTRAINT-AUROC/runs/nvzutn6t' target=\"_blank\">helpful-sweep-17</a></strong> to <a href='https://wandb.ai/tristan-schulz2001-tu-dortmund/Sweep-NeuroSAT-HARD-CONSTRAINT-AUROC' target=\"_blank\">Weights & Biases</a> (<a href='https://wandb.me/developer-guide' target=\"_blank\">docs</a>)<br>Sweep page: <a href='https://wandb.ai/tristan-schulz2001-tu-dortmund/Sweep-NeuroSAT-HARD-CONSTRAINT-AUROC/sweeps/1kd67zlb' target=\"_blank\">https://wandb.ai/tristan-schulz2001-tu-dortmund/Sweep-NeuroSAT-HARD-CONSTRAINT-AUROC/sweeps/1kd67zlb</a>"
      ],
      "text/plain": [
       "<IPython.core.display.HTML object>"
      ]
     },
     "metadata": {},
     "output_type": "display_data"
    },
    {
     "data": {
      "text/html": [
       " View project at <a href='https://wandb.ai/tristan-schulz2001-tu-dortmund/Sweep-NeuroSAT-HARD-CONSTRAINT-AUROC' target=\"_blank\">https://wandb.ai/tristan-schulz2001-tu-dortmund/Sweep-NeuroSAT-HARD-CONSTRAINT-AUROC</a>"
      ],
      "text/plain": [
       "<IPython.core.display.HTML object>"
      ]
     },
     "metadata": {},
     "output_type": "display_data"
    },
    {
     "data": {
      "text/html": [
       " View sweep at <a href='https://wandb.ai/tristan-schulz2001-tu-dortmund/Sweep-NeuroSAT-HARD-CONSTRAINT-AUROC/sweeps/1kd67zlb' target=\"_blank\">https://wandb.ai/tristan-schulz2001-tu-dortmund/Sweep-NeuroSAT-HARD-CONSTRAINT-AUROC/sweeps/1kd67zlb</a>"
      ],
      "text/plain": [
       "<IPython.core.display.HTML object>"
      ]
     },
     "metadata": {},
     "output_type": "display_data"
    },
    {
     "data": {
      "text/html": [
       " View run at <a href='https://wandb.ai/tristan-schulz2001-tu-dortmund/Sweep-NeuroSAT-HARD-CONSTRAINT-AUROC/runs/nvzutn6t' target=\"_blank\">https://wandb.ai/tristan-schulz2001-tu-dortmund/Sweep-NeuroSAT-HARD-CONSTRAINT-AUROC/runs/nvzutn6t</a>"
      ],
      "text/plain": [
       "<IPython.core.display.HTML object>"
      ]
     },
     "metadata": {},
     "output_type": "display_data"
    },
    {
     "name": "stdout",
     "output_type": "stream",
     "text": [
      "Epoch 1, Loss: 9.160676956176758\n",
      "mean auroc score: 0.4891628623008728\n",
      "Epoch 2, Loss: 9.113851547241211\n",
      "mean auroc score: 0.490462064743042\n",
      "Epoch 3, Loss: 9.038740158081055\n",
      "mean auroc score: 0.5019503235816956\n",
      "Epoch 4, Loss: 8.95941162109375\n",
      "mean auroc score: 0.5136950016021729\n",
      "Epoch 5, Loss: 8.895312309265137\n",
      "mean auroc score: 0.5189204812049866\n",
      "Epoch 6, Loss: 8.812456130981445\n",
      "mean auroc score: 0.5238277912139893\n",
      "Epoch 7, Loss: 8.747904777526855\n",
      "mean auroc score: 0.5249457359313965\n",
      "Epoch 8, Loss: 8.69434642791748\n",
      "mean auroc score: 0.527639627456665\n",
      "Epoch 9, Loss: 8.59929370880127\n",
      "mean auroc score: 0.5281552672386169\n",
      "Epoch 10, Loss: 8.554255485534668\n",
      "mean auroc score: 0.5251675248146057\n",
      "Epoch 11, Loss: 8.43028736114502\n",
      "mean auroc score: 0.5260509252548218\n",
      "Epoch 12, Loss: 8.369158744812012\n",
      "mean auroc score: 0.532546877861023\n",
      "Epoch 13, Loss: 8.229881286621094\n",
      "mean auroc score: 0.5343207716941833\n",
      "Epoch 14, Loss: 8.135065078735352\n",
      "mean auroc score: 0.5352094769477844\n",
      "Epoch 15, Loss: 8.003716468811035\n",
      "mean auroc score: 0.539808988571167\n",
      "Epoch 16, Loss: 7.88012170791626\n",
      "mean auroc score: 0.5383660793304443\n",
      "Epoch 17, Loss: 7.747378349304199\n",
      "mean auroc score: 0.5373419523239136\n",
      "Epoch 18, Loss: 7.529934883117676\n",
      "mean auroc score: 0.5345070362091064\n",
      "Epoch 19, Loss: 7.346707820892334\n",
      "mean auroc score: 0.534561038017273\n",
      "Epoch 20, Loss: 7.2501349449157715\n",
      "mean auroc score: 0.534883975982666\n"
     ]
    },
    {
     "data": {
      "text/html": [],
      "text/plain": [
       "<IPython.core.display.HTML object>"
      ]
     },
     "metadata": {},
     "output_type": "display_data"
    },
    {
     "data": {
      "text/html": [
       "<br>    <style><br>        .wandb-row {<br>            display: flex;<br>            flex-direction: row;<br>            flex-wrap: wrap;<br>            justify-content: flex-start;<br>            width: 100%;<br>        }<br>        .wandb-col {<br>            display: flex;<br>            flex-direction: column;<br>            flex-basis: 100%;<br>            flex: 1;<br>            padding: 10px;<br>        }<br>    </style><br><div class=\"wandb-row\"><div class=\"wandb-col\"><h3>Run history:</h3><br/><table class=\"wandb\"><tr><td>train/Loss</td><td>███▇▇▇▆▆▆▆▅▅▅▄▄▃▃▂▁▁</td></tr><tr><td>val/auroc</td><td>▁▁▃▄▅▆▆▆▆▆▆▇▇▇███▇▇▇</td></tr><tr><td>val/highest_individual_auroc</td><td>▁</td></tr><tr><td>val/temperature</td><td>█▇▇▆▆▅▅▄▄▃▃▃▂▂▂▂▂▁▁▁</td></tr></table><br/></div><div class=\"wandb-col\"><h3>Run summary:</h3><br/><table class=\"wandb\"><tr><td>train/Loss</td><td>7.25013</td></tr><tr><td>val/auroc</td><td>0.53488</td></tr><tr><td>val/highest_individual_auroc</td><td>0.74816</td></tr><tr><td>val/temperature</td><td>1</td></tr></table><br/></div></div>"
      ],
      "text/plain": [
       "<IPython.core.display.HTML object>"
      ]
     },
     "metadata": {},
     "output_type": "display_data"
    },
    {
     "data": {
      "text/html": [
       " View run <strong style=\"color:#cdcd00\">helpful-sweep-17</strong> at: <a href='https://wandb.ai/tristan-schulz2001-tu-dortmund/Sweep-NeuroSAT-HARD-CONSTRAINT-AUROC/runs/nvzutn6t' target=\"_blank\">https://wandb.ai/tristan-schulz2001-tu-dortmund/Sweep-NeuroSAT-HARD-CONSTRAINT-AUROC/runs/nvzutn6t</a><br> View project at: <a href='https://wandb.ai/tristan-schulz2001-tu-dortmund/Sweep-NeuroSAT-HARD-CONSTRAINT-AUROC' target=\"_blank\">https://wandb.ai/tristan-schulz2001-tu-dortmund/Sweep-NeuroSAT-HARD-CONSTRAINT-AUROC</a><br>Synced 5 W&B file(s), 0 media file(s), 0 artifact file(s) and 0 other file(s)"
      ],
      "text/plain": [
       "<IPython.core.display.HTML object>"
      ]
     },
     "metadata": {},
     "output_type": "display_data"
    },
    {
     "data": {
      "text/html": [
       "Find logs at: <code>.\\wandb\\run-20250410_141503-nvzutn6t\\logs</code>"
      ],
      "text/plain": [
       "<IPython.core.display.HTML object>"
      ]
     },
     "metadata": {},
     "output_type": "display_data"
    },
    {
     "name": "stderr",
     "output_type": "stream",
     "text": [
      "\u001b[34m\u001b[1mwandb\u001b[0m: Agent Starting Run: 8impak1r with config:\n",
      "\u001b[34m\u001b[1mwandb\u001b[0m: \tbce_loss: 0\n",
      "\u001b[34m\u001b[1mwandb\u001b[0m: \tconsistency_reg: 0\n",
      "\u001b[34m\u001b[1mwandb\u001b[0m: \tentropy_reg: 0\n",
      "\u001b[34m\u001b[1mwandb\u001b[0m: \tepochs: 20\n",
      "\u001b[34m\u001b[1mwandb\u001b[0m: \tlr_mlp: 0.0001\n",
      "\u001b[34m\u001b[1mwandb\u001b[0m: \tseed: 74\n",
      "\u001b[34m\u001b[1mwandb\u001b[0m: \tsize_reg: 0.01\n",
      "\u001b[34m\u001b[1mwandb\u001b[0m: \ttT: 2\n"
     ]
    },
    {
     "data": {
      "text/html": [
       "Ignoring project 'Explainer-NeuroSAT-Sweep' when running a sweep."
      ],
      "text/plain": [
       "<IPython.core.display.HTML object>"
      ]
     },
     "metadata": {},
     "output_type": "display_data"
    },
    {
     "data": {
      "text/html": [
       "Tracking run with wandb version 0.19.8"
      ],
      "text/plain": [
       "<IPython.core.display.HTML object>"
      ]
     },
     "metadata": {},
     "output_type": "display_data"
    },
    {
     "data": {
      "text/html": [
       "Run data is saved locally in <code>c:\\Users\\trist\\Git_repos\\BT-ML-PGESAT\\code\\PGExplainer NeuroSAT\\wandb\\run-20250410_143003-8impak1r</code>"
      ],
      "text/plain": [
       "<IPython.core.display.HTML object>"
      ]
     },
     "metadata": {},
     "output_type": "display_data"
    },
    {
     "data": {
      "text/html": [
       "Syncing run <strong><a href='https://wandb.ai/tristan-schulz2001-tu-dortmund/Sweep-NeuroSAT-HARD-CONSTRAINT-AUROC/runs/8impak1r' target=\"_blank\">robust-sweep-18</a></strong> to <a href='https://wandb.ai/tristan-schulz2001-tu-dortmund/Sweep-NeuroSAT-HARD-CONSTRAINT-AUROC' target=\"_blank\">Weights & Biases</a> (<a href='https://wandb.me/developer-guide' target=\"_blank\">docs</a>)<br>Sweep page: <a href='https://wandb.ai/tristan-schulz2001-tu-dortmund/Sweep-NeuroSAT-HARD-CONSTRAINT-AUROC/sweeps/1kd67zlb' target=\"_blank\">https://wandb.ai/tristan-schulz2001-tu-dortmund/Sweep-NeuroSAT-HARD-CONSTRAINT-AUROC/sweeps/1kd67zlb</a>"
      ],
      "text/plain": [
       "<IPython.core.display.HTML object>"
      ]
     },
     "metadata": {},
     "output_type": "display_data"
    },
    {
     "data": {
      "text/html": [
       " View project at <a href='https://wandb.ai/tristan-schulz2001-tu-dortmund/Sweep-NeuroSAT-HARD-CONSTRAINT-AUROC' target=\"_blank\">https://wandb.ai/tristan-schulz2001-tu-dortmund/Sweep-NeuroSAT-HARD-CONSTRAINT-AUROC</a>"
      ],
      "text/plain": [
       "<IPython.core.display.HTML object>"
      ]
     },
     "metadata": {},
     "output_type": "display_data"
    },
    {
     "data": {
      "text/html": [
       " View sweep at <a href='https://wandb.ai/tristan-schulz2001-tu-dortmund/Sweep-NeuroSAT-HARD-CONSTRAINT-AUROC/sweeps/1kd67zlb' target=\"_blank\">https://wandb.ai/tristan-schulz2001-tu-dortmund/Sweep-NeuroSAT-HARD-CONSTRAINT-AUROC/sweeps/1kd67zlb</a>"
      ],
      "text/plain": [
       "<IPython.core.display.HTML object>"
      ]
     },
     "metadata": {},
     "output_type": "display_data"
    },
    {
     "data": {
      "text/html": [
       " View run at <a href='https://wandb.ai/tristan-schulz2001-tu-dortmund/Sweep-NeuroSAT-HARD-CONSTRAINT-AUROC/runs/8impak1r' target=\"_blank\">https://wandb.ai/tristan-schulz2001-tu-dortmund/Sweep-NeuroSAT-HARD-CONSTRAINT-AUROC/runs/8impak1r</a>"
      ],
      "text/plain": [
       "<IPython.core.display.HTML object>"
      ]
     },
     "metadata": {},
     "output_type": "display_data"
    },
    {
     "name": "stdout",
     "output_type": "stream",
     "text": [
      "Epoch 1, Loss: 9.153109550476074\n",
      "mean auroc score: 0.4891628623008728\n",
      "Epoch 2, Loss: 9.101724624633789\n",
      "mean auroc score: 0.490462064743042\n",
      "Epoch 3, Loss: 9.028517723083496\n",
      "mean auroc score: 0.5018190741539001\n",
      "Epoch 4, Loss: 8.955745697021484\n",
      "mean auroc score: 0.5133092403411865\n",
      "Epoch 5, Loss: 8.899576187133789\n",
      "mean auroc score: 0.5193172693252563\n",
      "Epoch 6, Loss: 8.831525802612305\n",
      "mean auroc score: 0.5240538120269775\n",
      "Epoch 7, Loss: 8.782008171081543\n",
      "mean auroc score: 0.5254025459289551\n",
      "Epoch 8, Loss: 8.74250602722168\n",
      "mean auroc score: 0.5278806686401367\n",
      "Epoch 9, Loss: 8.678144454956055\n",
      "mean auroc score: 0.5286290645599365\n",
      "Epoch 10, Loss: 8.64754867553711\n",
      "mean auroc score: 0.5262126922607422\n",
      "Epoch 11, Loss: 8.565909385681152\n",
      "mean auroc score: 0.5249691009521484\n",
      "Epoch 12, Loss: 8.525544166564941\n",
      "mean auroc score: 0.5329347252845764\n",
      "Epoch 13, Loss: 8.443901062011719\n",
      "mean auroc score: 0.5357378125190735\n",
      "Epoch 14, Loss: 8.382349967956543\n",
      "mean auroc score: 0.5350569486618042\n",
      "Epoch 15, Loss: 8.303873062133789\n",
      "mean auroc score: 0.5385130047798157\n",
      "Epoch 16, Loss: 8.232802391052246\n",
      "mean auroc score: 0.5405057668685913\n",
      "Epoch 17, Loss: 8.15050983428955\n",
      "mean auroc score: 0.5377430319786072\n",
      "Epoch 18, Loss: 8.02143669128418\n",
      "mean auroc score: 0.5351017713546753\n",
      "Epoch 19, Loss: 7.926294803619385\n",
      "mean auroc score: 0.5346413254737854\n",
      "Epoch 20, Loss: 7.820835113525391\n",
      "mean auroc score: 0.535656213760376\n"
     ]
    },
    {
     "data": {
      "text/html": [],
      "text/plain": [
       "<IPython.core.display.HTML object>"
      ]
     },
     "metadata": {},
     "output_type": "display_data"
    },
    {
     "data": {
      "text/html": [
       "<br>    <style><br>        .wandb-row {<br>            display: flex;<br>            flex-direction: row;<br>            flex-wrap: wrap;<br>            justify-content: flex-start;<br>            width: 100%;<br>        }<br>        .wandb-col {<br>            display: flex;<br>            flex-direction: column;<br>            flex-basis: 100%;<br>            flex: 1;<br>            padding: 10px;<br>        }<br>    </style><br><div class=\"wandb-row\"><div class=\"wandb-col\"><h3>Run history:</h3><br/><table class=\"wandb\"><tr><td>train/Loss</td><td>██▇▇▇▆▆▆▆▅▅▅▄▄▄▃▃▂▂▁</td></tr><tr><td>val/auroc</td><td>▁▁▃▄▅▆▆▆▆▆▆▇▇▇███▇▇▇</td></tr><tr><td>val/highest_individual_auroc</td><td>▁</td></tr><tr><td>val/temperature</td><td>█▇▇▆▆▆▅▅▄▄▄▃▃▃▂▂▂▁▁▁</td></tr></table><br/></div><div class=\"wandb-col\"><h3>Run summary:</h3><br/><table class=\"wandb\"><tr><td>train/Loss</td><td>7.82084</td></tr><tr><td>val/auroc</td><td>0.53566</td></tr><tr><td>val/highest_individual_auroc</td><td>0.74391</td></tr><tr><td>val/temperature</td><td>2</td></tr></table><br/></div></div>"
      ],
      "text/plain": [
       "<IPython.core.display.HTML object>"
      ]
     },
     "metadata": {},
     "output_type": "display_data"
    },
    {
     "data": {
      "text/html": [
       " View run <strong style=\"color:#cdcd00\">robust-sweep-18</strong> at: <a href='https://wandb.ai/tristan-schulz2001-tu-dortmund/Sweep-NeuroSAT-HARD-CONSTRAINT-AUROC/runs/8impak1r' target=\"_blank\">https://wandb.ai/tristan-schulz2001-tu-dortmund/Sweep-NeuroSAT-HARD-CONSTRAINT-AUROC/runs/8impak1r</a><br> View project at: <a href='https://wandb.ai/tristan-schulz2001-tu-dortmund/Sweep-NeuroSAT-HARD-CONSTRAINT-AUROC' target=\"_blank\">https://wandb.ai/tristan-schulz2001-tu-dortmund/Sweep-NeuroSAT-HARD-CONSTRAINT-AUROC</a><br>Synced 5 W&B file(s), 0 media file(s), 0 artifact file(s) and 0 other file(s)"
      ],
      "text/plain": [
       "<IPython.core.display.HTML object>"
      ]
     },
     "metadata": {},
     "output_type": "display_data"
    },
    {
     "data": {
      "text/html": [
       "Find logs at: <code>.\\wandb\\run-20250410_143003-8impak1r\\logs</code>"
      ],
      "text/plain": [
       "<IPython.core.display.HTML object>"
      ]
     },
     "metadata": {},
     "output_type": "display_data"
    },
    {
     "name": "stderr",
     "output_type": "stream",
     "text": [
      "\u001b[34m\u001b[1mwandb\u001b[0m: Sweep Agent: Waiting for job.\n",
      "\u001b[34m\u001b[1mwandb\u001b[0m: Job received.\n",
      "\u001b[34m\u001b[1mwandb\u001b[0m: Agent Starting Run: 93m8ir4h with config:\n",
      "\u001b[34m\u001b[1mwandb\u001b[0m: \tbce_loss: 0\n",
      "\u001b[34m\u001b[1mwandb\u001b[0m: \tconsistency_reg: 0\n",
      "\u001b[34m\u001b[1mwandb\u001b[0m: \tentropy_reg: 0\n",
      "\u001b[34m\u001b[1mwandb\u001b[0m: \tepochs: 20\n",
      "\u001b[34m\u001b[1mwandb\u001b[0m: \tlr_mlp: 0.0001\n",
      "\u001b[34m\u001b[1mwandb\u001b[0m: \tseed: 75\n",
      "\u001b[34m\u001b[1mwandb\u001b[0m: \tsize_reg: 0.01\n",
      "\u001b[34m\u001b[1mwandb\u001b[0m: \ttT: 1\n"
     ]
    },
    {
     "data": {
      "text/html": [
       "Ignoring project 'Explainer-NeuroSAT-Sweep' when running a sweep."
      ],
      "text/plain": [
       "<IPython.core.display.HTML object>"
      ]
     },
     "metadata": {},
     "output_type": "display_data"
    },
    {
     "data": {
      "text/html": [
       "Tracking run with wandb version 0.19.8"
      ],
      "text/plain": [
       "<IPython.core.display.HTML object>"
      ]
     },
     "metadata": {},
     "output_type": "display_data"
    },
    {
     "data": {
      "text/html": [
       "Run data is saved locally in <code>c:\\Users\\trist\\Git_repos\\BT-ML-PGESAT\\code\\PGExplainer NeuroSAT\\wandb\\run-20250410_144506-93m8ir4h</code>"
      ],
      "text/plain": [
       "<IPython.core.display.HTML object>"
      ]
     },
     "metadata": {},
     "output_type": "display_data"
    },
    {
     "data": {
      "text/html": [
       "Syncing run <strong><a href='https://wandb.ai/tristan-schulz2001-tu-dortmund/Sweep-NeuroSAT-HARD-CONSTRAINT-AUROC/runs/93m8ir4h' target=\"_blank\">twilight-sweep-19</a></strong> to <a href='https://wandb.ai/tristan-schulz2001-tu-dortmund/Sweep-NeuroSAT-HARD-CONSTRAINT-AUROC' target=\"_blank\">Weights & Biases</a> (<a href='https://wandb.me/developer-guide' target=\"_blank\">docs</a>)<br>Sweep page: <a href='https://wandb.ai/tristan-schulz2001-tu-dortmund/Sweep-NeuroSAT-HARD-CONSTRAINT-AUROC/sweeps/1kd67zlb' target=\"_blank\">https://wandb.ai/tristan-schulz2001-tu-dortmund/Sweep-NeuroSAT-HARD-CONSTRAINT-AUROC/sweeps/1kd67zlb</a>"
      ],
      "text/plain": [
       "<IPython.core.display.HTML object>"
      ]
     },
     "metadata": {},
     "output_type": "display_data"
    },
    {
     "data": {
      "text/html": [
       " View project at <a href='https://wandb.ai/tristan-schulz2001-tu-dortmund/Sweep-NeuroSAT-HARD-CONSTRAINT-AUROC' target=\"_blank\">https://wandb.ai/tristan-schulz2001-tu-dortmund/Sweep-NeuroSAT-HARD-CONSTRAINT-AUROC</a>"
      ],
      "text/plain": [
       "<IPython.core.display.HTML object>"
      ]
     },
     "metadata": {},
     "output_type": "display_data"
    },
    {
     "data": {
      "text/html": [
       " View sweep at <a href='https://wandb.ai/tristan-schulz2001-tu-dortmund/Sweep-NeuroSAT-HARD-CONSTRAINT-AUROC/sweeps/1kd67zlb' target=\"_blank\">https://wandb.ai/tristan-schulz2001-tu-dortmund/Sweep-NeuroSAT-HARD-CONSTRAINT-AUROC/sweeps/1kd67zlb</a>"
      ],
      "text/plain": [
       "<IPython.core.display.HTML object>"
      ]
     },
     "metadata": {},
     "output_type": "display_data"
    },
    {
     "data": {
      "text/html": [
       " View run at <a href='https://wandb.ai/tristan-schulz2001-tu-dortmund/Sweep-NeuroSAT-HARD-CONSTRAINT-AUROC/runs/93m8ir4h' target=\"_blank\">https://wandb.ai/tristan-schulz2001-tu-dortmund/Sweep-NeuroSAT-HARD-CONSTRAINT-AUROC/runs/93m8ir4h</a>"
      ],
      "text/plain": [
       "<IPython.core.display.HTML object>"
      ]
     },
     "metadata": {},
     "output_type": "display_data"
    },
    {
     "name": "stdout",
     "output_type": "stream",
     "text": [
      "Epoch 1, Loss: 8.941617012023926\n",
      "mean auroc score: 0.495727002620697\n",
      "Epoch 2, Loss: 8.894510269165039\n",
      "mean auroc score: 0.4900554120540619\n",
      "Epoch 3, Loss: 8.851141929626465\n",
      "mean auroc score: 0.48915863037109375\n",
      "Epoch 4, Loss: 8.79102897644043\n",
      "mean auroc score: 0.49092042446136475\n",
      "Epoch 5, Loss: 8.717363357543945\n",
      "mean auroc score: 0.4878805875778198\n",
      "Epoch 6, Loss: 8.636028289794922\n",
      "mean auroc score: 0.4910328686237335\n",
      "Epoch 7, Loss: 8.544309616088867\n",
      "mean auroc score: 0.4900112748146057\n",
      "Epoch 8, Loss: 8.448225021362305\n",
      "mean auroc score: 0.49130961298942566\n",
      "Epoch 9, Loss: 8.347848892211914\n",
      "mean auroc score: 0.4951332211494446\n",
      "Epoch 10, Loss: 8.234102249145508\n",
      "mean auroc score: 0.4965493679046631\n",
      "Epoch 11, Loss: 8.068413734436035\n",
      "mean auroc score: 0.5001172423362732\n",
      "Epoch 12, Loss: 7.939772129058838\n",
      "mean auroc score: 0.5025296211242676\n",
      "Epoch 13, Loss: 7.791433811187744\n",
      "mean auroc score: 0.5035594701766968\n",
      "Epoch 14, Loss: 7.626187801361084\n",
      "mean auroc score: 0.5066511034965515\n",
      "Epoch 15, Loss: 7.445485591888428\n",
      "mean auroc score: 0.5066708326339722\n",
      "Epoch 16, Loss: 7.2029852867126465\n",
      "mean auroc score: 0.5076544284820557\n",
      "Epoch 17, Loss: 7.000482082366943\n",
      "mean auroc score: 0.5102337002754211\n",
      "Epoch 18, Loss: 6.7832136154174805\n",
      "mean auroc score: 0.5099376440048218\n",
      "Epoch 19, Loss: 6.499891757965088\n",
      "mean auroc score: 0.5101417899131775\n",
      "Epoch 20, Loss: 6.2608137130737305\n",
      "mean auroc score: 0.5116848349571228\n"
     ]
    },
    {
     "data": {
      "text/html": [],
      "text/plain": [
       "<IPython.core.display.HTML object>"
      ]
     },
     "metadata": {},
     "output_type": "display_data"
    },
    {
     "data": {
      "text/html": [
       "<br>    <style><br>        .wandb-row {<br>            display: flex;<br>            flex-direction: row;<br>            flex-wrap: wrap;<br>            justify-content: flex-start;<br>            width: 100%;<br>        }<br>        .wandb-col {<br>            display: flex;<br>            flex-direction: column;<br>            flex-basis: 100%;<br>            flex: 1;<br>            padding: 10px;<br>        }<br>    </style><br><div class=\"wandb-row\"><div class=\"wandb-col\"><h3>Run history:</h3><br/><table class=\"wandb\"><tr><td>train/Loss</td><td>████▇▇▇▇▆▆▆▅▅▅▄▃▃▂▂▁</td></tr><tr><td>val/auroc</td><td>▃▂▁▂▁▂▂▂▃▄▅▅▆▇▇▇█▇██</td></tr><tr><td>val/highest_individual_auroc</td><td>▁</td></tr><tr><td>val/temperature</td><td>█▇▇▆▆▅▅▄▄▃▃▃▂▂▂▂▂▁▁▁</td></tr></table><br/></div><div class=\"wandb-col\"><h3>Run summary:</h3><br/><table class=\"wandb\"><tr><td>train/Loss</td><td>6.26081</td></tr><tr><td>val/auroc</td><td>0.51168</td></tr><tr><td>val/highest_individual_auroc</td><td>0.65505</td></tr><tr><td>val/temperature</td><td>1</td></tr></table><br/></div></div>"
      ],
      "text/plain": [
       "<IPython.core.display.HTML object>"
      ]
     },
     "metadata": {},
     "output_type": "display_data"
    },
    {
     "data": {
      "text/html": [
       " View run <strong style=\"color:#cdcd00\">twilight-sweep-19</strong> at: <a href='https://wandb.ai/tristan-schulz2001-tu-dortmund/Sweep-NeuroSAT-HARD-CONSTRAINT-AUROC/runs/93m8ir4h' target=\"_blank\">https://wandb.ai/tristan-schulz2001-tu-dortmund/Sweep-NeuroSAT-HARD-CONSTRAINT-AUROC/runs/93m8ir4h</a><br> View project at: <a href='https://wandb.ai/tristan-schulz2001-tu-dortmund/Sweep-NeuroSAT-HARD-CONSTRAINT-AUROC' target=\"_blank\">https://wandb.ai/tristan-schulz2001-tu-dortmund/Sweep-NeuroSAT-HARD-CONSTRAINT-AUROC</a><br>Synced 5 W&B file(s), 0 media file(s), 0 artifact file(s) and 0 other file(s)"
      ],
      "text/plain": [
       "<IPython.core.display.HTML object>"
      ]
     },
     "metadata": {},
     "output_type": "display_data"
    },
    {
     "data": {
      "text/html": [
       "Find logs at: <code>.\\wandb\\run-20250410_144506-93m8ir4h\\logs</code>"
      ],
      "text/plain": [
       "<IPython.core.display.HTML object>"
      ]
     },
     "metadata": {},
     "output_type": "display_data"
    },
    {
     "name": "stderr",
     "output_type": "stream",
     "text": [
      "\u001b[34m\u001b[1mwandb\u001b[0m: Agent Starting Run: o85lu9me with config:\n",
      "\u001b[34m\u001b[1mwandb\u001b[0m: \tbce_loss: 0\n",
      "\u001b[34m\u001b[1mwandb\u001b[0m: \tconsistency_reg: 0\n",
      "\u001b[34m\u001b[1mwandb\u001b[0m: \tentropy_reg: 0\n",
      "\u001b[34m\u001b[1mwandb\u001b[0m: \tepochs: 20\n",
      "\u001b[34m\u001b[1mwandb\u001b[0m: \tlr_mlp: 0.0001\n",
      "\u001b[34m\u001b[1mwandb\u001b[0m: \tseed: 75\n",
      "\u001b[34m\u001b[1mwandb\u001b[0m: \tsize_reg: 0.01\n",
      "\u001b[34m\u001b[1mwandb\u001b[0m: \ttT: 2\n"
     ]
    },
    {
     "data": {
      "text/html": [
       "Ignoring project 'Explainer-NeuroSAT-Sweep' when running a sweep."
      ],
      "text/plain": [
       "<IPython.core.display.HTML object>"
      ]
     },
     "metadata": {},
     "output_type": "display_data"
    },
    {
     "data": {
      "text/html": [
       "Tracking run with wandb version 0.19.8"
      ],
      "text/plain": [
       "<IPython.core.display.HTML object>"
      ]
     },
     "metadata": {},
     "output_type": "display_data"
    },
    {
     "data": {
      "text/html": [
       "Run data is saved locally in <code>c:\\Users\\trist\\Git_repos\\BT-ML-PGESAT\\code\\PGExplainer NeuroSAT\\wandb\\run-20250410_150002-o85lu9me</code>"
      ],
      "text/plain": [
       "<IPython.core.display.HTML object>"
      ]
     },
     "metadata": {},
     "output_type": "display_data"
    },
    {
     "data": {
      "text/html": [
       "Syncing run <strong><a href='https://wandb.ai/tristan-schulz2001-tu-dortmund/Sweep-NeuroSAT-HARD-CONSTRAINT-AUROC/runs/o85lu9me' target=\"_blank\">ethereal-sweep-20</a></strong> to <a href='https://wandb.ai/tristan-schulz2001-tu-dortmund/Sweep-NeuroSAT-HARD-CONSTRAINT-AUROC' target=\"_blank\">Weights & Biases</a> (<a href='https://wandb.me/developer-guide' target=\"_blank\">docs</a>)<br>Sweep page: <a href='https://wandb.ai/tristan-schulz2001-tu-dortmund/Sweep-NeuroSAT-HARD-CONSTRAINT-AUROC/sweeps/1kd67zlb' target=\"_blank\">https://wandb.ai/tristan-schulz2001-tu-dortmund/Sweep-NeuroSAT-HARD-CONSTRAINT-AUROC/sweeps/1kd67zlb</a>"
      ],
      "text/plain": [
       "<IPython.core.display.HTML object>"
      ]
     },
     "metadata": {},
     "output_type": "display_data"
    },
    {
     "data": {
      "text/html": [
       " View project at <a href='https://wandb.ai/tristan-schulz2001-tu-dortmund/Sweep-NeuroSAT-HARD-CONSTRAINT-AUROC' target=\"_blank\">https://wandb.ai/tristan-schulz2001-tu-dortmund/Sweep-NeuroSAT-HARD-CONSTRAINT-AUROC</a>"
      ],
      "text/plain": [
       "<IPython.core.display.HTML object>"
      ]
     },
     "metadata": {},
     "output_type": "display_data"
    },
    {
     "data": {
      "text/html": [
       " View sweep at <a href='https://wandb.ai/tristan-schulz2001-tu-dortmund/Sweep-NeuroSAT-HARD-CONSTRAINT-AUROC/sweeps/1kd67zlb' target=\"_blank\">https://wandb.ai/tristan-schulz2001-tu-dortmund/Sweep-NeuroSAT-HARD-CONSTRAINT-AUROC/sweeps/1kd67zlb</a>"
      ],
      "text/plain": [
       "<IPython.core.display.HTML object>"
      ]
     },
     "metadata": {},
     "output_type": "display_data"
    },
    {
     "data": {
      "text/html": [
       " View run at <a href='https://wandb.ai/tristan-schulz2001-tu-dortmund/Sweep-NeuroSAT-HARD-CONSTRAINT-AUROC/runs/o85lu9me' target=\"_blank\">https://wandb.ai/tristan-schulz2001-tu-dortmund/Sweep-NeuroSAT-HARD-CONSTRAINT-AUROC/runs/o85lu9me</a>"
      ],
      "text/plain": [
       "<IPython.core.display.HTML object>"
      ]
     },
     "metadata": {},
     "output_type": "display_data"
    },
    {
     "name": "stdout",
     "output_type": "stream",
     "text": [
      "Epoch 1, Loss: 8.94115924835205\n",
      "mean auroc score: 0.495727002620697\n",
      "Epoch 2, Loss: 8.896312713623047\n",
      "mean auroc score: 0.4900554120540619\n",
      "Epoch 3, Loss: 8.85793399810791\n",
      "mean auroc score: 0.489479124546051\n",
      "Epoch 4, Loss: 8.806896209716797\n",
      "mean auroc score: 0.4906832277774811\n",
      "Epoch 5, Loss: 8.745784759521484\n",
      "mean auroc score: 0.48798346519470215\n",
      "Epoch 6, Loss: 8.684977531433105\n",
      "mean auroc score: 0.49123236536979675\n",
      "Epoch 7, Loss: 8.616217613220215\n",
      "mean auroc score: 0.4899299144744873\n",
      "Epoch 8, Loss: 8.544012069702148\n",
      "mean auroc score: 0.49179401993751526\n",
      "Epoch 9, Loss: 8.478650093078613\n",
      "mean auroc score: 0.49510303139686584\n"
     ]
    },
    {
     "name": "stderr",
     "output_type": "stream",
     "text": [
      "\u001b[34m\u001b[1mwandb\u001b[0m: Network error (ConnectTimeout), entering retry loop.\n"
     ]
    },
    {
     "name": "stdout",
     "output_type": "stream",
     "text": [
      "Epoch 10, Loss: 8.400385856628418\n",
      "mean auroc score: 0.4966265559196472\n",
      "Epoch 11, Loss: 8.295723915100098\n",
      "mean auroc score: 0.4996052384376526\n",
      "Epoch 12, Loss: 8.217142105102539\n",
      "mean auroc score: 0.5027527213096619\n",
      "Epoch 13, Loss: 8.12111759185791\n",
      "mean auroc score: 0.5040326118469238\n",
      "Epoch 14, Loss: 8.030763626098633\n",
      "mean auroc score: 0.5063643455505371\n",
      "Epoch 15, Loss: 7.8988447189331055\n",
      "mean auroc score: 0.5068769454956055\n",
      "Epoch 16, Loss: 7.759275913238525\n",
      "mean auroc score: 0.5075960755348206\n",
      "Epoch 17, Loss: 7.641514778137207\n",
      "mean auroc score: 0.5090064406394958\n",
      "Epoch 18, Loss: 7.486632347106934\n",
      "mean auroc score: 0.5093822479248047\n",
      "Epoch 19, Loss: 7.320207118988037\n",
      "mean auroc score: 0.5098578333854675\n",
      "Epoch 20, Loss: 7.1616668701171875\n",
      "mean auroc score: 0.5118328928947449\n"
     ]
    },
    {
     "data": {
      "text/html": [],
      "text/plain": [
       "<IPython.core.display.HTML object>"
      ]
     },
     "metadata": {},
     "output_type": "display_data"
    },
    {
     "data": {
      "text/html": [
       "<br>    <style><br>        .wandb-row {<br>            display: flex;<br>            flex-direction: row;<br>            flex-wrap: wrap;<br>            justify-content: flex-start;<br>            width: 100%;<br>        }<br>        .wandb-col {<br>            display: flex;<br>            flex-direction: column;<br>            flex-basis: 100%;<br>            flex: 1;<br>            padding: 10px;<br>        }<br>    </style><br><div class=\"wandb-row\"><div class=\"wandb-col\"><h3>Run history:</h3><br/><table class=\"wandb\"><tr><td>train/Loss</td><td>███▇▇▇▇▆▆▆▅▅▅▄▄▃▃▂▂▁</td></tr><tr><td>val/auroc</td><td>▃▂▁▂▁▂▂▂▃▄▄▅▆▆▇▇▇▇▇█</td></tr><tr><td>val/highest_individual_auroc</td><td>▁</td></tr><tr><td>val/temperature</td><td>█▇▇▆▆▆▅▅▄▄▄▃▃▃▂▂▂▁▁▁</td></tr></table><br/></div><div class=\"wandb-col\"><h3>Run summary:</h3><br/><table class=\"wandb\"><tr><td>train/Loss</td><td>7.16167</td></tr><tr><td>val/auroc</td><td>0.51183</td></tr><tr><td>val/highest_individual_auroc</td><td>0.65249</td></tr><tr><td>val/temperature</td><td>2</td></tr></table><br/></div></div>"
      ],
      "text/plain": [
       "<IPython.core.display.HTML object>"
      ]
     },
     "metadata": {},
     "output_type": "display_data"
    },
    {
     "data": {
      "text/html": [
       " View run <strong style=\"color:#cdcd00\">ethereal-sweep-20</strong> at: <a href='https://wandb.ai/tristan-schulz2001-tu-dortmund/Sweep-NeuroSAT-HARD-CONSTRAINT-AUROC/runs/o85lu9me' target=\"_blank\">https://wandb.ai/tristan-schulz2001-tu-dortmund/Sweep-NeuroSAT-HARD-CONSTRAINT-AUROC/runs/o85lu9me</a><br> View project at: <a href='https://wandb.ai/tristan-schulz2001-tu-dortmund/Sweep-NeuroSAT-HARD-CONSTRAINT-AUROC' target=\"_blank\">https://wandb.ai/tristan-schulz2001-tu-dortmund/Sweep-NeuroSAT-HARD-CONSTRAINT-AUROC</a><br>Synced 5 W&B file(s), 0 media file(s), 0 artifact file(s) and 0 other file(s)"
      ],
      "text/plain": [
       "<IPython.core.display.HTML object>"
      ]
     },
     "metadata": {},
     "output_type": "display_data"
    },
    {
     "data": {
      "text/html": [
       "Find logs at: <code>.\\wandb\\run-20250410_150002-o85lu9me\\logs</code>"
      ],
      "text/plain": [
       "<IPython.core.display.HTML object>"
      ]
     },
     "metadata": {},
     "output_type": "display_data"
    },
    {
     "name": "stderr",
     "output_type": "stream",
     "text": [
      "\u001b[34m\u001b[1mwandb\u001b[0m: Agent Starting Run: vji97etg with config:\n",
      "\u001b[34m\u001b[1mwandb\u001b[0m: \tbce_loss: 0\n",
      "\u001b[34m\u001b[1mwandb\u001b[0m: \tconsistency_reg: 0\n",
      "\u001b[34m\u001b[1mwandb\u001b[0m: \tentropy_reg: 0\n",
      "\u001b[34m\u001b[1mwandb\u001b[0m: \tepochs: 20\n",
      "\u001b[34m\u001b[1mwandb\u001b[0m: \tlr_mlp: 3e-05\n",
      "\u001b[34m\u001b[1mwandb\u001b[0m: \tseed: 74\n",
      "\u001b[34m\u001b[1mwandb\u001b[0m: \tsize_reg: 0.01\n",
      "\u001b[34m\u001b[1mwandb\u001b[0m: \ttT: 1\n"
     ]
    },
    {
     "data": {
      "text/html": [
       "Ignoring project 'Explainer-NeuroSAT-Sweep' when running a sweep."
      ],
      "text/plain": [
       "<IPython.core.display.HTML object>"
      ]
     },
     "metadata": {},
     "output_type": "display_data"
    },
    {
     "data": {
      "text/html": [
       "Tracking run with wandb version 0.19.8"
      ],
      "text/plain": [
       "<IPython.core.display.HTML object>"
      ]
     },
     "metadata": {},
     "output_type": "display_data"
    },
    {
     "data": {
      "text/html": [
       "Run data is saved locally in <code>c:\\Users\\trist\\Git_repos\\BT-ML-PGESAT\\code\\PGExplainer NeuroSAT\\wandb\\run-20250410_151454-vji97etg</code>"
      ],
      "text/plain": [
       "<IPython.core.display.HTML object>"
      ]
     },
     "metadata": {},
     "output_type": "display_data"
    },
    {
     "data": {
      "text/html": [
       "Syncing run <strong><a href='https://wandb.ai/tristan-schulz2001-tu-dortmund/Sweep-NeuroSAT-HARD-CONSTRAINT-AUROC/runs/vji97etg' target=\"_blank\">unique-sweep-21</a></strong> to <a href='https://wandb.ai/tristan-schulz2001-tu-dortmund/Sweep-NeuroSAT-HARD-CONSTRAINT-AUROC' target=\"_blank\">Weights & Biases</a> (<a href='https://wandb.me/developer-guide' target=\"_blank\">docs</a>)<br>Sweep page: <a href='https://wandb.ai/tristan-schulz2001-tu-dortmund/Sweep-NeuroSAT-HARD-CONSTRAINT-AUROC/sweeps/1kd67zlb' target=\"_blank\">https://wandb.ai/tristan-schulz2001-tu-dortmund/Sweep-NeuroSAT-HARD-CONSTRAINT-AUROC/sweeps/1kd67zlb</a>"
      ],
      "text/plain": [
       "<IPython.core.display.HTML object>"
      ]
     },
     "metadata": {},
     "output_type": "display_data"
    },
    {
     "data": {
      "text/html": [
       " View project at <a href='https://wandb.ai/tristan-schulz2001-tu-dortmund/Sweep-NeuroSAT-HARD-CONSTRAINT-AUROC' target=\"_blank\">https://wandb.ai/tristan-schulz2001-tu-dortmund/Sweep-NeuroSAT-HARD-CONSTRAINT-AUROC</a>"
      ],
      "text/plain": [
       "<IPython.core.display.HTML object>"
      ]
     },
     "metadata": {},
     "output_type": "display_data"
    },
    {
     "data": {
      "text/html": [
       " View sweep at <a href='https://wandb.ai/tristan-schulz2001-tu-dortmund/Sweep-NeuroSAT-HARD-CONSTRAINT-AUROC/sweeps/1kd67zlb' target=\"_blank\">https://wandb.ai/tristan-schulz2001-tu-dortmund/Sweep-NeuroSAT-HARD-CONSTRAINT-AUROC/sweeps/1kd67zlb</a>"
      ],
      "text/plain": [
       "<IPython.core.display.HTML object>"
      ]
     },
     "metadata": {},
     "output_type": "display_data"
    },
    {
     "data": {
      "text/html": [
       " View run at <a href='https://wandb.ai/tristan-schulz2001-tu-dortmund/Sweep-NeuroSAT-HARD-CONSTRAINT-AUROC/runs/vji97etg' target=\"_blank\">https://wandb.ai/tristan-schulz2001-tu-dortmund/Sweep-NeuroSAT-HARD-CONSTRAINT-AUROC/runs/vji97etg</a>"
      ],
      "text/plain": [
       "<IPython.core.display.HTML object>"
      ]
     },
     "metadata": {},
     "output_type": "display_data"
    },
    {
     "name": "stdout",
     "output_type": "stream",
     "text": [
      "Epoch 1, Loss: 9.160676956176758\n",
      "mean auroc score: 0.487520694732666\n",
      "Epoch 2, Loss: 9.168009757995605\n",
      "mean auroc score: 0.4898471236228943\n",
      "Epoch 3, Loss: 9.154230117797852\n",
      "mean auroc score: 0.488873690366745\n",
      "Epoch 4, Loss: 9.14024829864502\n",
      "mean auroc score: 0.49097833037376404\n",
      "Epoch 5, Loss: 9.138577461242676\n",
      "mean auroc score: 0.4923509657382965\n",
      "Epoch 6, Loss: 9.11225414276123\n",
      "mean auroc score: 0.4902441203594208\n",
      "Epoch 7, Loss: 9.095291137695312\n",
      "mean auroc score: 0.49233192205429077\n",
      "Epoch 8, Loss: 9.083415031433105\n",
      "mean auroc score: 0.49322834610939026\n",
      "Epoch 9, Loss: 9.035799980163574\n",
      "mean auroc score: 0.4962656497955322\n",
      "Epoch 10, Loss: 9.03386116027832\n",
      "mean auroc score: 0.5027512311935425\n",
      "Epoch 11, Loss: 8.967782974243164\n",
      "mean auroc score: 0.5035571455955505\n",
      "Epoch 12, Loss: 8.958871841430664\n",
      "mean auroc score: 0.5051636099815369\n",
      "Epoch 13, Loss: 8.889864921569824\n",
      "mean auroc score: 0.5115706920623779\n",
      "Epoch 14, Loss: 8.868815422058105\n",
      "mean auroc score: 0.5151985883712769\n",
      "Epoch 15, Loss: 8.815688133239746\n",
      "mean auroc score: 0.5140022039413452\n"
     ]
    },
    {
     "name": "stderr",
     "output_type": "stream",
     "text": [
      "\u001b[34m\u001b[1mwandb\u001b[0m: Network error (ConnectTimeout), entering retry loop.\n"
     ]
    },
    {
     "name": "stdout",
     "output_type": "stream",
     "text": [
      "Epoch 16, Loss: 8.790741920471191\n",
      "mean auroc score: 0.5198402404785156\n",
      "Epoch 17, Loss: 8.75723648071289\n",
      "mean auroc score: 0.5220726728439331\n",
      "Epoch 18, Loss: 8.655056953430176\n",
      "mean auroc score: 0.5241902470588684\n",
      "Epoch 19, Loss: 8.592105865478516\n",
      "mean auroc score: 0.5232473015785217\n",
      "Epoch 20, Loss: 8.64106273651123\n",
      "mean auroc score: 0.5258065462112427\n"
     ]
    },
    {
     "data": {
      "text/html": [],
      "text/plain": [
       "<IPython.core.display.HTML object>"
      ]
     },
     "metadata": {},
     "output_type": "display_data"
    },
    {
     "data": {
      "text/html": [
       "<br>    <style><br>        .wandb-row {<br>            display: flex;<br>            flex-direction: row;<br>            flex-wrap: wrap;<br>            justify-content: flex-start;<br>            width: 100%;<br>        }<br>        .wandb-col {<br>            display: flex;<br>            flex-direction: column;<br>            flex-basis: 100%;<br>            flex: 1;<br>            padding: 10px;<br>        }<br>    </style><br><div class=\"wandb-row\"><div class=\"wandb-col\"><h3>Run history:</h3><br/><table class=\"wandb\"><tr><td>train/Loss</td><td>█████▇▇▇▆▆▆▅▅▄▄▃▃▂▁▂</td></tr><tr><td>val/auroc</td><td>▁▁▁▂▂▁▂▂▃▄▄▄▅▆▆▇▇███</td></tr><tr><td>val/highest_individual_auroc</td><td>▁</td></tr><tr><td>val/temperature</td><td>█▇▇▆▆▅▅▄▄▃▃▃▂▂▂▂▂▁▁▁</td></tr></table><br/></div><div class=\"wandb-col\"><h3>Run summary:</h3><br/><table class=\"wandb\"><tr><td>train/Loss</td><td>8.64106</td></tr><tr><td>val/auroc</td><td>0.52581</td></tr><tr><td>val/highest_individual_auroc</td><td>0.77338</td></tr><tr><td>val/temperature</td><td>1</td></tr></table><br/></div></div>"
      ],
      "text/plain": [
       "<IPython.core.display.HTML object>"
      ]
     },
     "metadata": {},
     "output_type": "display_data"
    },
    {
     "data": {
      "text/html": [
       " View run <strong style=\"color:#cdcd00\">unique-sweep-21</strong> at: <a href='https://wandb.ai/tristan-schulz2001-tu-dortmund/Sweep-NeuroSAT-HARD-CONSTRAINT-AUROC/runs/vji97etg' target=\"_blank\">https://wandb.ai/tristan-schulz2001-tu-dortmund/Sweep-NeuroSAT-HARD-CONSTRAINT-AUROC/runs/vji97etg</a><br> View project at: <a href='https://wandb.ai/tristan-schulz2001-tu-dortmund/Sweep-NeuroSAT-HARD-CONSTRAINT-AUROC' target=\"_blank\">https://wandb.ai/tristan-schulz2001-tu-dortmund/Sweep-NeuroSAT-HARD-CONSTRAINT-AUROC</a><br>Synced 5 W&B file(s), 0 media file(s), 0 artifact file(s) and 0 other file(s)"
      ],
      "text/plain": [
       "<IPython.core.display.HTML object>"
      ]
     },
     "metadata": {},
     "output_type": "display_data"
    },
    {
     "data": {
      "text/html": [
       "Find logs at: <code>.\\wandb\\run-20250410_151454-vji97etg\\logs</code>"
      ],
      "text/plain": [
       "<IPython.core.display.HTML object>"
      ]
     },
     "metadata": {},
     "output_type": "display_data"
    },
    {
     "name": "stderr",
     "output_type": "stream",
     "text": [
      "\u001b[34m\u001b[1mwandb\u001b[0m: Agent Starting Run: od6f4bgw with config:\n",
      "\u001b[34m\u001b[1mwandb\u001b[0m: \tbce_loss: 0\n",
      "\u001b[34m\u001b[1mwandb\u001b[0m: \tconsistency_reg: 0\n",
      "\u001b[34m\u001b[1mwandb\u001b[0m: \tentropy_reg: 0\n",
      "\u001b[34m\u001b[1mwandb\u001b[0m: \tepochs: 20\n",
      "\u001b[34m\u001b[1mwandb\u001b[0m: \tlr_mlp: 3e-05\n",
      "\u001b[34m\u001b[1mwandb\u001b[0m: \tseed: 74\n",
      "\u001b[34m\u001b[1mwandb\u001b[0m: \tsize_reg: 0.01\n",
      "\u001b[34m\u001b[1mwandb\u001b[0m: \ttT: 2\n"
     ]
    },
    {
     "data": {
      "text/html": [
       "Ignoring project 'Explainer-NeuroSAT-Sweep' when running a sweep."
      ],
      "text/plain": [
       "<IPython.core.display.HTML object>"
      ]
     },
     "metadata": {},
     "output_type": "display_data"
    },
    {
     "data": {
      "text/html": [
       "Tracking run with wandb version 0.19.8"
      ],
      "text/plain": [
       "<IPython.core.display.HTML object>"
      ]
     },
     "metadata": {},
     "output_type": "display_data"
    },
    {
     "data": {
      "text/html": [
       "Run data is saved locally in <code>c:\\Users\\trist\\Git_repos\\BT-ML-PGESAT\\code\\PGExplainer NeuroSAT\\wandb\\run-20250410_153018-od6f4bgw</code>"
      ],
      "text/plain": [
       "<IPython.core.display.HTML object>"
      ]
     },
     "metadata": {},
     "output_type": "display_data"
    },
    {
     "data": {
      "text/html": [
       "Syncing run <strong><a href='https://wandb.ai/tristan-schulz2001-tu-dortmund/Sweep-NeuroSAT-HARD-CONSTRAINT-AUROC/runs/od6f4bgw' target=\"_blank\">leafy-sweep-22</a></strong> to <a href='https://wandb.ai/tristan-schulz2001-tu-dortmund/Sweep-NeuroSAT-HARD-CONSTRAINT-AUROC' target=\"_blank\">Weights & Biases</a> (<a href='https://wandb.me/developer-guide' target=\"_blank\">docs</a>)<br>Sweep page: <a href='https://wandb.ai/tristan-schulz2001-tu-dortmund/Sweep-NeuroSAT-HARD-CONSTRAINT-AUROC/sweeps/1kd67zlb' target=\"_blank\">https://wandb.ai/tristan-schulz2001-tu-dortmund/Sweep-NeuroSAT-HARD-CONSTRAINT-AUROC/sweeps/1kd67zlb</a>"
      ],
      "text/plain": [
       "<IPython.core.display.HTML object>"
      ]
     },
     "metadata": {},
     "output_type": "display_data"
    },
    {
     "data": {
      "text/html": [
       " View project at <a href='https://wandb.ai/tristan-schulz2001-tu-dortmund/Sweep-NeuroSAT-HARD-CONSTRAINT-AUROC' target=\"_blank\">https://wandb.ai/tristan-schulz2001-tu-dortmund/Sweep-NeuroSAT-HARD-CONSTRAINT-AUROC</a>"
      ],
      "text/plain": [
       "<IPython.core.display.HTML object>"
      ]
     },
     "metadata": {},
     "output_type": "display_data"
    },
    {
     "data": {
      "text/html": [
       " View sweep at <a href='https://wandb.ai/tristan-schulz2001-tu-dortmund/Sweep-NeuroSAT-HARD-CONSTRAINT-AUROC/sweeps/1kd67zlb' target=\"_blank\">https://wandb.ai/tristan-schulz2001-tu-dortmund/Sweep-NeuroSAT-HARD-CONSTRAINT-AUROC/sweeps/1kd67zlb</a>"
      ],
      "text/plain": [
       "<IPython.core.display.HTML object>"
      ]
     },
     "metadata": {},
     "output_type": "display_data"
    },
    {
     "data": {
      "text/html": [
       " View run at <a href='https://wandb.ai/tristan-schulz2001-tu-dortmund/Sweep-NeuroSAT-HARD-CONSTRAINT-AUROC/runs/od6f4bgw' target=\"_blank\">https://wandb.ai/tristan-schulz2001-tu-dortmund/Sweep-NeuroSAT-HARD-CONSTRAINT-AUROC/runs/od6f4bgw</a>"
      ],
      "text/plain": [
       "<IPython.core.display.HTML object>"
      ]
     },
     "metadata": {},
     "output_type": "display_data"
    },
    {
     "name": "stdout",
     "output_type": "stream",
     "text": [
      "Epoch 1, Loss: 9.153109550476074\n",
      "mean auroc score: 0.4874560236930847\n",
      "Epoch 2, Loss: 9.152517318725586\n",
      "mean auroc score: 0.4898471236228943\n",
      "Epoch 3, Loss: 9.133499145507812\n",
      "mean auroc score: 0.48895344138145447\n",
      "Epoch 4, Loss: 9.115131378173828\n",
      "mean auroc score: 0.49097833037376404\n",
      "Epoch 5, Loss: 9.107651710510254\n",
      "mean auroc score: 0.49231886863708496\n",
      "Epoch 6, Loss: 9.080284118652344\n",
      "mean auroc score: 0.49035075306892395\n",
      "Epoch 7, Loss: 9.062654495239258\n",
      "mean auroc score: 0.4923946261405945\n",
      "Epoch 8, Loss: 9.049546241760254\n",
      "mean auroc score: 0.4927268624305725\n",
      "Epoch 9, Loss: 9.012350082397461\n",
      "mean auroc score: 0.4961073398590088\n",
      "Epoch 10, Loss: 9.00658130645752\n",
      "mean auroc score: 0.5026914477348328\n",
      "Epoch 11, Loss: 8.956535339355469\n",
      "mean auroc score: 0.5040760636329651\n",
      "Epoch 12, Loss: 8.94642162322998\n",
      "mean auroc score: 0.5049037337303162\n",
      "Epoch 13, Loss: 8.90264892578125\n",
      "mean auroc score: 0.5112252235412598\n",
      "Epoch 14, Loss: 8.879971504211426\n",
      "mean auroc score: 0.5167584419250488\n",
      "Epoch 15, Loss: 8.849908828735352\n",
      "mean auroc score: 0.5146554112434387\n",
      "Epoch 16, Loss: 8.829392433166504\n",
      "mean auroc score: 0.5193833708763123\n",
      "Epoch 17, Loss: 8.804512977600098\n",
      "mean auroc score: 0.5216169357299805\n",
      "Epoch 18, Loss: 8.746720314025879\n",
      "mean auroc score: 0.5234772562980652\n",
      "Epoch 19, Loss: 8.721619606018066\n",
      "mean auroc score: 0.5213197469711304\n",
      "Epoch 20, Loss: 8.694647789001465\n",
      "mean auroc score: 0.5245981216430664\n"
     ]
    },
    {
     "data": {
      "text/html": [],
      "text/plain": [
       "<IPython.core.display.HTML object>"
      ]
     },
     "metadata": {},
     "output_type": "display_data"
    },
    {
     "data": {
      "text/html": [
       "<br>    <style><br>        .wandb-row {<br>            display: flex;<br>            flex-direction: row;<br>            flex-wrap: wrap;<br>            justify-content: flex-start;<br>            width: 100%;<br>        }<br>        .wandb-col {<br>            display: flex;<br>            flex-direction: column;<br>            flex-basis: 100%;<br>            flex: 1;<br>            padding: 10px;<br>        }<br>    </style><br><div class=\"wandb-row\"><div class=\"wandb-col\"><h3>Run history:</h3><br/><table class=\"wandb\"><tr><td>train/Loss</td><td>███▇▇▇▇▆▆▆▅▅▄▄▃▃▃▂▁▁</td></tr><tr><td>val/auroc</td><td>▁▁▁▂▂▂▂▂▃▄▄▄▅▇▆▇▇█▇█</td></tr><tr><td>val/highest_individual_auroc</td><td>▁</td></tr><tr><td>val/temperature</td><td>█▇▇▆▆▆▅▅▄▄▄▃▃▃▂▂▂▁▁▁</td></tr></table><br/></div><div class=\"wandb-col\"><h3>Run summary:</h3><br/><table class=\"wandb\"><tr><td>train/Loss</td><td>8.69465</td></tr><tr><td>val/auroc</td><td>0.5246</td></tr><tr><td>val/highest_individual_auroc</td><td>0.77211</td></tr><tr><td>val/temperature</td><td>2</td></tr></table><br/></div></div>"
      ],
      "text/plain": [
       "<IPython.core.display.HTML object>"
      ]
     },
     "metadata": {},
     "output_type": "display_data"
    },
    {
     "data": {
      "text/html": [
       " View run <strong style=\"color:#cdcd00\">leafy-sweep-22</strong> at: <a href='https://wandb.ai/tristan-schulz2001-tu-dortmund/Sweep-NeuroSAT-HARD-CONSTRAINT-AUROC/runs/od6f4bgw' target=\"_blank\">https://wandb.ai/tristan-schulz2001-tu-dortmund/Sweep-NeuroSAT-HARD-CONSTRAINT-AUROC/runs/od6f4bgw</a><br> View project at: <a href='https://wandb.ai/tristan-schulz2001-tu-dortmund/Sweep-NeuroSAT-HARD-CONSTRAINT-AUROC' target=\"_blank\">https://wandb.ai/tristan-schulz2001-tu-dortmund/Sweep-NeuroSAT-HARD-CONSTRAINT-AUROC</a><br>Synced 5 W&B file(s), 0 media file(s), 0 artifact file(s) and 0 other file(s)"
      ],
      "text/plain": [
       "<IPython.core.display.HTML object>"
      ]
     },
     "metadata": {},
     "output_type": "display_data"
    },
    {
     "data": {
      "text/html": [
       "Find logs at: <code>.\\wandb\\run-20250410_153018-od6f4bgw\\logs</code>"
      ],
      "text/plain": [
       "<IPython.core.display.HTML object>"
      ]
     },
     "metadata": {},
     "output_type": "display_data"
    },
    {
     "name": "stderr",
     "output_type": "stream",
     "text": [
      "\u001b[34m\u001b[1mwandb\u001b[0m: Agent Starting Run: znmu7bto with config:\n",
      "\u001b[34m\u001b[1mwandb\u001b[0m: \tbce_loss: 0\n",
      "\u001b[34m\u001b[1mwandb\u001b[0m: \tconsistency_reg: 0\n",
      "\u001b[34m\u001b[1mwandb\u001b[0m: \tentropy_reg: 0\n",
      "\u001b[34m\u001b[1mwandb\u001b[0m: \tepochs: 20\n",
      "\u001b[34m\u001b[1mwandb\u001b[0m: \tlr_mlp: 3e-05\n",
      "\u001b[34m\u001b[1mwandb\u001b[0m: \tseed: 75\n",
      "\u001b[34m\u001b[1mwandb\u001b[0m: \tsize_reg: 0.01\n",
      "\u001b[34m\u001b[1mwandb\u001b[0m: \ttT: 1\n"
     ]
    },
    {
     "data": {
      "text/html": [
       "Ignoring project 'Explainer-NeuroSAT-Sweep' when running a sweep."
      ],
      "text/plain": [
       "<IPython.core.display.HTML object>"
      ]
     },
     "metadata": {},
     "output_type": "display_data"
    },
    {
     "data": {
      "text/html": [
       "Tracking run with wandb version 0.19.8"
      ],
      "text/plain": [
       "<IPython.core.display.HTML object>"
      ]
     },
     "metadata": {},
     "output_type": "display_data"
    },
    {
     "data": {
      "text/html": [
       "Run data is saved locally in <code>c:\\Users\\trist\\Git_repos\\BT-ML-PGESAT\\code\\PGExplainer NeuroSAT\\wandb\\run-20250410_154559-znmu7bto</code>"
      ],
      "text/plain": [
       "<IPython.core.display.HTML object>"
      ]
     },
     "metadata": {},
     "output_type": "display_data"
    },
    {
     "data": {
      "text/html": [
       "Syncing run <strong><a href='https://wandb.ai/tristan-schulz2001-tu-dortmund/Sweep-NeuroSAT-HARD-CONSTRAINT-AUROC/runs/znmu7bto' target=\"_blank\">happy-sweep-23</a></strong> to <a href='https://wandb.ai/tristan-schulz2001-tu-dortmund/Sweep-NeuroSAT-HARD-CONSTRAINT-AUROC' target=\"_blank\">Weights & Biases</a> (<a href='https://wandb.me/developer-guide' target=\"_blank\">docs</a>)<br>Sweep page: <a href='https://wandb.ai/tristan-schulz2001-tu-dortmund/Sweep-NeuroSAT-HARD-CONSTRAINT-AUROC/sweeps/1kd67zlb' target=\"_blank\">https://wandb.ai/tristan-schulz2001-tu-dortmund/Sweep-NeuroSAT-HARD-CONSTRAINT-AUROC/sweeps/1kd67zlb</a>"
      ],
      "text/plain": [
       "<IPython.core.display.HTML object>"
      ]
     },
     "metadata": {},
     "output_type": "display_data"
    },
    {
     "data": {
      "text/html": [
       " View project at <a href='https://wandb.ai/tristan-schulz2001-tu-dortmund/Sweep-NeuroSAT-HARD-CONSTRAINT-AUROC' target=\"_blank\">https://wandb.ai/tristan-schulz2001-tu-dortmund/Sweep-NeuroSAT-HARD-CONSTRAINT-AUROC</a>"
      ],
      "text/plain": [
       "<IPython.core.display.HTML object>"
      ]
     },
     "metadata": {},
     "output_type": "display_data"
    },
    {
     "data": {
      "text/html": [
       " View sweep at <a href='https://wandb.ai/tristan-schulz2001-tu-dortmund/Sweep-NeuroSAT-HARD-CONSTRAINT-AUROC/sweeps/1kd67zlb' target=\"_blank\">https://wandb.ai/tristan-schulz2001-tu-dortmund/Sweep-NeuroSAT-HARD-CONSTRAINT-AUROC/sweeps/1kd67zlb</a>"
      ],
      "text/plain": [
       "<IPython.core.display.HTML object>"
      ]
     },
     "metadata": {},
     "output_type": "display_data"
    },
    {
     "data": {
      "text/html": [
       " View run at <a href='https://wandb.ai/tristan-schulz2001-tu-dortmund/Sweep-NeuroSAT-HARD-CONSTRAINT-AUROC/runs/znmu7bto' target=\"_blank\">https://wandb.ai/tristan-schulz2001-tu-dortmund/Sweep-NeuroSAT-HARD-CONSTRAINT-AUROC/runs/znmu7bto</a>"
      ],
      "text/plain": [
       "<IPython.core.display.HTML object>"
      ]
     },
     "metadata": {},
     "output_type": "display_data"
    },
    {
     "name": "stdout",
     "output_type": "stream",
     "text": [
      "Epoch 1, Loss: 8.941617012023926\n",
      "mean auroc score: 0.5006551146507263\n",
      "Epoch 2, Loss: 8.926812171936035\n",
      "mean auroc score: 0.497092604637146\n",
      "Epoch 3, Loss: 8.9215726852417\n",
      "mean auroc score: 0.49549561738967896\n",
      "Epoch 4, Loss: 8.905929565429688\n",
      "mean auroc score: 0.49625787138938904\n",
      "Epoch 5, Loss: 8.881692886352539\n",
      "mean auroc score: 0.4932652711868286\n",
      "Epoch 6, Loss: 8.859960556030273\n",
      "mean auroc score: 0.4905272126197815\n",
      "Epoch 7, Loss: 8.831704139709473\n",
      "mean auroc score: 0.4886760115623474\n",
      "Epoch 8, Loss: 8.804412841796875\n",
      "mean auroc score: 0.48807084560394287\n",
      "Epoch 9, Loss: 8.786592483520508\n",
      "mean auroc score: 0.48841872811317444\n",
      "Epoch 10, Loss: 8.748559951782227\n",
      "mean auroc score: 0.489963561296463\n",
      "Epoch 11, Loss: 8.684247016906738\n",
      "mean auroc score: 0.48981866240501404\n",
      "Epoch 12, Loss: 8.656776428222656\n",
      "mean auroc score: 0.48884841799736023\n",
      "Epoch 13, Loss: 8.61847972869873\n",
      "mean auroc score: 0.4911445081233978\n",
      "Epoch 14, Loss: 8.596494674682617\n",
      "mean auroc score: 0.4890257716178894\n",
      "Epoch 15, Loss: 8.508337020874023\n",
      "mean auroc score: 0.4889630377292633\n",
      "Epoch 16, Loss: 8.42561149597168\n",
      "mean auroc score: 0.488371878862381\n",
      "Epoch 17, Loss: 8.398256301879883\n",
      "mean auroc score: 0.4894699156284332\n",
      "Epoch 18, Loss: 8.322393417358398\n",
      "mean auroc score: 0.4899385869503021\n",
      "Epoch 19, Loss: 8.240503311157227\n",
      "mean auroc score: 0.49052342772483826\n",
      "Epoch 20, Loss: 8.16186809539795\n",
      "mean auroc score: 0.49117565155029297\n"
     ]
    },
    {
     "data": {
      "text/html": [],
      "text/plain": [
       "<IPython.core.display.HTML object>"
      ]
     },
     "metadata": {},
     "output_type": "display_data"
    },
    {
     "data": {
      "text/html": [
       "<br>    <style><br>        .wandb-row {<br>            display: flex;<br>            flex-direction: row;<br>            flex-wrap: wrap;<br>            justify-content: flex-start;<br>            width: 100%;<br>        }<br>        .wandb-col {<br>            display: flex;<br>            flex-direction: column;<br>            flex-basis: 100%;<br>            flex: 1;<br>            padding: 10px;<br>        }<br>    </style><br><div class=\"wandb-row\"><div class=\"wandb-col\"><h3>Run history:</h3><br/><table class=\"wandb\"><tr><td>train/Loss</td><td>████▇▇▇▇▇▆▆▅▅▅▄▃▃▂▂▁</td></tr><tr><td>val/auroc</td><td>█▆▅▆▄▂▁▁▁▂▂▁▃▂▁▁▂▂▂▃</td></tr><tr><td>val/highest_individual_auroc</td><td>▁</td></tr><tr><td>val/temperature</td><td>█▇▇▆▆▅▅▄▄▃▃▃▂▂▂▂▂▁▁▁</td></tr></table><br/></div><div class=\"wandb-col\"><h3>Run summary:</h3><br/><table class=\"wandb\"><tr><td>train/Loss</td><td>8.16187</td></tr><tr><td>val/auroc</td><td>0.49118</td></tr><tr><td>val/highest_individual_auroc</td><td>0.63425</td></tr><tr><td>val/temperature</td><td>1</td></tr></table><br/></div></div>"
      ],
      "text/plain": [
       "<IPython.core.display.HTML object>"
      ]
     },
     "metadata": {},
     "output_type": "display_data"
    },
    {
     "data": {
      "text/html": [
       " View run <strong style=\"color:#cdcd00\">happy-sweep-23</strong> at: <a href='https://wandb.ai/tristan-schulz2001-tu-dortmund/Sweep-NeuroSAT-HARD-CONSTRAINT-AUROC/runs/znmu7bto' target=\"_blank\">https://wandb.ai/tristan-schulz2001-tu-dortmund/Sweep-NeuroSAT-HARD-CONSTRAINT-AUROC/runs/znmu7bto</a><br> View project at: <a href='https://wandb.ai/tristan-schulz2001-tu-dortmund/Sweep-NeuroSAT-HARD-CONSTRAINT-AUROC' target=\"_blank\">https://wandb.ai/tristan-schulz2001-tu-dortmund/Sweep-NeuroSAT-HARD-CONSTRAINT-AUROC</a><br>Synced 5 W&B file(s), 0 media file(s), 0 artifact file(s) and 0 other file(s)"
      ],
      "text/plain": [
       "<IPython.core.display.HTML object>"
      ]
     },
     "metadata": {},
     "output_type": "display_data"
    },
    {
     "data": {
      "text/html": [
       "Find logs at: <code>.\\wandb\\run-20250410_154559-znmu7bto\\logs</code>"
      ],
      "text/plain": [
       "<IPython.core.display.HTML object>"
      ]
     },
     "metadata": {},
     "output_type": "display_data"
    },
    {
     "name": "stderr",
     "output_type": "stream",
     "text": [
      "\u001b[34m\u001b[1mwandb\u001b[0m: Agent Starting Run: ub3p5emn with config:\n",
      "\u001b[34m\u001b[1mwandb\u001b[0m: \tbce_loss: 0\n",
      "\u001b[34m\u001b[1mwandb\u001b[0m: \tconsistency_reg: 0\n",
      "\u001b[34m\u001b[1mwandb\u001b[0m: \tentropy_reg: 0\n",
      "\u001b[34m\u001b[1mwandb\u001b[0m: \tepochs: 20\n",
      "\u001b[34m\u001b[1mwandb\u001b[0m: \tlr_mlp: 3e-05\n",
      "\u001b[34m\u001b[1mwandb\u001b[0m: \tseed: 75\n",
      "\u001b[34m\u001b[1mwandb\u001b[0m: \tsize_reg: 0.01\n",
      "\u001b[34m\u001b[1mwandb\u001b[0m: \ttT: 2\n"
     ]
    },
    {
     "data": {
      "text/html": [
       "Ignoring project 'Explainer-NeuroSAT-Sweep' when running a sweep."
      ],
      "text/plain": [
       "<IPython.core.display.HTML object>"
      ]
     },
     "metadata": {},
     "output_type": "display_data"
    },
    {
     "data": {
      "text/html": [
       "Tracking run with wandb version 0.19.8"
      ],
      "text/plain": [
       "<IPython.core.display.HTML object>"
      ]
     },
     "metadata": {},
     "output_type": "display_data"
    },
    {
     "data": {
      "text/html": [
       "Run data is saved locally in <code>c:\\Users\\trist\\Git_repos\\BT-ML-PGESAT\\code\\PGExplainer NeuroSAT\\wandb\\run-20250410_160220-ub3p5emn</code>"
      ],
      "text/plain": [
       "<IPython.core.display.HTML object>"
      ]
     },
     "metadata": {},
     "output_type": "display_data"
    },
    {
     "data": {
      "text/html": [
       "Syncing run <strong><a href='https://wandb.ai/tristan-schulz2001-tu-dortmund/Sweep-NeuroSAT-HARD-CONSTRAINT-AUROC/runs/ub3p5emn' target=\"_blank\">skilled-sweep-24</a></strong> to <a href='https://wandb.ai/tristan-schulz2001-tu-dortmund/Sweep-NeuroSAT-HARD-CONSTRAINT-AUROC' target=\"_blank\">Weights & Biases</a> (<a href='https://wandb.me/developer-guide' target=\"_blank\">docs</a>)<br>Sweep page: <a href='https://wandb.ai/tristan-schulz2001-tu-dortmund/Sweep-NeuroSAT-HARD-CONSTRAINT-AUROC/sweeps/1kd67zlb' target=\"_blank\">https://wandb.ai/tristan-schulz2001-tu-dortmund/Sweep-NeuroSAT-HARD-CONSTRAINT-AUROC/sweeps/1kd67zlb</a>"
      ],
      "text/plain": [
       "<IPython.core.display.HTML object>"
      ]
     },
     "metadata": {},
     "output_type": "display_data"
    },
    {
     "data": {
      "text/html": [
       " View project at <a href='https://wandb.ai/tristan-schulz2001-tu-dortmund/Sweep-NeuroSAT-HARD-CONSTRAINT-AUROC' target=\"_blank\">https://wandb.ai/tristan-schulz2001-tu-dortmund/Sweep-NeuroSAT-HARD-CONSTRAINT-AUROC</a>"
      ],
      "text/plain": [
       "<IPython.core.display.HTML object>"
      ]
     },
     "metadata": {},
     "output_type": "display_data"
    },
    {
     "data": {
      "text/html": [
       " View sweep at <a href='https://wandb.ai/tristan-schulz2001-tu-dortmund/Sweep-NeuroSAT-HARD-CONSTRAINT-AUROC/sweeps/1kd67zlb' target=\"_blank\">https://wandb.ai/tristan-schulz2001-tu-dortmund/Sweep-NeuroSAT-HARD-CONSTRAINT-AUROC/sweeps/1kd67zlb</a>"
      ],
      "text/plain": [
       "<IPython.core.display.HTML object>"
      ]
     },
     "metadata": {},
     "output_type": "display_data"
    },
    {
     "data": {
      "text/html": [
       " View run at <a href='https://wandb.ai/tristan-schulz2001-tu-dortmund/Sweep-NeuroSAT-HARD-CONSTRAINT-AUROC/runs/ub3p5emn' target=\"_blank\">https://wandb.ai/tristan-schulz2001-tu-dortmund/Sweep-NeuroSAT-HARD-CONSTRAINT-AUROC/runs/ub3p5emn</a>"
      ],
      "text/plain": [
       "<IPython.core.display.HTML object>"
      ]
     },
     "metadata": {},
     "output_type": "display_data"
    },
    {
     "name": "stdout",
     "output_type": "stream",
     "text": [
      "Epoch 1, Loss: 8.94115924835205\n",
      "mean auroc score: 0.5006551146507263\n",
      "Epoch 2, Loss: 8.926607131958008\n",
      "mean auroc score: 0.497092604637146\n",
      "Epoch 3, Loss: 8.921979904174805\n",
      "mean auroc score: 0.49549561738967896\n",
      "Epoch 4, Loss: 8.90823745727539\n",
      "mean auroc score: 0.49625787138938904\n",
      "Epoch 5, Loss: 8.887090682983398\n",
      "mean auroc score: 0.4932652711868286\n",
      "Epoch 6, Loss: 8.871317863464355\n",
      "mean auroc score: 0.4906492829322815\n",
      "Epoch 7, Loss: 8.849047660827637\n",
      "mean auroc score: 0.4890878200531006\n",
      "Epoch 8, Loss: 8.825712203979492\n",
      "mean auroc score: 0.4884850084781647\n",
      "Epoch 9, Loss: 8.815145492553711\n",
      "mean auroc score: 0.48869019746780396\n",
      "Epoch 10, Loss: 8.787847518920898\n",
      "mean auroc score: 0.489568829536438\n",
      "Epoch 11, Loss: 8.746679306030273\n",
      "mean auroc score: 0.48990902304649353\n",
      "Epoch 12, Loss: 8.730499267578125\n",
      "mean auroc score: 0.4887602627277374\n",
      "Epoch 13, Loss: 8.702570915222168\n",
      "mean auroc score: 0.49063101410865784\n",
      "Epoch 14, Loss: 8.690164566040039\n",
      "mean auroc score: 0.4893478453159332\n",
      "Epoch 15, Loss: 8.631532669067383\n",
      "mean auroc score: 0.4895190894603729\n",
      "Epoch 16, Loss: 8.589303970336914\n",
      "mean auroc score: 0.48777449131011963\n",
      "Epoch 17, Loss: 8.569009780883789\n",
      "mean auroc score: 0.489185094833374\n",
      "Epoch 18, Loss: 8.518086433410645\n",
      "mean auroc score: 0.4896374046802521\n",
      "Epoch 19, Loss: 8.468008995056152\n",
      "mean auroc score: 0.490017831325531\n",
      "Epoch 20, Loss: 8.4324312210083\n",
      "mean auroc score: 0.49150049686431885\n"
     ]
    },
    {
     "data": {
      "text/html": [],
      "text/plain": [
       "<IPython.core.display.HTML object>"
      ]
     },
     "metadata": {},
     "output_type": "display_data"
    },
    {
     "data": {
      "text/html": [
       "<br>    <style><br>        .wandb-row {<br>            display: flex;<br>            flex-direction: row;<br>            flex-wrap: wrap;<br>            justify-content: flex-start;<br>            width: 100%;<br>        }<br>        .wandb-col {<br>            display: flex;<br>            flex-direction: column;<br>            flex-basis: 100%;<br>            flex: 1;<br>            padding: 10px;<br>        }<br>    </style><br><div class=\"wandb-row\"><div class=\"wandb-col\"><h3>Run history:</h3><br/><table class=\"wandb\"><tr><td>train/Loss</td><td>████▇▇▇▆▆▆▅▅▅▅▄▃▃▂▁▁</td></tr><tr><td>val/auroc</td><td>█▆▅▆▄▃▂▁▁▂▂▂▃▂▂▁▂▂▂▃</td></tr><tr><td>val/highest_individual_auroc</td><td>▁</td></tr><tr><td>val/temperature</td><td>█▇▇▆▆▆▅▅▄▄▄▃▃▃▂▂▂▁▁▁</td></tr></table><br/></div><div class=\"wandb-col\"><h3>Run summary:</h3><br/><table class=\"wandb\"><tr><td>train/Loss</td><td>8.43243</td></tr><tr><td>val/auroc</td><td>0.4915</td></tr><tr><td>val/highest_individual_auroc</td><td>0.63425</td></tr><tr><td>val/temperature</td><td>2</td></tr></table><br/></div></div>"
      ],
      "text/plain": [
       "<IPython.core.display.HTML object>"
      ]
     },
     "metadata": {},
     "output_type": "display_data"
    },
    {
     "data": {
      "text/html": [
       " View run <strong style=\"color:#cdcd00\">skilled-sweep-24</strong> at: <a href='https://wandb.ai/tristan-schulz2001-tu-dortmund/Sweep-NeuroSAT-HARD-CONSTRAINT-AUROC/runs/ub3p5emn' target=\"_blank\">https://wandb.ai/tristan-schulz2001-tu-dortmund/Sweep-NeuroSAT-HARD-CONSTRAINT-AUROC/runs/ub3p5emn</a><br> View project at: <a href='https://wandb.ai/tristan-schulz2001-tu-dortmund/Sweep-NeuroSAT-HARD-CONSTRAINT-AUROC' target=\"_blank\">https://wandb.ai/tristan-schulz2001-tu-dortmund/Sweep-NeuroSAT-HARD-CONSTRAINT-AUROC</a><br>Synced 5 W&B file(s), 0 media file(s), 0 artifact file(s) and 0 other file(s)"
      ],
      "text/plain": [
       "<IPython.core.display.HTML object>"
      ]
     },
     "metadata": {},
     "output_type": "display_data"
    },
    {
     "data": {
      "text/html": [
       "Find logs at: <code>.\\wandb\\run-20250410_160220-ub3p5emn\\logs</code>"
      ],
      "text/plain": [
       "<IPython.core.display.HTML object>"
      ]
     },
     "metadata": {},
     "output_type": "display_data"
    },
    {
     "name": "stderr",
     "output_type": "stream",
     "text": [
      "\u001b[34m\u001b[1mwandb\u001b[0m: Agent Starting Run: hv112i0u with config:\n",
      "\u001b[34m\u001b[1mwandb\u001b[0m: \tbce_loss: 0\n",
      "\u001b[34m\u001b[1mwandb\u001b[0m: \tconsistency_reg: 0\n",
      "\u001b[34m\u001b[1mwandb\u001b[0m: \tentropy_reg: 5\n",
      "\u001b[34m\u001b[1mwandb\u001b[0m: \tepochs: 20\n",
      "\u001b[34m\u001b[1mwandb\u001b[0m: \tlr_mlp: 0.0001\n",
      "\u001b[34m\u001b[1mwandb\u001b[0m: \tseed: 74\n",
      "\u001b[34m\u001b[1mwandb\u001b[0m: \tsize_reg: 0.01\n",
      "\u001b[34m\u001b[1mwandb\u001b[0m: \ttT: 1\n"
     ]
    },
    {
     "data": {
      "text/html": [
       "Ignoring project 'Explainer-NeuroSAT-Sweep' when running a sweep."
      ],
      "text/plain": [
       "<IPython.core.display.HTML object>"
      ]
     },
     "metadata": {},
     "output_type": "display_data"
    },
    {
     "data": {
      "text/html": [
       "Tracking run with wandb version 0.19.8"
      ],
      "text/plain": [
       "<IPython.core.display.HTML object>"
      ]
     },
     "metadata": {},
     "output_type": "display_data"
    },
    {
     "data": {
      "text/html": [
       "Run data is saved locally in <code>c:\\Users\\trist\\Git_repos\\BT-ML-PGESAT\\code\\PGExplainer NeuroSAT\\wandb\\run-20250410_161730-hv112i0u</code>"
      ],
      "text/plain": [
       "<IPython.core.display.HTML object>"
      ]
     },
     "metadata": {},
     "output_type": "display_data"
    },
    {
     "data": {
      "text/html": [
       "Syncing run <strong><a href='https://wandb.ai/tristan-schulz2001-tu-dortmund/Sweep-NeuroSAT-HARD-CONSTRAINT-AUROC/runs/hv112i0u' target=\"_blank\">graceful-sweep-25</a></strong> to <a href='https://wandb.ai/tristan-schulz2001-tu-dortmund/Sweep-NeuroSAT-HARD-CONSTRAINT-AUROC' target=\"_blank\">Weights & Biases</a> (<a href='https://wandb.me/developer-guide' target=\"_blank\">docs</a>)<br>Sweep page: <a href='https://wandb.ai/tristan-schulz2001-tu-dortmund/Sweep-NeuroSAT-HARD-CONSTRAINT-AUROC/sweeps/1kd67zlb' target=\"_blank\">https://wandb.ai/tristan-schulz2001-tu-dortmund/Sweep-NeuroSAT-HARD-CONSTRAINT-AUROC/sweeps/1kd67zlb</a>"
      ],
      "text/plain": [
       "<IPython.core.display.HTML object>"
      ]
     },
     "metadata": {},
     "output_type": "display_data"
    },
    {
     "data": {
      "text/html": [
       " View project at <a href='https://wandb.ai/tristan-schulz2001-tu-dortmund/Sweep-NeuroSAT-HARD-CONSTRAINT-AUROC' target=\"_blank\">https://wandb.ai/tristan-schulz2001-tu-dortmund/Sweep-NeuroSAT-HARD-CONSTRAINT-AUROC</a>"
      ],
      "text/plain": [
       "<IPython.core.display.HTML object>"
      ]
     },
     "metadata": {},
     "output_type": "display_data"
    },
    {
     "data": {
      "text/html": [
       " View sweep at <a href='https://wandb.ai/tristan-schulz2001-tu-dortmund/Sweep-NeuroSAT-HARD-CONSTRAINT-AUROC/sweeps/1kd67zlb' target=\"_blank\">https://wandb.ai/tristan-schulz2001-tu-dortmund/Sweep-NeuroSAT-HARD-CONSTRAINT-AUROC/sweeps/1kd67zlb</a>"
      ],
      "text/plain": [
       "<IPython.core.display.HTML object>"
      ]
     },
     "metadata": {},
     "output_type": "display_data"
    },
    {
     "data": {
      "text/html": [
       " View run at <a href='https://wandb.ai/tristan-schulz2001-tu-dortmund/Sweep-NeuroSAT-HARD-CONSTRAINT-AUROC/runs/hv112i0u' target=\"_blank\">https://wandb.ai/tristan-schulz2001-tu-dortmund/Sweep-NeuroSAT-HARD-CONSTRAINT-AUROC/runs/hv112i0u</a>"
      ],
      "text/plain": [
       "<IPython.core.display.HTML object>"
      ]
     },
     "metadata": {},
     "output_type": "display_data"
    },
    {
     "name": "stdout",
     "output_type": "stream",
     "text": [
      "Epoch 1, Loss: 10.004037857055664\n",
      "mean auroc score: 0.4891628623008728\n",
      "Epoch 2, Loss: 9.953716278076172\n",
      "mean auroc score: 0.490462064743042\n",
      "Epoch 3, Loss: 9.874677658081055\n",
      "mean auroc score: 0.5019503235816956\n",
      "Epoch 4, Loss: 9.790657997131348\n",
      "mean auroc score: 0.5136950016021729\n",
      "Epoch 5, Loss: 9.72154712677002\n",
      "mean auroc score: 0.5190628170967102\n",
      "Epoch 6, Loss: 9.632292747497559\n",
      "mean auroc score: 0.5238277912139893\n",
      "Epoch 7, Loss: 9.560552597045898\n",
      "mean auroc score: 0.5248551964759827\n",
      "Epoch 8, Loss: 9.4986572265625\n",
      "mean auroc score: 0.527639627456665\n",
      "Epoch 9, Loss: 9.394063949584961\n",
      "mean auroc score: 0.5281552672386169\n",
      "Epoch 10, Loss: 9.339085578918457\n",
      "mean auroc score: 0.5252689123153687\n",
      "Epoch 11, Loss: 9.203106880187988\n",
      "mean auroc score: 0.5261321067810059\n",
      "Epoch 12, Loss: 9.129940032958984\n",
      "mean auroc score: 0.532546877861023\n",
      "Epoch 13, Loss: 8.974796295166016\n",
      "mean auroc score: 0.5341784954071045\n",
      "Epoch 14, Loss: 8.864551544189453\n",
      "mean auroc score: 0.5352891683578491\n",
      "Epoch 15, Loss: 8.715421676635742\n",
      "mean auroc score: 0.5397708415985107\n",
      "Epoch 16, Loss: 8.571969985961914\n",
      "mean auroc score: 0.5381509065628052\n",
      "Epoch 17, Loss: 8.418834686279297\n",
      "mean auroc score: 0.5371243953704834\n",
      "Epoch 18, Loss: 8.17789077758789\n",
      "mean auroc score: 0.5344482660293579\n",
      "Epoch 19, Loss: 7.971099853515625\n",
      "mean auroc score: 0.5349264144897461\n",
      "Epoch 20, Loss: 7.8491716384887695\n",
      "mean auroc score: 0.5348127484321594\n"
     ]
    },
    {
     "data": {
      "text/html": [],
      "text/plain": [
       "<IPython.core.display.HTML object>"
      ]
     },
     "metadata": {},
     "output_type": "display_data"
    },
    {
     "data": {
      "text/html": [
       "<br>    <style><br>        .wandb-row {<br>            display: flex;<br>            flex-direction: row;<br>            flex-wrap: wrap;<br>            justify-content: flex-start;<br>            width: 100%;<br>        }<br>        .wandb-col {<br>            display: flex;<br>            flex-direction: column;<br>            flex-basis: 100%;<br>            flex: 1;<br>            padding: 10px;<br>        }<br>    </style><br><div class=\"wandb-row\"><div class=\"wandb-col\"><h3>Run history:</h3><br/><table class=\"wandb\"><tr><td>train/Loss</td><td>███▇▇▇▇▆▆▆▅▅▅▄▄▃▃▂▁▁</td></tr><tr><td>val/auroc</td><td>▁▁▃▄▅▆▆▆▆▆▆▇▇▇███▇▇▇</td></tr><tr><td>val/highest_individual_auroc</td><td>▁</td></tr><tr><td>val/temperature</td><td>█▇▇▆▆▅▅▄▄▃▃▃▂▂▂▂▂▁▁▁</td></tr></table><br/></div><div class=\"wandb-col\"><h3>Run summary:</h3><br/><table class=\"wandb\"><tr><td>train/Loss</td><td>7.84917</td></tr><tr><td>val/auroc</td><td>0.53481</td></tr><tr><td>val/highest_individual_auroc</td><td>0.74986</td></tr><tr><td>val/temperature</td><td>1</td></tr></table><br/></div></div>"
      ],
      "text/plain": [
       "<IPython.core.display.HTML object>"
      ]
     },
     "metadata": {},
     "output_type": "display_data"
    },
    {
     "data": {
      "text/html": [
       " View run <strong style=\"color:#cdcd00\">graceful-sweep-25</strong> at: <a href='https://wandb.ai/tristan-schulz2001-tu-dortmund/Sweep-NeuroSAT-HARD-CONSTRAINT-AUROC/runs/hv112i0u' target=\"_blank\">https://wandb.ai/tristan-schulz2001-tu-dortmund/Sweep-NeuroSAT-HARD-CONSTRAINT-AUROC/runs/hv112i0u</a><br> View project at: <a href='https://wandb.ai/tristan-schulz2001-tu-dortmund/Sweep-NeuroSAT-HARD-CONSTRAINT-AUROC' target=\"_blank\">https://wandb.ai/tristan-schulz2001-tu-dortmund/Sweep-NeuroSAT-HARD-CONSTRAINT-AUROC</a><br>Synced 5 W&B file(s), 0 media file(s), 0 artifact file(s) and 0 other file(s)"
      ],
      "text/plain": [
       "<IPython.core.display.HTML object>"
      ]
     },
     "metadata": {},
     "output_type": "display_data"
    },
    {
     "data": {
      "text/html": [
       "Find logs at: <code>.\\wandb\\run-20250410_161730-hv112i0u\\logs</code>"
      ],
      "text/plain": [
       "<IPython.core.display.HTML object>"
      ]
     },
     "metadata": {},
     "output_type": "display_data"
    },
    {
     "name": "stderr",
     "output_type": "stream",
     "text": [
      "\u001b[34m\u001b[1mwandb\u001b[0m: Agent Starting Run: 2tp48wdl with config:\n",
      "\u001b[34m\u001b[1mwandb\u001b[0m: \tbce_loss: 0\n",
      "\u001b[34m\u001b[1mwandb\u001b[0m: \tconsistency_reg: 0\n",
      "\u001b[34m\u001b[1mwandb\u001b[0m: \tentropy_reg: 5\n",
      "\u001b[34m\u001b[1mwandb\u001b[0m: \tepochs: 20\n",
      "\u001b[34m\u001b[1mwandb\u001b[0m: \tlr_mlp: 0.0001\n",
      "\u001b[34m\u001b[1mwandb\u001b[0m: \tseed: 74\n",
      "\u001b[34m\u001b[1mwandb\u001b[0m: \tsize_reg: 0.01\n",
      "\u001b[34m\u001b[1mwandb\u001b[0m: \ttT: 2\n"
     ]
    },
    {
     "data": {
      "text/html": [
       "Ignoring project 'Explainer-NeuroSAT-Sweep' when running a sweep."
      ],
      "text/plain": [
       "<IPython.core.display.HTML object>"
      ]
     },
     "metadata": {},
     "output_type": "display_data"
    },
    {
     "data": {
      "text/html": [
       "Tracking run with wandb version 0.19.8"
      ],
      "text/plain": [
       "<IPython.core.display.HTML object>"
      ]
     },
     "metadata": {},
     "output_type": "display_data"
    },
    {
     "data": {
      "text/html": [
       "Run data is saved locally in <code>c:\\Users\\trist\\Git_repos\\BT-ML-PGESAT\\code\\PGExplainer NeuroSAT\\wandb\\run-20250410_163245-2tp48wdl</code>"
      ],
      "text/plain": [
       "<IPython.core.display.HTML object>"
      ]
     },
     "metadata": {},
     "output_type": "display_data"
    },
    {
     "data": {
      "text/html": [
       "Syncing run <strong><a href='https://wandb.ai/tristan-schulz2001-tu-dortmund/Sweep-NeuroSAT-HARD-CONSTRAINT-AUROC/runs/2tp48wdl' target=\"_blank\">earthy-sweep-26</a></strong> to <a href='https://wandb.ai/tristan-schulz2001-tu-dortmund/Sweep-NeuroSAT-HARD-CONSTRAINT-AUROC' target=\"_blank\">Weights & Biases</a> (<a href='https://wandb.me/developer-guide' target=\"_blank\">docs</a>)<br>Sweep page: <a href='https://wandb.ai/tristan-schulz2001-tu-dortmund/Sweep-NeuroSAT-HARD-CONSTRAINT-AUROC/sweeps/1kd67zlb' target=\"_blank\">https://wandb.ai/tristan-schulz2001-tu-dortmund/Sweep-NeuroSAT-HARD-CONSTRAINT-AUROC/sweeps/1kd67zlb</a>"
      ],
      "text/plain": [
       "<IPython.core.display.HTML object>"
      ]
     },
     "metadata": {},
     "output_type": "display_data"
    },
    {
     "data": {
      "text/html": [
       " View project at <a href='https://wandb.ai/tristan-schulz2001-tu-dortmund/Sweep-NeuroSAT-HARD-CONSTRAINT-AUROC' target=\"_blank\">https://wandb.ai/tristan-schulz2001-tu-dortmund/Sweep-NeuroSAT-HARD-CONSTRAINT-AUROC</a>"
      ],
      "text/plain": [
       "<IPython.core.display.HTML object>"
      ]
     },
     "metadata": {},
     "output_type": "display_data"
    },
    {
     "data": {
      "text/html": [
       " View sweep at <a href='https://wandb.ai/tristan-schulz2001-tu-dortmund/Sweep-NeuroSAT-HARD-CONSTRAINT-AUROC/sweeps/1kd67zlb' target=\"_blank\">https://wandb.ai/tristan-schulz2001-tu-dortmund/Sweep-NeuroSAT-HARD-CONSTRAINT-AUROC/sweeps/1kd67zlb</a>"
      ],
      "text/plain": [
       "<IPython.core.display.HTML object>"
      ]
     },
     "metadata": {},
     "output_type": "display_data"
    },
    {
     "data": {
      "text/html": [
       " View run at <a href='https://wandb.ai/tristan-schulz2001-tu-dortmund/Sweep-NeuroSAT-HARD-CONSTRAINT-AUROC/runs/2tp48wdl' target=\"_blank\">https://wandb.ai/tristan-schulz2001-tu-dortmund/Sweep-NeuroSAT-HARD-CONSTRAINT-AUROC/runs/2tp48wdl</a>"
      ],
      "text/plain": [
       "<IPython.core.display.HTML object>"
      ]
     },
     "metadata": {},
     "output_type": "display_data"
    },
    {
     "name": "stdout",
     "output_type": "stream",
     "text": [
      "Epoch 1, Loss: 9.99791431427002\n",
      "mean auroc score: 0.4891628623008728\n",
      "Epoch 2, Loss: 9.944795608520508\n",
      "mean auroc score: 0.490462064743042\n",
      "Epoch 3, Loss: 9.869760513305664\n",
      "mean auroc score: 0.5014970302581787\n",
      "Epoch 4, Loss: 9.794839859008789\n",
      "mean auroc score: 0.5133092403411865\n",
      "Epoch 5, Loss: 9.736604690551758\n",
      "mean auroc score: 0.5193172693252563\n",
      "Epoch 6, Loss: 9.665790557861328\n",
      "mean auroc score: 0.5240538120269775\n",
      "Epoch 7, Loss: 9.613348007202148\n",
      "mean auroc score: 0.5253211855888367\n",
      "Epoch 8, Loss: 9.570550918579102\n",
      "mean auroc score: 0.5278806686401367\n",
      "Epoch 9, Loss: 9.502501487731934\n",
      "mean auroc score: 0.5286841988563538\n",
      "Epoch 10, Loss: 9.468446731567383\n",
      "mean auroc score: 0.5262126922607422\n",
      "Epoch 11, Loss: 9.382489204406738\n",
      "mean auroc score: 0.5250024795532227\n",
      "Epoch 12, Loss: 9.338171005249023\n",
      "mean auroc score: 0.5329347252845764\n",
      "Epoch 13, Loss: 9.25090217590332\n",
      "mean auroc score: 0.535435140132904\n",
      "Epoch 14, Loss: 9.184406280517578\n",
      "mean auroc score: 0.5348867177963257\n",
      "Epoch 15, Loss: 9.09996223449707\n",
      "mean auroc score: 0.538549542427063\n",
      "Epoch 16, Loss: 9.022333145141602\n",
      "mean auroc score: 0.540248692035675\n",
      "Epoch 17, Loss: 8.933263778686523\n",
      "mean auroc score: 0.5375886559486389\n",
      "Epoch 18, Loss: 8.796350479125977\n",
      "mean auroc score: 0.5350207090377808\n",
      "Epoch 19, Loss: 8.693585395812988\n",
      "mean auroc score: 0.534825325012207\n",
      "Epoch 20, Loss: 8.579336166381836\n",
      "mean auroc score: 0.5358165502548218\n"
     ]
    },
    {
     "data": {
      "text/html": [],
      "text/plain": [
       "<IPython.core.display.HTML object>"
      ]
     },
     "metadata": {},
     "output_type": "display_data"
    },
    {
     "data": {
      "text/html": [
       "<br>    <style><br>        .wandb-row {<br>            display: flex;<br>            flex-direction: row;<br>            flex-wrap: wrap;<br>            justify-content: flex-start;<br>            width: 100%;<br>        }<br>        .wandb-col {<br>            display: flex;<br>            flex-direction: column;<br>            flex-basis: 100%;<br>            flex: 1;<br>            padding: 10px;<br>        }<br>    </style><br><div class=\"wandb-row\"><div class=\"wandb-col\"><h3>Run history:</h3><br/><table class=\"wandb\"><tr><td>train/Loss</td><td>██▇▇▇▆▆▆▆▅▅▅▄▄▄▃▃▂▂▁</td></tr><tr><td>val/auroc</td><td>▁▁▃▄▅▆▆▆▆▆▆▇▇▇███▇▇▇</td></tr><tr><td>val/highest_individual_auroc</td><td>▁</td></tr><tr><td>val/temperature</td><td>█▇▇▆▆▆▅▅▄▄▄▃▃▃▂▂▂▁▁▁</td></tr></table><br/></div><div class=\"wandb-col\"><h3>Run summary:</h3><br/><table class=\"wandb\"><tr><td>train/Loss</td><td>8.57934</td></tr><tr><td>val/auroc</td><td>0.53582</td></tr><tr><td>val/highest_individual_auroc</td><td>0.74391</td></tr><tr><td>val/temperature</td><td>2</td></tr></table><br/></div></div>"
      ],
      "text/plain": [
       "<IPython.core.display.HTML object>"
      ]
     },
     "metadata": {},
     "output_type": "display_data"
    },
    {
     "data": {
      "text/html": [
       " View run <strong style=\"color:#cdcd00\">earthy-sweep-26</strong> at: <a href='https://wandb.ai/tristan-schulz2001-tu-dortmund/Sweep-NeuroSAT-HARD-CONSTRAINT-AUROC/runs/2tp48wdl' target=\"_blank\">https://wandb.ai/tristan-schulz2001-tu-dortmund/Sweep-NeuroSAT-HARD-CONSTRAINT-AUROC/runs/2tp48wdl</a><br> View project at: <a href='https://wandb.ai/tristan-schulz2001-tu-dortmund/Sweep-NeuroSAT-HARD-CONSTRAINT-AUROC' target=\"_blank\">https://wandb.ai/tristan-schulz2001-tu-dortmund/Sweep-NeuroSAT-HARD-CONSTRAINT-AUROC</a><br>Synced 5 W&B file(s), 0 media file(s), 0 artifact file(s) and 0 other file(s)"
      ],
      "text/plain": [
       "<IPython.core.display.HTML object>"
      ]
     },
     "metadata": {},
     "output_type": "display_data"
    },
    {
     "data": {
      "text/html": [
       "Find logs at: <code>.\\wandb\\run-20250410_163245-2tp48wdl\\logs</code>"
      ],
      "text/plain": [
       "<IPython.core.display.HTML object>"
      ]
     },
     "metadata": {},
     "output_type": "display_data"
    },
    {
     "name": "stderr",
     "output_type": "stream",
     "text": [
      "\u001b[34m\u001b[1mwandb\u001b[0m: Agent Starting Run: 62rrvogh with config:\n",
      "\u001b[34m\u001b[1mwandb\u001b[0m: \tbce_loss: 0\n",
      "\u001b[34m\u001b[1mwandb\u001b[0m: \tconsistency_reg: 0\n",
      "\u001b[34m\u001b[1mwandb\u001b[0m: \tentropy_reg: 5\n",
      "\u001b[34m\u001b[1mwandb\u001b[0m: \tepochs: 20\n",
      "\u001b[34m\u001b[1mwandb\u001b[0m: \tlr_mlp: 0.0001\n",
      "\u001b[34m\u001b[1mwandb\u001b[0m: \tseed: 75\n",
      "\u001b[34m\u001b[1mwandb\u001b[0m: \tsize_reg: 0.01\n",
      "\u001b[34m\u001b[1mwandb\u001b[0m: \ttT: 1\n"
     ]
    },
    {
     "data": {
      "text/html": [
       "Ignoring project 'Explainer-NeuroSAT-Sweep' when running a sweep."
      ],
      "text/plain": [
       "<IPython.core.display.HTML object>"
      ]
     },
     "metadata": {},
     "output_type": "display_data"
    },
    {
     "data": {
      "text/html": [
       "Tracking run with wandb version 0.19.8"
      ],
      "text/plain": [
       "<IPython.core.display.HTML object>"
      ]
     },
     "metadata": {},
     "output_type": "display_data"
    },
    {
     "data": {
      "text/html": [
       "Run data is saved locally in <code>c:\\Users\\trist\\Git_repos\\BT-ML-PGESAT\\code\\PGExplainer NeuroSAT\\wandb\\run-20250410_164814-62rrvogh</code>"
      ],
      "text/plain": [
       "<IPython.core.display.HTML object>"
      ]
     },
     "metadata": {},
     "output_type": "display_data"
    },
    {
     "data": {
      "text/html": [
       "Syncing run <strong><a href='https://wandb.ai/tristan-schulz2001-tu-dortmund/Sweep-NeuroSAT-HARD-CONSTRAINT-AUROC/runs/62rrvogh' target=\"_blank\">flowing-sweep-27</a></strong> to <a href='https://wandb.ai/tristan-schulz2001-tu-dortmund/Sweep-NeuroSAT-HARD-CONSTRAINT-AUROC' target=\"_blank\">Weights & Biases</a> (<a href='https://wandb.me/developer-guide' target=\"_blank\">docs</a>)<br>Sweep page: <a href='https://wandb.ai/tristan-schulz2001-tu-dortmund/Sweep-NeuroSAT-HARD-CONSTRAINT-AUROC/sweeps/1kd67zlb' target=\"_blank\">https://wandb.ai/tristan-schulz2001-tu-dortmund/Sweep-NeuroSAT-HARD-CONSTRAINT-AUROC/sweeps/1kd67zlb</a>"
      ],
      "text/plain": [
       "<IPython.core.display.HTML object>"
      ]
     },
     "metadata": {},
     "output_type": "display_data"
    },
    {
     "data": {
      "text/html": [
       " View project at <a href='https://wandb.ai/tristan-schulz2001-tu-dortmund/Sweep-NeuroSAT-HARD-CONSTRAINT-AUROC' target=\"_blank\">https://wandb.ai/tristan-schulz2001-tu-dortmund/Sweep-NeuroSAT-HARD-CONSTRAINT-AUROC</a>"
      ],
      "text/plain": [
       "<IPython.core.display.HTML object>"
      ]
     },
     "metadata": {},
     "output_type": "display_data"
    },
    {
     "data": {
      "text/html": [
       " View sweep at <a href='https://wandb.ai/tristan-schulz2001-tu-dortmund/Sweep-NeuroSAT-HARD-CONSTRAINT-AUROC/sweeps/1kd67zlb' target=\"_blank\">https://wandb.ai/tristan-schulz2001-tu-dortmund/Sweep-NeuroSAT-HARD-CONSTRAINT-AUROC/sweeps/1kd67zlb</a>"
      ],
      "text/plain": [
       "<IPython.core.display.HTML object>"
      ]
     },
     "metadata": {},
     "output_type": "display_data"
    },
    {
     "data": {
      "text/html": [
       " View run at <a href='https://wandb.ai/tristan-schulz2001-tu-dortmund/Sweep-NeuroSAT-HARD-CONSTRAINT-AUROC/runs/62rrvogh' target=\"_blank\">https://wandb.ai/tristan-schulz2001-tu-dortmund/Sweep-NeuroSAT-HARD-CONSTRAINT-AUROC/runs/62rrvogh</a>"
      ],
      "text/plain": [
       "<IPython.core.display.HTML object>"
      ]
     },
     "metadata": {},
     "output_type": "display_data"
    },
    {
     "name": "stdout",
     "output_type": "stream",
     "text": [
      "Epoch 1, Loss: 9.785578727722168\n",
      "mean auroc score: 0.495727002620697\n",
      "Epoch 2, Loss: 9.734755516052246\n",
      "mean auroc score: 0.4900554120540619\n",
      "Epoch 3, Loss: 9.687551498413086\n",
      "mean auroc score: 0.48915863037109375\n",
      "Epoch 4, Loss: 9.621862411499023\n",
      "mean auroc score: 0.49092042446136475\n",
      "Epoch 5, Loss: 9.542905807495117\n",
      "mean auroc score: 0.4878805875778198\n",
      "Epoch 6, Loss: 9.455072402954102\n",
      "mean auroc score: 0.4910328686237335\n",
      "Epoch 7, Loss: 9.355814933776855\n",
      "mean auroc score: 0.4900112748146057\n",
      "Epoch 8, Loss: 9.251019477844238\n",
      "mean auroc score: 0.4913507401943207\n",
      "Epoch 9, Loss: 9.140249252319336\n",
      "mean auroc score: 0.4951332211494446\n",
      "Epoch 10, Loss: 9.016087532043457\n",
      "mean auroc score: 0.4965493679046631\n",
      "Epoch 11, Loss: 8.837250709533691\n",
      "mean auroc score: 0.5001172423362732\n",
      "Epoch 12, Loss: 8.694313049316406\n",
      "mean auroc score: 0.5024527907371521\n",
      "Epoch 13, Loss: 8.529901504516602\n",
      "mean auroc score: 0.5035398006439209\n",
      "Epoch 14, Loss: 8.346786499023438\n",
      "mean auroc score: 0.5065104961395264\n",
      "Epoch 15, Loss: 8.145105361938477\n",
      "mean auroc score: 0.5067042708396912\n",
      "Epoch 16, Loss: 7.880152702331543\n",
      "mean auroc score: 0.5076335668563843\n",
      "Epoch 17, Loss: 7.653418064117432\n",
      "mean auroc score: 0.5105307698249817\n",
      "Epoch 18, Loss: 7.408875942230225\n",
      "mean auroc score: 0.5098662972450256\n",
      "Epoch 19, Loss: 7.09734582901001\n",
      "mean auroc score: 0.5103328227996826\n",
      "Epoch 20, Loss: 6.82744836807251\n",
      "mean auroc score: 0.5117000341415405\n"
     ]
    },
    {
     "data": {
      "text/html": [],
      "text/plain": [
       "<IPython.core.display.HTML object>"
      ]
     },
     "metadata": {},
     "output_type": "display_data"
    },
    {
     "data": {
      "text/html": [
       "<br>    <style><br>        .wandb-row {<br>            display: flex;<br>            flex-direction: row;<br>            flex-wrap: wrap;<br>            justify-content: flex-start;<br>            width: 100%;<br>        }<br>        .wandb-col {<br>            display: flex;<br>            flex-direction: column;<br>            flex-basis: 100%;<br>            flex: 1;<br>            padding: 10px;<br>        }<br>    </style><br><div class=\"wandb-row\"><div class=\"wandb-col\"><h3>Run history:</h3><br/><table class=\"wandb\"><tr><td>train/Loss</td><td>████▇▇▇▇▆▆▆▅▅▅▄▃▃▂▂▁</td></tr><tr><td>val/auroc</td><td>▃▂▁▂▁▂▂▂▃▄▅▅▆▆▇▇█▇██</td></tr><tr><td>val/highest_individual_auroc</td><td>▁</td></tr><tr><td>val/temperature</td><td>█▇▇▆▆▅▅▄▄▃▃▃▂▂▂▂▂▁▁▁</td></tr></table><br/></div><div class=\"wandb-col\"><h3>Run summary:</h3><br/><table class=\"wandb\"><tr><td>train/Loss</td><td>6.82745</td></tr><tr><td>val/auroc</td><td>0.5117</td></tr><tr><td>val/highest_individual_auroc</td><td>0.65505</td></tr><tr><td>val/temperature</td><td>1</td></tr></table><br/></div></div>"
      ],
      "text/plain": [
       "<IPython.core.display.HTML object>"
      ]
     },
     "metadata": {},
     "output_type": "display_data"
    },
    {
     "data": {
      "text/html": [
       " View run <strong style=\"color:#cdcd00\">flowing-sweep-27</strong> at: <a href='https://wandb.ai/tristan-schulz2001-tu-dortmund/Sweep-NeuroSAT-HARD-CONSTRAINT-AUROC/runs/62rrvogh' target=\"_blank\">https://wandb.ai/tristan-schulz2001-tu-dortmund/Sweep-NeuroSAT-HARD-CONSTRAINT-AUROC/runs/62rrvogh</a><br> View project at: <a href='https://wandb.ai/tristan-schulz2001-tu-dortmund/Sweep-NeuroSAT-HARD-CONSTRAINT-AUROC' target=\"_blank\">https://wandb.ai/tristan-schulz2001-tu-dortmund/Sweep-NeuroSAT-HARD-CONSTRAINT-AUROC</a><br>Synced 5 W&B file(s), 0 media file(s), 0 artifact file(s) and 0 other file(s)"
      ],
      "text/plain": [
       "<IPython.core.display.HTML object>"
      ]
     },
     "metadata": {},
     "output_type": "display_data"
    },
    {
     "data": {
      "text/html": [
       "Find logs at: <code>.\\wandb\\run-20250410_164814-62rrvogh\\logs</code>"
      ],
      "text/plain": [
       "<IPython.core.display.HTML object>"
      ]
     },
     "metadata": {},
     "output_type": "display_data"
    },
    {
     "name": "stderr",
     "output_type": "stream",
     "text": [
      "\u001b[34m\u001b[1mwandb\u001b[0m: Agent Starting Run: gpi4hzhi with config:\n",
      "\u001b[34m\u001b[1mwandb\u001b[0m: \tbce_loss: 0\n",
      "\u001b[34m\u001b[1mwandb\u001b[0m: \tconsistency_reg: 0\n",
      "\u001b[34m\u001b[1mwandb\u001b[0m: \tentropy_reg: 5\n",
      "\u001b[34m\u001b[1mwandb\u001b[0m: \tepochs: 20\n",
      "\u001b[34m\u001b[1mwandb\u001b[0m: \tlr_mlp: 0.0001\n",
      "\u001b[34m\u001b[1mwandb\u001b[0m: \tseed: 75\n",
      "\u001b[34m\u001b[1mwandb\u001b[0m: \tsize_reg: 0.01\n",
      "\u001b[34m\u001b[1mwandb\u001b[0m: \ttT: 2\n"
     ]
    },
    {
     "data": {
      "text/html": [
       "Ignoring project 'Explainer-NeuroSAT-Sweep' when running a sweep."
      ],
      "text/plain": [
       "<IPython.core.display.HTML object>"
      ]
     },
     "metadata": {},
     "output_type": "display_data"
    },
    {
     "data": {
      "text/html": [
       "Tracking run with wandb version 0.19.8"
      ],
      "text/plain": [
       "<IPython.core.display.HTML object>"
      ]
     },
     "metadata": {},
     "output_type": "display_data"
    },
    {
     "data": {
      "text/html": [
       "Run data is saved locally in <code>c:\\Users\\trist\\Git_repos\\BT-ML-PGESAT\\code\\PGExplainer NeuroSAT\\wandb\\run-20250410_170314-gpi4hzhi</code>"
      ],
      "text/plain": [
       "<IPython.core.display.HTML object>"
      ]
     },
     "metadata": {},
     "output_type": "display_data"
    },
    {
     "data": {
      "text/html": [
       "Syncing run <strong><a href='https://wandb.ai/tristan-schulz2001-tu-dortmund/Sweep-NeuroSAT-HARD-CONSTRAINT-AUROC/runs/gpi4hzhi' target=\"_blank\">rare-sweep-28</a></strong> to <a href='https://wandb.ai/tristan-schulz2001-tu-dortmund/Sweep-NeuroSAT-HARD-CONSTRAINT-AUROC' target=\"_blank\">Weights & Biases</a> (<a href='https://wandb.me/developer-guide' target=\"_blank\">docs</a>)<br>Sweep page: <a href='https://wandb.ai/tristan-schulz2001-tu-dortmund/Sweep-NeuroSAT-HARD-CONSTRAINT-AUROC/sweeps/1kd67zlb' target=\"_blank\">https://wandb.ai/tristan-schulz2001-tu-dortmund/Sweep-NeuroSAT-HARD-CONSTRAINT-AUROC/sweeps/1kd67zlb</a>"
      ],
      "text/plain": [
       "<IPython.core.display.HTML object>"
      ]
     },
     "metadata": {},
     "output_type": "display_data"
    },
    {
     "data": {
      "text/html": [
       " View project at <a href='https://wandb.ai/tristan-schulz2001-tu-dortmund/Sweep-NeuroSAT-HARD-CONSTRAINT-AUROC' target=\"_blank\">https://wandb.ai/tristan-schulz2001-tu-dortmund/Sweep-NeuroSAT-HARD-CONSTRAINT-AUROC</a>"
      ],
      "text/plain": [
       "<IPython.core.display.HTML object>"
      ]
     },
     "metadata": {},
     "output_type": "display_data"
    },
    {
     "data": {
      "text/html": [
       " View sweep at <a href='https://wandb.ai/tristan-schulz2001-tu-dortmund/Sweep-NeuroSAT-HARD-CONSTRAINT-AUROC/sweeps/1kd67zlb' target=\"_blank\">https://wandb.ai/tristan-schulz2001-tu-dortmund/Sweep-NeuroSAT-HARD-CONSTRAINT-AUROC/sweeps/1kd67zlb</a>"
      ],
      "text/plain": [
       "<IPython.core.display.HTML object>"
      ]
     },
     "metadata": {},
     "output_type": "display_data"
    },
    {
     "data": {
      "text/html": [
       " View run at <a href='https://wandb.ai/tristan-schulz2001-tu-dortmund/Sweep-NeuroSAT-HARD-CONSTRAINT-AUROC/runs/gpi4hzhi' target=\"_blank\">https://wandb.ai/tristan-schulz2001-tu-dortmund/Sweep-NeuroSAT-HARD-CONSTRAINT-AUROC/runs/gpi4hzhi</a>"
      ],
      "text/plain": [
       "<IPython.core.display.HTML object>"
      ]
     },
     "metadata": {},
     "output_type": "display_data"
    },
    {
     "name": "stdout",
     "output_type": "stream",
     "text": [
      "Epoch 1, Loss: 9.786530494689941\n",
      "mean auroc score: 0.495727002620697\n",
      "Epoch 2, Loss: 9.739718437194824\n",
      "mean auroc score: 0.4900554120540619\n",
      "Epoch 3, Loss: 9.69957447052002\n",
      "mean auroc score: 0.489479124546051\n",
      "Epoch 4, Loss: 9.645658493041992\n",
      "mean auroc score: 0.4906832277774811\n",
      "Epoch 5, Loss: 9.582297325134277\n",
      "mean auroc score: 0.4878805875778198\n"
     ]
    },
    {
     "name": "stderr",
     "output_type": "stream",
     "text": [
      "\u001b[34m\u001b[1mwandb\u001b[0m: Network error (ConnectionError), entering retry loop.\n"
     ]
    },
    {
     "name": "stdout",
     "output_type": "stream",
     "text": [
      "Epoch 6, Loss: 9.518682479858398\n",
      "mean auroc score: 0.49123236536979675\n",
      "Epoch 7, Loss: 9.446803092956543\n",
      "mean auroc score: 0.4901431202888489\n",
      "Epoch 8, Loss: 9.371079444885254\n",
      "mean auroc score: 0.49179401993751526\n",
      "Epoch 9, Loss: 9.30156135559082\n",
      "mean auroc score: 0.49510303139686584\n",
      "Epoch 10, Loss: 9.219618797302246\n",
      "mean auroc score: 0.4966265559196472\n",
      "Epoch 11, Loss: 9.11000919342041\n",
      "mean auroc score: 0.4996052384376526\n",
      "Epoch 12, Loss: 9.026323318481445\n",
      "mean auroc score: 0.5025705695152283\n",
      "Epoch 13, Loss: 8.924638748168945\n",
      "mean auroc score: 0.5039604902267456\n",
      "Epoch 14, Loss: 8.828153610229492\n",
      "mean auroc score: 0.5063643455505371\n",
      "Epoch 15, Loss: 8.688705444335938\n",
      "mean auroc score: 0.5069378018379211\n",
      "Epoch 16, Loss: 8.541131973266602\n",
      "mean auroc score: 0.5075960755348206\n",
      "Epoch 17, Loss: 8.414966583251953\n",
      "mean auroc score: 0.5090064406394958\n",
      "Epoch 18, Loss: 8.250226974487305\n",
      "mean auroc score: 0.5093822479248047\n"
     ]
    },
    {
     "name": "stderr",
     "output_type": "stream",
     "text": [
      "\u001b[34m\u001b[1mwandb\u001b[0m: Network error (ConnectTimeout), entering retry loop.\n"
     ]
    },
    {
     "name": "stdout",
     "output_type": "stream",
     "text": [
      "Epoch 19, Loss: 8.073305130004883\n",
      "mean auroc score: 0.5098578333854675\n",
      "Epoch 20, Loss: 7.903109073638916\n",
      "mean auroc score: 0.5117548704147339\n"
     ]
    },
    {
     "data": {
      "text/html": [],
      "text/plain": [
       "<IPython.core.display.HTML object>"
      ]
     },
     "metadata": {},
     "output_type": "display_data"
    },
    {
     "data": {
      "text/html": [
       "<br>    <style><br>        .wandb-row {<br>            display: flex;<br>            flex-direction: row;<br>            flex-wrap: wrap;<br>            justify-content: flex-start;<br>            width: 100%;<br>        }<br>        .wandb-col {<br>            display: flex;<br>            flex-direction: column;<br>            flex-basis: 100%;<br>            flex: 1;<br>            padding: 10px;<br>        }<br>    </style><br><div class=\"wandb-row\"><div class=\"wandb-col\"><h3>Run history:</h3><br/><table class=\"wandb\"><tr><td>train/Loss</td><td>███▇▇▇▇▆▆▆▅▅▅▄▄▃▃▂▂▁</td></tr><tr><td>val/auroc</td><td>▃▂▁▂▁▂▂▂▃▄▄▅▆▆▇▇▇▇▇█</td></tr><tr><td>val/highest_individual_auroc</td><td>▁</td></tr><tr><td>val/temperature</td><td>█▇▇▆▆▆▅▅▄▄▄▃▃▃▂▂▂▁▁▁</td></tr></table><br/></div><div class=\"wandb-col\"><h3>Run summary:</h3><br/><table class=\"wandb\"><tr><td>train/Loss</td><td>7.90311</td></tr><tr><td>val/auroc</td><td>0.51175</td></tr><tr><td>val/highest_individual_auroc</td><td>0.65249</td></tr><tr><td>val/temperature</td><td>2</td></tr></table><br/></div></div>"
      ],
      "text/plain": [
       "<IPython.core.display.HTML object>"
      ]
     },
     "metadata": {},
     "output_type": "display_data"
    },
    {
     "data": {
      "text/html": [
       " View run <strong style=\"color:#cdcd00\">rare-sweep-28</strong> at: <a href='https://wandb.ai/tristan-schulz2001-tu-dortmund/Sweep-NeuroSAT-HARD-CONSTRAINT-AUROC/runs/gpi4hzhi' target=\"_blank\">https://wandb.ai/tristan-schulz2001-tu-dortmund/Sweep-NeuroSAT-HARD-CONSTRAINT-AUROC/runs/gpi4hzhi</a><br> View project at: <a href='https://wandb.ai/tristan-schulz2001-tu-dortmund/Sweep-NeuroSAT-HARD-CONSTRAINT-AUROC' target=\"_blank\">https://wandb.ai/tristan-schulz2001-tu-dortmund/Sweep-NeuroSAT-HARD-CONSTRAINT-AUROC</a><br>Synced 5 W&B file(s), 0 media file(s), 0 artifact file(s) and 0 other file(s)"
      ],
      "text/plain": [
       "<IPython.core.display.HTML object>"
      ]
     },
     "metadata": {},
     "output_type": "display_data"
    },
    {
     "data": {
      "text/html": [
       "Find logs at: <code>.\\wandb\\run-20250410_170314-gpi4hzhi\\logs</code>"
      ],
      "text/plain": [
       "<IPython.core.display.HTML object>"
      ]
     },
     "metadata": {},
     "output_type": "display_data"
    },
    {
     "name": "stderr",
     "output_type": "stream",
     "text": [
      "\u001b[34m\u001b[1mwandb\u001b[0m: Agent Starting Run: 0s1fthlj with config:\n",
      "\u001b[34m\u001b[1mwandb\u001b[0m: \tbce_loss: 0\n",
      "\u001b[34m\u001b[1mwandb\u001b[0m: \tconsistency_reg: 0\n",
      "\u001b[34m\u001b[1mwandb\u001b[0m: \tentropy_reg: 5\n",
      "\u001b[34m\u001b[1mwandb\u001b[0m: \tepochs: 20\n",
      "\u001b[34m\u001b[1mwandb\u001b[0m: \tlr_mlp: 3e-05\n",
      "\u001b[34m\u001b[1mwandb\u001b[0m: \tseed: 74\n",
      "\u001b[34m\u001b[1mwandb\u001b[0m: \tsize_reg: 0.01\n",
      "\u001b[34m\u001b[1mwandb\u001b[0m: \ttT: 1\n"
     ]
    },
    {
     "data": {
      "text/html": [
       "Ignoring project 'Explainer-NeuroSAT-Sweep' when running a sweep."
      ],
      "text/plain": [
       "<IPython.core.display.HTML object>"
      ]
     },
     "metadata": {},
     "output_type": "display_data"
    },
    {
     "data": {
      "text/html": [
       "Tracking run with wandb version 0.19.8"
      ],
      "text/plain": [
       "<IPython.core.display.HTML object>"
      ]
     },
     "metadata": {},
     "output_type": "display_data"
    },
    {
     "data": {
      "text/html": [
       "Run data is saved locally in <code>c:\\Users\\trist\\Git_repos\\BT-ML-PGESAT\\code\\PGExplainer NeuroSAT\\wandb\\run-20250410_171749-0s1fthlj</code>"
      ],
      "text/plain": [
       "<IPython.core.display.HTML object>"
      ]
     },
     "metadata": {},
     "output_type": "display_data"
    },
    {
     "data": {
      "text/html": [
       "Syncing run <strong><a href='https://wandb.ai/tristan-schulz2001-tu-dortmund/Sweep-NeuroSAT-HARD-CONSTRAINT-AUROC/runs/0s1fthlj' target=\"_blank\">generous-sweep-29</a></strong> to <a href='https://wandb.ai/tristan-schulz2001-tu-dortmund/Sweep-NeuroSAT-HARD-CONSTRAINT-AUROC' target=\"_blank\">Weights & Biases</a> (<a href='https://wandb.me/developer-guide' target=\"_blank\">docs</a>)<br>Sweep page: <a href='https://wandb.ai/tristan-schulz2001-tu-dortmund/Sweep-NeuroSAT-HARD-CONSTRAINT-AUROC/sweeps/1kd67zlb' target=\"_blank\">https://wandb.ai/tristan-schulz2001-tu-dortmund/Sweep-NeuroSAT-HARD-CONSTRAINT-AUROC/sweeps/1kd67zlb</a>"
      ],
      "text/plain": [
       "<IPython.core.display.HTML object>"
      ]
     },
     "metadata": {},
     "output_type": "display_data"
    },
    {
     "data": {
      "text/html": [
       " View project at <a href='https://wandb.ai/tristan-schulz2001-tu-dortmund/Sweep-NeuroSAT-HARD-CONSTRAINT-AUROC' target=\"_blank\">https://wandb.ai/tristan-schulz2001-tu-dortmund/Sweep-NeuroSAT-HARD-CONSTRAINT-AUROC</a>"
      ],
      "text/plain": [
       "<IPython.core.display.HTML object>"
      ]
     },
     "metadata": {},
     "output_type": "display_data"
    },
    {
     "data": {
      "text/html": [
       " View sweep at <a href='https://wandb.ai/tristan-schulz2001-tu-dortmund/Sweep-NeuroSAT-HARD-CONSTRAINT-AUROC/sweeps/1kd67zlb' target=\"_blank\">https://wandb.ai/tristan-schulz2001-tu-dortmund/Sweep-NeuroSAT-HARD-CONSTRAINT-AUROC/sweeps/1kd67zlb</a>"
      ],
      "text/plain": [
       "<IPython.core.display.HTML object>"
      ]
     },
     "metadata": {},
     "output_type": "display_data"
    },
    {
     "data": {
      "text/html": [
       " View run at <a href='https://wandb.ai/tristan-schulz2001-tu-dortmund/Sweep-NeuroSAT-HARD-CONSTRAINT-AUROC/runs/0s1fthlj' target=\"_blank\">https://wandb.ai/tristan-schulz2001-tu-dortmund/Sweep-NeuroSAT-HARD-CONSTRAINT-AUROC/runs/0s1fthlj</a>"
      ],
      "text/plain": [
       "<IPython.core.display.HTML object>"
      ]
     },
     "metadata": {},
     "output_type": "display_data"
    },
    {
     "name": "stdout",
     "output_type": "stream",
     "text": [
      "Epoch 1, Loss: 10.004037857055664\n",
      "mean auroc score: 0.487520694732666\n",
      "Epoch 2, Loss: 10.007667541503906\n",
      "mean auroc score: 0.4898471236228943\n",
      "Epoch 3, Loss: 9.989809036254883\n",
      "mean auroc score: 0.488873690366745\n",
      "Epoch 4, Loss: 9.971096992492676\n",
      "mean auroc score: 0.49097833037376404\n",
      "Epoch 5, Loss: 9.964471817016602\n",
      "mean auroc score: 0.4923509657382965\n",
      "Epoch 6, Loss: 9.932016372680664\n",
      "mean auroc score: 0.4902441203594208\n",
      "Epoch 7, Loss: 9.908087730407715\n",
      "mean auroc score: 0.49233192205429077\n",
      "Epoch 8, Loss: 9.888317108154297\n",
      "mean auroc score: 0.49319490790367126\n",
      "Epoch 9, Loss: 9.831659317016602\n",
      "mean auroc score: 0.4962656497955322\n",
      "Epoch 10, Loss: 9.820343971252441\n",
      "mean auroc score: 0.5027512311935425\n",
      "Epoch 11, Loss: 9.7431640625\n",
      "mean auroc score: 0.5035571455955505\n",
      "Epoch 12, Loss: 9.722981452941895\n",
      "mean auroc score: 0.5051636099815369\n",
      "Epoch 13, Loss: 9.639694213867188\n",
      "mean auroc score: 0.5115706920623779\n",
      "Epoch 14, Loss: 9.604779243469238\n",
      "mean auroc score: 0.5153297185897827\n",
      "Epoch 15, Loss: 9.53585433959961\n",
      "mean auroc score: 0.5140022039413452\n",
      "Epoch 16, Loss: 9.493415832519531\n",
      "mean auroc score: 0.5198402404785156\n",
      "Epoch 17, Loss: 9.442212104797363\n",
      "mean auroc score: 0.5220726728439331\n",
      "Epoch 18, Loss: 9.319839477539062\n",
      "mean auroc score: 0.5241902470588684\n",
      "Epoch 19, Loss: 9.23738956451416\n",
      "mean auroc score: 0.5232473015785217\n",
      "Epoch 20, Loss: 9.265825271606445\n",
      "mean auroc score: 0.5255094766616821\n"
     ]
    },
    {
     "data": {
      "text/html": [],
      "text/plain": [
       "<IPython.core.display.HTML object>"
      ]
     },
     "metadata": {},
     "output_type": "display_data"
    },
    {
     "data": {
      "text/html": [
       "<br>    <style><br>        .wandb-row {<br>            display: flex;<br>            flex-direction: row;<br>            flex-wrap: wrap;<br>            justify-content: flex-start;<br>            width: 100%;<br>        }<br>        .wandb-col {<br>            display: flex;<br>            flex-direction: column;<br>            flex-basis: 100%;<br>            flex: 1;<br>            padding: 10px;<br>        }<br>    </style><br><div class=\"wandb-row\"><div class=\"wandb-col\"><h3>Run history:</h3><br/><table class=\"wandb\"><tr><td>train/Loss</td><td>█████▇▇▇▆▆▆▅▅▄▄▃▃▂▁▁</td></tr><tr><td>val/auroc</td><td>▁▁▁▂▂▂▂▂▃▄▄▄▅▆▆▇▇███</td></tr><tr><td>val/highest_individual_auroc</td><td>▁</td></tr><tr><td>val/temperature</td><td>█▇▇▆▆▅▅▄▄▃▃▃▂▂▂▂▂▁▁▁</td></tr></table><br/></div><div class=\"wandb-col\"><h3>Run summary:</h3><br/><table class=\"wandb\"><tr><td>train/Loss</td><td>9.26583</td></tr><tr><td>val/auroc</td><td>0.52551</td></tr><tr><td>val/highest_individual_auroc</td><td>0.77338</td></tr><tr><td>val/temperature</td><td>1</td></tr></table><br/></div></div>"
      ],
      "text/plain": [
       "<IPython.core.display.HTML object>"
      ]
     },
     "metadata": {},
     "output_type": "display_data"
    },
    {
     "data": {
      "text/html": [
       " View run <strong style=\"color:#cdcd00\">generous-sweep-29</strong> at: <a href='https://wandb.ai/tristan-schulz2001-tu-dortmund/Sweep-NeuroSAT-HARD-CONSTRAINT-AUROC/runs/0s1fthlj' target=\"_blank\">https://wandb.ai/tristan-schulz2001-tu-dortmund/Sweep-NeuroSAT-HARD-CONSTRAINT-AUROC/runs/0s1fthlj</a><br> View project at: <a href='https://wandb.ai/tristan-schulz2001-tu-dortmund/Sweep-NeuroSAT-HARD-CONSTRAINT-AUROC' target=\"_blank\">https://wandb.ai/tristan-schulz2001-tu-dortmund/Sweep-NeuroSAT-HARD-CONSTRAINT-AUROC</a><br>Synced 5 W&B file(s), 0 media file(s), 0 artifact file(s) and 0 other file(s)"
      ],
      "text/plain": [
       "<IPython.core.display.HTML object>"
      ]
     },
     "metadata": {},
     "output_type": "display_data"
    },
    {
     "data": {
      "text/html": [
       "Find logs at: <code>.\\wandb\\run-20250410_171749-0s1fthlj\\logs</code>"
      ],
      "text/plain": [
       "<IPython.core.display.HTML object>"
      ]
     },
     "metadata": {},
     "output_type": "display_data"
    },
    {
     "name": "stderr",
     "output_type": "stream",
     "text": [
      "\u001b[34m\u001b[1mwandb\u001b[0m: Agent Starting Run: w3nsft9r with config:\n",
      "\u001b[34m\u001b[1mwandb\u001b[0m: \tbce_loss: 0\n",
      "\u001b[34m\u001b[1mwandb\u001b[0m: \tconsistency_reg: 0\n",
      "\u001b[34m\u001b[1mwandb\u001b[0m: \tentropy_reg: 5\n",
      "\u001b[34m\u001b[1mwandb\u001b[0m: \tepochs: 20\n",
      "\u001b[34m\u001b[1mwandb\u001b[0m: \tlr_mlp: 3e-05\n",
      "\u001b[34m\u001b[1mwandb\u001b[0m: \tseed: 74\n",
      "\u001b[34m\u001b[1mwandb\u001b[0m: \tsize_reg: 0.01\n",
      "\u001b[34m\u001b[1mwandb\u001b[0m: \ttT: 2\n"
     ]
    },
    {
     "data": {
      "text/html": [
       "Ignoring project 'Explainer-NeuroSAT-Sweep' when running a sweep."
      ],
      "text/plain": [
       "<IPython.core.display.HTML object>"
      ]
     },
     "metadata": {},
     "output_type": "display_data"
    },
    {
     "data": {
      "text/html": [
       "Tracking run with wandb version 0.19.8"
      ],
      "text/plain": [
       "<IPython.core.display.HTML object>"
      ]
     },
     "metadata": {},
     "output_type": "display_data"
    },
    {
     "data": {
      "text/html": [
       "Run data is saved locally in <code>c:\\Users\\trist\\Git_repos\\BT-ML-PGESAT\\code\\PGExplainer NeuroSAT\\wandb\\run-20250410_173222-w3nsft9r</code>"
      ],
      "text/plain": [
       "<IPython.core.display.HTML object>"
      ]
     },
     "metadata": {},
     "output_type": "display_data"
    },
    {
     "data": {
      "text/html": [
       "Syncing run <strong><a href='https://wandb.ai/tristan-schulz2001-tu-dortmund/Sweep-NeuroSAT-HARD-CONSTRAINT-AUROC/runs/w3nsft9r' target=\"_blank\">jumping-sweep-30</a></strong> to <a href='https://wandb.ai/tristan-schulz2001-tu-dortmund/Sweep-NeuroSAT-HARD-CONSTRAINT-AUROC' target=\"_blank\">Weights & Biases</a> (<a href='https://wandb.me/developer-guide' target=\"_blank\">docs</a>)<br>Sweep page: <a href='https://wandb.ai/tristan-schulz2001-tu-dortmund/Sweep-NeuroSAT-HARD-CONSTRAINT-AUROC/sweeps/1kd67zlb' target=\"_blank\">https://wandb.ai/tristan-schulz2001-tu-dortmund/Sweep-NeuroSAT-HARD-CONSTRAINT-AUROC/sweeps/1kd67zlb</a>"
      ],
      "text/plain": [
       "<IPython.core.display.HTML object>"
      ]
     },
     "metadata": {},
     "output_type": "display_data"
    },
    {
     "data": {
      "text/html": [
       " View project at <a href='https://wandb.ai/tristan-schulz2001-tu-dortmund/Sweep-NeuroSAT-HARD-CONSTRAINT-AUROC' target=\"_blank\">https://wandb.ai/tristan-schulz2001-tu-dortmund/Sweep-NeuroSAT-HARD-CONSTRAINT-AUROC</a>"
      ],
      "text/plain": [
       "<IPython.core.display.HTML object>"
      ]
     },
     "metadata": {},
     "output_type": "display_data"
    },
    {
     "data": {
      "text/html": [
       " View sweep at <a href='https://wandb.ai/tristan-schulz2001-tu-dortmund/Sweep-NeuroSAT-HARD-CONSTRAINT-AUROC/sweeps/1kd67zlb' target=\"_blank\">https://wandb.ai/tristan-schulz2001-tu-dortmund/Sweep-NeuroSAT-HARD-CONSTRAINT-AUROC/sweeps/1kd67zlb</a>"
      ],
      "text/plain": [
       "<IPython.core.display.HTML object>"
      ]
     },
     "metadata": {},
     "output_type": "display_data"
    },
    {
     "data": {
      "text/html": [
       " View run at <a href='https://wandb.ai/tristan-schulz2001-tu-dortmund/Sweep-NeuroSAT-HARD-CONSTRAINT-AUROC/runs/w3nsft9r' target=\"_blank\">https://wandb.ai/tristan-schulz2001-tu-dortmund/Sweep-NeuroSAT-HARD-CONSTRAINT-AUROC/runs/w3nsft9r</a>"
      ],
      "text/plain": [
       "<IPython.core.display.HTML object>"
      ]
     },
     "metadata": {},
     "output_type": "display_data"
    },
    {
     "name": "stdout",
     "output_type": "stream",
     "text": [
      "Epoch 1, Loss: 9.99791431427002\n",
      "mean auroc score: 0.487520694732666\n"
     ]
    },
    {
     "name": "stderr",
     "output_type": "stream",
     "text": [
      "\u001b[34m\u001b[1mwandb\u001b[0m: Network error (ConnectTimeout), entering retry loop.\n"
     ]
    },
    {
     "name": "stdout",
     "output_type": "stream",
     "text": [
      "Epoch 2, Loss: 9.995400428771973\n",
      "mean auroc score: 0.4898471236228943\n",
      "Epoch 3, Loss: 9.974443435668945\n",
      "mean auroc score: 0.48895344138145447\n",
      "Epoch 4, Loss: 9.953913688659668\n",
      "mean auroc score: 0.49097833037376404\n",
      "Epoch 5, Loss: 9.944433212280273\n",
      "mean auroc score: 0.49231886863708496\n"
     ]
    },
    {
     "name": "stderr",
     "output_type": "stream",
     "text": [
      "\u001b[34m\u001b[1mwandb\u001b[0m: Network error (ConnectionError), entering retry loop.\n"
     ]
    },
    {
     "name": "stdout",
     "output_type": "stream",
     "text": [
      "Epoch 6, Loss: 9.914508819580078\n",
      "mean auroc score: 0.49035075306892395\n",
      "Epoch 7, Loss: 9.894105911254883\n",
      "mean auroc score: 0.4923946261405945\n",
      "Epoch 8, Loss: 9.877979278564453\n",
      "mean auroc score: 0.4927268624305725\n",
      "Epoch 9, Loss: 9.837382316589355\n",
      "mean auroc score: 0.4961073398590088\n",
      "Epoch 10, Loss: 9.828448295593262\n",
      "mean auroc score: 0.5026914477348328\n",
      "Epoch 11, Loss: 9.774579048156738\n",
      "mean auroc score: 0.5040760636329651\n",
      "Epoch 12, Loss: 9.760875701904297\n",
      "mean auroc score: 0.5049037337303162\n",
      "Epoch 13, Loss: 9.712227821350098\n",
      "mean auroc score: 0.5112252235412598\n",
      "Epoch 14, Loss: 9.685358047485352\n",
      "mean auroc score: 0.5167584419250488\n",
      "Epoch 15, Loss: 9.650235176086426\n",
      "mean auroc score: 0.5146554112434387\n",
      "Epoch 16, Loss: 9.624249458312988\n",
      "mean auroc score: 0.5192223787307739\n",
      "Epoch 17, Loss: 9.593826293945312\n",
      "mean auroc score: 0.5216169357299805\n",
      "Epoch 18, Loss: 9.52992057800293\n",
      "mean auroc score: 0.5237187743186951\n",
      "Epoch 19, Loss: 9.499008178710938\n",
      "mean auroc score: 0.5213197469711304\n",
      "Epoch 20, Loss: 9.465566635131836\n",
      "mean auroc score: 0.5244480967521667\n"
     ]
    },
    {
     "data": {
      "text/html": [],
      "text/plain": [
       "<IPython.core.display.HTML object>"
      ]
     },
     "metadata": {},
     "output_type": "display_data"
    },
    {
     "data": {
      "text/html": [
       "<br>    <style><br>        .wandb-row {<br>            display: flex;<br>            flex-direction: row;<br>            flex-wrap: wrap;<br>            justify-content: flex-start;<br>            width: 100%;<br>        }<br>        .wandb-col {<br>            display: flex;<br>            flex-direction: column;<br>            flex-basis: 100%;<br>            flex: 1;<br>            padding: 10px;<br>        }<br>    </style><br><div class=\"wandb-row\"><div class=\"wandb-col\"><h3>Run history:</h3><br/><table class=\"wandb\"><tr><td>train/Loss</td><td>███▇▇▇▇▆▆▆▅▅▄▄▃▃▃▂▁▁</td></tr><tr><td>val/auroc</td><td>▁▁▁▂▂▂▂▂▃▄▄▄▅▇▆▇▇█▇█</td></tr><tr><td>val/highest_individual_auroc</td><td>▁</td></tr><tr><td>val/temperature</td><td>█▇▇▆▆▆▅▅▄▄▄▃▃▃▂▂▂▁▁▁</td></tr></table><br/></div><div class=\"wandb-col\"><h3>Run summary:</h3><br/><table class=\"wandb\"><tr><td>train/Loss</td><td>9.46557</td></tr><tr><td>val/auroc</td><td>0.52445</td></tr><tr><td>val/highest_individual_auroc</td><td>0.77211</td></tr><tr><td>val/temperature</td><td>2</td></tr></table><br/></div></div>"
      ],
      "text/plain": [
       "<IPython.core.display.HTML object>"
      ]
     },
     "metadata": {},
     "output_type": "display_data"
    },
    {
     "data": {
      "text/html": [
       " View run <strong style=\"color:#cdcd00\">jumping-sweep-30</strong> at: <a href='https://wandb.ai/tristan-schulz2001-tu-dortmund/Sweep-NeuroSAT-HARD-CONSTRAINT-AUROC/runs/w3nsft9r' target=\"_blank\">https://wandb.ai/tristan-schulz2001-tu-dortmund/Sweep-NeuroSAT-HARD-CONSTRAINT-AUROC/runs/w3nsft9r</a><br> View project at: <a href='https://wandb.ai/tristan-schulz2001-tu-dortmund/Sweep-NeuroSAT-HARD-CONSTRAINT-AUROC' target=\"_blank\">https://wandb.ai/tristan-schulz2001-tu-dortmund/Sweep-NeuroSAT-HARD-CONSTRAINT-AUROC</a><br>Synced 5 W&B file(s), 0 media file(s), 0 artifact file(s) and 0 other file(s)"
      ],
      "text/plain": [
       "<IPython.core.display.HTML object>"
      ]
     },
     "metadata": {},
     "output_type": "display_data"
    },
    {
     "data": {
      "text/html": [
       "Find logs at: <code>.\\wandb\\run-20250410_173222-w3nsft9r\\logs</code>"
      ],
      "text/plain": [
       "<IPython.core.display.HTML object>"
      ]
     },
     "metadata": {},
     "output_type": "display_data"
    },
    {
     "name": "stderr",
     "output_type": "stream",
     "text": [
      "\u001b[34m\u001b[1mwandb\u001b[0m: Agent Starting Run: 3xvz2u84 with config:\n",
      "\u001b[34m\u001b[1mwandb\u001b[0m: \tbce_loss: 0\n",
      "\u001b[34m\u001b[1mwandb\u001b[0m: \tconsistency_reg: 0\n",
      "\u001b[34m\u001b[1mwandb\u001b[0m: \tentropy_reg: 5\n",
      "\u001b[34m\u001b[1mwandb\u001b[0m: \tepochs: 20\n",
      "\u001b[34m\u001b[1mwandb\u001b[0m: \tlr_mlp: 3e-05\n",
      "\u001b[34m\u001b[1mwandb\u001b[0m: \tseed: 75\n",
      "\u001b[34m\u001b[1mwandb\u001b[0m: \tsize_reg: 0.01\n",
      "\u001b[34m\u001b[1mwandb\u001b[0m: \ttT: 1\n"
     ]
    },
    {
     "data": {
      "text/html": [
       "Ignoring project 'Explainer-NeuroSAT-Sweep' when running a sweep."
      ],
      "text/plain": [
       "<IPython.core.display.HTML object>"
      ]
     },
     "metadata": {},
     "output_type": "display_data"
    },
    {
     "data": {
      "text/html": [
       "Tracking run with wandb version 0.19.8"
      ],
      "text/plain": [
       "<IPython.core.display.HTML object>"
      ]
     },
     "metadata": {},
     "output_type": "display_data"
    },
    {
     "data": {
      "text/html": [
       "Run data is saved locally in <code>c:\\Users\\trist\\Git_repos\\BT-ML-PGESAT\\code\\PGExplainer NeuroSAT\\wandb\\run-20250410_174849-3xvz2u84</code>"
      ],
      "text/plain": [
       "<IPython.core.display.HTML object>"
      ]
     },
     "metadata": {},
     "output_type": "display_data"
    },
    {
     "data": {
      "text/html": [
       "Syncing run <strong><a href='https://wandb.ai/tristan-schulz2001-tu-dortmund/Sweep-NeuroSAT-HARD-CONSTRAINT-AUROC/runs/3xvz2u84' target=\"_blank\">splendid-sweep-31</a></strong> to <a href='https://wandb.ai/tristan-schulz2001-tu-dortmund/Sweep-NeuroSAT-HARD-CONSTRAINT-AUROC' target=\"_blank\">Weights & Biases</a> (<a href='https://wandb.me/developer-guide' target=\"_blank\">docs</a>)<br>Sweep page: <a href='https://wandb.ai/tristan-schulz2001-tu-dortmund/Sweep-NeuroSAT-HARD-CONSTRAINT-AUROC/sweeps/1kd67zlb' target=\"_blank\">https://wandb.ai/tristan-schulz2001-tu-dortmund/Sweep-NeuroSAT-HARD-CONSTRAINT-AUROC/sweeps/1kd67zlb</a>"
      ],
      "text/plain": [
       "<IPython.core.display.HTML object>"
      ]
     },
     "metadata": {},
     "output_type": "display_data"
    },
    {
     "data": {
      "text/html": [
       " View project at <a href='https://wandb.ai/tristan-schulz2001-tu-dortmund/Sweep-NeuroSAT-HARD-CONSTRAINT-AUROC' target=\"_blank\">https://wandb.ai/tristan-schulz2001-tu-dortmund/Sweep-NeuroSAT-HARD-CONSTRAINT-AUROC</a>"
      ],
      "text/plain": [
       "<IPython.core.display.HTML object>"
      ]
     },
     "metadata": {},
     "output_type": "display_data"
    },
    {
     "data": {
      "text/html": [
       " View sweep at <a href='https://wandb.ai/tristan-schulz2001-tu-dortmund/Sweep-NeuroSAT-HARD-CONSTRAINT-AUROC/sweeps/1kd67zlb' target=\"_blank\">https://wandb.ai/tristan-schulz2001-tu-dortmund/Sweep-NeuroSAT-HARD-CONSTRAINT-AUROC/sweeps/1kd67zlb</a>"
      ],
      "text/plain": [
       "<IPython.core.display.HTML object>"
      ]
     },
     "metadata": {},
     "output_type": "display_data"
    },
    {
     "data": {
      "text/html": [
       " View run at <a href='https://wandb.ai/tristan-schulz2001-tu-dortmund/Sweep-NeuroSAT-HARD-CONSTRAINT-AUROC/runs/3xvz2u84' target=\"_blank\">https://wandb.ai/tristan-schulz2001-tu-dortmund/Sweep-NeuroSAT-HARD-CONSTRAINT-AUROC/runs/3xvz2u84</a>"
      ],
      "text/plain": [
       "<IPython.core.display.HTML object>"
      ]
     },
     "metadata": {},
     "output_type": "display_data"
    },
    {
     "name": "stdout",
     "output_type": "stream",
     "text": [
      "Epoch 1, Loss: 9.785578727722168\n",
      "mean auroc score: 0.5006551146507263\n",
      "Epoch 2, Loss: 9.76707649230957\n",
      "mean auroc score: 0.497092604637146\n",
      "Epoch 3, Loss: 9.758066177368164\n",
      "mean auroc score: 0.49549561738967896\n",
      "Epoch 4, Loss: 9.736981391906738\n",
      "mean auroc score: 0.49625787138938904\n",
      "Epoch 5, Loss: 9.707712173461914\n",
      "mean auroc score: 0.4932652711868286\n",
      "Epoch 6, Loss: 9.679847717285156\n",
      "mean auroc score: 0.4905272126197815\n",
      "Epoch 7, Loss: 9.644598007202148\n",
      "mean auroc score: 0.4886760115623474\n",
      "Epoch 8, Loss: 9.609417915344238\n",
      "mean auroc score: 0.48807084560394287\n",
      "Epoch 9, Loss: 9.582159042358398\n",
      "mean auroc score: 0.4882718026638031\n",
      "Epoch 10, Loss: 9.53511905670166\n",
      "mean auroc score: 0.489963561296463\n",
      "Epoch 11, Loss: 9.459432601928711\n",
      "mean auroc score: 0.48981866240501404\n",
      "Epoch 12, Loss: 9.4197416305542\n",
      "mean auroc score: 0.48884841799736023\n",
      "Epoch 13, Loss: 9.368078231811523\n",
      "mean auroc score: 0.49083587527275085\n",
      "Epoch 14, Loss: 9.331734657287598\n",
      "mean auroc score: 0.4890257716178894\n",
      "Epoch 15, Loss: 9.226709365844727\n",
      "mean auroc score: 0.48890212178230286\n",
      "Epoch 16, Loss: 9.126771926879883\n",
      "mean auroc score: 0.4884174168109894\n",
      "Epoch 17, Loss: 9.08098030090332\n",
      "mean auroc score: 0.4894699156284332\n",
      "Epoch 18, Loss: 8.984875679016113\n",
      "mean auroc score: 0.4899385869503021\n",
      "Epoch 19, Loss: 8.882588386535645\n",
      "mean auroc score: 0.49057599902153015\n",
      "Epoch 20, Loss: 8.781595230102539\n",
      "mean auroc score: 0.49117565155029297\n"
     ]
    },
    {
     "data": {
      "text/html": [],
      "text/plain": [
       "<IPython.core.display.HTML object>"
      ]
     },
     "metadata": {},
     "output_type": "display_data"
    },
    {
     "data": {
      "text/html": [
       "<br>    <style><br>        .wandb-row {<br>            display: flex;<br>            flex-direction: row;<br>            flex-wrap: wrap;<br>            justify-content: flex-start;<br>            width: 100%;<br>        }<br>        .wandb-col {<br>            display: flex;<br>            flex-direction: column;<br>            flex-basis: 100%;<br>            flex: 1;<br>            padding: 10px;<br>        }<br>    </style><br><div class=\"wandb-row\"><div class=\"wandb-col\"><h3>Run history:</h3><br/><table class=\"wandb\"><tr><td>train/Loss</td><td>████▇▇▇▇▇▆▆▅▅▅▄▃▃▂▂▁</td></tr><tr><td>val/auroc</td><td>█▆▅▆▄▂▁▁▁▂▂▁▃▂▁▁▂▂▂▃</td></tr><tr><td>val/highest_individual_auroc</td><td>▁</td></tr><tr><td>val/temperature</td><td>█▇▇▆▆▅▅▄▄▃▃▃▂▂▂▂▂▁▁▁</td></tr></table><br/></div><div class=\"wandb-col\"><h3>Run summary:</h3><br/><table class=\"wandb\"><tr><td>train/Loss</td><td>8.7816</td></tr><tr><td>val/auroc</td><td>0.49118</td></tr><tr><td>val/highest_individual_auroc</td><td>0.63425</td></tr><tr><td>val/temperature</td><td>1</td></tr></table><br/></div></div>"
      ],
      "text/plain": [
       "<IPython.core.display.HTML object>"
      ]
     },
     "metadata": {},
     "output_type": "display_data"
    },
    {
     "data": {
      "text/html": [
       " View run <strong style=\"color:#cdcd00\">splendid-sweep-31</strong> at: <a href='https://wandb.ai/tristan-schulz2001-tu-dortmund/Sweep-NeuroSAT-HARD-CONSTRAINT-AUROC/runs/3xvz2u84' target=\"_blank\">https://wandb.ai/tristan-schulz2001-tu-dortmund/Sweep-NeuroSAT-HARD-CONSTRAINT-AUROC/runs/3xvz2u84</a><br> View project at: <a href='https://wandb.ai/tristan-schulz2001-tu-dortmund/Sweep-NeuroSAT-HARD-CONSTRAINT-AUROC' target=\"_blank\">https://wandb.ai/tristan-schulz2001-tu-dortmund/Sweep-NeuroSAT-HARD-CONSTRAINT-AUROC</a><br>Synced 5 W&B file(s), 0 media file(s), 0 artifact file(s) and 0 other file(s)"
      ],
      "text/plain": [
       "<IPython.core.display.HTML object>"
      ]
     },
     "metadata": {},
     "output_type": "display_data"
    },
    {
     "data": {
      "text/html": [
       "Find logs at: <code>.\\wandb\\run-20250410_174849-3xvz2u84\\logs</code>"
      ],
      "text/plain": [
       "<IPython.core.display.HTML object>"
      ]
     },
     "metadata": {},
     "output_type": "display_data"
    },
    {
     "name": "stderr",
     "output_type": "stream",
     "text": [
      "\u001b[34m\u001b[1mwandb\u001b[0m: Agent Starting Run: g0iel8cb with config:\n",
      "\u001b[34m\u001b[1mwandb\u001b[0m: \tbce_loss: 0\n",
      "\u001b[34m\u001b[1mwandb\u001b[0m: \tconsistency_reg: 0\n",
      "\u001b[34m\u001b[1mwandb\u001b[0m: \tentropy_reg: 5\n",
      "\u001b[34m\u001b[1mwandb\u001b[0m: \tepochs: 20\n",
      "\u001b[34m\u001b[1mwandb\u001b[0m: \tlr_mlp: 3e-05\n",
      "\u001b[34m\u001b[1mwandb\u001b[0m: \tseed: 75\n",
      "\u001b[34m\u001b[1mwandb\u001b[0m: \tsize_reg: 0.01\n",
      "\u001b[34m\u001b[1mwandb\u001b[0m: \ttT: 2\n"
     ]
    },
    {
     "data": {
      "text/html": [
       "Ignoring project 'Explainer-NeuroSAT-Sweep' when running a sweep."
      ],
      "text/plain": [
       "<IPython.core.display.HTML object>"
      ]
     },
     "metadata": {},
     "output_type": "display_data"
    },
    {
     "data": {
      "text/html": [
       "Tracking run with wandb version 0.19.8"
      ],
      "text/plain": [
       "<IPython.core.display.HTML object>"
      ]
     },
     "metadata": {},
     "output_type": "display_data"
    },
    {
     "data": {
      "text/html": [
       "Run data is saved locally in <code>c:\\Users\\trist\\Git_repos\\BT-ML-PGESAT\\code\\PGExplainer NeuroSAT\\wandb\\run-20250410_180535-g0iel8cb</code>"
      ],
      "text/plain": [
       "<IPython.core.display.HTML object>"
      ]
     },
     "metadata": {},
     "output_type": "display_data"
    },
    {
     "data": {
      "text/html": [
       "Syncing run <strong><a href='https://wandb.ai/tristan-schulz2001-tu-dortmund/Sweep-NeuroSAT-HARD-CONSTRAINT-AUROC/runs/g0iel8cb' target=\"_blank\">light-sweep-32</a></strong> to <a href='https://wandb.ai/tristan-schulz2001-tu-dortmund/Sweep-NeuroSAT-HARD-CONSTRAINT-AUROC' target=\"_blank\">Weights & Biases</a> (<a href='https://wandb.me/developer-guide' target=\"_blank\">docs</a>)<br>Sweep page: <a href='https://wandb.ai/tristan-schulz2001-tu-dortmund/Sweep-NeuroSAT-HARD-CONSTRAINT-AUROC/sweeps/1kd67zlb' target=\"_blank\">https://wandb.ai/tristan-schulz2001-tu-dortmund/Sweep-NeuroSAT-HARD-CONSTRAINT-AUROC/sweeps/1kd67zlb</a>"
      ],
      "text/plain": [
       "<IPython.core.display.HTML object>"
      ]
     },
     "metadata": {},
     "output_type": "display_data"
    },
    {
     "data": {
      "text/html": [
       " View project at <a href='https://wandb.ai/tristan-schulz2001-tu-dortmund/Sweep-NeuroSAT-HARD-CONSTRAINT-AUROC' target=\"_blank\">https://wandb.ai/tristan-schulz2001-tu-dortmund/Sweep-NeuroSAT-HARD-CONSTRAINT-AUROC</a>"
      ],
      "text/plain": [
       "<IPython.core.display.HTML object>"
      ]
     },
     "metadata": {},
     "output_type": "display_data"
    },
    {
     "data": {
      "text/html": [
       " View sweep at <a href='https://wandb.ai/tristan-schulz2001-tu-dortmund/Sweep-NeuroSAT-HARD-CONSTRAINT-AUROC/sweeps/1kd67zlb' target=\"_blank\">https://wandb.ai/tristan-schulz2001-tu-dortmund/Sweep-NeuroSAT-HARD-CONSTRAINT-AUROC/sweeps/1kd67zlb</a>"
      ],
      "text/plain": [
       "<IPython.core.display.HTML object>"
      ]
     },
     "metadata": {},
     "output_type": "display_data"
    },
    {
     "data": {
      "text/html": [
       " View run at <a href='https://wandb.ai/tristan-schulz2001-tu-dortmund/Sweep-NeuroSAT-HARD-CONSTRAINT-AUROC/runs/g0iel8cb' target=\"_blank\">https://wandb.ai/tristan-schulz2001-tu-dortmund/Sweep-NeuroSAT-HARD-CONSTRAINT-AUROC/runs/g0iel8cb</a>"
      ],
      "text/plain": [
       "<IPython.core.display.HTML object>"
      ]
     },
     "metadata": {},
     "output_type": "display_data"
    },
    {
     "name": "stdout",
     "output_type": "stream",
     "text": [
      "Epoch 1, Loss: 9.786530494689941\n",
      "mean auroc score: 0.5006551146507263\n",
      "Epoch 2, Loss: 9.77003002166748\n",
      "mean auroc score: 0.497092604637146\n",
      "Epoch 3, Loss: 9.763692855834961\n",
      "mean auroc score: 0.49549561738967896\n",
      "Epoch 4, Loss: 9.747174263000488\n",
      "mean auroc score: 0.49625787138938904\n",
      "Epoch 5, Loss: 9.723962783813477\n",
      "mean auroc score: 0.4932652711868286\n",
      "Epoch 6, Loss: 9.705619812011719\n",
      "mean auroc score: 0.4906492829322815\n",
      "Epoch 7, Loss: 9.680570602416992\n",
      "mean auroc score: 0.4890878200531006\n",
      "Epoch 8, Loss: 9.654205322265625\n",
      "mean auroc score: 0.4884850084781647\n",
      "Epoch 9, Loss: 9.640008926391602\n",
      "mean auroc score: 0.48869019746780396\n",
      "Epoch 10, Loss: 9.609794616699219\n",
      "mean auroc score: 0.489568829536438\n",
      "Epoch 11, Loss: 9.564580917358398\n",
      "mean auroc score: 0.48990902304649353\n",
      "Epoch 12, Loss: 9.544339179992676\n",
      "mean auroc score: 0.4887602627277374\n",
      "Epoch 13, Loss: 9.512039184570312\n",
      "mean auroc score: 0.49063101410865784\n",
      "Epoch 14, Loss: 9.495162963867188\n",
      "mean auroc score: 0.4893478453159332\n",
      "Epoch 15, Loss: 9.431044578552246\n",
      "mean auroc score: 0.4895190894603729\n",
      "Epoch 16, Loss: 9.383296012878418\n",
      "mean auroc score: 0.48777449131011963\n",
      "Epoch 17, Loss: 9.357431411743164\n",
      "mean auroc score: 0.489185094833374\n",
      "Epoch 18, Loss: 9.300127029418945\n",
      "mean auroc score: 0.4896374046802521\n",
      "Epoch 19, Loss: 9.243680000305176\n",
      "mean auroc score: 0.4899749457836151\n",
      "Epoch 20, Loss: 9.201051712036133\n",
      "mean auroc score: 0.491529256105423\n"
     ]
    },
    {
     "data": {
      "text/html": [],
      "text/plain": [
       "<IPython.core.display.HTML object>"
      ]
     },
     "metadata": {},
     "output_type": "display_data"
    },
    {
     "data": {
      "text/html": [
       "<br>    <style><br>        .wandb-row {<br>            display: flex;<br>            flex-direction: row;<br>            flex-wrap: wrap;<br>            justify-content: flex-start;<br>            width: 100%;<br>        }<br>        .wandb-col {<br>            display: flex;<br>            flex-direction: column;<br>            flex-basis: 100%;<br>            flex: 1;<br>            padding: 10px;<br>        }<br>    </style><br><div class=\"wandb-row\"><div class=\"wandb-col\"><h3>Run history:</h3><br/><table class=\"wandb\"><tr><td>train/Loss</td><td>████▇▇▇▆▆▆▅▅▅▅▄▃▃▂▂▁</td></tr><tr><td>val/auroc</td><td>█▆▅▆▄▃▂▁▁▂▂▂▃▂▂▁▂▂▂▃</td></tr><tr><td>val/highest_individual_auroc</td><td>▁</td></tr><tr><td>val/temperature</td><td>█▇▇▆▆▆▅▅▄▄▄▃▃▃▂▂▂▁▁▁</td></tr></table><br/></div><div class=\"wandb-col\"><h3>Run summary:</h3><br/><table class=\"wandb\"><tr><td>train/Loss</td><td>9.20105</td></tr><tr><td>val/auroc</td><td>0.49153</td></tr><tr><td>val/highest_individual_auroc</td><td>0.63425</td></tr><tr><td>val/temperature</td><td>2</td></tr></table><br/></div></div>"
      ],
      "text/plain": [
       "<IPython.core.display.HTML object>"
      ]
     },
     "metadata": {},
     "output_type": "display_data"
    },
    {
     "data": {
      "text/html": [
       " View run <strong style=\"color:#cdcd00\">light-sweep-32</strong> at: <a href='https://wandb.ai/tristan-schulz2001-tu-dortmund/Sweep-NeuroSAT-HARD-CONSTRAINT-AUROC/runs/g0iel8cb' target=\"_blank\">https://wandb.ai/tristan-schulz2001-tu-dortmund/Sweep-NeuroSAT-HARD-CONSTRAINT-AUROC/runs/g0iel8cb</a><br> View project at: <a href='https://wandb.ai/tristan-schulz2001-tu-dortmund/Sweep-NeuroSAT-HARD-CONSTRAINT-AUROC' target=\"_blank\">https://wandb.ai/tristan-schulz2001-tu-dortmund/Sweep-NeuroSAT-HARD-CONSTRAINT-AUROC</a><br>Synced 5 W&B file(s), 0 media file(s), 0 artifact file(s) and 0 other file(s)"
      ],
      "text/plain": [
       "<IPython.core.display.HTML object>"
      ]
     },
     "metadata": {},
     "output_type": "display_data"
    },
    {
     "data": {
      "text/html": [
       "Find logs at: <code>.\\wandb\\run-20250410_180535-g0iel8cb\\logs</code>"
      ],
      "text/plain": [
       "<IPython.core.display.HTML object>"
      ]
     },
     "metadata": {},
     "output_type": "display_data"
    },
    {
     "name": "stderr",
     "output_type": "stream",
     "text": [
      "\u001b[34m\u001b[1mwandb\u001b[0m: Sweep Agent: Waiting for job.\n",
      "\u001b[34m\u001b[1mwandb\u001b[0m: Sweep Agent: Exiting.\n"
     ]
    }
   ],
   "source": [
    "import sweepExplainerNeuroSAT\n",
    "\n",
    "wandb.agent(sweep_id, sweepExplainerNeuroSAT.trainExplainer)"
   ]
  }
 ],
 "metadata": {
  "kernelspec": {
   "display_name": "NeuroSAT",
   "language": "python",
   "name": "python3"
  },
  "language_info": {
   "codemirror_mode": {
    "name": "ipython",
    "version": 3
   },
   "file_extension": ".py",
   "mimetype": "text/x-python",
   "name": "python",
   "nbconvert_exporter": "python",
   "pygments_lexer": "ipython3",
   "version": "3.12.3"
  }
 },
 "nbformat": 4,
 "nbformat_minor": 2
}
